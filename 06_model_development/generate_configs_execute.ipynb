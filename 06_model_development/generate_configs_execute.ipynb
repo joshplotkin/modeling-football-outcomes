{
 "cells": [
  {
   "cell_type": "markdown",
   "metadata": {},
   "source": [
    "## Boilerplate"
   ]
  },
  {
   "cell_type": "code",
   "execution_count": 1,
   "metadata": {
    "ExecuteTime": {
     "end_time": "2019-05-23T04:01:17.858696Z",
     "start_time": "2019-05-23T04:01:11.690235Z"
    }
   },
   "outputs": [
    {
     "data": {
      "text/html": [
       "<style>.container {width:90% !important;}</style>"
      ],
      "text/plain": [
       "<IPython.core.display.HTML object>"
      ]
     },
     "metadata": {},
     "output_type": "display_data"
    }
   ],
   "source": [
    "%run ../config/initialize.ipynb\n",
    "\n",
    "import json\n",
    "import shutil"
   ]
  },
  {
   "cell_type": "code",
   "execution_count": 2,
   "metadata": {
    "ExecuteTime": {
     "end_time": "2019-05-23T04:01:17.913001Z",
     "start_time": "2019-05-23T04:01:17.860580Z"
    }
   },
   "outputs": [],
   "source": [
    "%load_ext autoreload\n",
    "%autoreload 2"
   ]
  },
  {
   "cell_type": "markdown",
   "metadata": {},
   "source": [
    "## TODO\n",
    "* how to generalize to regression problems?\n",
    "  * easier to create a separate process?\n",
    "  \n",
    "### Modeling ideas\n",
    "* different labels (regression?)\n",
    "* hyperparam tuning\n",
    "* model selection\n",
    "* feature/team combinations, e.g. H-A DVOA\n",
    "* narrow down to certain weeks"
   ]
  },
  {
   "cell_type": "markdown",
   "metadata": {},
   "source": [
    "## Model Prep"
   ]
  },
  {
   "cell_type": "code",
   "execution_count": 3,
   "metadata": {
    "ExecuteTime": {
     "end_time": "2019-05-22T04:04:08.970653Z",
     "start_time": "2019-05-22T04:04:08.938881Z"
    }
   },
   "outputs": [],
   "source": [
    "# os.chdir('../modeling-football-outcomes/05_feature_engineering/')\n",
    "# %run 00_plan_and_ideas.ipynb\n",
    "# os.chdir('../modeling-football-outcomes/05_feature_engineering/')\n",
    "# %run 01_time_date.ipynb\n",
    "# os.chdir('../modeling-football-outcomes/05_feature_engineering/')\n",
    "# %run 02_teams.ipynb\n",
    "# os.chdir('../modeling-football-outcomes/05_feature_engineering/')\n",
    "# %run 03_matchup.ipynb\n",
    "# os.chdir('../modeling-football-outcomes/05_feature_engineering/')\n",
    "# %run 04_travel.ipynb\n",
    "# os.chdir('../modeling-football-outcomes/05_feature_engineering/')\n",
    "# %run 05_homeaway.ipynb\n",
    "# os.chdir('../modeling-football-outcomes/05_feature_engineering/')\n",
    "# %run 06_weather.ipynb\n",
    "# os.chdir('../modeling-football-outcomes/05_feature_engineering/')\n",
    "# %run 07_line.ipynb\n",
    "# os.chdir('../modeling-football-outcomes/05_feature_engineering/')\n",
    "# %run 08_rankings.ipynb\n",
    "# os.chdir('../modeling-football-outcomes/05_feature_engineering/')\n",
    "# %run combine_features.ipynb"
   ]
  },
  {
   "cell_type": "code",
   "execution_count": 4,
   "metadata": {
    "ExecuteTime": {
     "end_time": "2019-05-22T04:04:09.175129Z",
     "start_time": "2019-05-22T04:04:09.139044Z"
    }
   },
   "outputs": [],
   "source": [
    "# ## SPREAD\n",
    "# ranks = spark.table('dvoa').select(\n",
    "#         'team_id','season','week_id','dave_or_wtddvoa',\n",
    "#         'offensedvoa','defensedvoa','s_t_dvoa'\n",
    "#     ).cache()\n",
    "\n",
    "# game_feats = spark.table('labels.team_game_line_labels').select(\n",
    "#         'game_id','season','week_id','team_id','is_home'\n",
    "#     ).cache()\n",
    "\n",
    "# features = game_feats.join(\n",
    "#         ranks, on=['team_id','season','week_id']\n",
    "#     ).fillna(-99999)\n",
    "# labels = spark.table('labels.team_game_line_labels').select(\n",
    "#     ## index\n",
    "#     'game_id','team_id',\n",
    "#     ## strata\n",
    "#     'is_home','is_fav_sbr',\n",
    "#     ## labels\n",
    "#     'did_win','final_margin','did_cover_pfr',\n",
    "#     'did_cover_sbr','did_cover_sbr_open'\n",
    "# )\n",
    "\n",
    "# assert features.count() == labels.count()\n",
    "\n",
    "# features.write.mode('overwrite').saveAsTable('features.190320_test')\n",
    "# labels.write.mode('overwrite').saveAsTable('labels.190320_test')\n",
    "\n",
    "# ## OVER/UNDER\n",
    "# features = spark.table('labels.over_under_labels').select(\n",
    "#         'game_id','season','week_id', 'sbr_ou'\n",
    "#     ).fillna(-99999).cache()\n",
    "\n",
    "# labels = spark.table('labels.over_under_labels').select(\n",
    "#     ## index\n",
    "#     'game_id',\n",
    "#     ## strata\n",
    "#     ## label\n",
    "#     'is_sbr_ou_over'\n",
    "# )\n",
    "\n",
    "# assert features.count() == labels.count()\n",
    "\n",
    "# features.write.mode('overwrite').saveAsTable('features.190320_ou_test')\n",
    "# labels.write.mode('overwrite').saveAsTable('labels.190320_ou_test')"
   ]
  },
  {
   "cell_type": "markdown",
   "metadata": {},
   "source": [
    "## Set root dir path"
   ]
  },
  {
   "cell_type": "code",
   "execution_count": 5,
   "metadata": {
    "ExecuteTime": {
     "end_time": "2019-05-22T04:04:09.748074Z",
     "start_time": "2019-05-22T04:04:09.715076Z"
    },
    "run_control": {
     "marked": true
    }
   },
   "outputs": [],
   "source": [
    "ROOT='/Users/joshplotkin/Dropbox/data_science/'\\\n",
    "    'modeling-football-outcomes/models'\n",
    "os.chdir(ROOT)"
   ]
  },
  {
   "cell_type": "markdown",
   "metadata": {},
   "source": [
    "## Initialize\n",
    "* set model ID\n",
    "* remove this model ID's directory if it exists\n",
    "* create directory"
   ]
  },
  {
   "cell_type": "code",
   "execution_count": 6,
   "metadata": {
    "ExecuteTime": {
     "end_time": "2019-05-22T04:04:10.224357Z",
     "start_time": "2019-05-22T04:04:10.190299Z"
    }
   },
   "outputs": [
    {
     "ename": "SyntaxError",
     "evalue": "invalid syntax (<ipython-input-6-a07b125f70e4>, line 4)",
     "output_type": "error",
     "traceback": [
      "\u001b[0;36m  File \u001b[0;32m\"<ipython-input-6-a07b125f70e4>\"\u001b[0;36m, line \u001b[0;32m4\u001b[0m\n\u001b[0;31m    print 'Directory models/{} **EXISTS**'.format(MODEL_ID)\u001b[0m\n\u001b[0m                                         ^\u001b[0m\n\u001b[0;31mSyntaxError\u001b[0m\u001b[0;31m:\u001b[0m invalid syntax\n"
     ]
    }
   ],
   "source": [
    "MODEL_ID = '0320_with_rankings_winner_20feats_noml'\n",
    "\n",
    "if os.path.exists(MODEL_ID):\n",
    "    print 'Directory models/{} **EXISTS**'.format(MODEL_ID)    \n",
    "else:\n",
    "    print 'Directory models/{} **DOES NOT EXIST**'.format(MODEL_ID)    "
   ]
  },
  {
   "cell_type": "code",
   "execution_count": 6,
   "metadata": {
    "ExecuteTime": {
     "end_time": "2019-05-22T03:26:14.686344Z",
     "start_time": "2019-05-22T03:26:14.679867Z"
    }
   },
   "outputs": [],
   "source": [
    "## wipe out existing directory\n",
    "if os.path.exists(MODEL_ID):\n",
    "    shutil.rmtree(MODEL_ID)\n",
    "os.mkdir(MODEL_ID)"
   ]
  },
  {
   "cell_type": "markdown",
   "metadata": {},
   "source": [
    "## Generate dictionary version of model.json"
   ]
  },
  {
   "cell_type": "code",
   "execution_count": 7,
   "metadata": {
    "ExecuteTime": {
     "end_time": "2019-05-22T03:26:14.695644Z",
     "start_time": "2019-05-22T03:26:14.690736Z"
    }
   },
   "outputs": [],
   "source": [
    "model_dict = {'model_id': MODEL_ID}"
   ]
  },
  {
   "cell_type": "markdown",
   "metadata": {},
   "source": [
    "### Source data for model"
   ]
  },
  {
   "cell_type": "markdown",
   "metadata": {},
   "source": [
    "#### Hive Tables\n",
    "* features\n",
    "* tables"
   ]
  },
  {
   "cell_type": "code",
   "execution_count": 8,
   "metadata": {
    "ExecuteTime": {
     "end_time": "2019-05-22T03:26:14.932124Z",
     "start_time": "2019-05-22T03:26:14.701443Z"
    }
   },
   "outputs": [
    {
     "data": {
      "text/html": [
       "<div>\n",
       "<style scoped>\n",
       "    .dataframe tbody tr th:only-of-type {\n",
       "        vertical-align: middle;\n",
       "    }\n",
       "\n",
       "    .dataframe tbody tr th {\n",
       "        vertical-align: top;\n",
       "    }\n",
       "\n",
       "    .dataframe thead th {\n",
       "        text-align: right;\n",
       "    }\n",
       "</style>\n",
       "<table border=\"1\" class=\"dataframe\">\n",
       "  <thead>\n",
       "    <tr style=\"text-align: right;\">\n",
       "      <th></th>\n",
       "      <th>database</th>\n",
       "      <th>tableName</th>\n",
       "      <th>isTemporary</th>\n",
       "    </tr>\n",
       "  </thead>\n",
       "  <tbody>\n",
       "    <tr>\n",
       "      <th>0</th>\n",
       "      <td>features</td>\n",
       "      <td>190320_ou_test</td>\n",
       "      <td>False</td>\n",
       "    </tr>\n",
       "    <tr>\n",
       "      <th>1</th>\n",
       "      <td>features</td>\n",
       "      <td>190320_test</td>\n",
       "      <td>False</td>\n",
       "    </tr>\n",
       "    <tr>\n",
       "      <th>2</th>\n",
       "      <td>features</td>\n",
       "      <td>combined_0127</td>\n",
       "      <td>False</td>\n",
       "    </tr>\n",
       "    <tr>\n",
       "      <th>3</th>\n",
       "      <td>features</td>\n",
       "      <td>combined_0320</td>\n",
       "      <td>False</td>\n",
       "    </tr>\n",
       "    <tr>\n",
       "      <th>4</th>\n",
       "      <td>features</td>\n",
       "      <td>home_field</td>\n",
       "      <td>False</td>\n",
       "    </tr>\n",
       "    <tr>\n",
       "      <th>5</th>\n",
       "      <td>features</td>\n",
       "      <td>line</td>\n",
       "      <td>False</td>\n",
       "    </tr>\n",
       "    <tr>\n",
       "      <th>6</th>\n",
       "      <td>features</td>\n",
       "      <td>matchup</td>\n",
       "      <td>False</td>\n",
       "    </tr>\n",
       "    <tr>\n",
       "      <th>7</th>\n",
       "      <td>features</td>\n",
       "      <td>rankings</td>\n",
       "      <td>False</td>\n",
       "    </tr>\n",
       "    <tr>\n",
       "      <th>8</th>\n",
       "      <td>features</td>\n",
       "      <td>team_history</td>\n",
       "      <td>False</td>\n",
       "    </tr>\n",
       "    <tr>\n",
       "      <th>9</th>\n",
       "      <td>features</td>\n",
       "      <td>time_date</td>\n",
       "      <td>False</td>\n",
       "    </tr>\n",
       "    <tr>\n",
       "      <th>10</th>\n",
       "      <td>features</td>\n",
       "      <td>travel</td>\n",
       "      <td>False</td>\n",
       "    </tr>\n",
       "    <tr>\n",
       "      <th>11</th>\n",
       "      <td>features</td>\n",
       "      <td>weather</td>\n",
       "      <td>False</td>\n",
       "    </tr>\n",
       "  </tbody>\n",
       "</table>\n",
       "</div>"
      ],
      "text/plain": [
       "    database       tableName  isTemporary\n",
       "0   features  190320_ou_test        False\n",
       "1   features     190320_test        False\n",
       "2   features   combined_0127        False\n",
       "3   features   combined_0320        False\n",
       "4   features      home_field        False\n",
       "5   features            line        False\n",
       "6   features         matchup        False\n",
       "7   features        rankings        False\n",
       "8   features    team_history        False\n",
       "9   features       time_date        False\n",
       "10  features          travel        False\n",
       "11  features         weather        False"
      ]
     },
     "execution_count": 8,
     "metadata": {},
     "output_type": "execute_result"
    }
   ],
   "source": [
    "spark.sql('show tables in features').toPandas()"
   ]
  },
  {
   "cell_type": "code",
   "execution_count": 9,
   "metadata": {
    "ExecuteTime": {
     "end_time": "2019-05-22T03:26:14.943118Z",
     "start_time": "2019-05-22T03:26:14.937373Z"
    }
   },
   "outputs": [],
   "source": [
    "model_dict['features_tbl'] = 'features.combined_0320'\n",
    "model_dict['labels_tbl'] = 'labels.combined_0320'"
   ]
  },
  {
   "cell_type": "markdown",
   "metadata": {},
   "source": [
    "#### Columns from Hive tables\n",
    "* index: unique identifier in features/labels table (must be in both)\n",
    "* label column, and indicator of what is a positive label\n",
    "  * currently not supported: multi-class\n",
    "  * code will binarize\n",
    "* list of features"
   ]
  },
  {
   "cell_type": "code",
   "execution_count": 10,
   "metadata": {
    "ExecuteTime": {
     "end_time": "2019-05-22T03:26:14.960797Z",
     "start_time": "2019-05-22T03:26:14.948094Z"
    }
   },
   "outputs": [],
   "source": [
    "model_dict['index'] = ['game_id']\n",
    "model_dict['label_col'] = 'did_win'\n",
    "model_dict['pos_labels'] = [1]\n",
    "model_dict['neg_labels'] = [-1]\n",
    "model_dict['features_list'] = ['rankings___h__estim_winrate',\n",
    " 'rankings___v__offensedvoa',\n",
    " 'rankings___h__dave_or_wtddvoa',\n",
    " 'travel___v_travel_from_last_game_decay',\n",
    " 'rankings___h__offensedvoa',\n",
    " 'rankings___v__dave_or_wtddvoa',\n",
    " 'rankings___h__s_t_dvoa',\n",
    " 'rankings___v__s_t_dvoa',\n",
    " 'travel___h_travel_from_last_game_decay',\n",
    " 'rankings___v__defensedvoa',\n",
    " 'rankings___v__estim_winrate',\n",
    " 'team_history___v_ovr_wr_past_3_seasons',\n",
    " 'rankings___h__defensedvoa',\n",
    " 'team_history___h_ovr_wr_past_3_seasons',\n",
    " 'weather___wind_chill',\n",
    " 'home_field___v_visitor__ovr_wr_ytd',\n",
    " 'home_field___v_visitor__ovr_wr_last_8_games',\n",
    " 'weather___wind_mph',\n",
    " 'weather___humidity_pct',\n",
    " 'team_history___h_ovr_wr_ytd']\n",
    "\n",
    "model_dict['features_list'].sort()"
   ]
  },
  {
   "cell_type": "markdown",
   "metadata": {},
   "source": [
    "#### Checks"
   ]
  },
  {
   "cell_type": "code",
   "execution_count": 11,
   "metadata": {
    "ExecuteTime": {
     "end_time": "2019-05-22T03:26:19.342407Z",
     "start_time": "2019-05-22T03:26:14.965662Z"
    }
   },
   "outputs": [],
   "source": [
    "## assert these fields are of the correct type\n",
    "assert type(model_dict['index']) is list\n",
    "assert type(model_dict['label_col']) is str\n",
    "assert type(model_dict['features_tbl']) is str\n",
    "assert type(model_dict['features_tbl']) is str\n",
    "assert type(model_dict['features_list']) is list\n",
    "assert type(model_dict['pos_labels']) is list\n",
    "\n",
    "## assert format is schema.table and that\n",
    "## table exists in hive\n",
    "for tbl_str in ['features_tbl','features_tbl']:\n",
    "    schema_and_tbl = model_dict[tbl_str].split('.')\n",
    "    assert len(schema_and_tbl) == 2\n",
    "    schema, tbl = schema_and_tbl\n",
    "    assert spark.sql(\n",
    "            'show tables in {}'.format(schema)\n",
    "        ).filter(\n",
    "            col('tableName') == tbl\n",
    "        ).count() == 1\n",
    "\n",
    "feat_cols_set = set(spark.table(model_dict['features_tbl']).columns)\n",
    "label_cols_set = set(spark.table(model_dict['labels_tbl']).columns)\n",
    "idx_set = set(model_dict['index'])\n",
    "feat_set = set(model_dict['features_list'])\n",
    "label_set = set([model_dict['label_col']])\n",
    "\n",
    "## assert the chosen columns exist in the\n",
    "## chosen tables\n",
    "assert not idx_set - feat_cols_set\n",
    "assert not idx_set - label_cols_set\n",
    "assert not feat_set - feat_cols_set\n",
    "assert not label_set - label_cols_set\n",
    "\n",
    "## check that positive and negative label values \n",
    "## are valid\n",
    "for label_val in ['pos_labels','neg_labels']:\n",
    "    assert spark.table(\n",
    "            model_dict['labels_tbl']\n",
    "        ).filter(\n",
    "            col(model_dict['label_col']).isin(model_dict[label_val])\n",
    "        ).count() > 0\n",
    "    \n",
    "## assert that labels and features share identical index\n",
    "a = spark.table(model_dict['features_tbl']).count()\n",
    "b = spark.table(model_dict['labels_tbl']).count()\n",
    "c = spark.table(model_dict['features_tbl']).join(\n",
    "    spark.table(model_dict['labels_tbl']),\n",
    "    on=model_dict['index']\n",
    ").count()\n",
    "assert a == b\n",
    "assert a == c"
   ]
  },
  {
   "cell_type": "markdown",
   "metadata": {},
   "source": [
    "### Cross-Validation Sets\n",
    "* random seeds for reproducibility\n",
    "* number of folds for cross-validation (value of <= 1 doesn't do k-fold\n",
    "* global_dataset_proportions\n",
    " * proportion of the data for each of training, scoring only, holdout, and throwaway\n",
    " * generated using stratified sampling\n",
    "* dimensional_dataset_proportions\n",
    " * post-processing after global_dataset_proportions\n",
    " * idea is to move specific field values, e.g. move certain seasons to the holdout set"
   ]
  },
  {
   "cell_type": "markdown",
   "metadata": {},
   "source": [
    "#### Optional: use cross-validation data from another model"
   ]
  },
  {
   "cell_type": "code",
   "execution_count": 12,
   "metadata": {
    "ExecuteTime": {
     "end_time": "2019-05-22T03:26:19.351835Z",
     "start_time": "2019-05-22T03:26:19.346699Z"
    }
   },
   "outputs": [],
   "source": [
    "model_dict['model_cv_to_use'] = None"
   ]
  },
  {
   "cell_type": "markdown",
   "metadata": {},
   "source": [
    "#### CV parameters, when not using another model CV"
   ]
  },
  {
   "cell_type": "markdown",
   "metadata": {},
   "source": [
    "#### Sample usage for Dimensional Dataset Proportions"
   ]
  },
  {
   "cell_type": "markdown",
   "metadata": {
    "ExecuteTime": {
     "end_time": "2019-02-28T23:45:00.946875Z",
     "start_time": "2019-02-28T23:45:00.932060Z"
    }
   },
   "source": [
    "```python\n",
    "model_dict['dimensional_dataset_proportions'] = {\n",
    "        'throw_away': [\n",
    "            {\n",
    "                'vals': [\n",
    "                    0\n",
    "                ], \n",
    "                'dim': 'is_home',\n",
    "                'prop_to_move': 1.0, \n",
    "                'from_groups': [\n",
    "                    'in_training',\n",
    "                    'holdout',\n",
    "                    'scoring_only'\n",
    "                ]\n",
    "            }\n",
    "        ]\n",
    "    }\n",
    "```"
   ]
  },
  {
   "cell_type": "code",
   "execution_count": 13,
   "metadata": {
    "ExecuteTime": {
     "end_time": "2019-05-22T03:26:19.383589Z",
     "start_time": "2019-05-22T03:26:19.356849Z"
    }
   },
   "outputs": [],
   "source": [
    "model_dict['kfold_seed'] = 99\n",
    "model_dict['dataset_seed'] = 9\n",
    "model_dict['kfolds'] = 5\n",
    "model_dict['strata_cols'] = ['did_cover_sbr','week_id']\n",
    "model_dict['holdout_set'] = {\n",
    "    'store_to_disk': False,\n",
    "    'score_using_full_model': False \n",
    "}\n",
    "\n",
    "model_dict['global_dataset_proportions'] = {\n",
    "        'in_training': 1.,\n",
    "        'holdout': 0,\n",
    "        'throw_away': 0,\n",
    "        'scoring_only': 0\n",
    "    }\n",
    "\n",
    "# DEFAULT: model_dict['dimensional_dataset_proportions'] = {}\n",
    "model_dict['dimensional_dataset_proportions'] = {\n",
    "        'throw_away': [\n",
    "            {\n",
    "                'vals': [\n",
    "                    1, 2, 3, 4, 17, 18, 19, 20, 21, 22\n",
    "                ], \n",
    "                'dim': 'week_id',\n",
    "                'prop_to_move': 1.0, \n",
    "                'from_groups': [\n",
    "                    'in_training',\n",
    "                    'holdout',\n",
    "                    'scoring_only'\n",
    "                ]\n",
    "            }\n",
    "        ]\n",
    "    }\n",
    "\n"
   ]
  },
  {
   "cell_type": "markdown",
   "metadata": {},
   "source": [
    "#### Checks"
   ]
  },
  {
   "cell_type": "code",
   "execution_count": 14,
   "metadata": {
    "ExecuteTime": {
     "end_time": "2019-05-22T03:26:19.436168Z",
     "start_time": "2019-05-22T03:26:19.389545Z"
    }
   },
   "outputs": [],
   "source": [
    "if model_dict['model_cv_to_use']:\n",
    "    assert type(model_dict['model_cv_to_use']) in [str, unicode]\n",
    "    assert os.path.exists(model_dict['model_cv_to_use'])\n",
    "else:\n",
    "    ## assert the data structures/types are correct\n",
    "    assert type(model_dict['kfold_seed']) is int\n",
    "    assert type(model_dict['dataset_seed']) is int\n",
    "    assert type(model_dict['kfolds']) is int\n",
    "    assert type(model_dict['strata_cols']) is list\n",
    "    assert type(model_dict['global_dataset_proportions']) is dict\n",
    "    assert type(model_dict['dimensional_dataset_proportions']) is dict\n",
    "    assert type(model_dict['holdout_set']) is dict\n",
    "\n",
    "    ## assert strata cols are present in the labels table\n",
    "    assert not set(model_dict['strata_cols']) - label_cols_set\n",
    "\n",
    "    dataset_types = set(['in_training','holdout','throw_away','scoring_only'])\n",
    "    global_datasets = model_dict['global_dataset_proportions']\n",
    "    dim_datasets = model_dict['dimensional_dataset_proportions']\n",
    "\n",
    "    ## assert global_dataset_proportions has all possible dataset types\n",
    "    assert set(global_datasets.keys()) == dataset_types\n",
    "    ## values are proportions that must sum to 1\n",
    "    assert sum(global_datasets.values()) == 1\n",
    "    ## assert that the keys are valid dataset types\n",
    "    assert not set(dim_datasets.keys()) - dataset_types\n",
    "    ## assert the following (in order of assertion block):\n",
    "    ## (1) each value is a list\n",
    "    ## (2) each element of the list is a dict\n",
    "    ## (3) each dict has the 5 required keys\n",
    "    ## (4) the \"dim\" field is in the strata columns \n",
    "    ## (5) \"prop_to_move\" field is [0, 1]\n",
    "    ## (6) \"from_groups\" are in the possible dataset types\n",
    "    for k, dim_list in dim_datasets.iteritems():\n",
    "        assert (type(dim_list)) is list\n",
    "        for entry in dim_list:\n",
    "            assert type(entry) is dict\n",
    "            assert set(entry.keys()) \\\n",
    "                    == set(['vals','dim','prop_to_move','from_groups'])\n",
    "            assert entry['dim'] in model_dict['strata_cols']\n",
    "            assert 0 <= entry['prop_to_move'] <= 1\n",
    "            assert not set(entry['from_groups']) - dataset_types\n",
    "\n",
    "    ## assert holdout set has 2 keys (store_to_disk, score_using_full_model)\n",
    "    ## and the corresponding values are boolean\n",
    "    assert set(model_dict['holdout_set'].keys()) \\\n",
    "            == set(['store_to_disk','score_using_full_model'])\n",
    "    assert len(filter(\n",
    "        lambda x: type(x) is not bool, \n",
    "        model_dict['holdout_set'].values()\n",
    "    )) == 0\n",
    "    ## if holdout data isn't stored, it can't be scored\n",
    "    assert not (model_dict['holdout_set']['store_to_disk'] is False) \\\n",
    "                & (model_dict['holdout_set']['score_using_full_model'] is True)"
   ]
  },
  {
   "cell_type": "markdown",
   "metadata": {},
   "source": [
    "### Model Choice\n",
    "* package/class name as a string\n",
    "* parameters as a dictionary"
   ]
  },
  {
   "cell_type": "markdown",
   "metadata": {},
   "source": [
    "#### sklearn basic"
   ]
  },
  {
   "cell_type": "code",
   "execution_count": 15,
   "metadata": {
    "ExecuteTime": {
     "end_time": "2019-05-22T03:26:19.451410Z",
     "start_time": "2019-05-22T03:26:19.443040Z"
    }
   },
   "outputs": [],
   "source": [
    "model_dict['model'] = 'sklearn.ensemble.GradientBoostingClassifier'\n",
    "model_dict['model_params'] = {\n",
    "    'learning_rate': 0.1, \n",
    "    'n_estimators': 200, \n",
    "    'max_features': 'auto', \n",
    "    'subsample': 0.9, \n",
    "    'random_state': 9, \n",
    "    'max_depth': 12, \n",
    "}"
   ]
  },
  {
   "cell_type": "markdown",
   "metadata": {},
   "source": [
    "#### xgboost basic"
   ]
  },
  {
   "cell_type": "code",
   "execution_count": 16,
   "metadata": {
    "ExecuteTime": {
     "end_time": "2019-05-22T03:26:19.468695Z",
     "start_time": "2019-05-22T03:26:19.457513Z"
    }
   },
   "outputs": [],
   "source": [
    "model_dict['model'] = 'xgboost.XGBClassifier'\n",
    "model_dict['model_params'] = {\n",
    "        'n_jobs': 1, \n",
    "        'learning_rate': 0.1, \n",
    "        'n_estimators': 100, \n",
    "        'max_features': 'auto', \n",
    "        'booster': 'gbtree', \n",
    "        'silent': True, \n",
    "        'nthread': None, \n",
    "        'subsample': 0.5, \n",
    "        'random_state': 9, \n",
    "        'objective': 'binary:logistic', \n",
    "        'max_depth': 6, \n",
    "        'gamma': 0\n",
    "    }"
   ]
  },
  {
   "cell_type": "markdown",
   "metadata": {},
   "source": [
    "#### Checks"
   ]
  },
  {
   "cell_type": "code",
   "execution_count": 17,
   "metadata": {
    "ExecuteTime": {
     "end_time": "2019-05-22T03:26:20.463883Z",
     "start_time": "2019-05-22T03:26:19.474399Z"
    }
   },
   "outputs": [],
   "source": [
    "## test that model object can be created\n",
    "## from model inputs\n",
    "try:\n",
    "    import importlib\n",
    "\n",
    "    model_class_str = model_dict['model']\n",
    "    model_obj_path = '.'.join(model_class_str.split('.')[:-1])\n",
    "    model_name = model_class_str.split('.')[-1]\n",
    "    model_package = importlib.import_module(model_obj_path)\n",
    "    model_class = getattr(model_package, model_name)\n",
    "    _ = model_class(**model_dict['model_params'])\n",
    "except Exception as e:\n",
    "    e"
   ]
  },
  {
   "cell_type": "markdown",
   "metadata": {},
   "source": [
    "### Write out model.json file"
   ]
  },
  {
   "cell_type": "code",
   "execution_count": 18,
   "metadata": {
    "ExecuteTime": {
     "end_time": "2019-05-22T03:26:20.477068Z",
     "start_time": "2019-05-22T03:26:20.469070Z"
    }
   },
   "outputs": [],
   "source": [
    "model_json_path = '{}/model.json'.format(model_dict['model_id'])\n",
    "assert os.path.exists(model_dict['model_id'])\n",
    "assert not os.path.exists(model_json_path)\n",
    "\n",
    "with open(model_json_path,'w') as w:\n",
    "    json.dump(model_dict, w, indent=4)"
   ]
  },
  {
   "cell_type": "markdown",
   "metadata": {},
   "source": [
    "## Generate dictionary version of plots.json"
   ]
  },
  {
   "cell_type": "code",
   "execution_count": 19,
   "metadata": {
    "ExecuteTime": {
     "end_time": "2019-05-22T03:26:20.486977Z",
     "start_time": "2019-05-22T03:26:20.482057Z"
    }
   },
   "outputs": [],
   "source": [
    "plots_dict = {'model_id': MODEL_ID}"
   ]
  },
  {
   "cell_type": "markdown",
   "metadata": {},
   "source": [
    "### Plot Labels\n",
    "* labels --> names (note: keys should be strings)\n",
    "* name for success rate"
   ]
  },
  {
   "cell_type": "code",
   "execution_count": 20,
   "metadata": {
    "ExecuteTime": {
     "end_time": "2019-05-22T03:26:20.497521Z",
     "start_time": "2019-05-22T03:26:20.492110Z"
    }
   },
   "outputs": [],
   "source": [
    "plots_dict['label_map'] = {\n",
    "    '1': 'Won',\n",
    "    '0': 'Lost'\n",
    "}\n",
    "plots_dict['success_name'] = 'Win Rate'"
   ]
  },
  {
   "cell_type": "markdown",
   "metadata": {},
   "source": [
    "#### Checks"
   ]
  },
  {
   "cell_type": "code",
   "execution_count": 21,
   "metadata": {
    "ExecuteTime": {
     "end_time": "2019-05-22T03:26:20.510591Z",
     "start_time": "2019-05-22T03:26:20.503194Z"
    }
   },
   "outputs": [],
   "source": [
    "assert type(plots_dict['label_map']) is dict\n",
    "assert type(plots_dict['success_name']) is str\n",
    "assert set(plots_dict['label_map'].keys()) == set(['0','1'])"
   ]
  },
  {
   "cell_type": "markdown",
   "metadata": {},
   "source": [
    "### Bins to plot\n",
    "* plot_bins: \n",
    "   * Number of bins to plot (i.e. number of bars on the bar chart)\n",
    "* bin_types:\n",
    "   * \"Bin\" puts scores into uniform bins, e.g. [0, 0.10], (0.10, 0.20], ..., (0.9, 1.0]\n",
    "   * \"Percentile\" bins scores into ntiles determined by plot_bins"
   ]
  },
  {
   "cell_type": "code",
   "execution_count": 22,
   "metadata": {
    "ExecuteTime": {
     "end_time": "2019-05-22T03:26:20.520801Z",
     "start_time": "2019-05-22T03:26:20.515382Z"
    }
   },
   "outputs": [],
   "source": [
    "plots_dict['bin_types'] = ['Bin', 'Percentile']\n",
    "plots_dict['plot_bins'] = [10, 100]"
   ]
  },
  {
   "cell_type": "markdown",
   "metadata": {},
   "source": [
    "#### Checks"
   ]
  },
  {
   "cell_type": "code",
   "execution_count": 23,
   "metadata": {
    "ExecuteTime": {
     "end_time": "2019-05-22T03:26:20.533029Z",
     "start_time": "2019-05-22T03:26:20.525713Z"
    }
   },
   "outputs": [],
   "source": [
    "## currently only supports \"Bin\" and \"Percentile\"\n",
    "assert not set(plots_dict['bin_types']) - set(['Bin','Percentile'])\n",
    "## all plot bins values should be ints\n",
    "assert plots_dict['plot_bins'] == map(int, plots_dict['plot_bins'])\n",
    "## ensure all bins values are in [2, 1000]\n",
    "assert filter(\n",
    "        lambda x: 2 <= x <= 1000, plots_dict['plot_bins']\n",
    "    )   == plots_dict['plot_bins']"
   ]
  },
  {
   "cell_type": "markdown",
   "metadata": {
    "ExecuteTime": {
     "end_time": "2019-01-14T05:11:29.935287Z",
     "start_time": "2019-01-14T05:11:29.928839Z"
    }
   },
   "source": [
    "### Threshold Metrics to Plot\n",
    "* metrics evaluated at each of 100 score threshold points\n",
    "* currently only supports Accuracy and F1"
   ]
  },
  {
   "cell_type": "code",
   "execution_count": 24,
   "metadata": {
    "ExecuteTime": {
     "end_time": "2019-05-22T03:26:20.543647Z",
     "start_time": "2019-05-22T03:26:20.538221Z"
    }
   },
   "outputs": [],
   "source": [
    "plots_dict['threshold_metrics'] = ['Accuracy','F1']"
   ]
  },
  {
   "cell_type": "markdown",
   "metadata": {},
   "source": [
    "#### Checks"
   ]
  },
  {
   "cell_type": "code",
   "execution_count": 25,
   "metadata": {
    "ExecuteTime": {
     "end_time": "2019-05-22T03:26:20.554809Z",
     "start_time": "2019-05-22T03:26:20.548874Z"
    }
   },
   "outputs": [],
   "source": [
    "assert type(plots_dict['threshold_metrics']) is list\n",
    "## currently only supports Accuracy and F1\n",
    "assert not set(plots_dict['threshold_metrics']) - set(['Accuracy','F1'])"
   ]
  },
  {
   "cell_type": "markdown",
   "metadata": {
    "ExecuteTime": {
     "end_time": "2019-01-14T17:15:57.428617Z",
     "start_time": "2019-01-14T17:15:57.423675Z"
    }
   },
   "source": [
    "### Write out plots.json"
   ]
  },
  {
   "cell_type": "code",
   "execution_count": 26,
   "metadata": {
    "ExecuteTime": {
     "end_time": "2019-05-22T03:26:20.565560Z",
     "start_time": "2019-05-22T03:26:20.558642Z"
    }
   },
   "outputs": [],
   "source": [
    "plots_json_path = '{}/plots.json'.format(model_dict['model_id'])\n",
    "assert not os.path.exists(plots_json_path)\n",
    "\n",
    "with open(plots_json_path,'w') as w:\n",
    "    json.dump(plots_dict, w, indent=4)"
   ]
  },
  {
   "cell_type": "markdown",
   "metadata": {},
   "source": [
    "## Execute pipeline"
   ]
  },
  {
   "cell_type": "code",
   "execution_count": 27,
   "metadata": {
    "ExecuteTime": {
     "end_time": "2019-05-22T03:27:07.848147Z",
     "start_time": "2019-05-22T03:26:20.570477Z"
    },
    "run_control": {
     "marked": false
    },
    "scrolled": true
   },
   "outputs": [
    {
     "data": {
      "text/plain": [
       "'0320_with_rankings_winner_20feats_noml'"
      ]
     },
     "execution_count": 27,
     "metadata": {},
     "output_type": "execute_result"
    },
    {
     "name": "stdout",
     "output_type": "stream",
     "text": [
      "Check JSON files\n",
      "\n",
      "real\t0m15.191s\n",
      "user\t0m35.433s\n",
      "sys\t0m2.689s\n",
      "\n",
      "Cross-validation data\n",
      "\n",
      "real\t0m25.279s\n",
      "user\t1m33.174s\n",
      "sys\t0m9.026s\n",
      "\n",
      "Train and score\n",
      "\n",
      "real\t0m2.283s\n",
      "user\t0m1.351s\n",
      "sys\t0m0.918s\n",
      "\n",
      "Evaluate and plot\n",
      "\n",
      "real\t0m1.358s\n",
      "user\t0m0.942s\n",
      "sys\t0m0.394s\n"
     ]
    }
   ],
   "source": [
    "MODEL_ID\n",
    "!source ~/.bashrc && \\\n",
    "    unset PYSPARK_PYTHON && \\\n",
    "    unset PYSPARK_DRIVER_PYTHON && \\\n",
    "    unset PYSPARK_DRIVER_PYTHON_OPTS && \\\n",
    "    cd /Users/joshplotkin/Dropbox/data_science/modeling-football-outcomes/ && \\\n",
    "    model_pipeline/model_pipeline.sh {MODEL_ID}"
   ]
  },
  {
   "cell_type": "code",
   "execution_count": 28,
   "metadata": {
    "ExecuteTime": {
     "end_time": "2019-05-22T03:27:07.986062Z",
     "start_time": "2019-05-22T03:27:07.851964Z"
    }
   },
   "outputs": [
    {
     "name": "stdout",
     "output_type": "stream",
     "text": [
      "JSON configuration files passed checks.\r\n",
      "cv sets wrote successfully.\r\n",
      "Traceback (most recent call last):\r\n",
      "  File \"model_pipeline/eval_plot.py\", line 524, in <module>\r\n",
      "    importance = get_feat_importance_df()\r\n",
      "  File \"model_pipeline/eval_plot.py\", line 408, in get_feat_importance_df\r\n",
      "    assert imp_files\r\n",
      "AssertionError\r\n"
     ]
    }
   ],
   "source": [
    "!cat /Users/joshplotkin/Dropbox/data_science/modeling-football-outcomes/models/{MODEL_ID}/logs/out"
   ]
  },
  {
   "cell_type": "code",
   "execution_count": 29,
   "metadata": {
    "ExecuteTime": {
     "end_time": "2019-05-22T03:27:08.490355Z",
     "start_time": "2019-05-22T03:27:07.990793Z"
    }
   },
   "outputs": [],
   "source": [
    "!open {MODEL_ID}"
   ]
  },
  {
   "cell_type": "markdown",
   "metadata": {},
   "source": [
    "## Hyperparameter Optimization"
   ]
  },
  {
   "cell_type": "code",
   "execution_count": 3,
   "metadata": {
    "ExecuteTime": {
     "end_time": "2019-05-23T04:01:21.243229Z",
     "start_time": "2019-05-23T04:01:21.212707Z"
    }
   },
   "outputs": [],
   "source": [
    "ROOT='/Users/joshplotkin/Dropbox/data_science/'\\\n",
    "    'modeling-football-outcomes/models'\n",
    "os.chdir(ROOT)"
   ]
  },
  {
   "cell_type": "code",
   "execution_count": 4,
   "metadata": {
    "ExecuteTime": {
     "end_time": "2019-05-23T04:01:21.610886Z",
     "start_time": "2019-05-23T04:01:21.573317Z"
    },
    "scrolled": true
   },
   "outputs": [],
   "source": [
    "MODEL_ID='0320_with_rankings_winner_20feats_noml'"
   ]
  },
  {
   "cell_type": "code",
   "execution_count": 5,
   "metadata": {
    "ExecuteTime": {
     "end_time": "2019-05-23T04:01:22.119089Z",
     "start_time": "2019-05-23T04:01:21.771090Z"
    },
    "run_control": {
     "marked": true
    }
   },
   "outputs": [],
   "source": [
    "from bayes_opt import BayesianOptimization\n",
    "from bayes_opt.util import Colours\n",
    "\n",
    "from sklearn.datasets import make_classification\n",
    "from sklearn.model_selection import cross_val_score\n",
    "from sklearn.ensemble import RandomForestClassifier as RFC"
   ]
  },
  {
   "cell_type": "code",
   "execution_count": 6,
   "metadata": {
    "ExecuteTime": {
     "end_time": "2019-05-23T04:01:22.158433Z",
     "start_time": "2019-05-23T04:01:22.122062Z"
    }
   },
   "outputs": [],
   "source": [
    "from sklearn.metrics import roc_auc_score"
   ]
  },
  {
   "cell_type": "code",
   "execution_count": 7,
   "metadata": {
    "ExecuteTime": {
     "end_time": "2019-05-23T04:01:22.196559Z",
     "start_time": "2019-05-23T04:01:22.160690Z"
    }
   },
   "outputs": [],
   "source": [
    "sys.path.append('/Users/joshplotkin/Dropbox/data_science/modeling-football-outcomes/model_pipeline')"
   ]
  },
  {
   "cell_type": "code",
   "execution_count": 8,
   "metadata": {
    "ExecuteTime": {
     "end_time": "2019-05-23T04:01:22.344098Z",
     "start_time": "2019-05-23T04:01:22.300676Z"
    }
   },
   "outputs": [],
   "source": [
    "from train_score_functions import get_model_obj, store_feature_importance, check_bad_values, cv_train, cv_score, score_holdout_set, store_models"
   ]
  },
  {
   "cell_type": "code",
   "execution_count": 9,
   "metadata": {
    "ExecuteTime": {
     "end_time": "2019-05-23T04:01:22.544166Z",
     "start_time": "2019-05-23T04:01:22.494771Z"
    }
   },
   "outputs": [],
   "source": [
    "## \n",
    "model_dict = json.load(open('{}/model.json'.format(MODEL_ID)))\n",
    "os.chdir(MODEL_ID)"
   ]
  },
  {
   "cell_type": "code",
   "execution_count": 10,
   "metadata": {
    "ExecuteTime": {
     "end_time": "2019-05-23T04:01:22.789411Z",
     "start_time": "2019-05-23T04:01:22.726964Z"
    }
   },
   "outputs": [],
   "source": [
    "training = pd.read_csv('cv_data/training.csv')\n",
    "scoring_only = pd.read_csv('cv_data/scoring_only.csv')\n",
    "\n",
    "# if not os.path.exists('serialized_models'): \n",
    "#     os.mkdir('serialized_models')\n",
    "# if not os.path.exists('scores'): \n",
    "#     os.mkdir('scores')\n",
    "# if not os.path.exists('stats'): \n",
    "#     os.mkdir('stats')\n",
    "#     os.mkdir('stats/reported')"
   ]
  },
  {
   "cell_type": "code",
   "execution_count": 11,
   "metadata": {
    "ExecuteTime": {
     "end_time": "2019-05-23T04:01:23.231336Z",
     "start_time": "2019-05-23T04:01:23.194032Z"
    }
   },
   "outputs": [],
   "source": [
    "import importlib\n",
    "def xgb_crossval(n_estimators, max_depth):\n",
    "    model_dict['model_params'] = {\n",
    "                                 u'booster': u'gbtree',\n",
    "                                 u'gamma': 0,\n",
    "                                 u'learning_rate': 0.1,\n",
    "                                 u'max_depth': int(max_depth),\n",
    "                                 u'max_features': u'auto',\n",
    "                                 u'n_estimators': int(n_estimators),\n",
    "                                 u'n_jobs': 1,\n",
    "                                 u'nthread': None,\n",
    "                                 u'objective': u'binary:logistic',\n",
    "                                 u'random_state': 9,\n",
    "                                 u'silent': True,\n",
    "                                 u'subsample': 0.5}\n",
    "\n",
    "    model_class_str = model_dict['model']\n",
    "    model_obj_path = '.'.join(model_class_str.split('.')[:-1])\n",
    "    model_name = model_class_str.split('.')[-1]\n",
    "    model_package = importlib.import_module(model_obj_path)\n",
    "    model_obj = getattr(model_package, model_name)\n",
    "    library = model_class_str.split('.')[0]\n",
    "\n",
    "\n",
    "    training = pd.read_csv('cv_data/training.csv')\n",
    "    scoring_only = pd.read_csv('cv_data/scoring_only.csv')\n",
    "#     model_obj, library = get_model_obj(model_dict)\n",
    "    library = 'xgboost'\n",
    "    ## in memory is faster when possible\n",
    "    ## spark can train/score on larger data when needed\n",
    "    if library in ['sklearn','xgboost']:\n",
    "        training_scoring_dict = cv_train(model_dict, training, \n",
    "                                         scoring_only, model_obj)\n",
    "\n",
    "        store_models(library, training_scoring_dict)\n",
    "\n",
    "        scores_df = cv_score(model_dict, training_scoring_dict)\n",
    "        scores_df[['label','score']].to_csv('scores/reported_scores.csv')\n",
    "\n",
    "        if model_dict['holdout_set']['score_using_full_model']:\n",
    "            holdout = pd.read_csv('cv_data/holdout.csv')\n",
    "            holdout = score_holdout_set(model_dict, training_scoring_dict, \n",
    "                                        holdout)\n",
    "            holdout[['label','score']].to_csv('scores/holdout_scores.csv')\n",
    "\n",
    "    score_pred = scores_df[['label','score']]\\\n",
    "                    .reset_index(drop=False)\\\n",
    "                    .set_index('game_id')\n",
    "    \n",
    "    print(roc_auc_score(score_pred['label'], score_pred['score'])    )\n",
    "    return -roc_auc_score(score_pred['label'], score_pred['score'])    "
   ]
  },
  {
   "cell_type": "code",
   "execution_count": null,
   "metadata": {
    "ExecuteTime": {
     "start_time": "2019-05-23T04:01:23.844Z"
    }
   },
   "outputs": [
    {
     "name": "stdout",
     "output_type": "stream",
     "text": [
      "|   iter    |  target   | max_depth | n_esti... |\n",
      "-------------------------------------------------\n",
      "0.6589704994529151\n",
      "| \u001b[0m 1       \u001b[0m | \u001b[0m-0.659   \u001b[0m | \u001b[0m 5.601   \u001b[0m | \u001b[0m 214.0   \u001b[0m |\n",
      "0.6692781164864653\n",
      "| \u001b[0m 2       \u001b[0m | \u001b[0m-0.6693  \u001b[0m | \u001b[0m 5.697   \u001b[0m | \u001b[0m 104.4   \u001b[0m |\n",
      "0.6708230329173464\n",
      "| \u001b[0m 3       \u001b[0m | \u001b[0m-0.6708  \u001b[0m | \u001b[0m 5.539   \u001b[0m | \u001b[0m 101.2   \u001b[0m |\n",
      "0.6687374541225214\n",
      "| \u001b[0m 4       \u001b[0m | \u001b[0m-0.6687  \u001b[0m | \u001b[0m 3.917   \u001b[0m | \u001b[0m 232.4   \u001b[0m |\n"
     ]
    }
   ],
   "source": [
    "optimizer = BayesianOptimization(\n",
    "    f=xgb_crossval,\n",
    "    pbounds={\n",
    "        \"n_estimators\": (100, 250),\n",
    "        \"max_depth\": (3, 6)\n",
    "    }\n",
    ")\n",
    "\n",
    "optimizer.maximize(n_iter=10)\n",
    "\n",
    "print(\"Final result:\", optimizer.max)"
   ]
  },
  {
   "cell_type": "code",
   "execution_count": 2,
   "metadata": {
    "ExecuteTime": {
     "end_time": "2019-05-24T02:10:54.439543Z",
     "start_time": "2019-05-24T02:10:54.435457Z"
    }
   },
   "outputs": [
    {
     "data": {
      "text/plain": [
       "['0128_with_features',\n",
       " '0115_test_ou',\n",
       " '0115_test_ou_sklearn',\n",
       " '0228_with_rankings_features_winner',\n",
       " '0228_with_rankings_winner_24feats_noml',\n",
       " '.DS_Store',\n",
       " '0114_test',\n",
       " '0128_with_features_sklearn',\n",
       " '0115_test_spread_sklearn',\n",
       " '0114_test_ou',\n",
       " '0228_with_rankings_features_spread',\n",
       " '0112_test',\n",
       " '0228_with_rankings_winner_28feats_noml',\n",
       " '0228_with_rankings_winner_20feats_noml',\n",
       " '0127_with_features',\n",
       " '0320_with_rankings_winner_20feats_noml',\n",
       " '0127_with_features_sklearn',\n",
       " '0228_with_rankings_winner_33feats_noml',\n",
       " '0128_with_features_sklearn_spread',\n",
       " '0228_with_rankings_winner_44feats_noml']"
      ]
     },
     "execution_count": 2,
     "metadata": {},
     "output_type": "execute_result"
    }
   ],
   "source": [
    "os.chdir('/Users/joshplotkin/Dropbox/data_science/modeling-football-outcomes/models/')\n",
    "\n"
   ]
  },
  {
   "cell_type": "code",
   "execution_count": 10,
   "metadata": {
    "ExecuteTime": {
     "end_time": "2019-05-24T02:16:34.490700Z",
     "start_time": "2019-05-24T02:16:34.488330Z"
    }
   },
   "outputs": [],
   "source": [
    "import numpy as np"
   ]
  },
  {
   "cell_type": "code",
   "execution_count": 23,
   "metadata": {
    "ExecuteTime": {
     "end_time": "2019-05-24T02:17:32.956163Z",
     "start_time": "2019-05-24T02:17:32.934805Z"
    }
   },
   "outputs": [],
   "source": [
    "dirs = os.listdir('.')\n",
    "\n",
    "def is_int(d):\n",
    "    try:\n",
    "        int(d)\n",
    "        return True\n",
    "    except:\n",
    "        return False\n",
    "\n",
    "min_id = min(set(np.arange(100000)) - set(map(int, (filter(is_int, dirs)))))\n",
    "min_id_str = '{:06d}'.format(min_id)"
   ]
  },
  {
   "cell_type": "code",
   "execution_count": 24,
   "metadata": {
    "ExecuteTime": {
     "end_time": "2019-05-24T02:17:33.112667Z",
     "start_time": "2019-05-24T02:17:33.109387Z"
    }
   },
   "outputs": [
    {
     "data": {
      "text/plain": [
       "'000000'"
      ]
     },
     "execution_count": 24,
     "metadata": {},
     "output_type": "execute_result"
    }
   ],
   "source": [
    "min_id_str"
   ]
  },
  {
   "cell_type": "code",
   "execution_count": 28,
   "metadata": {
    "ExecuteTime": {
     "end_time": "2019-05-24T02:55:28.485211Z",
     "start_time": "2019-05-24T02:55:28.481994Z"
    }
   },
   "outputs": [],
   "source": [
    "config = json.load(open('/Users/joshplotkin/Dropbox/data_science/modeling-football-outcomes/06_model_development/config.json'))"
   ]
  },
  {
   "cell_type": "code",
   "execution_count": 33,
   "metadata": {
    "ExecuteTime": {
     "end_time": "2019-05-24T02:56:38.258008Z",
     "start_time": "2019-05-24T02:56:38.254498Z"
    }
   },
   "outputs": [],
   "source": [
    "variable_params = {k:v for k,v in config.items() if type(v) is list}\n",
    "fixed_params = {k:v for k,v in config.items() if type(v) is not list}"
   ]
  },
  {
   "cell_type": "code",
   "execution_count": 35,
   "metadata": {
    "ExecuteTime": {
     "end_time": "2019-05-24T03:29:30.032903Z",
     "start_time": "2019-05-24T03:29:28.634627Z"
    }
   },
   "outputs": [],
   "source": [
    "import importlib\n",
    "\n",
    "model_class_str = 'xgboost.XGBClassifier'\n",
    "model_obj_path = '.'.join(model_class_str.split('.')[:-1])\n",
    "model_name = model_class_str.split('.')[-1]\n",
    "model_package = importlib.import_module(model_obj_path)\n",
    "model_class = getattr(model_package, model_name)\n",
    "library = model_class_str.split('.')[0]\n"
   ]
  },
  {
   "cell_type": "code",
   "execution_count": 38,
   "metadata": {
    "ExecuteTime": {
     "end_time": "2019-05-24T03:29:41.717630Z",
     "start_time": "2019-05-24T03:29:41.713913Z"
    }
   },
   "outputs": [
    {
     "data": {
      "text/plain": [
       "'xgboost'"
      ]
     },
     "execution_count": 38,
     "metadata": {},
     "output_type": "execute_result"
    }
   ],
   "source": [
    "model_obj_path"
   ]
  },
  {
   "cell_type": "code",
   "execution_count": 39,
   "metadata": {
    "ExecuteTime": {
     "end_time": "2019-05-24T03:29:43.326618Z",
     "start_time": "2019-05-24T03:29:43.323027Z"
    }
   },
   "outputs": [
    {
     "data": {
      "text/plain": [
       "'XGBClassifier'"
      ]
     },
     "execution_count": 39,
     "metadata": {},
     "output_type": "execute_result"
    }
   ],
   "source": [
    "model_name"
   ]
  },
  {
   "cell_type": "code",
   "execution_count": 40,
   "metadata": {
    "ExecuteTime": {
     "end_time": "2019-05-24T03:29:46.284574Z",
     "start_time": "2019-05-24T03:29:46.281043Z"
    }
   },
   "outputs": [
    {
     "data": {
      "text/plain": [
       "<module 'xgboost' from '/Users/joshplotkin/anaconda3/lib/python3.7/site-packages/xgboost/__init__.py'>"
      ]
     },
     "execution_count": 40,
     "metadata": {},
     "output_type": "execute_result"
    }
   ],
   "source": [
    "model_package"
   ]
  },
  {
   "cell_type": "code",
   "execution_count": 41,
   "metadata": {
    "ExecuteTime": {
     "end_time": "2019-05-24T03:30:15.247711Z",
     "start_time": "2019-05-24T03:30:15.244002Z"
    },
    "run_control": {
     "marked": true
    }
   },
   "outputs": [
    {
     "data": {
      "text/plain": [
       "xgboost.sklearn.XGBClassifier"
      ]
     },
     "execution_count": 41,
     "metadata": {},
     "output_type": "execute_result"
    }
   ],
   "source": [
    "model_class"
   ]
  },
  {
   "cell_type": "code",
   "execution_count": 43,
   "metadata": {
    "ExecuteTime": {
     "end_time": "2019-05-24T03:30:33.881538Z",
     "start_time": "2019-05-24T03:30:33.877291Z"
    }
   },
   "outputs": [
    {
     "data": {
      "text/plain": [
       "xgboost.sklearn.XGBClassifier"
      ]
     },
     "execution_count": 43,
     "metadata": {},
     "output_type": "execute_result"
    }
   ],
   "source": [
    "import xgboost\n",
    "\n",
    "xgboost.sklearn.XGBClassifier"
   ]
  },
  {
   "cell_type": "code",
   "execution_count": 52,
   "metadata": {
    "ExecuteTime": {
     "end_time": "2019-05-24T03:58:48.805066Z",
     "start_time": "2019-05-24T03:58:48.800881Z"
    }
   },
   "outputs": [
    {
     "name": "stdout",
     "output_type": "stream",
     "text": [
      "alpha_exp, colsample_bylevel, colsample_bynode, colsample_bytree, eta, gamma_min_split_loss_exp, lambda_exp, max_delta_step, max_depth, min_child_weight_exp, n_estimators, subsample\n"
     ]
    }
   ],
   "source": [
    "fields = '''n_estimators, max_depth, eta, gamma_min_split_loss_exp, min_child_weight_exp,\n",
    "    max_delta_step, subsample, colsample_bytree, colsample_bylevel, \n",
    "    colsample_bynode, lambda_exp, alpha_exp'''.replace('\\n','').strip()\n",
    "\n",
    "print(', '.join(sorted(list(map(lambda x: x.strip(), fields.split(', '))))))"
   ]
  },
  {
   "cell_type": "code",
   "execution_count": 62,
   "metadata": {
    "ExecuteTime": {
     "end_time": "2019-05-24T04:33:46.934061Z",
     "start_time": "2019-05-24T04:33:46.931318Z"
    }
   },
   "outputs": [],
   "source": [
    "from IPython.core.interactiveshell import InteractiveShell\n",
    "InteractiveShell.ast_node_interactivity = \"all\""
   ]
  },
  {
   "cell_type": "code",
   "execution_count": 69,
   "metadata": {
    "ExecuteTime": {
     "end_time": "2019-05-24T04:35:23.004109Z",
     "start_time": "2019-05-24T04:35:23.000333Z"
    }
   },
   "outputs": [
    {
     "data": {
      "text/plain": [
       "{'target': 0.69695173858566,\n",
       " 'params': {'alpha_exp': 5.0,\n",
       "  'colsample_bylevel': 1.0,\n",
       "  'colsample_bynode': 0.1,\n",
       "  'colsample_bytree': 1.0,\n",
       "  'eta': 0.0,\n",
       "  'gamma_min_split_loss_exp': -5.0,\n",
       "  'lambda_exp': -5.0,\n",
       "  'max_delta_step': 1.0,\n",
       "  'max_depth': 1.0,\n",
       "  'min_child_weight_exp': -5.0,\n",
       "  'n_estimators': 212.63585101657023,\n",
       "  'subsample': 1.0}}"
      ]
     },
     "execution_count": 69,
     "metadata": {},
     "output_type": "execute_result"
    }
   ],
   "source": [
    "optimizer.max['target']"
   ]
  },
  {
   "cell_type": "code",
   "execution_count": 70,
   "metadata": {
    "ExecuteTime": {
     "end_time": "2019-05-24T04:35:26.533582Z",
     "start_time": "2019-05-24T04:35:26.524972Z"
    }
   },
   "outputs": [
    {
     "data": {
      "text/plain": [
       "[{'target': 0.6673151501067895,\n",
       "  'params': {'alpha_exp': -3.8885835051818507,\n",
       "   'colsample_bylevel': 0.9858268686075451,\n",
       "   'colsample_bynode': 0.6796187459811552,\n",
       "   'colsample_bytree': 0.8868980816343365,\n",
       "   'eta': 0.07044895111335936,\n",
       "   'gamma_min_split_loss_exp': -0.2822834266077674,\n",
       "   'lambda_exp': -2.3699258498323026,\n",
       "   'max_delta_step': 76.52953445742872,\n",
       "   'max_depth': 13.057720340930597,\n",
       "   'min_child_weight_exp': -3.822320390164472,\n",
       "   'n_estimators': 725.6134924560853,\n",
       "   'subsample': 0.5559879911555794}},\n",
       " {'target': 0.47486795810625704,\n",
       "  'params': {'alpha_exp': 3.2537842188727915,\n",
       "   'colsample_bylevel': 0.11083861868329276,\n",
       "   'colsample_bynode': 0.8660938048524637,\n",
       "   'colsample_bytree': 0.32602897155355265,\n",
       "   'eta': 0.20405242804465673,\n",
       "   'gamma_min_split_loss_exp': 4.56052802422985,\n",
       "   'lambda_exp': -4.769596075855878,\n",
       "   'max_delta_step': 19.498509985913472,\n",
       "   'max_depth': 24.695969107717147,\n",
       "   'min_child_weight_exp': -1.9018697653623304,\n",
       "   'n_estimators': 932.8990112414373,\n",
       "   'subsample': 0.3456740444672555}},\n",
       " {'target': 0.5152576553937201,\n",
       "  'params': {'alpha_exp': 5.0,\n",
       "   'colsample_bylevel': 0.1,\n",
       "   'colsample_bynode': 1.0,\n",
       "   'colsample_bytree': 0.1,\n",
       "   'eta': 1.0,\n",
       "   'gamma_min_split_loss_exp': 5.0,\n",
       "   'lambda_exp': 5.0,\n",
       "   'max_delta_step': 1.0,\n",
       "   'max_depth': 30.0,\n",
       "   'min_child_weight_exp': 5.0,\n",
       "   'n_estimators': 10.0,\n",
       "   'subsample': 0.1}},\n",
       " {'target': 0.6686253513429562,\n",
       "  'params': {'alpha_exp': -2.8571482565873794,\n",
       "   'colsample_bylevel': 0.7577996002199835,\n",
       "   'colsample_bynode': 0.16600821744589966,\n",
       "   'colsample_bytree': 0.3526165429569943,\n",
       "   'eta': 0.28847549224223534,\n",
       "   'gamma_min_split_loss_exp': -3.7597155251902747,\n",
       "   'lambda_exp': -1.0130420067103154,\n",
       "   'max_delta_step': 75.65996865669584,\n",
       "   'max_depth': 15.236096602607468,\n",
       "   'min_child_weight_exp': -1.8455237282851455,\n",
       "   'n_estimators': 727.5430544151546,\n",
       "   'subsample': 0.36147524031713607}},\n",
       " {'target': 0.6846023329055523,\n",
       "  'params': {'alpha_exp': 5.0,\n",
       "   'colsample_bylevel': 0.10876091292024682,\n",
       "   'colsample_bynode': 0.10000000073209198,\n",
       "   'colsample_bytree': 0.1,\n",
       "   'eta': 1.2701789334315406e-09,\n",
       "   'gamma_min_split_loss_exp': -5.0,\n",
       "   'lambda_exp': -5.0,\n",
       "   'max_delta_step': 1.0,\n",
       "   'max_depth': 1.0,\n",
       "   'min_child_weight_exp': -5.0,\n",
       "   'n_estimators': 424.89787601032543,\n",
       "   'subsample': 0.10000000071232157}},\n",
       " {'target': 0.6397016664778825,\n",
       "  'params': {'alpha_exp': -2.3505609776414147,\n",
       "   'colsample_bylevel': 0.3468114561362317,\n",
       "   'colsample_bynode': 0.48745441687110913,\n",
       "   'colsample_bytree': 0.1011066593455686,\n",
       "   'eta': 0.41398565108548957,\n",
       "   'gamma_min_split_loss_exp': -0.8865018619029978,\n",
       "   'lambda_exp': -3.470063293094147,\n",
       "   'max_delta_step': 75.93227804648252,\n",
       "   'max_depth': 12.0406938785421,\n",
       "   'min_child_weight_exp': -3.247746343103998,\n",
       "   'n_estimators': 730.5349355482363,\n",
       "   'subsample': 0.3495236586656624}},\n",
       " {'target': 0.6733885517371845,\n",
       "  'params': {'alpha_exp': -4.2644862087255655,\n",
       "   'colsample_bylevel': 0.8663618008499528,\n",
       "   'colsample_bynode': 0.5216518256925323,\n",
       "   'colsample_bytree': 0.8893480596980132,\n",
       "   'eta': 0.09404166008969583,\n",
       "   'gamma_min_split_loss_exp': -0.15631590654277083,\n",
       "   'lambda_exp': -4.408253646741182,\n",
       "   'max_delta_step': 81.28272448888147,\n",
       "   'max_depth': 12.847664221092906,\n",
       "   'min_child_weight_exp': -4.7296010731678315,\n",
       "   'n_estimators': 723.9494973310829,\n",
       "   'subsample': 0.9155227278720732}},\n",
       " {'target': 0.5141903435132777,\n",
       "  'params': {'alpha_exp': -5.0,\n",
       "   'colsample_bylevel': 0.10000000097623774,\n",
       "   'colsample_bynode': 1.0,\n",
       "   'colsample_bytree': 1.0,\n",
       "   'eta': 0.9999999997044844,\n",
       "   'gamma_min_split_loss_exp': 5.0,\n",
       "   'lambda_exp': 5.0,\n",
       "   'max_delta_step': 100.0,\n",
       "   'max_depth': 30.0,\n",
       "   'min_child_weight_exp': -3.2179171197972063,\n",
       "   'n_estimators': 356.2154833746904,\n",
       "   'subsample': 0.1}},\n",
       " {'target': 0.48036916846595523,\n",
       "  'params': {'alpha_exp': -5.0,\n",
       "   'colsample_bylevel': 0.9429107017349744,\n",
       "   'colsample_bynode': 0.33331116810091455,\n",
       "   'colsample_bytree': 0.10308716527980141,\n",
       "   'eta': 0.45277405320238534,\n",
       "   'gamma_min_split_loss_exp': 5.0,\n",
       "   'lambda_exp': 5.0,\n",
       "   'max_delta_step': 1.0,\n",
       "   'max_depth': 30.0,\n",
       "   'min_child_weight_exp': 5.0,\n",
       "   'n_estimators': 620.4746020114092,\n",
       "   'subsample': 0.1}},\n",
       " {'target': 0.6623581053228969,\n",
       "  'params': {'alpha_exp': -3.5826596725195325,\n",
       "   'colsample_bylevel': 0.5115872766914636,\n",
       "   'colsample_bynode': 0.8767956823647863,\n",
       "   'colsample_bytree': 0.43920560035180645,\n",
       "   'eta': 0.3080964893345969,\n",
       "   'gamma_min_split_loss_exp': 0.6305628094539193,\n",
       "   'lambda_exp': -2.7137954674164044,\n",
       "   'max_delta_step': 77.32751605503337,\n",
       "   'max_depth': 13.774200351207408,\n",
       "   'min_child_weight_exp': -2.196631590843978,\n",
       "   'n_estimators': 733.7696903459293,\n",
       "   'subsample': 0.7388535890811299}},\n",
       " {'target': 0.47436116012364005,\n",
       "  'params': {'alpha_exp': -5.0,\n",
       "   'colsample_bylevel': 1.0,\n",
       "   'colsample_bynode': 0.1,\n",
       "   'colsample_bytree': 1.0,\n",
       "   'eta': 0.9908767878810543,\n",
       "   'gamma_min_split_loss_exp': -5.0,\n",
       "   'lambda_exp': 5.0,\n",
       "   'max_delta_step': 100.0,\n",
       "   'max_depth': 1.0,\n",
       "   'min_child_weight_exp': 5.0,\n",
       "   'n_estimators': 1000.0,\n",
       "   'subsample': 1.0}},\n",
       " {'target': 0.69695173858566,\n",
       "  'params': {'alpha_exp': 5.0,\n",
       "   'colsample_bylevel': 1.0,\n",
       "   'colsample_bynode': 0.1,\n",
       "   'colsample_bytree': 1.0,\n",
       "   'eta': 0.0,\n",
       "   'gamma_min_split_loss_exp': -5.0,\n",
       "   'lambda_exp': -5.0,\n",
       "   'max_delta_step': 1.0,\n",
       "   'max_depth': 1.0,\n",
       "   'min_child_weight_exp': -5.0,\n",
       "   'n_estimators': 212.63585101657023,\n",
       "   'subsample': 1.0}},\n",
       " {'target': 0.6543158986263906,\n",
       "  'params': {'alpha_exp': -1.5532145116482363,\n",
       "   'colsample_bylevel': 0.18141130254196336,\n",
       "   'colsample_bynode': 0.575965946241767,\n",
       "   'colsample_bytree': 0.9331022088532377,\n",
       "   'eta': 0.18570440264185495,\n",
       "   'gamma_min_split_loss_exp': -3.325128505864309,\n",
       "   'lambda_exp': 0.14036259831550524,\n",
       "   'max_delta_step': 76.59200441526411,\n",
       "   'max_depth': 15.116138055719082,\n",
       "   'min_child_weight_exp': 0.4276671706684123,\n",
       "   'n_estimators': 726.0111807085731,\n",
       "   'subsample': 0.7420575813939418}},\n",
       " {'target': 0.6606339412184404,\n",
       "  'params': {'alpha_exp': 5.0,\n",
       "   'colsample_bylevel': 1.0,\n",
       "   'colsample_bynode': 0.1,\n",
       "   'colsample_bytree': 1.0,\n",
       "   'eta': 0.0,\n",
       "   'gamma_min_split_loss_exp': -5.0,\n",
       "   'lambda_exp': -5.0,\n",
       "   'max_delta_step': 100.0,\n",
       "   'max_depth': 1.0,\n",
       "   'min_child_weight_exp': -5.0,\n",
       "   'n_estimators': 10.0,\n",
       "   'subsample': 1.0}},\n",
       " {'target': 0.6922113090685311,\n",
       "  'params': {'alpha_exp': 5.0,\n",
       "   'colsample_bylevel': 1.0,\n",
       "   'colsample_bynode': 0.1,\n",
       "   'colsample_bytree': 0.965759334868751,\n",
       "   'eta': 0.0,\n",
       "   'gamma_min_split_loss_exp': -5.0,\n",
       "   'lambda_exp': -5.0,\n",
       "   'max_delta_step': 100.0,\n",
       "   'max_depth': 1.0,\n",
       "   'min_child_weight_exp': -5.0,\n",
       "   'n_estimators': 577.1113699512573,\n",
       "   'subsample': 1.0}},\n",
       " {'target': 0.4835232268785098,\n",
       "  'params': {'alpha_exp': 5.0,\n",
       "   'colsample_bylevel': 0.9212337601358973,\n",
       "   'colsample_bynode': 0.10000000000004085,\n",
       "   'colsample_bytree': 1.0,\n",
       "   'eta': 0.0,\n",
       "   'gamma_min_split_loss_exp': -5.0,\n",
       "   'lambda_exp': -5.0,\n",
       "   'max_delta_step': 100.0,\n",
       "   'max_depth': 1.0,\n",
       "   'min_child_weight_exp': 5.0,\n",
       "   'n_estimators': 173.9176328330443,\n",
       "   'subsample': 0.17211067198537122}},\n",
       " {'target': 0.6744932312108152,\n",
       "  'params': {'alpha_exp': 5.0,\n",
       "   'colsample_bylevel': 0.11143437634659113,\n",
       "   'colsample_bynode': 0.1,\n",
       "   'colsample_bytree': 0.9806037501881384,\n",
       "   'eta': 0.0,\n",
       "   'gamma_min_split_loss_exp': -5.0,\n",
       "   'lambda_exp': -5.0,\n",
       "   'max_delta_step': 100.0,\n",
       "   'max_depth': 30.0,\n",
       "   'min_child_weight_exp': -5.0,\n",
       "   'n_estimators': 825.2728260939681,\n",
       "   'subsample': 0.35103331617030936}},\n",
       " {'target': 0.47436116012364005,\n",
       "  'params': {'alpha_exp': 5.0,\n",
       "   'colsample_bylevel': 1.0,\n",
       "   'colsample_bynode': 0.9999999867361647,\n",
       "   'colsample_bytree': 0.13208620375423255,\n",
       "   'eta': 1.0,\n",
       "   'gamma_min_split_loss_exp': 5.0,\n",
       "   'lambda_exp': 5.0,\n",
       "   'max_delta_step': 100.0,\n",
       "   'max_depth': 1.0,\n",
       "   'min_child_weight_exp': -5.0,\n",
       "   'n_estimators': 804.212841217307,\n",
       "   'subsample': 1.0}},\n",
       " {'target': 0.6293450044782725,\n",
       "  'params': {'alpha_exp': -5.0,\n",
       "   'colsample_bylevel': 0.1,\n",
       "   'colsample_bynode': 0.10000001140560043,\n",
       "   'colsample_bytree': 0.1,\n",
       "   'eta': 0.0,\n",
       "   'gamma_min_split_loss_exp': -5.0,\n",
       "   'lambda_exp': -5.0,\n",
       "   'max_delta_step': 100.0,\n",
       "   'max_depth': 30.0,\n",
       "   'min_child_weight_exp': -5.0,\n",
       "   'n_estimators': 655.4840273679448,\n",
       "   'subsample': 0.1}},\n",
       " {'target': 0.47436116012364005,\n",
       "  'params': {'alpha_exp': -5.0,\n",
       "   'colsample_bylevel': 1.0,\n",
       "   'colsample_bynode': 1.0,\n",
       "   'colsample_bytree': 1.0,\n",
       "   'eta': 1.0,\n",
       "   'gamma_min_split_loss_exp': -5.0,\n",
       "   'lambda_exp': -5.0,\n",
       "   'max_delta_step': 1.0,\n",
       "   'max_depth': 1.0,\n",
       "   'min_child_weight_exp': 5.0,\n",
       "   'n_estimators': 314.86206413475304,\n",
       "   'subsample': 1.0}},\n",
       " {'target': 0.6914662926793382,\n",
       "  'params': {'alpha_exp': 5.0,\n",
       "   'colsample_bylevel': 1.0,\n",
       "   'colsample_bynode': 0.1,\n",
       "   'colsample_bytree': 1.0,\n",
       "   'eta': 0.0,\n",
       "   'gamma_min_split_loss_exp': -5.0,\n",
       "   'lambda_exp': -5.0,\n",
       "   'max_delta_step': 100.0,\n",
       "   'max_depth': 1.0,\n",
       "   'min_child_weight_exp': -5.0,\n",
       "   'n_estimators': 462.8407541021898,\n",
       "   'subsample': 1.0}}]"
      ]
     },
     "execution_count": 70,
     "metadata": {},
     "output_type": "execute_result"
    }
   ],
   "source": [
    "optimizer.res"
   ]
  },
  {
   "cell_type": "code",
   "execution_count": 66,
   "metadata": {
    "ExecuteTime": {
     "end_time": "2019-05-24T04:34:59.285199Z",
     "start_time": "2019-05-24T04:34:59.246036Z"
    },
    "run_control": {
     "marked": true
    },
    "scrolled": false
   },
   "outputs": [
    {
     "data": {
      "text/plain": [
       "{'optmization:start': {<bayes_opt.observer.ScreenLogger at 0x1a239ac320>: <bound method ScreenLogger.update of <bayes_opt.observer.ScreenLogger object at 0x1a239ac320>>},\n",
       " 'optmization:step': {<bayes_opt.observer.ScreenLogger at 0x1a239ac320>: <bound method ScreenLogger.update of <bayes_opt.observer.ScreenLogger object at 0x1a239ac320>>},\n",
       " 'optmization:end': {<bayes_opt.observer.ScreenLogger at 0x1a239ac320>: <bound method ScreenLogger.update of <bayes_opt.observer.ScreenLogger object at 0x1a239ac320>>}}"
      ]
     },
     "execution_count": 66,
     "metadata": {},
     "output_type": "execute_result"
    },
    {
     "data": {
      "text/plain": [
       "GaussianProcessRegressor(alpha=0.001, copy_X_train=True,\n",
       "             kernel=Matern(length_scale=1, nu=2.5), n_restarts_optimizer=1,\n",
       "             normalize_y=True, optimizer='fmin_l_bfgs_b',\n",
       "             random_state=<mtrand.RandomState object at 0x1a239fc360>)"
      ]
     },
     "execution_count": 66,
     "metadata": {},
     "output_type": "execute_result"
    },
    {
     "data": {
      "text/plain": [
       "<bound method BayesianOptimization._prime_queue of <bayes_opt.bayesian_optimization.BayesianOptimization object at 0x1a239ca780>>"
      ]
     },
     "execution_count": 66,
     "metadata": {},
     "output_type": "execute_result"
    },
    {
     "data": {
      "text/plain": [
       "<bound method BayesianOptimization._prime_subscriptions of <bayes_opt.bayesian_optimization.BayesianOptimization object at 0x1a239ca780>>"
      ]
     },
     "execution_count": 66,
     "metadata": {},
     "output_type": "execute_result"
    },
    {
     "data": {
      "text/plain": [
       "<bayes_opt.bayesian_optimization.Queue at 0x1a239b8eb8>"
      ]
     },
     "execution_count": 66,
     "metadata": {},
     "output_type": "execute_result"
    },
    {
     "data": {
      "text/plain": [
       "<mtrand.RandomState at 0x1a239fc360>"
      ]
     },
     "execution_count": 66,
     "metadata": {},
     "output_type": "execute_result"
    },
    {
     "data": {
      "text/plain": [
       "<bayes_opt.target_space.TargetSpace at 0x1a239b8c88>"
      ]
     },
     "execution_count": 66,
     "metadata": {},
     "output_type": "execute_result"
    },
    {
     "data": {
      "text/plain": [
       "99"
      ]
     },
     "execution_count": 66,
     "metadata": {},
     "output_type": "execute_result"
    },
    {
     "data": {
      "text/plain": [
       "<bound method Observable.dispatch of <bayes_opt.bayesian_optimization.BayesianOptimization object at 0x1a239ca780>>"
      ]
     },
     "execution_count": 66,
     "metadata": {},
     "output_type": "execute_result"
    },
    {
     "data": {
      "text/plain": [
       "<bound method Observable.get_subscribers of <bayes_opt.bayesian_optimization.BayesianOptimization object at 0x1a239ca780>>"
      ]
     },
     "execution_count": 66,
     "metadata": {},
     "output_type": "execute_result"
    },
    {
     "data": {
      "text/plain": [
       "{'target': 0.69695173858566,\n",
       " 'params': {'alpha_exp': 5.0,\n",
       "  'colsample_bylevel': 1.0,\n",
       "  'colsample_bynode': 0.1,\n",
       "  'colsample_bytree': 1.0,\n",
       "  'eta': 0.0,\n",
       "  'gamma_min_split_loss_exp': -5.0,\n",
       "  'lambda_exp': -5.0,\n",
       "  'max_delta_step': 1.0,\n",
       "  'max_depth': 1.0,\n",
       "  'min_child_weight_exp': -5.0,\n",
       "  'n_estimators': 212.63585101657023,\n",
       "  'subsample': 1.0}}"
      ]
     },
     "execution_count": 66,
     "metadata": {},
     "output_type": "execute_result"
    },
    {
     "data": {
      "text/plain": [
       "<bound method BayesianOptimization.maximize of <bayes_opt.bayesian_optimization.BayesianOptimization object at 0x1a239ca780>>"
      ]
     },
     "execution_count": 66,
     "metadata": {},
     "output_type": "execute_result"
    },
    {
     "data": {
      "text/plain": [
       "<bound method BayesianOptimization.probe of <bayes_opt.bayesian_optimization.BayesianOptimization object at 0x1a239ca780>>"
      ]
     },
     "execution_count": 66,
     "metadata": {},
     "output_type": "execute_result"
    },
    {
     "data": {
      "text/plain": [
       "<bound method BayesianOptimization.register of <bayes_opt.bayesian_optimization.BayesianOptimization object at 0x1a239ca780>>"
      ]
     },
     "execution_count": 66,
     "metadata": {},
     "output_type": "execute_result"
    },
    {
     "data": {
      "text/plain": [
       "[{'target': 0.6673151501067895,\n",
       "  'params': {'alpha_exp': -3.8885835051818507,\n",
       "   'colsample_bylevel': 0.9858268686075451,\n",
       "   'colsample_bynode': 0.6796187459811552,\n",
       "   'colsample_bytree': 0.8868980816343365,\n",
       "   'eta': 0.07044895111335936,\n",
       "   'gamma_min_split_loss_exp': -0.2822834266077674,\n",
       "   'lambda_exp': -2.3699258498323026,\n",
       "   'max_delta_step': 76.52953445742872,\n",
       "   'max_depth': 13.057720340930597,\n",
       "   'min_child_weight_exp': -3.822320390164472,\n",
       "   'n_estimators': 725.6134924560853,\n",
       "   'subsample': 0.5559879911555794}},\n",
       " {'target': 0.47486795810625704,\n",
       "  'params': {'alpha_exp': 3.2537842188727915,\n",
       "   'colsample_bylevel': 0.11083861868329276,\n",
       "   'colsample_bynode': 0.8660938048524637,\n",
       "   'colsample_bytree': 0.32602897155355265,\n",
       "   'eta': 0.20405242804465673,\n",
       "   'gamma_min_split_loss_exp': 4.56052802422985,\n",
       "   'lambda_exp': -4.769596075855878,\n",
       "   'max_delta_step': 19.498509985913472,\n",
       "   'max_depth': 24.695969107717147,\n",
       "   'min_child_weight_exp': -1.9018697653623304,\n",
       "   'n_estimators': 932.8990112414373,\n",
       "   'subsample': 0.3456740444672555}},\n",
       " {'target': 0.5152576553937201,\n",
       "  'params': {'alpha_exp': 5.0,\n",
       "   'colsample_bylevel': 0.1,\n",
       "   'colsample_bynode': 1.0,\n",
       "   'colsample_bytree': 0.1,\n",
       "   'eta': 1.0,\n",
       "   'gamma_min_split_loss_exp': 5.0,\n",
       "   'lambda_exp': 5.0,\n",
       "   'max_delta_step': 1.0,\n",
       "   'max_depth': 30.0,\n",
       "   'min_child_weight_exp': 5.0,\n",
       "   'n_estimators': 10.0,\n",
       "   'subsample': 0.1}},\n",
       " {'target': 0.6686253513429562,\n",
       "  'params': {'alpha_exp': -2.8571482565873794,\n",
       "   'colsample_bylevel': 0.7577996002199835,\n",
       "   'colsample_bynode': 0.16600821744589966,\n",
       "   'colsample_bytree': 0.3526165429569943,\n",
       "   'eta': 0.28847549224223534,\n",
       "   'gamma_min_split_loss_exp': -3.7597155251902747,\n",
       "   'lambda_exp': -1.0130420067103154,\n",
       "   'max_delta_step': 75.65996865669584,\n",
       "   'max_depth': 15.236096602607468,\n",
       "   'min_child_weight_exp': -1.8455237282851455,\n",
       "   'n_estimators': 727.5430544151546,\n",
       "   'subsample': 0.36147524031713607}},\n",
       " {'target': 0.6846023329055523,\n",
       "  'params': {'alpha_exp': 5.0,\n",
       "   'colsample_bylevel': 0.10876091292024682,\n",
       "   'colsample_bynode': 0.10000000073209198,\n",
       "   'colsample_bytree': 0.1,\n",
       "   'eta': 1.2701789334315406e-09,\n",
       "   'gamma_min_split_loss_exp': -5.0,\n",
       "   'lambda_exp': -5.0,\n",
       "   'max_delta_step': 1.0,\n",
       "   'max_depth': 1.0,\n",
       "   'min_child_weight_exp': -5.0,\n",
       "   'n_estimators': 424.89787601032543,\n",
       "   'subsample': 0.10000000071232157}},\n",
       " {'target': 0.6397016664778825,\n",
       "  'params': {'alpha_exp': -2.3505609776414147,\n",
       "   'colsample_bylevel': 0.3468114561362317,\n",
       "   'colsample_bynode': 0.48745441687110913,\n",
       "   'colsample_bytree': 0.1011066593455686,\n",
       "   'eta': 0.41398565108548957,\n",
       "   'gamma_min_split_loss_exp': -0.8865018619029978,\n",
       "   'lambda_exp': -3.470063293094147,\n",
       "   'max_delta_step': 75.93227804648252,\n",
       "   'max_depth': 12.0406938785421,\n",
       "   'min_child_weight_exp': -3.247746343103998,\n",
       "   'n_estimators': 730.5349355482363,\n",
       "   'subsample': 0.3495236586656624}},\n",
       " {'target': 0.6733885517371845,\n",
       "  'params': {'alpha_exp': -4.2644862087255655,\n",
       "   'colsample_bylevel': 0.8663618008499528,\n",
       "   'colsample_bynode': 0.5216518256925323,\n",
       "   'colsample_bytree': 0.8893480596980132,\n",
       "   'eta': 0.09404166008969583,\n",
       "   'gamma_min_split_loss_exp': -0.15631590654277083,\n",
       "   'lambda_exp': -4.408253646741182,\n",
       "   'max_delta_step': 81.28272448888147,\n",
       "   'max_depth': 12.847664221092906,\n",
       "   'min_child_weight_exp': -4.7296010731678315,\n",
       "   'n_estimators': 723.9494973310829,\n",
       "   'subsample': 0.9155227278720732}},\n",
       " {'target': 0.5141903435132777,\n",
       "  'params': {'alpha_exp': -5.0,\n",
       "   'colsample_bylevel': 0.10000000097623774,\n",
       "   'colsample_bynode': 1.0,\n",
       "   'colsample_bytree': 1.0,\n",
       "   'eta': 0.9999999997044844,\n",
       "   'gamma_min_split_loss_exp': 5.0,\n",
       "   'lambda_exp': 5.0,\n",
       "   'max_delta_step': 100.0,\n",
       "   'max_depth': 30.0,\n",
       "   'min_child_weight_exp': -3.2179171197972063,\n",
       "   'n_estimators': 356.2154833746904,\n",
       "   'subsample': 0.1}},\n",
       " {'target': 0.48036916846595523,\n",
       "  'params': {'alpha_exp': -5.0,\n",
       "   'colsample_bylevel': 0.9429107017349744,\n",
       "   'colsample_bynode': 0.33331116810091455,\n",
       "   'colsample_bytree': 0.10308716527980141,\n",
       "   'eta': 0.45277405320238534,\n",
       "   'gamma_min_split_loss_exp': 5.0,\n",
       "   'lambda_exp': 5.0,\n",
       "   'max_delta_step': 1.0,\n",
       "   'max_depth': 30.0,\n",
       "   'min_child_weight_exp': 5.0,\n",
       "   'n_estimators': 620.4746020114092,\n",
       "   'subsample': 0.1}},\n",
       " {'target': 0.6623581053228969,\n",
       "  'params': {'alpha_exp': -3.5826596725195325,\n",
       "   'colsample_bylevel': 0.5115872766914636,\n",
       "   'colsample_bynode': 0.8767956823647863,\n",
       "   'colsample_bytree': 0.43920560035180645,\n",
       "   'eta': 0.3080964893345969,\n",
       "   'gamma_min_split_loss_exp': 0.6305628094539193,\n",
       "   'lambda_exp': -2.7137954674164044,\n",
       "   'max_delta_step': 77.32751605503337,\n",
       "   'max_depth': 13.774200351207408,\n",
       "   'min_child_weight_exp': -2.196631590843978,\n",
       "   'n_estimators': 733.7696903459293,\n",
       "   'subsample': 0.7388535890811299}},\n",
       " {'target': 0.47436116012364005,\n",
       "  'params': {'alpha_exp': -5.0,\n",
       "   'colsample_bylevel': 1.0,\n",
       "   'colsample_bynode': 0.1,\n",
       "   'colsample_bytree': 1.0,\n",
       "   'eta': 0.9908767878810543,\n",
       "   'gamma_min_split_loss_exp': -5.0,\n",
       "   'lambda_exp': 5.0,\n",
       "   'max_delta_step': 100.0,\n",
       "   'max_depth': 1.0,\n",
       "   'min_child_weight_exp': 5.0,\n",
       "   'n_estimators': 1000.0,\n",
       "   'subsample': 1.0}},\n",
       " {'target': 0.69695173858566,\n",
       "  'params': {'alpha_exp': 5.0,\n",
       "   'colsample_bylevel': 1.0,\n",
       "   'colsample_bynode': 0.1,\n",
       "   'colsample_bytree': 1.0,\n",
       "   'eta': 0.0,\n",
       "   'gamma_min_split_loss_exp': -5.0,\n",
       "   'lambda_exp': -5.0,\n",
       "   'max_delta_step': 1.0,\n",
       "   'max_depth': 1.0,\n",
       "   'min_child_weight_exp': -5.0,\n",
       "   'n_estimators': 212.63585101657023,\n",
       "   'subsample': 1.0}},\n",
       " {'target': 0.6543158986263906,\n",
       "  'params': {'alpha_exp': -1.5532145116482363,\n",
       "   'colsample_bylevel': 0.18141130254196336,\n",
       "   'colsample_bynode': 0.575965946241767,\n",
       "   'colsample_bytree': 0.9331022088532377,\n",
       "   'eta': 0.18570440264185495,\n",
       "   'gamma_min_split_loss_exp': -3.325128505864309,\n",
       "   'lambda_exp': 0.14036259831550524,\n",
       "   'max_delta_step': 76.59200441526411,\n",
       "   'max_depth': 15.116138055719082,\n",
       "   'min_child_weight_exp': 0.4276671706684123,\n",
       "   'n_estimators': 726.0111807085731,\n",
       "   'subsample': 0.7420575813939418}},\n",
       " {'target': 0.6606339412184404,\n",
       "  'params': {'alpha_exp': 5.0,\n",
       "   'colsample_bylevel': 1.0,\n",
       "   'colsample_bynode': 0.1,\n",
       "   'colsample_bytree': 1.0,\n",
       "   'eta': 0.0,\n",
       "   'gamma_min_split_loss_exp': -5.0,\n",
       "   'lambda_exp': -5.0,\n",
       "   'max_delta_step': 100.0,\n",
       "   'max_depth': 1.0,\n",
       "   'min_child_weight_exp': -5.0,\n",
       "   'n_estimators': 10.0,\n",
       "   'subsample': 1.0}},\n",
       " {'target': 0.6922113090685311,\n",
       "  'params': {'alpha_exp': 5.0,\n",
       "   'colsample_bylevel': 1.0,\n",
       "   'colsample_bynode': 0.1,\n",
       "   'colsample_bytree': 0.965759334868751,\n",
       "   'eta': 0.0,\n",
       "   'gamma_min_split_loss_exp': -5.0,\n",
       "   'lambda_exp': -5.0,\n",
       "   'max_delta_step': 100.0,\n",
       "   'max_depth': 1.0,\n",
       "   'min_child_weight_exp': -5.0,\n",
       "   'n_estimators': 577.1113699512573,\n",
       "   'subsample': 1.0}},\n",
       " {'target': 0.4835232268785098,\n",
       "  'params': {'alpha_exp': 5.0,\n",
       "   'colsample_bylevel': 0.9212337601358973,\n",
       "   'colsample_bynode': 0.10000000000004085,\n",
       "   'colsample_bytree': 1.0,\n",
       "   'eta': 0.0,\n",
       "   'gamma_min_split_loss_exp': -5.0,\n",
       "   'lambda_exp': -5.0,\n",
       "   'max_delta_step': 100.0,\n",
       "   'max_depth': 1.0,\n",
       "   'min_child_weight_exp': 5.0,\n",
       "   'n_estimators': 173.9176328330443,\n",
       "   'subsample': 0.17211067198537122}},\n",
       " {'target': 0.6744932312108152,\n",
       "  'params': {'alpha_exp': 5.0,\n",
       "   'colsample_bylevel': 0.11143437634659113,\n",
       "   'colsample_bynode': 0.1,\n",
       "   'colsample_bytree': 0.9806037501881384,\n",
       "   'eta': 0.0,\n",
       "   'gamma_min_split_loss_exp': -5.0,\n",
       "   'lambda_exp': -5.0,\n",
       "   'max_delta_step': 100.0,\n",
       "   'max_depth': 30.0,\n",
       "   'min_child_weight_exp': -5.0,\n",
       "   'n_estimators': 825.2728260939681,\n",
       "   'subsample': 0.35103331617030936}},\n",
       " {'target': 0.47436116012364005,\n",
       "  'params': {'alpha_exp': 5.0,\n",
       "   'colsample_bylevel': 1.0,\n",
       "   'colsample_bynode': 0.9999999867361647,\n",
       "   'colsample_bytree': 0.13208620375423255,\n",
       "   'eta': 1.0,\n",
       "   'gamma_min_split_loss_exp': 5.0,\n",
       "   'lambda_exp': 5.0,\n",
       "   'max_delta_step': 100.0,\n",
       "   'max_depth': 1.0,\n",
       "   'min_child_weight_exp': -5.0,\n",
       "   'n_estimators': 804.212841217307,\n",
       "   'subsample': 1.0}},\n",
       " {'target': 0.6293450044782725,\n",
       "  'params': {'alpha_exp': -5.0,\n",
       "   'colsample_bylevel': 0.1,\n",
       "   'colsample_bynode': 0.10000001140560043,\n",
       "   'colsample_bytree': 0.1,\n",
       "   'eta': 0.0,\n",
       "   'gamma_min_split_loss_exp': -5.0,\n",
       "   'lambda_exp': -5.0,\n",
       "   'max_delta_step': 100.0,\n",
       "   'max_depth': 30.0,\n",
       "   'min_child_weight_exp': -5.0,\n",
       "   'n_estimators': 655.4840273679448,\n",
       "   'subsample': 0.1}},\n",
       " {'target': 0.47436116012364005,\n",
       "  'params': {'alpha_exp': -5.0,\n",
       "   'colsample_bylevel': 1.0,\n",
       "   'colsample_bynode': 1.0,\n",
       "   'colsample_bytree': 1.0,\n",
       "   'eta': 1.0,\n",
       "   'gamma_min_split_loss_exp': -5.0,\n",
       "   'lambda_exp': -5.0,\n",
       "   'max_delta_step': 1.0,\n",
       "   'max_depth': 1.0,\n",
       "   'min_child_weight_exp': 5.0,\n",
       "   'n_estimators': 314.86206413475304,\n",
       "   'subsample': 1.0}},\n",
       " {'target': 0.6914662926793382,\n",
       "  'params': {'alpha_exp': 5.0,\n",
       "   'colsample_bylevel': 1.0,\n",
       "   'colsample_bynode': 0.1,\n",
       "   'colsample_bytree': 1.0,\n",
       "   'eta': 0.0,\n",
       "   'gamma_min_split_loss_exp': -5.0,\n",
       "   'lambda_exp': -5.0,\n",
       "   'max_delta_step': 100.0,\n",
       "   'max_depth': 1.0,\n",
       "   'min_child_weight_exp': -5.0,\n",
       "   'n_estimators': 462.8407541021898,\n",
       "   'subsample': 1.0}}]"
      ]
     },
     "execution_count": 66,
     "metadata": {},
     "output_type": "execute_result"
    },
    {
     "data": {
      "text/plain": [
       "<bound method BayesianOptimization.set_bounds of <bayes_opt.bayesian_optimization.BayesianOptimization object at 0x1a239ca780>>"
      ]
     },
     "execution_count": 66,
     "metadata": {},
     "output_type": "execute_result"
    },
    {
     "data": {
      "text/plain": [
       "<bound method BayesianOptimization.set_gp_params of <bayes_opt.bayesian_optimization.BayesianOptimization object at 0x1a239ca780>>"
      ]
     },
     "execution_count": 66,
     "metadata": {},
     "output_type": "execute_result"
    },
    {
     "data": {
      "text/plain": [
       "<bayes_opt.target_space.TargetSpace at 0x1a239b8c88>"
      ]
     },
     "execution_count": 66,
     "metadata": {},
     "output_type": "execute_result"
    },
    {
     "data": {
      "text/plain": [
       "<bound method Observable.subscribe of <bayes_opt.bayesian_optimization.BayesianOptimization object at 0x1a239ca780>>"
      ]
     },
     "execution_count": 66,
     "metadata": {},
     "output_type": "execute_result"
    },
    {
     "data": {
      "text/plain": [
       "<bound method BayesianOptimization.suggest of <bayes_opt.bayesian_optimization.BayesianOptimization object at 0x1a239ca780>>"
      ]
     },
     "execution_count": 66,
     "metadata": {},
     "output_type": "execute_result"
    },
    {
     "data": {
      "text/plain": [
       "<bound method Observable.unsubscribe of <bayes_opt.bayesian_optimization.BayesianOptimization object at 0x1a239ca780>>"
      ]
     },
     "execution_count": 66,
     "metadata": {},
     "output_type": "execute_result"
    }
   ],
   "source": [
    "optimizer._events\n",
    "optimizer._gp\n",
    "optimizer._prime_queue\n",
    "optimizer._prime_subscriptions\n",
    "optimizer._queue\n",
    "optimizer._random_state\n",
    "optimizer._space\n",
    "optimizer._verbose\n",
    "optimizer.dispatch\n",
    "optimizer.get_subscribers\n",
    "optimizer.max\n",
    "optimizer.maximize\n",
    "optimizer.probe\n",
    "optimizer.register\n",
    "optimizer.res\n",
    "optimizer.set_bounds\n",
    "optimizer.set_gp_params\n",
    "optimizer.space\n",
    "optimizer.subscribe\n",
    "optimizer.suggest\n",
    "optimizer.unsubscribe"
   ]
  },
  {
   "cell_type": "code",
   "execution_count": 57,
   "metadata": {
    "ExecuteTime": {
     "end_time": "2019-05-24T04:30:21.843681Z",
     "start_time": "2019-05-24T04:30:21.839628Z"
    }
   },
   "outputs": [
    {
     "data": {
      "text/plain": [
       "['__class__',\n",
       " '__delattr__',\n",
       " '__dict__',\n",
       " '__dir__',\n",
       " '__doc__',\n",
       " '__eq__',\n",
       " '__format__',\n",
       " '__ge__',\n",
       " '__getattribute__',\n",
       " '__gt__',\n",
       " '__hash__',\n",
       " '__init__',\n",
       " '__init_subclass__',\n",
       " '__le__',\n",
       " '__lt__',\n",
       " '__module__',\n",
       " '__ne__',\n",
       " '__new__',\n",
       " '__reduce__',\n",
       " '__reduce_ex__',\n",
       " '__repr__',\n",
       " '__setattr__',\n",
       " '__sizeof__',\n",
       " '__str__',\n",
       " '__subclasshook__',\n",
       " '__weakref__',\n",
       " '_events',\n",
       " '_gp',\n",
       " '_prime_queue',\n",
       " '_prime_subscriptions',\n",
       " '_queue',\n",
       " '_random_state',\n",
       " '_space',\n",
       " '_verbose',\n",
       " 'dispatch',\n",
       " 'get_subscribers',\n",
       " 'max',\n",
       " 'maximize',\n",
       " 'probe',\n",
       " 'register',\n",
       " 'res',\n",
       " 'set_bounds',\n",
       " 'set_gp_params',\n",
       " 'space',\n",
       " 'subscribe',\n",
       " 'suggest',\n",
       " 'unsubscribe']"
      ]
     },
     "execution_count": 57,
     "metadata": {},
     "output_type": "execute_result"
    }
   ],
   "source": [
    "dir(optimizer)"
   ]
  },
  {
   "cell_type": "markdown",
   "metadata": {},
   "source": [
    "### SKOPT"
   ]
  },
  {
   "cell_type": "code",
   "execution_count": 144,
   "metadata": {
    "ExecuteTime": {
     "end_time": "2019-05-25T15:13:19.357074Z",
     "start_time": "2019-05-25T15:13:19.351332Z"
    }
   },
   "outputs": [],
   "source": [
    "from collections import OrderedDict\n",
    "import json\n",
    "import pandas as pd\n",
    "from sklearn.metrics import roc_auc_score\n",
    "from skopt import Optimizer\n",
    "from skopt.learning import ExtraTreesRegressor\n",
    "import sys\n",
    "\n",
    "sys.path.append('/Users/joshplotkin/Dropbox/data_science/modeling-football-outcomes/model_pipeline')\n",
    "from train_score_functions import get_model_obj, store_feature_importance, check_bad_values, cv_train, cv_score, score_holdout_set, store_models"
   ]
  },
  {
   "cell_type": "code",
   "execution_count": 143,
   "metadata": {
    "ExecuteTime": {
     "end_time": "2019-05-25T15:13:13.742914Z",
     "start_time": "2019-05-25T15:13:13.731455Z"
    }
   },
   "outputs": [],
   "source": [
    "def xgb_crossval(variable_params):\n",
    "    training = source_model['training']\n",
    "    scoring_only = source_model['scoring_only']\n",
    "    model_dict = source_model['config']\n",
    "\n",
    "    model_dict['model_params'] = {\n",
    "        ## strings\n",
    "        'booster': config['booster'],\n",
    "        'tree_method': config['tree_method'],\n",
    "\n",
    "        ## base\n",
    "        'n_estimators': int(variable_params['n_estimators']),\n",
    "        'eta': variable_params['eta'],\n",
    "\n",
    "        ## sampling\n",
    "        'colsample_bytree': variable_params['colsample_bytree'],\n",
    "        'colsample_bylevel': variable_params['colsample_bylevel'],\n",
    "        'colsample_bynode': variable_params['colsample_bynode'],\n",
    "        'subsample': variable_params['subsample'],\n",
    "\n",
    "        ## tree splitting\n",
    "        'max_depth': int(variable_params['max_depth']),\n",
    "        'gamma': 10 ** variable_params['gamma_min_split_loss_exp'],\n",
    "        'min_child_weight': 10 ** variable_params['min_child_weight_exp'],\n",
    "        'max_delta_step': variable_params['max_delta_step'],\n",
    "\n",
    "        ## regularization\n",
    "        'lambda': 10 ** variable_params['lambda_exp'],\n",
    "        'alpha': 10 ** variable_params['alpha_exp'],\n",
    "    }\n",
    "\n",
    "    model_obj = xgboost.sklearn.XGBClassifier\n",
    "    training_scoring_dict = cv_train(model_dict, training,\n",
    "                                     scoring_only, model_obj)\n",
    "    scores_df = cv_score(model_dict, training_scoring_dict)\n",
    "    score_pred = scores_df[['label', 'score']] \\\n",
    "        .reset_index(drop=False) \\\n",
    "        .set_index('game_id')\n",
    "\n",
    "    return -roc_auc_score(score_pred['label'], score_pred['score'])"
   ]
  },
  {
   "cell_type": "code",
   "execution_count": 133,
   "metadata": {
    "ExecuteTime": {
     "end_time": "2019-05-25T15:11:18.522932Z",
     "start_time": "2019-05-25T15:11:18.513356Z"
    }
   },
   "outputs": [],
   "source": [
    "def separate_fixed_variable_params(config):\n",
    "    variable_params = {k: v for k, v in config.items() if type(v) is list}\n",
    "    fixed_params = {k: v for k, v in config.items() if type(v) is not list}\n",
    "\n",
    "    # need ordered variable params so it lines up with function call\n",
    "    variable_params_ordered = OrderedDict()\n",
    "    for ksort in sorted(variable_params.keys()):\n",
    "        variable_params_ordered[ksort] = variable_params[ksort]\n",
    "\n",
    "    return fixed_params, variable_params_ordered"
   ]
  },
  {
   "cell_type": "code",
   "execution_count": 134,
   "metadata": {
    "ExecuteTime": {
     "end_time": "2019-05-25T15:11:18.701468Z",
     "start_time": "2019-05-25T15:11:18.667633Z"
    }
   },
   "outputs": [],
   "source": [
    "config = json.load(open('/Users/joshplotkin/Dropbox/data_science/modeling-football-outcomes/06_model_development/config.json'))\n",
    "source_model = {\n",
    "    'config': json.load(open('/Users/joshplotkin/Dropbox/data_science/modeling-football-outcomes/models/0320_with_rankings_winner_20feats_noml/model.json')),\n",
    "    'training': pd.read_csv('/Users/joshplotkin/Dropbox/data_science/modeling-football-outcomes/models/0320_with_rankings_winner_20feats_noml/cv_data/training.csv'),\n",
    "    'scoring_only': pd.read_csv('/Users/joshplotkin/Dropbox/data_science/modeling-football-outcomes/models/0320_with_rankings_winner_20feats_noml/cv_data/scoring_only.csv'),\n",
    "}"
   ]
  },
  {
   "cell_type": "code",
   "execution_count": 135,
   "metadata": {
    "ExecuteTime": {
     "end_time": "2019-05-25T15:11:18.884604Z",
     "start_time": "2019-05-25T15:11:18.879467Z"
    }
   },
   "outputs": [],
   "source": [
    "fixed_params, variable_params = separate_fixed_variable_params(config)"
   ]
  },
  {
   "cell_type": "code",
   "execution_count": 136,
   "metadata": {
    "ExecuteTime": {
     "end_time": "2019-05-25T15:11:19.398614Z",
     "start_time": "2019-05-25T15:11:19.384893Z"
    }
   },
   "outputs": [],
   "source": [
    "variable_df = pd.DataFrame.from_dict(variable_params, orient='index')\n",
    "variable_df['range'] = variable_df.apply(lambda x: tuple(x), axis=1)\n",
    "variable_df = variable_df.sort_index()"
   ]
  },
  {
   "cell_type": "code",
   "execution_count": 137,
   "metadata": {
    "ExecuteTime": {
     "end_time": "2019-05-25T15:11:19.717922Z",
     "start_time": "2019-05-25T15:11:19.691068Z"
    }
   },
   "outputs": [
    {
     "name": "stdout",
     "output_type": "stream",
     "text": [
      "[3.000379046582502, 0.759879100666941, 0.9779854916816486, 0.8471854052241471, 0.5006582129540089, 4.325958947644152, 4.960041311226995, 89.59564427267352, 16.058709554729873, -3.1066356008556335, 904.3028206886041, 0.7934957012902615]\n"
     ]
    }
   ],
   "source": [
    "# Optimizer(\n",
    "#     dimensions,\n",
    "#     base_estimator='gp',\n",
    "#     n_random_starts=None,\n",
    "#     n_initial_points=10,\n",
    "#     acq_func='gp_hedge',\n",
    "#     acq_optimizer='auto',\n",
    "#     random_state=None,\n",
    "#     acq_func_kwargs=None,\n",
    "#     acq_optimizer_kwargs=None,\n",
    "# )\n",
    "\n",
    "opt = Optimizer(\n",
    "    variable_df['range'].tolist(), \n",
    "    base_estimator=config.get('base_estimator', 'ET'), \n",
    "    acq_optimizer=config.get(acq_optimizer, 'sampling'),\n",
    "    n_random_starts=config.get('n_random_starts', None),\n",
    "    n_initial_points=config.get('n_initial_points', 10),\n",
    "    acq_func=config.get('acq_func', 'gp_hedge'),\n",
    "    random_state=config.get('random_state', None),\n",
    "    acq_func_kwargs=config.get('acq_func_kwargs', None),\n",
    "    acq_optimizer_kwargs=config.get('acq_optimizer_kwargs', None)\n",
    ")\n",
    "next_x = opt.ask()\n",
    "\n",
    "variable_df['next'] = next_x\n",
    "f_val = xgb_crossval(variable_df['next'].to_dict())\n",
    "opt.tell(next_x, f_val)\n",
    "\n",
    "# f_val = objective(next_x)\n",
    "# opt.tell(next_x, f_val)\n"
   ]
  },
  {
   "cell_type": "code",
   "execution_count": 147,
   "metadata": {
    "ExecuteTime": {
     "end_time": "2019-05-25T15:19:00.672773Z",
     "start_time": "2019-05-25T15:18:51.660357Z"
    },
    "run_control": {
     "marked": true
    }
   },
   "outputs": [
    {
     "name": "stdout",
     "output_type": "stream",
     "text": [
      "0.6904807224089953\n"
     ]
    },
    {
     "data": {
      "text/plain": [
       "          fun: 0.47486795810625704\n",
       "    func_vals: array([0.47486796, 0.69048072])\n",
       "       models: []\n",
       " random_state: <mtrand.RandomState object at 0x10f624e58>\n",
       "        space: Space([Real(low=-5.0, high=5.0, prior='uniform', transform='identity'),\n",
       "       Real(low=0.1, high=1.0, prior='uniform', transform='identity'),\n",
       "       Real(low=0.1, high=1.0, prior='uniform', transform='identity'),\n",
       "       Real(low=0.1, high=1.0, prior='uniform', transform='identity'),\n",
       "       Real(low=0.0, high=1.0, prior='uniform', transform='identity'),\n",
       "       Real(low=-5.0, high=5.0, prior='uniform', transform='identity'),\n",
       "       Real(low=-5.0, high=5.0, prior='uniform', transform='identity'),\n",
       "       Real(low=1.0, high=100.0, prior='uniform', transform='identity'),\n",
       "       Real(low=1.0, high=30.0, prior='uniform', transform='identity'),\n",
       "       Real(low=-5.0, high=5.0, prior='uniform', transform='identity'),\n",
       "       Real(low=10.0, high=1000.0, prior='uniform', transform='identity'),\n",
       "       Real(low=0.1, high=1.0, prior='uniform', transform='identity')])\n",
       "        specs: None\n",
       "            x: [3.000379046582502, 0.759879100666941, 0.9779854916816486, 0.8471854052241471, 0.5006582129540089, 4.325958947644152, 4.960041311226995, 89.59564427267352, 16.058709554729873, -3.1066356008556335, 904.3028206886041, 0.7934957012902615]\n",
       "      x_iters: [[3.000379046582502, 0.759879100666941, 0.9779854916816486, 0.8471854052241471, 0.5006582129540089, 4.325958947644152, 4.960041311226995, 89.59564427267352, 16.058709554729873, -3.1066356008556335, 904.3028206886041, 0.7934957012902615], [4.9070593390429575, 0.519504121102633, 0.9828574888538592, 0.5232879778604249, 0.29300847122314294, 1.5256659146658995, -4.636497806275496, 31.869710344785254, 21.663360380659693, 1.3817883221833291, 646.825737734592, 0.7502194283577838]]"
      ]
     },
     "execution_count": 147,
     "metadata": {},
     "output_type": "execute_result"
    }
   ],
   "source": [
    "next_x = opt.ask()\n",
    "variable_df['next'] = next_x\n",
    "f_val = xgb_crossval(variable_df['next'].to_dict())\n",
    "print(f_val)\n",
    "opt.tell(next_x, f_val)"
   ]
  },
  {
   "cell_type": "code",
   "execution_count": 148,
   "metadata": {
    "ExecuteTime": {
     "end_time": "2019-05-25T15:36:09.915023Z",
     "start_time": "2019-05-25T15:36:09.910029Z"
    }
   },
   "outputs": [
    {
     "data": {
      "text/plain": [
       "{'model': 'xgboost.XGBClassifier',\n",
       " 'booster': 'gbtree',\n",
       " 'tree_method': 'auto',\n",
       " 'init_points': 1,\n",
       " 'n_iter': 100000,\n",
       " 'alpha': 0.001,\n",
       " 'n_restarts_optimizer': 1}"
      ]
     },
     "execution_count": 148,
     "metadata": {},
     "output_type": "execute_result"
    }
   ],
   "source": [
    "fixed_params.values()"
   ]
  },
  {
   "cell_type": "code",
   "execution_count": 152,
   "metadata": {
    "ExecuteTime": {
     "end_time": "2019-05-25T15:39:18.479994Z",
     "start_time": "2019-05-25T15:39:18.472426Z"
    }
   },
   "outputs": [
    {
     "data": {
      "text/plain": [
       "['alpha_exp',\n",
       " 'colsample_bylevel',\n",
       " 'colsample_bynode',\n",
       " 'colsample_bytree',\n",
       " 'eta',\n",
       " 'gamma_min_split_loss_exp',\n",
       " 'lambda_exp',\n",
       " 'max_delta_step',\n",
       " 'max_depth',\n",
       " 'min_child_weight_exp',\n",
       " 'n_estimators',\n",
       " 'subsample',\n",
       " 'model',\n",
       " 'booster',\n",
       " 'tree_method',\n",
       " 'init_points',\n",
       " 'n_iter',\n",
       " 'alpha',\n",
       " 'n_restarts_optimizer',\n",
       " 'auc']"
      ]
     },
     "execution_count": 152,
     "metadata": {},
     "output_type": "execute_result"
    }
   ],
   "source": [
    "header = list(variable_df.index.tolist() + list(fixed_params.keys()) + ['auc'])\n",
    "header"
   ]
  },
  {
   "cell_type": "code",
   "execution_count": 155,
   "metadata": {
    "ExecuteTime": {
     "end_time": "2019-05-25T15:40:00.834570Z",
     "start_time": "2019-05-25T15:40:00.830728Z"
    }
   },
   "outputs": [],
   "source": [
    "run_auc = f_val"
   ]
  },
  {
   "cell_type": "code",
   "execution_count": 158,
   "metadata": {
    "ExecuteTime": {
     "end_time": "2019-05-25T15:40:15.238015Z",
     "start_time": "2019-05-25T15:40:15.230540Z"
    },
    "run_control": {
     "marked": true
    }
   },
   "outputs": [
    {
     "data": {
      "text/plain": [
       "{'alpha_exp': 4.9070593390429575,\n",
       " 'colsample_bylevel': 0.519504121102633,\n",
       " 'colsample_bynode': 0.9828574888538592,\n",
       " 'colsample_bytree': 0.5232879778604249,\n",
       " 'eta': 0.29300847122314294,\n",
       " 'gamma_min_split_loss_exp': 1.5256659146658995,\n",
       " 'lambda_exp': -4.636497806275496,\n",
       " 'max_delta_step': 31.869710344785254,\n",
       " 'max_depth': 21.663360380659693,\n",
       " 'min_child_weight_exp': 1.3817883221833291,\n",
       " 'n_estimators': 646.825737734592,\n",
       " 'subsample': 0.7502194283577838,\n",
       " 'model': 'xgboost.XGBClassifier',\n",
       " 'booster': 'gbtree',\n",
       " 'tree_method': 'auto',\n",
       " 'init_points': 1,\n",
       " 'n_iter': 100000,\n",
       " 'alpha': 0.001,\n",
       " 'n_restarts_optimizer': 1,\n",
       " 'auc': 0.6904807224089953}"
      ]
     },
     "execution_count": 158,
     "metadata": {},
     "output_type": "execute_result"
    }
   ],
   "source": [
    "dict(zip(header, variable_df['next'].tolist() + list(fixed_params.values()) + [run_auc]))"
   ]
  },
  {
   "cell_type": "code",
   "execution_count": 160,
   "metadata": {
    "ExecuteTime": {
     "end_time": "2019-05-27T18:50:30.910835Z",
     "start_time": "2019-05-27T18:50:30.742420Z"
    }
   },
   "outputs": [],
   "source": [
    "mdl = '/Users/joshplotkin/Dropbox/data_science/modeling-football-outcomes/models/0228_with_rankings_winner_44feats_noml'\n",
    "\n",
    "config = json.load(open('/Users/joshplotkin/Dropbox/data_science/modeling-football-outcomes/06_model_development/config.json'))\n",
    "source_model = {\n",
    "    'config': json.load(open(f'{mdl}/model.json')),\n",
    "    'training': pd.read_csv(f'{mdl}/cv_data/training.csv'),\n",
    "    'scoring_only': pd.read_csv(f'{mdl}/cv_data/scoring_only.csv'),\n",
    "}"
   ]
  },
  {
   "cell_type": "code",
   "execution_count": 163,
   "metadata": {
    "ExecuteTime": {
     "end_time": "2019-05-27T18:51:00.659433Z",
     "start_time": "2019-05-27T18:51:00.648690Z"
    }
   },
   "outputs": [
    {
     "data": {
      "text/plain": [
       "['home_field___h_consecutive_home',\n",
       " 'home_field___h_home__ovr_wr_last_4_games',\n",
       " 'home_field___h_home__ovr_wr_last_8_games',\n",
       " 'home_field___h_home__ovr_wr_ytd',\n",
       " 'home_field___v_consecutive_visitor',\n",
       " 'home_field___v_visitor__ovr_wr_last_4_games',\n",
       " 'home_field___v_visitor__ovr_wr_last_8_games',\n",
       " 'home_field___v_visitor__ovr_wr_ytd',\n",
       " 'matchup___h_wr_past_3_seasons',\n",
       " 'matchup___is_same_division',\n",
       " 'rankings___h__dave_or_wtddvoa',\n",
       " 'rankings___h__defensedvoa',\n",
       " 'rankings___h__estim_winrate',\n",
       " 'rankings___h__offensedvoa',\n",
       " 'rankings___h__s_t_dvoa',\n",
       " 'rankings___v__dave_or_wtddvoa',\n",
       " 'rankings___v__defensedvoa',\n",
       " 'rankings___v__estim_winrate',\n",
       " 'rankings___v__offensedvoa',\n",
       " 'rankings___v__s_t_dvoa',\n",
       " 'team_history___h_ovr_wr_past_2_seasons',\n",
       " 'team_history___h_ovr_wr_past_3_seasons',\n",
       " 'team_history___h_ovr_wr_ytd',\n",
       " 'team_history___v_ovr_wr_past_2_seasons',\n",
       " 'team_history___v_ovr_wr_past_3_seasons',\n",
       " 'team_history___v_ovr_wr_ytd',\n",
       " 'time_date___game_time_eastern',\n",
       " 'time_date___is_sunday',\n",
       " 'time_date___week_id',\n",
       " 'travel___h_body_clock_from_last_wk',\n",
       " 'travel___h_days_since_last_game',\n",
       " 'travel___h_same_stadium_last_game',\n",
       " 'travel___h_travel_from_last_game_decay',\n",
       " 'travel___h_tz_change_last_10_days',\n",
       " 'travel___v_body_clock_from_last_wk',\n",
       " 'travel___v_days_since_last_game',\n",
       " 'travel___v_home_body_time',\n",
       " 'travel___v_same_stadium_last_game',\n",
       " 'travel___v_travel_from_last_game_decay',\n",
       " 'travel___v_tz_change_last_10_days',\n",
       " 'weather___humidity_pct',\n",
       " 'weather___temperature',\n",
       " 'weather___wind_chill',\n",
       " 'weather___wind_mph']"
      ]
     },
     "execution_count": 163,
     "metadata": {},
     "output_type": "execute_result"
    }
   ],
   "source": [
    "source_model['config']['features_list']"
   ]
  },
  {
   "cell_type": "code",
   "execution_count": null,
   "metadata": {},
   "outputs": [],
   "source": []
  }
 ],
 "metadata": {
  "kernelspec": {
   "display_name": "Python 3",
   "language": "python",
   "name": "python3"
  },
  "language_info": {
   "codemirror_mode": {
    "name": "ipython",
    "version": 3
   },
   "file_extension": ".py",
   "mimetype": "text/x-python",
   "name": "python",
   "nbconvert_exporter": "python",
   "pygments_lexer": "ipython3",
   "version": "3.7.3"
  },
  "toc": {
   "base_numbering": 1,
   "nav_menu": {},
   "number_sections": true,
   "sideBar": true,
   "skip_h1_title": false,
   "title_cell": "Table of Contents",
   "title_sidebar": "Contents",
   "toc_cell": false,
   "toc_position": {
    "height": "calc(100% - 180px)",
    "left": "10px",
    "top": "150px",
    "width": "194.188px"
   },
   "toc_section_display": true,
   "toc_window_display": true
  }
 },
 "nbformat": 4,
 "nbformat_minor": 2
}
