{
 "cells": [
  {
   "cell_type": "code",
   "execution_count": 1,
   "metadata": {
    "ExecuteTime": {
     "end_time": "2019-01-22T04:12:24.380266Z",
     "start_time": "2019-01-22T04:12:18.345400Z"
    }
   },
   "outputs": [
    {
     "data": {
      "text/html": [
       "<style>.container {width:90% !important;}</style>"
      ],
      "text/plain": [
       "<IPython.core.display.HTML object>"
      ]
     },
     "metadata": {},
     "output_type": "display_data"
    }
   ],
   "source": [
    "%run ../initialize.ipynb"
   ]
  },
  {
   "cell_type": "code",
   "execution_count": 2,
   "metadata": {
    "ExecuteTime": {
     "end_time": "2019-01-22T04:12:24.515045Z",
     "start_time": "2019-01-22T04:12:24.395464Z"
    }
   },
   "outputs": [
    {
     "data": {
      "image/png": "[encoded data removed]",
      "text/plain": [
       "<Figure size 768x96 with 1 Axes>"
      ]
     },
     "metadata": {},
     "output_type": "display_data"
    }
   ],
   "source": [
    "import sys\n",
    "sys.path.append('../modeling-football-outcomes/config')\n",
    "import mpl_style\n",
    "colors = rcParams['axes.prop_cycle'].by_key()['color']"
   ]
  },
  {
   "cell_type": "markdown",
   "metadata": {},
   "source": [
    "## Global functions"
   ]
  },
  {
   "cell_type": "code",
   "execution_count": 3,
   "metadata": {
    "ExecuteTime": {
     "end_time": "2019-01-22T04:12:24.535956Z",
     "start_time": "2019-01-22T04:12:24.520481Z"
    }
   },
   "outputs": [],
   "source": [
    "def get_window(window_type, n, partition_cols, date_orderby_col):\n",
    "    '''accepts window type (days, games, seasons),\n",
    "     size of window n,\n",
    "     and window fields (partition and sort), \n",
    "     and returns a spark Window'''\n",
    "    assert type(partition_cols) is list\n",
    "    assert type(date_orderby_col) is str\n",
    "    assert type(n) is int\n",
    "    assert window_type in ['games','days','seasons']\n",
    "    \n",
    "    from pyspark.sql.window import Window\n",
    "    if window_type == 'games':\n",
    "        ## fixed number of games\n",
    "        return Window.partitionBy(*partition_cols)\\\n",
    "                  .orderBy(col(date_orderby_col).desc())\\\n",
    "                  .rowsBetween(1, n)\n",
    "\n",
    "    elif window_type == 'days':\n",
    "        ## fixed number of days\n",
    "        seconds = 24*60*60*n\n",
    "        return Window.partitionBy(*partition_cols)\\\n",
    "                  .orderBy(col(date_orderby_col).cast('timestamp').cast('long'))\\\n",
    "                  .rangeBetween(-seconds, -1)\n",
    "\n",
    "    elif window_type == 'seasons':\n",
    "        ## fixed number of seasons, including current\n",
    "        ## n = 1 is YTD\n",
    "        seconds = 24*60*60*(180 + 365*(n-1))\n",
    "        return Window.partitionBy(*partition_cols)\\\n",
    "                  .orderBy(col(date_orderby_col).cast('timestamp').cast('long'))\\\n",
    "                  .rangeBetween(-seconds, -1)"
   ]
  },
  {
   "cell_type": "markdown",
   "metadata": {},
   "source": [
    "## Travel Features\n",
    "* key: (game_id)\n",
    "* table name: features.matchup"
   ]
  },
  {
   "cell_type": "code",
   "execution_count": 4,
   "metadata": {
    "ExecuteTime": {
     "end_time": "2019-01-22T04:12:24.554716Z",
     "start_time": "2019-01-22T04:12:24.547416Z"
    }
   },
   "outputs": [],
   "source": [
    "key = 'game_id'\n",
    "out_tbl = 'features.travel'\n",
    "features_list = []"
   ]
  },
  {
   "cell_type": "code",
   "execution_count": 16,
   "metadata": {
    "ExecuteTime": {
     "end_time": "2019-01-22T04:20:45.260414Z",
     "start_time": "2019-01-22T04:20:44.962414Z"
    }
   },
   "outputs": [
    {
     "data": {
      "text/html": [
       "<div>\n",
       "<style scoped>\n",
       "    .dataframe tbody tr th:only-of-type {\n",
       "        vertical-align: middle;\n",
       "    }\n",
       "\n",
       "    .dataframe tbody tr th {\n",
       "        vertical-align: top;\n",
       "    }\n",
       "\n",
       "    .dataframe thead th {\n",
       "        text-align: right;\n",
       "    }\n",
       "</style>\n",
       "<table border=\"1\" class=\"dataframe\">\n",
       "  <thead>\n",
       "    <tr style=\"text-align: right;\">\n",
       "      <th></th>\n",
       "      <th>game_id</th>\n",
       "      <th>stadium</th>\n",
       "      <th>season</th>\n",
       "      <th>date</th>\n",
       "      <th>h_team_id</th>\n",
       "      <th>v_team_id</th>\n",
       "      <th>is_neutral</th>\n",
       "      <th>lat</th>\n",
       "      <th>long</th>\n",
       "      <th>timezone</th>\n",
       "      <th>stadium_home_team</th>\n",
       "      <th>game_time_eastern</th>\n",
       "      <th>game_time_local</th>\n",
       "    </tr>\n",
       "  </thead>\n",
       "  <tbody>\n",
       "    <tr>\n",
       "      <th>0</th>\n",
       "      <td>201511150ram</td>\n",
       "      <td>Edward Jones Dome</td>\n",
       "      <td>2015</td>\n",
       "      <td>2015-11-15</td>\n",
       "      <td>ram</td>\n",
       "      <td>chi</td>\n",
       "      <td>0</td>\n",
       "      <td>38.63278</td>\n",
       "      <td>-90.18861</td>\n",
       "      <td>-6.0</td>\n",
       "      <td>['ram']</td>\n",
       "      <td>13.0</td>\n",
       "      <td>12.0</td>\n",
       "    </tr>\n",
       "    <tr>\n",
       "      <th>1</th>\n",
       "      <td>201511090sdg</td>\n",
       "      <td>Qualcomm Stadium</td>\n",
       "      <td>2015</td>\n",
       "      <td>2015-11-09</td>\n",
       "      <td>sdg</td>\n",
       "      <td>chi</td>\n",
       "      <td>0</td>\n",
       "      <td>32.78306</td>\n",
       "      <td>-117.11944</td>\n",
       "      <td>-8.0</td>\n",
       "      <td>['sdg']</td>\n",
       "      <td>21.0</td>\n",
       "      <td>18.0</td>\n",
       "    </tr>\n",
       "    <tr>\n",
       "      <th>2</th>\n",
       "      <td>201510180det</td>\n",
       "      <td>Ford Field</td>\n",
       "      <td>2015</td>\n",
       "      <td>2015-10-18</td>\n",
       "      <td>det</td>\n",
       "      <td>chi</td>\n",
       "      <td>0</td>\n",
       "      <td>42.34000</td>\n",
       "      <td>-83.04556</td>\n",
       "      <td>-5.0</td>\n",
       "      <td>['det']</td>\n",
       "      <td>13.0</td>\n",
       "      <td>13.0</td>\n",
       "    </tr>\n",
       "    <tr>\n",
       "      <th>3</th>\n",
       "      <td>201512270tam</td>\n",
       "      <td>Raymond James Stadium</td>\n",
       "      <td>2015</td>\n",
       "      <td>2015-12-27</td>\n",
       "      <td>tam</td>\n",
       "      <td>chi</td>\n",
       "      <td>0</td>\n",
       "      <td>27.97583</td>\n",
       "      <td>-82.50333</td>\n",
       "      <td>-5.0</td>\n",
       "      <td>['tam']</td>\n",
       "      <td>13.0</td>\n",
       "      <td>13.0</td>\n",
       "    </tr>\n",
       "    <tr>\n",
       "      <th>4</th>\n",
       "      <td>201510110kan</td>\n",
       "      <td>Arrowhead Stadium</td>\n",
       "      <td>2015</td>\n",
       "      <td>2015-10-11</td>\n",
       "      <td>kan</td>\n",
       "      <td>chi</td>\n",
       "      <td>0</td>\n",
       "      <td>39.04889</td>\n",
       "      <td>-94.48389</td>\n",
       "      <td>-6.0</td>\n",
       "      <td>['kan']</td>\n",
       "      <td>13.0</td>\n",
       "      <td>12.0</td>\n",
       "    </tr>\n",
       "  </tbody>\n",
       "</table>\n",
       "</div>"
      ],
      "text/plain": [
       "        game_id                stadium  season        date h_team_id  \\\n",
       "0  201511150ram      Edward Jones Dome    2015  2015-11-15       ram   \n",
       "1  201511090sdg       Qualcomm Stadium    2015  2015-11-09       sdg   \n",
       "2  201510180det             Ford Field    2015  2015-10-18       det   \n",
       "3  201512270tam  Raymond James Stadium    2015  2015-12-27       tam   \n",
       "4  201510110kan      Arrowhead Stadium    2015  2015-10-11       kan   \n",
       "\n",
       "  v_team_id  is_neutral       lat       long  timezone stadium_home_team  \\\n",
       "0       chi           0  38.63278  -90.18861      -6.0           ['ram']   \n",
       "1       chi           0  32.78306 -117.11944      -8.0           ['sdg']   \n",
       "2       chi           0  42.34000  -83.04556      -5.0           ['det']   \n",
       "3       chi           0  27.97583  -82.50333      -5.0           ['tam']   \n",
       "4       chi           0  39.04889  -94.48389      -6.0           ['kan']   \n",
       "\n",
       "   game_time_eastern  game_time_local  \n",
       "0               13.0             12.0  \n",
       "1               21.0             18.0  \n",
       "2               13.0             13.0  \n",
       "3               13.0             13.0  \n",
       "4               13.0             12.0  "
      ]
     },
     "execution_count": 16,
     "metadata": {},
     "output_type": "execute_result"
    }
   ],
   "source": [
    "game = spark.table('game').select('game_id','season','date','stadium','h_team_id',\n",
    "                                  'v_team_id','is_neutral')\n",
    "stadium = spark.table('stadium').select('stadium','season','lat','long','timezone',\n",
    "                                        'stadium_home_team')\n",
    "game_tines = spark.table('game_metadata').select('game_id','game_time_eastern',\n",
    "                                                 'game_time_local')\n",
    "\n",
    "game_stad = game.join(stadium, on=['stadium','season'])\\\n",
    "                .join(game_tines, on=['game_id'])\n",
    "\n",
    "game_stad.limit(5).toPandas()"
   ]
  },
  {
   "cell_type": "code",
   "execution_count": 17,
   "metadata": {
    "ExecuteTime": {
     "end_time": "2019-01-22T04:20:50.478061Z",
     "start_time": "2019-01-22T04:20:45.775632Z"
    }
   },
   "outputs": [
    {
     "data": {
      "text/html": [
       "<div>\n",
       "<style scoped>\n",
       "    .dataframe tbody tr th:only-of-type {\n",
       "        vertical-align: middle;\n",
       "    }\n",
       "\n",
       "    .dataframe tbody tr th {\n",
       "        vertical-align: top;\n",
       "    }\n",
       "\n",
       "    .dataframe thead th {\n",
       "        text-align: right;\n",
       "    }\n",
       "</style>\n",
       "<table border=\"1\" class=\"dataframe\">\n",
       "  <thead>\n",
       "    <tr style=\"text-align: right;\">\n",
       "      <th></th>\n",
       "      <th>v_team_id</th>\n",
       "      <th>season</th>\n",
       "      <th>count</th>\n",
       "    </tr>\n",
       "  </thead>\n",
       "  <tbody>\n",
       "    <tr>\n",
       "      <th>0</th>\n",
       "      <td>buf</td>\n",
       "      <td>2009</td>\n",
       "      <td>2</td>\n",
       "    </tr>\n",
       "    <tr>\n",
       "      <th>1</th>\n",
       "      <td>buf</td>\n",
       "      <td>2013</td>\n",
       "      <td>2</td>\n",
       "    </tr>\n",
       "    <tr>\n",
       "      <th>2</th>\n",
       "      <td>min</td>\n",
       "      <td>2010</td>\n",
       "      <td>2</td>\n",
       "    </tr>\n",
       "    <tr>\n",
       "      <th>3</th>\n",
       "      <td>buf</td>\n",
       "      <td>2010</td>\n",
       "      <td>2</td>\n",
       "    </tr>\n",
       "    <tr>\n",
       "      <th>4</th>\n",
       "      <td>buf</td>\n",
       "      <td>2012</td>\n",
       "      <td>2</td>\n",
       "    </tr>\n",
       "    <tr>\n",
       "      <th>5</th>\n",
       "      <td>buf</td>\n",
       "      <td>2011</td>\n",
       "      <td>2</td>\n",
       "    </tr>\n",
       "    <tr>\n",
       "      <th>6</th>\n",
       "      <td>buf</td>\n",
       "      <td>2008</td>\n",
       "      <td>2</td>\n",
       "    </tr>\n",
       "  </tbody>\n",
       "</table>\n",
       "</div>"
      ],
      "text/plain": [
       "  v_team_id  season  count\n",
       "0       buf    2009      2\n",
       "1       buf    2013      2\n",
       "2       min    2010      2\n",
       "3       buf    2010      2\n",
       "4       buf    2012      2\n",
       "5       buf    2011      2\n",
       "6       buf    2008      2"
      ]
     },
     "execution_count": 17,
     "metadata": {},
     "output_type": "execute_result"
    }
   ],
   "source": [
    "## join in with visitor's lat/long and timezone\n",
    "visitor_home = game_stad.withColumn(\n",
    "    'tmp', \n",
    "    ## python udf to convert string list to Spark Array\n",
    "    udf(lambda x: eval(x), ArrayType(StringType()))('stadium_home_team')\n",
    ").select(\n",
    "    'stadium','season',\n",
    "    col('lat').alias('v_lat'),\n",
    "    col('long').alias('v_long'),\n",
    "    col('timezone').alias('v_timezone'),\n",
    "    F.explode('tmp').alias('v_team_id')\n",
    ")\n",
    "\n",
    "## dups exist, e.g. Bills play games in Toronto and I considered that\n",
    "## their home stadium, so they have 2 home stadiums some season\n",
    "visitor_home.groupby('v_team_id','season')\\\n",
    "    .agg(F.countDistinct('stadium').alias('count'))\\\n",
    "    .filter(col('count') > 1)\\\n",
    "    .toPandas()\n",
    "\n",
    "visitor_count = visitor_home.groupby('v_team_id','season','stadium')\\\n",
    "                    .count()\n",
    "\n",
    "visitor_max = visitor_count.groupby('v_team_id','season')\\\n",
    "                         .agg(F.max('count').alias('count'))\n",
    "\n",
    "visitor_uniq = visitor_count.join(\n",
    "    visitor_max, on=['v_team_id','season','count']\n",
    ").drop('count')\n",
    "\n",
    "assert visitor_uniq.groupby('v_team_id','season').count()\\\n",
    "        .toPandas()['count'].max() == 1"
   ]
  },
  {
   "cell_type": "code",
   "execution_count": 18,
   "metadata": {
    "ExecuteTime": {
     "end_time": "2019-01-22T04:20:52.773554Z",
     "start_time": "2019-01-22T04:20:50.483671Z"
    }
   },
   "outputs": [
    {
     "data": {
      "text/html": [
       "<div>\n",
       "<style scoped>\n",
       "    .dataframe tbody tr th:only-of-type {\n",
       "        vertical-align: middle;\n",
       "    }\n",
       "\n",
       "    .dataframe tbody tr th {\n",
       "        vertical-align: top;\n",
       "    }\n",
       "\n",
       "    .dataframe thead th {\n",
       "        text-align: right;\n",
       "    }\n",
       "</style>\n",
       "<table border=\"1\" class=\"dataframe\">\n",
       "  <thead>\n",
       "    <tr style=\"text-align: right;\">\n",
       "      <th></th>\n",
       "      <th>season</th>\n",
       "      <th>v_team_id</th>\n",
       "      <th>v_lat</th>\n",
       "      <th>v_long</th>\n",
       "      <th>v_tz</th>\n",
       "    </tr>\n",
       "  </thead>\n",
       "  <tbody>\n",
       "    <tr>\n",
       "      <th>0</th>\n",
       "      <td>2013</td>\n",
       "      <td>dal</td>\n",
       "      <td>32.74778</td>\n",
       "      <td>-97.09278</td>\n",
       "      <td>-6.0</td>\n",
       "    </tr>\n",
       "    <tr>\n",
       "      <th>1</th>\n",
       "      <td>2009</td>\n",
       "      <td>nyj</td>\n",
       "      <td>40.81222</td>\n",
       "      <td>-74.07694</td>\n",
       "      <td>-5.0</td>\n",
       "    </tr>\n",
       "    <tr>\n",
       "      <th>2</th>\n",
       "      <td>2013</td>\n",
       "      <td>sdg</td>\n",
       "      <td>32.78306</td>\n",
       "      <td>-117.11944</td>\n",
       "      <td>-8.0</td>\n",
       "    </tr>\n",
       "    <tr>\n",
       "      <th>3</th>\n",
       "      <td>2016</td>\n",
       "      <td>crd</td>\n",
       "      <td>33.52750</td>\n",
       "      <td>-112.26250</td>\n",
       "      <td>-7.0</td>\n",
       "    </tr>\n",
       "    <tr>\n",
       "      <th>4</th>\n",
       "      <td>2008</td>\n",
       "      <td>crd</td>\n",
       "      <td>33.52750</td>\n",
       "      <td>-112.26250</td>\n",
       "      <td>-7.0</td>\n",
       "    </tr>\n",
       "  </tbody>\n",
       "</table>\n",
       "</div>"
      ],
      "text/plain": [
       "   season v_team_id     v_lat     v_long  v_tz\n",
       "0    2013       dal  32.74778  -97.09278  -6.0\n",
       "1    2009       nyj  40.81222  -74.07694  -5.0\n",
       "2    2013       sdg  32.78306 -117.11944  -8.0\n",
       "3    2016       crd  33.52750 -112.26250  -7.0\n",
       "4    2008       crd  33.52750 -112.26250  -7.0"
      ]
     },
     "execution_count": 18,
     "metadata": {},
     "output_type": "execute_result"
    }
   ],
   "source": [
    "v_stad_info = visitor_uniq.join(\n",
    "    spark.table('stadium').select(\n",
    "        'stadium',\n",
    "        'season',\n",
    "        col('lat').alias('v_lat'),\n",
    "        col('long').alias('v_long'),\n",
    "        col('timezone').alias('v_tz'),\n",
    "    ), on=['stadium','season']\n",
    ").drop('stadium')\n",
    "\n",
    "v_stad_info.limit(5).toPandas()"
   ]
  },
  {
   "cell_type": "code",
   "execution_count": 21,
   "metadata": {
    "ExecuteTime": {
     "end_time": "2019-01-22T04:21:29.447620Z",
     "start_time": "2019-01-22T04:21:29.349931Z"
    }
   },
   "outputs": [],
   "source": [
    "game_stad_info = game_stad.select(\n",
    "    'game_id','season','date','h_team_id','v_team_id','is_neutral',\n",
    "    'game_time_eastern','game_time_local',\n",
    "    col('lat').alias('h_lat'),\n",
    "    col('long').alias('h_long'),\n",
    "    col('timezone').alias('h_tz')\n",
    ").join(\n",
    "    v_stad_info, on=['v_team_id','season']\n",
    ").select(\n",
    "    'game_id','season','date','is_neutral','h_team_id','v_team_id',\n",
    "    'h_lat', 'h_long', 'h_tz', 'v_lat','v_long','v_tz',\n",
    "    'game_time_eastern','game_time_local'\n",
    ")"
   ]
  },
  {
   "cell_type": "code",
   "execution_count": 22,
   "metadata": {
    "ExecuteTime": {
     "end_time": "2019-01-22T04:21:33.498390Z",
     "start_time": "2019-01-22T04:21:30.341768Z"
    }
   },
   "outputs": [
    {
     "data": {
      "text/html": [
       "<div>\n",
       "<style scoped>\n",
       "    .dataframe tbody tr th:only-of-type {\n",
       "        vertical-align: middle;\n",
       "    }\n",
       "\n",
       "    .dataframe tbody tr th {\n",
       "        vertical-align: top;\n",
       "    }\n",
       "\n",
       "    .dataframe thead th {\n",
       "        text-align: right;\n",
       "    }\n",
       "</style>\n",
       "<table border=\"1\" class=\"dataframe\">\n",
       "  <thead>\n",
       "    <tr style=\"text-align: right;\">\n",
       "      <th></th>\n",
       "      <th>game_id</th>\n",
       "      <th>season</th>\n",
       "      <th>date</th>\n",
       "      <th>is_neutral</th>\n",
       "      <th>h_team_id</th>\n",
       "      <th>v_team_id</th>\n",
       "      <th>h_lat</th>\n",
       "      <th>h_long</th>\n",
       "      <th>h_tz</th>\n",
       "      <th>v_lat</th>\n",
       "      <th>v_long</th>\n",
       "      <th>v_tz</th>\n",
       "      <th>game_time_eastern</th>\n",
       "      <th>game_time_local</th>\n",
       "    </tr>\n",
       "  </thead>\n",
       "  <tbody>\n",
       "    <tr>\n",
       "      <th>0</th>\n",
       "      <td>201109250buf</td>\n",
       "      <td>2011</td>\n",
       "      <td>2011-09-25</td>\n",
       "      <td>0</td>\n",
       "      <td>buf</td>\n",
       "      <td>nwe</td>\n",
       "      <td>42.77400</td>\n",
       "      <td>-78.78700</td>\n",
       "      <td>-5.0</td>\n",
       "      <td>42.090944</td>\n",
       "      <td>-71.264344</td>\n",
       "      <td>-5.0</td>\n",
       "      <td>13.0</td>\n",
       "      <td>13.0</td>\n",
       "    </tr>\n",
       "    <tr>\n",
       "      <th>1</th>\n",
       "      <td>201112110was</td>\n",
       "      <td>2011</td>\n",
       "      <td>2011-12-11</td>\n",
       "      <td>0</td>\n",
       "      <td>was</td>\n",
       "      <td>nwe</td>\n",
       "      <td>38.90778</td>\n",
       "      <td>-76.86444</td>\n",
       "      <td>-5.0</td>\n",
       "      <td>42.090944</td>\n",
       "      <td>-71.264344</td>\n",
       "      <td>-5.0</td>\n",
       "      <td>13.0</td>\n",
       "      <td>13.0</td>\n",
       "    </tr>\n",
       "    <tr>\n",
       "      <th>2</th>\n",
       "      <td>201110300pit</td>\n",
       "      <td>2011</td>\n",
       "      <td>2011-10-30</td>\n",
       "      <td>0</td>\n",
       "      <td>pit</td>\n",
       "      <td>nwe</td>\n",
       "      <td>40.44667</td>\n",
       "      <td>-80.01583</td>\n",
       "      <td>-5.0</td>\n",
       "      <td>42.090944</td>\n",
       "      <td>-71.264344</td>\n",
       "      <td>-5.0</td>\n",
       "      <td>16.0</td>\n",
       "      <td>16.0</td>\n",
       "    </tr>\n",
       "    <tr>\n",
       "      <th>3</th>\n",
       "      <td>201111270phi</td>\n",
       "      <td>2011</td>\n",
       "      <td>2011-11-27</td>\n",
       "      <td>0</td>\n",
       "      <td>phi</td>\n",
       "      <td>nwe</td>\n",
       "      <td>39.90083</td>\n",
       "      <td>-75.16750</td>\n",
       "      <td>-5.0</td>\n",
       "      <td>42.090944</td>\n",
       "      <td>-71.264344</td>\n",
       "      <td>-5.0</td>\n",
       "      <td>16.0</td>\n",
       "      <td>16.0</td>\n",
       "    </tr>\n",
       "    <tr>\n",
       "      <th>4</th>\n",
       "      <td>201109120mia</td>\n",
       "      <td>2011</td>\n",
       "      <td>2011-09-12</td>\n",
       "      <td>0</td>\n",
       "      <td>mia</td>\n",
       "      <td>nwe</td>\n",
       "      <td>25.95806</td>\n",
       "      <td>-80.23889</td>\n",
       "      <td>-5.0</td>\n",
       "      <td>42.090944</td>\n",
       "      <td>-71.264344</td>\n",
       "      <td>-5.0</td>\n",
       "      <td>19.0</td>\n",
       "      <td>19.0</td>\n",
       "    </tr>\n",
       "  </tbody>\n",
       "</table>\n",
       "</div>"
      ],
      "text/plain": [
       "        game_id  season        date  is_neutral h_team_id v_team_id     h_lat  \\\n",
       "0  201109250buf    2011  2011-09-25           0       buf       nwe  42.77400   \n",
       "1  201112110was    2011  2011-12-11           0       was       nwe  38.90778   \n",
       "2  201110300pit    2011  2011-10-30           0       pit       nwe  40.44667   \n",
       "3  201111270phi    2011  2011-11-27           0       phi       nwe  39.90083   \n",
       "4  201109120mia    2011  2011-09-12           0       mia       nwe  25.95806   \n",
       "\n",
       "     h_long  h_tz      v_lat     v_long  v_tz  game_time_eastern  \\\n",
       "0 -78.78700  -5.0  42.090944 -71.264344  -5.0               13.0   \n",
       "1 -76.86444  -5.0  42.090944 -71.264344  -5.0               13.0   \n",
       "2 -80.01583  -5.0  42.090944 -71.264344  -5.0               16.0   \n",
       "3 -75.16750  -5.0  42.090944 -71.264344  -5.0               16.0   \n",
       "4 -80.23889  -5.0  42.090944 -71.264344  -5.0               19.0   \n",
       "\n",
       "   game_time_local  \n",
       "0             13.0  \n",
       "1             13.0  \n",
       "2             16.0  \n",
       "3             16.0  \n",
       "4             19.0  "
      ]
     },
     "execution_count": 22,
     "metadata": {},
     "output_type": "execute_result"
    }
   ],
   "source": [
    "game_stad_info.limit(5).toPandas()"
   ]
  },
  {
   "cell_type": "markdown",
   "metadata": {},
   "source": [
    "### Travel from last game"
   ]
  },
  {
   "cell_type": "markdown",
   "metadata": {},
   "source": [
    "### Distance from home stadium"
   ]
  },
  {
   "cell_type": "markdown",
   "metadata": {},
   "source": [
    "### Body clock time\n",
    "* visiting team's body clock\n",
    "* game in last week's time for visiting team\n",
    "* home team's game time last week"
   ]
  },
  {
   "cell_type": "markdown",
   "metadata": {},
   "source": [
    "### Travel last 3, 5 games"
   ]
  },
  {
   "cell_type": "markdown",
   "metadata": {},
   "source": [
    "### travel distance from last game, decayed by time (cross-country in 10 days is not as bad as 5)"
   ]
  },
  {
   "cell_type": "code",
   "execution_count": null,
   "metadata": {},
   "outputs": [],
   "source": []
  }
 ],
 "metadata": {
  "kernelspec": {
   "display_name": "Python 2",
   "language": "python",
   "name": "python2"
  },
  "language_info": {
   "codemirror_mode": {
    "name": "ipython",
    "version": 2
   },
   "file_extension": ".py",
   "mimetype": "text/x-python",
   "name": "python",
   "nbconvert_exporter": "python",
   "pygments_lexer": "ipython2",
   "version": "2.7.15"
  },
  "toc": {
   "base_numbering": 1,
   "nav_menu": {},
   "number_sections": true,
   "sideBar": true,
   "skip_h1_title": false,
   "title_cell": "Table of Contents",
   "title_sidebar": "Contents",
   "toc_cell": false,
   "toc_position": {},
   "toc_section_display": true,
   "toc_window_display": false
  }
 },
 "nbformat": 4,
 "nbformat_minor": 2
}
