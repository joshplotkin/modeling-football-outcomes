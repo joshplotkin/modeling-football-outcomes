{
 "cells": [
  {
   "cell_type": "markdown",
   "metadata": {
    "ExecuteTime": {
     "end_time": "2019-01-05T05:35:21.308628Z",
     "start_time": "2019-01-05T05:35:21.303092Z"
    }
   },
   "source": [
    "### Boilerplate"
   ]
  },
  {
   "cell_type": "code",
   "execution_count": 3,
   "metadata": {
    "ExecuteTime": {
     "end_time": "2019-01-05T05:40:08.322822Z",
     "start_time": "2019-01-05T05:40:08.194675Z"
    }
   },
   "outputs": [
    {
     "data": {
      "text/html": [
       "<style>.container {width:90% !important;}</style>"
      ],
      "text/plain": [
       "<IPython.core.display.HTML object>"
      ]
     },
     "metadata": {},
     "output_type": "display_data"
    },
    {
     "data": {
      "text/plain": [
       "DataFrame[]"
      ]
     },
     "execution_count": 3,
     "metadata": {},
     "output_type": "execute_result"
    },
    {
     "data": {
      "text/plain": [
       "DataFrame[]"
      ]
     },
     "execution_count": 3,
     "metadata": {},
     "output_type": "execute_result"
    }
   ],
   "source": [
    "from bs4 import BeautifulSoup\n",
    "import pandas as pd\n",
    "\n",
    "import pyspark.sql.functions as F\n",
    "\n",
    "from IPython.core.interactiveshell import InteractiveShell\n",
    "from IPython.core.display import display, HTML\n",
    "InteractiveShell.ast_node_interactivity = \"all\"\n",
    "display(HTML('<style>.container {width:90% !important;}</style>'))\n",
    "\n",
    "spark.sql('CREATE DATABASE IF NOT EXISTS football_games')\n",
    "spark.sql('USE football_games')"
   ]
  },
  {
   "cell_type": "markdown",
   "metadata": {},
   "source": [
    "### Write to Postgres for SQL Alchemy ER Diagram"
   ]
  },
  {
   "cell_type": "markdown",
   "metadata": {},
   "source": [
    "#### Dependencies on Mac, assuming postgres is installed and running"
   ]
  },
  {
   "cell_type": "code",
   "execution_count": 4,
   "metadata": {
    "ExecuteTime": {
     "end_time": "2019-01-05T05:40:08.340616Z",
     "start_time": "2019-01-05T05:40:08.330281Z"
    }
   },
   "outputs": [],
   "source": [
    "# !brew install postgres\n",
    "# !brew services start postgresql\n",
    "# !conda install -y psycopg2 graphviz\n",
    "# !brew install eralchemy\n",
    "# !pip install eralchemy\n",
    "\n",
    "# !alias python3=/usr/local/Cellar/eralchemy/1.2.10_1/libexec/bin/python3.7\n",
    "# !cd /tmp\n",
    "# !git clone https://github.com/psycopg/psycopg2.git\n",
    "# !cd psycopg2/\n",
    "# !python3 setup.py build\n",
    "# !python3 setup.py install\n",
    "# !brew install openssl@1.1"
   ]
  },
  {
   "cell_type": "code",
   "execution_count": 6,
   "metadata": {
    "ExecuteTime": {
     "end_time": "2019-01-05T05:41:23.238370Z",
     "start_time": "2019-01-05T05:41:22.293126Z"
    }
   },
   "outputs": [],
   "source": [
    "from sqlalchemy import create_engine\n",
    "\n",
    "db_string = \"postgres://joshplotkin@localhost:5432/postgres\"\n",
    "db = create_engine(db_string, isolation_level=\"AUTOCOMMIT\")\n",
    "_ = db.execute('DROP DATABASE IF EXISTS football_data')\n",
    "_ = db.execute('CREATE DATABASE football_data')"
   ]
  },
  {
   "cell_type": "code",
   "execution_count": 7,
   "metadata": {
    "ExecuteTime": {
     "end_time": "2019-01-05T05:41:24.224087Z",
     "start_time": "2019-01-05T05:41:24.216340Z"
    }
   },
   "outputs": [],
   "source": [
    "db_string = \"postgres://joshplotkin@localhost:5432/football_data\"\n",
    "db = create_engine(db_string, isolation_level=\"AUTOCOMMIT\")"
   ]
  },
  {
   "cell_type": "markdown",
   "metadata": {},
   "source": [
    "#### Write tables to postgres, with primary key"
   ]
  },
  {
   "cell_type": "code",
   "execution_count": 8,
   "metadata": {
    "ExecuteTime": {
     "end_time": "2019-01-05T05:41:44.941255Z",
     "start_time": "2019-01-05T05:41:24.641243Z"
    }
   },
   "outputs": [],
   "source": [
    "tables = [\n",
    "    ('team_season', ['season','team_id']),\n",
    "    ('coach', ['coach_id']),\n",
    "    ('stadium', ['stadium']),\n",
    "    ('game_line', ['game_id']),\n",
    "    ('game_outcome', ['game_id']),\n",
    "    ('game_metadata', ['game_id']),\n",
    "    ('game', ['game_id']),\n",
    "    ('dvoa', ['team_id', 'season', 'week_id']),\n",
    "]\n",
    "\n",
    "for tbl, key in tables:\n",
    "    tmp = spark.table(tbl).toPandas().set_index(key)\n",
    "    ## write pandas DF to Postgres Table\n",
    "    tmp.to_sql(tbl, con=db, if_exists='replace')\n",
    "    ## add primary key\n",
    "    _ = db.execute(\n",
    "        'ALTER TABLE {} ADD PRIMARY KEY ({});'\n",
    "        .format(tbl, ', '.join(key))\n",
    "    )    \n",
    "\n",
    "for h_v in ['h','v']:\n",
    "    _ = db.execute('''ALTER TABLE game \n",
    "               ADD CONSTRAINT unique_team_season_week_{0}\n",
    "               UNIQUE ({0}_team_id, season, week_id);\n",
    "            '''\n",
    "            .format(h_v))   "
   ]
  },
  {
   "cell_type": "markdown",
   "metadata": {},
   "source": [
    "#### Alter tables to add foreign keys"
   ]
  },
  {
   "cell_type": "code",
   "execution_count": 9,
   "metadata": {
    "ExecuteTime": {
     "end_time": "2019-01-05T05:41:45.102491Z",
     "start_time": "2019-01-05T05:41:44.947905Z"
    }
   },
   "outputs": [],
   "source": [
    "for h_v in ['h']: # 'v'\n",
    "    sql = '''ALTER TABLE game\n",
    "        ADD CONSTRAINT {0}_team_season_week_foreign\n",
    "        FOREIGN KEY ({0}_team_id, season, week_id)\n",
    "        REFERENCES dvoa(team_id, season, week_id)\n",
    "        ON DELETE CASCADE;\n",
    "        '''.format(h_v)\n",
    "    _ = db.execute(sql)"
   ]
  },
  {
   "cell_type": "code",
   "execution_count": 10,
   "metadata": {
    "ExecuteTime": {
     "end_time": "2019-01-05T05:41:45.212257Z",
     "start_time": "2019-01-05T05:41:45.108231Z"
    }
   },
   "outputs": [
    {
     "data": {
      "text/plain": [
       "<sqlalchemy.engine.result.ResultProxy at 0x11e77de50>"
      ]
     },
     "execution_count": 10,
     "metadata": {},
     "output_type": "execute_result"
    },
    {
     "data": {
      "text/plain": [
       "<sqlalchemy.engine.result.ResultProxy at 0x11e6ccdd0>"
      ]
     },
     "execution_count": 10,
     "metadata": {},
     "output_type": "execute_result"
    }
   ],
   "source": [
    "for tbl in ['game_line','game_metadata','game_outcome']:\n",
    "    sql = '''ALTER TABLE {}\n",
    "        ADD CONSTRAINT game_id_foreign\n",
    "        FOREIGN KEY (game_id)\n",
    "        REFERENCES game(game_id)\n",
    "        ON DELETE CASCADE;\n",
    "        '''.format(tbl)\n",
    "    _ = db.execute(sql)\n",
    "    \n",
    "foreign_keys = [\n",
    "    ('team_season', ['season','team_id'], ['season','{}_team_id']),\n",
    "    ('coach', ['coach_id'], ['{}_coach_id']),\n",
    "]\n",
    "\n",
    "for tbl, key, fkey in foreign_keys:\n",
    "#     for h_v in ['h','v']:\n",
    "    for h_v in ['h']:\n",
    "        fkey_str = ','.join(fkey).format(h_v)\n",
    "        nm = fkey_str.replace(',','_')\n",
    "        key_str = ','.join(key)\n",
    "        sql = '''ALTER TABLE game\n",
    "            ADD CONSTRAINT {}_foreign\n",
    "            FOREIGN KEY ({})\n",
    "            REFERENCES {}({})\n",
    "            ON DELETE CASCADE;\n",
    "        '''.format(nm, fkey_str, tbl, key_str)\n",
    "        _ db.execute(sql)\n",
    "\n",
    "sql = '''ALTER TABLE game\n",
    "    ADD CONSTRAINT stadium_foreign\n",
    "    FOREIGN KEY (stadium)\n",
    "    REFERENCES stadium(stadium)\n",
    "    ON DELETE CASCADE;\n",
    "'''\n",
    "_ = db.execute(sql)"
   ]
  },
  {
   "cell_type": "code",
   "execution_count": 11,
   "metadata": {
    "ExecuteTime": {
     "end_time": "2019-01-05T05:41:47.950611Z",
     "start_time": "2019-01-05T05:41:45.222069Z"
    }
   },
   "outputs": [],
   "source": [
    "CONNECT_STR=\"'postgresql+psycopg2://joshplotkin@localhost:5432/football_data'\"\n",
    "!export DYLD_LIBRARY_PATH=/usr/local/Cellar/openssl@1.1/1.1.1a/lib && \\\n",
    "  eralchemy -i {CONNECT_STR} -o er_diagram.png --exclude-tables temp audit\n",
    "!open er_diagram.png"
   ]
  }
 ],
 "metadata": {
  "kernelspec": {
   "display_name": "Python 2",
   "language": "python",
   "name": "python2"
  },
  "language_info": {
   "codemirror_mode": {
    "name": "ipython",
    "version": 2
   },
   "file_extension": ".py",
   "mimetype": "text/x-python",
   "name": "python",
   "nbconvert_exporter": "python",
   "pygments_lexer": "ipython2",
   "version": "2.7.15"
  },
  "toc": {
   "base_numbering": 1,
   "nav_menu": {},
   "number_sections": true,
   "sideBar": true,
   "skip_h1_title": false,
   "title_cell": "Table of Contents",
   "title_sidebar": "Contents",
   "toc_cell": false,
   "toc_position": {},
   "toc_section_display": true,
   "toc_window_display": false
  }
 },
 "nbformat": 4,
 "nbformat_minor": 2
}
