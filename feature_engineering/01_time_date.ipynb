{
 "cells": [
  {
   "cell_type": "code",
   "execution_count": 1,
   "metadata": {
    "ExecuteTime": {
     "end_time": "2019-01-20T19:41:20.944389Z",
     "start_time": "2019-01-20T19:41:15.020470Z"
    }
   },
   "outputs": [
    {
     "data": {
      "text/html": [
       "<style>.container {width:90% !important;}</style>"
      ],
      "text/plain": [
       "<IPython.core.display.HTML object>"
      ]
     },
     "metadata": {},
     "output_type": "display_data"
    }
   ],
   "source": [
    "%run ../initialize.ipynb"
   ]
  },
  {
   "cell_type": "code",
   "execution_count": 2,
   "metadata": {
    "ExecuteTime": {
     "end_time": "2019-01-20T19:41:21.098255Z",
     "start_time": "2019-01-20T19:41:20.950827Z"
    }
   },
   "outputs": [
    {
     "data": {
      "image/png": "[encoded data removed]",
      "text/plain": [
       "<Figure size 768x96 with 1 Axes>"
      ]
     },
     "metadata": {},
     "output_type": "display_data"
    }
   ],
   "source": [
    "import sys\n",
    "sys.path.append('../modeling-football-outcomes/config')\n",
    "import mpl_style\n",
    "colors = rcParams['axes.prop_cycle'].by_key()['color']"
   ]
  },
  {
   "cell_type": "markdown",
   "metadata": {},
   "source": [
    "## Time features\n",
    "* #### key: (game_id)\n",
    "* #### table name: features.time_date\n",
    "* #### __game_time_eastern__\n",
    "* #### __game_time_local__\n",
    "* #### __is_sunday__\n",
    "* #### __day_of_week__\n",
    "* #### __week_id__\n",
    "* #### __is_playoffs__\n",
    "* #### __is_superbowl__"
   ]
  },
  {
   "cell_type": "code",
   "execution_count": 3,
   "metadata": {
    "ExecuteTime": {
     "end_time": "2019-01-20T19:41:21.108743Z",
     "start_time": "2019-01-20T19:41:21.103264Z"
    }
   },
   "outputs": [],
   "source": [
    "key = 'game_id'\n",
    "out_tbl = 'features.time_date'\n",
    "features_list = []"
   ]
  },
  {
   "cell_type": "code",
   "execution_count": null,
   "metadata": {},
   "outputs": [],
   "source": [
    "gametime = spark.table('game_metadata').join(\n",
    "    spark.table('game'), on='game_id'\n",
    ").join(\n",
    "    spark.table('stadium'), on='stadium'\n",
    ").select('game_id','time','stadium','timezone',\n",
    "         'day_of_week','week_id').cache()"
   ]
  },
  {
   "cell_type": "markdown",
   "metadata": {
    "ExecuteTime": {
     "end_time": "2019-01-20T18:18:28.211068Z",
     "start_time": "2019-01-20T18:18:28.206166Z"
    }
   },
   "source": [
    "### time of day\n",
    "* raw times are eastern\n",
    "* can use timezone to adjust\n",
    "* issue with timezones: daylight savings and Wembley\n",
    " * not going to worry about adjusting for this\n",
    " * since raw times are eastern, local time adjustment is (tz + 5)\n",
    " * e.g. SF is -8 --> -8 + 5 = -3, so a \"1pm\" game is 10am local"
   ]
  },
  {
   "cell_type": "code",
   "execution_count": 4,
   "metadata": {
    "ExecuteTime": {
     "end_time": "2019-01-20T19:41:22.211066Z",
     "start_time": "2019-01-20T19:41:21.114664Z"
    }
   },
   "outputs": [],
   "source": [
    "def mod_time(tm):\n",
    "    '''given a time like 7:02pm, \n",
    "    round the hour and return a value\n",
    "    0-23 where 0 is midnight and 14 is 2pm'''\n",
    "    tm, ampm = (tm[:-2], tm[-2:])\n",
    "    hr, mn = map(float, tm.split(':'))\n",
    "    if mn >= 30:\n",
    "        hr += 1\n",
    "    if ampm == 'pm':\n",
    "        hr += 12\n",
    "    \n",
    "    return hr\n",
    "mod_time_udf = udf(mod_time, FloatType())\n",
    "\n",
    "gametime = gametime.withColumn(\n",
    "    'game_time_eastern', mod_time_udf('time')\n",
    ").withColumn(\n",
    "    'game_time_local', \n",
    "    ## Eastern Time is -5, so TZ+5 adjusts to local time\n",
    "    col('timezone') + F.lit(5) + col('game_time_eastern')\n",
    ")\n",
    "\n",
    "features_list += ['game_time_eastern','game_time_local']"
   ]
  },
  {
   "cell_type": "code",
   "execution_count": 5,
   "metadata": {
    "ExecuteTime": {
     "end_time": "2019-01-20T19:41:25.056904Z",
     "start_time": "2019-01-20T19:41:22.215559Z"
    }
   },
   "outputs": [
    {
     "data": {
      "text/html": [
       "<div>\n",
       "<style scoped>\n",
       "    .dataframe tbody tr th:only-of-type {\n",
       "        vertical-align: middle;\n",
       "    }\n",
       "\n",
       "    .dataframe tbody tr th {\n",
       "        vertical-align: top;\n",
       "    }\n",
       "\n",
       "    .dataframe thead th {\n",
       "        text-align: right;\n",
       "    }\n",
       "</style>\n",
       "<table border=\"1\" class=\"dataframe\">\n",
       "  <thead>\n",
       "    <tr style=\"text-align: right;\">\n",
       "      <th></th>\n",
       "      <th>game_id</th>\n",
       "      <th>time</th>\n",
       "      <th>stadium</th>\n",
       "      <th>timezone</th>\n",
       "      <th>day_of_week</th>\n",
       "      <th>week_id</th>\n",
       "      <th>game_time_eastern</th>\n",
       "      <th>game_time_local</th>\n",
       "    </tr>\n",
       "  </thead>\n",
       "  <tbody>\n",
       "    <tr>\n",
       "      <th>0</th>\n",
       "      <td>201409070dal</td>\n",
       "      <td>4:25pm</td>\n",
       "      <td>AT&amp;T Stadium</td>\n",
       "      <td>-6.0</td>\n",
       "      <td>6</td>\n",
       "      <td>1</td>\n",
       "      <td>16.0</td>\n",
       "      <td>15.0</td>\n",
       "    </tr>\n",
       "    <tr>\n",
       "      <th>1</th>\n",
       "      <td>201411020dal</td>\n",
       "      <td>1:04pm</td>\n",
       "      <td>AT&amp;T Stadium</td>\n",
       "      <td>-6.0</td>\n",
       "      <td>6</td>\n",
       "      <td>9</td>\n",
       "      <td>13.0</td>\n",
       "      <td>12.0</td>\n",
       "    </tr>\n",
       "    <tr>\n",
       "      <th>2</th>\n",
       "      <td>201410190dal</td>\n",
       "      <td>4:25pm</td>\n",
       "      <td>AT&amp;T Stadium</td>\n",
       "      <td>-6.0</td>\n",
       "      <td>6</td>\n",
       "      <td>7</td>\n",
       "      <td>16.0</td>\n",
       "      <td>15.0</td>\n",
       "    </tr>\n",
       "    <tr>\n",
       "      <th>3</th>\n",
       "      <td>201309080dal</td>\n",
       "      <td>8:30pm</td>\n",
       "      <td>AT&amp;T Stadium</td>\n",
       "      <td>-6.0</td>\n",
       "      <td>6</td>\n",
       "      <td>1</td>\n",
       "      <td>21.0</td>\n",
       "      <td>20.0</td>\n",
       "    </tr>\n",
       "    <tr>\n",
       "      <th>4</th>\n",
       "      <td>201510110dal</td>\n",
       "      <td>4:25pm</td>\n",
       "      <td>AT&amp;T Stadium</td>\n",
       "      <td>-6.0</td>\n",
       "      <td>6</td>\n",
       "      <td>5</td>\n",
       "      <td>16.0</td>\n",
       "      <td>15.0</td>\n",
       "    </tr>\n",
       "  </tbody>\n",
       "</table>\n",
       "</div>"
      ],
      "text/plain": [
       "        game_id    time       stadium  timezone  day_of_week  week_id  \\\n",
       "0  201409070dal  4:25pm  AT&T Stadium      -6.0            6        1   \n",
       "1  201411020dal  1:04pm  AT&T Stadium      -6.0            6        9   \n",
       "2  201410190dal  4:25pm  AT&T Stadium      -6.0            6        7   \n",
       "3  201309080dal  8:30pm  AT&T Stadium      -6.0            6        1   \n",
       "4  201510110dal  4:25pm  AT&T Stadium      -6.0            6        5   \n",
       "\n",
       "   game_time_eastern  game_time_local  \n",
       "0               16.0             15.0  \n",
       "1               13.0             12.0  \n",
       "2               16.0             15.0  \n",
       "3               21.0             20.0  \n",
       "4               16.0             15.0  "
      ]
     },
     "execution_count": 5,
     "metadata": {},
     "output_type": "execute_result"
    }
   ],
   "source": [
    "gametime.filter(col('stadium') == 'AT&T Stadium').limit(5).toPandas()"
   ]
  },
  {
   "cell_type": "markdown",
   "metadata": {},
   "source": [
    "#### day of week -- raw\n",
    " * very sparse other than Sunday. \n",
    " * could encode as \"is_sunday\" feature\n",
    " * could leave as is\n",
    "  * upside: since Sunday (6) is the max #, could allow tree to split how it sees fit\n",
    "    * group (Mon, Thurs, Sat) vs. Sun... or (Mon) vs. (Thurs, Sat, Sun), etc.\n",
    "  * downside: this might be overfitting\n",
    " * will go with both"
   ]
  },
  {
   "cell_type": "code",
   "execution_count": 6,
   "metadata": {
    "ExecuteTime": {
     "end_time": "2019-01-20T19:41:25.175687Z",
     "start_time": "2019-01-20T19:41:25.061792Z"
    }
   },
   "outputs": [],
   "source": [
    "gametime = gametime.withColumn(\n",
    "    'day_of_week', col('day_of_week').cast(FloatType())\n",
    ").withColumn(\n",
    "    'is_sunday', F.when(col('day_of_week') == 6., 1.).otherwise(0.)\n",
    ")\n",
    "\n",
    "features_list += ['day_of_week','is_sunday']"
   ]
  },
  {
   "cell_type": "code",
   "execution_count": 7,
   "metadata": {
    "ExecuteTime": {
     "end_time": "2019-01-20T19:41:26.191187Z",
     "start_time": "2019-01-20T19:41:25.179801Z"
    }
   },
   "outputs": [
    {
     "data": {
      "text/html": [
       "<div>\n",
       "<style scoped>\n",
       "    .dataframe tbody tr th:only-of-type {\n",
       "        vertical-align: middle;\n",
       "    }\n",
       "\n",
       "    .dataframe tbody tr th {\n",
       "        vertical-align: top;\n",
       "    }\n",
       "\n",
       "    .dataframe thead th {\n",
       "        text-align: right;\n",
       "    }\n",
       "</style>\n",
       "<table border=\"1\" class=\"dataframe\">\n",
       "  <thead>\n",
       "    <tr style=\"text-align: right;\">\n",
       "      <th></th>\n",
       "      <th>is_sunday</th>\n",
       "      <th>count</th>\n",
       "    </tr>\n",
       "  </thead>\n",
       "  <tbody>\n",
       "    <tr>\n",
       "      <th>0</th>\n",
       "      <td>0.0</td>\n",
       "      <td>429</td>\n",
       "    </tr>\n",
       "    <tr>\n",
       "      <th>1</th>\n",
       "      <td>1.0</td>\n",
       "      <td>2508</td>\n",
       "    </tr>\n",
       "  </tbody>\n",
       "</table>\n",
       "</div>"
      ],
      "text/plain": [
       "   is_sunday  count\n",
       "0        0.0    429\n",
       "1        1.0   2508"
      ]
     },
     "execution_count": 7,
     "metadata": {},
     "output_type": "execute_result"
    }
   ],
   "source": [
    "gametime.groupby('is_sunday').count().toPandas()"
   ]
  },
  {
   "cell_type": "markdown",
   "metadata": {},
   "source": [
    "#### is playoffs\n",
    "#### week # -- raw"
   ]
  },
  {
   "cell_type": "code",
   "execution_count": 8,
   "metadata": {
    "ExecuteTime": {
     "end_time": "2019-01-20T19:41:26.970116Z",
     "start_time": "2019-01-20T19:41:26.197208Z"
    }
   },
   "outputs": [
    {
     "data": {
      "text/html": [
       "<div>\n",
       "<style scoped>\n",
       "    .dataframe tbody tr th:only-of-type {\n",
       "        vertical-align: middle;\n",
       "    }\n",
       "\n",
       "    .dataframe tbody tr th {\n",
       "        vertical-align: top;\n",
       "    }\n",
       "\n",
       "    .dataframe thead th {\n",
       "        text-align: right;\n",
       "    }\n",
       "</style>\n",
       "<table border=\"1\" class=\"dataframe\">\n",
       "  <thead>\n",
       "    <tr style=\"text-align: right;\">\n",
       "      <th></th>\n",
       "      <th>week_id</th>\n",
       "      <th>count</th>\n",
       "    </tr>\n",
       "  </thead>\n",
       "  <tbody>\n",
       "    <tr>\n",
       "      <th>0</th>\n",
       "      <td>19</td>\n",
       "      <td>44</td>\n",
       "    </tr>\n",
       "    <tr>\n",
       "      <th>1</th>\n",
       "      <td>7</td>\n",
       "      <td>155</td>\n",
       "    </tr>\n",
       "    <tr>\n",
       "      <th>2</th>\n",
       "      <td>6</td>\n",
       "      <td>155</td>\n",
       "    </tr>\n",
       "    <tr>\n",
       "      <th>3</th>\n",
       "      <td>9</td>\n",
       "      <td>147</td>\n",
       "    </tr>\n",
       "    <tr>\n",
       "      <th>4</th>\n",
       "      <td>17</td>\n",
       "      <td>176</td>\n",
       "    </tr>\n",
       "    <tr>\n",
       "      <th>5</th>\n",
       "      <td>5</td>\n",
       "      <td>154</td>\n",
       "    </tr>\n",
       "    <tr>\n",
       "      <th>6</th>\n",
       "      <td>1</td>\n",
       "      <td>175</td>\n",
       "    </tr>\n",
       "    <tr>\n",
       "      <th>7</th>\n",
       "      <td>10</td>\n",
       "      <td>156</td>\n",
       "    </tr>\n",
       "    <tr>\n",
       "      <th>8</th>\n",
       "      <td>3</td>\n",
       "      <td>176</td>\n",
       "    </tr>\n",
       "    <tr>\n",
       "      <th>9</th>\n",
       "      <td>12</td>\n",
       "      <td>173</td>\n",
       "    </tr>\n",
       "    <tr>\n",
       "      <th>10</th>\n",
       "      <td>8</td>\n",
       "      <td>148</td>\n",
       "    </tr>\n",
       "    <tr>\n",
       "      <th>11</th>\n",
       "      <td>11</td>\n",
       "      <td>163</td>\n",
       "    </tr>\n",
       "    <tr>\n",
       "      <th>12</th>\n",
       "      <td>2</td>\n",
       "      <td>175</td>\n",
       "    </tr>\n",
       "    <tr>\n",
       "      <th>13</th>\n",
       "      <td>4</td>\n",
       "      <td>160</td>\n",
       "    </tr>\n",
       "    <tr>\n",
       "      <th>14</th>\n",
       "      <td>13</td>\n",
       "      <td>175</td>\n",
       "    </tr>\n",
       "    <tr>\n",
       "      <th>15</th>\n",
       "      <td>18</td>\n",
       "      <td>44</td>\n",
       "    </tr>\n",
       "    <tr>\n",
       "      <th>16</th>\n",
       "      <td>14</td>\n",
       "      <td>176</td>\n",
       "    </tr>\n",
       "    <tr>\n",
       "      <th>17</th>\n",
       "      <td>21</td>\n",
       "      <td>11</td>\n",
       "    </tr>\n",
       "    <tr>\n",
       "      <th>18</th>\n",
       "      <td>15</td>\n",
       "      <td>176</td>\n",
       "    </tr>\n",
       "    <tr>\n",
       "      <th>19</th>\n",
       "      <td>20</td>\n",
       "      <td>22</td>\n",
       "    </tr>\n",
       "    <tr>\n",
       "      <th>20</th>\n",
       "      <td>16</td>\n",
       "      <td>176</td>\n",
       "    </tr>\n",
       "  </tbody>\n",
       "</table>\n",
       "</div>"
      ],
      "text/plain": [
       "    week_id  count\n",
       "0        19     44\n",
       "1         7    155\n",
       "2         6    155\n",
       "3         9    147\n",
       "4        17    176\n",
       "5         5    154\n",
       "6         1    175\n",
       "7        10    156\n",
       "8         3    176\n",
       "9        12    173\n",
       "10        8    148\n",
       "11       11    163\n",
       "12        2    175\n",
       "13        4    160\n",
       "14       13    175\n",
       "15       18     44\n",
       "16       14    176\n",
       "17       21     11\n",
       "18       15    176\n",
       "19       20     22\n",
       "20       16    176"
      ]
     },
     "execution_count": 8,
     "metadata": {},
     "output_type": "execute_result"
    }
   ],
   "source": [
    "gametime.groupby('week_id').count().toPandas()"
   ]
  },
  {
   "cell_type": "code",
   "execution_count": 9,
   "metadata": {
    "ExecuteTime": {
     "end_time": "2019-01-20T19:41:27.097971Z",
     "start_time": "2019-01-20T19:41:26.975426Z"
    },
    "run_control": {
     "marked": true
    }
   },
   "outputs": [],
   "source": [
    "gametime = gametime.withColumn(\n",
    "    'week_id', col('week_id').cast(FloatType())\n",
    ").withColumn(\n",
    "    'is_playoffs', F.when(col('week_id') >= 18, 1.).otherwise(0.)\n",
    ").withColumn(\n",
    "    'is_superbowl', F.when(col('week_id') == 21, 1.).otherwise(0.)\n",
    ")\n",
    "\n",
    "features_list += ['week_id','is_playoffs','is_superbowl']"
   ]
  },
  {
   "cell_type": "markdown",
   "metadata": {},
   "source": [
    "### Write table"
   ]
  },
  {
   "cell_type": "code",
   "execution_count": 10,
   "metadata": {
    "ExecuteTime": {
     "end_time": "2019-01-20T19:41:28.083095Z",
     "start_time": "2019-01-20T19:41:27.104091Z"
    }
   },
   "outputs": [],
   "source": [
    "    gametime.select(*([key] + features_list))\\\n",
    "            .write.mode('overwrite').saveAsTable(out_tbl)"
   ]
  }
 ],
 "metadata": {
  "kernelspec": {
   "display_name": "Python 2",
   "language": "python",
   "name": "python2"
  },
  "language_info": {
   "codemirror_mode": {
    "name": "ipython",
    "version": 2
   },
   "file_extension": ".py",
   "mimetype": "text/x-python",
   "name": "python",
   "nbconvert_exporter": "python",
   "pygments_lexer": "ipython2",
   "version": "2.7.15"
  },
  "toc": {
   "base_numbering": 1,
   "nav_menu": {},
   "number_sections": true,
   "sideBar": true,
   "skip_h1_title": false,
   "title_cell": "Table of Contents",
   "title_sidebar": "Contents",
   "toc_cell": false,
   "toc_position": {},
   "toc_section_display": true,
   "toc_window_display": false
  }
 },
 "nbformat": 4,
 "nbformat_minor": 2
}
