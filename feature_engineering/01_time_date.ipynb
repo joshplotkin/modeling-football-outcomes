{
 "cells": [
  {
   "cell_type": "code",
   "execution_count": 12,
   "metadata": {
    "ExecuteTime": {
     "end_time": "2019-01-22T04:09:45.359321Z",
     "start_time": "2019-01-22T04:09:45.349881Z"
    }
   },
   "outputs": [
    {
     "name": "stderr",
     "output_type": "stream",
     "text": [
      "ERROR:root:File `u'../initialize.ipynb.py'` not found.\n"
     ]
    }
   ],
   "source": [
    "%run ../initialize.ipynb"
   ]
  },
  {
   "cell_type": "markdown",
   "metadata": {},
   "source": [
    "## Time features\n",
    "* #### key: (game_id)\n",
    "* #### table name: features.time_date\n",
    "* #### __game_time_eastern__\n",
    "* #### __game_time_local__\n",
    "* #### __is_sunday__\n",
    "* #### __day_of_week__\n",
    "* #### __week_id__\n",
    "* #### __is_playoffs__\n",
    "* #### __is_superbowl__"
   ]
  },
  {
   "cell_type": "code",
   "execution_count": 14,
   "metadata": {
    "ExecuteTime": {
     "end_time": "2019-01-22T04:09:45.390055Z",
     "start_time": "2019-01-22T04:09:45.380704Z"
    }
   },
   "outputs": [],
   "source": [
    "key = 'game_id'\n",
    "out_tbl = 'features.time_date'\n",
    "features_list = ['game_time_eastern','game_time_local']"
   ]
  },
  {
   "cell_type": "code",
   "execution_count": 15,
   "metadata": {
    "ExecuteTime": {
     "end_time": "2019-01-22T04:09:45.713146Z",
     "start_time": "2019-01-22T04:09:45.396937Z"
    }
   },
   "outputs": [],
   "source": [
    "gametime = spark.table('game_metadata').join(\n",
    "    spark.table('game'), on='game_id'\n",
    ").join(\n",
    "    spark.table('stadium'), on='stadium'\n",
    ").select('game_id','time','stadium','timezone',\n",
    "         'day_of_week','week_id',\n",
    "         'game_time_eastern','game_time_local').cache()"
   ]
  },
  {
   "cell_type": "markdown",
   "metadata": {
    "ExecuteTime": {
     "end_time": "2019-01-20T18:18:28.211068Z",
     "start_time": "2019-01-20T18:18:28.206166Z"
    }
   },
   "source": [
    "### time of day\n",
    "* raw times are eastern\n",
    "* can use timezone to adjust\n",
    "* issue with timezones: daylight savings and Wembley\n",
    " * not going to worry about adjusting for this\n",
    " * since raw times are eastern, local time adjustment is (tz + 5)\n",
    " * e.g. SF is -8 --> -8 + 5 = -3, so a \"1pm\" game is 10am local"
   ]
  },
  {
   "cell_type": "code",
   "execution_count": 16,
   "metadata": {
    "ExecuteTime": {
     "end_time": "2019-01-22T04:09:46.254213Z",
     "start_time": "2019-01-22T04:09:45.721577Z"
    }
   },
   "outputs": [
    {
     "data": {
      "text/html": [
       "<div>\n",
       "<style scoped>\n",
       "    .dataframe tbody tr th:only-of-type {\n",
       "        vertical-align: middle;\n",
       "    }\n",
       "\n",
       "    .dataframe tbody tr th {\n",
       "        vertical-align: top;\n",
       "    }\n",
       "\n",
       "    .dataframe thead th {\n",
       "        text-align: right;\n",
       "    }\n",
       "</style>\n",
       "<table border=\"1\" class=\"dataframe\">\n",
       "  <thead>\n",
       "    <tr style=\"text-align: right;\">\n",
       "      <th></th>\n",
       "      <th>game_id</th>\n",
       "      <th>time</th>\n",
       "      <th>stadium</th>\n",
       "      <th>timezone</th>\n",
       "      <th>day_of_week</th>\n",
       "      <th>week_id</th>\n",
       "      <th>game_time_eastern</th>\n",
       "      <th>game_time_local</th>\n",
       "    </tr>\n",
       "  </thead>\n",
       "  <tbody>\n",
       "    <tr>\n",
       "      <th>0</th>\n",
       "      <td>201409070dal</td>\n",
       "      <td>4:25pm</td>\n",
       "      <td>AT&amp;T Stadium</td>\n",
       "      <td>-6.0</td>\n",
       "      <td>6</td>\n",
       "      <td>1</td>\n",
       "      <td>16.0</td>\n",
       "      <td>15.0</td>\n",
       "    </tr>\n",
       "    <tr>\n",
       "      <th>1</th>\n",
       "      <td>201409070dal</td>\n",
       "      <td>4:25pm</td>\n",
       "      <td>AT&amp;T Stadium</td>\n",
       "      <td>-6.0</td>\n",
       "      <td>6</td>\n",
       "      <td>1</td>\n",
       "      <td>16.0</td>\n",
       "      <td>15.0</td>\n",
       "    </tr>\n",
       "    <tr>\n",
       "      <th>2</th>\n",
       "      <td>201409070dal</td>\n",
       "      <td>4:25pm</td>\n",
       "      <td>AT&amp;T Stadium</td>\n",
       "      <td>-6.0</td>\n",
       "      <td>6</td>\n",
       "      <td>1</td>\n",
       "      <td>16.0</td>\n",
       "      <td>15.0</td>\n",
       "    </tr>\n",
       "    <tr>\n",
       "      <th>3</th>\n",
       "      <td>201409070dal</td>\n",
       "      <td>4:25pm</td>\n",
       "      <td>AT&amp;T Stadium</td>\n",
       "      <td>-6.0</td>\n",
       "      <td>6</td>\n",
       "      <td>1</td>\n",
       "      <td>16.0</td>\n",
       "      <td>15.0</td>\n",
       "    </tr>\n",
       "    <tr>\n",
       "      <th>4</th>\n",
       "      <td>201409070dal</td>\n",
       "      <td>4:25pm</td>\n",
       "      <td>AT&amp;T Stadium</td>\n",
       "      <td>-6.0</td>\n",
       "      <td>6</td>\n",
       "      <td>1</td>\n",
       "      <td>16.0</td>\n",
       "      <td>15.0</td>\n",
       "    </tr>\n",
       "  </tbody>\n",
       "</table>\n",
       "</div>"
      ],
      "text/plain": [
       "        game_id    time       stadium  timezone  day_of_week  week_id  \\\n",
       "0  201409070dal  4:25pm  AT&T Stadium      -6.0            6        1   \n",
       "1  201409070dal  4:25pm  AT&T Stadium      -6.0            6        1   \n",
       "2  201409070dal  4:25pm  AT&T Stadium      -6.0            6        1   \n",
       "3  201409070dal  4:25pm  AT&T Stadium      -6.0            6        1   \n",
       "4  201409070dal  4:25pm  AT&T Stadium      -6.0            6        1   \n",
       "\n",
       "   game_time_eastern  game_time_local  \n",
       "0               16.0             15.0  \n",
       "1               16.0             15.0  \n",
       "2               16.0             15.0  \n",
       "3               16.0             15.0  \n",
       "4               16.0             15.0  "
      ]
     },
     "execution_count": 16,
     "metadata": {},
     "output_type": "execute_result"
    }
   ],
   "source": [
    "gametime.filter(col('stadium') == 'AT&T Stadium').limit(5).toPandas()"
   ]
  },
  {
   "cell_type": "markdown",
   "metadata": {},
   "source": [
    "#### day of week -- raw\n",
    " * very sparse other than Sunday. \n",
    " * could encode as \"is_sunday\" feature\n",
    " * could leave as is\n",
    "  * upside: since Sunday (6) is the max #, could allow tree to split how it sees fit\n",
    "    * group (Mon, Thurs, Sat) vs. Sun... or (Mon) vs. (Thurs, Sat, Sun), etc.\n",
    "  * downside: this might be overfitting\n",
    " * will go with both"
   ]
  },
  {
   "cell_type": "code",
   "execution_count": 17,
   "metadata": {
    "ExecuteTime": {
     "end_time": "2019-01-22T04:09:46.317645Z",
     "start_time": "2019-01-22T04:09:46.261159Z"
    }
   },
   "outputs": [],
   "source": [
    "gametime = gametime.withColumn(\n",
    "    'day_of_week', col('day_of_week').cast(FloatType())\n",
    ").withColumn(\n",
    "    'is_sunday', F.when(col('day_of_week') == 6., 1.).otherwise(0.)\n",
    ")\n",
    "\n",
    "features_list += ['day_of_week','is_sunday']"
   ]
  },
  {
   "cell_type": "code",
   "execution_count": 18,
   "metadata": {
    "ExecuteTime": {
     "end_time": "2019-01-22T04:09:47.148191Z",
     "start_time": "2019-01-22T04:09:46.325393Z"
    }
   },
   "outputs": [
    {
     "data": {
      "text/html": [
       "<div>\n",
       "<style scoped>\n",
       "    .dataframe tbody tr th:only-of-type {\n",
       "        vertical-align: middle;\n",
       "    }\n",
       "\n",
       "    .dataframe tbody tr th {\n",
       "        vertical-align: top;\n",
       "    }\n",
       "\n",
       "    .dataframe thead th {\n",
       "        text-align: right;\n",
       "    }\n",
       "</style>\n",
       "<table border=\"1\" class=\"dataframe\">\n",
       "  <thead>\n",
       "    <tr style=\"text-align: right;\">\n",
       "      <th></th>\n",
       "      <th>is_sunday</th>\n",
       "      <th>count</th>\n",
       "    </tr>\n",
       "  </thead>\n",
       "  <tbody>\n",
       "    <tr>\n",
       "      <th>0</th>\n",
       "      <td>0.0</td>\n",
       "      <td>3574</td>\n",
       "    </tr>\n",
       "    <tr>\n",
       "      <th>1</th>\n",
       "      <td>1.0</td>\n",
       "      <td>20338</td>\n",
       "    </tr>\n",
       "  </tbody>\n",
       "</table>\n",
       "</div>"
      ],
      "text/plain": [
       "   is_sunday  count\n",
       "0        0.0   3574\n",
       "1        1.0  20338"
      ]
     },
     "execution_count": 18,
     "metadata": {},
     "output_type": "execute_result"
    }
   ],
   "source": [
    "gametime.groupby('is_sunday').count().toPandas()"
   ]
  },
  {
   "cell_type": "markdown",
   "metadata": {},
   "source": [
    "#### is playoffs\n",
    "#### week # -- raw"
   ]
  },
  {
   "cell_type": "code",
   "execution_count": 19,
   "metadata": {
    "ExecuteTime": {
     "end_time": "2019-01-22T04:09:47.749538Z",
     "start_time": "2019-01-22T04:09:47.154939Z"
    }
   },
   "outputs": [
    {
     "data": {
      "text/html": [
       "<div>\n",
       "<style scoped>\n",
       "    .dataframe tbody tr th:only-of-type {\n",
       "        vertical-align: middle;\n",
       "    }\n",
       "\n",
       "    .dataframe tbody tr th {\n",
       "        vertical-align: top;\n",
       "    }\n",
       "\n",
       "    .dataframe thead th {\n",
       "        text-align: right;\n",
       "    }\n",
       "</style>\n",
       "<table border=\"1\" class=\"dataframe\">\n",
       "  <thead>\n",
       "    <tr style=\"text-align: right;\">\n",
       "      <th></th>\n",
       "      <th>week_id</th>\n",
       "      <th>count</th>\n",
       "    </tr>\n",
       "  </thead>\n",
       "  <tbody>\n",
       "    <tr>\n",
       "      <th>0</th>\n",
       "      <td>19</td>\n",
       "      <td>385</td>\n",
       "    </tr>\n",
       "    <tr>\n",
       "      <th>1</th>\n",
       "      <td>7</td>\n",
       "      <td>1256</td>\n",
       "    </tr>\n",
       "    <tr>\n",
       "      <th>2</th>\n",
       "      <td>6</td>\n",
       "      <td>1228</td>\n",
       "    </tr>\n",
       "    <tr>\n",
       "      <th>3</th>\n",
       "      <td>9</td>\n",
       "      <td>1134</td>\n",
       "    </tr>\n",
       "    <tr>\n",
       "      <th>4</th>\n",
       "      <td>17</td>\n",
       "      <td>1394</td>\n",
       "    </tr>\n",
       "    <tr>\n",
       "      <th>5</th>\n",
       "      <td>5</td>\n",
       "      <td>1224</td>\n",
       "    </tr>\n",
       "    <tr>\n",
       "      <th>6</th>\n",
       "      <td>1</td>\n",
       "      <td>1401</td>\n",
       "    </tr>\n",
       "    <tr>\n",
       "      <th>7</th>\n",
       "      <td>10</td>\n",
       "      <td>1327</td>\n",
       "    </tr>\n",
       "    <tr>\n",
       "      <th>8</th>\n",
       "      <td>3</td>\n",
       "      <td>1434</td>\n",
       "    </tr>\n",
       "    <tr>\n",
       "      <th>9</th>\n",
       "      <td>12</td>\n",
       "      <td>1392</td>\n",
       "    </tr>\n",
       "    <tr>\n",
       "      <th>10</th>\n",
       "      <td>8</td>\n",
       "      <td>1253</td>\n",
       "    </tr>\n",
       "    <tr>\n",
       "      <th>11</th>\n",
       "      <td>11</td>\n",
       "      <td>1298</td>\n",
       "    </tr>\n",
       "    <tr>\n",
       "      <th>12</th>\n",
       "      <td>2</td>\n",
       "      <td>1443</td>\n",
       "    </tr>\n",
       "    <tr>\n",
       "      <th>13</th>\n",
       "      <td>4</td>\n",
       "      <td>1311</td>\n",
       "    </tr>\n",
       "    <tr>\n",
       "      <th>14</th>\n",
       "      <td>13</td>\n",
       "      <td>1425</td>\n",
       "    </tr>\n",
       "    <tr>\n",
       "      <th>15</th>\n",
       "      <td>18</td>\n",
       "      <td>374</td>\n",
       "    </tr>\n",
       "    <tr>\n",
       "      <th>16</th>\n",
       "      <td>14</td>\n",
       "      <td>1455</td>\n",
       "    </tr>\n",
       "    <tr>\n",
       "      <th>17</th>\n",
       "      <td>21</td>\n",
       "      <td>74</td>\n",
       "    </tr>\n",
       "    <tr>\n",
       "      <th>18</th>\n",
       "      <td>15</td>\n",
       "      <td>1415</td>\n",
       "    </tr>\n",
       "    <tr>\n",
       "      <th>19</th>\n",
       "      <td>20</td>\n",
       "      <td>211</td>\n",
       "    </tr>\n",
       "    <tr>\n",
       "      <th>20</th>\n",
       "      <td>16</td>\n",
       "      <td>1478</td>\n",
       "    </tr>\n",
       "  </tbody>\n",
       "</table>\n",
       "</div>"
      ],
      "text/plain": [
       "    week_id  count\n",
       "0        19    385\n",
       "1         7   1256\n",
       "2         6   1228\n",
       "3         9   1134\n",
       "4        17   1394\n",
       "5         5   1224\n",
       "6         1   1401\n",
       "7        10   1327\n",
       "8         3   1434\n",
       "9        12   1392\n",
       "10        8   1253\n",
       "11       11   1298\n",
       "12        2   1443\n",
       "13        4   1311\n",
       "14       13   1425\n",
       "15       18    374\n",
       "16       14   1455\n",
       "17       21     74\n",
       "18       15   1415\n",
       "19       20    211\n",
       "20       16   1478"
      ]
     },
     "execution_count": 19,
     "metadata": {},
     "output_type": "execute_result"
    }
   ],
   "source": [
    "gametime.groupby('week_id').count().toPandas()"
   ]
  },
  {
   "cell_type": "code",
   "execution_count": 20,
   "metadata": {
    "ExecuteTime": {
     "end_time": "2019-01-22T04:09:48.105432Z",
     "start_time": "2019-01-22T04:09:47.757159Z"
    },
    "run_control": {
     "marked": true
    }
   },
   "outputs": [],
   "source": [
    "gametime = gametime.withColumn(\n",
    "    'week_id', col('week_id').cast(FloatType())\n",
    ").withColumn(\n",
    "    'is_playoffs', F.when(col('week_id') >= 18, 1.).otherwise(0.)\n",
    ").withColumn(\n",
    "    'is_superbowl', F.when(col('week_id') == 21, 1.).otherwise(0.)\n",
    ")\n",
    "\n",
    "features_list += ['week_id','is_playoffs','is_superbowl']"
   ]
  },
  {
   "cell_type": "markdown",
   "metadata": {},
   "source": [
    "### Write table"
   ]
  },
  {
   "cell_type": "code",
   "execution_count": 21,
   "metadata": {
    "ExecuteTime": {
     "end_time": "2019-01-22T04:09:49.978132Z",
     "start_time": "2019-01-22T04:09:48.111033Z"
    },
    "scrolled": true
   },
   "outputs": [],
   "source": [
    "gametime.select(*([key] + features_list))\\\n",
    "        .write.mode('overwrite').saveAsTable(out_tbl)"
   ]
  },
  {
   "cell_type": "code",
   "execution_count": 22,
   "metadata": {
    "ExecuteTime": {
     "end_time": "2019-01-22T04:09:50.290700Z",
     "start_time": "2019-01-22T04:09:49.984110Z"
    }
   },
   "outputs": [
    {
     "data": {
      "text/html": [
       "<div>\n",
       "<style scoped>\n",
       "    .dataframe tbody tr th:only-of-type {\n",
       "        vertical-align: middle;\n",
       "    }\n",
       "\n",
       "    .dataframe tbody tr th {\n",
       "        vertical-align: top;\n",
       "    }\n",
       "\n",
       "    .dataframe thead th {\n",
       "        text-align: right;\n",
       "    }\n",
       "</style>\n",
       "<table border=\"1\" class=\"dataframe\">\n",
       "  <thead>\n",
       "    <tr style=\"text-align: right;\">\n",
       "      <th></th>\n",
       "      <th>game_id</th>\n",
       "      <th>game_time_eastern</th>\n",
       "      <th>game_time_local</th>\n",
       "      <th>day_of_week</th>\n",
       "      <th>is_sunday</th>\n",
       "      <th>week_id</th>\n",
       "      <th>is_playoffs</th>\n",
       "      <th>is_superbowl</th>\n",
       "    </tr>\n",
       "  </thead>\n",
       "  <tbody>\n",
       "    <tr>\n",
       "      <th>0</th>\n",
       "      <td>200810050det</td>\n",
       "      <td>13.0</td>\n",
       "      <td>13.0</td>\n",
       "      <td>6.0</td>\n",
       "      <td>1.0</td>\n",
       "      <td>5.0</td>\n",
       "      <td>0.0</td>\n",
       "      <td>0.0</td>\n",
       "    </tr>\n",
       "    <tr>\n",
       "      <th>1</th>\n",
       "      <td>200810050det</td>\n",
       "      <td>13.0</td>\n",
       "      <td>13.0</td>\n",
       "      <td>6.0</td>\n",
       "      <td>1.0</td>\n",
       "      <td>5.0</td>\n",
       "      <td>0.0</td>\n",
       "      <td>0.0</td>\n",
       "    </tr>\n",
       "    <tr>\n",
       "      <th>2</th>\n",
       "      <td>200810050det</td>\n",
       "      <td>13.0</td>\n",
       "      <td>13.0</td>\n",
       "      <td>6.0</td>\n",
       "      <td>1.0</td>\n",
       "      <td>5.0</td>\n",
       "      <td>0.0</td>\n",
       "      <td>0.0</td>\n",
       "    </tr>\n",
       "    <tr>\n",
       "      <th>3</th>\n",
       "      <td>200810050det</td>\n",
       "      <td>13.0</td>\n",
       "      <td>13.0</td>\n",
       "      <td>6.0</td>\n",
       "      <td>1.0</td>\n",
       "      <td>5.0</td>\n",
       "      <td>0.0</td>\n",
       "      <td>0.0</td>\n",
       "    </tr>\n",
       "    <tr>\n",
       "      <th>4</th>\n",
       "      <td>200810050det</td>\n",
       "      <td>13.0</td>\n",
       "      <td>13.0</td>\n",
       "      <td>6.0</td>\n",
       "      <td>1.0</td>\n",
       "      <td>5.0</td>\n",
       "      <td>0.0</td>\n",
       "      <td>0.0</td>\n",
       "    </tr>\n",
       "  </tbody>\n",
       "</table>\n",
       "</div>"
      ],
      "text/plain": [
       "        game_id  game_time_eastern  game_time_local  day_of_week  is_sunday  \\\n",
       "0  200810050det               13.0             13.0          6.0        1.0   \n",
       "1  200810050det               13.0             13.0          6.0        1.0   \n",
       "2  200810050det               13.0             13.0          6.0        1.0   \n",
       "3  200810050det               13.0             13.0          6.0        1.0   \n",
       "4  200810050det               13.0             13.0          6.0        1.0   \n",
       "\n",
       "   week_id  is_playoffs  is_superbowl  \n",
       "0      5.0          0.0           0.0  \n",
       "1      5.0          0.0           0.0  \n",
       "2      5.0          0.0           0.0  \n",
       "3      5.0          0.0           0.0  \n",
       "4      5.0          0.0           0.0  "
      ]
     },
     "execution_count": 22,
     "metadata": {},
     "output_type": "execute_result"
    }
   ],
   "source": [
    "spark.table(out_tbl).limit(5).toPandas()"
   ]
  }
 ],
 "metadata": {
  "kernelspec": {
   "display_name": "Python 2",
   "language": "python",
   "name": "python2"
  },
  "language_info": {
   "codemirror_mode": {
    "name": "ipython",
    "version": 2
   },
   "file_extension": ".py",
   "mimetype": "text/x-python",
   "name": "python",
   "nbconvert_exporter": "python",
   "pygments_lexer": "ipython2",
   "version": "2.7.15"
  },
  "toc": {
   "base_numbering": 1,
   "nav_menu": {},
   "number_sections": true,
   "sideBar": true,
   "skip_h1_title": false,
   "title_cell": "Table of Contents",
   "title_sidebar": "Contents",
   "toc_cell": false,
   "toc_position": {},
   "toc_section_display": true,
   "toc_window_display": false
  }
 },
 "nbformat": 4,
 "nbformat_minor": 2
}
