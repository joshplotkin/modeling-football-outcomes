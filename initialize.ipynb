{
 "cells": [
  {
   "cell_type": "markdown",
   "metadata": {},
   "source": [
    "### Boilerplate"
   ]
  },
  {
   "cell_type": "code",
   "execution_count": 1,
   "metadata": {
    "ExecuteTime": {
     "end_time": "2019-01-11T04:08:04.029129Z",
     "start_time": "2019-01-11T04:07:58.200509Z"
    }
   },
   "outputs": [
    {
     "data": {
      "text/html": [
       "<style>.container {width:90% !important;}</style>"
      ],
      "text/plain": [
       "<IPython.core.display.HTML object>"
      ]
     },
     "metadata": {},
     "output_type": "display_data"
    }
   ],
   "source": [
    "from cycler import cycler\n",
    "import pandas as pd\n",
    "from matplotlib import pyplot as plt\n",
    "from matplotlib import rcParams\n",
    "import numpy as np\n",
    "import json\n",
    "import seaborn as sns\n",
    "\n",
    "import pyspark.sql.functions as F\n",
    "from pyspark.sql.functions import col, udf\n",
    "from pyspark.sql.types import *\n",
    "\n",
    "## suppress warnings, mostly pandas\n",
    "import warnings\n",
    "warnings.simplefilter(action='ignore', category=FutureWarning)\n",
    "\n",
    "from IPython.core.interactiveshell import InteractiveShell\n",
    "from IPython.core.display import display, HTML\n",
    "InteractiveShell.ast_node_interactivity = \"all\"\n",
    "display(HTML('<style>.container {width:90% !important;}</style>'))\n",
    "\n",
    "plt.style.use('fivethirtyeight')\n",
    "%matplotlib inline\n",
    "\n",
    "spark.sql('USE football_games')\n",
    "\n",
    "os.chdir('../football_data')"
   ]
  },
  {
   "cell_type": "markdown",
   "metadata": {},
   "source": [
    "### Matplotlib Boilerplate"
   ]
  },
  {
   "cell_type": "code",
   "execution_count": 2,
   "metadata": {
    "ExecuteTime": {
     "end_time": "2019-01-11T04:08:04.131779Z",
     "start_time": "2019-01-11T04:08:04.033562Z"
    }
   },
   "outputs": [
    {
     "name": "stdout",
     "output_type": "stream",
     "text": [
      "[12.0, 8.0] 96.0\n"
     ]
    },
    {
     "data": {
      "image/png": "[encoded data removed]",
      "text/plain": [
       "<Figure size 768x96 with 1 Axes>"
      ]
     },
     "metadata": {
      "needs_background": "light"
     },
     "output_type": "display_data"
    }
   ],
   "source": [
    "rcParams['axes.titlesize'] = 14\n",
    "rcParams['axes.titleweight'] = 'bold'\n",
    "rcParams['figure.titlesize'] = 14\n",
    "rcParams['figure.titleweight'] = 'bold'\n",
    "rcParams['text.color'] = '#262626'\n",
    "\n",
    "rcParams['axes.labelsize'] = 12\n",
    "rcParams['axes.labelcolor'] = '#262626'\n",
    "rcParams['axes.labelweight'] = 'bold'\n",
    "\n",
    "rcParams['legend.fontsize'] = 12\n",
    "\n",
    "rcParams['figure.figsize'] = (12,8)\n",
    "rcParams['figure.dpi'] = 96\n",
    "rcParams['lines.color'] = '#262626'\n",
    "rcParams['lines.linewidth'] = 2\n",
    "\n",
    "## colors\n",
    "color_palette = 'Set2'\n",
    "colors = sns.color_palette(color_palette)\n",
    "sns.palplot(sns.color_palette(color_palette))\n",
    "rcParams['axes.prop_cycle'] = cycler(color=colors)"
   ]
  }
 ],
 "metadata": {
  "kernelspec": {
   "display_name": "Python 2",
   "language": "python",
   "name": "python2"
  },
  "language_info": {
   "codemirror_mode": {
    "name": "ipython",
    "version": 2
   },
   "file_extension": ".py",
   "mimetype": "text/x-python",
   "name": "python",
   "nbconvert_exporter": "python",
   "pygments_lexer": "ipython2",
   "version": "2.7.15"
  },
  "toc": {
   "base_numbering": 1,
   "nav_menu": {},
   "number_sections": true,
   "sideBar": true,
   "skip_h1_title": false,
   "title_cell": "Table of Contents",
   "title_sidebar": "Contents",
   "toc_cell": false,
   "toc_position": {},
   "toc_section_display": true,
   "toc_window_display": false
  }
 },
 "nbformat": 4,
 "nbformat_minor": 2
}
