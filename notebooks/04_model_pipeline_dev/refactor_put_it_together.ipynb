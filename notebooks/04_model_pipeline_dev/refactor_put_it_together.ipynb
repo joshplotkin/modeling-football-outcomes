{
 "cells": [
  {
   "cell_type": "code",
   "execution_count": null,
   "metadata": {},
   "outputs": [],
   "source": []
  },
  {
   "cell_type": "markdown",
   "metadata": {},
   "source": [
    "##### TODO: bring over model creation notebook... add in the new elements"
   ]
  },
  {
   "cell_type": "code",
   "execution_count": 1,
   "metadata": {
    "ExecuteTime": {
     "end_time": "2019-06-17T22:54:41.768767Z",
     "start_time": "2019-06-17T22:54:41.749582Z"
    }
   },
   "outputs": [],
   "source": [
    "%load_ext autoreload\n",
    "%autoreload 2"
   ]
  },
  {
   "cell_type": "code",
   "execution_count": 2,
   "metadata": {
    "ExecuteTime": {
     "end_time": "2019-06-17T22:54:48.659678Z",
     "start_time": "2019-06-17T22:54:46.642487Z"
    }
   },
   "outputs": [
    {
     "data": {
      "text/html": [
       "<style>.container {width:90% !important;}</style>"
      ],
      "text/plain": [
       "<IPython.core.display.HTML object>"
      ]
     },
     "metadata": {},
     "output_type": "display_data"
    }
   ],
   "source": [
    "%run ../config/initialize_nospark.ipynb\n",
    "\n",
    "import pickle as pickle\n",
    "import json"
   ]
  },
  {
   "cell_type": "code",
   "execution_count": 3,
   "metadata": {
    "ExecuteTime": {
     "end_time": "2019-06-17T22:54:58.814122Z",
     "start_time": "2019-06-17T22:54:58.780558Z"
    }
   },
   "outputs": [],
   "source": [
    "sys.path.append('../../config')\n",
    "from mpl_style import *\n",
    "\n",
    "rcParams['figure.dpi'] = 96\n",
    "rcParams['figure.figsize'] = (12,8)"
   ]
  },
  {
   "cell_type": "code",
   "execution_count": 4,
   "metadata": {
    "ExecuteTime": {
     "end_time": "2019-06-17T22:55:08.166478Z",
     "start_time": "2019-06-17T22:55:08.138282Z"
    }
   },
   "outputs": [],
   "source": [
    "import matplotlib as mpl\n",
    "params_backup = rcParams.copy()\n",
    "\n",
    "import sys \n",
    "os.chdir(\n",
    "    '/Users/joshplotkin/Dropbox/data_science/modeling-football-outcomes/'\n",
    ")\n",
    "sys.path.append('04_model_pipeline_dev/')\n",
    "from json_validator import validate_model_json, validate_eval_json\n",
    "from CVData import CVData\n",
    "from TrainAndScoreModel import TrainAndScoreModel\n",
    "from EvaluateModel import EvaluationData, EvaluateAndPlot\n",
    "from Stopwatch import Stopwatch"
   ]
  },
  {
   "cell_type": "code",
   "execution_count": null,
   "metadata": {},
   "outputs": [],
   "source": []
  }
 ],
 "metadata": {
  "kernelspec": {
   "display_name": "Python 3",
   "language": "python",
   "name": "python3"
  },
  "language_info": {
   "codemirror_mode": {
    "name": "ipython",
    "version": 3
   },
   "file_extension": ".py",
   "mimetype": "text/x-python",
   "name": "python",
   "nbconvert_exporter": "python",
   "pygments_lexer": "ipython3",
   "version": "3.7.3"
  },
  "toc": {
   "base_numbering": 1,
   "nav_menu": {},
   "number_sections": true,
   "sideBar": true,
   "skip_h1_title": false,
   "title_cell": "Table of Contents",
   "title_sidebar": "Contents",
   "toc_cell": false,
   "toc_position": {},
   "toc_section_display": true,
   "toc_window_display": false
  }
 },
 "nbformat": 4,
 "nbformat_minor": 2
}
