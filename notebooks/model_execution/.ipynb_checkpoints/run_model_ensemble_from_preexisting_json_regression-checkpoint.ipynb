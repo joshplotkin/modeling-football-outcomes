{
 "cells": [
  {
   "cell_type": "code",
   "execution_count": 1,
   "metadata": {
    "ExecuteTime": {
     "end_time": "2019-08-30T02:08:43.991552Z",
     "start_time": "2019-08-30T02:08:43.965631Z"
    }
   },
   "outputs": [],
   "source": [
    "%load_ext autoreload\n",
    "%autoreload 2"
   ]
  },
  {
   "cell_type": "markdown",
   "metadata": {},
   "source": [
    "### Set root dir path"
   ]
  },
  {
   "cell_type": "code",
   "execution_count": 4,
   "metadata": {
    "ExecuteTime": {
     "end_time": "2019-08-30T02:09:39.629619Z",
     "start_time": "2019-08-30T02:09:39.610134Z"
    }
   },
   "outputs": [],
   "source": [
    "import os\n",
    "ROOT='../..'\n",
    "os.chdir(ROOT)"
   ]
  },
  {
   "cell_type": "code",
   "execution_count": 5,
   "metadata": {
    "ExecuteTime": {
     "end_time": "2019-08-30T02:09:50.878790Z",
     "start_time": "2019-08-30T02:09:49.302354Z"
    }
   },
   "outputs": [
    {
     "data": {
      "text/html": [
       "<style>.container {width:90% !important;}</style>"
      ],
      "text/plain": [
       "<IPython.core.display.HTML object>"
      ]
     },
     "metadata": {},
     "output_type": "display_data"
    }
   ],
   "source": [
    "%run config/initialize_nospark.ipynb\n",
    "\n",
    "# from copy import deepcopy\n",
    "# import json\n",
    "from pprint import pprint\n",
    "# import shutil"
   ]
  },
  {
   "cell_type": "code",
   "execution_count": 6,
   "metadata": {
    "ExecuteTime": {
     "end_time": "2019-08-30T02:09:52.404410Z",
     "start_time": "2019-08-30T02:09:50.881193Z"
    }
   },
   "outputs": [],
   "source": [
    "sys.path.append('model_pipeline')\n",
    "from Ensemble import Ensemble"
   ]
  },
  {
   "cell_type": "markdown",
   "metadata": {},
   "source": [
    "## Execute a single model pipeline"
   ]
  },
  {
   "cell_type": "code",
   "execution_count": 7,
   "metadata": {
    "ExecuteTime": {
     "end_time": "2019-08-30T02:09:53.394820Z",
     "start_time": "2019-08-30T02:09:53.349746Z"
    }
   },
   "outputs": [],
   "source": [
    "single_model_path = 'model_configs/model__regression_example.json'\n",
    "single_evaluate_path = 'model_configs/evaluate__regression_example.json'"
   ]
  },
  {
   "cell_type": "code",
   "execution_count": 8,
   "metadata": {
    "ExecuteTime": {
     "end_time": "2019-08-30T02:09:53.691856Z",
     "start_time": "2019-08-30T02:09:53.619954Z"
    },
    "scrolled": true
   },
   "outputs": [
    {
     "name": "stdout",
     "output_type": "stream",
     "text": [
      "{'actions': {'do_evaluate': False,\n",
      "             'do_score_holdout': False,\n",
      "             'do_train_and_score_cv': True},\n",
      " 'dataset_seed': 9,\n",
      " 'dimensional_dataset_proportions': {'holdout': [{'dim': 'season',\n",
      "                                                  'from_groups': ['training',\n",
      "                                                                  'scoring_only'],\n",
      "                                                  'prop_to_move': 1.0,\n",
      "                                                  'vals': [2016, 2017]}]},\n",
      " 'features_list': ['home_field___h_consecutive_home',\n",
      "                   'home_field___h_home__close_wr_last_4_games',\n",
      "                   'home_field___h_home__close_wr_last_8_games',\n",
      "                   'home_field___h_home__close_wr_ytd',\n",
      "                   'home_field___h_home__open_wr_last_4_games',\n",
      "                   'home_field___h_home__open_wr_last_8_games',\n",
      "                   'home_field___h_home__open_wr_ytd',\n",
      "                   'home_field___h_home__ovr_wr_last_4_games',\n",
      "                   'home_field___h_home__ovr_wr_last_8_games',\n",
      "                   'home_field___h_home__ovr_wr_ytd',\n",
      "                   'home_field___h_home__pfr_wr_last_4_games',\n",
      "                   'home_field___h_home__pfr_wr_last_8_games',\n",
      "                   'home_field___h_home__pfr_wr_ytd',\n",
      "                   'home_field___h_is_home',\n",
      "                   'home_field___v_consecutive_visitor',\n",
      "                   'home_field___v_is_home',\n",
      "                   'home_field___v_visitor__close_wr_last_4_games',\n",
      "                   'home_field___v_visitor__close_wr_last_8_games',\n",
      "                   'home_field___v_visitor__close_wr_ytd',\n",
      "                   'home_field___v_visitor__open_wr_last_4_games',\n",
      "                   'home_field___v_visitor__open_wr_last_8_games',\n",
      "                   'home_field___v_visitor__open_wr_ytd',\n",
      "                   'home_field___v_visitor__ovr_wr_last_4_games',\n",
      "                   'home_field___v_visitor__ovr_wr_last_8_games',\n",
      "                   'home_field___v_visitor__ovr_wr_ytd',\n",
      "                   'home_field___v_visitor__pfr_wr_last_4_games',\n",
      "                   'home_field___v_visitor__pfr_wr_last_8_games',\n",
      "                   'home_field___v_visitor__pfr_wr_ytd',\n",
      "                   'line___close_ou',\n",
      "                   'line___h_close_line',\n",
      "                   'line___h_ml',\n",
      "                   'line___h_open_line',\n",
      "                   'line___h_pfr_line',\n",
      "                   'line___open_ou',\n",
      "                   'line___pfr_ou',\n",
      "                   'line___v_ml',\n",
      "                   'matchup___h_wr_past_2_seasons',\n",
      "                   'matchup___h_wr_past_3_seasons',\n",
      "                   'matchup___h_wr_past_5_games',\n",
      "                   'matchup___h_wr_ytd',\n",
      "                   'matchup___is_same_conf',\n",
      "                   'matchup___is_same_division',\n",
      "                   'rankings___h__dave_or_wtddvoa',\n",
      "                   'rankings___h__def_rank',\n",
      "                   'rankings___h__defensedvoa',\n",
      "                   'rankings___h__estim_winrate',\n",
      "                   'rankings___h__off_rank',\n",
      "                   'rankings___h__offensedvoa',\n",
      "                   'rankings___h__s_t_dvoa',\n",
      "                   'rankings___h__s_t_rank',\n",
      "                   'rankings___h__totaldvoa',\n",
      "                   'rankings___v__dave_or_wtddvoa',\n",
      "                   'rankings___v__def_rank',\n",
      "                   'rankings___v__defensedvoa',\n",
      "                   'rankings___v__estim_winrate',\n",
      "                   'rankings___v__off_rank',\n",
      "                   'rankings___v__offensedvoa',\n",
      "                   'rankings___v__s_t_dvoa',\n",
      "                   'rankings___v__s_t_rank',\n",
      "                   'rankings___v__totaldvoa',\n",
      "                   'team_history___h_close_wr_past_2_seasons',\n",
      "                   'team_history___h_close_wr_past_3_seasons',\n",
      "                   'team_history___h_close_wr_past_5_games',\n",
      "                   'team_history___h_close_wr_ytd',\n",
      "                   'team_history___h_open_wr_past_2_seasons',\n",
      "                   'team_history___h_open_wr_past_3_seasons',\n",
      "                   'team_history___h_open_wr_past_5_games',\n",
      "                   'team_history___h_open_wr_ytd',\n",
      "                   'team_history___h_ovr_wr_past_2_seasons',\n",
      "                   'team_history___h_ovr_wr_past_3_seasons',\n",
      "                   'team_history___h_ovr_wr_past_5_games',\n",
      "                   'team_history___h_ovr_wr_ytd',\n",
      "                   'team_history___h_pfr_wr_past_2_seasons',\n",
      "                   'team_history___h_pfr_wr_past_3_seasons',\n",
      "                   'team_history___h_pfr_wr_past_5_games',\n",
      "                   'team_history___h_pfr_wr_ytd',\n",
      "                   'team_history___v_close_wr_past_2_seasons',\n",
      "                   'team_history___v_close_wr_past_3_seasons',\n",
      "                   'team_history___v_close_wr_past_5_games',\n",
      "                   'team_history___v_close_wr_ytd',\n",
      "                   'team_history___v_open_wr_past_2_seasons',\n",
      "                   'team_history___v_open_wr_past_3_seasons',\n",
      "                   'team_history___v_open_wr_past_5_games',\n",
      "                   'team_history___v_open_wr_ytd',\n",
      "                   'team_history___v_ovr_wr_past_2_seasons',\n",
      "                   'team_history___v_ovr_wr_past_3_seasons',\n",
      "                   'team_history___v_ovr_wr_past_5_games',\n",
      "                   'team_history___v_ovr_wr_ytd',\n",
      "                   'team_history___v_pfr_wr_past_2_seasons',\n",
      "                   'team_history___v_pfr_wr_past_3_seasons',\n",
      "                   'team_history___v_pfr_wr_past_5_games',\n",
      "                   'team_history___v_pfr_wr_ytd',\n",
      "                   'time_date___day_of_week',\n",
      "                   'time_date___game_time_eastern',\n",
      "                   'time_date___game_time_local',\n",
      "                   'time_date___is_playoffs',\n",
      "                   'time_date___is_sunday',\n",
      "                   'time_date___is_superbowl',\n",
      "                   'time_date___week_id',\n",
      "                   'travel___h_body_clock_from_last_wk',\n",
      "                   'travel___h_days_since_last_game',\n",
      "                   'travel___h_same_stadium_last_game',\n",
      "                   'travel___h_travel_from_last_10_days',\n",
      "                   'travel___h_travel_from_last_game',\n",
      "                   'travel___h_travel_from_last_game_decay',\n",
      "                   'travel___h_tz_change_last_10_days',\n",
      "                   'travel___h_tz_change_last_game',\n",
      "                   'travel___v_body_clock_from_last_wk',\n",
      "                   'travel___v_days_since_last_game',\n",
      "                   'travel___v_dist_from_home',\n",
      "                   'travel___v_home_body_time',\n",
      "                   'travel___v_same_stadium_last_game',\n",
      "                   'travel___v_travel_from_last_10_days',\n",
      "                   'travel___v_travel_from_last_game',\n",
      "                   'travel___v_travel_from_last_game_decay',\n",
      "                   'travel___v_tz_change_last_10_days',\n",
      "                   'travel___v_tz_change_last_game',\n",
      "                   'weather___humidity_pct',\n",
      "                   'weather___is_dome',\n",
      "                   'weather___is_grass',\n",
      "                   'weather___temperature',\n",
      "                   'weather___wind_chill',\n",
      "                   'weather___wind_mph'],\n",
      " 'features_tbl': 'features.combined_0601',\n",
      " 'fold_seed': 99,\n",
      " 'global_dataset_proportions': {'holdout': 0,\n",
      "                                'scoring_only': 0,\n",
      "                                'throw_away': 0,\n",
      "                                'training': 1.0},\n",
      " 'index': ['game_id'],\n",
      " 'kfolds': 5,\n",
      " 'label_col': 'final_margin',\n",
      " 'labels_tbl': 'labels.combined_0601',\n",
      " 'model': 'xgboost.XGBRegressor',\n",
      " 'model_cv_to_use': None,\n",
      " 'model_id': '2019-08-29',\n",
      " 'model_params': {'booster': 'gbtree',\n",
      "                  'gamma': 0,\n",
      "                  'learning_rate': 0.1,\n",
      "                  'max_depth': 6,\n",
      "                  'max_features': 'auto',\n",
      "                  'n_estimators': 100,\n",
      "                  'n_jobs': 1,\n",
      "                  'nthread': None,\n",
      "                  'objective': 'reg:linear',\n",
      "                  'random_state': 9,\n",
      "                  'silent': True,\n",
      "                  'subsample': 0.5},\n",
      " 'models_dir': 'models',\n",
      " 'neg_labels': [-1],\n",
      " 'pos_labels': [1],\n",
      " 'save': {'cv_data': True,\n",
      "          'cv_scores': True,\n",
      "          'holdout_scores': False,\n",
      "          'serialized_models': False},\n",
      " 'strata_cols': ['season', 'week_id']}\n",
      "{'accuracy_at_topn': {'season': [1, 200, 2], 'week_id__season': [1, 16]},\n",
      " 'bin_types': ['Bin', 'Percentile'],\n",
      " 'label_map': {'0': 'Lost', '1': 'Won'},\n",
      " 'model_id': '2019-08-29',\n",
      " 'models_dir': 'models',\n",
      " 'plot_bins': [10, 100],\n",
      " 'regression_evaluation': {'comparison': 0,\n",
      "                           'label': 'did_win',\n",
      "                           'round_score': False},\n",
      " 'save': {'data': False, 'plots': False},\n",
      " 'success_name': 'Win Rate',\n",
      " 'threshold_metrics': ['Accuracy', 'F1'],\n",
      " 'to_plot': {'accuracy_by_top_n': True,\n",
      "             'bins': True,\n",
      "             'feature_importance': True,\n",
      "             'regression__confusion_matrix': True,\n",
      "             'regression__distributions': True,\n",
      "             'regression__residuals_by_season_week': True,\n",
      "             'regression__scatter': True,\n",
      "             'ridge': True,\n",
      "             'roc': True,\n",
      "             'shap__dependence_plots': False,\n",
      "             'shap__feature_importance': True,\n",
      "             'thresholds': True}}\n"
     ]
    }
   ],
   "source": [
    "pprint(json.load(open(single_model_path)))\n",
    "pprint(json.load(open(single_evaluate_path)))"
   ]
  },
  {
   "cell_type": "code",
   "execution_count": 9,
   "metadata": {
    "ExecuteTime": {
     "end_time": "2019-08-30T02:10:09.229455Z",
     "start_time": "2019-08-30T02:09:54.716449Z"
    }
   },
   "outputs": [],
   "source": [
    "from ExecuteModelPipeline import ExecuteModelPipeline\n",
    "model_pipeline = ExecuteModelPipeline(single_model_path, single_evaluate_path, 'Y')\n",
    "model_pipeline.execute_model_pipeline()"
   ]
  },
  {
   "cell_type": "markdown",
   "metadata": {},
   "source": [
    "## Execute an ensemble model pipeline"
   ]
  },
  {
   "cell_type": "markdown",
   "metadata": {},
   "source": [
    "### Ensemble from existing JSON"
   ]
  },
  {
   "cell_type": "markdown",
   "metadata": {},
   "source": [
    "#### Ensemble sub-model JSON. Same as above except\n",
    "* 50% is thrown away for each model (boostrapping)\n",
    "* don't save CV data"
   ]
  },
  {
   "cell_type": "code",
   "execution_count": 10,
   "metadata": {
    "ExecuteTime": {
     "end_time": "2019-08-30T02:10:09.323503Z",
     "start_time": "2019-08-30T02:10:09.231824Z"
    }
   },
   "outputs": [
    {
     "name": "stdout",
     "output_type": "stream",
     "text": [
      "{'actions': {'do_evaluate': False,\n",
      "             'do_score_holdout': False,\n",
      "             'do_train_and_score_cv': True},\n",
      " 'dataset_seed': 9,\n",
      " 'dimensional_dataset_proportions': {'holdout': [{'dim': 'season',\n",
      "                                                  'from_groups': ['training',\n",
      "                                                                  'scoring_only'],\n",
      "                                                  'prop_to_move': 1.0,\n",
      "                                                  'vals': [2016, 2017]}]},\n",
      " 'features_list': ['home_field___h_consecutive_home',\n",
      "                   'home_field___h_home__close_wr_last_4_games',\n",
      "                   'home_field___h_home__close_wr_last_8_games',\n",
      "                   'home_field___h_home__close_wr_ytd',\n",
      "                   'home_field___h_home__open_wr_last_4_games',\n",
      "                   'home_field___h_home__open_wr_last_8_games',\n",
      "                   'home_field___h_home__open_wr_ytd',\n",
      "                   'home_field___h_home__ovr_wr_last_4_games',\n",
      "                   'home_field___h_home__ovr_wr_last_8_games',\n",
      "                   'home_field___h_home__ovr_wr_ytd',\n",
      "                   'home_field___h_home__pfr_wr_last_4_games',\n",
      "                   'home_field___h_home__pfr_wr_last_8_games',\n",
      "                   'home_field___h_home__pfr_wr_ytd',\n",
      "                   'home_field___h_is_home',\n",
      "                   'home_field___v_consecutive_visitor',\n",
      "                   'home_field___v_is_home',\n",
      "                   'home_field___v_visitor__close_wr_last_4_games',\n",
      "                   'home_field___v_visitor__close_wr_last_8_games',\n",
      "                   'home_field___v_visitor__close_wr_ytd',\n",
      "                   'home_field___v_visitor__open_wr_last_4_games',\n",
      "                   'home_field___v_visitor__open_wr_last_8_games',\n",
      "                   'home_field___v_visitor__open_wr_ytd',\n",
      "                   'home_field___v_visitor__ovr_wr_last_4_games',\n",
      "                   'home_field___v_visitor__ovr_wr_last_8_games',\n",
      "                   'home_field___v_visitor__ovr_wr_ytd',\n",
      "                   'home_field___v_visitor__pfr_wr_last_4_games',\n",
      "                   'home_field___v_visitor__pfr_wr_last_8_games',\n",
      "                   'home_field___v_visitor__pfr_wr_ytd',\n",
      "                   'line___close_ou',\n",
      "                   'line___h_close_line',\n",
      "                   'line___h_ml',\n",
      "                   'line___h_open_line',\n",
      "                   'line___h_pfr_line',\n",
      "                   'line___open_ou',\n",
      "                   'line___pfr_ou',\n",
      "                   'line___v_ml',\n",
      "                   'matchup___h_wr_past_2_seasons',\n",
      "                   'matchup___h_wr_past_3_seasons',\n",
      "                   'matchup___h_wr_past_5_games',\n",
      "                   'matchup___h_wr_ytd',\n",
      "                   'matchup___is_same_conf',\n",
      "                   'matchup___is_same_division',\n",
      "                   'rankings___h__dave_or_wtddvoa',\n",
      "                   'rankings___h__def_rank',\n",
      "                   'rankings___h__defensedvoa',\n",
      "                   'rankings___h__estim_winrate',\n",
      "                   'rankings___h__off_rank',\n",
      "                   'rankings___h__offensedvoa',\n",
      "                   'rankings___h__s_t_dvoa',\n",
      "                   'rankings___h__s_t_rank',\n",
      "                   'rankings___h__totaldvoa',\n",
      "                   'rankings___v__dave_or_wtddvoa',\n",
      "                   'rankings___v__def_rank',\n",
      "                   'rankings___v__defensedvoa',\n",
      "                   'rankings___v__estim_winrate',\n",
      "                   'rankings___v__off_rank',\n",
      "                   'rankings___v__offensedvoa',\n",
      "                   'rankings___v__s_t_dvoa',\n",
      "                   'rankings___v__s_t_rank',\n",
      "                   'rankings___v__totaldvoa',\n",
      "                   'team_history___h_close_wr_past_2_seasons',\n",
      "                   'team_history___h_close_wr_past_3_seasons',\n",
      "                   'team_history___h_close_wr_past_5_games',\n",
      "                   'team_history___h_close_wr_ytd',\n",
      "                   'team_history___h_open_wr_past_2_seasons',\n",
      "                   'team_history___h_open_wr_past_3_seasons',\n",
      "                   'team_history___h_open_wr_past_5_games',\n",
      "                   'team_history___h_open_wr_ytd',\n",
      "                   'team_history___h_ovr_wr_past_2_seasons',\n",
      "                   'team_history___h_ovr_wr_past_3_seasons',\n",
      "                   'team_history___h_ovr_wr_past_5_games',\n",
      "                   'team_history___h_ovr_wr_ytd',\n",
      "                   'team_history___h_pfr_wr_past_2_seasons',\n",
      "                   'team_history___h_pfr_wr_past_3_seasons',\n",
      "                   'team_history___h_pfr_wr_past_5_games',\n",
      "                   'team_history___h_pfr_wr_ytd',\n",
      "                   'team_history___v_close_wr_past_2_seasons',\n",
      "                   'team_history___v_close_wr_past_3_seasons',\n",
      "                   'team_history___v_close_wr_past_5_games',\n",
      "                   'team_history___v_close_wr_ytd',\n",
      "                   'team_history___v_open_wr_past_2_seasons',\n",
      "                   'team_history___v_open_wr_past_3_seasons',\n",
      "                   'team_history___v_open_wr_past_5_games',\n",
      "                   'team_history___v_open_wr_ytd',\n",
      "                   'team_history___v_ovr_wr_past_2_seasons',\n",
      "                   'team_history___v_ovr_wr_past_3_seasons',\n",
      "                   'team_history___v_ovr_wr_past_5_games',\n",
      "                   'team_history___v_ovr_wr_ytd',\n",
      "                   'team_history___v_pfr_wr_past_2_seasons',\n",
      "                   'team_history___v_pfr_wr_past_3_seasons',\n",
      "                   'team_history___v_pfr_wr_past_5_games',\n",
      "                   'team_history___v_pfr_wr_ytd',\n",
      "                   'time_date___day_of_week',\n",
      "                   'time_date___game_time_eastern',\n",
      "                   'time_date___game_time_local',\n",
      "                   'time_date___is_playoffs',\n",
      "                   'time_date___is_sunday',\n",
      "                   'time_date___is_superbowl',\n",
      "                   'time_date___week_id',\n",
      "                   'travel___h_body_clock_from_last_wk',\n",
      "                   'travel___h_days_since_last_game',\n",
      "                   'travel___h_same_stadium_last_game',\n",
      "                   'travel___h_travel_from_last_10_days',\n",
      "                   'travel___h_travel_from_last_game',\n",
      "                   'travel___h_travel_from_last_game_decay',\n",
      "                   'travel___h_tz_change_last_10_days',\n",
      "                   'travel___h_tz_change_last_game',\n",
      "                   'travel___v_body_clock_from_last_wk',\n",
      "                   'travel___v_days_since_last_game',\n",
      "                   'travel___v_dist_from_home',\n",
      "                   'travel___v_home_body_time',\n",
      "                   'travel___v_same_stadium_last_game',\n",
      "                   'travel___v_travel_from_last_10_days',\n",
      "                   'travel___v_travel_from_last_game',\n",
      "                   'travel___v_travel_from_last_game_decay',\n",
      "                   'travel___v_tz_change_last_10_days',\n",
      "                   'travel___v_tz_change_last_game',\n",
      "                   'weather___humidity_pct',\n",
      "                   'weather___is_dome',\n",
      "                   'weather___is_grass',\n",
      "                   'weather___temperature',\n",
      "                   'weather___wind_chill',\n",
      "                   'weather___wind_mph'],\n",
      " 'features_tbl': 'features.combined_0601',\n",
      " 'fold_seed': 99,\n",
      " 'global_dataset_proportions': {'holdout': 0,\n",
      "                                'scoring_only': 0,\n",
      "                                'throw_away': 0.5,\n",
      "                                'training': 0.5},\n",
      " 'index': ['game_id'],\n",
      " 'kfolds': 5,\n",
      " 'label_col': 'final_margin',\n",
      " 'labels_tbl': 'labels.combined_0601',\n",
      " 'model': 'xgboost.XGBRegressor',\n",
      " 'model_cv_to_use': None,\n",
      " 'model_id': '2019-08-29',\n",
      " 'model_params': {'booster': 'gbtree',\n",
      "                  'gamma': 0,\n",
      "                  'learning_rate': 0.1,\n",
      "                  'max_depth': 6,\n",
      "                  'max_features': 'auto',\n",
      "                  'n_estimators': 100,\n",
      "                  'n_jobs': 1,\n",
      "                  'nthread': None,\n",
      "                  'objective': 'reg:linear',\n",
      "                  'random_state': 9,\n",
      "                  'silent': True,\n",
      "                  'subsample': 0.5},\n",
      " 'models_dir': 'models',\n",
      " 'neg_labels': [-1],\n",
      " 'pos_labels': [1],\n",
      " 'save': {'cv_data': True,\n",
      "          'cv_scores': True,\n",
      "          'holdout_scores': False,\n",
      "          'serialized_models': False},\n",
      " 'strata_cols': ['season', 'week_id']}\n",
      "{'accuracy_at_topn': {'season': [1, 200, 2], 'week_id__season': [1, 16]},\n",
      " 'bin_types': ['Bin', 'Percentile'],\n",
      " 'label_map': {'0': 'Lost', '1': 'Won'},\n",
      " 'model_id': '2019-08-29',\n",
      " 'models_dir': 'models',\n",
      " 'plot_bins': [10, 100],\n",
      " 'regression_evaluation': {'comparison': 0,\n",
      "                           'label': 'did_win',\n",
      "                           'round_score': False},\n",
      " 'save': {'data': False, 'plots': False},\n",
      " 'success_name': 'Win Rate',\n",
      " 'threshold_metrics': ['Accuracy', 'F1'],\n",
      " 'to_plot': {'accuracy_by_top_n': True,\n",
      "             'bins': True,\n",
      "             'feature_importance': True,\n",
      "             'regression__confusion_matrix': True,\n",
      "             'regression__distributions': True,\n",
      "             'regression__residuals_by_season_week': True,\n",
      "             'regression__scatter': True,\n",
      "             'ridge': True,\n",
      "             'roc': True,\n",
      "             'shap__dependence_plots': False,\n",
      "             'shap__feature_importance': True,\n",
      "             'thresholds': True}}\n"
     ]
    }
   ],
   "source": [
    "ensemble_submodel_model = 'model_configs/ensemble_submodel_model__regression_example.json'\n",
    "ensemble_submodel_evaluate = 'model_configs/ensemble_submodel_evaluate__regression_example.json'\n",
    "\n",
    "pprint(json.load(open(ensemble_submodel_model)))\n",
    "pprint(json.load(open(ensemble_submodel_evaluate)))"
   ]
  },
  {
   "cell_type": "markdown",
   "metadata": {},
   "source": [
    "##### notice source model below corresponds to the JSON above"
   ]
  },
  {
   "cell_type": "code",
   "execution_count": 11,
   "metadata": {
    "ExecuteTime": {
     "end_time": "2019-08-30T02:10:09.381091Z",
     "start_time": "2019-08-30T02:10:09.325084Z"
    }
   },
   "outputs": [
    {
     "name": "stdout",
     "output_type": "stream",
     "text": [
      "{'aggregation_method': ['mean', 'median'],\n",
      " 'ensemble_model_id': 'ensemble_with_new_cv_data',\n",
      " 'evaluation_config': 'model_configs/ensemble_submodel_evaluate__regression_example.json',\n",
      " 'models_dir': 'models',\n",
      " 'number_of_models': 5,\n",
      " 'save': {'scores': True},\n",
      " 'source': 'model_configs/ensemble_submodel_model__regression_example.json',\n",
      " 'submodel_plots': True}\n",
      "{'accuracy_at_topn': {'season': [1, 200, 2], 'week_id__season': [1, 16]},\n",
      " 'bin_types': ['Bin', 'Percentile'],\n",
      " 'label_map': {'0': 'Lost', '1': 'Won'},\n",
      " 'model_id': '2019-08-29',\n",
      " 'models_dir': 'models',\n",
      " 'plot_bins': [10, 100],\n",
      " 'regression_evaluation': {'comparison': 0,\n",
      "                           'label': 'did_win',\n",
      "                           'round_score': False},\n",
      " 'save': {'data': True, 'plots': False},\n",
      " 'success_name': 'Win Rate',\n",
      " 'threshold_metrics': ['Accuracy', 'F1'],\n",
      " 'to_plot': {'accuracy_by_top_n': True,\n",
      "             'bins': True,\n",
      "             'feature_importance': True,\n",
      "             'regression__confusion_matrix': True,\n",
      "             'regression__distributions': True,\n",
      "             'regression__residuals_by_season_week': True,\n",
      "             'regression__scatter': True,\n",
      "             'ridge': True,\n",
      "             'roc': True,\n",
      "             'shap__dependence_plots': True,\n",
      "             'shap__feature_importance': True,\n",
      "             'thresholds': True}}\n"
     ]
    }
   ],
   "source": [
    "ensemble_model_json_path = 'model_configs/ensemble_model_new_cv__regression_example.json'\n",
    "ensemble_evaluate_json_path = 'model_configs/ensemble_evaluate__regression_example.json'\n",
    "\n",
    "pprint(json.load(open(ensemble_model_json_path)))\n",
    "pprint(json.load(open(ensemble_evaluate_json_path)))"
   ]
  },
  {
   "cell_type": "code",
   "execution_count": null,
   "metadata": {
    "ExecuteTime": {
     "start_time": "2019-08-30T02:09:57.696Z"
    },
    "scrolled": false
   },
   "outputs": [
    {
     "name": "stdout",
     "output_type": "stream",
     "text": [
      "removed models/ensemble_with_new_cv_data...\n"
     ]
    }
   ],
   "source": [
    "ensemble = Ensemble(ensemble_model_json_path, ensemble_evaluate_json_path)\n",
    "ensemble.execute_ensemble()\n",
    "ensemble.evaluate_ensemble()"
   ]
  },
  {
   "cell_type": "markdown",
   "metadata": {},
   "source": [
    "### Execute an ensemble from pre-existing cross-validation data \n",
    "* in this case, changed the max depth from 6 to 12\n",
    "* useful for hyperparameter optimization and feature selection"
   ]
  },
  {
   "cell_type": "code",
   "execution_count": null,
   "metadata": {
    "ExecuteTime": {
     "start_time": "2019-08-30T02:09:58.084Z"
    }
   },
   "outputs": [],
   "source": [
    "ensemble_model_load_cv_json_path = 'model_configs/ensemble_model_load_cv__regression_example.json'\n",
    "pprint(json.load(open(ensemble_model_load_cv_json_path)))"
   ]
  },
  {
   "cell_type": "code",
   "execution_count": null,
   "metadata": {
    "ExecuteTime": {
     "start_time": "2019-08-30T02:09:58.272Z"
    },
    "scrolled": false
   },
   "outputs": [],
   "source": [
    "# note: reusing the eval JSON above\n",
    "ensemble = Ensemble(ensemble_model_load_cv_json_path, ensemble_evaluate_json_path)\n",
    "ensemble.execute_ensemble()\n",
    "ensemble.evaluate_ensemble()"
   ]
  }
 ],
 "metadata": {
  "kernelspec": {
   "display_name": "Python 3",
   "language": "python",
   "name": "python3"
  },
  "language_info": {
   "codemirror_mode": {
    "name": "ipython",
    "version": 3
   },
   "file_extension": ".py",
   "mimetype": "text/x-python",
   "name": "python",
   "nbconvert_exporter": "python",
   "pygments_lexer": "ipython3",
   "version": "3.7.3"
  },
  "toc": {
   "base_numbering": 1,
   "nav_menu": {},
   "number_sections": true,
   "sideBar": true,
   "skip_h1_title": false,
   "title_cell": "Table of Contents",
   "title_sidebar": "Contents",
   "toc_cell": false,
   "toc_position": {},
   "toc_section_display": true,
   "toc_window_display": true
  }
 },
 "nbformat": 4,
 "nbformat_minor": 2
}
