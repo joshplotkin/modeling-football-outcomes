{
 "cells": [
  {
   "cell_type": "markdown",
   "metadata": {},
   "source": [
    "# Build a CV Train/Score/Evaluate Scaffold\n",
    "* similar benefits as CI/CD pipeline\n",
    "  * quickly try and validate new ideas\n",
    "  * something to build on top of, e.g. feature selection\n",
    "* start with ~1/2 of data\n",
    "  * overfitting will occur--subsetting early mitigates some of this\n",
    "* store all models and supporting data\n",
    "* support various models\n",
    "* bespoke strafified sampling for folds\n",
    "* plotting routines for evaluation"
   ]
  },
  {
   "cell_type": "markdown",
   "metadata": {},
   "source": [
    "## TODO\n",
    "* save models to disk\n",
    "* save tables\n",
    "* metrics\n",
    "* move variables --> dict --> model.json\n",
    "* move boilerplate to boilerplate.ipynb"
   ]
  },
  {
   "cell_type": "markdown",
   "metadata": {},
   "source": [
    "## Boilerplate"
   ]
  },
  {
   "cell_type": "markdown",
   "metadata": {
    "ExecuteTime": {
     "end_time": "2019-01-10T04:30:44.802841Z",
     "start_time": "2019-01-10T04:30:44.797335Z"
    }
   },
   "source": [
    "### Separate databases: __labels, models, features, cv__"
   ]
  },
  {
   "cell_type": "code",
   "execution_count": 1,
   "metadata": {
    "ExecuteTime": {
     "end_time": "2019-01-11T05:22:26.167989Z",
     "start_time": "2019-01-11T05:22:19.876297Z"
    },
    "scrolled": true
   },
   "outputs": [
    {
     "data": {
      "text/html": [
       "<style>.container {width:90% !important;}</style>"
      ],
      "text/plain": [
       "<IPython.core.display.HTML object>"
      ]
     },
     "metadata": {},
     "output_type": "display_data"
    },
    {
     "data": {
      "image/png": "[encoded data removed]",
      "text/plain": [
       "<Figure size 768x96 with 1 Axes>"
      ]
     },
     "metadata": {
      "needs_background": "light"
     },
     "output_type": "display_data"
    }
   ],
   "source": [
    "%run initialize.ipynb\n",
    "\n",
    "import cPickle as pickle\n",
    "import json\n",
    "\n",
    "from pyspark.sql import Window\n",
    "\n",
    "# spark.sql('CREATE DATABASE labels')\n",
    "# spark.sql('CREATE DATABASE models')\n",
    "# spark.sql('CREATE DATABASE features')\n",
    "# spark.sql('CREATE DATABASE cv')"
   ]
  },
  {
   "cell_type": "code",
   "execution_count": 2,
   "metadata": {
    "ExecuteTime": {
     "end_time": "2019-01-11T05:22:26.180923Z",
     "start_time": "2019-01-11T05:22:26.174419Z"
    }
   },
   "outputs": [],
   "source": [
    "rcParams['figure.figsize'] = (12,8)\n",
    "rcParams['figure.dpi'] = 96\n",
    "\n",
    "# color_palette = 'Paired'\n",
    "# colors = sns.color_palette(color_palette)\n",
    "# sns.palplot(sns.color_palette(color_palette))\n",
    "# rcParams['axes.prop_cycle'] = cycler(color=colors)"
   ]
  },
  {
   "cell_type": "markdown",
   "metadata": {},
   "source": [
    "## Global Functions"
   ]
  },
  {
   "cell_type": "code",
   "execution_count": 3,
   "metadata": {
    "ExecuteTime": {
     "end_time": "2019-01-11T05:22:26.225264Z",
     "start_time": "2019-01-11T05:22:26.185866Z"
    }
   },
   "outputs": [],
   "source": [
    "def prop_dict_rolling(d):\n",
    "    '''given a dictionary of probabilities, where\n",
    "    the values are floats that sum to 1, \n",
    "    return a dictionary with the same keys, where\n",
    "    the values are disjoint windows.\n",
    "    usage note: top is inclusive. bottom is exclusive unless 0.\n",
    "    usage note: if both elements are the same, skip'''\n",
    "    rolling_sum = 0\n",
    "    rolling = {}\n",
    "    for k,v in d.iteritems():\n",
    "        rolling[k] = (rolling_sum, rolling_sum+v)\n",
    "        rolling_sum += v\n",
    "    return rolling\n",
    "\n",
    "def assign_group(df, d, strata_cols, colname):\n",
    "    '''given (1) a dictionary of ranges,\n",
    "    (2) a DF with random values ranked \n",
    "    by random block, and \n",
    "    (3) a name for the grouped columns,\n",
    "    return DF with a new column that \n",
    "    assigns group membership'''\n",
    "    \n",
    "    window = Window.orderBy('dataset_rnd').partitionBy(*strata_cols)\n",
    "    df = df.withColumn(\n",
    "            'dataset_rk', F.percent_rank().over(window)\n",
    "        )\n",
    "    for i, (k,v) in enumerate(d.iteritems()):\n",
    "        ## if the bottom is 0, make it -1 to include 0\n",
    "        min_val = -1 if v[0] == 0 else min_val\n",
    "        if i == 0:\n",
    "            group_assign_cond = F.when(\n",
    "                (col('dataset_rk') > min_val)\n",
    "                & (col('dataset_rk') <= v[1]),\n",
    "                F.lit(k)\n",
    "            )\n",
    "        else:\n",
    "            group_assign_cond = group_assign_cond.when(\n",
    "                (col('dataset_rk') > min_val)\n",
    "                & (col('dataset_rk') <= v[1]),\n",
    "                F.lit(k)\n",
    "            )\n",
    "    \n",
    "    return df.withColumn(colname, group_assign_cond)\n",
    "\n",
    "def modify_group_for_dim(df, d, colname):\n",
    "    '''given a DF with a groups assigned (variable colname),\n",
    "    apply a dictionary to post-process the groups according \n",
    "    to that one dimension. returns original DF with modified\n",
    "    colname column.\n",
    "    e.g. move specific seasons to the holdout or throwaway sets.\n",
    "    '''\n",
    "    for grp, grp_dict_list in dimensional_dataset_proportions.iteritems():\n",
    "        for grp_dict in grp_dict_list:\n",
    "            window = Window.orderBy('dim_rnd')\\\n",
    "                           .partitionBy(grp_dict['dim'], colname)\n",
    "            df = df.withColumn('dim_rk', F.percent_rank().over(window))\n",
    "\n",
    "            ## if (1) the column is within the set values,\n",
    "            ## (2) the pre-existing group falls within those set values, and\n",
    "            ## (3) the random value is below the set threshold,\n",
    "            ## then override and modify the group membership\n",
    "            df = df.withColumn(\n",
    "                colname, \n",
    "                F.when(\n",
    "                    (col(grp_dict['dim']).isin(grp_dict['vals']))\n",
    "                    & (col(colname).isin(grp_dict['from_groups'])) \n",
    "                    & (col('dim_rk') >= grp_dict['prop']), \n",
    "                  grp\n",
    "                ).otherwise(col(colname))\n",
    "            )\n",
    "    return df"
   ]
  },
  {
   "cell_type": "markdown",
   "metadata": {
    "ExecuteTime": {
     "end_time": "2019-01-10T04:06:53.949662Z",
     "start_time": "2019-01-10T04:06:53.942951Z"
    }
   },
   "source": [
    "## Simple Spread Model"
   ]
  },
  {
   "cell_type": "markdown",
   "metadata": {},
   "source": [
    "### Labels\n",
    "* did_win\n",
    "\n",
    "### Features\n",
    "* season\n",
    "* week_id\n",
    "* is_home\n",
    "* dave_or_wtddvoa\n",
    "* offensedvoa\n",
    "* defensedvoa\n",
    "* s_t_dvoa"
   ]
  },
  {
   "cell_type": "markdown",
   "metadata": {},
   "source": [
    "### Generate Test Data"
   ]
  },
  {
   "cell_type": "code",
   "execution_count": 4,
   "metadata": {
    "ExecuteTime": {
     "end_time": "2019-01-11T05:22:29.135246Z",
     "start_time": "2019-01-11T05:22:26.229768Z"
    },
    "run_control": {
     "marked": true
    }
   },
   "outputs": [],
   "source": [
    "ranks = spark.table('dvoa').select(\n",
    "        'team_id','season','week_id','dave_or_wtddvoa',\n",
    "        'offensedvoa','defensedvoa','s_t_dvoa'\n",
    "    ).cache()\n",
    "game_feats = spark.table('team_game_line_labels').select(\n",
    "        'game_id','season','week_id','team_id','is_home'\n",
    "    ).cache()\n",
    "\n",
    "features = game_feats.join(\n",
    "        ranks, on=['team_id','season','week_id']\n",
    "    )\n",
    "labels = spark.table('team_game_line_labels').select(\n",
    "    ## index\n",
    "    'game_id','team_id',\n",
    "    ## strata\n",
    "    'is_home','is_fav_sbr',\n",
    "    ## labels\n",
    "    'did_win','final_margin','did_cover_pfr',\n",
    "    'did_cover_sbr','did_cover_sbr_open'\n",
    ")\n",
    "\n",
    "assert features.count() == labels.count()"
   ]
  },
  {
   "cell_type": "code",
   "execution_count": 5,
   "metadata": {
    "ExecuteTime": {
     "end_time": "2019-01-11T05:22:30.797757Z",
     "start_time": "2019-01-11T05:22:29.140342Z"
    }
   },
   "outputs": [],
   "source": [
    "features.write.mode('overwrite').saveAsTable('features.0109_test')\n",
    "labels.write.mode('overwrite').saveAsTable('labels.0109_test')"
   ]
  },
  {
   "cell_type": "markdown",
   "metadata": {},
   "source": [
    "### Train and Score Model"
   ]
  },
  {
   "cell_type": "markdown",
   "metadata": {},
   "source": [
    "#### Define variables -- eventually for model.json"
   ]
  },
  {
   "cell_type": "code",
   "execution_count": 6,
   "metadata": {
    "ExecuteTime": {
     "end_time": "2019-01-11T05:22:30.873255Z",
     "start_time": "2019-01-11T05:22:30.802127Z"
    },
    "run_control": {
     "marked": true
    }
   },
   "outputs": [],
   "source": [
    "features_tbl = 'features.0109_test'\n",
    "labels_tbl = 'labels.0109_test'\n",
    "\n",
    "features_list = [\n",
    "    'season',\n",
    "    'week_id',\n",
    "    'is_home',\n",
    "    'dave_or_wtddvoa',\n",
    "    'offensedvoa',\n",
    "    'defensedvoa',\n",
    "    's_t_dvoa'\n",
    "]\n",
    "\n",
    "label_col = 'did_win'\n",
    "pos_labels = [1]\n",
    "neg_labels = [-1]\n",
    "\n",
    "index = ['game_id','team_id']\n",
    "\n",
    "nfolds = 5\n",
    "kfold_seed = 99\n",
    "\n",
    "dataset_seed = 9\n",
    "strata_cols = ['did_win','is_home']\n",
    "\n",
    "## this says holdout 50%, and the other 50% goes in training\n",
    "global_dataset_proportions = {\n",
    "    'holdout': 0.5,\n",
    "    'throw_away': 0,\n",
    "    'in_training': 0.5,\n",
    "    'scoring_only': 0\n",
    "}\n",
    "\n",
    "## this says to throw away all games where \n",
    "## team is Visitor\n",
    "dimensional_dataset_proportions = {\n",
    "    'throw_away': [{\n",
    "        'dim': 'is_home',\n",
    "        'from_groups': ['in_training','holdout','scoring_only'],\n",
    "        'vals': [0],\n",
    "        'prop': 0.0\n",
    "    }]\n",
    "    \n",
    "}\n",
    "\n",
    "model_seed = 9\n",
    "model = 'xgboost.XGBClassifier'\n",
    "model_params = {\n",
    "    'booster':'gbtree',\n",
    "    'gamma': 0,\n",
    "    'learning_rate': 0.1,\n",
    "    'max_depth': 3,\n",
    "    'max_features': 'auto',\n",
    "    'n_estimators': 200,\n",
    "    'n_jobs': 1,\n",
    "    'nthread': None,\n",
    "    'objective': 'binary:logistic',\n",
    "    'random_state': model_seed,\n",
    "    'silent': True,\n",
    "    'subsample': 0.9\n",
    "}"
   ]
  },
  {
   "cell_type": "code",
   "execution_count": 7,
   "metadata": {
    "ExecuteTime": {
     "end_time": "2019-01-11T05:22:30.885550Z",
     "start_time": "2019-01-11T05:22:30.877895Z"
    }
   },
   "outputs": [],
   "source": [
    "assert sum(global_dataset_proportions.values()) == 1\n",
    "assert type(global_dataset_proportions) is dict\n",
    "for d in dimensional_dataset_proportions.values():\n",
    "    assert type(d) is list\n",
    "    assert sum([type(x) is not dict for x in d]) == 0\n",
    "    \n",
    "## other assertions\n",
    "# tables exists\n",
    "# columns are in tables\n",
    "# "
   ]
  },
  {
   "cell_type": "markdown",
   "metadata": {},
   "source": [
    "#### Select data and assign random values for binning"
   ]
  },
  {
   "cell_type": "code",
   "execution_count": 8,
   "metadata": {
    "ExecuteTime": {
     "end_time": "2019-01-11T05:22:31.275014Z",
     "start_time": "2019-01-11T05:22:30.889613Z"
    }
   },
   "outputs": [],
   "source": [
    "features_prep = spark.table(features_tbl).select(\n",
    "        *( set(features_list) | set(index) )\n",
    "    )\n",
    "labels_prep = spark.table(labels_tbl).select(\n",
    "        *( set(index) | set(strata_cols) | set([label_col]) )\n",
    "    )\n",
    "\n",
    "labels_prep = labels_prep.withColumn(\n",
    "        'dataset_rnd', F.rand(dataset_seed)\n",
    "    ).withColumn(\n",
    "        'dim_rnd', F.rand(dataset_seed)\n",
    "    ).withColumn(\n",
    "        'kfold_rnd', F.rand(kfold_seed)\n",
    "    ).withColumn(\n",
    "        'label', \n",
    "        F.when(col(label_col).isin(pos_labels), 1)\n",
    "         .when(col(label_col).isin(neg_labels), 0)\n",
    "         .otherwise(None)\n",
    "    ).filter(\n",
    "        col('label').isNotNull()\n",
    "    )"
   ]
  },
  {
   "cell_type": "markdown",
   "metadata": {},
   "source": [
    "#### Apply stratified sampling\n",
    "* TODO: pre-bin the values (either by percentile/decile/quantile/etc, or by defined groups) if requested. purely a nice-to-have\n",
    "* move to a function\n",
    "* 4 uses for strata\n",
    " * holdout\n",
    " * throw away\n",
    " * in training folds or scoring only\n",
    " * k-fold\n",
    "* techniques\n",
    " * for k-fold, it's easy as it's uniform across folds\n",
    " * holdout/throw away/in training/score only can be performed together\n",
    "* options\n",
    " * global: cut the count by this proportion, for all blocks\n",
    " * dimensional: after the global cut, further cut a single dimensional value\n",
    "   * e.g. could be used to remove certain years or weeks\n",
    "   * for now, this will be manual after the dict is created\n",
    "   * or have skip_values dict of column: [values] to 0 out"
   ]
  },
  {
   "cell_type": "markdown",
   "metadata": {},
   "source": [
    "apply global proportions"
   ]
  },
  {
   "cell_type": "code",
   "execution_count": 9,
   "metadata": {
    "ExecuteTime": {
     "end_time": "2019-01-11T05:22:35.113724Z",
     "start_time": "2019-01-11T05:22:31.279655Z"
    },
    "scrolled": true
   },
   "outputs": [
    {
     "data": {
      "text/html": [
       "<div>\n",
       "<style scoped>\n",
       "    .dataframe tbody tr th:only-of-type {\n",
       "        vertical-align: middle;\n",
       "    }\n",
       "\n",
       "    .dataframe tbody tr th {\n",
       "        vertical-align: top;\n",
       "    }\n",
       "\n",
       "    .dataframe thead th {\n",
       "        text-align: right;\n",
       "    }\n",
       "</style>\n",
       "<table border=\"1\" class=\"dataframe\">\n",
       "  <thead>\n",
       "    <tr style=\"text-align: right;\">\n",
       "      <th></th>\n",
       "      <th>did_win</th>\n",
       "      <th>is_home</th>\n",
       "      <th>holdout</th>\n",
       "      <th>in_training</th>\n",
       "    </tr>\n",
       "  </thead>\n",
       "  <tbody>\n",
       "    <tr>\n",
       "      <th>0</th>\n",
       "      <td>1</td>\n",
       "      <td>NaN</td>\n",
       "      <td>19</td>\n",
       "      <td>19</td>\n",
       "    </tr>\n",
       "    <tr>\n",
       "      <th>1</th>\n",
       "      <td>1</td>\n",
       "      <td>0.0</td>\n",
       "      <td>616</td>\n",
       "      <td>617</td>\n",
       "    </tr>\n",
       "    <tr>\n",
       "      <th>2</th>\n",
       "      <td>-1</td>\n",
       "      <td>1.0</td>\n",
       "      <td>616</td>\n",
       "      <td>617</td>\n",
       "    </tr>\n",
       "    <tr>\n",
       "      <th>3</th>\n",
       "      <td>1</td>\n",
       "      <td>1.0</td>\n",
       "      <td>830</td>\n",
       "      <td>830</td>\n",
       "    </tr>\n",
       "    <tr>\n",
       "      <th>4</th>\n",
       "      <td>-1</td>\n",
       "      <td>NaN</td>\n",
       "      <td>19</td>\n",
       "      <td>19</td>\n",
       "    </tr>\n",
       "    <tr>\n",
       "      <th>5</th>\n",
       "      <td>-1</td>\n",
       "      <td>0.0</td>\n",
       "      <td>830</td>\n",
       "      <td>830</td>\n",
       "    </tr>\n",
       "  </tbody>\n",
       "</table>\n",
       "</div>"
      ],
      "text/plain": [
       "   did_win  is_home  holdout  in_training\n",
       "0        1      NaN       19           19\n",
       "1        1      0.0      616          617\n",
       "2       -1      1.0      616          617\n",
       "3        1      1.0      830          830\n",
       "4       -1      NaN       19           19\n",
       "5       -1      0.0      830          830"
      ]
     },
     "execution_count": 9,
     "metadata": {},
     "output_type": "execute_result"
    }
   ],
   "source": [
    "global_rolling = prop_dict_rolling(global_dataset_proportions)\n",
    "datasets = assign_group(labels_prep, global_rolling, strata_cols, 'dataset')\n",
    "\n",
    "datasets.groupby('did_win','is_home').pivot('dataset').count().toPandas()"
   ]
  },
  {
   "cell_type": "markdown",
   "metadata": {},
   "source": [
    "apply dimensional proportions"
   ]
  },
  {
   "cell_type": "code",
   "execution_count": 10,
   "metadata": {
    "ExecuteTime": {
     "end_time": "2019-01-11T05:22:39.127474Z",
     "start_time": "2019-01-11T05:22:35.120383Z"
    }
   },
   "outputs": [
    {
     "data": {
      "text/html": [
       "<div>\n",
       "<style scoped>\n",
       "    .dataframe tbody tr th:only-of-type {\n",
       "        vertical-align: middle;\n",
       "    }\n",
       "\n",
       "    .dataframe tbody tr th {\n",
       "        vertical-align: top;\n",
       "    }\n",
       "\n",
       "    .dataframe thead th {\n",
       "        text-align: right;\n",
       "    }\n",
       "</style>\n",
       "<table border=\"1\" class=\"dataframe\">\n",
       "  <thead>\n",
       "    <tr style=\"text-align: right;\">\n",
       "      <th></th>\n",
       "      <th>did_win</th>\n",
       "      <th>is_home</th>\n",
       "      <th>holdout</th>\n",
       "      <th>in_training</th>\n",
       "      <th>throw_away</th>\n",
       "    </tr>\n",
       "  </thead>\n",
       "  <tbody>\n",
       "    <tr>\n",
       "      <th>0</th>\n",
       "      <td>1</td>\n",
       "      <td>0.0</td>\n",
       "      <td>19.0</td>\n",
       "      <td>19.0</td>\n",
       "      <td>0.0</td>\n",
       "    </tr>\n",
       "    <tr>\n",
       "      <th>1</th>\n",
       "      <td>1</td>\n",
       "      <td>0.0</td>\n",
       "      <td>0.0</td>\n",
       "      <td>0.0</td>\n",
       "      <td>1233.0</td>\n",
       "    </tr>\n",
       "    <tr>\n",
       "      <th>2</th>\n",
       "      <td>-1</td>\n",
       "      <td>1.0</td>\n",
       "      <td>616.0</td>\n",
       "      <td>617.0</td>\n",
       "      <td>0.0</td>\n",
       "    </tr>\n",
       "    <tr>\n",
       "      <th>3</th>\n",
       "      <td>1</td>\n",
       "      <td>1.0</td>\n",
       "      <td>830.0</td>\n",
       "      <td>830.0</td>\n",
       "      <td>0.0</td>\n",
       "    </tr>\n",
       "    <tr>\n",
       "      <th>4</th>\n",
       "      <td>-1</td>\n",
       "      <td>0.0</td>\n",
       "      <td>19.0</td>\n",
       "      <td>19.0</td>\n",
       "      <td>0.0</td>\n",
       "    </tr>\n",
       "    <tr>\n",
       "      <th>5</th>\n",
       "      <td>-1</td>\n",
       "      <td>0.0</td>\n",
       "      <td>0.0</td>\n",
       "      <td>0.0</td>\n",
       "      <td>1660.0</td>\n",
       "    </tr>\n",
       "  </tbody>\n",
       "</table>\n",
       "</div>"
      ],
      "text/plain": [
       "   did_win  is_home  holdout  in_training  throw_away\n",
       "0        1      0.0     19.0         19.0         0.0\n",
       "1        1      0.0      0.0          0.0      1233.0\n",
       "2       -1      1.0    616.0        617.0         0.0\n",
       "3        1      1.0    830.0        830.0         0.0\n",
       "4       -1      0.0     19.0         19.0         0.0\n",
       "5       -1      0.0      0.0          0.0      1660.0"
      ]
     },
     "execution_count": 10,
     "metadata": {},
     "output_type": "execute_result"
    }
   ],
   "source": [
    "datasets = modify_group_for_dim(\n",
    "    datasets, dimensional_dataset_proportions, 'dataset' \n",
    ")\n",
    "\n",
    "datasets.groupby('did_win','is_home').pivot('dataset').count().toPandas().fillna(0)"
   ]
  },
  {
   "cell_type": "markdown",
   "metadata": {},
   "source": [
    "#### Stratified Sampling -- CV Set -- TODO: what if no folds desired, e.g. 70/30 split, 1 model"
   ]
  },
  {
   "cell_type": "code",
   "execution_count": 11,
   "metadata": {
    "ExecuteTime": {
     "end_time": "2019-01-11T05:22:39.200631Z",
     "start_time": "2019-01-11T05:22:39.133391Z"
    }
   },
   "outputs": [],
   "source": [
    "scoring_rows = datasets.filter(col('dataset') == 'scoring_only')\n",
    "training_rows = datasets.filter(col('dataset') == 'in_training')"
   ]
  },
  {
   "cell_type": "code",
   "execution_count": 12,
   "metadata": {
    "ExecuteTime": {
     "end_time": "2019-01-11T05:22:42.318474Z",
     "start_time": "2019-01-11T05:22:39.204211Z"
    }
   },
   "outputs": [
    {
     "data": {
      "text/html": [
       "<div>\n",
       "<style scoped>\n",
       "    .dataframe tbody tr th:only-of-type {\n",
       "        vertical-align: middle;\n",
       "    }\n",
       "\n",
       "    .dataframe tbody tr th {\n",
       "        vertical-align: top;\n",
       "    }\n",
       "\n",
       "    .dataframe thead th {\n",
       "        text-align: right;\n",
       "    }\n",
       "</style>\n",
       "<table border=\"1\" class=\"dataframe\">\n",
       "  <thead>\n",
       "    <tr style=\"text-align: right;\">\n",
       "      <th></th>\n",
       "      <th>did_win</th>\n",
       "      <th>is_home</th>\n",
       "      <th>0</th>\n",
       "      <th>1</th>\n",
       "      <th>2</th>\n",
       "      <th>3</th>\n",
       "      <th>4</th>\n",
       "    </tr>\n",
       "  </thead>\n",
       "  <tbody>\n",
       "    <tr>\n",
       "      <th>0</th>\n",
       "      <td>1</td>\n",
       "      <td>NaN</td>\n",
       "      <td>4</td>\n",
       "      <td>4</td>\n",
       "      <td>3</td>\n",
       "      <td>4</td>\n",
       "      <td>4</td>\n",
       "    </tr>\n",
       "    <tr>\n",
       "      <th>1</th>\n",
       "      <td>-1</td>\n",
       "      <td>1.0</td>\n",
       "      <td>124</td>\n",
       "      <td>123</td>\n",
       "      <td>123</td>\n",
       "      <td>123</td>\n",
       "      <td>124</td>\n",
       "    </tr>\n",
       "    <tr>\n",
       "      <th>2</th>\n",
       "      <td>1</td>\n",
       "      <td>1.0</td>\n",
       "      <td>166</td>\n",
       "      <td>166</td>\n",
       "      <td>166</td>\n",
       "      <td>166</td>\n",
       "      <td>166</td>\n",
       "    </tr>\n",
       "    <tr>\n",
       "      <th>3</th>\n",
       "      <td>-1</td>\n",
       "      <td>NaN</td>\n",
       "      <td>4</td>\n",
       "      <td>4</td>\n",
       "      <td>3</td>\n",
       "      <td>4</td>\n",
       "      <td>4</td>\n",
       "    </tr>\n",
       "  </tbody>\n",
       "</table>\n",
       "</div>"
      ],
      "text/plain": [
       "   did_win  is_home    0    1    2    3    4\n",
       "0        1      NaN    4    4    3    4    4\n",
       "1       -1      1.0  124  123  123  123  124\n",
       "2        1      1.0  166  166  166  166  166\n",
       "3       -1      NaN    4    4    3    4    4"
      ]
     },
     "execution_count": 12,
     "metadata": {},
     "output_type": "execute_result"
    }
   ],
   "source": [
    "## assign K folds\n",
    "if nfolds > 1:\n",
    "    folds_dict = {k: 1./nfolds for k in np.arange(nfolds)}\n",
    "    folds_rolling = prop_dict_rolling(folds_dict)\n",
    "    training_rows = assign_group(training_rows, folds_rolling, strata_cols, 'fold')\n",
    "\n",
    "    training_rows.groupby('did_win','is_home').pivot('fold').count().toPandas()\n",
    "else:\n",
    "    training_rows = training_rows.withColumn('fold', F.lit(0))"
   ]
  },
  {
   "cell_type": "code",
   "execution_count": 13,
   "metadata": {
    "ExecuteTime": {
     "end_time": "2019-01-11T05:22:45.932052Z",
     "start_time": "2019-01-11T05:22:42.323885Z"
    }
   },
   "outputs": [],
   "source": [
    "training = features_prep.join(\n",
    "    training_rows.select(*(index + ['label','fold'])),\n",
    "    on=index\n",
    ")\n",
    "scoring_only = features_prep.join(\n",
    "    scoring_rows.select(*(index + ['label'])),\n",
    "    on=index\n",
    ")\n",
    "\n",
    "assert training.count() == training_rows.count()\n",
    "assert scoring_only.count() == scoring_rows.count()"
   ]
  },
  {
   "cell_type": "code",
   "execution_count": 14,
   "metadata": {
    "ExecuteTime": {
     "end_time": "2019-01-11T05:22:48.100833Z",
     "start_time": "2019-01-11T05:22:45.937598Z"
    }
   },
   "outputs": [
    {
     "data": {
      "text/html": [
       "<div>\n",
       "<style scoped>\n",
       "    .dataframe tbody tr th:only-of-type {\n",
       "        vertical-align: middle;\n",
       "    }\n",
       "\n",
       "    .dataframe tbody tr th {\n",
       "        vertical-align: top;\n",
       "    }\n",
       "\n",
       "    .dataframe thead th {\n",
       "        text-align: right;\n",
       "    }\n",
       "</style>\n",
       "<table border=\"1\" class=\"dataframe\">\n",
       "  <thead>\n",
       "    <tr style=\"text-align: right;\">\n",
       "      <th></th>\n",
       "      <th>game_id</th>\n",
       "      <th>team_id</th>\n",
       "      <th>week_id</th>\n",
       "      <th>defensedvoa</th>\n",
       "      <th>dave_or_wtddvoa</th>\n",
       "      <th>season</th>\n",
       "      <th>offensedvoa</th>\n",
       "      <th>is_home</th>\n",
       "      <th>s_t_dvoa</th>\n",
       "      <th>label</th>\n",
       "      <th>fold</th>\n",
       "    </tr>\n",
       "  </thead>\n",
       "  <tbody>\n",
       "    <tr>\n",
       "      <th>0</th>\n",
       "      <td>200811090mia</td>\n",
       "      <td>mia</td>\n",
       "      <td>10</td>\n",
       "      <td>-3.0</td>\n",
       "      <td>10.6</td>\n",
       "      <td>2008</td>\n",
       "      <td>14.9</td>\n",
       "      <td>1.0</td>\n",
       "      <td>-8.5</td>\n",
       "      <td>1</td>\n",
       "      <td>0</td>\n",
       "    </tr>\n",
       "    <tr>\n",
       "      <th>1</th>\n",
       "      <td>200811160mia</td>\n",
       "      <td>mia</td>\n",
       "      <td>11</td>\n",
       "      <td>-0.5</td>\n",
       "      <td>10.1</td>\n",
       "      <td>2008</td>\n",
       "      <td>15.3</td>\n",
       "      <td>1.0</td>\n",
       "      <td>-8.2</td>\n",
       "      <td>1</td>\n",
       "      <td>2</td>\n",
       "    </tr>\n",
       "    <tr>\n",
       "      <th>2</th>\n",
       "      <td>200811230mia</td>\n",
       "      <td>mia</td>\n",
       "      <td>12</td>\n",
       "      <td>0.5</td>\n",
       "      <td>6.6</td>\n",
       "      <td>2008</td>\n",
       "      <td>16.7</td>\n",
       "      <td>1.0</td>\n",
       "      <td>-9.4</td>\n",
       "      <td>0</td>\n",
       "      <td>1</td>\n",
       "    </tr>\n",
       "    <tr>\n",
       "      <th>3</th>\n",
       "      <td>200812140mia</td>\n",
       "      <td>mia</td>\n",
       "      <td>15</td>\n",
       "      <td>2.4</td>\n",
       "      <td>8.5</td>\n",
       "      <td>2008</td>\n",
       "      <td>14.6</td>\n",
       "      <td>1.0</td>\n",
       "      <td>-6.8</td>\n",
       "      <td>1</td>\n",
       "      <td>3</td>\n",
       "    </tr>\n",
       "    <tr>\n",
       "      <th>4</th>\n",
       "      <td>200901040mia</td>\n",
       "      <td>mia</td>\n",
       "      <td>18</td>\n",
       "      <td>3.0</td>\n",
       "      <td>7.5</td>\n",
       "      <td>2008</td>\n",
       "      <td>17.1</td>\n",
       "      <td>1.0</td>\n",
       "      <td>-4.9</td>\n",
       "      <td>0</td>\n",
       "      <td>1</td>\n",
       "    </tr>\n",
       "  </tbody>\n",
       "</table>\n",
       "</div>"
      ],
      "text/plain": [
       "        game_id team_id  week_id  defensedvoa  dave_or_wtddvoa  season  \\\n",
       "0  200811090mia     mia       10         -3.0             10.6    2008   \n",
       "1  200811160mia     mia       11         -0.5             10.1    2008   \n",
       "2  200811230mia     mia       12          0.5              6.6    2008   \n",
       "3  200812140mia     mia       15          2.4              8.5    2008   \n",
       "4  200901040mia     mia       18          3.0              7.5    2008   \n",
       "\n",
       "   offensedvoa  is_home  s_t_dvoa  label  fold  \n",
       "0         14.9      1.0      -8.5      1     0  \n",
       "1         15.3      1.0      -8.2      1     2  \n",
       "2         16.7      1.0      -9.4      0     1  \n",
       "3         14.6      1.0      -6.8      1     3  \n",
       "4         17.1      1.0      -4.9      0     1  "
      ]
     },
     "execution_count": 14,
     "metadata": {},
     "output_type": "execute_result"
    },
    {
     "data": {
      "text/html": [
       "<div>\n",
       "<style scoped>\n",
       "    .dataframe tbody tr th:only-of-type {\n",
       "        vertical-align: middle;\n",
       "    }\n",
       "\n",
       "    .dataframe tbody tr th {\n",
       "        vertical-align: top;\n",
       "    }\n",
       "\n",
       "    .dataframe thead th {\n",
       "        text-align: right;\n",
       "    }\n",
       "</style>\n",
       "<table border=\"1\" class=\"dataframe\">\n",
       "  <thead>\n",
       "    <tr style=\"text-align: right;\">\n",
       "      <th></th>\n",
       "      <th>game_id</th>\n",
       "      <th>team_id</th>\n",
       "      <th>week_id</th>\n",
       "      <th>defensedvoa</th>\n",
       "      <th>dave_or_wtddvoa</th>\n",
       "      <th>season</th>\n",
       "      <th>offensedvoa</th>\n",
       "      <th>is_home</th>\n",
       "      <th>s_t_dvoa</th>\n",
       "      <th>label</th>\n",
       "    </tr>\n",
       "  </thead>\n",
       "  <tbody>\n",
       "  </tbody>\n",
       "</table>\n",
       "</div>"
      ],
      "text/plain": [
       "Empty DataFrame\n",
       "Columns: [game_id, team_id, week_id, defensedvoa, dave_or_wtddvoa, season, offensedvoa, is_home, s_t_dvoa, label]\n",
       "Index: []"
      ]
     },
     "execution_count": 14,
     "metadata": {},
     "output_type": "execute_result"
    }
   ],
   "source": [
    "training.limit(5).toPandas()\n",
    "scoring_only.limit(5).toPandas()"
   ]
  },
  {
   "cell_type": "markdown",
   "metadata": {},
   "source": [
    "#### Train K Folds and Score"
   ]
  },
  {
   "cell_type": "code",
   "execution_count": 15,
   "metadata": {
    "ExecuteTime": {
     "end_time": "2019-01-11T05:22:49.434961Z",
     "start_time": "2019-01-11T05:22:48.106473Z"
    },
    "run_control": {
     "marked": true
    }
   },
   "outputs": [],
   "source": [
    "import importlib\n",
    "\n",
    "model_obj_path = '.'.join(model.split('.')[:-1])\n",
    "model_name = model.split('.')[-1]\n",
    "model_package = importlib.import_module(model_obj_path)\n",
    "model_class = getattr(model_package, model_name)\n",
    "\n",
    "## as opposed to spark:\n",
    "train_in_memory = model.split('.')[0] in ['sklearn','xgboost']"
   ]
  },
  {
   "cell_type": "code",
   "execution_count": 16,
   "metadata": {
    "ExecuteTime": {
     "end_time": "2019-01-11T05:22:52.480570Z",
     "start_time": "2019-01-11T05:22:49.439340Z"
    }
   },
   "outputs": [
    {
     "name": "stderr",
     "output_type": "stream",
     "text": [
      "/Users/joshplotkin/anaconda2/lib/python2.7/site-packages/ipykernel_launcher.py:37: SettingWithCopyWarning: \n",
      "A value is trying to be set on a copy of a slice from a DataFrame.\n",
      "Try using .loc[row_indexer,col_indexer] = value instead\n",
      "\n",
      "See the caveats in the documentation: http://pandas.pydata.org/pandas-docs/stable/indexing.html#indexing-view-versus-copy\n"
     ]
    }
   ],
   "source": [
    "if train_in_memory is True:\n",
    "    training_df = training.toPandas().set_index(index)\n",
    "    scoring_only_df = scoring_only.toPandas().set_index(index)\n",
    "    \n",
    "    ## folds\n",
    "    training_scoring_sets  = {\n",
    "        f: {\n",
    "            'train': training_df[training_df['fold'] != f],\n",
    "            'score': training_df[training_df['fold'] == f]\n",
    "        }\n",
    "        for f in np.arange(nfolds)\n",
    "    }\n",
    "    ## full sets\n",
    "    training_scoring_sets['full'] = {\n",
    "        'train': training_df,\n",
    "        'score': scoring_only_df\n",
    "    }\n",
    "\n",
    "    cv_models = {\n",
    "        set_nbr: model_class(\n",
    "            **model_params\n",
    "        ).fit(\n",
    "            np.array(set_data['train'][features_list].values.tolist()),\n",
    "            set_data['train']['label'].ravel()\n",
    "        )\n",
    "        # for fold 0, 1, ... and full set\n",
    "        for set_nbr, set_data in training_scoring_sets.iteritems()\n",
    "        # skip training the full set if there's no scoring data\n",
    "        if set_data['score'].shape[0] > 0\n",
    "    }\n",
    "    \n",
    "    ## TODO: pickle.dump, line 246 of train2.png\n",
    "    for i, (set_nbr, mdl) in enumerate(cv_models.iteritems()):\n",
    "        curr_scoring = training_scoring_sets[set_nbr]['score']\n",
    "        curr_scoring['score'] = mdl.predict_proba(\n",
    "                curr_scoring[features_list].values.tolist()\n",
    "            )[:,1]\n",
    "        \n",
    "        if i == 0:\n",
    "            scores_df = curr_scoring\n",
    "        else:\n",
    "            scores_df = scores_df.append(curr_scoring)"
   ]
  },
  {
   "cell_type": "markdown",
   "metadata": {},
   "source": [
    "#### Evaluate"
   ]
  },
  {
   "cell_type": "code",
   "execution_count": 17,
   "metadata": {
    "ExecuteTime": {
     "end_time": "2019-01-11T05:23:02.007255Z",
     "start_time": "2019-01-11T05:22:52.486936Z"
    }
   },
   "outputs": [
    {
     "name": "stderr",
     "output_type": "stream",
     "text": [
      "/Users/joshplotkin/anaconda2/lib/python2.7/site-packages/ipykernel_launcher.py:5: SettingWithCopyWarning: \n",
      "A value is trying to be set on a copy of a slice from a DataFrame.\n",
      "Try using .loc[row_indexer,col_indexer] = value instead\n",
      "\n",
      "See the caveats in the documentation: http://pandas.pydata.org/pandas-docs/stable/indexing.html#indexing-view-versus-copy\n",
      "  \"\"\"\n",
      "/Users/joshplotkin/anaconda2/lib/python2.7/site-packages/ipykernel_launcher.py:6: SettingWithCopyWarning: \n",
      "A value is trying to be set on a copy of a slice from a DataFrame.\n",
      "Try using .loc[row_indexer,col_indexer] = value instead\n",
      "\n",
      "See the caveats in the documentation: http://pandas.pydata.org/pandas-docs/stable/indexing.html#indexing-view-versus-copy\n",
      "  \n"
     ]
    }
   ],
   "source": [
    "eval_df = scores_df[['score','label']]\n",
    "\n",
    "acc_curve = {}\n",
    "for i in np.arange(0,1.01,0.01):\n",
    "    eval_df['pred'] = (eval_df['score'] >= i).astype(int)\n",
    "    eval_df['correct'] = eval_df['pred'] == eval_df['label']\n",
    "    acc_curve[i] = eval_df['correct'].mean()"
   ]
  },
  {
   "cell_type": "code",
   "execution_count": 26,
   "metadata": {
    "ExecuteTime": {
     "end_time": "2019-01-11T05:28:58.780102Z",
     "start_time": "2019-01-11T05:28:58.488603Z"
    }
   },
   "outputs": [
    {
     "data": {
      "image/png": "[encoded data removed]",
      "text/plain": [
       "<Figure size 1152x768 with 1 Axes>"
      ]
     },
     "metadata": {
      "needs_background": "light"
     },
     "output_type": "display_data"
    }
   ],
   "source": [
    "acc_df = pd.DataFrame\\\n",
    "           .from_dict(acc_curve, orient='index')\\\n",
    "           .sort_index()\\\n",
    "           .rename(columns={0:'Accuracy'})\n",
    "acc_df.index.name = 'Model Score'\n",
    "\n",
    "peak = acc_df.loc[acc_df.idxmax()]\n",
    "peak_score = peak.index[0]\n",
    "peak_acc = peak.iloc[0,0]\n",
    "x0_50_acc = acc_df.loc[0.50, 'Accuracy']\n",
    "\n",
    "_ = acc_df.plot(\n",
    "    kind='line', title='Accuracy at Different Classifaction Thresholds'\n",
    ")\n",
    "_ = plt.axhline(\n",
    "    y=peak_acc, xmin=0, xmax=1, \n",
    "    label='Peak: Score {:.3f} | Accuracy {:.3f}'.format(peak_score, peak_acc),\n",
    "    linewidth=2, color=colors[2]\n",
    ")\n",
    "_ = plt.axhline(\n",
    "    y=acc_df.loc[0.50, 'Accuracy'], xmin=0, xmax=1, \n",
    "    label='Score 0.50 | Accuracy {:.3f}'.format(x0_50_acc),\n",
    "    linewidth=2, color=colors[3]\n",
    ")\n",
    "_ = plt.legend()\n",
    "_ = plt.ylabel('Accuracy')"
   ]
  },
  {
   "cell_type": "markdown",
   "metadata": {},
   "source": [
    "#### Plot Scores -- TODO turn this into a function and call using top *VARIABLES*"
   ]
  },
  {
   "cell_type": "code",
   "execution_count": 41,
   "metadata": {
    "ExecuteTime": {
     "end_time": "2019-01-11T05:33:52.473535Z",
     "start_time": "2019-01-11T05:33:50.374132Z"
    },
    "run_control": {
     "marked": true
    }
   },
   "outputs": [
    {
     "data": {
      "image/png": "[encoded data removed]",
      "text/plain": [
       "<Figure size 1152x768 with 1 Axes>"
      ]
     },
     "metadata": {
      "needs_background": "light"
     },
     "output_type": "display_data"
    }
   ],
   "source": [
    "## VARIABLES\n",
    "plot_bins = [100]\n",
    "label_map = {\n",
    "    '0': 'Lost',\n",
    "    '1': 'Won'\n",
    "}\n",
    "x_values = 'Percentile' # 'Score Bins' # \n",
    "##\n",
    "\n",
    "for nbins in plot_bins:  \n",
    "    ## bin\n",
    "    if x_values == 'Score Bins':\n",
    "        scores_df[x_values] = scores_df['score'].apply(\n",
    "            lambda x: int(np.round(x*nbins, 0))\n",
    "        )\n",
    "        scores_to_plot = spark.createDataFrame(scores_df[[x_values,'label']])\n",
    "    elif x_values == 'Percentile':\n",
    "        scores_pct = scores_df[['score','label']].sort_values(by='score')\n",
    "        scores_pct['rk'] = np.arange(0, scores_pct.shape[0], 1)\n",
    "        scores_pct['rk'] /= float(scores_pct.shape[0])\n",
    "        scores_pct[x_values] = scores_pct['rk'].apply(\n",
    "            lambda x: int(np.round(x*nbins, 0))\n",
    "        )\n",
    "        scores_to_plot = spark.createDataFrame(scores_pct[[x_values,'label']])\n",
    "\n",
    "    new_idx = np.arange(0, nbins+1, 1)\n",
    "\n",
    "    scores_to_plot = scores_to_plot.groupby(x_values)\\\n",
    "                                   .pivot('label')\\\n",
    "                                   .count()\\\n",
    "                                   .fillna(0)\\\n",
    "                                   .toPandas()\\\n",
    "                                   .rename(columns=label_map)\\\n",
    "                                   .set_index(x_values)\\\n",
    "                                   .reindex(new_idx)\\\n",
    "                                   .fillna(0)\\\n",
    "                                   .sort_index()\n",
    "\n",
    "    ax = plt.figure().add_subplot(111)\n",
    "    scores_colors = (colors[0], colors[3], colors[5], colors[7])\n",
    "    for i, c in enumerate(scores_to_plot.columns.tolist()[::-1]):\n",
    "        _ = scores_to_plot[c].plot(\n",
    "                kind='bar', rot=0, color=scores_colors[i], width=1,\n",
    "            alpha = 0.75 - 0.25*i,\n",
    "            )\n",
    "        if c == scores_to_plot.columns[0]:\n",
    "            _ = plt.title('Scores vs. Labels: {}'.format(x_values))\n",
    "            _ = plt.legend()\n",
    "            a, b = plt.xticks()\n",
    "            _ = plt.xticks(a[::5], b[::5])"
   ]
  },
  {
   "cell_type": "code",
   "execution_count": 49,
   "metadata": {
    "ExecuteTime": {
     "end_time": "2019-01-11T05:37:16.963988Z",
     "start_time": "2019-01-11T05:37:16.246716Z"
    }
   },
   "outputs": [
    {
     "data": {
      "image/png": "[encoded data removed]",
      "text/plain": [
       "<Figure size 1152x768 with 1 Axes>"
      ]
     },
     "metadata": {
      "needs_background": "light"
     },
     "output_type": "display_data"
    }
   ],
   "source": [
    "import statsmodels.api as sm\n",
    "\n",
    "ax = plt.figure().add_subplot(111)\n",
    "\n",
    "scores_to_plot['Win Rate'] = scores_to_plot['Won'].astype(float) \\\n",
    "                                / ( scores_to_plot['Won'] \n",
    "                                   + scores_to_plot['Lost'] )\n",
    "_ = scores_to_plot['Win Rate'].plot(\n",
    "    kind='bar', color=colors[2], rot=0, alpha = 0.75, ax=ax,\n",
    "    title='Win Rate By Score Percentile', label='Actual Win Rate'\n",
    ")\n",
    "\n",
    "## can't have space in field for statsmodels\n",
    "scores_trend = scores_to_plot\\\n",
    "                .reset_index(drop=False)\\\n",
    "                [['Percentile','Win Rate']]\\\n",
    "                .rename(columns={'Win Rate':'WR'})\n",
    "\n",
    "## OLS Trend\n",
    "model = sm.formula.ols(formula='WR ~ Percentile', data=scores_trend)\n",
    "res = model.fit()\n",
    "scores_trend = scores_trend.assign(Trend=res.fittedvalues)\n",
    "_ = scores_trend['Trend'].plot(kind='line', ax=ax, color=colors[1], label='OLS')\n",
    "\n",
    "## LOWESS Trend\n",
    "lowess = sm.nonparametric.lowess\n",
    "\n",
    "z = lowess(scores_trend['WR'], scores_trend['Percentile'])\n",
    "scores_trend = scores_trend.assign(Trend=z[:,1])\n",
    "_ = scores_trend['Trend'].plot(kind='line', ax=ax, color=colors[0], label='LOWESS Wide')\n",
    "\n",
    "w = lowess(scores_trend['WR'], scores_trend['Percentile'], frac=1./10)\n",
    "scores_trend = scores_trend.assign(Trend=w[:,1])\n",
    "_ = scores_trend['Trend'].plot(kind='line', ax=ax, color=colors[4], label='LOWESS Narrow')\n",
    "\n",
    "_ = plt.legend()\n",
    "\n",
    "a, b = plt.xticks()\n",
    "_ = plt.xticks(a[::5], b[::5])"
   ]
  },
  {
   "cell_type": "markdown",
   "metadata": {},
   "source": [
    "#### Feature importance"
   ]
  },
  {
   "cell_type": "markdown",
   "metadata": {},
   "source": [
    "#### Feature contribution"
   ]
  },
  {
   "cell_type": "markdown",
   "metadata": {},
   "source": [
    "#### Evaluation, e.g. super contest style"
   ]
  },
  {
   "cell_type": "markdown",
   "metadata": {},
   "source": [
    "## Simple Over/Under Model"
   ]
  },
  {
   "cell_type": "code",
   "execution_count": null,
   "metadata": {
    "ExecuteTime": {
     "end_time": "2019-01-11T05:23:02.285060Z",
     "start_time": "2019-01-11T05:22:19.890Z"
    }
   },
   "outputs": [],
   "source": [
    "spark.table('over_under_labels').limit(5).toPandas()"
   ]
  }
 ],
 "metadata": {
  "kernelspec": {
   "display_name": "Python 2",
   "language": "python",
   "name": "python2"
  },
  "language_info": {
   "codemirror_mode": {
    "name": "ipython",
    "version": 2
   },
   "file_extension": ".py",
   "mimetype": "text/x-python",
   "name": "python",
   "nbconvert_exporter": "python",
   "pygments_lexer": "ipython2",
   "version": "2.7.15"
  },
  "toc": {
   "base_numbering": 1,
   "nav_menu": {},
   "number_sections": true,
   "sideBar": true,
   "skip_h1_title": false,
   "title_cell": "Table of Contents",
   "title_sidebar": "Contents",
   "toc_cell": false,
   "toc_position": {
    "height": "calc(100% - 180px)",
    "left": "10px",
    "top": "150px",
    "width": "305.455px"
   },
   "toc_section_display": true,
   "toc_window_display": false
  }
 },
 "nbformat": 4,
 "nbformat_minor": 2
}
