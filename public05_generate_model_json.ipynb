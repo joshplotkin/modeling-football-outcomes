{
 "cells": [
  {
   "cell_type": "code",
   "execution_count": 6,
   "metadata": {
    "ExecuteTime": {
     "end_time": "2019-01-13T07:03:20.591038Z",
     "start_time": "2019-01-13T07:02:13.062391Z"
    }
   },
   "outputs": [],
   "source": [
    "# !source ~/.bashrc && \\\n",
    "#     unset PYSPARK_PYTHON && \\\n",
    "#     unset PYSPARK_DRIVER_PYTHON && \\\n",
    "#     unset PYSPARK_DRIVER_PYTHON_OPTS && \\\n",
    "#     cd /Users/joshplotkin/Dropbox/data_science/modeling-football-outcomes/ && \\\n",
    "#     src/model_pipeline.sh 0112_test"
   ]
  },
  {
   "cell_type": "markdown",
   "metadata": {},
   "source": [
    "## Boilerplate"
   ]
  },
  {
   "cell_type": "code",
   "execution_count": 1,
   "metadata": {
    "ExecuteTime": {
     "end_time": "2019-01-14T05:29:42.711822Z",
     "start_time": "2019-01-14T05:29:29.075847Z"
    }
   },
   "outputs": [
    {
     "data": {
      "text/html": [
       "<style>.container {width:90% !important;}</style>"
      ],
      "text/plain": [
       "<IPython.core.display.HTML object>"
      ]
     },
     "metadata": {},
     "output_type": "display_data"
    }
   ],
   "source": [
    "%run initialize.ipynb\n",
    "\n",
    "import cPickle as pickle\n",
    "import json\n",
    "\n",
    "from pyspark.sql import Window"
   ]
  },
  {
   "cell_type": "code",
   "execution_count": 4,
   "metadata": {
    "ExecuteTime": {
     "end_time": "2019-01-14T05:30:12.651916Z",
     "start_time": "2019-01-14T05:30:12.550654Z"
    }
   },
   "outputs": [
    {
     "data": {
      "image/png": "[encoded data removed]",
      "text/plain": [
       "<Figure size 768x96 with 1 Axes>"
      ]
     },
     "metadata": {},
     "output_type": "display_data"
    }
   ],
   "source": [
    "## custom rcParams settings for matplotlib\n",
    "import sys\n",
    "sys.path.append('../modeling-football-outcomes/config')\n",
    "import mpl_style\n",
    "colors = rcParams['axes.prop_cycle'].by_key()['color']"
   ]
  },
  {
   "cell_type": "markdown",
   "metadata": {},
   "source": [
    "## Global Functions"
   ]
  },
  {
   "cell_type": "markdown",
   "metadata": {},
   "source": [
    "## Manual initialize\n",
    "* make a directory\n",
    "* put model.json and plots.json in their\n",
    "* TODO: gen model config"
   ]
  },
  {
   "cell_type": "code",
   "execution_count": 9,
   "metadata": {
    "ExecuteTime": {
     "end_time": "2019-01-13T03:55:23.627500Z",
     "start_time": "2019-01-13T03:55:23.622288Z"
    }
   },
   "outputs": [],
   "source": [
    "!mkdir ../modeling-football-outcomes/models/0114_test_ou/"
   ]
  },
  {
   "cell_type": "code",
   "execution_count": 17,
   "metadata": {
    "ExecuteTime": {
     "end_time": "2019-01-14T05:11:29.597538Z",
     "start_time": "2019-01-14T05:11:29.560446Z"
    }
   },
   "outputs": [],
   "source": [
    "model_dict = {\n",
    "    'model_id': '0111_ou_initial',\n",
    "    'features_tbl': 'features.0111_ou_test',\n",
    "    'labels_tbl': 'labels.0111_ou_test',\n",
    "    'features_list': ['season','week_id', 'sbr_ou'],\n",
    "    'label_col': 'is_sbr_ou_over',\n",
    "    'pos_labels': [1],\n",
    "    'neg_labels': [-1],\n",
    "    'index': ['game_id'],\n",
    "    'kfolds': 5,\n",
    "    'kfold_seed': 99,\n",
    "    'dataset_seed': 9,\n",
    "    'strata_cols': [],\n",
    "    'global_dataset_proportions': {\n",
    "        'holdout': 0.5,\n",
    "        'throw_away': 0,\n",
    "        'in_training': 0.5,\n",
    "        'scoring_only': 0\n",
    "    },\n",
    "    'dimensional_dataset_proportions': {},\n",
    "    'model': 'xgboost.XGBClassifier',\n",
    "    'model_params': {\n",
    "        'booster':'gbtree',\n",
    "        'gamma': 0,\n",
    "        'learning_rate': 0.1,\n",
    "        'max_depth': 3,\n",
    "        'max_features': 'auto',\n",
    "        'n_estimators': 200,\n",
    "        'n_jobs': 1,\n",
    "        'nthread': None,\n",
    "        'objective': 'binary:logistic',\n",
    "        'random_state': 9,\n",
    "        'silent': True,\n",
    "        'subsample': 0.9\n",
    "    }    \n",
    "}"
   ]
  },
  {
   "cell_type": "code",
   "execution_count": 18,
   "metadata": {
    "ExecuteTime": {
     "end_time": "2019-01-14T05:11:29.935287Z",
     "start_time": "2019-01-14T05:11:29.928839Z"
    }
   },
   "outputs": [],
   "source": [
    "with open('../modeling-football-outcomes/models/0114_test_ou/model.json','w') as w:\n",
    "    json.dump(model_dict, w, indent=4)"
   ]
  },
  {
   "cell_type": "code",
   "execution_count": 24,
   "metadata": {
    "ExecuteTime": {
     "end_time": "2019-01-13T06:25:55.451369Z",
     "start_time": "2019-01-13T06:25:55.446167Z"
    }
   },
   "outputs": [],
   "source": [
    "with open('../modeling-football-outcomes/models/0112_test/plots.json','w') as w:\n",
    "    json.dump(plots_dict, w, indent=4)"
   ]
  },
  {
   "cell_type": "markdown",
   "metadata": {},
   "source": [
    "### Start execution"
   ]
  }
 ],
 "metadata": {
  "kernelspec": {
   "display_name": "Python 2",
   "language": "python",
   "name": "python2"
  },
  "language_info": {
   "codemirror_mode": {
    "name": "ipython",
    "version": 2
   },
   "file_extension": ".py",
   "mimetype": "text/x-python",
   "name": "python",
   "nbconvert_exporter": "python",
   "pygments_lexer": "ipython2",
   "version": "2.7.15"
  },
  "toc": {
   "base_numbering": 1,
   "nav_menu": {},
   "number_sections": true,
   "sideBar": true,
   "skip_h1_title": false,
   "title_cell": "Table of Contents",
   "title_sidebar": "Contents",
   "toc_cell": false,
   "toc_position": {},
   "toc_section_display": true,
   "toc_window_display": true
  }
 },
 "nbformat": 4,
 "nbformat_minor": 2
}
