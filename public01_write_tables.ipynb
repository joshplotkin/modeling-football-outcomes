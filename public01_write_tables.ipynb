{
 "cells": [
  {
   "cell_type": "markdown",
   "metadata": {},
   "source": [
    "## Boilerplate"
   ]
  },
  {
   "cell_type": "code",
   "execution_count": 1,
   "metadata": {
    "ExecuteTime": {
     "end_time": "2019-01-20T23:19:54.031281Z",
     "start_time": "2019-01-20T23:19:47.385109Z"
    }
   },
   "outputs": [
    {
     "data": {
      "text/html": [
       "<style>.container {width:90% !important;}</style>"
      ],
      "text/plain": [
       "<IPython.core.display.HTML object>"
      ]
     },
     "metadata": {},
     "output_type": "display_data"
    }
   ],
   "source": [
    "%run initialize.ipynb"
   ]
  },
  {
   "cell_type": "code",
   "execution_count": 2,
   "metadata": {
    "ExecuteTime": {
     "end_time": "2019-01-20T23:19:54.227320Z",
     "start_time": "2019-01-20T23:19:54.036320Z"
    }
   },
   "outputs": [
    {
     "data": {
      "image/png": "[encoded data removed]",
      "text/plain": [
       "<Figure size 768x96 with 1 Axes>"
      ]
     },
     "metadata": {},
     "output_type": "display_data"
    }
   ],
   "source": [
    "## custom rcParams settings for matplotlib\n",
    "import sys\n",
    "sys.path.append('../modeling-football-outcomes/config')\n",
    "import mpl_style\n",
    "colors = rcParams['axes.prop_cycle'].by_key()['color']"
   ]
  },
  {
   "cell_type": "markdown",
   "metadata": {},
   "source": [
    "## Global Functions"
   ]
  },
  {
   "cell_type": "code",
   "execution_count": 3,
   "metadata": {
    "ExecuteTime": {
     "end_time": "2019-01-20T23:19:54.240310Z",
     "start_time": "2019-01-20T23:19:54.231190Z"
    }
   },
   "outputs": [],
   "source": [
    "def cast_dtypes(df):\n",
    "    '''spark and numpy types don't play\n",
    "    well together. cast as native python \n",
    "    types'''\n",
    "    np_to_python_dtypes = {\n",
    "        'int64': int,\n",
    "        'float64': float,\n",
    "        'object': str,\n",
    "        'datetime64[ns]': str\n",
    "    }\n",
    "\n",
    "    for field, np_dtype in df.dtypes.to_dict().iteritems():\n",
    "        df[field] = df[field].astype(np_to_python_dtypes[str(np_dtype)])\n",
    "        \n",
    "    return df"
   ]
  },
  {
   "cell_type": "markdown",
   "metadata": {},
   "source": [
    "## Create __lines__ and __games__ DFs: load data and remove 2018 until it's complete"
   ]
  },
  {
   "cell_type": "code",
   "execution_count": 4,
   "metadata": {
    "ExecuteTime": {
     "end_time": "2019-01-20T23:19:54.321269Z",
     "start_time": "2019-01-20T23:19:54.245650Z"
    }
   },
   "outputs": [],
   "source": [
    "lines_df = pd.read_csv('all_lines.csv', index_col='Unnamed: 0')\n",
    "games_df = pd.read_csv('game_metadata.csv')"
   ]
  },
  {
   "cell_type": "code",
   "execution_count": 5,
   "metadata": {
    "ExecuteTime": {
     "end_time": "2019-01-20T23:19:54.345831Z",
     "start_time": "2019-01-20T23:19:54.326272Z"
    }
   },
   "outputs": [],
   "source": [
    "lines_df = lines_df.rename(columns={'Season':'season'})\n",
    "lines_df = lines_df[lines_df['season'] != 2018]\n",
    "games_df = games_df[games_df['team0_link'].apply(lambda x: x.split('/')[-1].split('.')[0]) != '2018']"
   ]
  },
  {
   "cell_type": "code",
   "execution_count": 6,
   "metadata": {
    "ExecuteTime": {
     "end_time": "2019-01-20T23:19:54.366376Z",
     "start_time": "2019-01-20T23:19:54.351269Z"
    }
   },
   "outputs": [
    {
     "data": {
      "text/plain": [
       "2007    267\n",
       "2008    267\n",
       "2009    267\n",
       "2010    267\n",
       "2011    267\n",
       "2012    267\n",
       "2013    267\n",
       "2014    267\n",
       "2015    267\n",
       "2016    267\n",
       "2017    267\n",
       "Name: season, dtype: int64"
      ]
     },
     "execution_count": 6,
     "metadata": {},
     "output_type": "execute_result"
    }
   ],
   "source": [
    "lines_df['season'].value_counts().sort_index()"
   ]
  },
  {
   "cell_type": "code",
   "execution_count": 7,
   "metadata": {
    "ExecuteTime": {
     "end_time": "2019-01-20T23:19:54.391861Z",
     "start_time": "2019-01-20T23:19:54.372541Z"
    }
   },
   "outputs": [
    {
     "data": {
      "text/plain": [
       "2007    267\n",
       "2008    267\n",
       "2009    267\n",
       "2010    267\n",
       "2011    267\n",
       "2012    267\n",
       "2013    267\n",
       "2014    267\n",
       "2015    267\n",
       "2016    267\n",
       "2017    267\n",
       "Name: team0_link, dtype: int64"
      ]
     },
     "execution_count": 7,
     "metadata": {},
     "output_type": "execute_result"
    }
   ],
   "source": [
    "games_df['team0_link'].apply(lambda x: x.split('/')[-1].split('.')[0]).value_counts().sort_index()"
   ]
  },
  {
   "cell_type": "code",
   "execution_count": 8,
   "metadata": {
    "ExecuteTime": {
     "end_time": "2019-01-20T23:19:54.410439Z",
     "start_time": "2019-01-20T23:19:54.397519Z"
    }
   },
   "outputs": [
    {
     "data": {
      "text/plain": [
       "(2937, 26)"
      ]
     },
     "execution_count": 8,
     "metadata": {},
     "output_type": "execute_result"
    },
    {
     "data": {
      "text/plain": [
       "(2937, 23)"
      ]
     },
     "execution_count": 8,
     "metadata": {},
     "output_type": "execute_result"
    }
   ],
   "source": [
    "lines_df.shape\n",
    "games_df.shape"
   ]
  },
  {
   "cell_type": "markdown",
   "metadata": {},
   "source": [
    "## Standardize Fields/Values Across Data Sources"
   ]
  },
  {
   "cell_type": "markdown",
   "metadata": {},
   "source": [
    "### Error in raw data (__lines__ DF)\n",
    "* 3 games have home/visiting teams switched (note: these are 3 Superbowls so the home/away don't match the official home and visiting teams. the home/visiting team is always \"team0\" in football-ref. there is an assertion confirms this below).\n",
    "  * https://www.pro-football-reference.com/boxscores/201602070den.htm\n",
    "  * https://www.pro-football-reference.com/boxscores/201502010sea.htm\n",
    "  * https://www.pro-football-reference.com/boxscores/201302030sfo.htm"
   ]
  },
  {
   "cell_type": "code",
   "execution_count": 9,
   "metadata": {
    "ExecuteTime": {
     "end_time": "2019-01-20T23:19:54.423708Z",
     "start_time": "2019-01-20T23:19:54.415709Z"
    },
    "scrolled": true
   },
   "outputs": [],
   "source": [
    "switches = lines_df[lines_df['Date'].apply(lambda x: x in ['2016-02-07','2015-02-01','2013-02-03'])]"
   ]
  },
  {
   "cell_type": "code",
   "execution_count": 10,
   "metadata": {
    "ExecuteTime": {
     "end_time": "2019-01-20T23:19:54.839813Z",
     "start_time": "2019-01-20T23:19:54.429252Z"
    },
    "scrolled": true
   },
   "outputs": [
    {
     "name": "stderr",
     "output_type": "stream",
     "text": [
      "/Users/joshplotkin/anaconda2/lib/python2.7/site-packages/pandas/core/indexing.py:543: SettingWithCopyWarning: \n",
      "A value is trying to be set on a copy of a slice from a DataFrame.\n",
      "Try using .loc[row_indexer,col_indexer] = value instead\n",
      "\n",
      "See the caveats in the documentation: http://pandas.pydata.org/pandas-docs/stable/indexing.html#indexing-view-versus-copy\n",
      "  self.obj[item] = s\n",
      "/Users/joshplotkin/anaconda2/lib/python2.7/site-packages/pandas/core/frame.py:3781: SettingWithCopyWarning: \n",
      "A value is trying to be set on a copy of a slice from a DataFrame\n",
      "\n",
      "See the caveats in the documentation: http://pandas.pydata.org/pandas-docs/stable/indexing.html#indexing-view-versus-copy\n",
      "  return super(DataFrame, self).rename(**kwargs)\n"
     ]
    }
   ],
   "source": [
    "col_val_switch = ['ML_Fav','Open_Fav','Close_Fav','2H_Fav']\n",
    "\n",
    "for c in col_val_switch:\n",
    "    switches.loc[:, c] = switches.loc[:, c].apply(lambda x: {'V':'H', 'H':'V', 'pickem': 'pickem'}[x])\n",
    "\n",
    "## H --> X\n",
    "## V --> H\n",
    "## X --> V\n",
    "h_to_x = dict([(c, c.replace('H_','X_')) for c in switches.columns if c.startswith('H_')])\n",
    "switches.rename(\n",
    "    columns=h_to_x, inplace=True\n",
    ")\n",
    "v_to_h = dict([(c, c.replace('V_','H_')) for c in switches.columns if c.startswith('V_')])\n",
    "switches.rename(\n",
    "    columns=v_to_h, inplace=True\n",
    ")\n",
    "x_to_v = dict([(c, c.replace('X_','V_')) for c in switches.columns if c.startswith('X_')])\n",
    "switches.rename(\n",
    "    columns=x_to_v, inplace=True\n",
    ")"
   ]
  },
  {
   "cell_type": "code",
   "execution_count": 11,
   "metadata": {
    "ExecuteTime": {
     "end_time": "2019-01-20T23:19:54.863697Z",
     "start_time": "2019-01-20T23:19:54.845529Z"
    }
   },
   "outputs": [
    {
     "name": "stderr",
     "output_type": "stream",
     "text": [
      "/Users/joshplotkin/anaconda2/lib/python2.7/site-packages/pandas/core/frame.py:6211: FutureWarning: Sorting because non-concatenation axis is not aligned. A future version\n",
      "of pandas will change to not sort by default.\n",
      "\n",
      "To accept the future behavior, pass 'sort=False'.\n",
      "\n",
      "To retain the current behavior and silence the warning, pass 'sort=True'.\n",
      "\n",
      "  sort=sort)\n"
     ]
    }
   ],
   "source": [
    "idx = switches.index\n",
    "lines_df = lines_df.drop(idx)\n",
    "lines_df = lines_df.append(switches)"
   ]
  },
  {
   "cell_type": "code",
   "execution_count": 12,
   "metadata": {
    "ExecuteTime": {
     "end_time": "2019-01-20T23:19:54.906956Z",
     "start_time": "2019-01-20T23:19:54.870246Z"
    }
   },
   "outputs": [
    {
     "data": {
      "text/html": [
       "<div>\n",
       "<style scoped>\n",
       "    .dataframe tbody tr th:only-of-type {\n",
       "        vertical-align: middle;\n",
       "    }\n",
       "\n",
       "    .dataframe tbody tr th {\n",
       "        vertical-align: top;\n",
       "    }\n",
       "\n",
       "    .dataframe thead th {\n",
       "        text-align: right;\n",
       "    }\n",
       "</style>\n",
       "<table border=\"1\" class=\"dataframe\">\n",
       "  <thead>\n",
       "    <tr style=\"text-align: right;\">\n",
       "      <th></th>\n",
       "      <th>1023</th>\n",
       "      <th>1290</th>\n",
       "      <th>1824</th>\n",
       "    </tr>\n",
       "  </thead>\n",
       "  <tbody>\n",
       "    <tr>\n",
       "      <th>2H_Fav</th>\n",
       "      <td>H</td>\n",
       "      <td>H</td>\n",
       "      <td>V</td>\n",
       "    </tr>\n",
       "    <tr>\n",
       "      <th>2H_OU</th>\n",
       "      <td>22.5</td>\n",
       "      <td>pk</td>\n",
       "      <td>24.5</td>\n",
       "    </tr>\n",
       "    <tr>\n",
       "      <th>2H_Spread</th>\n",
       "      <td>4.5</td>\n",
       "      <td>24.5</td>\n",
       "      <td>7</td>\n",
       "    </tr>\n",
       "    <tr>\n",
       "      <th>Close_Fav</th>\n",
       "      <td>H</td>\n",
       "      <td>V</td>\n",
       "      <td>V</td>\n",
       "    </tr>\n",
       "    <tr>\n",
       "      <th>Close_OU</th>\n",
       "      <td>43.5</td>\n",
       "      <td>47.5</td>\n",
       "      <td>48</td>\n",
       "    </tr>\n",
       "    <tr>\n",
       "      <th>Close_Spread</th>\n",
       "      <td>5</td>\n",
       "      <td>0</td>\n",
       "      <td>4.5</td>\n",
       "    </tr>\n",
       "    <tr>\n",
       "      <th>Date</th>\n",
       "      <td>2016-02-07</td>\n",
       "      <td>2015-02-01</td>\n",
       "      <td>2013-02-03</td>\n",
       "    </tr>\n",
       "    <tr>\n",
       "      <th>H_Final</th>\n",
       "      <td>10</td>\n",
       "      <td>28</td>\n",
       "      <td>34</td>\n",
       "    </tr>\n",
       "    <tr>\n",
       "      <th>H_ML</th>\n",
       "      <td>-210</td>\n",
       "      <td>-110</td>\n",
       "      <td>170</td>\n",
       "    </tr>\n",
       "    <tr>\n",
       "      <th>H_Q1</th>\n",
       "      <td>0</td>\n",
       "      <td>0</td>\n",
       "      <td>7</td>\n",
       "    </tr>\n",
       "    <tr>\n",
       "      <th>H_Q2</th>\n",
       "      <td>7</td>\n",
       "      <td>14</td>\n",
       "      <td>14</td>\n",
       "    </tr>\n",
       "    <tr>\n",
       "      <th>H_Q3</th>\n",
       "      <td>0</td>\n",
       "      <td>0</td>\n",
       "      <td>7</td>\n",
       "    </tr>\n",
       "    <tr>\n",
       "      <th>H_Q4</th>\n",
       "      <td>3</td>\n",
       "      <td>14</td>\n",
       "      <td>6</td>\n",
       "    </tr>\n",
       "    <tr>\n",
       "      <th>H_Team</th>\n",
       "      <td>Carolina</td>\n",
       "      <td>NewEngland</td>\n",
       "      <td>Baltimore</td>\n",
       "    </tr>\n",
       "    <tr>\n",
       "      <th>ML_Fav</th>\n",
       "      <td>H</td>\n",
       "      <td>pickem</td>\n",
       "      <td>V</td>\n",
       "    </tr>\n",
       "    <tr>\n",
       "      <th>Open_Fav</th>\n",
       "      <td>H</td>\n",
       "      <td>V</td>\n",
       "      <td>V</td>\n",
       "    </tr>\n",
       "    <tr>\n",
       "      <th>Open_OU</th>\n",
       "      <td>45</td>\n",
       "      <td>49</td>\n",
       "      <td>47.5</td>\n",
       "    </tr>\n",
       "    <tr>\n",
       "      <th>Open_Spread</th>\n",
       "      <td>4</td>\n",
       "      <td>3</td>\n",
       "      <td>3.5</td>\n",
       "    </tr>\n",
       "    <tr>\n",
       "      <th>V_Final</th>\n",
       "      <td>24</td>\n",
       "      <td>24</td>\n",
       "      <td>31</td>\n",
       "    </tr>\n",
       "    <tr>\n",
       "      <th>V_ML</th>\n",
       "      <td>180</td>\n",
       "      <td>-110</td>\n",
       "      <td>-200</td>\n",
       "    </tr>\n",
       "    <tr>\n",
       "      <th>V_Q1</th>\n",
       "      <td>10</td>\n",
       "      <td>0</td>\n",
       "      <td>3</td>\n",
       "    </tr>\n",
       "    <tr>\n",
       "      <th>V_Q2</th>\n",
       "      <td>3</td>\n",
       "      <td>14</td>\n",
       "      <td>3</td>\n",
       "    </tr>\n",
       "    <tr>\n",
       "      <th>V_Q3</th>\n",
       "      <td>3</td>\n",
       "      <td>10</td>\n",
       "      <td>17</td>\n",
       "    </tr>\n",
       "    <tr>\n",
       "      <th>V_Q4</th>\n",
       "      <td>8</td>\n",
       "      <td>0</td>\n",
       "      <td>8</td>\n",
       "    </tr>\n",
       "    <tr>\n",
       "      <th>V_Team</th>\n",
       "      <td>Denver</td>\n",
       "      <td>Seattle</td>\n",
       "      <td>SanFrancisco</td>\n",
       "    </tr>\n",
       "    <tr>\n",
       "      <th>season</th>\n",
       "      <td>2015</td>\n",
       "      <td>2014</td>\n",
       "      <td>2012</td>\n",
       "    </tr>\n",
       "  </tbody>\n",
       "</table>\n",
       "</div>"
      ],
      "text/plain": [
       "                    1023        1290          1824\n",
       "2H_Fav                 H           H             V\n",
       "2H_OU               22.5          pk          24.5\n",
       "2H_Spread            4.5        24.5             7\n",
       "Close_Fav              H           V             V\n",
       "Close_OU            43.5        47.5            48\n",
       "Close_Spread           5           0           4.5\n",
       "Date          2016-02-07  2015-02-01    2013-02-03\n",
       "H_Final               10          28            34\n",
       "H_ML                -210        -110           170\n",
       "H_Q1                   0           0             7\n",
       "H_Q2                   7          14            14\n",
       "H_Q3                   0           0             7\n",
       "H_Q4                   3          14             6\n",
       "H_Team          Carolina  NewEngland     Baltimore\n",
       "ML_Fav                 H      pickem             V\n",
       "Open_Fav               H           V             V\n",
       "Open_OU               45          49          47.5\n",
       "Open_Spread            4           3           3.5\n",
       "V_Final               24          24            31\n",
       "V_ML                 180        -110          -200\n",
       "V_Q1                  10           0             3\n",
       "V_Q2                   3          14             3\n",
       "V_Q3                   3          10            17\n",
       "V_Q4                   8           0             8\n",
       "V_Team            Denver     Seattle  SanFrancisco\n",
       "season              2015        2014          2012"
      ]
     },
     "execution_count": 12,
     "metadata": {},
     "output_type": "execute_result"
    }
   ],
   "source": [
    "## Carolina, New England, and Baltimore should be home teams\n",
    "lines_df[lines_df['Date'].apply(lambda x: x in ['2016-02-07','2015-02-01','2013-02-03'])].T"
   ]
  },
  {
   "cell_type": "markdown",
   "metadata": {},
   "source": [
    "### Dates (__lines__ and __games__ DFs)"
   ]
  },
  {
   "cell_type": "code",
   "execution_count": 13,
   "metadata": {
    "ExecuteTime": {
     "end_time": "2019-01-20T23:19:57.366129Z",
     "start_time": "2019-01-20T23:19:54.912297Z"
    }
   },
   "outputs": [],
   "source": [
    "lines_df['Date'] = lines_df['Date'].apply(pd.to_datetime)\n",
    "\n",
    "games_df['day_of_week'] = games_df['date'].apply(pd.to_datetime).dt.dayofweek\n",
    "games_df['date'] = games_df['date'].apply(pd.to_datetime)"
   ]
  },
  {
   "cell_type": "markdown",
   "metadata": {},
   "source": [
    "### Team names (__lines__)"
   ]
  },
  {
   "cell_type": "code",
   "execution_count": 14,
   "metadata": {
    "ExecuteTime": {
     "end_time": "2019-01-20T23:19:57.393834Z",
     "start_time": "2019-01-20T23:19:57.372190Z"
    }
   },
   "outputs": [
    {
     "name": "stdout",
     "output_type": "stream",
     "text": [
      "Dallas --> Cowboys\n",
      "NewYork --> Giants\n",
      "NYGiants --> Giants\n",
      "Minnesota --> Vikings\n",
      "Denver --> Broncos\n",
      "NewEngland --> Patriots\n"
     ]
    }
   ],
   "source": [
    "team_map = json.load(open('team_map_for_lines.json','r'))\n",
    "for i, (k,v) in enumerate(team_map.iteritems()):\n",
    "    print '{} --> {}'.format(k, v)\n",
    "    if i == 5:\n",
    "        break\n",
    "        \n",
    "for field in ['V_Team','H_Team']:\n",
    "    lines_df[field] = lines_df[field].map(team_map)"
   ]
  },
  {
   "cell_type": "markdown",
   "metadata": {},
   "source": [
    "### Create __games_lines__: prepare and then join __games__ and __lines__\n",
    "* key is (date, team first alphabetically)"
   ]
  },
  {
   "cell_type": "code",
   "execution_count": 15,
   "metadata": {
    "ExecuteTime": {
     "end_time": "2019-01-20T23:19:57.480639Z",
     "start_time": "2019-01-20T23:19:57.399898Z"
    },
    "scrolled": true
   },
   "outputs": [],
   "source": [
    "## cast dtypes to Spark compatible using global function cast_dtypes\n",
    "games_df = cast_dtypes(games_df)\n",
    "lines_df = cast_dtypes(lines_df)"
   ]
  },
  {
   "cell_type": "code",
   "execution_count": 16,
   "metadata": {
    "ExecuteTime": {
     "end_time": "2019-01-20T23:19:57.715672Z",
     "start_time": "2019-01-20T23:19:57.486124Z"
    },
    "scrolled": true
   },
   "outputs": [],
   "source": [
    "def gen_game_key(x):\n",
    "    '''generates a key for each game:\n",
    "    (first alphabetical team name, date)'''\n",
    "    team_a, team_b, dt = x\n",
    "    return (sorted([team_a, team_b])[0], dt)\n",
    "\n",
    "games_key_fields = ['team0_name','team1_name','date']\n",
    "lines_key_fields = ['H_Team','V_Team', 'Date']\n",
    "\n",
    "games_df['key'] = games_df[games_key_fields].apply(gen_game_key, axis=1)\n",
    "lines_df['key'] = lines_df[lines_key_fields].apply(gen_game_key, axis=1)"
   ]
  },
  {
   "cell_type": "markdown",
   "metadata": {},
   "source": [
    "Note: week 16 2018 lines not yet available"
   ]
  },
  {
   "cell_type": "code",
   "execution_count": 17,
   "metadata": {
    "ExecuteTime": {
     "end_time": "2019-01-20T23:19:57.743332Z",
     "start_time": "2019-01-20T23:19:57.721141Z"
    }
   },
   "outputs": [
    {
     "data": {
      "text/plain": [
       "0"
      ]
     },
     "execution_count": 17,
     "metadata": {},
     "output_type": "execute_result"
    },
    {
     "data": {
      "text/plain": [
       "set()"
      ]
     },
     "execution_count": 17,
     "metadata": {},
     "output_type": "execute_result"
    }
   ],
   "source": [
    "a = set(games_df['key'].apply(lambda x: '_'.join(x)).values.tolist())\n",
    "b = set(lines_df['key'].apply(lambda x: '_'.join(x)).values.tolist())\n",
    "\n",
    "len(a - b)\n",
    "a - b"
   ]
  },
  {
   "cell_type": "code",
   "execution_count": 18,
   "metadata": {
    "ExecuteTime": {
     "end_time": "2019-01-20T23:19:57.763046Z",
     "start_time": "2019-01-20T23:19:57.748426Z"
    }
   },
   "outputs": [
    {
     "data": {
      "text/plain": [
       "0"
      ]
     },
     "execution_count": 18,
     "metadata": {},
     "output_type": "execute_result"
    },
    {
     "data": {
      "text/plain": [
       "set()"
      ]
     },
     "execution_count": 18,
     "metadata": {},
     "output_type": "execute_result"
    }
   ],
   "source": [
    "len(b-a)\n",
    "b-a"
   ]
  },
  {
   "cell_type": "code",
   "execution_count": 19,
   "metadata": {
    "ExecuteTime": {
     "end_time": "2019-01-20T23:19:57.805649Z",
     "start_time": "2019-01-20T23:19:57.768336Z"
    }
   },
   "outputs": [
    {
     "data": {
      "text/plain": [
       "(2937, 2937, 2937)"
      ]
     },
     "execution_count": 19,
     "metadata": {},
     "output_type": "execute_result"
    }
   ],
   "source": [
    "games_lines_df = games_df.merge(\n",
    "        lines_df, left_on='key', right_on='key'\n",
    "    ).drop(\n",
    "        lines_key_fields + ['key'], axis=1\n",
    "    )\n",
    "\n",
    "## ensure there are no join misses\n",
    "lines_df.shape[0], games_df.shape[0], games_lines_df.shape[0]\n",
    "assert lines_df.shape[0] == games_df.shape[0]\n",
    "assert games_lines_df.shape[0] == games_df.shape[0]"
   ]
  },
  {
   "cell_type": "markdown",
   "metadata": {},
   "source": [
    "## Create __game_info__: load PFR game_info files\n",
    "* contains metadata like turf and weather"
   ]
  },
  {
   "cell_type": "code",
   "execution_count": 20,
   "metadata": {
    "ExecuteTime": {
     "end_time": "2019-01-20T23:20:16.224288Z",
     "start_time": "2019-01-20T23:19:57.810669Z"
    }
   },
   "outputs": [],
   "source": [
    "## get the path for each game_info csv\n",
    "game_info_csvs = map(\n",
    "    lambda x: 'game_info/{}'.format(x), \n",
    "    os.listdir('game_info')\n",
    ")\n",
    "## read each game_info csv into pandas\n",
    "game_info_dfs = map(\n",
    "    lambda x: pd.read_csv(x, index_col='Unnamed: 0'), \n",
    "    game_info_csvs\n",
    ")\n",
    "## union all the DFs\n",
    "game_info_df = reduce(\n",
    "    lambda x,y: x.append(y).reset_index(drop=True), \n",
    "    game_info_dfs\n",
    ")"
   ]
  },
  {
   "cell_type": "code",
   "execution_count": 21,
   "metadata": {
    "ExecuteTime": {
     "end_time": "2019-01-20T23:20:16.318133Z",
     "start_time": "2019-01-20T23:20:16.230461Z"
    }
   },
   "outputs": [],
   "source": [
    "for c in game_info_df.columns:\n",
    "    game_info_df[c] = game_info_df[c].str.strip()"
   ]
  },
  {
   "cell_type": "code",
   "execution_count": 22,
   "metadata": {
    "ExecuteTime": {
     "end_time": "2019-01-20T23:20:16.359675Z",
     "start_time": "2019-01-20T23:20:16.328270Z"
    }
   },
   "outputs": [
    {
     "data": {
      "text/html": [
       "<div>\n",
       "<style scoped>\n",
       "    .dataframe tbody tr th:only-of-type {\n",
       "        vertical-align: middle;\n",
       "    }\n",
       "\n",
       "    .dataframe tbody tr th {\n",
       "        vertical-align: top;\n",
       "    }\n",
       "\n",
       "    .dataframe thead th {\n",
       "        text-align: right;\n",
       "    }\n",
       "</style>\n",
       "<table border=\"1\" class=\"dataframe\">\n",
       "  <thead>\n",
       "    <tr style=\"text-align: right;\">\n",
       "      <th></th>\n",
       "      <th>game_id</th>\n",
       "      <th>info</th>\n",
       "      <th>stat</th>\n",
       "    </tr>\n",
       "  </thead>\n",
       "  <tbody>\n",
       "    <tr>\n",
       "      <th>0</th>\n",
       "      <td>201812090was</td>\n",
       "      <td>Won Toss</td>\n",
       "      <td>Giants (deferred)</td>\n",
       "    </tr>\n",
       "    <tr>\n",
       "      <th>1</th>\n",
       "      <td>201812090was</td>\n",
       "      <td>Roof</td>\n",
       "      <td>outdoors</td>\n",
       "    </tr>\n",
       "    <tr>\n",
       "      <th>2</th>\n",
       "      <td>201812090was</td>\n",
       "      <td>Surface</td>\n",
       "      <td>grass</td>\n",
       "    </tr>\n",
       "    <tr>\n",
       "      <th>3</th>\n",
       "      <td>201812090was</td>\n",
       "      <td>Weather</td>\n",
       "      <td>33 degrees, wind 6 mph</td>\n",
       "    </tr>\n",
       "    <tr>\n",
       "      <th>4</th>\n",
       "      <td>201812090was</td>\n",
       "      <td>Vegas Line</td>\n",
       "      <td>New York Giants -3.0</td>\n",
       "    </tr>\n",
       "  </tbody>\n",
       "</table>\n",
       "</div>"
      ],
      "text/plain": [
       "        game_id        info                    stat\n",
       "0  201812090was    Won Toss       Giants (deferred)\n",
       "1  201812090was        Roof                outdoors\n",
       "2  201812090was     Surface                   grass\n",
       "3  201812090was     Weather  33 degrees, wind 6 mph\n",
       "4  201812090was  Vegas Line    New York Giants -3.0"
      ]
     },
     "execution_count": 22,
     "metadata": {},
     "output_type": "execute_result"
    }
   ],
   "source": [
    "game_info_df.head()"
   ]
  },
  {
   "cell_type": "code",
   "execution_count": 23,
   "metadata": {
    "ExecuteTime": {
     "end_time": "2019-01-20T23:20:22.825753Z",
     "start_time": "2019-01-20T23:20:16.366856Z"
    }
   },
   "outputs": [],
   "source": [
    "game_info_df['key_value'] = game_info_df[['info','stat']].apply(\n",
    "    lambda (k,v): {k:v}, axis=1\n",
    ")\n",
    "\n",
    "game_info_dict = {}\n",
    "for game in game_info_df['game_id'].unique():\n",
    "    curr_game_df = game_info_df[game_info_df['game_id'] == game]\n",
    "    game_info_dict[game] = {\n",
    "            d.keys()[0]:d.values()[0] \n",
    "            for d in curr_game_df['key_value'].values\n",
    "        }"
   ]
  },
  {
   "cell_type": "code",
   "execution_count": 24,
   "metadata": {
    "ExecuteTime": {
     "end_time": "2019-01-20T23:20:23.040577Z",
     "start_time": "2019-01-20T23:20:22.831539Z"
    },
    "scrolled": true
   },
   "outputs": [],
   "source": [
    "game_info_colnames = {\n",
    "    'Vegas Line': 'pfr_line',\n",
    "    'Over/Under': 'pfr_ou',\n",
    "    'Weather': 'prf_weather',\n",
    "    'Roof': 'roof',\n",
    "    'Surface': 'surface'\n",
    "}\n",
    "\n",
    "game_info = pd.DataFrame.from_dict(game_info_dict, orient='index')\\\n",
    "                .rename(columns=game_info_colnames)\\\n",
    "                .drop(['Won Toss','Won OT Toss','Super Bowl MVP'], axis=1)"
   ]
  },
  {
   "cell_type": "code",
   "execution_count": 25,
   "metadata": {
    "ExecuteTime": {
     "end_time": "2019-01-20T23:20:23.070132Z",
     "start_time": "2019-01-20T23:20:23.046601Z"
    }
   },
   "outputs": [
    {
     "data": {
      "text/html": [
       "<div>\n",
       "<style scoped>\n",
       "    .dataframe tbody tr th:only-of-type {\n",
       "        vertical-align: middle;\n",
       "    }\n",
       "\n",
       "    .dataframe tbody tr th {\n",
       "        vertical-align: top;\n",
       "    }\n",
       "\n",
       "    .dataframe thead th {\n",
       "        text-align: right;\n",
       "    }\n",
       "</style>\n",
       "<table border=\"1\" class=\"dataframe\">\n",
       "  <thead>\n",
       "    <tr style=\"text-align: right;\">\n",
       "      <th></th>\n",
       "      <th>200709060clt</th>\n",
       "      <th>200709090buf</th>\n",
       "      <th>200709090cle</th>\n",
       "      <th>200709090dal</th>\n",
       "      <th>200709090gnb</th>\n",
       "    </tr>\n",
       "  </thead>\n",
       "  <tbody>\n",
       "    <tr>\n",
       "      <th>surface</th>\n",
       "      <td>fieldturf</td>\n",
       "      <td>astroplay</td>\n",
       "      <td>grass</td>\n",
       "      <td>fieldturf</td>\n",
       "      <td>grass</td>\n",
       "    </tr>\n",
       "    <tr>\n",
       "      <th>pfr_line</th>\n",
       "      <td>Indianapolis Colts -5.5</td>\n",
       "      <td>Denver Broncos -3.0</td>\n",
       "      <td>Pittsburgh Steelers -4.5</td>\n",
       "      <td>Dallas Cowboys -6.5</td>\n",
       "      <td>Philadelphia Eagles -3.0</td>\n",
       "    </tr>\n",
       "    <tr>\n",
       "      <th>pfr_ou</th>\n",
       "      <td>53.5 (under)</td>\n",
       "      <td>37.0 (under)</td>\n",
       "      <td>36.5 (over)</td>\n",
       "      <td>44.5 (over)</td>\n",
       "      <td>42.5 (under)</td>\n",
       "    </tr>\n",
       "    <tr>\n",
       "      <th>roof</th>\n",
       "      <td>dome</td>\n",
       "      <td>outdoors</td>\n",
       "      <td>outdoors</td>\n",
       "      <td>outdoors</td>\n",
       "      <td>outdoors</td>\n",
       "    </tr>\n",
       "    <tr>\n",
       "      <th>prf_weather</th>\n",
       "      <td>NaN</td>\n",
       "      <td>70 degrees relative humidity 93%, wind 5 mph, ...</td>\n",
       "      <td>71 degrees relative humidity 80%, wind 5 mph, ...</td>\n",
       "      <td>78 degrees relative humidity 85%, no wind, win...</td>\n",
       "      <td>62 degrees relative humidity 80%, wind 9 mph, ...</td>\n",
       "    </tr>\n",
       "  </tbody>\n",
       "</table>\n",
       "</div>"
      ],
      "text/plain": [
       "                        200709060clt  \\\n",
       "surface                    fieldturf   \n",
       "pfr_line     Indianapolis Colts -5.5   \n",
       "pfr_ou                  53.5 (under)   \n",
       "roof                            dome   \n",
       "prf_weather                      NaN   \n",
       "\n",
       "                                                  200709090buf  \\\n",
       "surface                                              astroplay   \n",
       "pfr_line                                   Denver Broncos -3.0   \n",
       "pfr_ou                                            37.0 (under)   \n",
       "roof                                                  outdoors   \n",
       "prf_weather  70 degrees relative humidity 93%, wind 5 mph, ...   \n",
       "\n",
       "                                                  200709090cle  \\\n",
       "surface                                                  grass   \n",
       "pfr_line                              Pittsburgh Steelers -4.5   \n",
       "pfr_ou                                             36.5 (over)   \n",
       "roof                                                  outdoors   \n",
       "prf_weather  71 degrees relative humidity 80%, wind 5 mph, ...   \n",
       "\n",
       "                                                  200709090dal  \\\n",
       "surface                                              fieldturf   \n",
       "pfr_line                                   Dallas Cowboys -6.5   \n",
       "pfr_ou                                             44.5 (over)   \n",
       "roof                                                  outdoors   \n",
       "prf_weather  78 degrees relative humidity 85%, no wind, win...   \n",
       "\n",
       "                                                  200709090gnb  \n",
       "surface                                                  grass  \n",
       "pfr_line                              Philadelphia Eagles -3.0  \n",
       "pfr_ou                                            42.5 (under)  \n",
       "roof                                                  outdoors  \n",
       "prf_weather  62 degrees relative humidity 80%, wind 9 mph, ...  "
      ]
     },
     "execution_count": 25,
     "metadata": {},
     "output_type": "execute_result"
    }
   ],
   "source": [
    "game_info.head().T"
   ]
  },
  {
   "cell_type": "markdown",
   "metadata": {},
   "source": [
    "## Create __games_lines_info__: join __games_lines__ with __game_info__ assert there are no join misses"
   ]
  },
  {
   "cell_type": "code",
   "execution_count": 26,
   "metadata": {
    "ExecuteTime": {
     "end_time": "2019-01-20T23:20:23.102237Z",
     "start_time": "2019-01-20T23:20:23.075140Z"
    }
   },
   "outputs": [
    {
     "data": {
      "text/plain": [
       "{'2018'}"
      ]
     },
     "execution_count": 26,
     "metadata": {},
     "output_type": "execute_result"
    },
    {
     "data": {
      "text/plain": [
       "(2937, 3177, 2937)"
      ]
     },
     "execution_count": 26,
     "metadata": {},
     "output_type": "execute_result"
    }
   ],
   "source": [
    "## 2018 games\n",
    "diffs = set(game_info.index.tolist()) - set(games_lines_df['game_id'].tolist())\n",
    "set(map(lambda x: x[:4], diffs))\n",
    "\n",
    "games_lines_info = games_lines_df.merge(game_info, left_on='game_id', right_index=True)\n",
    "\n",
    "games_lines_df.shape[0], game_info.shape[0], games_lines_info.shape[0]"
   ]
  },
  {
   "cell_type": "code",
   "execution_count": 27,
   "metadata": {
    "ExecuteTime": {
     "end_time": "2019-01-20T23:20:23.112253Z",
     "start_time": "2019-01-20T23:20:23.107355Z"
    }
   },
   "outputs": [],
   "source": [
    "## TEMPORARILY TURNING OFF\n",
    "# assert games_lines_df.shape[0] == game_info.shape[0]\n",
    "# assert games_lines_df.shape[0] == games_lines_info.shape[0]"
   ]
  },
  {
   "cell_type": "markdown",
   "metadata": {},
   "source": [
    "## Enrich __games_lines_info__"
   ]
  },
  {
   "cell_type": "markdown",
   "metadata": {},
   "source": [
    "### Stadium lat/long and timezone\n",
    "* for each stadium\n",
    "* to be used for computing travel"
   ]
  },
  {
   "cell_type": "code",
   "execution_count": 28,
   "metadata": {
    "ExecuteTime": {
     "end_time": "2019-01-20T23:20:23.139311Z",
     "start_time": "2019-01-20T23:20:23.117069Z"
    },
    "run_control": {
     "marked": true
    }
   },
   "outputs": [],
   "source": [
    "stadiums = pd.read_csv('stadiums_w_tz.csv')\n",
    "\n",
    "## assert that stadiums lat/long csv has all stadiums in the games_df\n",
    "assert not set(games_lines_info['stadium'].unique()) - set(stadiums['stadium'].unique())\n",
    "before = games_lines_info.shape[0]\n",
    "games_lines_info = games_lines_info.merge(\n",
    "        stadiums, left_on='stadium', right_on='stadium'\n",
    "    )\n",
    "\n",
    "assert games_lines_info.shape[0] == before"
   ]
  },
  {
   "cell_type": "code",
   "execution_count": 29,
   "metadata": {
    "ExecuteTime": {
     "end_time": "2019-01-20T23:20:23.178774Z",
     "start_time": "2019-01-20T23:20:23.144062Z"
    },
    "scrolled": true
   },
   "outputs": [
    {
     "data": {
      "text/html": [
       "<div>\n",
       "<style scoped>\n",
       "    .dataframe tbody tr th:only-of-type {\n",
       "        vertical-align: middle;\n",
       "    }\n",
       "\n",
       "    .dataframe tbody tr th {\n",
       "        vertical-align: top;\n",
       "    }\n",
       "\n",
       "    .dataframe thead th {\n",
       "        text-align: right;\n",
       "    }\n",
       "</style>\n",
       "<table border=\"1\" class=\"dataframe\">\n",
       "  <thead>\n",
       "    <tr style=\"text-align: right;\">\n",
       "      <th></th>\n",
       "      <th>stadium</th>\n",
       "      <th>lat</th>\n",
       "      <th>long</th>\n",
       "      <th>timezone</th>\n",
       "    </tr>\n",
       "  </thead>\n",
       "  <tbody>\n",
       "    <tr>\n",
       "      <th>0</th>\n",
       "      <td>RCA Dome</td>\n",
       "      <td>39.76361</td>\n",
       "      <td>-86.16333</td>\n",
       "      <td>-5.0</td>\n",
       "    </tr>\n",
       "    <tr>\n",
       "      <th>9</th>\n",
       "      <td>Ralph Wilson Stadium</td>\n",
       "      <td>42.77400</td>\n",
       "      <td>-78.78700</td>\n",
       "      <td>-5.0</td>\n",
       "    </tr>\n",
       "    <tr>\n",
       "      <th>74</th>\n",
       "      <td>Cleveland Browns Stadium</td>\n",
       "      <td>41.50611</td>\n",
       "      <td>-81.69944</td>\n",
       "      <td>-5.0</td>\n",
       "    </tr>\n",
       "    <tr>\n",
       "      <th>122</th>\n",
       "      <td>Texas Stadium</td>\n",
       "      <td>32.84000</td>\n",
       "      <td>-96.91100</td>\n",
       "      <td>-6.0</td>\n",
       "    </tr>\n",
       "    <tr>\n",
       "      <th>139</th>\n",
       "      <td>Lambeau Field</td>\n",
       "      <td>44.50139</td>\n",
       "      <td>-88.06222</td>\n",
       "      <td>-6.0</td>\n",
       "    </tr>\n",
       "    <tr>\n",
       "      <th>234</th>\n",
       "      <td>Reliant Stadium</td>\n",
       "      <td>29.68472</td>\n",
       "      <td>-95.41083</td>\n",
       "      <td>-6.0</td>\n",
       "    </tr>\n",
       "    <tr>\n",
       "      <th>292</th>\n",
       "      <td>Jacksonville Municipal Stadium</td>\n",
       "      <td>30.32389</td>\n",
       "      <td>-81.63750</td>\n",
       "      <td>-5.0</td>\n",
       "    </tr>\n",
       "    <tr>\n",
       "      <th>316</th>\n",
       "      <td>Hubert H. Humphrey Metrodome</td>\n",
       "      <td>44.97389</td>\n",
       "      <td>-93.25806</td>\n",
       "      <td>-6.0</td>\n",
       "    </tr>\n",
       "    <tr>\n",
       "      <th>342</th>\n",
       "      <td>Giants Stadium</td>\n",
       "      <td>40.81222</td>\n",
       "      <td>-74.07694</td>\n",
       "      <td>-5.0</td>\n",
       "    </tr>\n",
       "    <tr>\n",
       "      <th>391</th>\n",
       "      <td>McAfee Coliseum</td>\n",
       "      <td>37.75167</td>\n",
       "      <td>-122.20056</td>\n",
       "      <td>-8.0</td>\n",
       "    </tr>\n",
       "  </tbody>\n",
       "</table>\n",
       "</div>"
      ],
      "text/plain": [
       "                            stadium       lat       long  timezone\n",
       "0                          RCA Dome  39.76361  -86.16333      -5.0\n",
       "9              Ralph Wilson Stadium  42.77400  -78.78700      -5.0\n",
       "74         Cleveland Browns Stadium  41.50611  -81.69944      -5.0\n",
       "122                   Texas Stadium  32.84000  -96.91100      -6.0\n",
       "139                   Lambeau Field  44.50139  -88.06222      -6.0\n",
       "234                 Reliant Stadium  29.68472  -95.41083      -6.0\n",
       "292  Jacksonville Municipal Stadium  30.32389  -81.63750      -5.0\n",
       "316    Hubert H. Humphrey Metrodome  44.97389  -93.25806      -6.0\n",
       "342                  Giants Stadium  40.81222  -74.07694      -5.0\n",
       "391                 McAfee Coliseum  37.75167 -122.20056      -8.0"
      ]
     },
     "execution_count": 29,
     "metadata": {},
     "output_type": "execute_result"
    }
   ],
   "source": [
    "games_lines_info[stadiums.columns].drop_duplicates().head(10)"
   ]
  },
  {
   "cell_type": "markdown",
   "metadata": {},
   "source": [
    "### Load __gamelogs__ and use it to add in the week number\n",
    "* #### Future TODO: incorporate gamelogs data as needed, e.g. game stats"
   ]
  },
  {
   "cell_type": "code",
   "execution_count": 30,
   "metadata": {
    "ExecuteTime": {
     "end_time": "2019-01-20T23:20:23.225137Z",
     "start_time": "2019-01-20T23:20:23.183527Z"
    }
   },
   "outputs": [],
   "source": [
    "gamelogs = pd.read_csv('gamelogs.csv')"
   ]
  },
  {
   "cell_type": "markdown",
   "metadata": {},
   "source": [
    "#### Temp: remove 2018"
   ]
  },
  {
   "cell_type": "code",
   "execution_count": 31,
   "metadata": {
    "ExecuteTime": {
     "end_time": "2019-01-20T23:20:23.237647Z",
     "start_time": "2019-01-20T23:20:23.229585Z"
    }
   },
   "outputs": [],
   "source": [
    "gamelogs = gamelogs[gamelogs['season'] < 2018]"
   ]
  },
  {
   "cell_type": "code",
   "execution_count": 32,
   "metadata": {
    "ExecuteTime": {
     "end_time": "2019-01-20T23:20:23.250653Z",
     "start_time": "2019-01-20T23:20:23.241922Z"
    }
   },
   "outputs": [],
   "source": [
    "game_time_info = gamelogs[['game_id','season','week_id']].drop_duplicates() "
   ]
  },
  {
   "cell_type": "code",
   "execution_count": 33,
   "metadata": {
    "ExecuteTime": {
     "end_time": "2019-01-20T23:20:23.272192Z",
     "start_time": "2019-01-20T23:20:23.255278Z"
    }
   },
   "outputs": [
    {
     "data": {
      "text/html": [
       "<div>\n",
       "<style scoped>\n",
       "    .dataframe tbody tr th:only-of-type {\n",
       "        vertical-align: middle;\n",
       "    }\n",
       "\n",
       "    .dataframe tbody tr th {\n",
       "        vertical-align: top;\n",
       "    }\n",
       "\n",
       "    .dataframe thead th {\n",
       "        text-align: right;\n",
       "    }\n",
       "</style>\n",
       "<table border=\"1\" class=\"dataframe\">\n",
       "  <thead>\n",
       "    <tr style=\"text-align: right;\">\n",
       "      <th></th>\n",
       "      <th>game_id</th>\n",
       "      <th>season</th>\n",
       "      <th>week_id</th>\n",
       "    </tr>\n",
       "  </thead>\n",
       "  <tbody>\n",
       "    <tr>\n",
       "      <th>0</th>\n",
       "      <td>200909130clt</td>\n",
       "      <td>2009</td>\n",
       "      <td>1</td>\n",
       "    </tr>\n",
       "    <tr>\n",
       "      <th>1</th>\n",
       "      <td>200909200jax</td>\n",
       "      <td>2009</td>\n",
       "      <td>2</td>\n",
       "    </tr>\n",
       "    <tr>\n",
       "      <th>2</th>\n",
       "      <td>200909270htx</td>\n",
       "      <td>2009</td>\n",
       "      <td>3</td>\n",
       "    </tr>\n",
       "    <tr>\n",
       "      <th>3</th>\n",
       "      <td>200910040jax</td>\n",
       "      <td>2009</td>\n",
       "      <td>4</td>\n",
       "    </tr>\n",
       "    <tr>\n",
       "      <th>4</th>\n",
       "      <td>200910110sea</td>\n",
       "      <td>2009</td>\n",
       "      <td>5</td>\n",
       "    </tr>\n",
       "  </tbody>\n",
       "</table>\n",
       "</div>"
      ],
      "text/plain": [
       "        game_id  season  week_id\n",
       "0  200909130clt    2009        1\n",
       "1  200909200jax    2009        2\n",
       "2  200909270htx    2009        3\n",
       "3  200910040jax    2009        4\n",
       "4  200910110sea    2009        5"
      ]
     },
     "execution_count": 33,
     "metadata": {},
     "output_type": "execute_result"
    }
   ],
   "source": [
    "game_time_info.head()"
   ]
  },
  {
   "cell_type": "code",
   "execution_count": 34,
   "metadata": {
    "ExecuteTime": {
     "end_time": "2019-01-20T23:20:23.293877Z",
     "start_time": "2019-01-20T23:20:23.277131Z"
    }
   },
   "outputs": [],
   "source": [
    "assert games_lines_info.shape[0] == games_lines_info.merge(\n",
    "        game_time_info, left_on='game_id', right_on='game_id'\n",
    "    ).shape[0]"
   ]
  },
  {
   "cell_type": "code",
   "execution_count": 35,
   "metadata": {
    "ExecuteTime": {
     "end_time": "2019-01-20T23:20:23.317743Z",
     "start_time": "2019-01-20T23:20:23.299331Z"
    }
   },
   "outputs": [],
   "source": [
    "games_lines_tz = games_lines_info.drop(\n",
    "        'season', axis=1\n",
    "    ).merge(\n",
    "        game_time_info, left_on='game_id', right_on='game_id'\n",
    "    )"
   ]
  },
  {
   "cell_type": "code",
   "execution_count": 36,
   "metadata": {
    "ExecuteTime": {
     "end_time": "2019-01-20T23:20:23.352122Z",
     "start_time": "2019-01-20T23:20:23.323141Z"
    }
   },
   "outputs": [],
   "source": [
    "## assert each season has the same number of games (267)\n",
    "tmp = games_lines_tz['season'].value_counts().sort_index()\n",
    "assert tmp.max() == tmp.min()\n",
    "\n",
    "tmp = games_lines_tz[['season','week_id','team0_link']].rename(\n",
    "        columns={'team0_link':'team'}\n",
    "    ).append(\n",
    "        games_lines_tz[['season','week_id','team1_link']].rename(\n",
    "            columns={'team1_link':'team'}\n",
    "        )\n",
    "    ).reset_index(drop=True)\n",
    "\n",
    "## assert each team has 16 games each season in gamelog\n",
    "assert (tmp[tmp['week_id'] <= 17].groupby(['team','season']).size() == 16).all()\n",
    "\n",
    "### assert that no one plays >1 game in a week\n",
    "assert (tmp[tmp['week_id'] <= 17].groupby(['team','season','week_id']).size() == 1).all()"
   ]
  },
  {
   "cell_type": "markdown",
   "metadata": {},
   "source": [
    "### Infer stadium --> home team (or neutral)\n",
    "* TODO: clean this up\n",
    "* PFR has team0 == home team (including official \"home\" team in neutral stadiums)\n",
    "* treat jets vs. giants as both home (neutral)"
   ]
  },
  {
   "cell_type": "code",
   "execution_count": 37,
   "metadata": {
    "ExecuteTime": {
     "end_time": "2019-01-20T23:20:32.607503Z",
     "start_time": "2019-01-20T23:20:23.358352Z"
    },
    "run_control": {
     "marked": true
    },
    "scrolled": true
   },
   "outputs": [],
   "source": [
    "## get a count of team games plabyed by stadium\n",
    "tmp = games_lines_tz.copy()\n",
    "tmp['teams'] = tmp[['team0_link','team1_link']].apply(\n",
    "    lambda x: map(lambda y: y.split('/')[2], x), \n",
    "    axis=1\n",
    ")\n",
    "stad = spark.createDataFrame(\n",
    "        tmp[['teams','stadium','season']]\n",
    "    ).select(\n",
    "        F.explode('teams').alias('team'), 'stadium', 'season'\n",
    "    ).groupby('stadium','season','team').count()\\\n",
    "     .groupby('stadium','season').pivot('team').agg(F.sum('count')).toPandas().fillna(0)"
   ]
  },
  {
   "cell_type": "code",
   "execution_count": 38,
   "metadata": {
    "ExecuteTime": {
     "end_time": "2019-01-20T23:20:32.849993Z",
     "start_time": "2019-01-20T23:20:32.615195Z"
    },
    "run_control": {
     "marked": true
    }
   },
   "outputs": [],
   "source": [
    "## compute the proportion of a stadium's games that each team played\n",
    "## **assumption used: of a stadium has had more thna 6 games played\n",
    "## and a team has >20% of games played there, that is the home team\n",
    "## TODO: make this more elegant, maybe leveraging the Wiki package\n",
    "key = ['stadium','season']\n",
    "teams = list(set(stad.columns) - set(key))\n",
    "\n",
    "stad['sum'] = stad[teams].sum(axis=1)\n",
    "\n",
    "for t in teams:\n",
    "    stad[t] /= stad['sum']\n",
    "    \n",
    "def find_home_team(props, teams):\n",
    "    props, ngames = (props[:-1], props[-1])\n",
    "    max_idx = [\n",
    "        i for (i, t) in enumerate(props) \n",
    "        if (t > 0.2) & (ngames > 6)\n",
    "    ]\n",
    "    return map(lambda t: teams[t], max_idx)\n",
    "\n",
    "stad['home_teams'] = stad[teams + ['sum']].apply(\n",
    "    lambda x: find_home_team(x, teams), axis=1\n",
    ")"
   ]
  },
  {
   "cell_type": "code",
   "execution_count": 39,
   "metadata": {
    "ExecuteTime": {
     "end_time": "2019-01-20T23:20:33.021854Z",
     "start_time": "2019-01-20T23:20:32.861968Z"
    }
   },
   "outputs": [
    {
     "data": {
      "text/html": [
       "<div>\n",
       "<style scoped>\n",
       "    .dataframe tbody tr th:only-of-type {\n",
       "        vertical-align: middle;\n",
       "    }\n",
       "\n",
       "    .dataframe tbody tr th {\n",
       "        vertical-align: top;\n",
       "    }\n",
       "\n",
       "    .dataframe thead th {\n",
       "        text-align: right;\n",
       "    }\n",
       "</style>\n",
       "<table border=\"1\" class=\"dataframe\">\n",
       "  <thead>\n",
       "    <tr style=\"text-align: right;\">\n",
       "      <th></th>\n",
       "      <th>stadium</th>\n",
       "      <th>season</th>\n",
       "      <th>atl</th>\n",
       "      <th>buf</th>\n",
       "      <th>car</th>\n",
       "      <th>chi</th>\n",
       "      <th>cin</th>\n",
       "      <th>cle</th>\n",
       "      <th>clt</th>\n",
       "      <th>crd</th>\n",
       "      <th>...</th>\n",
       "      <th>rai</th>\n",
       "      <th>ram</th>\n",
       "      <th>rav</th>\n",
       "      <th>sdg</th>\n",
       "      <th>sea</th>\n",
       "      <th>sfo</th>\n",
       "      <th>tam</th>\n",
       "      <th>was</th>\n",
       "      <th>sum</th>\n",
       "      <th>home_teams</th>\n",
       "    </tr>\n",
       "  </thead>\n",
       "  <tbody>\n",
       "    <tr>\n",
       "      <th>21</th>\n",
       "      <td>Rogers Centre</td>\n",
       "      <td>2011</td>\n",
       "      <td>0.0</td>\n",
       "      <td>0.5</td>\n",
       "      <td>0.0</td>\n",
       "      <td>0.0</td>\n",
       "      <td>0.0</td>\n",
       "      <td>0.0</td>\n",
       "      <td>0.0</td>\n",
       "      <td>0.0</td>\n",
       "      <td>...</td>\n",
       "      <td>0.0</td>\n",
       "      <td>0.0</td>\n",
       "      <td>0.0</td>\n",
       "      <td>0.0</td>\n",
       "      <td>0.0</td>\n",
       "      <td>0.0</td>\n",
       "      <td>0.0</td>\n",
       "      <td>0.5</td>\n",
       "      <td>2.0</td>\n",
       "      <td>[buf]</td>\n",
       "    </tr>\n",
       "    <tr>\n",
       "      <th>142</th>\n",
       "      <td>Rogers Centre</td>\n",
       "      <td>2012</td>\n",
       "      <td>0.0</td>\n",
       "      <td>0.5</td>\n",
       "      <td>0.0</td>\n",
       "      <td>0.0</td>\n",
       "      <td>0.0</td>\n",
       "      <td>0.0</td>\n",
       "      <td>0.0</td>\n",
       "      <td>0.0</td>\n",
       "      <td>...</td>\n",
       "      <td>0.0</td>\n",
       "      <td>0.0</td>\n",
       "      <td>0.0</td>\n",
       "      <td>0.0</td>\n",
       "      <td>0.5</td>\n",
       "      <td>0.0</td>\n",
       "      <td>0.0</td>\n",
       "      <td>0.0</td>\n",
       "      <td>2.0</td>\n",
       "      <td>[buf]</td>\n",
       "    </tr>\n",
       "    <tr>\n",
       "      <th>210</th>\n",
       "      <td>Rogers Centre</td>\n",
       "      <td>2009</td>\n",
       "      <td>0.0</td>\n",
       "      <td>0.5</td>\n",
       "      <td>0.0</td>\n",
       "      <td>0.0</td>\n",
       "      <td>0.0</td>\n",
       "      <td>0.0</td>\n",
       "      <td>0.0</td>\n",
       "      <td>0.0</td>\n",
       "      <td>...</td>\n",
       "      <td>0.0</td>\n",
       "      <td>0.0</td>\n",
       "      <td>0.0</td>\n",
       "      <td>0.0</td>\n",
       "      <td>0.0</td>\n",
       "      <td>0.0</td>\n",
       "      <td>0.0</td>\n",
       "      <td>0.0</td>\n",
       "      <td>2.0</td>\n",
       "      <td>[buf]</td>\n",
       "    </tr>\n",
       "    <tr>\n",
       "      <th>225</th>\n",
       "      <td>Rogers Centre</td>\n",
       "      <td>2013</td>\n",
       "      <td>0.5</td>\n",
       "      <td>0.5</td>\n",
       "      <td>0.0</td>\n",
       "      <td>0.0</td>\n",
       "      <td>0.0</td>\n",
       "      <td>0.0</td>\n",
       "      <td>0.0</td>\n",
       "      <td>0.0</td>\n",
       "      <td>...</td>\n",
       "      <td>0.0</td>\n",
       "      <td>0.0</td>\n",
       "      <td>0.0</td>\n",
       "      <td>0.0</td>\n",
       "      <td>0.0</td>\n",
       "      <td>0.0</td>\n",
       "      <td>0.0</td>\n",
       "      <td>0.0</td>\n",
       "      <td>2.0</td>\n",
       "      <td>[buf]</td>\n",
       "    </tr>\n",
       "    <tr>\n",
       "      <th>273</th>\n",
       "      <td>Rogers Centre</td>\n",
       "      <td>2010</td>\n",
       "      <td>0.0</td>\n",
       "      <td>0.5</td>\n",
       "      <td>0.0</td>\n",
       "      <td>0.5</td>\n",
       "      <td>0.0</td>\n",
       "      <td>0.0</td>\n",
       "      <td>0.0</td>\n",
       "      <td>0.0</td>\n",
       "      <td>...</td>\n",
       "      <td>0.0</td>\n",
       "      <td>0.0</td>\n",
       "      <td>0.0</td>\n",
       "      <td>0.0</td>\n",
       "      <td>0.0</td>\n",
       "      <td>0.0</td>\n",
       "      <td>0.0</td>\n",
       "      <td>0.0</td>\n",
       "      <td>2.0</td>\n",
       "      <td>[buf]</td>\n",
       "    </tr>\n",
       "    <tr>\n",
       "      <th>307</th>\n",
       "      <td>Rogers Centre</td>\n",
       "      <td>2008</td>\n",
       "      <td>0.0</td>\n",
       "      <td>0.5</td>\n",
       "      <td>0.0</td>\n",
       "      <td>0.0</td>\n",
       "      <td>0.0</td>\n",
       "      <td>0.0</td>\n",
       "      <td>0.0</td>\n",
       "      <td>0.0</td>\n",
       "      <td>...</td>\n",
       "      <td>0.0</td>\n",
       "      <td>0.0</td>\n",
       "      <td>0.0</td>\n",
       "      <td>0.0</td>\n",
       "      <td>0.0</td>\n",
       "      <td>0.0</td>\n",
       "      <td>0.0</td>\n",
       "      <td>0.0</td>\n",
       "      <td>2.0</td>\n",
       "      <td>[buf]</td>\n",
       "    </tr>\n",
       "  </tbody>\n",
       "</table>\n",
       "<p>6 rows × 36 columns</p>\n",
       "</div>"
      ],
      "text/plain": [
       "           stadium  season  atl  buf  car  chi  cin  cle  clt  crd  \\\n",
       "21   Rogers Centre    2011  0.0  0.5  0.0  0.0  0.0  0.0  0.0  0.0   \n",
       "142  Rogers Centre    2012  0.0  0.5  0.0  0.0  0.0  0.0  0.0  0.0   \n",
       "210  Rogers Centre    2009  0.0  0.5  0.0  0.0  0.0  0.0  0.0  0.0   \n",
       "225  Rogers Centre    2013  0.5  0.5  0.0  0.0  0.0  0.0  0.0  0.0   \n",
       "273  Rogers Centre    2010  0.0  0.5  0.0  0.5  0.0  0.0  0.0  0.0   \n",
       "307  Rogers Centre    2008  0.0  0.5  0.0  0.0  0.0  0.0  0.0  0.0   \n",
       "\n",
       "        ...      rai  ram  rav  sdg  sea  sfo  tam  was  sum  home_teams  \n",
       "21      ...      0.0  0.0  0.0  0.0  0.0  0.0  0.0  0.5  2.0       [buf]  \n",
       "142     ...      0.0  0.0  0.0  0.0  0.5  0.0  0.0  0.0  2.0       [buf]  \n",
       "210     ...      0.0  0.0  0.0  0.0  0.0  0.0  0.0  0.0  2.0       [buf]  \n",
       "225     ...      0.0  0.0  0.0  0.0  0.0  0.0  0.0  0.0  2.0       [buf]  \n",
       "273     ...      0.0  0.0  0.0  0.0  0.0  0.0  0.0  0.0  2.0       [buf]  \n",
       "307     ...      0.0  0.0  0.0  0.0  0.0  0.0  0.0  0.0  2.0       [buf]  \n",
       "\n",
       "[6 rows x 36 columns]"
      ]
     },
     "execution_count": 39,
     "metadata": {},
     "output_type": "execute_result"
    },
    {
     "data": {
      "text/html": [
       "<div>\n",
       "<style scoped>\n",
       "    .dataframe tbody tr th:only-of-type {\n",
       "        vertical-align: middle;\n",
       "    }\n",
       "\n",
       "    .dataframe tbody tr th {\n",
       "        vertical-align: top;\n",
       "    }\n",
       "\n",
       "    .dataframe thead th {\n",
       "        text-align: right;\n",
       "    }\n",
       "</style>\n",
       "<table border=\"1\" class=\"dataframe\">\n",
       "  <thead>\n",
       "    <tr style=\"text-align: right;\">\n",
       "      <th></th>\n",
       "      <th>stadium</th>\n",
       "      <th>season</th>\n",
       "      <th>atl</th>\n",
       "      <th>buf</th>\n",
       "      <th>car</th>\n",
       "      <th>chi</th>\n",
       "      <th>cin</th>\n",
       "      <th>cle</th>\n",
       "      <th>clt</th>\n",
       "      <th>crd</th>\n",
       "      <th>...</th>\n",
       "      <th>rai</th>\n",
       "      <th>ram</th>\n",
       "      <th>rav</th>\n",
       "      <th>sdg</th>\n",
       "      <th>sea</th>\n",
       "      <th>sfo</th>\n",
       "      <th>tam</th>\n",
       "      <th>was</th>\n",
       "      <th>sum</th>\n",
       "      <th>home_teams</th>\n",
       "    </tr>\n",
       "  </thead>\n",
       "  <tbody>\n",
       "    <tr>\n",
       "      <th>33</th>\n",
       "      <td>TCF Bank Stadium</td>\n",
       "      <td>2010</td>\n",
       "      <td>0.0000</td>\n",
       "      <td>0.0</td>\n",
       "      <td>0.0000</td>\n",
       "      <td>0.500000</td>\n",
       "      <td>0.0</td>\n",
       "      <td>0.0</td>\n",
       "      <td>0.0</td>\n",
       "      <td>0.0</td>\n",
       "      <td>...</td>\n",
       "      <td>0.0</td>\n",
       "      <td>0.000000</td>\n",
       "      <td>0.0</td>\n",
       "      <td>0.000000</td>\n",
       "      <td>0.000000</td>\n",
       "      <td>0.0</td>\n",
       "      <td>0.0</td>\n",
       "      <td>0.0000</td>\n",
       "      <td>2.0</td>\n",
       "      <td>[min]</td>\n",
       "    </tr>\n",
       "    <tr>\n",
       "      <th>48</th>\n",
       "      <td>TCF Bank Stadium</td>\n",
       "      <td>2015</td>\n",
       "      <td>0.0000</td>\n",
       "      <td>0.0</td>\n",
       "      <td>0.0000</td>\n",
       "      <td>0.055556</td>\n",
       "      <td>0.0</td>\n",
       "      <td>0.0</td>\n",
       "      <td>0.0</td>\n",
       "      <td>0.0</td>\n",
       "      <td>...</td>\n",
       "      <td>0.0</td>\n",
       "      <td>0.055556</td>\n",
       "      <td>0.0</td>\n",
       "      <td>0.055556</td>\n",
       "      <td>0.111111</td>\n",
       "      <td>0.0</td>\n",
       "      <td>0.0</td>\n",
       "      <td>0.0000</td>\n",
       "      <td>18.0</td>\n",
       "      <td>[min]</td>\n",
       "    </tr>\n",
       "    <tr>\n",
       "      <th>201</th>\n",
       "      <td>TCF Bank Stadium</td>\n",
       "      <td>2014</td>\n",
       "      <td>0.0625</td>\n",
       "      <td>0.0</td>\n",
       "      <td>0.0625</td>\n",
       "      <td>0.062500</td>\n",
       "      <td>0.0</td>\n",
       "      <td>0.0</td>\n",
       "      <td>0.0</td>\n",
       "      <td>0.0</td>\n",
       "      <td>...</td>\n",
       "      <td>0.0</td>\n",
       "      <td>0.000000</td>\n",
       "      <td>0.0</td>\n",
       "      <td>0.000000</td>\n",
       "      <td>0.000000</td>\n",
       "      <td>0.0</td>\n",
       "      <td>0.0</td>\n",
       "      <td>0.0625</td>\n",
       "      <td>16.0</td>\n",
       "      <td>[min]</td>\n",
       "    </tr>\n",
       "  </tbody>\n",
       "</table>\n",
       "<p>3 rows × 36 columns</p>\n",
       "</div>"
      ],
      "text/plain": [
       "              stadium  season     atl  buf     car       chi  cin  cle  clt  \\\n",
       "33   TCF Bank Stadium    2010  0.0000  0.0  0.0000  0.500000  0.0  0.0  0.0   \n",
       "48   TCF Bank Stadium    2015  0.0000  0.0  0.0000  0.055556  0.0  0.0  0.0   \n",
       "201  TCF Bank Stadium    2014  0.0625  0.0  0.0625  0.062500  0.0  0.0  0.0   \n",
       "\n",
       "     crd     ...      rai       ram  rav       sdg       sea  sfo  tam  \\\n",
       "33   0.0     ...      0.0  0.000000  0.0  0.000000  0.000000  0.0  0.0   \n",
       "48   0.0     ...      0.0  0.055556  0.0  0.055556  0.111111  0.0  0.0   \n",
       "201  0.0     ...      0.0  0.000000  0.0  0.000000  0.000000  0.0  0.0   \n",
       "\n",
       "        was   sum  home_teams  \n",
       "33   0.0000   2.0       [min]  \n",
       "48   0.0000  18.0       [min]  \n",
       "201  0.0625  16.0       [min]  \n",
       "\n",
       "[3 rows x 36 columns]"
      ]
     },
     "execution_count": 39,
     "metadata": {},
     "output_type": "execute_result"
    }
   ],
   "source": [
    "# SPECIAL CASES (games relocated nearby)\n",
    "## set Rogers Centre to buf\n",
    "rog = stad[stad['stadium'] == 'Rogers Centre'].index\n",
    "stad.loc[rog, 'home_teams'] = stad.loc[rog, 'season'].apply(lambda x: ['buf'])\n",
    "stad.loc[rog, :]\n",
    "\n",
    "## set TCF Bank Stadium to min\n",
    "tcf = stad[stad['stadium'] == 'TCF Bank Stadium'].index\n",
    "stad.loc[tcf, 'home_teams'] = stad.loc[tcf, 'season'].apply(lambda x: ['min'])\n",
    "stad.loc[tcf, :]"
   ]
  },
  {
   "cell_type": "code",
   "execution_count": 40,
   "metadata": {
    "ExecuteTime": {
     "end_time": "2019-01-20T23:20:33.052482Z",
     "start_time": "2019-01-20T23:20:33.026436Z"
    },
    "scrolled": true
   },
   "outputs": [
    {
     "data": {
      "text/html": [
       "<div>\n",
       "<style scoped>\n",
       "    .dataframe tbody tr th:only-of-type {\n",
       "        vertical-align: middle;\n",
       "    }\n",
       "\n",
       "    .dataframe tbody tr th {\n",
       "        vertical-align: top;\n",
       "    }\n",
       "\n",
       "    .dataframe thead th {\n",
       "        text-align: right;\n",
       "    }\n",
       "</style>\n",
       "<table border=\"1\" class=\"dataframe\">\n",
       "  <thead>\n",
       "    <tr style=\"text-align: right;\">\n",
       "      <th></th>\n",
       "      <th>stadium</th>\n",
       "      <th>season</th>\n",
       "      <th>home_teams</th>\n",
       "    </tr>\n",
       "  </thead>\n",
       "  <tbody>\n",
       "    <tr>\n",
       "      <th>153</th>\n",
       "      <td>AT&amp;T Stadium</td>\n",
       "      <td>2013</td>\n",
       "      <td>[dal]</td>\n",
       "    </tr>\n",
       "    <tr>\n",
       "      <th>343</th>\n",
       "      <td>AT&amp;T Stadium</td>\n",
       "      <td>2014</td>\n",
       "      <td>[dal]</td>\n",
       "    </tr>\n",
       "    <tr>\n",
       "      <th>360</th>\n",
       "      <td>AT&amp;T Stadium</td>\n",
       "      <td>2015</td>\n",
       "      <td>[dal]</td>\n",
       "    </tr>\n",
       "    <tr>\n",
       "      <th>101</th>\n",
       "      <td>AT&amp;T Stadium</td>\n",
       "      <td>2016</td>\n",
       "      <td>[dal]</td>\n",
       "    </tr>\n",
       "    <tr>\n",
       "      <th>222</th>\n",
       "      <td>AT&amp;T Stadium</td>\n",
       "      <td>2017</td>\n",
       "      <td>[dal]</td>\n",
       "    </tr>\n",
       "  </tbody>\n",
       "</table>\n",
       "</div>"
      ],
      "text/plain": [
       "          stadium  season home_teams\n",
       "153  AT&T Stadium    2013      [dal]\n",
       "343  AT&T Stadium    2014      [dal]\n",
       "360  AT&T Stadium    2015      [dal]\n",
       "101  AT&T Stadium    2016      [dal]\n",
       "222  AT&T Stadium    2017      [dal]"
      ]
     },
     "execution_count": 40,
     "metadata": {},
     "output_type": "execute_result"
    }
   ],
   "source": [
    "stad[['stadium','season','home_teams']].sort_values(by=['stadium','season']).head()"
   ]
  },
  {
   "cell_type": "code",
   "execution_count": 41,
   "metadata": {
    "ExecuteTime": {
     "end_time": "2019-01-20T23:20:33.076845Z",
     "start_time": "2019-01-20T23:20:33.057498Z"
    }
   },
   "outputs": [],
   "source": [
    "## take the previous DF, and tack on the \n",
    "## list of home teams\n",
    "games_lines_info_homeaway = games_lines_tz.merge(\n",
    "    stad[['stadium','season','home_teams']],\n",
    "    left_on=['stadium','season'],\n",
    "    right_on=['stadium','season']\n",
    ")\n",
    "assert games_lines_info_homeaway.shape[0] == games_lines_tz.shape[0]"
   ]
  },
  {
   "cell_type": "code",
   "execution_count": 42,
   "metadata": {
    "ExecuteTime": {
     "end_time": "2019-01-20T23:20:33.384720Z",
     "start_time": "2019-01-20T23:20:33.082970Z"
    }
   },
   "outputs": [],
   "source": [
    "games_lines_info_homeaway['team0'] = games_lines_info_homeaway['team0_link'].apply(lambda x: x.split('/')[2])\n",
    "games_lines_info_homeaway['team1'] = games_lines_info_homeaway['team1_link'].apply(lambda x: x.split('/')[2])\n",
    "\n",
    "games_lines_info_homeaway['team0_home_unof'] = games_lines_info_homeaway[['team0','home_teams']].apply(\n",
    "    lambda x: x[0] in x[1],\n",
    "    axis=1\n",
    ")\n",
    "games_lines_info_homeaway['team1_home_unof'] = games_lines_info_homeaway[['team1','home_teams']].apply(\n",
    "    lambda x: x[0] in x[1],\n",
    "    axis=1\n",
    ")"
   ]
  },
  {
   "cell_type": "code",
   "execution_count": 43,
   "metadata": {
    "ExecuteTime": {
     "end_time": "2019-01-20T23:20:33.573829Z",
     "start_time": "2019-01-20T23:20:33.390239Z"
    },
    "run_control": {
     "marked": true
    }
   },
   "outputs": [
    {
     "data": {
      "text/plain": [
       "team0      2898\n",
       "neutral      39\n",
       "Name: home_team, dtype: int64"
      ]
     },
     "execution_count": 43,
     "metadata": {},
     "output_type": "execute_result"
    }
   ],
   "source": [
    "def extract_home_team(x):\n",
    "    team0, team1 = x\n",
    "    if team0 == team1:\n",
    "        return 'neutral'\n",
    "    elif team0 is True:\n",
    "        return 'team0'\n",
    "    elif team1 is True:\n",
    "        return 'team1'\n",
    "    \n",
    "games_lines_info_homeaway['home_team'] = games_lines_info_homeaway.loc[\n",
    "        :, ['team0_home_unof','team1_home_unof']\n",
    "    ].apply(\n",
    "        extract_home_team, axis=1\n",
    "    )\n",
    "games_lines_info_homeaway.drop(\n",
    "    ['team0_home_unof','team1_home_unof'], axis=1, inplace=True\n",
    ")\n",
    "games_lines_info_homeaway.rename(\n",
    "    columns={'home_teams':'stadium_home_team'}, inplace=True\n",
    ")\n",
    "\n",
    "games_lines_info_homeaway['home_team'].value_counts()"
   ]
  },
  {
   "cell_type": "code",
   "execution_count": 44,
   "metadata": {
    "ExecuteTime": {
     "end_time": "2019-01-20T23:20:33.611781Z",
     "start_time": "2019-01-20T23:20:33.583941Z"
    }
   },
   "outputs": [],
   "source": [
    "## replace team0 with the team0 name\n",
    "team0_idx = games_lines_info_homeaway[\n",
    "                games_lines_info_homeaway['home_team'] == 'team0'\n",
    "            ].index.tolist()\n",
    "\n",
    "games_lines_info_homeaway.loc[team0_idx, 'home_team'] = games_lines_info_homeaway\\\n",
    "                                                            .loc[team0_idx, 'team0']"
   ]
  },
  {
   "cell_type": "code",
   "execution_count": 45,
   "metadata": {
    "ExecuteTime": {
     "end_time": "2019-01-20T23:20:33.639243Z",
     "start_time": "2019-01-20T23:20:33.619151Z"
    },
    "scrolled": true
   },
   "outputs": [
    {
     "data": {
      "text/plain": [
       "mia        86\n",
       "ram        86\n",
       "rai        85\n",
       "jax        84\n",
       "neutral    39\n",
       "Name: home_team, dtype: int64"
      ]
     },
     "execution_count": 45,
     "metadata": {},
     "output_type": "execute_result"
    }
   ],
   "source": [
    "## still 39 neutral\n",
    "games_lines_info_homeaway['home_team'].value_counts().tail()"
   ]
  },
  {
   "cell_type": "code",
   "execution_count": 46,
   "metadata": {
    "ExecuteTime": {
     "end_time": "2019-01-20T23:20:33.670531Z",
     "start_time": "2019-01-20T23:20:33.646613Z"
    }
   },
   "outputs": [],
   "source": [
    "assert games_lines_info_homeaway[\n",
    "    (games_lines_info_homeaway['home_team'] == 'neutral')\n",
    "    & (games_lines_info_homeaway[['H_Q1','H_Q2','H_Q3','H_Q4']].sum(axis=1) \n",
    "          != games_lines_info_homeaway['team0_score'])\n",
    "    & (games_lines_info_homeaway[['V_Q1','V_Q2','V_Q3','V_Q4']].sum(axis=1) \n",
    "          != games_lines_info_homeaway['team1_score'])\n",
    "].shape[0] == 0"
   ]
  },
  {
   "cell_type": "code",
   "execution_count": 47,
   "metadata": {
    "ExecuteTime": {
     "end_time": "2019-01-20T23:20:33.766444Z",
     "start_time": "2019-01-20T23:20:33.677525Z"
    },
    "run_control": {
     "marked": true
    }
   },
   "outputs": [
    {
     "data": {
      "text/html": [
       "<div>\n",
       "<style scoped>\n",
       "    .dataframe tbody tr th:only-of-type {\n",
       "        vertical-align: middle;\n",
       "    }\n",
       "\n",
       "    .dataframe tbody tr th {\n",
       "        vertical-align: top;\n",
       "    }\n",
       "\n",
       "    .dataframe thead th {\n",
       "        text-align: right;\n",
       "    }\n",
       "</style>\n",
       "<table border=\"1\" class=\"dataframe\">\n",
       "  <thead>\n",
       "    <tr style=\"text-align: right;\">\n",
       "      <th></th>\n",
       "      <th>game_id</th>\n",
       "      <th>team0</th>\n",
       "      <th>team1</th>\n",
       "      <th>stadium</th>\n",
       "      <th>H_score_calc</th>\n",
       "      <th>team0_score</th>\n",
       "      <th>V_score_calc</th>\n",
       "      <th>team1_score</th>\n",
       "      <th>stadium_home_team</th>\n",
       "    </tr>\n",
       "  </thead>\n",
       "  <tbody>\n",
       "    <tr>\n",
       "      <th>2920</th>\n",
       "      <td>201711190rai</td>\n",
       "      <td>rai</td>\n",
       "      <td>nwe</td>\n",
       "      <td>Azteca Stadium</td>\n",
       "      <td>8</td>\n",
       "      <td>8</td>\n",
       "      <td>33</td>\n",
       "      <td>33</td>\n",
       "      <td>[]</td>\n",
       "    </tr>\n",
       "    <tr>\n",
       "      <th>2919</th>\n",
       "      <td>201611210rai</td>\n",
       "      <td>rai</td>\n",
       "      <td>htx</td>\n",
       "      <td>Azteca Stadium</td>\n",
       "      <td>27</td>\n",
       "      <td>27</td>\n",
       "      <td>20</td>\n",
       "      <td>20</td>\n",
       "      <td>[]</td>\n",
       "    </tr>\n",
       "    <tr>\n",
       "      <th>2142</th>\n",
       "      <td>201102060pit</td>\n",
       "      <td>gnb</td>\n",
       "      <td>pit</td>\n",
       "      <td>Cowboys Stadium</td>\n",
       "      <td>31</td>\n",
       "      <td>31</td>\n",
       "      <td>25</td>\n",
       "      <td>25</td>\n",
       "      <td>[dal]</td>\n",
       "    </tr>\n",
       "    <tr>\n",
       "      <th>1198</th>\n",
       "      <td>201002070clt</td>\n",
       "      <td>clt</td>\n",
       "      <td>nor</td>\n",
       "      <td>Dolphin Stadium</td>\n",
       "      <td>17</td>\n",
       "      <td>17</td>\n",
       "      <td>31</td>\n",
       "      <td>31</td>\n",
       "      <td>[mia]</td>\n",
       "    </tr>\n",
       "    <tr>\n",
       "      <th>1115</th>\n",
       "      <td>201012130min</td>\n",
       "      <td>min</td>\n",
       "      <td>nyg</td>\n",
       "      <td>Ford Field</td>\n",
       "      <td>3</td>\n",
       "      <td>3</td>\n",
       "      <td>21</td>\n",
       "      <td>21</td>\n",
       "      <td>[det]</td>\n",
       "    </tr>\n",
       "    <tr>\n",
       "      <th>1146</th>\n",
       "      <td>201411240buf</td>\n",
       "      <td>buf</td>\n",
       "      <td>nyj</td>\n",
       "      <td>Ford Field</td>\n",
       "      <td>38</td>\n",
       "      <td>38</td>\n",
       "      <td>3</td>\n",
       "      <td>3</td>\n",
       "      <td>[det]</td>\n",
       "    </tr>\n",
       "    <tr>\n",
       "      <th>346</th>\n",
       "      <td>200710070nyg</td>\n",
       "      <td>nyg</td>\n",
       "      <td>nyj</td>\n",
       "      <td>Giants Stadium</td>\n",
       "      <td>35</td>\n",
       "      <td>35</td>\n",
       "      <td>24</td>\n",
       "      <td>24</td>\n",
       "      <td>[nyj, nyg]</td>\n",
       "    </tr>\n",
       "    <tr>\n",
       "      <th>2797</th>\n",
       "      <td>201602070den</td>\n",
       "      <td>car</td>\n",
       "      <td>den</td>\n",
       "      <td>Levi's Stadium</td>\n",
       "      <td>10</td>\n",
       "      <td>10</td>\n",
       "      <td>24</td>\n",
       "      <td>24</td>\n",
       "      <td>[sfo]</td>\n",
       "    </tr>\n",
       "    <tr>\n",
       "      <th>1994</th>\n",
       "      <td>201202050nwe</td>\n",
       "      <td>nwe</td>\n",
       "      <td>nyg</td>\n",
       "      <td>Lucas Oil Stadium</td>\n",
       "      <td>17</td>\n",
       "      <td>17</td>\n",
       "      <td>21</td>\n",
       "      <td>21</td>\n",
       "      <td>[clt]</td>\n",
       "    </tr>\n",
       "    <tr>\n",
       "      <th>2523</th>\n",
       "      <td>201302030sfo</td>\n",
       "      <td>rav</td>\n",
       "      <td>sfo</td>\n",
       "      <td>Mercedes-Benz Superdome</td>\n",
       "      <td>34</td>\n",
       "      <td>34</td>\n",
       "      <td>31</td>\n",
       "      <td>31</td>\n",
       "      <td>[nor]</td>\n",
       "    </tr>\n",
       "  </tbody>\n",
       "</table>\n",
       "</div>"
      ],
      "text/plain": [
       "           game_id team0 team1                  stadium  H_score_calc  \\\n",
       "2920  201711190rai   rai   nwe           Azteca Stadium             8   \n",
       "2919  201611210rai   rai   htx           Azteca Stadium            27   \n",
       "2142  201102060pit   gnb   pit          Cowboys Stadium            31   \n",
       "1198  201002070clt   clt   nor          Dolphin Stadium            17   \n",
       "1115  201012130min   min   nyg               Ford Field             3   \n",
       "1146  201411240buf   buf   nyj               Ford Field            38   \n",
       "346   200710070nyg   nyg   nyj           Giants Stadium            35   \n",
       "2797  201602070den   car   den           Levi's Stadium            10   \n",
       "1994  201202050nwe   nwe   nyg        Lucas Oil Stadium            17   \n",
       "2523  201302030sfo   rav   sfo  Mercedes-Benz Superdome            34   \n",
       "\n",
       "      team0_score  V_score_calc  team1_score stadium_home_team  \n",
       "2920            8            33           33                []  \n",
       "2919           27            20           20                []  \n",
       "2142           31            25           25             [dal]  \n",
       "1198           17            31           31             [mia]  \n",
       "1115            3            21           21             [det]  \n",
       "1146           38             3            3             [det]  \n",
       "346            35            24           24        [nyj, nyg]  \n",
       "2797           10            24           24             [sfo]  \n",
       "1994           17            21           21             [clt]  \n",
       "2523           34            31           31             [nor]  "
      ]
     },
     "execution_count": 47,
     "metadata": {},
     "output_type": "execute_result"
    }
   ],
   "source": [
    "games_lines_info_homeaway['H_score_calc'] = games_lines_info_homeaway\\\n",
    "                                        [['H_Q1','H_Q2','H_Q3','H_Q4']].sum(axis=1)\n",
    "games_lines_info_homeaway['V_score_calc'] = games_lines_info_homeaway\\\n",
    "                                        [['V_Q1','V_Q2','V_Q3','V_Q4']].sum(axis=1)\n",
    "\n",
    "games_lines_info_homeaway[\n",
    "        games_lines_info_homeaway['home_team'] == 'neutral'\n",
    "    ].loc[:, ['game_id','team0','team1','stadium','H_score_calc',\n",
    "              'team0_score','V_score_calc','team1_score',\n",
    "              'stadium_home_team']\n",
    "    ].sort_values(by='stadium').head(10)\n",
    "                                 \n",
    "games_lines_info_homeaway.drop(['H_score_calc','V_score_calc'], axis=1, inplace=True)"
   ]
  },
  {
   "cell_type": "markdown",
   "metadata": {
    "ExecuteTime": {
     "end_time": "2019-01-04T22:08:24.085048Z",
     "start_time": "2019-01-04T22:08:24.078649Z"
    }
   },
   "source": [
    "#### another method for home teams"
   ]
  },
  {
   "cell_type": "code",
   "execution_count": 48,
   "metadata": {
    "ExecuteTime": {
     "end_time": "2019-01-20T23:20:33.811774Z",
     "start_time": "2019-01-20T23:20:33.773779Z"
    }
   },
   "outputs": [],
   "source": [
    "home_teams = gamelogs[['game_id','game_location','game_loc_team_ref']]\n",
    "loc_neutral = home_teams[home_teams['game_location'] == 'N']\\\n",
    "                    .loc[:, ['game_location','game_id']]\\\n",
    "                    .drop_duplicates()\\\n",
    "                    .set_index('game_id')\n",
    "loc_neutral['game_loc_team_ref'] = None\n",
    "\n",
    "loc_home = home_teams[home_teams['game_location'].isnull()]\\\n",
    "                    .set_index('game_id')\n",
    "loc_all = loc_home.append(loc_neutral).reset_index()"
   ]
  },
  {
   "cell_type": "code",
   "execution_count": 49,
   "metadata": {
    "ExecuteTime": {
     "end_time": "2019-01-20T23:20:34.014663Z",
     "start_time": "2019-01-20T23:20:33.822169Z"
    }
   },
   "outputs": [],
   "source": [
    "loc_all['home_team_src'] = loc_all[['game_location','game_loc_team_ref']].apply(\n",
    "    lambda x: x[1] if x[0] != 'N' else None,\n",
    "    axis=1\n",
    ")\n",
    "loc_all = loc_all[['game_id','home_team_src']]"
   ]
  },
  {
   "cell_type": "code",
   "execution_count": 50,
   "metadata": {
    "ExecuteTime": {
     "end_time": "2019-01-20T23:20:34.087031Z",
     "start_time": "2019-01-20T23:20:34.020409Z"
    }
   },
   "outputs": [],
   "source": [
    "assert games_lines_info_homeaway.shape[0] == games_lines_info_homeaway.merge(\n",
    "        loc_all, left_on='game_id', right_on='game_id'\n",
    "    ).shape[0]\n",
    "\n",
    "games_lines_info_homeaway = games_lines_info_homeaway.merge(\n",
    "        loc_all, left_on='game_id', right_on='game_id'\n",
    "    )"
   ]
  },
  {
   "cell_type": "markdown",
   "metadata": {},
   "source": [
    "#### home team sanity check\n",
    "* home teams mismatch only in games originally tagged as neutral\n",
    "* this includes games in Wembley, \n",
    "* result\n",
    "  * satisfied with the original tagging\n",
    "  * the official tagging in neutral games is unnecessary\n",
    "  * leaving UK/Mexico games, Jets vs. Giants games, and moved games as neutral"
   ]
  },
  {
   "cell_type": "code",
   "execution_count": 51,
   "metadata": {
    "ExecuteTime": {
     "end_time": "2019-01-20T23:20:34.416510Z",
     "start_time": "2019-01-20T23:20:34.098032Z"
    },
    "scrolled": false
   },
   "outputs": [
    {
     "name": "stdout",
     "output_type": "stream",
     "text": [
      "SUPER BOWLS\n"
     ]
    },
    {
     "data": {
      "text/html": [
       "<div>\n",
       "<style scoped>\n",
       "    .dataframe tbody tr th:only-of-type {\n",
       "        vertical-align: middle;\n",
       "    }\n",
       "\n",
       "    .dataframe tbody tr th {\n",
       "        vertical-align: top;\n",
       "    }\n",
       "\n",
       "    .dataframe thead th {\n",
       "        text-align: right;\n",
       "    }\n",
       "</style>\n",
       "<table border=\"1\" class=\"dataframe\">\n",
       "  <thead>\n",
       "    <tr style=\"text-align: right;\">\n",
       "      <th></th>\n",
       "      <th>team0_fullname</th>\n",
       "      <th>team1_fullname</th>\n",
       "      <th>stadium</th>\n",
       "      <th>home_team</th>\n",
       "      <th>home_team_src</th>\n",
       "      <th>game_id</th>\n",
       "      <th>stadium_home_team</th>\n",
       "    </tr>\n",
       "  </thead>\n",
       "  <tbody>\n",
       "    <tr>\n",
       "      <th>966</th>\n",
       "      <td>New England Patriots</td>\n",
       "      <td>New York Giants</td>\n",
       "      <td>University of Phoenix Stadium</td>\n",
       "      <td>neutral</td>\n",
       "      <td>None</td>\n",
       "      <td>200802030nwe</td>\n",
       "      <td>[crd]</td>\n",
       "    </tr>\n",
       "    <tr>\n",
       "      <th>1026</th>\n",
       "      <td>New England Patriots</td>\n",
       "      <td>Seattle Seahawks</td>\n",
       "      <td>University of Phoenix Stadium</td>\n",
       "      <td>neutral</td>\n",
       "      <td>None</td>\n",
       "      <td>201502010sea</td>\n",
       "      <td>[crd]</td>\n",
       "    </tr>\n",
       "    <tr>\n",
       "      <th>1198</th>\n",
       "      <td>Indianapolis Colts</td>\n",
       "      <td>New Orleans Saints</td>\n",
       "      <td>Dolphin Stadium</td>\n",
       "      <td>neutral</td>\n",
       "      <td>None</td>\n",
       "      <td>201002070clt</td>\n",
       "      <td>[mia]</td>\n",
       "    </tr>\n",
       "    <tr>\n",
       "      <th>1570</th>\n",
       "      <td>Arizona Cardinals</td>\n",
       "      <td>Pittsburgh Steelers</td>\n",
       "      <td>Raymond James Stadium</td>\n",
       "      <td>neutral</td>\n",
       "      <td>None</td>\n",
       "      <td>200902010crd</td>\n",
       "      <td>[tam]</td>\n",
       "    </tr>\n",
       "    <tr>\n",
       "      <th>1994</th>\n",
       "      <td>New England Patriots</td>\n",
       "      <td>New York Giants</td>\n",
       "      <td>Lucas Oil Stadium</td>\n",
       "      <td>neutral</td>\n",
       "      <td>None</td>\n",
       "      <td>201202050nwe</td>\n",
       "      <td>[clt]</td>\n",
       "    </tr>\n",
       "    <tr>\n",
       "      <th>2142</th>\n",
       "      <td>Green Bay Packers</td>\n",
       "      <td>Pittsburgh Steelers</td>\n",
       "      <td>Cowboys Stadium</td>\n",
       "      <td>neutral</td>\n",
       "      <td>None</td>\n",
       "      <td>201102060pit</td>\n",
       "      <td>[dal]</td>\n",
       "    </tr>\n",
       "    <tr>\n",
       "      <th>2378</th>\n",
       "      <td>Denver Broncos</td>\n",
       "      <td>Seattle Seahawks</td>\n",
       "      <td>MetLife Stadium</td>\n",
       "      <td>neutral</td>\n",
       "      <td>None</td>\n",
       "      <td>201402020den</td>\n",
       "      <td>[nyj, nyg]</td>\n",
       "    </tr>\n",
       "    <tr>\n",
       "      <th>2523</th>\n",
       "      <td>Baltimore Ravens</td>\n",
       "      <td>San Francisco 49ers</td>\n",
       "      <td>Mercedes-Benz Superdome</td>\n",
       "      <td>neutral</td>\n",
       "      <td>None</td>\n",
       "      <td>201302030sfo</td>\n",
       "      <td>[nor]</td>\n",
       "    </tr>\n",
       "    <tr>\n",
       "      <th>2772</th>\n",
       "      <td>Atlanta Falcons</td>\n",
       "      <td>New England Patriots</td>\n",
       "      <td>NRG Stadium</td>\n",
       "      <td>neutral</td>\n",
       "      <td>None</td>\n",
       "      <td>201702050atl</td>\n",
       "      <td>[htx]</td>\n",
       "    </tr>\n",
       "    <tr>\n",
       "      <th>2797</th>\n",
       "      <td>Carolina Panthers</td>\n",
       "      <td>Denver Broncos</td>\n",
       "      <td>Levi's Stadium</td>\n",
       "      <td>neutral</td>\n",
       "      <td>None</td>\n",
       "      <td>201602070den</td>\n",
       "      <td>[sfo]</td>\n",
       "    </tr>\n",
       "    <tr>\n",
       "      <th>2871</th>\n",
       "      <td>New England Patriots</td>\n",
       "      <td>Philadelphia Eagles</td>\n",
       "      <td>U.S. Bank Stadium</td>\n",
       "      <td>neutral</td>\n",
       "      <td>None</td>\n",
       "      <td>201802040nwe</td>\n",
       "      <td>[min]</td>\n",
       "    </tr>\n",
       "  </tbody>\n",
       "</table>\n",
       "</div>"
      ],
      "text/plain": [
       "            team0_fullname        team1_fullname  \\\n",
       "966   New England Patriots       New York Giants   \n",
       "1026  New England Patriots      Seattle Seahawks   \n",
       "1198    Indianapolis Colts    New Orleans Saints   \n",
       "1570     Arizona Cardinals   Pittsburgh Steelers   \n",
       "1994  New England Patriots       New York Giants   \n",
       "2142     Green Bay Packers   Pittsburgh Steelers   \n",
       "2378        Denver Broncos      Seattle Seahawks   \n",
       "2523      Baltimore Ravens   San Francisco 49ers   \n",
       "2772       Atlanta Falcons  New England Patriots   \n",
       "2797     Carolina Panthers        Denver Broncos   \n",
       "2871  New England Patriots   Philadelphia Eagles   \n",
       "\n",
       "                            stadium home_team home_team_src       game_id  \\\n",
       "966   University of Phoenix Stadium   neutral          None  200802030nwe   \n",
       "1026  University of Phoenix Stadium   neutral          None  201502010sea   \n",
       "1198                Dolphin Stadium   neutral          None  201002070clt   \n",
       "1570          Raymond James Stadium   neutral          None  200902010crd   \n",
       "1994              Lucas Oil Stadium   neutral          None  201202050nwe   \n",
       "2142                Cowboys Stadium   neutral          None  201102060pit   \n",
       "2378                MetLife Stadium   neutral          None  201402020den   \n",
       "2523        Mercedes-Benz Superdome   neutral          None  201302030sfo   \n",
       "2772                    NRG Stadium   neutral          None  201702050atl   \n",
       "2797                 Levi's Stadium   neutral          None  201602070den   \n",
       "2871              U.S. Bank Stadium   neutral          None  201802040nwe   \n",
       "\n",
       "     stadium_home_team  \n",
       "966              [crd]  \n",
       "1026             [crd]  \n",
       "1198             [mia]  \n",
       "1570             [tam]  \n",
       "1994             [clt]  \n",
       "2142             [dal]  \n",
       "2378        [nyj, nyg]  \n",
       "2523             [nor]  \n",
       "2772             [htx]  \n",
       "2797             [sfo]  \n",
       "2871             [min]  "
      ]
     },
     "execution_count": 51,
     "metadata": {},
     "output_type": "execute_result"
    },
    {
     "name": "stdout",
     "output_type": "stream",
     "text": [
      "GAMES TAGGED AS NEUTRAL\n"
     ]
    },
    {
     "data": {
      "text/html": [
       "<div>\n",
       "<style scoped>\n",
       "    .dataframe tbody tr th:only-of-type {\n",
       "        vertical-align: middle;\n",
       "    }\n",
       "\n",
       "    .dataframe tbody tr th {\n",
       "        vertical-align: top;\n",
       "    }\n",
       "\n",
       "    .dataframe thead th {\n",
       "        text-align: right;\n",
       "    }\n",
       "</style>\n",
       "<table border=\"1\" class=\"dataframe\">\n",
       "  <thead>\n",
       "    <tr style=\"text-align: right;\">\n",
       "      <th></th>\n",
       "      <th>team0_fullname</th>\n",
       "      <th>team1_fullname</th>\n",
       "      <th>stadium</th>\n",
       "      <th>home_team</th>\n",
       "      <th>home_team_src</th>\n",
       "      <th>game_id</th>\n",
       "      <th>stadium_home_team</th>\n",
       "    </tr>\n",
       "  </thead>\n",
       "  <tbody>\n",
       "    <tr>\n",
       "      <th>2920</th>\n",
       "      <td>Oakland Raiders</td>\n",
       "      <td>New England Patriots</td>\n",
       "      <td>Azteca Stadium</td>\n",
       "      <td>neutral</td>\n",
       "      <td>rai</td>\n",
       "      <td>201711190rai</td>\n",
       "      <td>[]</td>\n",
       "    </tr>\n",
       "    <tr>\n",
       "      <th>2919</th>\n",
       "      <td>Oakland Raiders</td>\n",
       "      <td>Houston Texans</td>\n",
       "      <td>Azteca Stadium</td>\n",
       "      <td>neutral</td>\n",
       "      <td>rai</td>\n",
       "      <td>201611210rai</td>\n",
       "      <td>[]</td>\n",
       "    </tr>\n",
       "    <tr>\n",
       "      <th>1115</th>\n",
       "      <td>Minnesota Vikings</td>\n",
       "      <td>New York Giants</td>\n",
       "      <td>Ford Field</td>\n",
       "      <td>neutral</td>\n",
       "      <td>min</td>\n",
       "      <td>201012130min</td>\n",
       "      <td>[det]</td>\n",
       "    </tr>\n",
       "    <tr>\n",
       "      <th>1146</th>\n",
       "      <td>Buffalo Bills</td>\n",
       "      <td>New York Jets</td>\n",
       "      <td>Ford Field</td>\n",
       "      <td>neutral</td>\n",
       "      <td>buf</td>\n",
       "      <td>201411240buf</td>\n",
       "      <td>[det]</td>\n",
       "    </tr>\n",
       "    <tr>\n",
       "      <th>346</th>\n",
       "      <td>New York Giants</td>\n",
       "      <td>New York Jets</td>\n",
       "      <td>Giants Stadium</td>\n",
       "      <td>neutral</td>\n",
       "      <td>nyg</td>\n",
       "      <td>200710070nyg</td>\n",
       "      <td>[nyj, nyg]</td>\n",
       "    </tr>\n",
       "    <tr>\n",
       "      <th>2406</th>\n",
       "      <td>New York Giants</td>\n",
       "      <td>New York Jets</td>\n",
       "      <td>MetLife Stadium</td>\n",
       "      <td>neutral</td>\n",
       "      <td>nyg</td>\n",
       "      <td>201512060nyg</td>\n",
       "      <td>[nyj, nyg]</td>\n",
       "    </tr>\n",
       "    <tr>\n",
       "      <th>2343</th>\n",
       "      <td>New York Jets</td>\n",
       "      <td>New York Giants</td>\n",
       "      <td>MetLife Stadium</td>\n",
       "      <td>neutral</td>\n",
       "      <td>nyj</td>\n",
       "      <td>201112240nyj</td>\n",
       "      <td>[nyj, nyg]</td>\n",
       "    </tr>\n",
       "    <tr>\n",
       "      <th>2918</th>\n",
       "      <td>Cleveland Browns</td>\n",
       "      <td>Minnesota Vikings</td>\n",
       "      <td>Twickenham Stadium</td>\n",
       "      <td>neutral</td>\n",
       "      <td>cle</td>\n",
       "      <td>201710290cle</td>\n",
       "      <td>[]</td>\n",
       "    </tr>\n",
       "    <tr>\n",
       "      <th>2917</th>\n",
       "      <td>Los Angeles Rams</td>\n",
       "      <td>Arizona Cardinals</td>\n",
       "      <td>Twickenham Stadium</td>\n",
       "      <td>neutral</td>\n",
       "      <td>ram</td>\n",
       "      <td>201710220ram</td>\n",
       "      <td>[]</td>\n",
       "    </tr>\n",
       "    <tr>\n",
       "      <th>2916</th>\n",
       "      <td>Los Angeles Rams</td>\n",
       "      <td>New York Giants</td>\n",
       "      <td>Twickenham Stadium</td>\n",
       "      <td>neutral</td>\n",
       "      <td>ram</td>\n",
       "      <td>201610230ram</td>\n",
       "      <td>[]</td>\n",
       "    </tr>\n",
       "    <tr>\n",
       "      <th>1943</th>\n",
       "      <td>Tampa Bay Buccaneers</td>\n",
       "      <td>New England Patriots</td>\n",
       "      <td>Wembley Stadium</td>\n",
       "      <td>neutral</td>\n",
       "      <td>tam</td>\n",
       "      <td>200910250tam</td>\n",
       "      <td>[]</td>\n",
       "    </tr>\n",
       "    <tr>\n",
       "      <th>1958</th>\n",
       "      <td>Miami Dolphins</td>\n",
       "      <td>New Orleans Saints</td>\n",
       "      <td>Wembley Stadium</td>\n",
       "      <td>neutral</td>\n",
       "      <td>mia</td>\n",
       "      <td>201710010mia</td>\n",
       "      <td>[]</td>\n",
       "    </tr>\n",
       "    <tr>\n",
       "      <th>1957</th>\n",
       "      <td>Jacksonville Jaguars</td>\n",
       "      <td>Baltimore Ravens</td>\n",
       "      <td>Wembley Stadium</td>\n",
       "      <td>neutral</td>\n",
       "      <td>jax</td>\n",
       "      <td>201709240jax</td>\n",
       "      <td>[]</td>\n",
       "    </tr>\n",
       "    <tr>\n",
       "      <th>1956</th>\n",
       "      <td>Cincinnati Bengals</td>\n",
       "      <td>Washington Redskins</td>\n",
       "      <td>Wembley Stadium</td>\n",
       "      <td>neutral</td>\n",
       "      <td>cin</td>\n",
       "      <td>201610300cin</td>\n",
       "      <td>[]</td>\n",
       "    </tr>\n",
       "    <tr>\n",
       "      <th>1955</th>\n",
       "      <td>Jacksonville Jaguars</td>\n",
       "      <td>Indianapolis Colts</td>\n",
       "      <td>Wembley Stadium</td>\n",
       "      <td>neutral</td>\n",
       "      <td>jax</td>\n",
       "      <td>201610020jax</td>\n",
       "      <td>[]</td>\n",
       "    </tr>\n",
       "    <tr>\n",
       "      <th>1942</th>\n",
       "      <td>New Orleans Saints</td>\n",
       "      <td>San Diego Chargers</td>\n",
       "      <td>Wembley Stadium</td>\n",
       "      <td>neutral</td>\n",
       "      <td>nor</td>\n",
       "      <td>200810260nor</td>\n",
       "      <td>[]</td>\n",
       "    </tr>\n",
       "    <tr>\n",
       "      <th>1954</th>\n",
       "      <td>Kansas City Chiefs</td>\n",
       "      <td>Detroit Lions</td>\n",
       "      <td>Wembley Stadium</td>\n",
       "      <td>neutral</td>\n",
       "      <td>kan</td>\n",
       "      <td>201511010kan</td>\n",
       "      <td>[]</td>\n",
       "    </tr>\n",
       "    <tr>\n",
       "      <th>1952</th>\n",
       "      <td>Miami Dolphins</td>\n",
       "      <td>New York Jets</td>\n",
       "      <td>Wembley Stadium</td>\n",
       "      <td>neutral</td>\n",
       "      <td>mia</td>\n",
       "      <td>201510040mia</td>\n",
       "      <td>[]</td>\n",
       "    </tr>\n",
       "    <tr>\n",
       "      <th>1941</th>\n",
       "      <td>Miami Dolphins</td>\n",
       "      <td>New York Giants</td>\n",
       "      <td>Wembley Stadium</td>\n",
       "      <td>neutral</td>\n",
       "      <td>mia</td>\n",
       "      <td>200710280mia</td>\n",
       "      <td>[]</td>\n",
       "    </tr>\n",
       "    <tr>\n",
       "      <th>1950</th>\n",
       "      <td>Atlanta Falcons</td>\n",
       "      <td>Detroit Lions</td>\n",
       "      <td>Wembley Stadium</td>\n",
       "      <td>neutral</td>\n",
       "      <td>atl</td>\n",
       "      <td>201410260atl</td>\n",
       "      <td>[]</td>\n",
       "    </tr>\n",
       "    <tr>\n",
       "      <th>1949</th>\n",
       "      <td>Oakland Raiders</td>\n",
       "      <td>Miami Dolphins</td>\n",
       "      <td>Wembley Stadium</td>\n",
       "      <td>neutral</td>\n",
       "      <td>rai</td>\n",
       "      <td>201409280rai</td>\n",
       "      <td>[]</td>\n",
       "    </tr>\n",
       "    <tr>\n",
       "      <th>1948</th>\n",
       "      <td>Jacksonville Jaguars</td>\n",
       "      <td>San Francisco 49ers</td>\n",
       "      <td>Wembley Stadium</td>\n",
       "      <td>neutral</td>\n",
       "      <td>jax</td>\n",
       "      <td>201310270jax</td>\n",
       "      <td>[]</td>\n",
       "    </tr>\n",
       "    <tr>\n",
       "      <th>1947</th>\n",
       "      <td>Minnesota Vikings</td>\n",
       "      <td>Pittsburgh Steelers</td>\n",
       "      <td>Wembley Stadium</td>\n",
       "      <td>neutral</td>\n",
       "      <td>min</td>\n",
       "      <td>201309290min</td>\n",
       "      <td>[]</td>\n",
       "    </tr>\n",
       "    <tr>\n",
       "      <th>1946</th>\n",
       "      <td>St. Louis Rams</td>\n",
       "      <td>New England Patriots</td>\n",
       "      <td>Wembley Stadium</td>\n",
       "      <td>neutral</td>\n",
       "      <td>ram</td>\n",
       "      <td>201210280ram</td>\n",
       "      <td>[]</td>\n",
       "    </tr>\n",
       "    <tr>\n",
       "      <th>1945</th>\n",
       "      <td>Tampa Bay Buccaneers</td>\n",
       "      <td>Chicago Bears</td>\n",
       "      <td>Wembley Stadium</td>\n",
       "      <td>neutral</td>\n",
       "      <td>tam</td>\n",
       "      <td>201110230tam</td>\n",
       "      <td>[]</td>\n",
       "    </tr>\n",
       "    <tr>\n",
       "      <th>1944</th>\n",
       "      <td>San Francisco 49ers</td>\n",
       "      <td>Denver Broncos</td>\n",
       "      <td>Wembley Stadium</td>\n",
       "      <td>neutral</td>\n",
       "      <td>sfo</td>\n",
       "      <td>201010310sfo</td>\n",
       "      <td>[]</td>\n",
       "    </tr>\n",
       "    <tr>\n",
       "      <th>1953</th>\n",
       "      <td>Jacksonville Jaguars</td>\n",
       "      <td>Buffalo Bills</td>\n",
       "      <td>Wembley Stadium</td>\n",
       "      <td>neutral</td>\n",
       "      <td>jax</td>\n",
       "      <td>201510250jax</td>\n",
       "      <td>[]</td>\n",
       "    </tr>\n",
       "    <tr>\n",
       "      <th>1951</th>\n",
       "      <td>Jacksonville Jaguars</td>\n",
       "      <td>Dallas Cowboys</td>\n",
       "      <td>Wembley Stadium</td>\n",
       "      <td>neutral</td>\n",
       "      <td>jax</td>\n",
       "      <td>201411090jax</td>\n",
       "      <td>[]</td>\n",
       "    </tr>\n",
       "  </tbody>\n",
       "</table>\n",
       "</div>"
      ],
      "text/plain": [
       "            team0_fullname        team1_fullname             stadium  \\\n",
       "2920       Oakland Raiders  New England Patriots      Azteca Stadium   \n",
       "2919       Oakland Raiders        Houston Texans      Azteca Stadium   \n",
       "1115     Minnesota Vikings       New York Giants          Ford Field   \n",
       "1146         Buffalo Bills         New York Jets          Ford Field   \n",
       "346        New York Giants         New York Jets      Giants Stadium   \n",
       "2406       New York Giants         New York Jets     MetLife Stadium   \n",
       "2343         New York Jets       New York Giants     MetLife Stadium   \n",
       "2918      Cleveland Browns     Minnesota Vikings  Twickenham Stadium   \n",
       "2917      Los Angeles Rams     Arizona Cardinals  Twickenham Stadium   \n",
       "2916      Los Angeles Rams       New York Giants  Twickenham Stadium   \n",
       "1943  Tampa Bay Buccaneers  New England Patriots     Wembley Stadium   \n",
       "1958        Miami Dolphins    New Orleans Saints     Wembley Stadium   \n",
       "1957  Jacksonville Jaguars      Baltimore Ravens     Wembley Stadium   \n",
       "1956    Cincinnati Bengals   Washington Redskins     Wembley Stadium   \n",
       "1955  Jacksonville Jaguars    Indianapolis Colts     Wembley Stadium   \n",
       "1942    New Orleans Saints    San Diego Chargers     Wembley Stadium   \n",
       "1954    Kansas City Chiefs         Detroit Lions     Wembley Stadium   \n",
       "1952        Miami Dolphins         New York Jets     Wembley Stadium   \n",
       "1941        Miami Dolphins       New York Giants     Wembley Stadium   \n",
       "1950       Atlanta Falcons         Detroit Lions     Wembley Stadium   \n",
       "1949       Oakland Raiders        Miami Dolphins     Wembley Stadium   \n",
       "1948  Jacksonville Jaguars   San Francisco 49ers     Wembley Stadium   \n",
       "1947     Minnesota Vikings   Pittsburgh Steelers     Wembley Stadium   \n",
       "1946        St. Louis Rams  New England Patriots     Wembley Stadium   \n",
       "1945  Tampa Bay Buccaneers         Chicago Bears     Wembley Stadium   \n",
       "1944   San Francisco 49ers        Denver Broncos     Wembley Stadium   \n",
       "1953  Jacksonville Jaguars         Buffalo Bills     Wembley Stadium   \n",
       "1951  Jacksonville Jaguars        Dallas Cowboys     Wembley Stadium   \n",
       "\n",
       "     home_team home_team_src       game_id stadium_home_team  \n",
       "2920   neutral           rai  201711190rai                []  \n",
       "2919   neutral           rai  201611210rai                []  \n",
       "1115   neutral           min  201012130min             [det]  \n",
       "1146   neutral           buf  201411240buf             [det]  \n",
       "346    neutral           nyg  200710070nyg        [nyj, nyg]  \n",
       "2406   neutral           nyg  201512060nyg        [nyj, nyg]  \n",
       "2343   neutral           nyj  201112240nyj        [nyj, nyg]  \n",
       "2918   neutral           cle  201710290cle                []  \n",
       "2917   neutral           ram  201710220ram                []  \n",
       "2916   neutral           ram  201610230ram                []  \n",
       "1943   neutral           tam  200910250tam                []  \n",
       "1958   neutral           mia  201710010mia                []  \n",
       "1957   neutral           jax  201709240jax                []  \n",
       "1956   neutral           cin  201610300cin                []  \n",
       "1955   neutral           jax  201610020jax                []  \n",
       "1942   neutral           nor  200810260nor                []  \n",
       "1954   neutral           kan  201511010kan                []  \n",
       "1952   neutral           mia  201510040mia                []  \n",
       "1941   neutral           mia  200710280mia                []  \n",
       "1950   neutral           atl  201410260atl                []  \n",
       "1949   neutral           rai  201409280rai                []  \n",
       "1948   neutral           jax  201310270jax                []  \n",
       "1947   neutral           min  201309290min                []  \n",
       "1946   neutral           ram  201210280ram                []  \n",
       "1945   neutral           tam  201110230tam                []  \n",
       "1944   neutral           sfo  201010310sfo                []  \n",
       "1953   neutral           jax  201510250jax                []  \n",
       "1951   neutral           jax  201411090jax                []  "
      ]
     },
     "execution_count": 51,
     "metadata": {},
     "output_type": "execute_result"
    }
   ],
   "source": [
    "mismatches = games_lines_info_homeaway[\n",
    "    games_lines_info_homeaway[['home_team','home_team_src']].apply(\n",
    "        lambda x: x[0] != x[1], \n",
    "        axis=1\n",
    "    )][['team0_fullname','team1_fullname','stadium','home_team',\n",
    "     'home_team_src','game_id','stadium_home_team']]\n",
    "\n",
    "print 'SUPER BOWLS'\n",
    "mismatches[\n",
    "    (mismatches['home_team'] == 'neutral')\n",
    "    & (mismatches['home_team_src'].apply(lambda x: x is None))\n",
    "]\n",
    "\n",
    "print 'GAMES TAGGED AS NEUTRAL'\n",
    "mismatches[\n",
    "    (mismatches['home_team_src'].apply(lambda x: x is not None))\n",
    "].sort_values(by='stadium')"
   ]
  },
  {
   "cell_type": "code",
   "execution_count": 52,
   "metadata": {
    "ExecuteTime": {
     "end_time": "2019-01-20T23:20:34.432265Z",
     "start_time": "2019-01-20T23:20:34.421715Z"
    }
   },
   "outputs": [],
   "source": [
    "games_lines_info_homeaway.drop('home_team_src', axis=1, inplace=True)"
   ]
  },
  {
   "cell_type": "markdown",
   "metadata": {},
   "source": [
    "### Divisions"
   ]
  },
  {
   "cell_type": "code",
   "execution_count": 53,
   "metadata": {
    "ExecuteTime": {
     "end_time": "2019-01-20T23:20:34.450167Z",
     "start_time": "2019-01-20T23:20:34.438119Z"
    }
   },
   "outputs": [],
   "source": [
    "divisions_df = pd.read_csv('team_divisions.csv', index_col='idx')"
   ]
  },
  {
   "cell_type": "code",
   "execution_count": 54,
   "metadata": {
    "ExecuteTime": {
     "end_time": "2019-01-20T23:20:34.521585Z",
     "start_time": "2019-01-20T23:20:34.454596Z"
    }
   },
   "outputs": [],
   "source": [
    "before = games_lines_info_homeaway.shape[0]\n",
    "for nteam in [0,1]:\n",
    "    games_lines_info_homeaway = games_lines_info_homeaway.merge(\n",
    "        divisions_df.rename(\n",
    "            columns={'division': 'team{}_division'.format(nteam)}\n",
    "        ),\n",
    "        left_on=['season','team{}_fullname'.format(nteam)],\n",
    "        right_on=['season','team']\n",
    "    ).drop('team', axis=1)\n",
    "    assert games_lines_info_homeaway.shape[0] == before"
   ]
  },
  {
   "cell_type": "markdown",
   "metadata": {},
   "source": [
    "### Re-order columns"
   ]
  },
  {
   "cell_type": "code",
   "execution_count": 55,
   "metadata": {
    "ExecuteTime": {
     "end_time": "2019-01-20T23:20:34.537139Z",
     "start_time": "2019-01-20T23:20:34.525037Z"
    }
   },
   "outputs": [],
   "source": [
    "def reorder_cols(df, front_cols):\n",
    "    '''takes a DF and list of columns \n",
    "    to move to the front (in order).\n",
    "    returns DF'''\n",
    "    return df[\n",
    "        front_cols \n",
    "        + filter(\n",
    "            lambda x: x not in front_cols, \n",
    "            df.columns\n",
    "        )]\n",
    "    \n",
    "front_cols = ['game_id','season','week_id']\n",
    "base_df = reorder_cols(games_lines_info_homeaway, front_cols)"
   ]
  },
  {
   "cell_type": "markdown",
   "metadata": {},
   "source": [
    "## Write Hive Table: __games_denorm__"
   ]
  },
  {
   "cell_type": "markdown",
   "metadata": {},
   "source": [
    "### Clean up column names\n",
    "* make all columns lowercase\n",
    "* change all team0 --> h, team1 --> v"
   ]
  },
  {
   "cell_type": "code",
   "execution_count": 56,
   "metadata": {
    "ExecuteTime": {
     "end_time": "2019-01-20T23:20:34.633958Z",
     "start_time": "2019-01-20T23:20:34.540693Z"
    }
   },
   "outputs": [],
   "source": [
    "## make columns all lowercase\n",
    "base_df.columns = map(lambda x: x.lower(), base_df.columns)\n",
    "\n",
    "## rename team0 and team1 to h and v, respectively\n",
    "team_fields = filter(\n",
    "    lambda x: x.startswith('team0_') or x.startswith('team1_'), \n",
    "    base_df.columns\n",
    ")\n",
    "\n",
    "team_field_rename = dict(\n",
    "    map(\n",
    "        lambda x: (x, x.replace('team0_','h_').replace('team1_','v_')), \n",
    "        team_fields\n",
    "    )\n",
    ")\n",
    "\n",
    "## modify team IDs to match the same convention\n",
    "team_field_rename['team0'] = 'h_team_id'\n",
    "team_field_rename['team1'] = 'v_team_id'\n",
    "\n",
    "## execute name changes\n",
    "base_df.rename(columns=team_field_rename, inplace=True)\n",
    "\n",
    "## don't need coach_raw (PFR link)\n",
    "base_df = base_df.drop(['h_coach_raw','v_coach_raw'], axis=1)"
   ]
  },
  {
   "cell_type": "code",
   "execution_count": 57,
   "metadata": {
    "ExecuteTime": {
     "end_time": "2019-01-20T23:20:34.649234Z",
     "start_time": "2019-01-20T23:20:34.639662Z"
    }
   },
   "outputs": [
    {
     "name": "stdout",
     "output_type": "stream",
     "text": [
      "RENAMING\n",
      "team0\t->\th_team_id\n",
      "team0_city\t->\th_city\n",
      "team0_coach_id\t->\th_coach_id\n",
      "team0_coach_name\t->\th_coach_name\n",
      "team0_coach_raw\t->\th_coach_raw\n",
      "team0_division\t->\th_division\n",
      "team0_fullname\t->\th_fullname\n",
      "team0_link\t->\th_link\n",
      "team0_name\t->\th_name\n",
      "team0_score\t->\th_score\n",
      "team1\t->\tv_team_id\n",
      "team1_city\t->\tv_city\n",
      "team1_coach_id\t->\tv_coach_id\n",
      "team1_coach_name\t->\tv_coach_name\n",
      "team1_coach_raw\t->\tv_coach_raw\n",
      "team1_division\t->\tv_division\n",
      "team1_fullname\t->\tv_fullname\n",
      "team1_link\t->\tv_link\n",
      "team1_name\t->\tv_name\n",
      "team1_score\t->\tv_score\n"
     ]
    }
   ],
   "source": [
    "print 'RENAMING'\n",
    "for k in sorted(team_field_rename.keys()):\n",
    "    print '{}\\t->\\t{}'.format(k, team_field_rename[k])"
   ]
  },
  {
   "cell_type": "code",
   "execution_count": 58,
   "metadata": {
    "ExecuteTime": {
     "end_time": "2019-01-20T23:20:39.192884Z",
     "start_time": "2019-01-20T23:20:34.653692Z"
    }
   },
   "outputs": [],
   "source": [
    "spark.createDataFrame(\n",
    "        cast_dtypes(\n",
    "            base_df\n",
    "        )\n",
    "    ).write.mode('overwrite').saveAsTable('games_denorm')"
   ]
  },
  {
   "cell_type": "markdown",
   "metadata": {},
   "source": [
    "## Create Denormalized Schema and Write Hive Tables"
   ]
  },
  {
   "cell_type": "code",
   "execution_count": 59,
   "metadata": {
    "ExecuteTime": {
     "end_time": "2019-01-20T23:20:39.212941Z",
     "start_time": "2019-01-20T23:20:39.198124Z"
    }
   },
   "outputs": [],
   "source": [
    "## union h and v fields and get distinct values\n",
    "def combine_h_v(full_df, all_fields, non_team_fields):\n",
    "    '''given a DataFrame with 2 teams:\n",
    "    * split into 2 DFs by h and v\n",
    "    * rename and align schemas\n",
    "    * union\n",
    "    * drop duplicates\n",
    "    * return a DataFrame to be converted into Hive table'''\n",
    "    for team_i in ['h','v']:\n",
    "        prefix = '{}_'.format(team_i)\n",
    "        fields = [\n",
    "            a for a in all_fields\n",
    "            if a.startswith(prefix)\n",
    "        ]\n",
    "        curr_table = full_df[non_team_fields + fields]\n",
    "        ## team out team0 and team1 to align schemas\n",
    "        field_map = dict(map(\n",
    "                lambda x: ( x, '_'.join(x.split('_')[1:]) ), \n",
    "                fields\n",
    "            ))\n",
    "        curr_table = curr_table.rename(columns=field_map)\n",
    "\n",
    "        if team_i == 'h':\n",
    "            curr_df = curr_table\n",
    "        else:\n",
    "            curr_df = curr_df.append(\n",
    "                curr_table[curr_df.columns]\n",
    "            ).reset_index(drop=True)\n",
    "\n",
    "    return curr_df.drop_duplicates()"
   ]
  },
  {
   "cell_type": "markdown",
   "metadata": {},
   "source": [
    "### __team_season__\n",
    "* #### primary key: (season, team_id)\n",
    "* #### foreign key: team_id --> game(season, h_team_id)\n",
    "* #### foreign key: team_id --> game(season, v_team_id)"
   ]
  },
  {
   "cell_type": "code",
   "execution_count": 60,
   "metadata": {
    "ExecuteTime": {
     "end_time": "2019-01-20T23:20:39.310894Z",
     "start_time": "2019-01-20T23:20:39.218565Z"
    }
   },
   "outputs": [
    {
     "data": {
      "text/html": [
       "<div>\n",
       "<style scoped>\n",
       "    .dataframe tbody tr th:only-of-type {\n",
       "        vertical-align: middle;\n",
       "    }\n",
       "\n",
       "    .dataframe tbody tr th {\n",
       "        vertical-align: top;\n",
       "    }\n",
       "\n",
       "    .dataframe thead th {\n",
       "        text-align: right;\n",
       "    }\n",
       "</style>\n",
       "<table border=\"1\" class=\"dataframe\">\n",
       "  <thead>\n",
       "    <tr style=\"text-align: right;\">\n",
       "      <th></th>\n",
       "      <th>season</th>\n",
       "      <th>team_id</th>\n",
       "      <th>link</th>\n",
       "      <th>name</th>\n",
       "      <th>fullname</th>\n",
       "      <th>city</th>\n",
       "      <th>division</th>\n",
       "    </tr>\n",
       "  </thead>\n",
       "  <tbody>\n",
       "    <tr>\n",
       "      <th>0</th>\n",
       "      <td>2007</td>\n",
       "      <td>clt</td>\n",
       "      <td>/teams/clt/2007.htm</td>\n",
       "      <td>Colts</td>\n",
       "      <td>Indianapolis Colts</td>\n",
       "      <td>Indianapolis</td>\n",
       "      <td>AFC South</td>\n",
       "    </tr>\n",
       "    <tr>\n",
       "      <th>1</th>\n",
       "      <td>2007</td>\n",
       "      <td>htx</td>\n",
       "      <td>/teams/htx/2007.htm</td>\n",
       "      <td>Texans</td>\n",
       "      <td>Houston Texans</td>\n",
       "      <td>Houston</td>\n",
       "      <td>AFC South</td>\n",
       "    </tr>\n",
       "    <tr>\n",
       "      <th>2</th>\n",
       "      <td>2007</td>\n",
       "      <td>sea</td>\n",
       "      <td>/teams/sea/2007.htm</td>\n",
       "      <td>Seahawks</td>\n",
       "      <td>Seattle Seahawks</td>\n",
       "      <td>Seattle</td>\n",
       "      <td>NFC West</td>\n",
       "    </tr>\n",
       "    <tr>\n",
       "      <th>3</th>\n",
       "      <td>2007</td>\n",
       "      <td>sfo</td>\n",
       "      <td>/teams/sfo/2007.htm</td>\n",
       "      <td>49ers</td>\n",
       "      <td>San Francisco 49ers</td>\n",
       "      <td>San Francisco</td>\n",
       "      <td>NFC West</td>\n",
       "    </tr>\n",
       "    <tr>\n",
       "      <th>4</th>\n",
       "      <td>2007</td>\n",
       "      <td>car</td>\n",
       "      <td>/teams/car/2007.htm</td>\n",
       "      <td>Panthers</td>\n",
       "      <td>Carolina Panthers</td>\n",
       "      <td>Carolina</td>\n",
       "      <td>NFC South</td>\n",
       "    </tr>\n",
       "  </tbody>\n",
       "</table>\n",
       "</div>"
      ],
      "text/plain": [
       "   season team_id                 link      name             fullname  \\\n",
       "0    2007     clt  /teams/clt/2007.htm     Colts   Indianapolis Colts   \n",
       "1    2007     htx  /teams/htx/2007.htm    Texans       Houston Texans   \n",
       "2    2007     sea  /teams/sea/2007.htm  Seahawks     Seattle Seahawks   \n",
       "3    2007     sfo  /teams/sfo/2007.htm     49ers  San Francisco 49ers   \n",
       "4    2007     car  /teams/car/2007.htm  Panthers    Carolina Panthers   \n",
       "\n",
       "            city   division  \n",
       "0   Indianapolis  AFC South  \n",
       "1        Houston  AFC South  \n",
       "2        Seattle   NFC West  \n",
       "3  San Francisco   NFC West  \n",
       "4       Carolina  NFC South  "
      ]
     },
     "execution_count": 60,
     "metadata": {},
     "output_type": "execute_result"
    }
   ],
   "source": [
    "key = ['season','team_id']\n",
    "team_season_fields = [\n",
    "    'season',\n",
    "    'h_team_id','h_link','h_name','h_fullname','h_city','h_division',\n",
    "    'v_team_id','v_link','v_name','v_fullname','v_city','v_division'\n",
    "]\n",
    "\n",
    "team_season_df = combine_h_v(base_df.copy(), team_season_fields, ['season'])\n",
    "\n",
    "## assert that every season has the same amount of teams\n",
    "assert team_season_df['season'].value_counts().min() \\\n",
    "        == team_season_df['season'].value_counts().max()\n",
    "\n",
    "## assert key (season, link) is unique\n",
    "assert team_season_df.groupby(key).size().max() == 1\n",
    "for h_v in ['h','v']:\n",
    "    fkey = ['season','{}_team_id'.format(h_v)]\n",
    "    assert base_df.shape[0] == base_df[fkey].merge(\n",
    "                                        team_season_df, left_on=fkey, \n",
    "                                        right_on=key\n",
    "                                    ).shape[0]\n",
    "\n",
    "\n",
    "team_season_df.head()"
   ]
  },
  {
   "cell_type": "code",
   "execution_count": 61,
   "metadata": {
    "ExecuteTime": {
     "end_time": "2019-01-20T23:20:39.333849Z",
     "start_time": "2019-01-20T23:20:39.316273Z"
    },
    "scrolled": true
   },
   "outputs": [
    {
     "data": {
      "text/plain": [
       "32"
      ]
     },
     "execution_count": 61,
     "metadata": {},
     "output_type": "execute_result"
    },
    {
     "data": {
      "text/plain": [
       "2017    32\n",
       "2016    32\n",
       "2015    32\n",
       "2014    32\n",
       "2013    32\n",
       "2012    32\n",
       "2011    32\n",
       "2010    32\n",
       "2009    32\n",
       "2008    32\n",
       "2007    32\n",
       "Name: season, dtype: int64"
      ]
     },
     "execution_count": 61,
     "metadata": {},
     "output_type": "execute_result"
    }
   ],
   "source": [
    "team_season_df['name'].value_counts().shape[0]\n",
    "team_season_df['season'].value_counts()"
   ]
  },
  {
   "cell_type": "code",
   "execution_count": 62,
   "metadata": {
    "ExecuteTime": {
     "end_time": "2019-01-20T23:20:39.358164Z",
     "start_time": "2019-01-20T23:20:39.338976Z"
    }
   },
   "outputs": [
    {
     "data": {
      "text/plain": [
       "352"
      ]
     },
     "execution_count": 62,
     "metadata": {},
     "output_type": "execute_result"
    },
    {
     "data": {
      "text/plain": [
       "352"
      ]
     },
     "execution_count": 62,
     "metadata": {},
     "output_type": "execute_result"
    }
   ],
   "source": [
    "team_season_df.shape[0]\n",
    "team_season_df = team_season_df.drop_duplicates()\n",
    "team_season_df.shape[0]"
   ]
  },
  {
   "cell_type": "code",
   "execution_count": 63,
   "metadata": {
    "ExecuteTime": {
     "end_time": "2019-01-20T23:20:40.056602Z",
     "start_time": "2019-01-20T23:20:39.363881Z"
    }
   },
   "outputs": [],
   "source": [
    "spark.createDataFrame(\n",
    "    cast_dtypes(team_season_df)\n",
    ").write.mode('overwrite').saveAsTable('team_season')"
   ]
  },
  {
   "cell_type": "code",
   "execution_count": 64,
   "metadata": {
    "ExecuteTime": {
     "end_time": "2019-01-20T23:20:40.071916Z",
     "start_time": "2019-01-20T23:20:40.063295Z"
    }
   },
   "outputs": [],
   "source": [
    "base_df_remaining = set(base_df.columns) \\\n",
    "                    - set(team_season_fields) \\\n",
    "                    | set(['season','h_team_id','v_team_id'])"
   ]
  },
  {
   "cell_type": "markdown",
   "metadata": {},
   "source": [
    "### __coach__\n",
    "* #### primary key: coach_id\n",
    "* #### foreign key: coach_id --> game(h_coach_id)\n",
    "* #### foreign key: coach_id --> game(v_coach_id)  "
   ]
  },
  {
   "cell_type": "code",
   "execution_count": 65,
   "metadata": {
    "ExecuteTime": {
     "end_time": "2019-01-20T23:20:40.150954Z",
     "start_time": "2019-01-20T23:20:40.079217Z"
    },
    "run_control": {
     "marked": true
    }
   },
   "outputs": [
    {
     "data": {
      "text/html": [
       "<div>\n",
       "<style scoped>\n",
       "    .dataframe tbody tr th:only-of-type {\n",
       "        vertical-align: middle;\n",
       "    }\n",
       "\n",
       "    .dataframe tbody tr th {\n",
       "        vertical-align: top;\n",
       "    }\n",
       "\n",
       "    .dataframe thead th {\n",
       "        text-align: right;\n",
       "    }\n",
       "</style>\n",
       "<table border=\"1\" class=\"dataframe\">\n",
       "  <thead>\n",
       "    <tr style=\"text-align: right;\">\n",
       "      <th></th>\n",
       "      <th>coach_name</th>\n",
       "      <th>coach_id</th>\n",
       "    </tr>\n",
       "  </thead>\n",
       "  <tbody>\n",
       "    <tr>\n",
       "      <th>0</th>\n",
       "      <td>Tony Dungy</td>\n",
       "      <td>/coaches/DungTo0.htm</td>\n",
       "    </tr>\n",
       "    <tr>\n",
       "      <th>1</th>\n",
       "      <td>Gary Kubiak</td>\n",
       "      <td>/coaches/KubiGa0.htm</td>\n",
       "    </tr>\n",
       "    <tr>\n",
       "      <th>2</th>\n",
       "      <td>Mike Holmgren</td>\n",
       "      <td>/coaches/HolmMi0.htm</td>\n",
       "    </tr>\n",
       "    <tr>\n",
       "      <th>3</th>\n",
       "      <td>Mike Nolan</td>\n",
       "      <td>/coaches/NolaMi0.htm</td>\n",
       "    </tr>\n",
       "    <tr>\n",
       "      <th>4</th>\n",
       "      <td>John Fox</td>\n",
       "      <td>/coaches/FoxxJo0.htm</td>\n",
       "    </tr>\n",
       "  </tbody>\n",
       "</table>\n",
       "</div>"
      ],
      "text/plain": [
       "      coach_name              coach_id\n",
       "0     Tony Dungy  /coaches/DungTo0.htm\n",
       "1    Gary Kubiak  /coaches/KubiGa0.htm\n",
       "2  Mike Holmgren  /coaches/HolmMi0.htm\n",
       "3     Mike Nolan  /coaches/NolaMi0.htm\n",
       "4       John Fox  /coaches/FoxxJo0.htm"
      ]
     },
     "execution_count": 65,
     "metadata": {},
     "output_type": "execute_result"
    }
   ],
   "source": [
    "key = ['coach_id']\n",
    "coach_fields = [\n",
    "    'h_coach_name','h_coach_id',\n",
    "    'v_coach_name','v_coach_id'\n",
    "]\n",
    "\n",
    "coach_df = combine_h_v(base_df.copy(), coach_fields, [])\n",
    "## assert coach ID is unique\n",
    "assert coach_df.groupby(key).size().max() == 1\n",
    "## assert join is 1:many\n",
    "for h_v in ['h','v']:\n",
    "    fkey = ['{}_coach_id'.format(h_v)]\n",
    "    assert base_df.shape[0] == base_df[fkey].merge(\n",
    "                                        coach_df, left_on=fkey, \n",
    "                                        right_on=key\n",
    "                                    ).shape[0]\n",
    "\n",
    "\n",
    "coach_df.head()"
   ]
  },
  {
   "cell_type": "code",
   "execution_count": 66,
   "metadata": {
    "ExecuteTime": {
     "end_time": "2019-01-20T23:20:40.176265Z",
     "start_time": "2019-01-20T23:20:40.156271Z"
    }
   },
   "outputs": [
    {
     "data": {
      "text/plain": [
       "92"
      ]
     },
     "execution_count": 66,
     "metadata": {},
     "output_type": "execute_result"
    },
    {
     "data": {
      "text/plain": [
       "92"
      ]
     },
     "execution_count": 66,
     "metadata": {},
     "output_type": "execute_result"
    }
   ],
   "source": [
    "coach_df.shape[0]\n",
    "coach_df = coach_df.drop_duplicates()\n",
    "coach_df.shape[0]"
   ]
  },
  {
   "cell_type": "code",
   "execution_count": 67,
   "metadata": {
    "ExecuteTime": {
     "end_time": "2019-01-20T23:20:41.018912Z",
     "start_time": "2019-01-20T23:20:40.182525Z"
    }
   },
   "outputs": [],
   "source": [
    "spark.createDataFrame(\n",
    "    cast_dtypes(coach_df)\n",
    ").write.mode('overwrite').saveAsTable('coach')"
   ]
  },
  {
   "cell_type": "code",
   "execution_count": 68,
   "metadata": {
    "ExecuteTime": {
     "end_time": "2019-01-20T23:20:41.030007Z",
     "start_time": "2019-01-20T23:20:41.024213Z"
    }
   },
   "outputs": [],
   "source": [
    "base_df_remaining = set(base_df_remaining) \\\n",
    "                    - set(coach_fields) \\\n",
    "                    | set(['h_coach_id','v_coach_id'])"
   ]
  },
  {
   "cell_type": "markdown",
   "metadata": {
    "ExecuteTime": {
     "end_time": "2018-11-19T03:58:10.166924Z",
     "start_time": "2018-11-19T03:58:10.157897Z"
    }
   },
   "source": [
    "### __stadium__\n",
    "* #### primary key: stadium\n",
    "* #### foreign key: stadium --> game(stadium)"
   ]
  },
  {
   "cell_type": "code",
   "execution_count": 69,
   "metadata": {
    "ExecuteTime": {
     "end_time": "2019-01-20T23:20:41.075843Z",
     "start_time": "2019-01-20T23:20:41.035461Z"
    }
   },
   "outputs": [
    {
     "data": {
      "text/html": [
       "<div>\n",
       "<style scoped>\n",
       "    .dataframe tbody tr th:only-of-type {\n",
       "        vertical-align: middle;\n",
       "    }\n",
       "\n",
       "    .dataframe tbody tr th {\n",
       "        vertical-align: top;\n",
       "    }\n",
       "\n",
       "    .dataframe thead th {\n",
       "        text-align: right;\n",
       "    }\n",
       "</style>\n",
       "<table border=\"1\" class=\"dataframe\">\n",
       "  <thead>\n",
       "    <tr style=\"text-align: right;\">\n",
       "      <th></th>\n",
       "      <th>stadium</th>\n",
       "      <th>stadium_link</th>\n",
       "      <th>lat</th>\n",
       "      <th>long</th>\n",
       "      <th>timezone</th>\n",
       "      <th>stadium_home_team</th>\n",
       "    </tr>\n",
       "  </thead>\n",
       "  <tbody>\n",
       "    <tr>\n",
       "      <th>0</th>\n",
       "      <td>RCA Dome</td>\n",
       "      <td>/stadiums/IND99.htm</td>\n",
       "      <td>39.76361</td>\n",
       "      <td>-86.16333</td>\n",
       "      <td>-5.0</td>\n",
       "      <td>['clt']</td>\n",
       "    </tr>\n",
       "    <tr>\n",
       "      <th>1</th>\n",
       "      <td>Reliant Stadium</td>\n",
       "      <td>/stadiums/HOU00.htm</td>\n",
       "      <td>29.68472</td>\n",
       "      <td>-95.41083</td>\n",
       "      <td>-6.0</td>\n",
       "      <td>['htx']</td>\n",
       "    </tr>\n",
       "    <tr>\n",
       "      <th>2</th>\n",
       "      <td>Qwest Field</td>\n",
       "      <td>/stadiums/SEA00.htm</td>\n",
       "      <td>47.59520</td>\n",
       "      <td>-122.33160</td>\n",
       "      <td>-8.0</td>\n",
       "      <td>['sea']</td>\n",
       "    </tr>\n",
       "    <tr>\n",
       "      <th>3</th>\n",
       "      <td>Monster Park</td>\n",
       "      <td>/stadiums/SFO00.htm</td>\n",
       "      <td>37.71361</td>\n",
       "      <td>-122.38611</td>\n",
       "      <td>-8.0</td>\n",
       "      <td>['sfo']</td>\n",
       "    </tr>\n",
       "    <tr>\n",
       "      <th>4</th>\n",
       "      <td>Bank of America Stadium</td>\n",
       "      <td>/stadiums/CAR00.htm</td>\n",
       "      <td>35.22583</td>\n",
       "      <td>-80.85278</td>\n",
       "      <td>-5.0</td>\n",
       "      <td>['car']</td>\n",
       "    </tr>\n",
       "  </tbody>\n",
       "</table>\n",
       "</div>"
      ],
      "text/plain": [
       "                   stadium         stadium_link       lat       long  \\\n",
       "0                 RCA Dome  /stadiums/IND99.htm  39.76361  -86.16333   \n",
       "1          Reliant Stadium  /stadiums/HOU00.htm  29.68472  -95.41083   \n",
       "2              Qwest Field  /stadiums/SEA00.htm  47.59520 -122.33160   \n",
       "3             Monster Park  /stadiums/SFO00.htm  37.71361 -122.38611   \n",
       "4  Bank of America Stadium  /stadiums/CAR00.htm  35.22583  -80.85278   \n",
       "\n",
       "   timezone stadium_home_team  \n",
       "0      -5.0           ['clt']  \n",
       "1      -6.0           ['htx']  \n",
       "2      -8.0           ['sea']  \n",
       "3      -8.0           ['sfo']  \n",
       "4      -5.0           ['car']  "
      ]
     },
     "execution_count": 69,
     "metadata": {},
     "output_type": "execute_result"
    }
   ],
   "source": [
    "## roof and surface are game metadata since it can change\n",
    "## within a season\n",
    "key = ['stadium']\n",
    "stadium_fields = [\n",
    "    'stadium_link','lat','long',\n",
    "    'timezone','stadium_home_team'\n",
    "]\n",
    "\n",
    "stadium_df = base_df[key + stadium_fields].drop_duplicates()\n",
    "## assert stadium name is unique\n",
    "assert stadium_df.groupby(key).size().max() == 1\n",
    "\n",
    "## assert join is 1:many\n",
    "fkey = ['stadium']\n",
    "assert base_df.shape[0] == base_df[fkey].merge(\n",
    "                                    stadium_df, left_on=fkey, \n",
    "                                    right_on=key\n",
    "                                ).shape[0]\n",
    "\n",
    "\n",
    "stadium_df.head()"
   ]
  },
  {
   "cell_type": "code",
   "execution_count": 70,
   "metadata": {
    "ExecuteTime": {
     "end_time": "2019-01-20T23:20:41.099263Z",
     "start_time": "2019-01-20T23:20:41.081249Z"
    }
   },
   "outputs": [
    {
     "data": {
      "text/plain": [
       "61"
      ]
     },
     "execution_count": 70,
     "metadata": {},
     "output_type": "execute_result"
    },
    {
     "data": {
      "text/plain": [
       "61"
      ]
     },
     "execution_count": 70,
     "metadata": {},
     "output_type": "execute_result"
    }
   ],
   "source": [
    "stadium_df.shape[0]\n",
    "stadium_df = stadium_df.drop_duplicates()\n",
    "stadium_df.shape[0]"
   ]
  },
  {
   "cell_type": "code",
   "execution_count": 71,
   "metadata": {
    "ExecuteTime": {
     "end_time": "2019-01-20T23:20:41.577654Z",
     "start_time": "2019-01-20T23:20:41.103966Z"
    }
   },
   "outputs": [],
   "source": [
    "spark.createDataFrame(\n",
    "    cast_dtypes(stadium_df)\n",
    ").write.mode('overwrite').saveAsTable('stadium')"
   ]
  },
  {
   "cell_type": "code",
   "execution_count": 72,
   "metadata": {
    "ExecuteTime": {
     "end_time": "2019-01-20T23:20:41.590809Z",
     "start_time": "2019-01-20T23:20:41.584272Z"
    }
   },
   "outputs": [],
   "source": [
    "base_df_remaining = set(base_df_remaining) \\\n",
    "                    - set(stadium_fields) \\\n",
    "                    | set(key)"
   ]
  },
  {
   "cell_type": "markdown",
   "metadata": {
    "ExecuteTime": {
     "end_time": "2018-12-29T07:24:01.447853Z",
     "start_time": "2018-12-29T07:24:01.443026Z"
    }
   },
   "source": [
    "### __game_line__\n",
    "* #### primary key: game_id\n",
    "* #### foreign key: game_id --> game(game_id)"
   ]
  },
  {
   "cell_type": "code",
   "execution_count": 73,
   "metadata": {
    "ExecuteTime": {
     "end_time": "2019-01-20T23:20:41.604477Z",
     "start_time": "2019-01-20T23:20:41.595752Z"
    }
   },
   "outputs": [],
   "source": [
    "key = ['game_id']\n",
    "line_fields = key + [\n",
    "    'ml_fav','h_ml','v_ml',\n",
    "    'open_fav','open_spread',\n",
    "    'close_fav','close_spread',\n",
    "    '2h_fav','2h_spread',\n",
    "    'open_ou','close_ou','2h_ou',\n",
    "    'pfr_line','pfr_ou'\n",
    "]\n",
    "\n",
    "lines = base_df[line_fields]"
   ]
  },
  {
   "cell_type": "markdown",
   "metadata": {},
   "source": [
    "#### Extract line info from PFR text fields"
   ]
  },
  {
   "cell_type": "code",
   "execution_count": 74,
   "metadata": {
    "ExecuteTime": {
     "end_time": "2019-01-20T23:20:41.627702Z",
     "start_time": "2019-01-20T23:20:41.609703Z"
    },
    "run_control": {
     "marked": true
    }
   },
   "outputs": [],
   "source": [
    "game_teams = base_df[['game_id','h_fullname','v_fullname','h_team_id','v_team_id']]\n",
    "before = lines.shape[0]\n",
    "lines = lines.merge(game_teams, left_on='game_id', right_on='game_id')\n",
    "assert lines.shape[0] == before"
   ]
  },
  {
   "cell_type": "code",
   "execution_count": 75,
   "metadata": {
    "ExecuteTime": {
     "end_time": "2019-01-20T23:20:41.859184Z",
     "start_time": "2019-01-20T23:20:41.632880Z"
    }
   },
   "outputs": [],
   "source": [
    "## Open_Fav and Close_Fav have a H/V value for pick'ems\n",
    "## replace those with 'PK'\n",
    "for oc in ['open','close']:\n",
    "    lines[oc + '_fav'] = lines[[oc + '_fav', oc + '_spread']].apply(\n",
    "        lambda x: 'PK' if x[1] == 0 else x[0], \n",
    "        axis=1\n",
    "    )"
   ]
  },
  {
   "cell_type": "code",
   "execution_count": 76,
   "metadata": {
    "ExecuteTime": {
     "end_time": "2019-01-20T23:20:42.065400Z",
     "start_time": "2019-01-20T23:20:41.862750Z"
    }
   },
   "outputs": [],
   "source": [
    "def extract_pfr_fav(x):\n",
    "    '''pandas UDF to take pfr line in form of\n",
    "    CITY NAME -SPREAD and returns the favored team\n",
    "    or \"PK\" if it\\'s a pick\\'em'''\n",
    "    spread, line_txt = x\n",
    "    if spread == 0:\n",
    "        return 'PK'\n",
    "    else: \n",
    "        return ' '.join(line_txt.split(' ')[:-1])\n",
    "\n",
    "def extract_pfr_fav_id(x):\n",
    "    pfr_fav, h_fullname, v_fullname, h_team, v_team = x\n",
    "    if pfr_fav == 'PK':\n",
    "        return ['PK', None]\n",
    "    elif pfr_fav == h_fullname:\n",
    "        return ['H', h_team]\n",
    "    elif pfr_fav == v_fullname:\n",
    "        return ['V', v_team]\n",
    "    else:\n",
    "        return 'FAILED'\n",
    "\n",
    "lines['pfr_spread'] = lines['pfr_line'].apply(\n",
    "    lambda x: abs(\n",
    "        float(x.split(' ')[-1]\n",
    "               .replace('Pick','0')))\n",
    ")\n",
    "\n",
    "## extract the PFR favorite full team name \n",
    "lines['pfr_fav'] = lines[['pfr_spread','pfr_line']].apply(\n",
    "    extract_pfr_fav, axis=1\n",
    ")\n",
    "\n",
    "## extract whether favorite is H/V and get the team ID\n",
    "lines['pfr_fav'] = lines[\n",
    "        ['pfr_fav','h_fullname','v_fullname','h_team_id','v_team_id']\n",
    "    ].apply(\n",
    "        extract_pfr_fav_id, axis=1\n",
    "    )\n",
    "lines['pfr_fav_id'] = lines['pfr_fav'].apply(lambda x: x[1])\n",
    "lines['pfr_fav'] = lines['pfr_fav'].apply(lambda x: x[0])\n",
    "\n",
    "assert 'FAILED' not in lines['pfr_fav'].value_counts().index"
   ]
  },
  {
   "cell_type": "code",
   "execution_count": 77,
   "metadata": {
    "ExecuteTime": {
     "end_time": "2019-01-20T23:20:42.087225Z",
     "start_time": "2019-01-20T23:20:42.070031Z"
    }
   },
   "outputs": [],
   "source": [
    "lines.drop(['h_fullname','v_fullname','h_team_id','v_team_id','pfr_line'], \n",
    "           axis=1, inplace=True)\n",
    "\n",
    "## Drop processed column\n",
    "drops = ['pfr_line']\n",
    "base_df.drop(drops, axis=1, inplace=True)\n",
    "base_df_remaining = filter(lambda x: x not in drops, base_df_remaining)"
   ]
  },
  {
   "cell_type": "code",
   "execution_count": 78,
   "metadata": {
    "ExecuteTime": {
     "end_time": "2019-01-20T23:20:42.102205Z",
     "start_time": "2019-01-20T23:20:42.091740Z"
    }
   },
   "outputs": [],
   "source": [
    "lines['pfr_ou'] = lines['pfr_ou'].apply(lambda x: float(x.split(' ')[0]))"
   ]
  },
  {
   "cell_type": "code",
   "execution_count": 79,
   "metadata": {
    "ExecuteTime": {
     "end_time": "2019-01-20T23:20:42.126386Z",
     "start_time": "2019-01-20T23:20:42.106638Z"
    }
   },
   "outputs": [
    {
     "data": {
      "text/plain": [
       "2937"
      ]
     },
     "execution_count": 79,
     "metadata": {},
     "output_type": "execute_result"
    },
    {
     "data": {
      "text/plain": [
       "2937"
      ]
     },
     "execution_count": 79,
     "metadata": {},
     "output_type": "execute_result"
    }
   ],
   "source": [
    "lines.shape[0]\n",
    "lines = lines.drop_duplicates()\n",
    "lines.shape[0]"
   ]
  },
  {
   "cell_type": "code",
   "execution_count": 80,
   "metadata": {
    "ExecuteTime": {
     "end_time": "2019-01-20T23:20:42.148625Z",
     "start_time": "2019-01-20T23:20:42.130872Z"
    }
   },
   "outputs": [],
   "source": [
    "## assert game_id is unique in line\n",
    "assert lines.groupby(key).size().max() == 1\n",
    "## assert join is 1:1\n",
    "assert base_df.shape[0] == base_df[key].merge(lines, left_on=key, \n",
    "                                    right_on=key).shape[0]"
   ]
  },
  {
   "cell_type": "code",
   "execution_count": 81,
   "metadata": {
    "ExecuteTime": {
     "end_time": "2019-01-20T23:20:43.192350Z",
     "start_time": "2019-01-20T23:20:42.153206Z"
    }
   },
   "outputs": [],
   "source": [
    "spark.createDataFrame(\n",
    "    cast_dtypes(lines)\n",
    ").write.mode('overwrite').saveAsTable('game_line')"
   ]
  },
  {
   "cell_type": "code",
   "execution_count": 82,
   "metadata": {
    "ExecuteTime": {
     "end_time": "2019-01-20T23:20:43.204195Z",
     "start_time": "2019-01-20T23:20:43.198105Z"
    },
    "scrolled": true
   },
   "outputs": [],
   "source": [
    "base_df_remaining = set(base_df_remaining) \\\n",
    "                    - set(line_fields) \\\n",
    "                    | set(key)"
   ]
  },
  {
   "cell_type": "markdown",
   "metadata": {
    "ExecuteTime": {
     "end_time": "2018-12-29T07:28:43.269181Z",
     "start_time": "2018-12-29T07:28:43.263882Z"
    }
   },
   "source": [
    "### __game_outcome__\n",
    "* #### primary key: game_id\n",
    "* #### foreign key: game_id --> game(game_id)\n",
    "* v_final is v_q1 + v_q2 + ...\n",
    "* v_score comes from PFR (renamed from team1_score)\n"
   ]
  },
  {
   "cell_type": "markdown",
   "metadata": {},
   "source": [
    "Check that PFR final score ({h,v}\\_final) and Lines Final ({h,v}\\_final) are the same\n",
    "* in one game they are not: 201610020pit\n",
    "* https://www.pro-football-reference.com/boxscores/201610020pit.htm\n",
    "* Chiefs scored 14 in Q4, but v_q4 shows 7. this is incorrect.\n",
    "* After the fix, {h,v}\\_final == {h,v}\\_score always, so drop {h,v}\\_score"
   ]
  },
  {
   "cell_type": "code",
   "execution_count": 83,
   "metadata": {
    "ExecuteTime": {
     "end_time": "2019-01-20T23:20:43.258628Z",
     "start_time": "2019-01-20T23:20:43.209673Z"
    }
   },
   "outputs": [
    {
     "data": {
      "text/html": [
       "<div>\n",
       "<style scoped>\n",
       "    .dataframe tbody tr th:only-of-type {\n",
       "        vertical-align: middle;\n",
       "    }\n",
       "\n",
       "    .dataframe tbody tr th {\n",
       "        vertical-align: top;\n",
       "    }\n",
       "\n",
       "    .dataframe thead th {\n",
       "        text-align: right;\n",
       "    }\n",
       "</style>\n",
       "<table border=\"1\" class=\"dataframe\">\n",
       "  <thead>\n",
       "    <tr style=\"text-align: right;\">\n",
       "      <th></th>\n",
       "      <th>game_id</th>\n",
       "      <th>v_final</th>\n",
       "      <th>v_score</th>\n",
       "      <th>v_q1</th>\n",
       "      <th>v_q2</th>\n",
       "      <th>v_q3</th>\n",
       "      <th>v_q4</th>\n",
       "    </tr>\n",
       "  </thead>\n",
       "  <tbody>\n",
       "    <tr>\n",
       "      <th>2278</th>\n",
       "      <td>201610020pit</td>\n",
       "      <td>7</td>\n",
       "      <td>14</td>\n",
       "      <td>0</td>\n",
       "      <td>0</td>\n",
       "      <td>0</td>\n",
       "      <td>7</td>\n",
       "    </tr>\n",
       "  </tbody>\n",
       "</table>\n",
       "</div>"
      ],
      "text/plain": [
       "           game_id  v_final  v_score  v_q1  v_q2  v_q3  v_q4\n",
       "2278  201610020pit        7       14     0     0     0     7"
      ]
     },
     "execution_count": 83,
     "metadata": {},
     "output_type": "execute_result"
    }
   ],
   "source": [
    "## find and display any final score mismatches\n",
    "mismatches = base_df[\n",
    " (base_df['v_final'] != base_df['v_score'])\n",
    " | (base_df['h_final'] != base_df['h_score'])\n",
    "]\n",
    "mismatches[['game_id','v_final','v_score','v_q1','v_q2','v_q3','v_q4']]\n",
    "\n",
    "## Fix 201610020pit by changing Chiefs Q4 score (and total) to 14\n",
    "idx = mismatches[mismatches['game_id'] == '201610020pit'].index\n",
    "base_df.loc[idx, 'v_q4'] = 14\n",
    "base_df.loc[idx, 'v_final'] = 14\n",
    "\n",
    "## Check that there are no more mismatches\n",
    "assert base_df[\n",
    " (base_df['v_final'] != base_df['v_score'])\n",
    " | (base_df['h_final'] != base_df['h_score'])\n",
    "].shape[0] == 0\n",
    "\n",
    "## Drop the superfluous columns\n",
    "drops = ['h_score','v_score']\n",
    "base_df.drop(drops, axis=1, inplace=True)\n",
    "base_df_remaining = filter(lambda x: x not in drops, base_df_remaining)"
   ]
  },
  {
   "cell_type": "code",
   "execution_count": 84,
   "metadata": {
    "ExecuteTime": {
     "end_time": "2019-01-20T23:20:43.284428Z",
     "start_time": "2019-01-20T23:20:43.263768Z"
    }
   },
   "outputs": [],
   "source": [
    "key = ['game_id']\n",
    "outcome_fields = key + [\n",
    "    'h_final','h_q1','h_q2','h_q3','h_q4',\n",
    "    'v_final','v_q1','v_q2','v_q3','v_q4']\n",
    "\n",
    "outcomes = base_df[outcome_fields]\n",
    "\n",
    "## assert game_id is unique in line\n",
    "assert outcomes.groupby(key).size().max() == 1\n",
    "## assert join is 1:1\n",
    "assert base_df.shape[0] == base_df[key].merge(outcomes, left_on=key, \n",
    "                                               right_on=key).shape[0]\n"
   ]
  },
  {
   "cell_type": "markdown",
   "metadata": {},
   "source": [
    "Lines data does not include OT (only Q1-Q4)"
   ]
  },
  {
   "cell_type": "code",
   "execution_count": 85,
   "metadata": {
    "ExecuteTime": {
     "end_time": "2019-01-20T23:20:43.598661Z",
     "start_time": "2019-01-20T23:20:43.289648Z"
    },
    "scrolled": true
   },
   "outputs": [
    {
     "name": "stderr",
     "output_type": "stream",
     "text": [
      "/Users/joshplotkin/anaconda2/lib/python2.7/site-packages/pandas/core/indexing.py:362: SettingWithCopyWarning: \n",
      "A value is trying to be set on a copy of a slice from a DataFrame.\n",
      "Try using .loc[row_indexer,col_indexer] = value instead\n",
      "\n",
      "See the caveats in the documentation: http://pandas.pydata.org/pandas-docs/stable/indexing.html#indexing-view-versus-copy\n",
      "  self.obj[key] = _infer_fill_value(value)\n"
     ]
    }
   ],
   "source": [
    "tmp1 = outcomes[\n",
    "        outcomes.loc[:, ['h_q1','h_q2','h_q3','h_q4']].sum(axis=1) \n",
    "        != outcomes.loc[:, 'h_final']\n",
    "    ]\n",
    "tmp1.loc[:, 'diff'] = tmp1[['h_q1','h_q2','h_q3','h_q4']].sum(axis=1) \\\n",
    "                        - tmp1['h_final']\n",
    "tmp1 = tmp1.loc[:, ['game_id','h_q1','h_q2','h_q3','h_q4','h_final','diff']]\n",
    "\n",
    "tmp2 = outcomes[\n",
    "        outcomes.loc[:, ['v_q1','v_q2','v_q3','v_q4']].sum(axis=1) \n",
    "        != outcomes['v_final']\n",
    "    ]\n",
    "tmp2.loc[:, 'diff'] = tmp2.loc[:, ['v_q1','v_q2','v_q3','v_q4']].sum(axis=1) \\\n",
    "                        - tmp2['v_final']\n",
    "tmp2 = tmp2[['game_id','v_q1','v_q2','v_q3','v_q4','h_final','diff']]"
   ]
  },
  {
   "cell_type": "code",
   "execution_count": 86,
   "metadata": {
    "ExecuteTime": {
     "end_time": "2019-01-20T23:20:43.624336Z",
     "start_time": "2019-01-20T23:20:43.603818Z"
    },
    "scrolled": true
   },
   "outputs": [
    {
     "data": {
      "text/html": [
       "<div>\n",
       "<style scoped>\n",
       "    .dataframe tbody tr th:only-of-type {\n",
       "        vertical-align: middle;\n",
       "    }\n",
       "\n",
       "    .dataframe tbody tr th {\n",
       "        vertical-align: top;\n",
       "    }\n",
       "\n",
       "    .dataframe thead th {\n",
       "        text-align: right;\n",
       "    }\n",
       "</style>\n",
       "<table border=\"1\" class=\"dataframe\">\n",
       "  <thead>\n",
       "    <tr style=\"text-align: right;\">\n",
       "      <th></th>\n",
       "      <th>game_id</th>\n",
       "      <th>h_q1</th>\n",
       "      <th>h_q2</th>\n",
       "      <th>h_q3</th>\n",
       "      <th>h_q4</th>\n",
       "      <th>h_final</th>\n",
       "      <th>diff</th>\n",
       "    </tr>\n",
       "  </thead>\n",
       "  <tbody>\n",
       "    <tr>\n",
       "      <th>429</th>\n",
       "      <td>201211180htx</td>\n",
       "      <td>7</td>\n",
       "      <td>10</td>\n",
       "      <td>3</td>\n",
       "      <td>14</td>\n",
       "      <td>43</td>\n",
       "      <td>-9</td>\n",
       "    </tr>\n",
       "    <tr>\n",
       "      <th>2345</th>\n",
       "      <td>201112040crd</td>\n",
       "      <td>3</td>\n",
       "      <td>0</td>\n",
       "      <td>3</td>\n",
       "      <td>7</td>\n",
       "      <td>19</td>\n",
       "      <td>-6</td>\n",
       "    </tr>\n",
       "    <tr>\n",
       "      <th>888</th>\n",
       "      <td>201111060crd</td>\n",
       "      <td>3</td>\n",
       "      <td>0</td>\n",
       "      <td>3</td>\n",
       "      <td>7</td>\n",
       "      <td>19</td>\n",
       "      <td>-6</td>\n",
       "    </tr>\n",
       "    <tr>\n",
       "      <th>605</th>\n",
       "      <td>201511290den</td>\n",
       "      <td>0</td>\n",
       "      <td>7</td>\n",
       "      <td>0</td>\n",
       "      <td>17</td>\n",
       "      <td>30</td>\n",
       "      <td>-6</td>\n",
       "    </tr>\n",
       "    <tr>\n",
       "      <th>2440</th>\n",
       "      <td>201701010pit</td>\n",
       "      <td>0</td>\n",
       "      <td>7</td>\n",
       "      <td>0</td>\n",
       "      <td>14</td>\n",
       "      <td>27</td>\n",
       "      <td>-6</td>\n",
       "    </tr>\n",
       "  </tbody>\n",
       "</table>\n",
       "</div>"
      ],
      "text/plain": [
       "           game_id  h_q1  h_q2  h_q3  h_q4  h_final  diff\n",
       "429   201211180htx     7    10     3    14       43    -9\n",
       "2345  201112040crd     3     0     3     7       19    -6\n",
       "888   201111060crd     3     0     3     7       19    -6\n",
       "605   201511290den     0     7     0    17       30    -6\n",
       "2440  201701010pit     0     7     0    14       27    -6"
      ]
     },
     "execution_count": 86,
     "metadata": {},
     "output_type": "execute_result"
    }
   ],
   "source": [
    "tmp1.sort_values(by=['diff']).head()"
   ]
  },
  {
   "cell_type": "code",
   "execution_count": 87,
   "metadata": {
    "ExecuteTime": {
     "end_time": "2019-01-20T23:20:43.649570Z",
     "start_time": "2019-01-20T23:20:43.628223Z"
    },
    "scrolled": true
   },
   "outputs": [
    {
     "data": {
      "text/html": [
       "<div>\n",
       "<style scoped>\n",
       "    .dataframe tbody tr th:only-of-type {\n",
       "        vertical-align: middle;\n",
       "    }\n",
       "\n",
       "    .dataframe tbody tr th {\n",
       "        vertical-align: top;\n",
       "    }\n",
       "\n",
       "    .dataframe thead th {\n",
       "        text-align: right;\n",
       "    }\n",
       "</style>\n",
       "<table border=\"1\" class=\"dataframe\">\n",
       "  <thead>\n",
       "    <tr style=\"text-align: right;\">\n",
       "      <th></th>\n",
       "      <th>game_id</th>\n",
       "      <th>v_q1</th>\n",
       "      <th>v_q2</th>\n",
       "      <th>v_q3</th>\n",
       "      <th>v_q4</th>\n",
       "      <th>h_final</th>\n",
       "      <th>diff</th>\n",
       "    </tr>\n",
       "  </thead>\n",
       "  <tbody>\n",
       "    <tr>\n",
       "      <th>75</th>\n",
       "      <td>200712090oti</td>\n",
       "      <td>0</td>\n",
       "      <td>0</td>\n",
       "      <td>3</td>\n",
       "      <td>14</td>\n",
       "      <td>17</td>\n",
       "      <td>-6</td>\n",
       "    </tr>\n",
       "    <tr>\n",
       "      <th>687</th>\n",
       "      <td>200711250crd</td>\n",
       "      <td>7</td>\n",
       "      <td>10</td>\n",
       "      <td>7</td>\n",
       "      <td>7</td>\n",
       "      <td>31</td>\n",
       "      <td>-6</td>\n",
       "    </tr>\n",
       "    <tr>\n",
       "      <th>860</th>\n",
       "      <td>201012130htx</td>\n",
       "      <td>7</td>\n",
       "      <td>14</td>\n",
       "      <td>7</td>\n",
       "      <td>0</td>\n",
       "      <td>28</td>\n",
       "      <td>-6</td>\n",
       "    </tr>\n",
       "    <tr>\n",
       "      <th>1009</th>\n",
       "      <td>200710290den</td>\n",
       "      <td>7</td>\n",
       "      <td>6</td>\n",
       "      <td>0</td>\n",
       "      <td>0</td>\n",
       "      <td>13</td>\n",
       "      <td>-6</td>\n",
       "    </tr>\n",
       "    <tr>\n",
       "      <th>1143</th>\n",
       "      <td>200910110kan</td>\n",
       "      <td>0</td>\n",
       "      <td>3</td>\n",
       "      <td>7</td>\n",
       "      <td>10</td>\n",
       "      <td>20</td>\n",
       "      <td>-6</td>\n",
       "    </tr>\n",
       "  </tbody>\n",
       "</table>\n",
       "</div>"
      ],
      "text/plain": [
       "           game_id  v_q1  v_q2  v_q3  v_q4  h_final  diff\n",
       "75    200712090oti     0     0     3    14       17    -6\n",
       "687   200711250crd     7    10     7     7       31    -6\n",
       "860   201012130htx     7    14     7     0       28    -6\n",
       "1009  200710290den     7     6     0     0       13    -6\n",
       "1143  200910110kan     0     3     7    10       20    -6"
      ]
     },
     "execution_count": 87,
     "metadata": {},
     "output_type": "execute_result"
    }
   ],
   "source": [
    "tmp2.sort_values(by='diff').head()"
   ]
  },
  {
   "cell_type": "code",
   "execution_count": 88,
   "metadata": {
    "ExecuteTime": {
     "end_time": "2019-01-20T23:20:43.942949Z",
     "start_time": "2019-01-20T23:20:43.654589Z"
    }
   },
   "outputs": [],
   "source": [
    "outcomes.loc[:, 'h_ot'] = outcomes['h_final'] - outcomes[['h_q1','h_q2','h_q3','h_q4']].sum(axis=1)\n",
    "outcomes.loc[:, 'v_ot'] = outcomes['v_final'] - outcomes[['v_q1','v_q2','v_q3','v_q4']].sum(axis=1)"
   ]
  },
  {
   "cell_type": "code",
   "execution_count": 89,
   "metadata": {
    "ExecuteTime": {
     "end_time": "2019-01-20T23:20:43.969632Z",
     "start_time": "2019-01-20T23:20:43.948441Z"
    }
   },
   "outputs": [
    {
     "data": {
      "text/plain": [
       "2937"
      ]
     },
     "execution_count": 89,
     "metadata": {},
     "output_type": "execute_result"
    },
    {
     "data": {
      "text/plain": [
       "2937"
      ]
     },
     "execution_count": 89,
     "metadata": {},
     "output_type": "execute_result"
    }
   ],
   "source": [
    "outcomes.shape[0]\n",
    "outcomes = outcomes.drop_duplicates()\n",
    "outcomes.shape[0]"
   ]
  },
  {
   "cell_type": "code",
   "execution_count": 90,
   "metadata": {
    "ExecuteTime": {
     "end_time": "2019-01-20T23:20:45.032485Z",
     "start_time": "2019-01-20T23:20:43.975649Z"
    }
   },
   "outputs": [],
   "source": [
    "spark.createDataFrame(\n",
    "    cast_dtypes(outcomes)\n",
    ").write.mode('overwrite').saveAsTable('game_outcome')"
   ]
  },
  {
   "cell_type": "code",
   "execution_count": 91,
   "metadata": {
    "ExecuteTime": {
     "end_time": "2019-01-20T23:20:45.042721Z",
     "start_time": "2019-01-20T23:20:45.037144Z"
    }
   },
   "outputs": [],
   "source": [
    "base_df_remaining = set(base_df_remaining) \\\n",
    "                    - set(outcomes) \\\n",
    "                    | set(key)"
   ]
  },
  {
   "cell_type": "markdown",
   "metadata": {},
   "source": [
    "### __game_metadata__\n",
    "* #### primary key: game_id\n",
    "* #### foreign key: game_id --> game(game_id)"
   ]
  },
  {
   "cell_type": "code",
   "execution_count": 92,
   "metadata": {
    "ExecuteTime": {
     "end_time": "2019-01-20T23:20:45.075118Z",
     "start_time": "2019-01-20T23:20:45.048388Z"
    }
   },
   "outputs": [],
   "source": [
    "key = ['game_id']\n",
    "metadata_fields = key + ['day_of_week','duration','prf_weather','roof',\n",
    "                         'surface','time','attendance']\n",
    "\n",
    "metadata_df = base_df[metadata_fields]\n",
    "\n",
    "## assert game_id is unique in metadata\n",
    "assert metadata_df.groupby(key).size().max() == 1\n",
    "## assert join is 1:1\n",
    "assert base_df.shape[0] == base_df[key].merge(metadata_df, left_on=key, \n",
    "                                          right_on=key).shape[0]"
   ]
  },
  {
   "cell_type": "code",
   "execution_count": 93,
   "metadata": {
    "ExecuteTime": {
     "end_time": "2019-01-20T23:20:45.108180Z",
     "start_time": "2019-01-20T23:20:45.081236Z"
    }
   },
   "outputs": [
    {
     "data": {
      "text/plain": [
       "2937"
      ]
     },
     "execution_count": 93,
     "metadata": {},
     "output_type": "execute_result"
    },
    {
     "data": {
      "text/plain": [
       "2937"
      ]
     },
     "execution_count": 93,
     "metadata": {},
     "output_type": "execute_result"
    }
   ],
   "source": [
    "metadata_df.shape[0]\n",
    "metadata_df = metadata_df.drop_duplicates()\n",
    "metadata_df.shape[0]"
   ]
  },
  {
   "cell_type": "code",
   "execution_count": 94,
   "metadata": {
    "ExecuteTime": {
     "end_time": "2019-01-20T23:20:46.065316Z",
     "start_time": "2019-01-20T23:20:45.115053Z"
    }
   },
   "outputs": [],
   "source": [
    "spark.createDataFrame(\n",
    "    cast_dtypes(metadata_df)\n",
    ").write.mode('overwrite').mode('overwrite').saveAsTable('game_metadata')"
   ]
  },
  {
   "cell_type": "code",
   "execution_count": 95,
   "metadata": {
    "ExecuteTime": {
     "end_time": "2019-01-20T23:20:46.120240Z",
     "start_time": "2019-01-20T23:20:46.070828Z"
    }
   },
   "outputs": [
    {
     "data": {
      "text/html": [
       "<div>\n",
       "<style scoped>\n",
       "    .dataframe tbody tr th:only-of-type {\n",
       "        vertical-align: middle;\n",
       "    }\n",
       "\n",
       "    .dataframe tbody tr th {\n",
       "        vertical-align: top;\n",
       "    }\n",
       "\n",
       "    .dataframe thead th {\n",
       "        text-align: right;\n",
       "    }\n",
       "</style>\n",
       "<table border=\"1\" class=\"dataframe\">\n",
       "  <thead>\n",
       "    <tr style=\"text-align: right;\">\n",
       "      <th></th>\n",
       "      <th>date</th>\n",
       "      <th>game_id</th>\n",
       "      <th>h_coach_id</th>\n",
       "      <th>h_team_id</th>\n",
       "      <th>season</th>\n",
       "      <th>stadium</th>\n",
       "      <th>v_coach_id</th>\n",
       "      <th>v_team_id</th>\n",
       "      <th>week_id</th>\n",
       "    </tr>\n",
       "  </thead>\n",
       "  <tbody>\n",
       "    <tr>\n",
       "      <th>0</th>\n",
       "      <td>2007-09-06</td>\n",
       "      <td>200709060clt</td>\n",
       "      <td>/coaches/DungTo0.htm</td>\n",
       "      <td>clt</td>\n",
       "      <td>2007</td>\n",
       "      <td>RCA Dome</td>\n",
       "      <td>/coaches/PaytSe0.htm</td>\n",
       "      <td>nor</td>\n",
       "      <td>1</td>\n",
       "    </tr>\n",
       "    <tr>\n",
       "      <th>1</th>\n",
       "      <td>2007-11-18</td>\n",
       "      <td>200711180htx</td>\n",
       "      <td>/coaches/KubiGa0.htm</td>\n",
       "      <td>htx</td>\n",
       "      <td>2007</td>\n",
       "      <td>Reliant Stadium</td>\n",
       "      <td>/coaches/PaytSe0.htm</td>\n",
       "      <td>nor</td>\n",
       "      <td>11</td>\n",
       "    </tr>\n",
       "    <tr>\n",
       "      <th>2</th>\n",
       "      <td>2007-10-14</td>\n",
       "      <td>200710140sea</td>\n",
       "      <td>/coaches/HolmMi0.htm</td>\n",
       "      <td>sea</td>\n",
       "      <td>2007</td>\n",
       "      <td>Qwest Field</td>\n",
       "      <td>/coaches/PaytSe0.htm</td>\n",
       "      <td>nor</td>\n",
       "      <td>6</td>\n",
       "    </tr>\n",
       "    <tr>\n",
       "      <th>3</th>\n",
       "      <td>2007-10-28</td>\n",
       "      <td>200710280sfo</td>\n",
       "      <td>/coaches/NolaMi0.htm</td>\n",
       "      <td>sfo</td>\n",
       "      <td>2007</td>\n",
       "      <td>Monster Park</td>\n",
       "      <td>/coaches/PaytSe0.htm</td>\n",
       "      <td>nor</td>\n",
       "      <td>8</td>\n",
       "    </tr>\n",
       "    <tr>\n",
       "      <th>4</th>\n",
       "      <td>2007-11-25</td>\n",
       "      <td>200711250car</td>\n",
       "      <td>/coaches/FoxxJo0.htm</td>\n",
       "      <td>car</td>\n",
       "      <td>2007</td>\n",
       "      <td>Bank of America Stadium</td>\n",
       "      <td>/coaches/PaytSe0.htm</td>\n",
       "      <td>nor</td>\n",
       "      <td>12</td>\n",
       "    </tr>\n",
       "  </tbody>\n",
       "</table>\n",
       "</div>"
      ],
      "text/plain": [
       "         date       game_id            h_coach_id h_team_id  season  \\\n",
       "0  2007-09-06  200709060clt  /coaches/DungTo0.htm       clt    2007   \n",
       "1  2007-11-18  200711180htx  /coaches/KubiGa0.htm       htx    2007   \n",
       "2  2007-10-14  200710140sea  /coaches/HolmMi0.htm       sea    2007   \n",
       "3  2007-10-28  200710280sfo  /coaches/NolaMi0.htm       sfo    2007   \n",
       "4  2007-11-25  200711250car  /coaches/FoxxJo0.htm       car    2007   \n",
       "\n",
       "                   stadium            v_coach_id v_team_id  week_id  \n",
       "0                 RCA Dome  /coaches/PaytSe0.htm       nor        1  \n",
       "1          Reliant Stadium  /coaches/PaytSe0.htm       nor       11  \n",
       "2              Qwest Field  /coaches/PaytSe0.htm       nor        6  \n",
       "3             Monster Park  /coaches/PaytSe0.htm       nor        8  \n",
       "4  Bank of America Stadium  /coaches/PaytSe0.htm       nor       12  "
      ]
     },
     "execution_count": 95,
     "metadata": {},
     "output_type": "execute_result"
    }
   ],
   "source": [
    "base_df_remaining = set(base_df_remaining) \\\n",
    "                    - set(metadata_fields) \\\n",
    "                    - set(['home_team']) \\\n",
    "                    | set(key)\n",
    "base_df[sorted(list(base_df_remaining))].head()"
   ]
  },
  {
   "cell_type": "markdown",
   "metadata": {},
   "source": [
    "### __game__\n",
    "* #### primary key: game_id"
   ]
  },
  {
   "cell_type": "code",
   "execution_count": 96,
   "metadata": {
    "ExecuteTime": {
     "end_time": "2019-01-20T23:20:46.144008Z",
     "start_time": "2019-01-20T23:20:46.126446Z"
    }
   },
   "outputs": [],
   "source": [
    "base_df['is_neutral'] = (base_df['home_team'] == 'neutral').astype(int)\n",
    "\n",
    "## Drop superfluous column\n",
    "drops = ['home_team']\n",
    "base_df.drop(drops, axis=1, inplace=True)\n",
    "base_df_remaining = filter(lambda x: x not in drops, base_df_remaining)"
   ]
  },
  {
   "cell_type": "code",
   "execution_count": 97,
   "metadata": {
    "ExecuteTime": {
     "end_time": "2019-01-20T23:20:46.165445Z",
     "start_time": "2019-01-20T23:20:46.151003Z"
    }
   },
   "outputs": [],
   "source": [
    "base_cols = sorted(list(base_df_remaining))\n",
    "key = ['game_id']\n",
    "ordered_cols = ['season','week_id','date','is_neutral']\n",
    "\n",
    "game = base_df[\n",
    "    key \n",
    "    + ordered_cols \n",
    "    + list( set(base_cols) - set(key) - set(ordered_cols) )\n",
    "]"
   ]
  },
  {
   "cell_type": "code",
   "execution_count": 98,
   "metadata": {
    "ExecuteTime": {
     "end_time": "2019-01-20T23:20:46.197027Z",
     "start_time": "2019-01-20T23:20:46.171159Z"
    }
   },
   "outputs": [
    {
     "data": {
      "text/plain": [
       "2937"
      ]
     },
     "execution_count": 98,
     "metadata": {},
     "output_type": "execute_result"
    },
    {
     "data": {
      "text/plain": [
       "2937"
      ]
     },
     "execution_count": 98,
     "metadata": {},
     "output_type": "execute_result"
    }
   ],
   "source": [
    "game.shape[0]\n",
    "game = game.drop_duplicates()\n",
    "game.shape[0]"
   ]
  },
  {
   "cell_type": "code",
   "execution_count": 99,
   "metadata": {
    "ExecuteTime": {
     "end_time": "2019-01-20T23:20:46.251903Z",
     "start_time": "2019-01-20T23:20:46.202814Z"
    }
   },
   "outputs": [
    {
     "data": {
      "text/html": [
       "<div>\n",
       "<style scoped>\n",
       "    .dataframe tbody tr th:only-of-type {\n",
       "        vertical-align: middle;\n",
       "    }\n",
       "\n",
       "    .dataframe tbody tr th {\n",
       "        vertical-align: top;\n",
       "    }\n",
       "\n",
       "    .dataframe thead th {\n",
       "        text-align: right;\n",
       "    }\n",
       "</style>\n",
       "<table border=\"1\" class=\"dataframe\">\n",
       "  <thead>\n",
       "    <tr style=\"text-align: right;\">\n",
       "      <th></th>\n",
       "      <th>game_id</th>\n",
       "      <th>season</th>\n",
       "      <th>week_id</th>\n",
       "      <th>date</th>\n",
       "      <th>is_neutral</th>\n",
       "      <th>v_coach_id</th>\n",
       "      <th>v_team_id</th>\n",
       "      <th>h_team_id</th>\n",
       "      <th>stadium</th>\n",
       "      <th>h_coach_id</th>\n",
       "    </tr>\n",
       "  </thead>\n",
       "  <tbody>\n",
       "    <tr>\n",
       "      <th>0</th>\n",
       "      <td>200709060clt</td>\n",
       "      <td>2007</td>\n",
       "      <td>1</td>\n",
       "      <td>2007-09-06</td>\n",
       "      <td>0</td>\n",
       "      <td>/coaches/PaytSe0.htm</td>\n",
       "      <td>nor</td>\n",
       "      <td>clt</td>\n",
       "      <td>RCA Dome</td>\n",
       "      <td>/coaches/DungTo0.htm</td>\n",
       "    </tr>\n",
       "    <tr>\n",
       "      <th>1</th>\n",
       "      <td>200711180htx</td>\n",
       "      <td>2007</td>\n",
       "      <td>11</td>\n",
       "      <td>2007-11-18</td>\n",
       "      <td>0</td>\n",
       "      <td>/coaches/PaytSe0.htm</td>\n",
       "      <td>nor</td>\n",
       "      <td>htx</td>\n",
       "      <td>Reliant Stadium</td>\n",
       "      <td>/coaches/KubiGa0.htm</td>\n",
       "    </tr>\n",
       "    <tr>\n",
       "      <th>2</th>\n",
       "      <td>200710140sea</td>\n",
       "      <td>2007</td>\n",
       "      <td>6</td>\n",
       "      <td>2007-10-14</td>\n",
       "      <td>0</td>\n",
       "      <td>/coaches/PaytSe0.htm</td>\n",
       "      <td>nor</td>\n",
       "      <td>sea</td>\n",
       "      <td>Qwest Field</td>\n",
       "      <td>/coaches/HolmMi0.htm</td>\n",
       "    </tr>\n",
       "    <tr>\n",
       "      <th>3</th>\n",
       "      <td>200710280sfo</td>\n",
       "      <td>2007</td>\n",
       "      <td>8</td>\n",
       "      <td>2007-10-28</td>\n",
       "      <td>0</td>\n",
       "      <td>/coaches/PaytSe0.htm</td>\n",
       "      <td>nor</td>\n",
       "      <td>sfo</td>\n",
       "      <td>Monster Park</td>\n",
       "      <td>/coaches/NolaMi0.htm</td>\n",
       "    </tr>\n",
       "    <tr>\n",
       "      <th>4</th>\n",
       "      <td>200711250car</td>\n",
       "      <td>2007</td>\n",
       "      <td>12</td>\n",
       "      <td>2007-11-25</td>\n",
       "      <td>0</td>\n",
       "      <td>/coaches/PaytSe0.htm</td>\n",
       "      <td>nor</td>\n",
       "      <td>car</td>\n",
       "      <td>Bank of America Stadium</td>\n",
       "      <td>/coaches/FoxxJo0.htm</td>\n",
       "    </tr>\n",
       "  </tbody>\n",
       "</table>\n",
       "</div>"
      ],
      "text/plain": [
       "        game_id  season  week_id        date  is_neutral  \\\n",
       "0  200709060clt    2007        1  2007-09-06           0   \n",
       "1  200711180htx    2007       11  2007-11-18           0   \n",
       "2  200710140sea    2007        6  2007-10-14           0   \n",
       "3  200710280sfo    2007        8  2007-10-28           0   \n",
       "4  200711250car    2007       12  2007-11-25           0   \n",
       "\n",
       "             v_coach_id v_team_id h_team_id                  stadium  \\\n",
       "0  /coaches/PaytSe0.htm       nor       clt                 RCA Dome   \n",
       "1  /coaches/PaytSe0.htm       nor       htx          Reliant Stadium   \n",
       "2  /coaches/PaytSe0.htm       nor       sea              Qwest Field   \n",
       "3  /coaches/PaytSe0.htm       nor       sfo             Monster Park   \n",
       "4  /coaches/PaytSe0.htm       nor       car  Bank of America Stadium   \n",
       "\n",
       "             h_coach_id  \n",
       "0  /coaches/DungTo0.htm  \n",
       "1  /coaches/KubiGa0.htm  \n",
       "2  /coaches/HolmMi0.htm  \n",
       "3  /coaches/NolaMi0.htm  \n",
       "4  /coaches/FoxxJo0.htm  "
      ]
     },
     "execution_count": 99,
     "metadata": {},
     "output_type": "execute_result"
    }
   ],
   "source": [
    "game.head()"
   ]
  },
  {
   "cell_type": "code",
   "execution_count": 100,
   "metadata": {
    "ExecuteTime": {
     "end_time": "2019-01-20T23:20:47.194555Z",
     "start_time": "2019-01-20T23:20:46.257598Z"
    }
   },
   "outputs": [],
   "source": [
    "spark.createDataFrame(\n",
    "    cast_dtypes(game)\n",
    ").write.mode('overwrite').mode('overwrite').saveAsTable('game')"
   ]
  },
  {
   "cell_type": "code",
   "execution_count": 101,
   "metadata": {
    "ExecuteTime": {
     "end_time": "2019-01-20T23:20:47.208484Z",
     "start_time": "2019-01-20T23:20:47.199177Z"
    }
   },
   "outputs": [],
   "source": [
    "base_df_remaining = set(base_df_remaining) \\\n",
    "                    - set(game)\n",
    "\n",
    "assert base_df[sorted(list(base_df_remaining))].head().T.shape[0] == 0"
   ]
  },
  {
   "cell_type": "markdown",
   "metadata": {},
   "source": [
    "### __dvoa__\n",
    "* #### primary key: (team_id, season, week_id)\n",
    "* #### foreign key: (team_id, season, week_id) --> game((h_team_id, season, week_id))\n",
    "* #### foreign key: (team_id, season, week_id) --> game((v_team_id, season, week_id))"
   ]
  },
  {
   "cell_type": "code",
   "execution_count": 102,
   "metadata": {
    "ExecuteTime": {
     "end_time": "2019-01-20T23:20:47.274799Z",
     "start_time": "2019-01-20T23:20:47.215775Z"
    },
    "run_control": {
     "marked": true
    },
    "scrolled": true
   },
   "outputs": [
    {
     "data": {
      "text/plain": [
       "(6496, 19)"
      ]
     },
     "execution_count": 102,
     "metadata": {},
     "output_type": "execute_result"
    }
   ],
   "source": [
    "key = ['team_id','season','week_id']\n",
    "dvoa_df = pd.read_csv('dvoa/dvoa_alltime.csv', index_col='Unnamed: 0')\n",
    "## no cases in hive table\n",
    "dvoa_df.columns = map(lambda x: x.replace(' ','_'), dvoa_df)\n",
    "dvoa_df.rename(columns={'week':'week_id'}, inplace=True)\n",
    "## headers are in data from appending dataframes. filter them out\n",
    "dvoa_df.shape"
   ]
  },
  {
   "cell_type": "markdown",
   "metadata": {},
   "source": [
    "#### temporarily remove 2018"
   ]
  },
  {
   "cell_type": "code",
   "execution_count": 103,
   "metadata": {
    "ExecuteTime": {
     "end_time": "2019-01-20T23:20:47.290969Z",
     "start_time": "2019-01-20T23:20:47.280795Z"
    }
   },
   "outputs": [],
   "source": [
    "dvoa_df = dvoa_df[dvoa_df['season'] != 2018]"
   ]
  },
  {
   "cell_type": "code",
   "execution_count": 104,
   "metadata": {
    "ExecuteTime": {
     "end_time": "2019-01-20T23:20:47.324353Z",
     "start_time": "2019-01-20T23:20:47.297312Z"
    }
   },
   "outputs": [
    {
     "data": {
      "text/plain": [
       "2007    544\n",
       "2008    544\n",
       "2009    544\n",
       "2010    544\n",
       "2011    544\n",
       "2012    544\n",
       "2013    544\n",
       "2014    544\n",
       "2015    544\n",
       "2016    544\n",
       "2017    544\n",
       "Name: season, dtype: int64"
      ]
     },
     "execution_count": 104,
     "metadata": {},
     "output_type": "execute_result"
    },
    {
     "data": {
      "text/plain": [
       "2     352\n",
       "3     352\n",
       "4     352\n",
       "5     352\n",
       "6     352\n",
       "7     352\n",
       "8     352\n",
       "9     352\n",
       "10    352\n",
       "11    352\n",
       "12    352\n",
       "13    352\n",
       "14    352\n",
       "15    352\n",
       "16    352\n",
       "17    352\n",
       "18    352\n",
       "Name: week_id, dtype: int64"
      ]
     },
     "execution_count": 104,
     "metadata": {},
     "output_type": "execute_result"
    }
   ],
   "source": [
    "dvoa_df['season'].value_counts().sort_index()\n",
    "dvoa_df['week_id'].value_counts().sort_index()"
   ]
  },
  {
   "cell_type": "code",
   "execution_count": 105,
   "metadata": {
    "ExecuteTime": {
     "end_time": "2019-01-20T23:20:47.404666Z",
     "start_time": "2019-01-20T23:20:47.330031Z"
    }
   },
   "outputs": [],
   "source": [
    "team_season = spark.table('team_season').cache()"
   ]
  },
  {
   "cell_type": "code",
   "execution_count": 106,
   "metadata": {
    "ExecuteTime": {
     "end_time": "2019-01-20T23:20:48.227946Z",
     "start_time": "2019-01-20T23:20:47.411026Z"
    }
   },
   "outputs": [],
   "source": [
    "team_season_years = set(\n",
    "    team_season\n",
    "        .groupby('season')\n",
    "        .count()\n",
    "        .toPandas()['season'].tolist()\n",
    ")\n",
    "dvoa_years = set(dvoa_df['season'].value_counts().index)\n",
    "\n",
    "## assert years perfectly overlap\n",
    "## 2018 missing from team_season_df\n",
    "assert team_season_years == dvoa_years"
   ]
  },
  {
   "cell_type": "code",
   "execution_count": 107,
   "metadata": {
    "ExecuteTime": {
     "end_time": "2019-01-20T23:20:48.606594Z",
     "start_time": "2019-01-20T23:20:48.233964Z"
    }
   },
   "outputs": [],
   "source": [
    "team_season_teams = set(\n",
    "    team_season\n",
    "        .groupby('name')\n",
    "        .count()\n",
    "        .toPandas()['name'].tolist()\n",
    ")\n",
    "dvoa_teams = set(dvoa_df['name'].value_counts().index)\n",
    "\n",
    "## assert team names perfectly overlap\n",
    "assert team_season_teams == dvoa_teams"
   ]
  },
  {
   "cell_type": "code",
   "execution_count": 108,
   "metadata": {
    "ExecuteTime": {
     "end_time": "2019-01-20T23:20:48.821386Z",
     "start_time": "2019-01-20T23:20:48.611475Z"
    },
    "run_control": {
     "marked": true
    }
   },
   "outputs": [],
   "source": [
    "#### assert that dvoa_df joins cleanly with team_season table\n",
    "dvoa_size = dvoa_df.shape[0]\n",
    "team_season_size = team_season.count()\n",
    "\n",
    "join_key = ['name','season']\n",
    "join_size = dvoa_df.merge(\n",
    "    team_season.toPandas(), left_on=join_key, right_on=join_key\n",
    ").shape[0]\n",
    "\n",
    "## assert that dvoa_df hits all joins with team_season_df\n",
    "## missing 2018 in team_season_df\n",
    "assert dvoa_size == join_size"
   ]
  },
  {
   "cell_type": "code",
   "execution_count": 109,
   "metadata": {
    "ExecuteTime": {
     "end_time": "2019-01-20T23:20:49.020516Z",
     "start_time": "2019-01-20T23:20:48.827373Z"
    }
   },
   "outputs": [],
   "source": [
    "### convert % columns to floats\n",
    "import numpy as np\n",
    "\n",
    "pct_cols = [\n",
    "    'TOTAL_DAVE','WEIGHTEDDVOA','TOTALDVOA','OFFENSEDVOA','DEFENSEDVOA',\n",
    "    'S.T.DVOA','PAST_SCHED','FUTURE_SCHED','DAVE_OR_WTDDVOA','VAR'\n",
    "]\n",
    "for p in pct_cols:\n",
    "    dvoa_df[p] = dvoa_df[p].str.replace('%','').astype(float).fillna(np.nan)\n",
    "    \n",
    "dvoa_df.columns = map(lambda x: x.lower()\n",
    "                                 .replace('.','_')\n",
    "                                 .replace('-','_'), \n",
    "                      dvoa_df.columns\n",
    "                     )"
   ]
  },
  {
   "cell_type": "code",
   "execution_count": 110,
   "metadata": {
    "ExecuteTime": {
     "end_time": "2019-01-20T23:20:49.040290Z",
     "start_time": "2019-01-20T23:20:49.027020Z"
    }
   },
   "outputs": [],
   "source": [
    "## assert 32 teams\n",
    "tmp = dvoa_df['name'].value_counts()\n",
    "assert tmp.shape[0] == 32\n",
    "## assert every team plays the same amount of games\n",
    "assert tmp.max() == tmp.min()"
   ]
  },
  {
   "cell_type": "code",
   "execution_count": 111,
   "metadata": {
    "ExecuteTime": {
     "end_time": "2019-01-20T23:20:49.221275Z",
     "start_time": "2019-01-20T23:20:49.046803Z"
    }
   },
   "outputs": [],
   "source": [
    "join_key = ['name','season']\n",
    "\n",
    "team_names = spark.table('team').select(*(['team_id'] + join_key)).toPandas()\n",
    "before = dvoa_df.shape[0]\n",
    "dvoa_df = dvoa_df.merge(\n",
    "        team_names, left_on=join_key, right_on=join_key\n",
    "    ).drop(\n",
    "        'name', axis=1\n",
    "    )\n",
    "assert dvoa_df.shape[0] == before"
   ]
  },
  {
   "cell_type": "code",
   "execution_count": 112,
   "metadata": {
    "ExecuteTime": {
     "end_time": "2019-01-20T23:20:49.266458Z",
     "start_time": "2019-01-20T23:20:49.230023Z"
    }
   },
   "outputs": [
    {
     "data": {
      "text/plain": [
       "5984"
      ]
     },
     "execution_count": 112,
     "metadata": {},
     "output_type": "execute_result"
    },
    {
     "data": {
      "text/plain": [
       "5984"
      ]
     },
     "execution_count": 112,
     "metadata": {},
     "output_type": "execute_result"
    }
   ],
   "source": [
    "dvoa_df.shape[0]\n",
    "dvoa_df = dvoa_df.drop_duplicates()\n",
    "dvoa_df.shape[0]"
   ]
  },
  {
   "cell_type": "code",
   "execution_count": 113,
   "metadata": {
    "ExecuteTime": {
     "end_time": "2019-01-20T23:20:49.283080Z",
     "start_time": "2019-01-20T23:20:49.273068Z"
    }
   },
   "outputs": [],
   "source": [
    "cols_rest = list(set(dvoa_df.columns) - set(key))\n",
    "dvoa_df = dvoa_df[key + cols_rest]"
   ]
  },
  {
   "cell_type": "markdown",
   "metadata": {},
   "source": [
    "#### Since playoffs DVOA is not available, set week 18 to all weeks beyond"
   ]
  },
  {
   "cell_type": "code",
   "execution_count": 114,
   "metadata": {
    "ExecuteTime": {
     "end_time": "2019-01-20T23:20:49.547809Z",
     "start_time": "2019-01-20T23:20:49.288494Z"
    }
   },
   "outputs": [
    {
     "data": {
      "text/html": [
       "<div>\n",
       "<style scoped>\n",
       "    .dataframe tbody tr th:only-of-type {\n",
       "        vertical-align: middle;\n",
       "    }\n",
       "\n",
       "    .dataframe tbody tr th {\n",
       "        vertical-align: top;\n",
       "    }\n",
       "\n",
       "    .dataframe thead th {\n",
       "        text-align: right;\n",
       "    }\n",
       "</style>\n",
       "<table border=\"1\" class=\"dataframe\">\n",
       "  <thead>\n",
       "    <tr style=\"text-align: right;\">\n",
       "      <th></th>\n",
       "      <th>team_id</th>\n",
       "      <th>season</th>\n",
       "      <th>week_id</th>\n",
       "      <th>off_rank</th>\n",
       "      <th>weighteddvoa</th>\n",
       "      <th>estim_wins</th>\n",
       "      <th>w_l</th>\n",
       "      <th>totaldvoa</th>\n",
       "      <th>offensedvoa</th>\n",
       "      <th>lastweek</th>\n",
       "      <th>total_dave</th>\n",
       "      <th>future_sched</th>\n",
       "      <th>defensedvoa</th>\n",
       "      <th>past_sched</th>\n",
       "      <th>dave_or_wtddvoa</th>\n",
       "      <th>var</th>\n",
       "      <th>def_rank</th>\n",
       "      <th>s_t_dvoa</th>\n",
       "      <th>s_t_rank</th>\n",
       "    </tr>\n",
       "  </thead>\n",
       "  <tbody>\n",
       "    <tr>\n",
       "      <th>16</th>\n",
       "      <td>pit</td>\n",
       "      <td>2007</td>\n",
       "      <td>18</td>\n",
       "      <td>12</td>\n",
       "      <td>5.6</td>\n",
       "      <td>NaN</td>\n",
       "      <td>10-6</td>\n",
       "      <td>17.5</td>\n",
       "      <td>6.8</td>\n",
       "      <td>7.0</td>\n",
       "      <td>NaN</td>\n",
       "      <td>NaN</td>\n",
       "      <td>-12.3</td>\n",
       "      <td>NaN</td>\n",
       "      <td>5.6</td>\n",
       "      <td>NaN</td>\n",
       "      <td>2</td>\n",
       "      <td>-1.7</td>\n",
       "      <td>21</td>\n",
       "    </tr>\n",
       "    <tr>\n",
       "      <th>33</th>\n",
       "      <td>nwe</td>\n",
       "      <td>2007</td>\n",
       "      <td>18</td>\n",
       "      <td>1</td>\n",
       "      <td>40.6</td>\n",
       "      <td>NaN</td>\n",
       "      <td>16-0</td>\n",
       "      <td>51.8</td>\n",
       "      <td>42.8</td>\n",
       "      <td>1.0</td>\n",
       "      <td>NaN</td>\n",
       "      <td>NaN</td>\n",
       "      <td>-6.1</td>\n",
       "      <td>NaN</td>\n",
       "      <td>40.6</td>\n",
       "      <td>NaN</td>\n",
       "      <td>8</td>\n",
       "      <td>2.9</td>\n",
       "      <td>7</td>\n",
       "    </tr>\n",
       "    <tr>\n",
       "      <th>50</th>\n",
       "      <td>clt</td>\n",
       "      <td>2007</td>\n",
       "      <td>18</td>\n",
       "      <td>2</td>\n",
       "      <td>22.2</td>\n",
       "      <td>NaN</td>\n",
       "      <td>13-3</td>\n",
       "      <td>33.0</td>\n",
       "      <td>28.3</td>\n",
       "      <td>2.0</td>\n",
       "      <td>NaN</td>\n",
       "      <td>NaN</td>\n",
       "      <td>-10.8</td>\n",
       "      <td>NaN</td>\n",
       "      <td>22.2</td>\n",
       "      <td>NaN</td>\n",
       "      <td>3</td>\n",
       "      <td>-6.1</td>\n",
       "      <td>32</td>\n",
       "    </tr>\n",
       "    <tr>\n",
       "      <th>67</th>\n",
       "      <td>min</td>\n",
       "      <td>2007</td>\n",
       "      <td>18</td>\n",
       "      <td>16</td>\n",
       "      <td>6.2</td>\n",
       "      <td>NaN</td>\n",
       "      <td>8-8</td>\n",
       "      <td>4.9</td>\n",
       "      <td>3.4</td>\n",
       "      <td>11.0</td>\n",
       "      <td>NaN</td>\n",
       "      <td>NaN</td>\n",
       "      <td>0.2</td>\n",
       "      <td>NaN</td>\n",
       "      <td>6.2</td>\n",
       "      <td>NaN</td>\n",
       "      <td>18</td>\n",
       "      <td>1.7</td>\n",
       "      <td>9</td>\n",
       "    </tr>\n",
       "    <tr>\n",
       "      <th>84</th>\n",
       "      <td>dal</td>\n",
       "      <td>2007</td>\n",
       "      <td>18</td>\n",
       "      <td>4</td>\n",
       "      <td>17.0</td>\n",
       "      <td>NaN</td>\n",
       "      <td>13-3</td>\n",
       "      <td>23.9</td>\n",
       "      <td>19.0</td>\n",
       "      <td>5.0</td>\n",
       "      <td>NaN</td>\n",
       "      <td>NaN</td>\n",
       "      <td>-5.8</td>\n",
       "      <td>NaN</td>\n",
       "      <td>17.0</td>\n",
       "      <td>NaN</td>\n",
       "      <td>10</td>\n",
       "      <td>-0.9</td>\n",
       "      <td>18</td>\n",
       "    </tr>\n",
       "  </tbody>\n",
       "</table>\n",
       "</div>"
      ],
      "text/plain": [
       "   team_id  season  week_id  off_rank  weighteddvoa  estim_wins   w_l  \\\n",
       "16     pit    2007       18        12           5.6         NaN  10-6   \n",
       "33     nwe    2007       18         1          40.6         NaN  16-0   \n",
       "50     clt    2007       18         2          22.2         NaN  13-3   \n",
       "67     min    2007       18        16           6.2         NaN   8-8   \n",
       "84     dal    2007       18         4          17.0         NaN  13-3   \n",
       "\n",
       "    totaldvoa  offensedvoa  lastweek  total_dave  future_sched  defensedvoa  \\\n",
       "16       17.5          6.8       7.0         NaN           NaN        -12.3   \n",
       "33       51.8         42.8       1.0         NaN           NaN         -6.1   \n",
       "50       33.0         28.3       2.0         NaN           NaN        -10.8   \n",
       "67        4.9          3.4      11.0         NaN           NaN          0.2   \n",
       "84       23.9         19.0       5.0         NaN           NaN         -5.8   \n",
       "\n",
       "    past_sched  dave_or_wtddvoa  var  def_rank  s_t_dvoa  s_t_rank  \n",
       "16         NaN              5.6  NaN         2      -1.7        21  \n",
       "33         NaN             40.6  NaN         8       2.9         7  \n",
       "50         NaN             22.2  NaN         3      -6.1        32  \n",
       "67         NaN              6.2  NaN        18       1.7         9  \n",
       "84         NaN             17.0  NaN        10      -0.9        18  "
      ]
     },
     "execution_count": 114,
     "metadata": {},
     "output_type": "execute_result"
    },
    {
     "name": "stderr",
     "output_type": "stream",
     "text": [
      "/Users/joshplotkin/anaconda2/lib/python2.7/site-packages/ipykernel_launcher.py:5: SettingWithCopyWarning: \n",
      "A value is trying to be set on a copy of a slice from a DataFrame.\n",
      "Try using .loc[row_indexer,col_indexer] = value instead\n",
      "\n",
      "See the caveats in the documentation: http://pandas.pydata.org/pandas-docs/stable/indexing.html#indexing-view-versus-copy\n",
      "  \"\"\"\n"
     ]
    }
   ],
   "source": [
    "repeats = dvoa_df[dvoa_df['week_id'] == 18]\n",
    "repeats.head()\n",
    "\n",
    "for wk in np.arange(19, 22):\n",
    "    repeats['week_id'] = wk\n",
    "    dvoa_df = dvoa_df.append(repeats).reset_index(drop=True)"
   ]
  },
  {
   "cell_type": "markdown",
   "metadata": {
    "ExecuteTime": {
     "end_time": "2019-01-05T05:01:51.229047Z",
     "start_time": "2019-01-05T05:01:51.215668Z"
    }
   },
   "source": [
    "#### Week 1 DVOA isn't available. add NULL rows"
   ]
  },
  {
   "cell_type": "code",
   "execution_count": 115,
   "metadata": {
    "ExecuteTime": {
     "end_time": "2019-01-20T23:20:51.036221Z",
     "start_time": "2019-01-20T23:20:49.554975Z"
    }
   },
   "outputs": [
    {
     "name": "stderr",
     "output_type": "stream",
     "text": [
      "/Users/joshplotkin/anaconda2/lib/python2.7/site-packages/ipykernel_launcher.py:5: SettingWithCopyWarning: \n",
      "A value is trying to be set on a copy of a slice from a DataFrame.\n",
      "Try using .loc[row_indexer,col_indexer] = value instead\n",
      "\n",
      "See the caveats in the documentation: http://pandas.pydata.org/pandas-docs/stable/indexing.html#indexing-view-versus-copy\n",
      "  \"\"\"\n",
      "/Users/joshplotkin/anaconda2/lib/python2.7/site-packages/ipykernel_launcher.py:7: SettingWithCopyWarning: \n",
      "A value is trying to be set on a copy of a slice from a DataFrame.\n",
      "Try using .loc[row_indexer,col_indexer] = value instead\n",
      "\n",
      "See the caveats in the documentation: http://pandas.pydata.org/pandas-docs/stable/indexing.html#indexing-view-versus-copy\n",
      "  import sys\n",
      "/Users/joshplotkin/anaconda2/lib/python2.7/site-packages/ipykernel_launcher.py:10: SettingWithCopyWarning: \n",
      "A value is trying to be set on a copy of a slice from a DataFrame.\n",
      "Try using .loc[row_indexer,col_indexer] = value instead\n",
      "\n",
      "See the caveats in the documentation: http://pandas.pydata.org/pandas-docs/stable/indexing.html#indexing-view-versus-copy\n",
      "  # Remove the CWD from sys.path while we load stuff.\n"
     ]
    }
   ],
   "source": [
    "skip = ['team_id','season','week_id']\n",
    "null_rows = dvoa_df[\n",
    "    (dvoa_df['season'] == 2010) & (dvoa_df['week_id'] == 10)\n",
    "]\n",
    "null_rows['week_id'] = 1\n",
    "for col in filter(lambda x: x not in skip, null_rows.columns):\n",
    "    null_rows[col] = np.nan\n",
    "\n",
    "for season in dvoa_df['season'].unique():\n",
    "    null_rows['season'] = season\n",
    "    dvoa_df = dvoa_df.append(null_rows).reset_index(drop=True)"
   ]
  },
  {
   "cell_type": "code",
   "execution_count": 116,
   "metadata": {
    "ExecuteTime": {
     "end_time": "2019-01-20T23:20:51.054464Z",
     "start_time": "2019-01-20T23:20:51.041143Z"
    }
   },
   "outputs": [
    {
     "data": {
      "text/plain": [
       "1     352\n",
       "2     352\n",
       "3     352\n",
       "4     352\n",
       "5     352\n",
       "6     352\n",
       "7     352\n",
       "8     352\n",
       "9     352\n",
       "10    352\n",
       "11    352\n",
       "12    352\n",
       "13    352\n",
       "14    352\n",
       "15    352\n",
       "16    352\n",
       "17    352\n",
       "18    352\n",
       "19    352\n",
       "20    352\n",
       "21    352\n",
       "Name: week_id, dtype: int64"
      ]
     },
     "execution_count": 116,
     "metadata": {},
     "output_type": "execute_result"
    }
   ],
   "source": [
    "dvoa_df['week_id'].value_counts().sort_index()"
   ]
  },
  {
   "cell_type": "code",
   "execution_count": 117,
   "metadata": {
    "ExecuteTime": {
     "end_time": "2019-01-20T23:20:51.142525Z",
     "start_time": "2019-01-20T23:20:51.058762Z"
    }
   },
   "outputs": [],
   "source": [
    "## assert game_id is unique in metadata\n",
    "assert dvoa_df.groupby(key).size().max() == 1\n",
    "## assert join is 1:many\n",
    "for h_v in ['h','v']:\n",
    "    fkey = ['{}_team_id'.format(h_v),'season','week_id']\n",
    "    assert base_df.shape[0] == base_df[fkey].merge(\n",
    "                                        dvoa_df, left_on=fkey, \n",
    "                                        right_on=key\n",
    "                                    ).shape[0]\n",
    "\n",
    "## assert keys are unique\n",
    "assert base_df.groupby(fkey).size().max() == 1\n",
    "assert dvoa_df.groupby(key).size().max() == 1"
   ]
  },
  {
   "cell_type": "code",
   "execution_count": 118,
   "metadata": {
    "ExecuteTime": {
     "end_time": "2019-01-20T23:20:53.569976Z",
     "start_time": "2019-01-20T23:20:51.148522Z"
    }
   },
   "outputs": [],
   "source": [
    "spark.createDataFrame(\n",
    "    cast_dtypes(dvoa_df)\n",
    ").write.mode('overwrite').mode('overwrite').saveAsTable('dvoa')"
   ]
  }
 ],
 "metadata": {
  "kernelspec": {
   "display_name": "Python 2",
   "language": "python",
   "name": "python2"
  },
  "language_info": {
   "codemirror_mode": {
    "name": "ipython",
    "version": 2
   },
   "file_extension": ".py",
   "mimetype": "text/x-python",
   "name": "python",
   "nbconvert_exporter": "python",
   "pygments_lexer": "ipython2",
   "version": "2.7.15"
  },
  "toc": {
   "base_numbering": 1,
   "nav_menu": {},
   "number_sections": true,
   "sideBar": true,
   "skip_h1_title": false,
   "title_cell": "Table of Contents",
   "title_sidebar": "Contents",
   "toc_cell": false,
   "toc_position": {
    "height": "calc(100% - 180px)",
    "left": "10px",
    "top": "150px",
    "width": "410.984px"
   },
   "toc_section_display": true,
   "toc_window_display": true
  }
 },
 "nbformat": 4,
 "nbformat_minor": 2
}
