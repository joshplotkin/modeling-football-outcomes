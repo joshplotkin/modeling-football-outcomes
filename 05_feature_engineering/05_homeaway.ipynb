{
 "cells": [
  {
   "cell_type": "code",
   "execution_count": 1,
   "metadata": {
    "ExecuteTime": {
     "end_time": "2019-01-25T05:45:05.377803Z",
     "start_time": "2019-01-25T05:44:59.532713Z"
    },
    "scrolled": true
   },
   "outputs": [
    {
     "data": {
      "text/html": [
       "<style>.container {width:90% !important;}</style>"
      ],
      "text/plain": [
       "<IPython.core.display.HTML object>"
      ]
     },
     "metadata": {},
     "output_type": "display_data"
    }
   ],
   "source": [
    "%run ../config/initialize.ipynb\n",
    "from pyspark.sql.window import Window"
   ]
  },
  {
   "cell_type": "markdown",
   "metadata": {},
   "source": [
    "## Global functions"
   ]
  },
  {
   "cell_type": "code",
   "execution_count": 2,
   "metadata": {
    "ExecuteTime": {
     "end_time": "2019-01-25T05:45:05.509874Z",
     "start_time": "2019-01-25T05:45:05.382690Z"
    }
   },
   "outputs": [],
   "source": [
    "def get_outcomes_df():\n",
    "    '''form a Spark DF, keyed on (game_id, team_id), \n",
    "    and including season, date, winner and\n",
    "    whether each of the 3 spreads were covered/pushed\n",
    "    '''\n",
    "    games = spark.table('game').select('game_id','season',col('date').cast(TimestampType()),\n",
    "                                       'v_team_id','h_team_id')\n",
    "    scores = spark.table('game_outcome').select('game_id','h_final','v_final')\n",
    "\n",
    "    spread_cols = ['open_fav','open_spread',\n",
    "                   'close_fav','close_spread',\n",
    "                   'pfr_fav','pfr_spread']\n",
    "\n",
    "    lines = spark.table('game_line').select(\n",
    "        *(['game_id'] + spread_cols)\n",
    "    )\n",
    "\n",
    "    ## winner of game\n",
    "    teams_score = games.join(\n",
    "            scores, on='game_id'\n",
    "        ).join(\n",
    "            lines, on='game_id'\n",
    "        ).withColumn(\n",
    "            'winner', \n",
    "            F.when(col('h_final') > col('v_final'), col('h_team_id'))\n",
    "             .when(col('h_final') < col('v_final'), col('v_team_id'))\n",
    "             .otherwise('')\n",
    "        )\n",
    "\n",
    "    ## whether home team covered spread\n",
    "    ## since spread is the same for both teams\n",
    "    ## inverse is true for visiting team\n",
    "    for spread in ['open','close','pfr']:\n",
    "        teams_score = teams_score.withColumn(\n",
    "            'h_margin', col('h_final') - col('v_final')\n",
    "        ).withColumn(\n",
    "            'h_line', \n",
    "            ## minimum margin\n",
    "            col('{}_spread'.format(spread))\n",
    "            * F.when(col('{}_fav'.format(spread)) == 'H', 1).otherwise(-1)\n",
    "        ).withColumn(\n",
    "            '{}_h_cover'.format(spread),\n",
    "            F.when(\n",
    "                ## push\n",
    "                col('h_margin') == col('h_line'), 0.5)\n",
    "             .when(\n",
    "                col('h_margin') > col('h_line'), 1.)\n",
    "             .otherwise(0.)\n",
    "        ).drop('h_margin','h_line')\n",
    "\n",
    "    teams_score = teams_score.drop(*(['h_final','v_final'] + spread_cols))\n",
    "\n",
    "    team_game = teams_score.withColumn(\n",
    "            'tmp', F.array('h_team_id','v_team_id')\n",
    "        ).select(\n",
    "            '*', \n",
    "            F.explode('tmp').alias('team_id')\n",
    "        ).drop('tmp').cache()\n",
    "\n",
    "    for spread in ['open','close','pfr']:\n",
    "        team_game = team_game.withColumn(\n",
    "                '{}_cover'.format(spread),\n",
    "                F.when(col('h_team_id') == col('team_id'), \n",
    "                       col('{}_h_cover'.format(spread)))\n",
    "                 .otherwise(F.lit(1.) - col('{}_h_cover'.format(spread)))          \n",
    "            ).drop('{}_h_cover'.format(spread))\n",
    "\n",
    "    return team_game.withColumn(\n",
    "            'won_game', \n",
    "            # win\n",
    "            F.when(col('team_id') == col('winner'), 1.)\n",
    "            # tie\n",
    "             .when(col('winner') == '', 0.5)\n",
    "            # loss\n",
    "             .otherwise(0.)\n",
    "        ).drop(\n",
    "            'v_team_id','h_team_id','winner'\n",
    "        ).cache()\n",
    "    \n",
    "def get_window(window_type, n, partition_cols, date_orderby_col):\n",
    "    '''accepts window type (days, games, seasons),\n",
    "     size of window n,\n",
    "     and window fields (partition and sort), \n",
    "     and returns a spark Window'''\n",
    "    assert type(partition_cols) is list\n",
    "    assert type(date_orderby_col) is str\n",
    "    assert type(n) is int\n",
    "    assert window_type in ['games','days','seasons']\n",
    "    \n",
    "    from pyspark.sql.window import Window\n",
    "    if window_type == 'games':\n",
    "        ## fixed number of games\n",
    "        return Window.partitionBy(*partition_cols)\\\n",
    "                  .orderBy(col(date_orderby_col).desc())\\\n",
    "                  .rowsBetween(1, n)\n",
    "\n",
    "    elif window_type == 'days':\n",
    "        ## fixed number of days\n",
    "        seconds = 24*60*60*n\n",
    "        return Window.partitionBy(*partition_cols)\\\n",
    "                  .orderBy(col(date_orderby_col).cast('timestamp').cast('long'))\\\n",
    "                  .rangeBetween(-seconds, -1)\n",
    "\n",
    "    elif window_type == 'seasons':\n",
    "        ## fixed number of seasons, including current\n",
    "        ## n = 1 is YTD\n",
    "        seconds = 24*60*60*(180 + 365*(n-1))\n",
    "        return Window.partitionBy(*partition_cols)\\\n",
    "                  .orderBy(col(date_orderby_col).cast('timestamp').cast('long'))\\\n",
    "                  .rangeBetween(-seconds, -1)   "
   ]
  },
  {
   "cell_type": "markdown",
   "metadata": {},
   "source": [
    "## Home/Away Features\n",
    "* key: (game_id)\n",
    "* table name: features.home_field\n",
    "* __h_is_home__\n",
    "* __v_is_home__\n",
    "* __h_consecutive_home__\n",
    "* __v_consecutive_visitor__\n",
    "* __v_visitor____ovr_wr_ytd__\n",
    "* __v_visitor____open_wr_ytd__\n",
    "* __v_visitor____close_wr_ytd__\n",
    "* __v_visitor____pfr_wr_ytd__\n",
    "* __h_home____ovr_wr_ytd__\n",
    "* __h_home____open_wr_ytd__\n",
    "* __h_home____close_wr_ytd__\n",
    "* __h_home____pfr_wr_ytd__\n",
    "* __v_visitor____ovr_wr_last_4_games__\n",
    "* __v_visitor____ovr_wr_last_8_games__\n",
    "* __v_visitor____open_wr_last_4_games__\n",
    "* __v_visitor____open_wr_last_8_games__\n",
    "* __v_visitor____close_wr_last_4_games__\n",
    "* __v_visitor____close_wr_last_8_games__\n",
    "* __v_visitor____pfr_wr_last_4_games__\n",
    "* __v_visitor____pfr_wr_last_8_games__\n",
    "* __h_home____ovr_wr_last_4_games__\n",
    "* __h_home____ovr_wr_last_8_games__\n",
    "* __h_home____open_wr_last_4_games__\n",
    "* __h_home____open_wr_last_8_games__\n",
    "* __h_home____close_wr_last_4_games__\n",
    "* __h_home____close_wr_last_8_games__\n",
    "* __h_home____pfr_wr_last_4_games__\n",
    "* __h_home____pfr_wr_last_8_games__"
   ]
  },
  {
   "cell_type": "code",
   "execution_count": 3,
   "metadata": {
    "ExecuteTime": {
     "end_time": "2019-01-25T05:45:05.522525Z",
     "start_time": "2019-01-25T05:45:05.515774Z"
    }
   },
   "outputs": [],
   "source": [
    "key = 'game_id'\n",
    "out_tbl = 'features.home_field'\n",
    "features_list = []"
   ]
  },
  {
   "cell_type": "code",
   "execution_count": 4,
   "metadata": {
    "ExecuteTime": {
     "end_time": "2019-01-25T05:45:05.952898Z",
     "start_time": "2019-01-25T05:45:05.528132Z"
    }
   },
   "outputs": [],
   "source": [
    "game = spark.table('game').select('game_id','h_team_id','v_team_id',\n",
    "                                  'is_neutral','season','date')"
   ]
  },
  {
   "cell_type": "markdown",
   "metadata": {},
   "source": [
    "### remove neutral games and add back at the end"
   ]
  },
  {
   "cell_type": "code",
   "execution_count": 5,
   "metadata": {
    "ExecuteTime": {
     "end_time": "2019-01-25T05:45:06.262081Z",
     "start_time": "2019-01-25T05:45:05.958091Z"
    }
   },
   "outputs": [],
   "source": [
    "neutral = game.filter(col('is_neutral') == 1).select('game_id')\n",
    "game = game.filter(col('is_neutral') == 0).drop('is_neutral')"
   ]
  },
  {
   "cell_type": "markdown",
   "metadata": {},
   "source": [
    "### binary H/V"
   ]
  },
  {
   "cell_type": "code",
   "execution_count": 6,
   "metadata": {
    "ExecuteTime": {
     "end_time": "2019-01-25T05:45:06.297886Z",
     "start_time": "2019-01-25T05:45:06.266953Z"
    }
   },
   "outputs": [],
   "source": [
    "hv_feats = game.withColumn(\n",
    "        'h_is_home', F.lit(1.)\n",
    "    ).withColumn(\n",
    "        'v_is_home', F.lit(0)\n",
    "    )\n",
    "\n",
    "stage1_features = ['h_is_home','v_is_home']"
   ]
  },
  {
   "cell_type": "markdown",
   "metadata": {},
   "source": [
    "### Consecutive home/away games"
   ]
  },
  {
   "cell_type": "markdown",
   "metadata": {},
   "source": [
    "#### explode into individual team rows"
   ]
  },
  {
   "cell_type": "code",
   "execution_count": 7,
   "metadata": {
    "ExecuteTime": {
     "end_time": "2019-01-25T05:45:06.309833Z",
     "start_time": "2019-01-25T05:45:06.303719Z"
    }
   },
   "outputs": [],
   "source": [
    "stage2_features = []"
   ]
  },
  {
   "cell_type": "code",
   "execution_count": 8,
   "metadata": {
    "ExecuteTime": {
     "end_time": "2019-01-25T05:45:06.404634Z",
     "start_time": "2019-01-25T05:45:06.315246Z"
    }
   },
   "outputs": [],
   "source": [
    "hv_team = hv_feats.withColumn(\n",
    "        'tmp', F.array('h_team_id','v_team_id')\n",
    "    ).select(\n",
    "        '*', \n",
    "        F.explode('tmp').alias('team_id')\n",
    "    ).select(\n",
    "        'game_id','team_id','season','date',\n",
    "        F.when(col('h_team_id') == col('team_id'), 1)\n",
    "         .otherwise(0)\n",
    "         .alias('is_home')\n",
    "    )"
   ]
  },
  {
   "cell_type": "markdown",
   "metadata": {},
   "source": [
    "#### Consecutive home"
   ]
  },
  {
   "cell_type": "code",
   "execution_count": 9,
   "metadata": {
    "ExecuteTime": {
     "end_time": "2019-01-25T05:45:06.436899Z",
     "start_time": "2019-01-25T05:45:06.409634Z"
    }
   },
   "outputs": [],
   "source": [
    "w = Window.partitionBy(*['team_id','season'])\\\n",
    "        .orderBy(col('date').desc())\\\n",
    "        .rowsBetween(0, 99)"
   ]
  },
  {
   "cell_type": "code",
   "execution_count": 10,
   "metadata": {
    "ExecuteTime": {
     "end_time": "2019-01-25T05:45:06.549400Z",
     "start_time": "2019-01-25T05:45:06.441933Z"
    }
   },
   "outputs": [],
   "source": [
    "def count_consecutive(arr, val):\n",
    "    '''given a list or Spark Array, count\n",
    "    the number of consecutive values matching\n",
    "    \"val\"'''\n",
    "    i = 0\n",
    "    while arr:\n",
    "        if arr[0] == val:\n",
    "            i += 1\n",
    "            arr = arr[1:]\n",
    "        else:\n",
    "            break\n",
    "    return i\n",
    "\n",
    "count_consecutive_udf = udf(count_consecutive, IntegerType())\n",
    "\n",
    "hv_team = hv_team.withColumn(\n",
    "        'h_consecutive_home', \n",
    "        count_consecutive_udf(\n",
    "            F.collect_list('is_home').over(w),\n",
    "            F.lit(1)\n",
    "        )\n",
    "    ).withColumn(\n",
    "        'v_consecutive_visitor', \n",
    "        count_consecutive_udf(\n",
    "            F.collect_list('is_home').over(w),\n",
    "            F.lit(0)\n",
    "        )\n",
    "    )\n",
    "\n",
    "stage2_features += ['h_consecutive_home','v_consecutive_visitor']"
   ]
  },
  {
   "cell_type": "markdown",
   "metadata": {},
   "source": [
    "#### test that it's working properly"
   ]
  },
  {
   "cell_type": "code",
   "execution_count": 11,
   "metadata": {
    "ExecuteTime": {
     "end_time": "2019-01-25T05:45:13.739336Z",
     "start_time": "2019-01-25T05:45:06.554485Z"
    }
   },
   "outputs": [],
   "source": [
    "checks = {\n",
    "    ('nwe', '2008-09-07', 'h_consecutive_home'): 1,\n",
    "    ('nwe', '2018-01-21', 'h_consecutive_home'): 4,\n",
    "    ('nwe', '2017-12-17', 'v_consecutive_visitor'): 3,\n",
    "    ('nwe', '2017-09-24', 'h_consecutive_home'): 1\n",
    "}\n",
    "\n",
    "for (team_id, date, feat), val in checks.iteritems():\n",
    "    assert hv_team.filter(\n",
    "         (col('team_id') == team_id) & (col('date') == date)\n",
    "        ).select(feat).toPandas().iloc[0, 0] == val"
   ]
  },
  {
   "cell_type": "markdown",
   "metadata": {},
   "source": [
    "### home/away record\n",
    "### home/away record ATS"
   ]
  },
  {
   "cell_type": "code",
   "execution_count": 12,
   "metadata": {
    "ExecuteTime": {
     "end_time": "2019-01-25T05:45:18.569664Z",
     "start_time": "2019-01-25T05:45:13.744208Z"
    }
   },
   "outputs": [
    {
     "data": {
      "text/html": [
       "<div>\n",
       "<style scoped>\n",
       "    .dataframe tbody tr th:only-of-type {\n",
       "        vertical-align: middle;\n",
       "    }\n",
       "\n",
       "    .dataframe tbody tr th {\n",
       "        vertical-align: top;\n",
       "    }\n",
       "\n",
       "    .dataframe thead th {\n",
       "        text-align: right;\n",
       "    }\n",
       "</style>\n",
       "<table border=\"1\" class=\"dataframe\">\n",
       "  <thead>\n",
       "    <tr style=\"text-align: right;\">\n",
       "      <th></th>\n",
       "      <th>game_id</th>\n",
       "      <th>team_id</th>\n",
       "      <th>season</th>\n",
       "      <th>date</th>\n",
       "      <th>is_home</th>\n",
       "      <th>h_consecutive_home</th>\n",
       "      <th>v_consecutive_visitor</th>\n",
       "      <th>open_cover</th>\n",
       "      <th>close_cover</th>\n",
       "      <th>pfr_cover</th>\n",
       "      <th>won_game</th>\n",
       "    </tr>\n",
       "  </thead>\n",
       "  <tbody>\n",
       "    <tr>\n",
       "      <th>0</th>\n",
       "      <td>201511150ram</td>\n",
       "      <td>ram</td>\n",
       "      <td>2015</td>\n",
       "      <td>2015-11-15</td>\n",
       "      <td>1</td>\n",
       "      <td>1</td>\n",
       "      <td>0</td>\n",
       "      <td>0.0</td>\n",
       "      <td>0.0</td>\n",
       "      <td>0.0</td>\n",
       "      <td>0.0</td>\n",
       "    </tr>\n",
       "    <tr>\n",
       "      <th>1</th>\n",
       "      <td>201511150ram</td>\n",
       "      <td>chi</td>\n",
       "      <td>2015</td>\n",
       "      <td>2015-11-15</td>\n",
       "      <td>0</td>\n",
       "      <td>0</td>\n",
       "      <td>2</td>\n",
       "      <td>1.0</td>\n",
       "      <td>1.0</td>\n",
       "      <td>1.0</td>\n",
       "      <td>1.0</td>\n",
       "    </tr>\n",
       "    <tr>\n",
       "      <th>2</th>\n",
       "      <td>201511090sdg</td>\n",
       "      <td>sdg</td>\n",
       "      <td>2015</td>\n",
       "      <td>2015-11-09</td>\n",
       "      <td>1</td>\n",
       "      <td>1</td>\n",
       "      <td>0</td>\n",
       "      <td>0.0</td>\n",
       "      <td>0.0</td>\n",
       "      <td>0.0</td>\n",
       "      <td>0.0</td>\n",
       "    </tr>\n",
       "    <tr>\n",
       "      <th>3</th>\n",
       "      <td>201511090sdg</td>\n",
       "      <td>chi</td>\n",
       "      <td>2015</td>\n",
       "      <td>2015-11-09</td>\n",
       "      <td>0</td>\n",
       "      <td>0</td>\n",
       "      <td>1</td>\n",
       "      <td>1.0</td>\n",
       "      <td>1.0</td>\n",
       "      <td>1.0</td>\n",
       "      <td>1.0</td>\n",
       "    </tr>\n",
       "    <tr>\n",
       "      <th>4</th>\n",
       "      <td>201510180det</td>\n",
       "      <td>det</td>\n",
       "      <td>2015</td>\n",
       "      <td>2015-10-18</td>\n",
       "      <td>1</td>\n",
       "      <td>2</td>\n",
       "      <td>0</td>\n",
       "      <td>0.5</td>\n",
       "      <td>0.0</td>\n",
       "      <td>0.5</td>\n",
       "      <td>1.0</td>\n",
       "    </tr>\n",
       "  </tbody>\n",
       "</table>\n",
       "</div>"
      ],
      "text/plain": [
       "        game_id team_id  season        date  is_home  h_consecutive_home  \\\n",
       "0  201511150ram     ram    2015  2015-11-15        1                   1   \n",
       "1  201511150ram     chi    2015  2015-11-15        0                   0   \n",
       "2  201511090sdg     sdg    2015  2015-11-09        1                   1   \n",
       "3  201511090sdg     chi    2015  2015-11-09        0                   0   \n",
       "4  201510180det     det    2015  2015-10-18        1                   2   \n",
       "\n",
       "   v_consecutive_visitor  open_cover  close_cover  pfr_cover  won_game  \n",
       "0                      0         0.0          0.0        0.0       0.0  \n",
       "1                      2         1.0          1.0        1.0       1.0  \n",
       "2                      0         0.0          0.0        0.0       0.0  \n",
       "3                      1         1.0          1.0        1.0       1.0  \n",
       "4                      0         0.5          0.0        0.5       1.0  "
      ]
     },
     "execution_count": 12,
     "metadata": {},
     "output_type": "execute_result"
    }
   ],
   "source": [
    "team_game = get_outcomes_df().drop('date','season')\n",
    "\n",
    "hv_outcome = hv_team.join(team_game, on=['game_id','team_id'])\n",
    "\n",
    "assert hv_outcome.count() == hv_team.count()\n",
    "\n",
    "hv_outcome.limit(5).toPandas()"
   ]
  },
  {
   "cell_type": "markdown",
   "metadata": {},
   "source": [
    "#### YTD winrate home/visitor"
   ]
  },
  {
   "cell_type": "code",
   "execution_count": 13,
   "metadata": {
    "ExecuteTime": {
     "end_time": "2019-01-25T05:45:18.979063Z",
     "start_time": "2019-01-25T05:45:18.574797Z"
    }
   },
   "outputs": [],
   "source": [
    "colname_map = {\n",
    "    'won_game': 'ovr_wr',\n",
    "    'open_cover': 'open_wr',\n",
    "    'close_cover': 'close_wr',\n",
    "    'pfr_cover': 'pfr_wr'\n",
    "}\n",
    "hv_map = {1: 'home', 0: 'visitor'}\n",
    "line_cols = ['won_game','open_cover','close_cover','pfr_cover']\n",
    "\n",
    "n = 99\n",
    "w = get_window('games', n, ['season','team_id'], 'date')\n",
    "\n",
    "for h_v in [0, 1]:\n",
    "    for colname in line_cols:\n",
    "        feat_name = '{}_{}__{}_ytd'\\\n",
    "                        .format(hv_map[h_v][0], hv_map[h_v], \n",
    "                                colname_map[colname])\n",
    "\n",
    "        hv_outcome = hv_outcome.withColumn(\n",
    "                feat_name,\n",
    "                F.sum(colname).over(w)\n",
    "                / F.count(F.lit(1)).over(w)\n",
    "            ).fillna(0.5, feat_name)\n",
    "        \n",
    "        stage2_features.append(feat_name)"
   ]
  },
  {
   "cell_type": "markdown",
   "metadata": {
    "ExecuteTime": {
     "end_time": "2019-01-25T02:09:13.279046Z",
     "start_time": "2019-01-25T02:09:10.293146Z"
    }
   },
   "source": [
    "#### Combine these features into 1 row per game"
   ]
  },
  {
   "cell_type": "code",
   "execution_count": 14,
   "metadata": {
    "ExecuteTime": {
     "end_time": "2019-01-25T05:45:22.028828Z",
     "start_time": "2019-01-25T05:45:18.984558Z"
    }
   },
   "outputs": [],
   "source": [
    "h_hv_outcome = hv_outcome.select(\n",
    "        *([key, 'is_home'] \n",
    "          + filter(lambda x: x.startswith('h_'), stage2_features))\n",
    "    ).filter(\n",
    "        col('is_home') == 1\n",
    "    ).drop('is_home')\n",
    "\n",
    "v_hv_outcome = hv_outcome.select(\n",
    "        *([key, 'is_home'] \n",
    "          + filter(lambda x: x.startswith('v_'), stage2_features))\n",
    "    ).filter(\n",
    "        col('is_home') == 0\n",
    "    ).drop('is_home')\n",
    "\n",
    "ytd_and_streak_features = h_hv_outcome.join(\n",
    "    v_hv_outcome, on='game_id'\n",
    ")\n",
    "\n",
    "assert v_hv_outcome.count() == h_hv_outcome.count()\n",
    "assert ytd_and_streak_features.count() == h_hv_outcome.count()"
   ]
  },
  {
   "cell_type": "code",
   "execution_count": 15,
   "metadata": {
    "ExecuteTime": {
     "end_time": "2019-01-25T05:45:28.165556Z",
     "start_time": "2019-01-25T05:45:22.034317Z"
    }
   },
   "outputs": [
    {
     "data": {
      "text/html": [
       "<div>\n",
       "<style scoped>\n",
       "    .dataframe tbody tr th:only-of-type {\n",
       "        vertical-align: middle;\n",
       "    }\n",
       "\n",
       "    .dataframe tbody tr th {\n",
       "        vertical-align: top;\n",
       "    }\n",
       "\n",
       "    .dataframe thead th {\n",
       "        text-align: right;\n",
       "    }\n",
       "</style>\n",
       "<table border=\"1\" class=\"dataframe\">\n",
       "  <thead>\n",
       "    <tr style=\"text-align: right;\">\n",
       "      <th></th>\n",
       "      <th>game_id</th>\n",
       "      <th>h_consecutive_home</th>\n",
       "      <th>h_home__ovr_wr_ytd</th>\n",
       "      <th>h_home__open_wr_ytd</th>\n",
       "      <th>h_home__close_wr_ytd</th>\n",
       "      <th>h_home__pfr_wr_ytd</th>\n",
       "      <th>v_consecutive_visitor</th>\n",
       "      <th>v_visitor__ovr_wr_ytd</th>\n",
       "      <th>v_visitor__open_wr_ytd</th>\n",
       "      <th>v_visitor__close_wr_ytd</th>\n",
       "      <th>v_visitor__pfr_wr_ytd</th>\n",
       "    </tr>\n",
       "  </thead>\n",
       "  <tbody>\n",
       "    <tr>\n",
       "      <th>0</th>\n",
       "      <td>200709160oti</td>\n",
       "      <td>1</td>\n",
       "      <td>1.000000</td>\n",
       "      <td>1.000000</td>\n",
       "      <td>1.000000</td>\n",
       "      <td>1.000000</td>\n",
       "      <td>1</td>\n",
       "      <td>1.000000</td>\n",
       "      <td>1.000000</td>\n",
       "      <td>1.000000</td>\n",
       "      <td>1.000000</td>\n",
       "    </tr>\n",
       "    <tr>\n",
       "      <th>1</th>\n",
       "      <td>200712020ram</td>\n",
       "      <td>2</td>\n",
       "      <td>0.181818</td>\n",
       "      <td>0.227273</td>\n",
       "      <td>0.272727</td>\n",
       "      <td>0.272727</td>\n",
       "      <td>1</td>\n",
       "      <td>0.272727</td>\n",
       "      <td>0.545455</td>\n",
       "      <td>0.500000</td>\n",
       "      <td>0.545455</td>\n",
       "    </tr>\n",
       "    <tr>\n",
       "      <th>2</th>\n",
       "      <td>200810190tam</td>\n",
       "      <td>2</td>\n",
       "      <td>0.666667</td>\n",
       "      <td>0.750000</td>\n",
       "      <td>0.833333</td>\n",
       "      <td>0.833333</td>\n",
       "      <td>1</td>\n",
       "      <td>0.200000</td>\n",
       "      <td>0.200000</td>\n",
       "      <td>0.200000</td>\n",
       "      <td>0.200000</td>\n",
       "    </tr>\n",
       "    <tr>\n",
       "      <th>3</th>\n",
       "      <td>200812140dal</td>\n",
       "      <td>1</td>\n",
       "      <td>0.615385</td>\n",
       "      <td>0.461538</td>\n",
       "      <td>0.461538</td>\n",
       "      <td>0.461538</td>\n",
       "      <td>1</td>\n",
       "      <td>0.846154</td>\n",
       "      <td>0.692308</td>\n",
       "      <td>0.769231</td>\n",
       "      <td>0.769231</td>\n",
       "    </tr>\n",
       "    <tr>\n",
       "      <th>4</th>\n",
       "      <td>200910250car</td>\n",
       "      <td>1</td>\n",
       "      <td>0.400000</td>\n",
       "      <td>0.200000</td>\n",
       "      <td>0.200000</td>\n",
       "      <td>0.200000</td>\n",
       "      <td>2</td>\n",
       "      <td>0.333333</td>\n",
       "      <td>0.500000</td>\n",
       "      <td>0.500000</td>\n",
       "      <td>0.500000</td>\n",
       "    </tr>\n",
       "  </tbody>\n",
       "</table>\n",
       "</div>"
      ],
      "text/plain": [
       "        game_id  h_consecutive_home  h_home__ovr_wr_ytd  h_home__open_wr_ytd  \\\n",
       "0  200709160oti                   1            1.000000             1.000000   \n",
       "1  200712020ram                   2            0.181818             0.227273   \n",
       "2  200810190tam                   2            0.666667             0.750000   \n",
       "3  200812140dal                   1            0.615385             0.461538   \n",
       "4  200910250car                   1            0.400000             0.200000   \n",
       "\n",
       "   h_home__close_wr_ytd  h_home__pfr_wr_ytd  v_consecutive_visitor  \\\n",
       "0              1.000000            1.000000                      1   \n",
       "1              0.272727            0.272727                      1   \n",
       "2              0.833333            0.833333                      1   \n",
       "3              0.461538            0.461538                      1   \n",
       "4              0.200000            0.200000                      2   \n",
       "\n",
       "   v_visitor__ovr_wr_ytd  v_visitor__open_wr_ytd  v_visitor__close_wr_ytd  \\\n",
       "0               1.000000                1.000000                 1.000000   \n",
       "1               0.272727                0.545455                 0.500000   \n",
       "2               0.200000                0.200000                 0.200000   \n",
       "3               0.846154                0.692308                 0.769231   \n",
       "4               0.333333                0.500000                 0.500000   \n",
       "\n",
       "   v_visitor__pfr_wr_ytd  \n",
       "0               1.000000  \n",
       "1               0.545455  \n",
       "2               0.200000  \n",
       "3               0.769231  \n",
       "4               0.500000  "
      ]
     },
     "execution_count": 15,
     "metadata": {},
     "output_type": "execute_result"
    }
   ],
   "source": [
    "ytd_and_streak_features.limit(5).toPandas()"
   ]
  },
  {
   "cell_type": "markdown",
   "metadata": {},
   "source": [
    "#### last {4, 8} games winrate home/visitor"
   ]
  },
  {
   "cell_type": "code",
   "execution_count": 16,
   "metadata": {
    "ExecuteTime": {
     "end_time": "2019-01-25T05:45:28.175922Z",
     "start_time": "2019-01-25T05:45:28.170428Z"
    }
   },
   "outputs": [],
   "source": [
    "stage3_features = []"
   ]
  },
  {
   "cell_type": "code",
   "execution_count": 17,
   "metadata": {
    "ExecuteTime": {
     "end_time": "2019-01-25T05:45:29.003986Z",
     "start_time": "2019-01-25T05:45:28.181825Z"
    }
   },
   "outputs": [],
   "source": [
    "feat_dict = {}\n",
    "for h_v in [0, 1]:\n",
    "    feat_dict[h_v] = hv_outcome.filter(\n",
    "                        col('is_home') == h_v\n",
    "                    ).select(*(\n",
    "                        ['game_id','team_id','date','season'] + line_cols\n",
    "                    ))\n",
    "    for colname in line_cols:\n",
    "        for n in [4, 8]:\n",
    "            feat_name = '{}_{}__{}_last_{}_games'\\\n",
    "                            .format(hv_map[h_v][0], hv_map[h_v], \n",
    "                                    colname_map[colname], n)\n",
    "\n",
    "            w = get_window('games', n, ['season','team_id'], 'date')\n",
    "\n",
    "            feat_dict[h_v] = feat_dict[h_v].withColumn(\n",
    "                    feat_name,\n",
    "                    F.sum(colname).over(w)\n",
    "                    / F.count(F.lit(1)).over(w)\n",
    "                )\n",
    "            \n",
    "            stage3_features.append(feat_name)\n",
    "            \n",
    "    feat_dict[h_v] = feat_dict[h_v]\\\n",
    "                        .drop(*(line_cols + ['date','season']))\\\n",
    "                        .withColumnRenamed(\n",
    "                            'team_id',\n",
    "                            '{}_team_id'.format(hv_map[h_v][0])\n",
    "                        )\n",
    "    \n",
    "hv_n_games_feats = feat_dict[0].join(feat_dict[1], on=['game_id']).fillna(0.5)"
   ]
  },
  {
   "cell_type": "markdown",
   "metadata": {},
   "source": [
    "### Join 3 features tables"
   ]
  },
  {
   "cell_type": "code",
   "execution_count": 18,
   "metadata": {
    "ExecuteTime": {
     "end_time": "2019-01-25T05:45:36.330006Z",
     "start_time": "2019-01-25T05:45:29.007649Z"
    },
    "scrolled": true
   },
   "outputs": [],
   "source": [
    "sdf_stage1 = hv_feats.select(\n",
    "    *([key] + stage1_features)\n",
    ")\n",
    "\n",
    "sdf_stage2 = ytd_and_streak_features.select(\n",
    "    *([key] + stage2_features)\n",
    ")\n",
    "\n",
    "sdf_stage3 = hv_n_games_feats.select(\n",
    "    *([key] + stage3_features)\n",
    ")\n",
    "\n",
    "features_list = stage1_features + stage2_features + stage3_features\n",
    "\n",
    "assert sdf_stage1.count() == sdf_stage2.count()\n",
    "assert sdf_stage1.count() == sdf_stage3.count()\n",
    "\n",
    "homeaway_feats = sdf_stage1\\\n",
    "                    .join(sdf_stage2, on='game_id')\\\n",
    "                    .join(sdf_stage3, on='game_id')\n",
    "\n",
    "assert homeaway_feats.count() == sdf_stage1.count()"
   ]
  },
  {
   "cell_type": "markdown",
   "metadata": {},
   "source": [
    "### Left todo\n",
    "* join 3 together\n",
    " * original with (game_id, h_team_id, v_team_id): __hv_feats__\n",
    " * YTD winrates (game_id, team_id): __hv_outcome__\n",
    " * last N games winrates (game_id, h_team_id, v_team_id): __hv_n_games_feats__\n",
    "* better maintain features list\n",
    "* join in neutral\n",
    "* write table"
   ]
  },
  {
   "cell_type": "markdown",
   "metadata": {},
   "source": [
    "### add neutral games back in, and impute"
   ]
  },
  {
   "cell_type": "markdown",
   "metadata": {},
   "source": [
    "#### mapping of fillna values\n",
    "* default is 0.5"
   ]
  },
  {
   "cell_type": "code",
   "execution_count": 19,
   "metadata": {
    "ExecuteTime": {
     "end_time": "2019-01-25T05:45:36.522762Z",
     "start_time": "2019-01-25T05:45:36.335223Z"
    }
   },
   "outputs": [],
   "source": [
    "fillna_dict = {\n",
    "    'h_consecutive_home': 0,\n",
    "    'v_consecutive_visitor': 0\n",
    "}\n",
    "\n",
    "for k,v in fillna_dict.iteritems():\n",
    "    homeaway_feats = homeaway_feats.fillna(v, k)\n",
    "homeaway_feats = homeaway_feats.fillna(0.5, features_list)"
   ]
  },
  {
   "cell_type": "code",
   "execution_count": 20,
   "metadata": {
    "ExecuteTime": {
     "end_time": "2019-01-25T05:45:36.697493Z",
     "start_time": "2019-01-25T05:45:36.527194Z"
    }
   },
   "outputs": [],
   "source": [
    "for f in features_list:\n",
    "    neutral = neutral.withColumn(f, F.lit(fillna_dict.get(f, 0.5)))"
   ]
  },
  {
   "cell_type": "code",
   "execution_count": 21,
   "metadata": {
    "ExecuteTime": {
     "end_time": "2019-01-25T05:45:36.858008Z",
     "start_time": "2019-01-25T05:45:36.703046Z"
    }
   },
   "outputs": [
    {
     "data": {
      "text/html": [
       "<div>\n",
       "<style scoped>\n",
       "    .dataframe tbody tr th:only-of-type {\n",
       "        vertical-align: middle;\n",
       "    }\n",
       "\n",
       "    .dataframe tbody tr th {\n",
       "        vertical-align: top;\n",
       "    }\n",
       "\n",
       "    .dataframe thead th {\n",
       "        text-align: right;\n",
       "    }\n",
       "</style>\n",
       "<table border=\"1\" class=\"dataframe\">\n",
       "  <thead>\n",
       "    <tr style=\"text-align: right;\">\n",
       "      <th></th>\n",
       "      <th>game_id</th>\n",
       "      <th>h_is_home</th>\n",
       "      <th>v_is_home</th>\n",
       "      <th>h_consecutive_home</th>\n",
       "      <th>v_consecutive_visitor</th>\n",
       "      <th>v_visitor__ovr_wr_ytd</th>\n",
       "      <th>v_visitor__open_wr_ytd</th>\n",
       "      <th>v_visitor__close_wr_ytd</th>\n",
       "      <th>v_visitor__pfr_wr_ytd</th>\n",
       "      <th>h_home__ovr_wr_ytd</th>\n",
       "      <th>...</th>\n",
       "      <th>v_visitor__pfr_wr_last_4_games</th>\n",
       "      <th>v_visitor__pfr_wr_last_8_games</th>\n",
       "      <th>h_home__ovr_wr_last_4_games</th>\n",
       "      <th>h_home__ovr_wr_last_8_games</th>\n",
       "      <th>h_home__open_wr_last_4_games</th>\n",
       "      <th>h_home__open_wr_last_8_games</th>\n",
       "      <th>h_home__close_wr_last_4_games</th>\n",
       "      <th>h_home__close_wr_last_8_games</th>\n",
       "      <th>h_home__pfr_wr_last_4_games</th>\n",
       "      <th>h_home__pfr_wr_last_8_games</th>\n",
       "    </tr>\n",
       "  </thead>\n",
       "  <tbody>\n",
       "    <tr>\n",
       "      <th>0</th>\n",
       "      <td>201610230ram</td>\n",
       "      <td>0.5</td>\n",
       "      <td>0.5</td>\n",
       "      <td>0</td>\n",
       "      <td>0</td>\n",
       "      <td>0.5</td>\n",
       "      <td>0.5</td>\n",
       "      <td>0.5</td>\n",
       "      <td>0.5</td>\n",
       "      <td>0.5</td>\n",
       "      <td>...</td>\n",
       "      <td>0.5</td>\n",
       "      <td>0.5</td>\n",
       "      <td>0.5</td>\n",
       "      <td>0.5</td>\n",
       "      <td>0.5</td>\n",
       "      <td>0.5</td>\n",
       "      <td>0.5</td>\n",
       "      <td>0.5</td>\n",
       "      <td>0.5</td>\n",
       "      <td>0.5</td>\n",
       "    </tr>\n",
       "    <tr>\n",
       "      <th>1</th>\n",
       "      <td>201610020jax</td>\n",
       "      <td>0.5</td>\n",
       "      <td>0.5</td>\n",
       "      <td>0</td>\n",
       "      <td>0</td>\n",
       "      <td>0.5</td>\n",
       "      <td>0.5</td>\n",
       "      <td>0.5</td>\n",
       "      <td>0.5</td>\n",
       "      <td>0.5</td>\n",
       "      <td>...</td>\n",
       "      <td>0.5</td>\n",
       "      <td>0.5</td>\n",
       "      <td>0.5</td>\n",
       "      <td>0.5</td>\n",
       "      <td>0.5</td>\n",
       "      <td>0.5</td>\n",
       "      <td>0.5</td>\n",
       "      <td>0.5</td>\n",
       "      <td>0.5</td>\n",
       "      <td>0.5</td>\n",
       "    </tr>\n",
       "    <tr>\n",
       "      <th>2</th>\n",
       "      <td>201611210rai</td>\n",
       "      <td>0.5</td>\n",
       "      <td>0.5</td>\n",
       "      <td>0</td>\n",
       "      <td>0</td>\n",
       "      <td>0.5</td>\n",
       "      <td>0.5</td>\n",
       "      <td>0.5</td>\n",
       "      <td>0.5</td>\n",
       "      <td>0.5</td>\n",
       "      <td>...</td>\n",
       "      <td>0.5</td>\n",
       "      <td>0.5</td>\n",
       "      <td>0.5</td>\n",
       "      <td>0.5</td>\n",
       "      <td>0.5</td>\n",
       "      <td>0.5</td>\n",
       "      <td>0.5</td>\n",
       "      <td>0.5</td>\n",
       "      <td>0.5</td>\n",
       "      <td>0.5</td>\n",
       "    </tr>\n",
       "    <tr>\n",
       "      <th>3</th>\n",
       "      <td>201710010mia</td>\n",
       "      <td>0.5</td>\n",
       "      <td>0.5</td>\n",
       "      <td>0</td>\n",
       "      <td>0</td>\n",
       "      <td>0.5</td>\n",
       "      <td>0.5</td>\n",
       "      <td>0.5</td>\n",
       "      <td>0.5</td>\n",
       "      <td>0.5</td>\n",
       "      <td>...</td>\n",
       "      <td>0.5</td>\n",
       "      <td>0.5</td>\n",
       "      <td>0.5</td>\n",
       "      <td>0.5</td>\n",
       "      <td>0.5</td>\n",
       "      <td>0.5</td>\n",
       "      <td>0.5</td>\n",
       "      <td>0.5</td>\n",
       "      <td>0.5</td>\n",
       "      <td>0.5</td>\n",
       "    </tr>\n",
       "    <tr>\n",
       "      <th>4</th>\n",
       "      <td>201709240jax</td>\n",
       "      <td>0.5</td>\n",
       "      <td>0.5</td>\n",
       "      <td>0</td>\n",
       "      <td>0</td>\n",
       "      <td>0.5</td>\n",
       "      <td>0.5</td>\n",
       "      <td>0.5</td>\n",
       "      <td>0.5</td>\n",
       "      <td>0.5</td>\n",
       "      <td>...</td>\n",
       "      <td>0.5</td>\n",
       "      <td>0.5</td>\n",
       "      <td>0.5</td>\n",
       "      <td>0.5</td>\n",
       "      <td>0.5</td>\n",
       "      <td>0.5</td>\n",
       "      <td>0.5</td>\n",
       "      <td>0.5</td>\n",
       "      <td>0.5</td>\n",
       "      <td>0.5</td>\n",
       "    </tr>\n",
       "  </tbody>\n",
       "</table>\n",
       "<p>5 rows × 29 columns</p>\n",
       "</div>"
      ],
      "text/plain": [
       "        game_id  h_is_home  v_is_home  h_consecutive_home  \\\n",
       "0  201610230ram        0.5        0.5                   0   \n",
       "1  201610020jax        0.5        0.5                   0   \n",
       "2  201611210rai        0.5        0.5                   0   \n",
       "3  201710010mia        0.5        0.5                   0   \n",
       "4  201709240jax        0.5        0.5                   0   \n",
       "\n",
       "   v_consecutive_visitor  v_visitor__ovr_wr_ytd  v_visitor__open_wr_ytd  \\\n",
       "0                      0                    0.5                     0.5   \n",
       "1                      0                    0.5                     0.5   \n",
       "2                      0                    0.5                     0.5   \n",
       "3                      0                    0.5                     0.5   \n",
       "4                      0                    0.5                     0.5   \n",
       "\n",
       "   v_visitor__close_wr_ytd  v_visitor__pfr_wr_ytd  h_home__ovr_wr_ytd  \\\n",
       "0                      0.5                    0.5                 0.5   \n",
       "1                      0.5                    0.5                 0.5   \n",
       "2                      0.5                    0.5                 0.5   \n",
       "3                      0.5                    0.5                 0.5   \n",
       "4                      0.5                    0.5                 0.5   \n",
       "\n",
       "              ...               v_visitor__pfr_wr_last_4_games  \\\n",
       "0             ...                                          0.5   \n",
       "1             ...                                          0.5   \n",
       "2             ...                                          0.5   \n",
       "3             ...                                          0.5   \n",
       "4             ...                                          0.5   \n",
       "\n",
       "   v_visitor__pfr_wr_last_8_games  h_home__ovr_wr_last_4_games  \\\n",
       "0                             0.5                          0.5   \n",
       "1                             0.5                          0.5   \n",
       "2                             0.5                          0.5   \n",
       "3                             0.5                          0.5   \n",
       "4                             0.5                          0.5   \n",
       "\n",
       "   h_home__ovr_wr_last_8_games  h_home__open_wr_last_4_games  \\\n",
       "0                          0.5                           0.5   \n",
       "1                          0.5                           0.5   \n",
       "2                          0.5                           0.5   \n",
       "3                          0.5                           0.5   \n",
       "4                          0.5                           0.5   \n",
       "\n",
       "   h_home__open_wr_last_8_games  h_home__close_wr_last_4_games  \\\n",
       "0                           0.5                            0.5   \n",
       "1                           0.5                            0.5   \n",
       "2                           0.5                            0.5   \n",
       "3                           0.5                            0.5   \n",
       "4                           0.5                            0.5   \n",
       "\n",
       "   h_home__close_wr_last_8_games  h_home__pfr_wr_last_4_games  \\\n",
       "0                            0.5                          0.5   \n",
       "1                            0.5                          0.5   \n",
       "2                            0.5                          0.5   \n",
       "3                            0.5                          0.5   \n",
       "4                            0.5                          0.5   \n",
       "\n",
       "   h_home__pfr_wr_last_8_games  \n",
       "0                          0.5  \n",
       "1                          0.5  \n",
       "2                          0.5  \n",
       "3                          0.5  \n",
       "4                          0.5  \n",
       "\n",
       "[5 rows x 29 columns]"
      ]
     },
     "execution_count": 21,
     "metadata": {},
     "output_type": "execute_result"
    }
   ],
   "source": [
    "neutral.limit(5).toPandas()"
   ]
  },
  {
   "cell_type": "code",
   "execution_count": 22,
   "metadata": {
    "ExecuteTime": {
     "end_time": "2019-01-25T05:45:36.896095Z",
     "start_time": "2019-01-25T05:45:36.862736Z"
    }
   },
   "outputs": [],
   "source": [
    "homeaway_feats_w_neutral = homeaway_feats.union(neutral)"
   ]
  },
  {
   "cell_type": "markdown",
   "metadata": {},
   "source": [
    "## Write table"
   ]
  },
  {
   "cell_type": "code",
   "execution_count": 23,
   "metadata": {
    "ExecuteTime": {
     "end_time": "2019-01-25T05:45:36.905504Z",
     "start_time": "2019-01-25T05:45:36.900734Z"
    }
   },
   "outputs": [
    {
     "name": "stdout",
     "output_type": "stream",
     "text": [
      "* __h_is_home__\n",
      "* __v_is_home__\n",
      "* __h_consecutive_home__\n",
      "* __v_consecutive_visitor__\n",
      "* __v_visitor__ovr_wr_ytd__\n",
      "* __v_visitor__open_wr_ytd__\n",
      "* __v_visitor__close_wr_ytd__\n",
      "* __v_visitor__pfr_wr_ytd__\n",
      "* __h_home__ovr_wr_ytd__\n",
      "* __h_home__open_wr_ytd__\n",
      "* __h_home__close_wr_ytd__\n",
      "* __h_home__pfr_wr_ytd__\n",
      "* __v_visitor__ovr_wr_last_4_games__\n",
      "* __v_visitor__ovr_wr_last_8_games__\n",
      "* __v_visitor__open_wr_last_4_games__\n",
      "* __v_visitor__open_wr_last_8_games__\n",
      "* __v_visitor__close_wr_last_4_games__\n",
      "* __v_visitor__close_wr_last_8_games__\n",
      "* __v_visitor__pfr_wr_last_4_games__\n",
      "* __v_visitor__pfr_wr_last_8_games__\n",
      "* __h_home__ovr_wr_last_4_games__\n",
      "* __h_home__ovr_wr_last_8_games__\n",
      "* __h_home__open_wr_last_4_games__\n",
      "* __h_home__open_wr_last_8_games__\n",
      "* __h_home__close_wr_last_4_games__\n",
      "* __h_home__close_wr_last_8_games__\n",
      "* __h_home__pfr_wr_last_4_games__\n",
      "* __h_home__pfr_wr_last_8_games__\n"
     ]
    }
   ],
   "source": [
    "print '* __' + '__\\n* __'.join(features_list) + '__'"
   ]
  },
  {
   "cell_type": "code",
   "execution_count": 24,
   "metadata": {
    "ExecuteTime": {
     "end_time": "2019-01-25T05:45:53.561109Z",
     "start_time": "2019-01-25T05:45:36.909551Z"
    }
   },
   "outputs": [],
   "source": [
    "homeaway_feats_w_neutral.select(*([key] + features_list))\\\n",
    "              .write.mode('overwrite').saveAsTable(out_tbl)"
   ]
  },
  {
   "cell_type": "code",
   "execution_count": 25,
   "metadata": {
    "ExecuteTime": {
     "end_time": "2019-01-25T05:46:00.367051Z",
     "start_time": "2019-01-25T05:45:53.566472Z"
    }
   },
   "outputs": [],
   "source": [
    "assert homeaway_feats_w_neutral.join(\n",
    "            spark.table('game'), on='game_id'\n",
    "        ).count() == homeaway_feats_w_neutral.count()"
   ]
  },
  {
   "cell_type": "code",
   "execution_count": 26,
   "metadata": {
    "ExecuteTime": {
     "end_time": "2019-01-25T05:46:00.589785Z",
     "start_time": "2019-01-25T05:46:00.370363Z"
    }
   },
   "outputs": [
    {
     "data": {
      "text/html": [
       "<div>\n",
       "<style scoped>\n",
       "    .dataframe tbody tr th:only-of-type {\n",
       "        vertical-align: middle;\n",
       "    }\n",
       "\n",
       "    .dataframe tbody tr th {\n",
       "        vertical-align: top;\n",
       "    }\n",
       "\n",
       "    .dataframe thead th {\n",
       "        text-align: right;\n",
       "    }\n",
       "</style>\n",
       "<table border=\"1\" class=\"dataframe\">\n",
       "  <thead>\n",
       "    <tr style=\"text-align: right;\">\n",
       "      <th></th>\n",
       "      <th>0</th>\n",
       "      <th>1</th>\n",
       "      <th>2</th>\n",
       "      <th>3</th>\n",
       "      <th>4</th>\n",
       "    </tr>\n",
       "  </thead>\n",
       "  <tbody>\n",
       "    <tr>\n",
       "      <th>game_id</th>\n",
       "      <td>200709300dal</td>\n",
       "      <td>200710070htx</td>\n",
       "      <td>200811090nyj</td>\n",
       "      <td>200910180nor</td>\n",
       "      <td>200910250cle</td>\n",
       "    </tr>\n",
       "    <tr>\n",
       "      <th>h_is_home</th>\n",
       "      <td>1</td>\n",
       "      <td>1</td>\n",
       "      <td>1</td>\n",
       "      <td>1</td>\n",
       "      <td>1</td>\n",
       "    </tr>\n",
       "    <tr>\n",
       "      <th>v_is_home</th>\n",
       "      <td>0</td>\n",
       "      <td>0</td>\n",
       "      <td>0</td>\n",
       "      <td>0</td>\n",
       "      <td>0</td>\n",
       "    </tr>\n",
       "    <tr>\n",
       "      <th>h_consecutive_home</th>\n",
       "      <td>1</td>\n",
       "      <td>1</td>\n",
       "      <td>1</td>\n",
       "      <td>2</td>\n",
       "      <td>1</td>\n",
       "    </tr>\n",
       "    <tr>\n",
       "      <th>v_consecutive_visitor</th>\n",
       "      <td>2</td>\n",
       "      <td>1</td>\n",
       "      <td>1</td>\n",
       "      <td>1</td>\n",
       "      <td>1</td>\n",
       "    </tr>\n",
       "    <tr>\n",
       "      <th>v_visitor__ovr_wr_ytd</th>\n",
       "      <td>0</td>\n",
       "      <td>0</td>\n",
       "      <td>0.25</td>\n",
       "      <td>1</td>\n",
       "      <td>0.6</td>\n",
       "    </tr>\n",
       "    <tr>\n",
       "      <th>v_visitor__open_wr_ytd</th>\n",
       "      <td>0</td>\n",
       "      <td>0.25</td>\n",
       "      <td>0.3125</td>\n",
       "      <td>0.9</td>\n",
       "      <td>0.6</td>\n",
       "    </tr>\n",
       "    <tr>\n",
       "      <th>v_visitor__close_wr_ytd</th>\n",
       "      <td>0</td>\n",
       "      <td>0.25</td>\n",
       "      <td>0.3125</td>\n",
       "      <td>0.9</td>\n",
       "      <td>0.6</td>\n",
       "    </tr>\n",
       "    <tr>\n",
       "      <th>v_visitor__pfr_wr_ytd</th>\n",
       "      <td>0</td>\n",
       "      <td>0.25</td>\n",
       "      <td>0.375</td>\n",
       "      <td>0.9</td>\n",
       "      <td>0.6</td>\n",
       "    </tr>\n",
       "    <tr>\n",
       "      <th>h_home__ovr_wr_ytd</th>\n",
       "      <td>1</td>\n",
       "      <td>0.5</td>\n",
       "      <td>0.625</td>\n",
       "      <td>1</td>\n",
       "      <td>0.166667</td>\n",
       "    </tr>\n",
       "    <tr>\n",
       "      <th>h_home__open_wr_ytd</th>\n",
       "      <td>1</td>\n",
       "      <td>0.5</td>\n",
       "      <td>0.5</td>\n",
       "      <td>1</td>\n",
       "      <td>0.5</td>\n",
       "    </tr>\n",
       "    <tr>\n",
       "      <th>h_home__close_wr_ytd</th>\n",
       "      <td>1</td>\n",
       "      <td>0.75</td>\n",
       "      <td>0.5</td>\n",
       "      <td>1</td>\n",
       "      <td>0.5</td>\n",
       "    </tr>\n",
       "    <tr>\n",
       "      <th>h_home__pfr_wr_ytd</th>\n",
       "      <td>1</td>\n",
       "      <td>0.75</td>\n",
       "      <td>0.5</td>\n",
       "      <td>1</td>\n",
       "      <td>0.5</td>\n",
       "    </tr>\n",
       "    <tr>\n",
       "      <th>v_visitor__ovr_wr_last_4_games</th>\n",
       "      <td>0</td>\n",
       "      <td>0</td>\n",
       "      <td>0.25</td>\n",
       "      <td>1</td>\n",
       "      <td>0.5</td>\n",
       "    </tr>\n",
       "    <tr>\n",
       "      <th>v_visitor__ovr_wr_last_8_games</th>\n",
       "      <td>0</td>\n",
       "      <td>0</td>\n",
       "      <td>0.25</td>\n",
       "      <td>1</td>\n",
       "      <td>0.5</td>\n",
       "    </tr>\n",
       "    <tr>\n",
       "      <th>v_visitor__open_wr_last_4_games</th>\n",
       "      <td>0</td>\n",
       "      <td>0.5</td>\n",
       "      <td>0.375</td>\n",
       "      <td>1</td>\n",
       "      <td>0.5</td>\n",
       "    </tr>\n",
       "    <tr>\n",
       "      <th>v_visitor__open_wr_last_8_games</th>\n",
       "      <td>0</td>\n",
       "      <td>0.5</td>\n",
       "      <td>0.375</td>\n",
       "      <td>1</td>\n",
       "      <td>0.5</td>\n",
       "    </tr>\n",
       "    <tr>\n",
       "      <th>v_visitor__close_wr_last_4_games</th>\n",
       "      <td>0</td>\n",
       "      <td>0.5</td>\n",
       "      <td>0.375</td>\n",
       "      <td>1</td>\n",
       "      <td>0.5</td>\n",
       "    </tr>\n",
       "    <tr>\n",
       "      <th>v_visitor__close_wr_last_8_games</th>\n",
       "      <td>0</td>\n",
       "      <td>0.5</td>\n",
       "      <td>0.375</td>\n",
       "      <td>1</td>\n",
       "      <td>0.5</td>\n",
       "    </tr>\n",
       "    <tr>\n",
       "      <th>v_visitor__pfr_wr_last_4_games</th>\n",
       "      <td>0</td>\n",
       "      <td>0.5</td>\n",
       "      <td>0.5</td>\n",
       "      <td>1</td>\n",
       "      <td>0.5</td>\n",
       "    </tr>\n",
       "    <tr>\n",
       "      <th>v_visitor__pfr_wr_last_8_games</th>\n",
       "      <td>0</td>\n",
       "      <td>0.5</td>\n",
       "      <td>0.5</td>\n",
       "      <td>1</td>\n",
       "      <td>0.5</td>\n",
       "    </tr>\n",
       "    <tr>\n",
       "      <th>h_home__ovr_wr_last_4_games</th>\n",
       "      <td>1</td>\n",
       "      <td>0.5</td>\n",
       "      <td>0.75</td>\n",
       "      <td>1</td>\n",
       "      <td>0</td>\n",
       "    </tr>\n",
       "    <tr>\n",
       "      <th>h_home__ovr_wr_last_8_games</th>\n",
       "      <td>1</td>\n",
       "      <td>0.5</td>\n",
       "      <td>0.75</td>\n",
       "      <td>1</td>\n",
       "      <td>0</td>\n",
       "    </tr>\n",
       "    <tr>\n",
       "      <th>h_home__open_wr_last_4_games</th>\n",
       "      <td>1</td>\n",
       "      <td>0.5</td>\n",
       "      <td>0.5</td>\n",
       "      <td>1</td>\n",
       "      <td>0.5</td>\n",
       "    </tr>\n",
       "    <tr>\n",
       "      <th>h_home__open_wr_last_8_games</th>\n",
       "      <td>1</td>\n",
       "      <td>0.5</td>\n",
       "      <td>0.5</td>\n",
       "      <td>1</td>\n",
       "      <td>0.5</td>\n",
       "    </tr>\n",
       "    <tr>\n",
       "      <th>h_home__close_wr_last_4_games</th>\n",
       "      <td>1</td>\n",
       "      <td>1</td>\n",
       "      <td>0.5</td>\n",
       "      <td>1</td>\n",
       "      <td>0.5</td>\n",
       "    </tr>\n",
       "    <tr>\n",
       "      <th>h_home__close_wr_last_8_games</th>\n",
       "      <td>1</td>\n",
       "      <td>1</td>\n",
       "      <td>0.5</td>\n",
       "      <td>1</td>\n",
       "      <td>0.5</td>\n",
       "    </tr>\n",
       "    <tr>\n",
       "      <th>h_home__pfr_wr_last_4_games</th>\n",
       "      <td>1</td>\n",
       "      <td>1</td>\n",
       "      <td>0.5</td>\n",
       "      <td>1</td>\n",
       "      <td>0.5</td>\n",
       "    </tr>\n",
       "    <tr>\n",
       "      <th>h_home__pfr_wr_last_8_games</th>\n",
       "      <td>1</td>\n",
       "      <td>1</td>\n",
       "      <td>0.5</td>\n",
       "      <td>1</td>\n",
       "      <td>0.5</td>\n",
       "    </tr>\n",
       "  </tbody>\n",
       "</table>\n",
       "</div>"
      ],
      "text/plain": [
       "                                             0             1             2  \\\n",
       "game_id                           200709300dal  200710070htx  200811090nyj   \n",
       "h_is_home                                    1             1             1   \n",
       "v_is_home                                    0             0             0   \n",
       "h_consecutive_home                           1             1             1   \n",
       "v_consecutive_visitor                        2             1             1   \n",
       "v_visitor__ovr_wr_ytd                        0             0          0.25   \n",
       "v_visitor__open_wr_ytd                       0          0.25        0.3125   \n",
       "v_visitor__close_wr_ytd                      0          0.25        0.3125   \n",
       "v_visitor__pfr_wr_ytd                        0          0.25         0.375   \n",
       "h_home__ovr_wr_ytd                           1           0.5         0.625   \n",
       "h_home__open_wr_ytd                          1           0.5           0.5   \n",
       "h_home__close_wr_ytd                         1          0.75           0.5   \n",
       "h_home__pfr_wr_ytd                           1          0.75           0.5   \n",
       "v_visitor__ovr_wr_last_4_games               0             0          0.25   \n",
       "v_visitor__ovr_wr_last_8_games               0             0          0.25   \n",
       "v_visitor__open_wr_last_4_games              0           0.5         0.375   \n",
       "v_visitor__open_wr_last_8_games              0           0.5         0.375   \n",
       "v_visitor__close_wr_last_4_games             0           0.5         0.375   \n",
       "v_visitor__close_wr_last_8_games             0           0.5         0.375   \n",
       "v_visitor__pfr_wr_last_4_games               0           0.5           0.5   \n",
       "v_visitor__pfr_wr_last_8_games               0           0.5           0.5   \n",
       "h_home__ovr_wr_last_4_games                  1           0.5          0.75   \n",
       "h_home__ovr_wr_last_8_games                  1           0.5          0.75   \n",
       "h_home__open_wr_last_4_games                 1           0.5           0.5   \n",
       "h_home__open_wr_last_8_games                 1           0.5           0.5   \n",
       "h_home__close_wr_last_4_games                1             1           0.5   \n",
       "h_home__close_wr_last_8_games                1             1           0.5   \n",
       "h_home__pfr_wr_last_4_games                  1             1           0.5   \n",
       "h_home__pfr_wr_last_8_games                  1             1           0.5   \n",
       "\n",
       "                                             3             4  \n",
       "game_id                           200910180nor  200910250cle  \n",
       "h_is_home                                    1             1  \n",
       "v_is_home                                    0             0  \n",
       "h_consecutive_home                           2             1  \n",
       "v_consecutive_visitor                        1             1  \n",
       "v_visitor__ovr_wr_ytd                        1           0.6  \n",
       "v_visitor__open_wr_ytd                     0.9           0.6  \n",
       "v_visitor__close_wr_ytd                    0.9           0.6  \n",
       "v_visitor__pfr_wr_ytd                      0.9           0.6  \n",
       "h_home__ovr_wr_ytd                           1      0.166667  \n",
       "h_home__open_wr_ytd                          1           0.5  \n",
       "h_home__close_wr_ytd                         1           0.5  \n",
       "h_home__pfr_wr_ytd                           1           0.5  \n",
       "v_visitor__ovr_wr_last_4_games               1           0.5  \n",
       "v_visitor__ovr_wr_last_8_games               1           0.5  \n",
       "v_visitor__open_wr_last_4_games              1           0.5  \n",
       "v_visitor__open_wr_last_8_games              1           0.5  \n",
       "v_visitor__close_wr_last_4_games             1           0.5  \n",
       "v_visitor__close_wr_last_8_games             1           0.5  \n",
       "v_visitor__pfr_wr_last_4_games               1           0.5  \n",
       "v_visitor__pfr_wr_last_8_games               1           0.5  \n",
       "h_home__ovr_wr_last_4_games                  1             0  \n",
       "h_home__ovr_wr_last_8_games                  1             0  \n",
       "h_home__open_wr_last_4_games                 1           0.5  \n",
       "h_home__open_wr_last_8_games                 1           0.5  \n",
       "h_home__close_wr_last_4_games                1           0.5  \n",
       "h_home__close_wr_last_8_games                1           0.5  \n",
       "h_home__pfr_wr_last_4_games                  1           0.5  \n",
       "h_home__pfr_wr_last_8_games                  1           0.5  "
      ]
     },
     "execution_count": 26,
     "metadata": {},
     "output_type": "execute_result"
    }
   ],
   "source": [
    "spark.table(out_tbl).limit(5).toPandas().T"
   ]
  },
  {
   "cell_type": "markdown",
   "metadata": {},
   "source": [
    "### Days since last home/visitor game\n",
    "* __a bye week is like a home game <-- tabling for now due to complexity this causes__\n",
    "  * this is only needed to assess length of road trip -- byes are irrelevant for home streak\n",
    "* impute 7 days for visitor since last home, since it's likely the beginning of the season. \n",
    "* if this turns out to be a good feature, look at a more precise method."
   ]
  },
  {
   "cell_type": "code",
   "execution_count": null,
   "metadata": {
    "ExecuteTime": {
     "end_time": "2019-01-25T05:46:00.991195Z",
     "start_time": "2019-01-25T05:44:59.565Z"
    }
   },
   "outputs": [],
   "source": [
    "w = Window.partitionBy(*['team_id','season'])\\\n",
    "        .orderBy(col('date').desc())\\\n",
    "        .rowsBetween(1, 2)\n",
    "         \n",
    "## is_home == 1 means last time team was at home\n",
    "## excludes home teams for this week\n",
    "is_home = 1\n",
    "hv_name = 'home'\n",
    "\n",
    "df = hv_team.withColumn(\n",
    "    'days_since_last_{}'.format(hv_name), \n",
    "    F.when(col('is_home') != is_home,\n",
    "        F.datediff(\n",
    "            'date',\n",
    "            F.max(\n",
    "                F.when(col('is_home') == 1, col('date')).otherwise(None)\n",
    "            ).over(w)\n",
    "        ))\n",
    "    .otherwise(0)\n",
    ").filter(col('team_id') == 'nwe').toPandas()"
   ]
  },
  {
   "cell_type": "code",
   "execution_count": null,
   "metadata": {
    "ExecuteTime": {
     "end_time": "2019-01-25T05:46:00.992634Z",
     "start_time": "2019-01-25T05:44:59.567Z"
    }
   },
   "outputs": [],
   "source": [
    "df.sort_values(by='date')"
   ]
  }
 ],
 "metadata": {
  "kernelspec": {
   "display_name": "Python 2",
   "language": "python",
   "name": "python2"
  },
  "language_info": {
   "codemirror_mode": {
    "name": "ipython",
    "version": 2
   },
   "file_extension": ".py",
   "mimetype": "text/x-python",
   "name": "python",
   "nbconvert_exporter": "python",
   "pygments_lexer": "ipython2",
   "version": "2.7.15"
  },
  "toc": {
   "base_numbering": 1,
   "nav_menu": {},
   "number_sections": true,
   "sideBar": true,
   "skip_h1_title": false,
   "title_cell": "Table of Contents",
   "title_sidebar": "Contents",
   "toc_cell": false,
   "toc_position": {
    "height": "calc(100% - 180px)",
    "left": "10px",
    "top": "150px",
    "width": "336px"
   },
   "toc_section_display": true,
   "toc_window_display": true
  }
 },
 "nbformat": 4,
 "nbformat_minor": 2
}
