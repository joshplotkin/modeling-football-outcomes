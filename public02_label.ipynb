{
 "cells": [
  {
   "cell_type": "markdown",
   "metadata": {},
   "source": [
    "### Boilerplate"
   ]
  },
  {
   "cell_type": "code",
   "execution_count": 92,
   "metadata": {
    "ExecuteTime": {
     "end_time": "2018-12-31T20:59:57.242006Z",
     "start_time": "2018-12-31T20:59:57.191050Z"
    }
   },
   "outputs": [
    {
     "data": {
      "text/html": [
       "<style>.container {width:90% !important;}</style>"
      ],
      "text/plain": [
       "<IPython.core.display.HTML object>"
      ]
     },
     "metadata": {},
     "output_type": "display_data"
    },
    {
     "data": {
      "text/plain": [
       "DataFrame[]"
      ]
     },
     "execution_count": 92,
     "metadata": {},
     "output_type": "execute_result"
    },
    {
     "data": {
      "text/plain": [
       "DataFrame[]"
      ]
     },
     "execution_count": 92,
     "metadata": {},
     "output_type": "execute_result"
    }
   ],
   "source": [
    "from bs4 import BeautifulSoup\n",
    "from cycler import cycler\n",
    "import pandas as pd\n",
    "from matplotlib import pyplot as plt\n",
    "import numpy as np\n",
    "import json\n",
    "from datetime import datetime, date, timedelta\n",
    "import requests\n",
    "import seaborn as sns\n",
    "\n",
    "import pyspark.sql.functions as F\n",
    "from pyspark.sql.functions import col, udf\n",
    "from pyspark.sql.types import *\n",
    "\n",
    "from IPython.core.interactiveshell import InteractiveShell\n",
    "from IPython.core.display import display, HTML\n",
    "InteractiveShell.ast_node_interactivity = \"all\"\n",
    "display(HTML('<style>.container {width:90% !important;}</style>'))\n",
    "\n",
    "plt.style.use('fivethirtyeight')\n",
    "%matplotlib inline\n",
    "\n",
    "spark.sql('CREATE DATABASE IF NOT EXISTS football_games')\n",
    "spark.sql('USE football_games')\n",
    "\n",
    "os.chdir('../football_data')"
   ]
  },
  {
   "cell_type": "code",
   "execution_count": 3,
   "metadata": {
    "ExecuteTime": {
     "end_time": "2018-12-31T20:18:58.056470Z",
     "start_time": "2018-12-31T20:18:57.969655Z"
    }
   },
   "outputs": [
    {
     "data": {
      "text/html": [
       "<div>\n",
       "<style scoped>\n",
       "    .dataframe tbody tr th:only-of-type {\n",
       "        vertical-align: middle;\n",
       "    }\n",
       "\n",
       "    .dataframe tbody tr th {\n",
       "        vertical-align: top;\n",
       "    }\n",
       "\n",
       "    .dataframe thead th {\n",
       "        text-align: right;\n",
       "    }\n",
       "</style>\n",
       "<table border=\"1\" class=\"dataframe\">\n",
       "  <thead>\n",
       "    <tr style=\"text-align: right;\">\n",
       "      <th></th>\n",
       "      <th>database</th>\n",
       "      <th>tableName</th>\n",
       "      <th>isTemporary</th>\n",
       "    </tr>\n",
       "  </thead>\n",
       "  <tbody>\n",
       "    <tr>\n",
       "      <th>0</th>\n",
       "      <td>football_games</td>\n",
       "      <td>coach</td>\n",
       "      <td>False</td>\n",
       "    </tr>\n",
       "    <tr>\n",
       "      <th>1</th>\n",
       "      <td>football_games</td>\n",
       "      <td>dvoa</td>\n",
       "      <td>False</td>\n",
       "    </tr>\n",
       "    <tr>\n",
       "      <th>2</th>\n",
       "      <td>football_games</td>\n",
       "      <td>game</td>\n",
       "      <td>False</td>\n",
       "    </tr>\n",
       "    <tr>\n",
       "      <th>3</th>\n",
       "      <td>football_games</td>\n",
       "      <td>game_line</td>\n",
       "      <td>False</td>\n",
       "    </tr>\n",
       "    <tr>\n",
       "      <th>4</th>\n",
       "      <td>football_games</td>\n",
       "      <td>game_metadata</td>\n",
       "      <td>False</td>\n",
       "    </tr>\n",
       "    <tr>\n",
       "      <th>5</th>\n",
       "      <td>football_games</td>\n",
       "      <td>game_outcome</td>\n",
       "      <td>False</td>\n",
       "    </tr>\n",
       "    <tr>\n",
       "      <th>6</th>\n",
       "      <td>football_games</td>\n",
       "      <td>games_denorm</td>\n",
       "      <td>False</td>\n",
       "    </tr>\n",
       "    <tr>\n",
       "      <th>7</th>\n",
       "      <td>football_games</td>\n",
       "      <td>stadium</td>\n",
       "      <td>False</td>\n",
       "    </tr>\n",
       "    <tr>\n",
       "      <th>8</th>\n",
       "      <td>football_games</td>\n",
       "      <td>team</td>\n",
       "      <td>False</td>\n",
       "    </tr>\n",
       "    <tr>\n",
       "      <th>9</th>\n",
       "      <td>football_games</td>\n",
       "      <td>team_season</td>\n",
       "      <td>False</td>\n",
       "    </tr>\n",
       "  </tbody>\n",
       "</table>\n",
       "</div>"
      ],
      "text/plain": [
       "         database      tableName  isTemporary\n",
       "0  football_games          coach        False\n",
       "1  football_games           dvoa        False\n",
       "2  football_games           game        False\n",
       "3  football_games      game_line        False\n",
       "4  football_games  game_metadata        False\n",
       "5  football_games   game_outcome        False\n",
       "6  football_games   games_denorm        False\n",
       "7  football_games        stadium        False\n",
       "8  football_games           team        False\n",
       "9  football_games    team_season        False"
      ]
     },
     "execution_count": 3,
     "metadata": {},
     "output_type": "execute_result"
    }
   ],
   "source": [
    "spark.sql('show tables').toPandas()"
   ]
  },
  {
   "cell_type": "markdown",
   "metadata": {},
   "source": [
    "### Matplotlib Boilerplate"
   ]
  },
  {
   "cell_type": "code",
   "execution_count": 71,
   "metadata": {
    "ExecuteTime": {
     "end_time": "2018-12-31T20:51:31.460420Z",
     "start_time": "2018-12-31T20:51:31.455610Z"
    }
   },
   "outputs": [],
   "source": [
    "from matplotlib import rcParams"
   ]
  },
  {
   "cell_type": "code",
   "execution_count": 73,
   "metadata": {
    "ExecuteTime": {
     "end_time": "2018-12-31T20:51:47.600884Z",
     "start_time": "2018-12-31T20:51:47.590090Z"
    }
   },
   "outputs": [
    {
     "data": {
      "text/plain": [
       "[('axes.titlepad', 6.0),\n",
       " ('axes.titlesize', u'x-large'),\n",
       " ('axes.titleweight', 'normal'),\n",
       " ('figure.titlesize', 'large'),\n",
       " ('figure.titleweight', 'normal')]"
      ]
     },
     "execution_count": 73,
     "metadata": {},
     "output_type": "execute_result"
    }
   ],
   "source": [
    "filter(lambda (k,v): 'title' in k, rcParams.iteritems())"
   ]
  },
  {
   "cell_type": "code",
   "execution_count": 93,
   "metadata": {
    "ExecuteTime": {
     "end_time": "2018-12-31T21:00:02.740522Z",
     "start_time": "2018-12-31T21:00:02.648762Z"
    }
   },
   "outputs": [
    {
     "data": {
      "image/png": "[encoded data removed]",
      "text/plain": [
       "<Figure size 576x72 with 1 Axes>"
      ]
     },
     "metadata": {
      "needs_background": "light"
     },
     "output_type": "display_data"
    }
   ],
   "source": [
    "rcParams['axes.titleweight'] = 'bold'\n",
    "rcParams['axes.titlesize'] = 14\n",
    "rcParams['figure.titleweight'] = 'bold'\n",
    "rcParams['text.color'] = '#262626'\n",
    "\n",
    "## colors\n",
    "color_palette = 'Set2'\n",
    "colors = sns.color_palette(color_palette)\n",
    "sns.palplot(sns.color_palette(color_palette))\n",
    "rcParams['axes.prop_cycle'] = cycler(color=colors)"
   ]
  },
  {
   "cell_type": "markdown",
   "metadata": {},
   "source": [
    "### Join/select to get needed data"
   ]
  },
  {
   "cell_type": "code",
   "execution_count": 18,
   "metadata": {
    "ExecuteTime": {
     "end_time": "2018-12-31T20:30:56.700956Z",
     "start_time": "2018-12-31T20:30:56.660807Z"
    }
   },
   "outputs": [],
   "source": [
    "game = spark.table('game_outcome').select('game_id','H_score','V_score').cache()"
   ]
  },
  {
   "cell_type": "code",
   "execution_count": 19,
   "metadata": {
    "ExecuteTime": {
     "end_time": "2018-12-31T20:30:57.007153Z",
     "start_time": "2018-12-31T20:30:56.969119Z"
    }
   },
   "outputs": [],
   "source": [
    "meta = spark.table('game_metadata').select('game_id','season','week_id','day_of_week').cache()"
   ]
  },
  {
   "cell_type": "code",
   "execution_count": 20,
   "metadata": {
    "ExecuteTime": {
     "end_time": "2018-12-31T20:31:00.582630Z",
     "start_time": "2018-12-31T20:31:00.420509Z"
    }
   },
   "outputs": [
    {
     "data": {
      "text/html": [
       "<div>\n",
       "<style scoped>\n",
       "    .dataframe tbody tr th:only-of-type {\n",
       "        vertical-align: middle;\n",
       "    }\n",
       "\n",
       "    .dataframe tbody tr th {\n",
       "        vertical-align: top;\n",
       "    }\n",
       "\n",
       "    .dataframe thead th {\n",
       "        text-align: right;\n",
       "    }\n",
       "</style>\n",
       "<table border=\"1\" class=\"dataframe\">\n",
       "  <thead>\n",
       "    <tr style=\"text-align: right;\">\n",
       "      <th></th>\n",
       "      <th>game_id</th>\n",
       "      <th>H_score</th>\n",
       "      <th>V_score</th>\n",
       "    </tr>\n",
       "  </thead>\n",
       "  <tbody>\n",
       "    <tr>\n",
       "      <th>0</th>\n",
       "      <td>201511150ram</td>\n",
       "      <td>13</td>\n",
       "      <td>37</td>\n",
       "    </tr>\n",
       "    <tr>\n",
       "      <th>1</th>\n",
       "      <td>201511090sdg</td>\n",
       "      <td>19</td>\n",
       "      <td>22</td>\n",
       "    </tr>\n",
       "    <tr>\n",
       "      <th>2</th>\n",
       "      <td>201510180det</td>\n",
       "      <td>37</td>\n",
       "      <td>34</td>\n",
       "    </tr>\n",
       "    <tr>\n",
       "      <th>3</th>\n",
       "      <td>201512270tam</td>\n",
       "      <td>21</td>\n",
       "      <td>26</td>\n",
       "    </tr>\n",
       "    <tr>\n",
       "      <th>4</th>\n",
       "      <td>201510110kan</td>\n",
       "      <td>17</td>\n",
       "      <td>18</td>\n",
       "    </tr>\n",
       "  </tbody>\n",
       "</table>\n",
       "</div>"
      ],
      "text/plain": [
       "        game_id  H_score  V_score\n",
       "0  201511150ram       13       37\n",
       "1  201511090sdg       19       22\n",
       "2  201510180det       37       34\n",
       "3  201512270tam       21       26\n",
       "4  201510110kan       17       18"
      ]
     },
     "execution_count": 20,
     "metadata": {},
     "output_type": "execute_result"
    },
    {
     "data": {
      "text/html": [
       "<div>\n",
       "<style scoped>\n",
       "    .dataframe tbody tr th:only-of-type {\n",
       "        vertical-align: middle;\n",
       "    }\n",
       "\n",
       "    .dataframe tbody tr th {\n",
       "        vertical-align: top;\n",
       "    }\n",
       "\n",
       "    .dataframe thead th {\n",
       "        text-align: right;\n",
       "    }\n",
       "</style>\n",
       "<table border=\"1\" class=\"dataframe\">\n",
       "  <thead>\n",
       "    <tr style=\"text-align: right;\">\n",
       "      <th></th>\n",
       "      <th>game_id</th>\n",
       "      <th>season</th>\n",
       "      <th>week_id</th>\n",
       "      <th>day_of_week</th>\n",
       "    </tr>\n",
       "  </thead>\n",
       "  <tbody>\n",
       "    <tr>\n",
       "      <th>0</th>\n",
       "      <td>200909140nwe</td>\n",
       "      <td>2009</td>\n",
       "      <td>0</td>\n",
       "      <td>0</td>\n",
       "    </tr>\n",
       "    <tr>\n",
       "      <th>1</th>\n",
       "      <td>200911150oti</td>\n",
       "      <td>2009</td>\n",
       "      <td>9</td>\n",
       "      <td>6</td>\n",
       "    </tr>\n",
       "    <tr>\n",
       "      <th>2</th>\n",
       "      <td>200912270atl</td>\n",
       "      <td>2009</td>\n",
       "      <td>15</td>\n",
       "      <td>6</td>\n",
       "    </tr>\n",
       "    <tr>\n",
       "      <th>3</th>\n",
       "      <td>200912130kan</td>\n",
       "      <td>2009</td>\n",
       "      <td>13</td>\n",
       "      <td>6</td>\n",
       "    </tr>\n",
       "    <tr>\n",
       "      <th>4</th>\n",
       "      <td>201001030min</td>\n",
       "      <td>2009</td>\n",
       "      <td>16</td>\n",
       "      <td>6</td>\n",
       "    </tr>\n",
       "  </tbody>\n",
       "</table>\n",
       "</div>"
      ],
      "text/plain": [
       "        game_id  season  week_id  day_of_week\n",
       "0  200909140nwe    2009        0            0\n",
       "1  200911150oti    2009        9            6\n",
       "2  200912270atl    2009       15            6\n",
       "3  200912130kan    2009       13            6\n",
       "4  201001030min    2009       16            6"
      ]
     },
     "execution_count": 20,
     "metadata": {},
     "output_type": "execute_result"
    }
   ],
   "source": [
    "game.limit(5).toPandas()\n",
    "meta.limit(5).toPandas()"
   ]
  },
  {
   "cell_type": "code",
   "execution_count": 35,
   "metadata": {
    "ExecuteTime": {
     "end_time": "2018-12-31T20:40:26.479241Z",
     "start_time": "2018-12-31T20:40:26.205796Z"
    }
   },
   "outputs": [],
   "source": [
    "df = game.join(meta, on='game_id')\n",
    "assert game.count() == df.count()\n",
    "assert meta.count() == df.count()"
   ]
  },
  {
   "cell_type": "code",
   "execution_count": 36,
   "metadata": {
    "ExecuteTime": {
     "end_time": "2018-12-31T20:40:27.107167Z",
     "start_time": "2018-12-31T20:40:27.021652Z"
    }
   },
   "outputs": [
    {
     "data": {
      "text/html": [
       "<div>\n",
       "<style scoped>\n",
       "    .dataframe tbody tr th:only-of-type {\n",
       "        vertical-align: middle;\n",
       "    }\n",
       "\n",
       "    .dataframe tbody tr th {\n",
       "        vertical-align: top;\n",
       "    }\n",
       "\n",
       "    .dataframe thead th {\n",
       "        text-align: right;\n",
       "    }\n",
       "</style>\n",
       "<table border=\"1\" class=\"dataframe\">\n",
       "  <thead>\n",
       "    <tr style=\"text-align: right;\">\n",
       "      <th></th>\n",
       "      <th>game_id</th>\n",
       "      <th>H_score</th>\n",
       "      <th>V_score</th>\n",
       "      <th>season</th>\n",
       "      <th>week_id</th>\n",
       "      <th>day_of_week</th>\n",
       "    </tr>\n",
       "  </thead>\n",
       "  <tbody>\n",
       "    <tr>\n",
       "      <th>0</th>\n",
       "      <td>200909140nwe</td>\n",
       "      <td>25</td>\n",
       "      <td>24</td>\n",
       "      <td>2009</td>\n",
       "      <td>0</td>\n",
       "      <td>0</td>\n",
       "    </tr>\n",
       "    <tr>\n",
       "      <th>1</th>\n",
       "      <td>200911150oti</td>\n",
       "      <td>41</td>\n",
       "      <td>17</td>\n",
       "      <td>2009</td>\n",
       "      <td>9</td>\n",
       "      <td>6</td>\n",
       "    </tr>\n",
       "    <tr>\n",
       "      <th>2</th>\n",
       "      <td>200912270atl</td>\n",
       "      <td>31</td>\n",
       "      <td>3</td>\n",
       "      <td>2009</td>\n",
       "      <td>15</td>\n",
       "      <td>6</td>\n",
       "    </tr>\n",
       "    <tr>\n",
       "      <th>3</th>\n",
       "      <td>200912130kan</td>\n",
       "      <td>10</td>\n",
       "      <td>16</td>\n",
       "      <td>2009</td>\n",
       "      <td>13</td>\n",
       "      <td>6</td>\n",
       "    </tr>\n",
       "    <tr>\n",
       "      <th>4</th>\n",
       "      <td>201001030min</td>\n",
       "      <td>44</td>\n",
       "      <td>7</td>\n",
       "      <td>2009</td>\n",
       "      <td>16</td>\n",
       "      <td>6</td>\n",
       "    </tr>\n",
       "  </tbody>\n",
       "</table>\n",
       "</div>"
      ],
      "text/plain": [
       "        game_id  H_score  V_score  season  week_id  day_of_week\n",
       "0  200909140nwe       25       24    2009        0            0\n",
       "1  200911150oti       41       17    2009        9            6\n",
       "2  200912270atl       31        3    2009       15            6\n",
       "3  200912130kan       10       16    2009       13            6\n",
       "4  201001030min       44        7    2009       16            6"
      ]
     },
     "execution_count": 36,
     "metadata": {},
     "output_type": "execute_result"
    }
   ],
   "source": [
    "df.limit(5).toPandas()"
   ]
  },
  {
   "cell_type": "markdown",
   "metadata": {},
   "source": [
    "### Exploring Scores via Spark\n",
    "* distribution of winning scores\n",
    "* distribution of losing scores\n",
    "* distribution of margins of victory\n",
    "* distribution of (mean) winning score by year"
   ]
  },
  {
   "cell_type": "code",
   "execution_count": 81,
   "metadata": {
    "ExecuteTime": {
     "end_time": "2018-12-31T20:54:33.278736Z",
     "start_time": "2018-12-31T20:54:33.212235Z"
    }
   },
   "outputs": [],
   "source": [
    "df = df.withColumn(\n",
    "            'winning_team', \n",
    "            F.when(col('H_score') > col('V_score'), 'H')\n",
    "             .when(col('H_score') < col('V_score'), 'V')\n",
    "             .otherwise('T')\n",
    "        ).withColumn(\n",
    "            'winning_score', \n",
    "            F.when(col('winning_team') == 'H', col('H_score'))\n",
    "             .otherwise(col('V_score'))\n",
    "        ).withColumn(\n",
    "            'losing_score', \n",
    "            F.when(col('winning_team') == 'H', col('V_score'))\n",
    "             .otherwise(col('H_score'))\n",
    "        ).withColumn(\n",
    "            'winning_margin', \n",
    "            F.abs(col('H_score') - col('V_score'))\n",
    "        ).withColumn(\n",
    "            'home_net', \n",
    "            col('H_score') - col('V_score')\n",
    "        )"
   ]
  },
  {
   "cell_type": "code",
   "execution_count": 40,
   "metadata": {
    "ExecuteTime": {
     "end_time": "2018-12-31T20:40:44.989521Z",
     "start_time": "2018-12-31T20:40:44.688461Z"
    }
   },
   "outputs": [
    {
     "name": "stdout",
     "output_type": "stream",
     "text": [
      "home team wins 57.0% of the time\n"
     ]
    },
    {
     "data": {
      "text/html": [
       "<div>\n",
       "<style scoped>\n",
       "    .dataframe tbody tr th:only-of-type {\n",
       "        vertical-align: middle;\n",
       "    }\n",
       "\n",
       "    .dataframe tbody tr th {\n",
       "        vertical-align: top;\n",
       "    }\n",
       "\n",
       "    .dataframe thead th {\n",
       "        text-align: right;\n",
       "    }\n",
       "</style>\n",
       "<table border=\"1\" class=\"dataframe\">\n",
       "  <thead>\n",
       "    <tr style=\"text-align: right;\">\n",
       "      <th></th>\n",
       "      <th>count</th>\n",
       "    </tr>\n",
       "    <tr>\n",
       "      <th>winning_team</th>\n",
       "      <th></th>\n",
       "    </tr>\n",
       "  </thead>\n",
       "  <tbody>\n",
       "    <tr>\n",
       "      <th>T</th>\n",
       "      <td>6</td>\n",
       "    </tr>\n",
       "    <tr>\n",
       "      <th>V</th>\n",
       "      <td>1257</td>\n",
       "    </tr>\n",
       "    <tr>\n",
       "      <th>H</th>\n",
       "      <td>1674</td>\n",
       "    </tr>\n",
       "  </tbody>\n",
       "</table>\n",
       "</div>"
      ],
      "text/plain": [
       "              count\n",
       "winning_team       \n",
       "T                 6\n",
       "V              1257\n",
       "H              1674"
      ]
     },
     "execution_count": 40,
     "metadata": {},
     "output_type": "execute_result"
    }
   ],
   "source": [
    "winners = df.groupby('winning_team').count().toPandas().set_index('winning_team')\n",
    "print 'home team wins {:.1f}% of the time'.format(\n",
    "    winners.loc['H','count'].astype(float) / winners['count'].sum()*100\n",
    ")\n",
    "winners"
   ]
  },
  {
   "cell_type": "code",
   "execution_count": 112,
   "metadata": {
    "ExecuteTime": {
     "end_time": "2018-12-31T21:09:27.149706Z",
     "start_time": "2018-12-31T21:09:25.561162Z"
    }
   },
   "outputs": [],
   "source": [
    "def agg_scores(df, ngames, scores):\n",
    "    scores = df.withColumn('prop', F.lit(1) / ngames)\\\n",
    "                       .groupby(scores)\\\n",
    "                       .agg(F.sum('prop').alias('prop'))\\\n",
    "                       .toPandas()\\\n",
    "                       .set_index(scores)\\\n",
    "                       .sort_index()\n",
    "\n",
    "    assert np.abs(scores['prop'].sum() - 1) < 1e-10\n",
    "\n",
    "    new_index = np.arange(\n",
    "        scores.index.min(),\n",
    "        scores.index.max()+1,\n",
    "    )\n",
    "\n",
    "    return scores.reindex(new_index).fillna(0)\n",
    "\n",
    "ngames = F.lit(float(df.count()))\n",
    "winning_scores = agg_scores(df, ngames, 'winning_score')\n",
    "losing_scores = agg_scores(df, ngames, 'losing_score')\n",
    "margin = agg_scores(df, ngames, 'winning_margin')\n",
    "home_net = agg_scores(df, ngames, 'home_net')"
   ]
  },
  {
   "cell_type": "code",
   "execution_count": 122,
   "metadata": {
    "ExecuteTime": {
     "end_time": "2018-12-31T21:11:30.069316Z",
     "start_time": "2018-12-31T21:11:27.488810Z"
    }
   },
   "outputs": [
    {
     "data": {
      "image/png": "[encoded data removed]",
      "text/plain": [
       "<Figure size 864x576 with 1 Axes>"
      ]
     },
     "metadata": {
      "needs_background": "light"
     },
     "output_type": "display_data"
    },
    {
     "data": {
      "image/png": "[encoded data removed]",
      "text/plain": [
       "<Figure size 864x576 with 1 Axes>"
      ]
     },
     "metadata": {
      "needs_background": "light"
     },
     "output_type": "display_data"
    },
    {
     "data": {
      "image/png": "[encoded data removed]",
      "text/plain": [
       "<Figure size 864x576 with 1 Axes>"
      ]
     },
     "metadata": {
      "needs_background": "light"
     },
     "output_type": "display_data"
    },
    {
     "data": {
      "image/png": "[encoded data removed]",
      "text/plain": [
       "<Figure size 864x576 with 1 Axes>"
      ]
     },
     "metadata": {
      "needs_background": "light"
     },
     "output_type": "display_data"
    }
   ],
   "source": [
    "_ = winning_scores.plot(kind='bar', figsize=(12,8), rot=0, legend=None)\n",
    "_ = plt.title(\n",
    "    'Distribution of winning scores', \n",
    "    color='#262626', fontsize=14, fontweight='bold'\n",
    " )\n",
    "\n",
    "_ = losing_scores.plot(\n",
    "    kind='bar', figsize=(12,8), rot=0, legend=None, color=colors[1]\n",
    ")\n",
    "_ = plt.title(\n",
    "    'Distribution of losing scores', color='#262626', fontsize=14, fontweight='bold'\n",
    " )\n",
    "\n",
    "_ = margin.plot(\n",
    "    kind='bar', figsize=(12,8), rot=0, legend=None, color=colors[2]\n",
    ")\n",
    "_ = plt.title(\n",
    "    'Distribution of winning margin', \n",
    "    color='#262626', fontsize=14, fontweight='bold'\n",
    " )\n",
    "\n",
    "_ = home_net.loc[-27:28, :].plot(\n",
    "    kind='bar', figsize=(12,8), rot=30, legend=None, color=colors[3]\n",
    ")\n",
    "_ = plt.title(\n",
    "    'Distribution of home team\\'s net result (showing +/- 27 only)', \n",
    "    color='#262626', fontsize=14, fontweight='bold'\n",
    " )"
   ]
  },
  {
   "cell_type": "code",
   "execution_count": 114,
   "metadata": {
    "ExecuteTime": {
     "end_time": "2018-12-31T21:09:31.126669Z",
     "start_time": "2018-12-31T21:09:30.108618Z"
    },
    "scrolled": false
   },
   "outputs": [
    {
     "data": {
      "image/png": "[encoded data removed]",
      "text/plain": [
       "<Figure size 864x576 with 1 Axes>"
      ]
     },
     "metadata": {
      "needs_background": "light"
     },
     "output_type": "display_data"
    }
   ],
   "source": [
    "combined_scores = winning_scores.rename(columns={'prop':'Winning Scores'}).merge(\n",
    "        losing_scores.rename(columns={'prop':'Losing Scores'}), \n",
    "        left_index=True, right_index=True, how='outer'\n",
    "    ).fillna(0)\n",
    "\n",
    "_ = combined_scores.plot(\n",
    "    kind='bar', figsize=(12,8), rot=0\n",
    ")\n",
    "_ = plt.title(\n",
    "    'Distribution of winning and losing scores', \n",
    "    color='#262626', fontsize=14, fontweight='bold'\n",
    " )"
   ]
  },
  {
   "cell_type": "code",
   "execution_count": 125,
   "metadata": {
    "ExecuteTime": {
     "end_time": "2018-12-31T21:13:12.580595Z",
     "start_time": "2018-12-31T21:13:11.788305Z"
    },
    "scrolled": false
   },
   "outputs": [
    {
     "data": {
      "image/png": "[encoded data removed]",
      "text/plain": [
       "<Figure size 864x576 with 1 Axes>"
      ]
     },
     "metadata": {
      "needs_background": "light"
     },
     "output_type": "display_data"
    },
    {
     "data": {
      "image/png": "[encoded data removed]",
      "text/plain": [
       "<Figure size 864x576 with 1 Axes>"
      ]
     },
     "metadata": {
      "needs_background": "light"
     },
     "output_type": "display_data"
    },
    {
     "data": {
      "image/png": "[encoded data removed]",
      "text/plain": [
       "<Figure size 864x576 with 1 Axes>"
      ]
     },
     "metadata": {
      "needs_background": "light"
     },
     "output_type": "display_data"
    },
    {
     "data": {
      "image/png": "[encoded data removed]",
      "text/plain": [
       "<Figure size 864x576 with 1 Axes>"
      ]
     },
     "metadata": {
      "needs_background": "light"
     },
     "output_type": "display_data"
    }
   ],
   "source": [
    "_ = winning_scores.sort_values(\n",
    "    by='prop', ascending=False\n",
    ").head(10).plot(kind='bar', figsize=(12,8), rot=0, legend=None)\n",
    "_ = plt.title('Top 10 Most Frequent Winning Scores')\n",
    "\n",
    "_ = losing_scores.sort_values(\n",
    "    by='prop', ascending=False\n",
    ").head(10).plot(kind='bar', figsize=(12,8), rot=0, \n",
    "                legend=None, color=colors[1])\n",
    "_ = plt.title('Top 10 Most Frequent Losing Scores')\n",
    "\n",
    "_ = margin.sort_values(\n",
    "    by='prop', ascending=False\n",
    ").head(10).plot(kind='bar', figsize=(12,8), rot=0, \n",
    "                legend=None, color=colors[2])\n",
    "_ = plt.title('Top 10 Most Frequent Winning Margins')\n",
    "\n",
    "_ = home_net.sort_values(\n",
    "    by='prop', ascending=False\n",
    ").head(10).plot(kind='bar', figsize=(12,8), rot=0, \n",
    "                legend=None, color=colors[3])\n",
    "_ = plt.title('Top 10 Most Frequent Home Net Margin')\n",
    "\n"
   ]
  },
  {
   "cell_type": "markdown",
   "metadata": {},
   "source": [
    "#### 6 tie games from 2007-2017... this is correct per https://en.wikipedia.org/wiki/List_of_NFL_tied_games"
   ]
  },
  {
   "cell_type": "code",
   "execution_count": 24,
   "metadata": {
    "ExecuteTime": {
     "end_time": "2018-12-31T20:33:22.218016Z",
     "start_time": "2018-12-31T20:33:22.053518Z"
    }
   },
   "outputs": [
    {
     "data": {
      "text/html": [
       "<div>\n",
       "<style scoped>\n",
       "    .dataframe tbody tr th:only-of-type {\n",
       "        vertical-align: middle;\n",
       "    }\n",
       "\n",
       "    .dataframe tbody tr th {\n",
       "        vertical-align: top;\n",
       "    }\n",
       "\n",
       "    .dataframe thead th {\n",
       "        text-align: right;\n",
       "    }\n",
       "</style>\n",
       "<table border=\"1\" class=\"dataframe\">\n",
       "  <thead>\n",
       "    <tr style=\"text-align: right;\">\n",
       "      <th></th>\n",
       "      <th>game_id</th>\n",
       "      <th>H_score</th>\n",
       "      <th>V_score</th>\n",
       "      <th>season</th>\n",
       "      <th>week_id</th>\n",
       "      <th>day_of_week</th>\n",
       "      <th>winner</th>\n",
       "    </tr>\n",
       "  </thead>\n",
       "  <tbody>\n",
       "    <tr>\n",
       "      <th>0</th>\n",
       "      <td>201211110sfo</td>\n",
       "      <td>24</td>\n",
       "      <td>24</td>\n",
       "      <td>2012</td>\n",
       "      <td>9</td>\n",
       "      <td>6</td>\n",
       "      <td>T</td>\n",
       "    </tr>\n",
       "    <tr>\n",
       "      <th>1</th>\n",
       "      <td>200811160cin</td>\n",
       "      <td>13</td>\n",
       "      <td>13</td>\n",
       "      <td>2008</td>\n",
       "      <td>10</td>\n",
       "      <td>6</td>\n",
       "      <td>T</td>\n",
       "    </tr>\n",
       "    <tr>\n",
       "      <th>2</th>\n",
       "      <td>201311240gnb</td>\n",
       "      <td>26</td>\n",
       "      <td>26</td>\n",
       "      <td>2013</td>\n",
       "      <td>11</td>\n",
       "      <td>6</td>\n",
       "      <td>T</td>\n",
       "    </tr>\n",
       "    <tr>\n",
       "      <th>3</th>\n",
       "      <td>201410120cin</td>\n",
       "      <td>37</td>\n",
       "      <td>37</td>\n",
       "      <td>2014</td>\n",
       "      <td>5</td>\n",
       "      <td>6</td>\n",
       "      <td>T</td>\n",
       "    </tr>\n",
       "    <tr>\n",
       "      <th>4</th>\n",
       "      <td>201610230crd</td>\n",
       "      <td>6</td>\n",
       "      <td>6</td>\n",
       "      <td>2016</td>\n",
       "      <td>6</td>\n",
       "      <td>6</td>\n",
       "      <td>T</td>\n",
       "    </tr>\n",
       "    <tr>\n",
       "      <th>5</th>\n",
       "      <td>201610300cin</td>\n",
       "      <td>27</td>\n",
       "      <td>27</td>\n",
       "      <td>2016</td>\n",
       "      <td>7</td>\n",
       "      <td>6</td>\n",
       "      <td>T</td>\n",
       "    </tr>\n",
       "  </tbody>\n",
       "</table>\n",
       "</div>"
      ],
      "text/plain": [
       "        game_id  H_score  V_score  season  week_id  day_of_week winner\n",
       "0  201211110sfo       24       24    2012        9            6      T\n",
       "1  200811160cin       13       13    2008       10            6      T\n",
       "2  201311240gnb       26       26    2013       11            6      T\n",
       "3  201410120cin       37       37    2014        5            6      T\n",
       "4  201610230crd        6        6    2016        6            6      T\n",
       "5  201610300cin       27       27    2016        7            6      T"
      ]
     },
     "execution_count": 24,
     "metadata": {},
     "output_type": "execute_result"
    }
   ],
   "source": [
    "df.filter(col('winner') == 'T').toPandas()"
   ]
  },
  {
   "cell_type": "markdown",
   "metadata": {},
   "source": [
    "### How does the margin of error and/or winning score change over (1) time, (2) week, (3) day of week?"
   ]
  },
  {
   "cell_type": "code",
   "execution_count": 108,
   "metadata": {
    "ExecuteTime": {
     "end_time": "2018-12-31T21:06:13.588744Z",
     "start_time": "2018-12-31T21:06:13.484418Z"
    }
   },
   "outputs": [
    {
     "data": {
      "text/html": [
       "<div>\n",
       "<style scoped>\n",
       "    .dataframe tbody tr th:only-of-type {\n",
       "        vertical-align: middle;\n",
       "    }\n",
       "\n",
       "    .dataframe tbody tr th {\n",
       "        vertical-align: top;\n",
       "    }\n",
       "\n",
       "    .dataframe thead th {\n",
       "        text-align: right;\n",
       "    }\n",
       "</style>\n",
       "<table border=\"1\" class=\"dataframe\">\n",
       "  <thead>\n",
       "    <tr style=\"text-align: right;\">\n",
       "      <th></th>\n",
       "      <th>0</th>\n",
       "      <th>1</th>\n",
       "      <th>2</th>\n",
       "      <th>3</th>\n",
       "      <th>4</th>\n",
       "    </tr>\n",
       "  </thead>\n",
       "  <tbody>\n",
       "    <tr>\n",
       "      <th>game_id</th>\n",
       "      <td>200909140nwe</td>\n",
       "      <td>200911150oti</td>\n",
       "      <td>200912270atl</td>\n",
       "      <td>200912130kan</td>\n",
       "      <td>201001030min</td>\n",
       "    </tr>\n",
       "    <tr>\n",
       "      <th>H_score</th>\n",
       "      <td>25</td>\n",
       "      <td>41</td>\n",
       "      <td>31</td>\n",
       "      <td>10</td>\n",
       "      <td>44</td>\n",
       "    </tr>\n",
       "    <tr>\n",
       "      <th>V_score</th>\n",
       "      <td>24</td>\n",
       "      <td>17</td>\n",
       "      <td>3</td>\n",
       "      <td>16</td>\n",
       "      <td>7</td>\n",
       "    </tr>\n",
       "    <tr>\n",
       "      <th>season</th>\n",
       "      <td>2009</td>\n",
       "      <td>2009</td>\n",
       "      <td>2009</td>\n",
       "      <td>2009</td>\n",
       "      <td>2009</td>\n",
       "    </tr>\n",
       "    <tr>\n",
       "      <th>week_id</th>\n",
       "      <td>0</td>\n",
       "      <td>9</td>\n",
       "      <td>15</td>\n",
       "      <td>13</td>\n",
       "      <td>16</td>\n",
       "    </tr>\n",
       "    <tr>\n",
       "      <th>day_of_week</th>\n",
       "      <td>0</td>\n",
       "      <td>6</td>\n",
       "      <td>6</td>\n",
       "      <td>6</td>\n",
       "      <td>6</td>\n",
       "    </tr>\n",
       "    <tr>\n",
       "      <th>winning_team</th>\n",
       "      <td>H</td>\n",
       "      <td>H</td>\n",
       "      <td>H</td>\n",
       "      <td>V</td>\n",
       "      <td>H</td>\n",
       "    </tr>\n",
       "    <tr>\n",
       "      <th>winning_score</th>\n",
       "      <td>25</td>\n",
       "      <td>41</td>\n",
       "      <td>31</td>\n",
       "      <td>16</td>\n",
       "      <td>44</td>\n",
       "    </tr>\n",
       "    <tr>\n",
       "      <th>winning_margin</th>\n",
       "      <td>1</td>\n",
       "      <td>24</td>\n",
       "      <td>28</td>\n",
       "      <td>6</td>\n",
       "      <td>37</td>\n",
       "    </tr>\n",
       "    <tr>\n",
       "      <th>home_net</th>\n",
       "      <td>1</td>\n",
       "      <td>24</td>\n",
       "      <td>28</td>\n",
       "      <td>-6</td>\n",
       "      <td>37</td>\n",
       "    </tr>\n",
       "    <tr>\n",
       "      <th>losing_score</th>\n",
       "      <td>24</td>\n",
       "      <td>17</td>\n",
       "      <td>3</td>\n",
       "      <td>10</td>\n",
       "      <td>7</td>\n",
       "    </tr>\n",
       "  </tbody>\n",
       "</table>\n",
       "</div>"
      ],
      "text/plain": [
       "                           0             1             2             3  \\\n",
       "game_id         200909140nwe  200911150oti  200912270atl  200912130kan   \n",
       "H_score                   25            41            31            10   \n",
       "V_score                   24            17             3            16   \n",
       "season                  2009          2009          2009          2009   \n",
       "week_id                    0             9            15            13   \n",
       "day_of_week                0             6             6             6   \n",
       "winning_team               H             H             H             V   \n",
       "winning_score             25            41            31            16   \n",
       "winning_margin             1            24            28             6   \n",
       "home_net                   1            24            28            -6   \n",
       "losing_score              24            17             3            10   \n",
       "\n",
       "                           4  \n",
       "game_id         201001030min  \n",
       "H_score                   44  \n",
       "V_score                    7  \n",
       "season                  2009  \n",
       "week_id                   16  \n",
       "day_of_week                6  \n",
       "winning_team               H  \n",
       "winning_score             44  \n",
       "winning_margin            37  \n",
       "home_net                  37  \n",
       "losing_score               7  "
      ]
     },
     "execution_count": 108,
     "metadata": {},
     "output_type": "execute_result"
    }
   ],
   "source": [
    "df.limit(5).toPandas().T"
   ]
  },
  {
   "cell_type": "code",
   "execution_count": null,
   "metadata": {},
   "outputs": [],
   "source": []
  }
 ],
 "metadata": {
  "kernelspec": {
   "display_name": "Python 2",
   "language": "python",
   "name": "python2"
  },
  "language_info": {
   "codemirror_mode": {
    "name": "ipython",
    "version": 2
   },
   "file_extension": ".py",
   "mimetype": "text/x-python",
   "name": "python",
   "nbconvert_exporter": "python",
   "pygments_lexer": "ipython2",
   "version": "2.7.15"
  },
  "toc": {
   "base_numbering": 1,
   "nav_menu": {},
   "number_sections": true,
   "sideBar": true,
   "skip_h1_title": false,
   "title_cell": "Table of Contents",
   "title_sidebar": "Contents",
   "toc_cell": false,
   "toc_position": {},
   "toc_section_display": true,
   "toc_window_display": true
  }
 },
 "nbformat": 4,
 "nbformat_minor": 2
}
