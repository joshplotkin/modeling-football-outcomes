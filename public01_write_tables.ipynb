{
 "cells": [
  {
   "cell_type": "markdown",
   "metadata": {},
   "source": [
    "### Boilerplate"
   ]
  },
  {
   "cell_type": "code",
   "execution_count": 1,
   "metadata": {
    "ExecuteTime": {
     "end_time": "2018-12-31T20:17:07.986608Z",
     "start_time": "2018-12-31T20:17:03.971761Z"
    },
    "run_control": {
     "marked": true
    }
   },
   "outputs": [
    {
     "data": {
      "text/html": [
       "<style>.container {width:90% !important;}</style>"
      ],
      "text/plain": [
       "<IPython.core.display.HTML object>"
      ]
     },
     "metadata": {},
     "output_type": "display_data"
    },
    {
     "ename": "AnalysisException",
     "evalue": "u'java.lang.RuntimeException: java.lang.RuntimeException: Unable to instantiate org.apache.hadoop.hive.ql.metadata.SessionHiveMetaStoreClient;'",
     "output_type": "error",
     "traceback": [
      "\u001b[0;31m---------------------------------------------------------------------------\u001b[0m",
      "\u001b[0;31mAnalysisException\u001b[0m                         Traceback (most recent call last)",
      "\u001b[0;32m<ipython-input-1-6940240267af>\u001b[0m in \u001b[0;36m<module>\u001b[0;34m()\u001b[0m\n\u001b[1;32m     18\u001b[0m \u001b[0mget_ipython\u001b[0m\u001b[0;34m(\u001b[0m\u001b[0;34m)\u001b[0m\u001b[0;34m.\u001b[0m\u001b[0mmagic\u001b[0m\u001b[0;34m(\u001b[0m\u001b[0;34mu'matplotlib inline'\u001b[0m\u001b[0;34m)\u001b[0m\u001b[0;34m\u001b[0m\u001b[0m\n\u001b[1;32m     19\u001b[0m \u001b[0;34m\u001b[0m\u001b[0m\n\u001b[0;32m---> 20\u001b[0;31m \u001b[0mspark\u001b[0m\u001b[0;34m.\u001b[0m\u001b[0msql\u001b[0m\u001b[0;34m(\u001b[0m\u001b[0;34m'CREATE DATABASE IF NOT EXISTS football_games'\u001b[0m\u001b[0;34m)\u001b[0m\u001b[0;34m\u001b[0m\u001b[0m\n\u001b[0m\u001b[1;32m     21\u001b[0m \u001b[0mspark\u001b[0m\u001b[0;34m.\u001b[0m\u001b[0msql\u001b[0m\u001b[0;34m(\u001b[0m\u001b[0;34m'USE football_games'\u001b[0m\u001b[0;34m)\u001b[0m\u001b[0;34m\u001b[0m\u001b[0m\n\u001b[1;32m     22\u001b[0m \u001b[0;34m\u001b[0m\u001b[0m\n",
      "\u001b[0;32m/Users/joshplotkin/Dropbox/data_science/spark_env/spark/python/pyspark/sql/session.pyc\u001b[0m in \u001b[0;36msql\u001b[0;34m(self, sqlQuery)\u001b[0m\n\u001b[1;32m    765\u001b[0m         \u001b[0;34m[\u001b[0m\u001b[0mRow\u001b[0m\u001b[0;34m(\u001b[0m\u001b[0mf1\u001b[0m\u001b[0;34m=\u001b[0m\u001b[0;36m1\u001b[0m\u001b[0;34m,\u001b[0m \u001b[0mf2\u001b[0m\u001b[0;34m=\u001b[0m\u001b[0;34mu'row1'\u001b[0m\u001b[0;34m)\u001b[0m\u001b[0;34m,\u001b[0m \u001b[0mRow\u001b[0m\u001b[0;34m(\u001b[0m\u001b[0mf1\u001b[0m\u001b[0;34m=\u001b[0m\u001b[0;36m2\u001b[0m\u001b[0;34m,\u001b[0m \u001b[0mf2\u001b[0m\u001b[0;34m=\u001b[0m\u001b[0;34mu'row2'\u001b[0m\u001b[0;34m)\u001b[0m\u001b[0;34m,\u001b[0m \u001b[0mRow\u001b[0m\u001b[0;34m(\u001b[0m\u001b[0mf1\u001b[0m\u001b[0;34m=\u001b[0m\u001b[0;36m3\u001b[0m\u001b[0;34m,\u001b[0m \u001b[0mf2\u001b[0m\u001b[0;34m=\u001b[0m\u001b[0;34mu'row3'\u001b[0m\u001b[0;34m)\u001b[0m\u001b[0;34m]\u001b[0m\u001b[0;34m\u001b[0m\u001b[0m\n\u001b[1;32m    766\u001b[0m         \"\"\"\n\u001b[0;32m--> 767\u001b[0;31m         \u001b[0;32mreturn\u001b[0m \u001b[0mDataFrame\u001b[0m\u001b[0;34m(\u001b[0m\u001b[0mself\u001b[0m\u001b[0;34m.\u001b[0m\u001b[0m_jsparkSession\u001b[0m\u001b[0;34m.\u001b[0m\u001b[0msql\u001b[0m\u001b[0;34m(\u001b[0m\u001b[0msqlQuery\u001b[0m\u001b[0;34m)\u001b[0m\u001b[0;34m,\u001b[0m \u001b[0mself\u001b[0m\u001b[0;34m.\u001b[0m\u001b[0m_wrapped\u001b[0m\u001b[0;34m)\u001b[0m\u001b[0;34m\u001b[0m\u001b[0m\n\u001b[0m\u001b[1;32m    768\u001b[0m \u001b[0;34m\u001b[0m\u001b[0m\n\u001b[1;32m    769\u001b[0m     \u001b[0;34m@\u001b[0m\u001b[0msince\u001b[0m\u001b[0;34m(\u001b[0m\u001b[0;36m2.0\u001b[0m\u001b[0;34m)\u001b[0m\u001b[0;34m\u001b[0m\u001b[0m\n",
      "\u001b[0;32m/Users/joshplotkin/Dropbox/data_science/spark_env/spark/python/lib/py4j-0.10.7-src.zip/py4j/java_gateway.py\u001b[0m in \u001b[0;36m__call__\u001b[0;34m(self, *args)\u001b[0m\n\u001b[1;32m   1255\u001b[0m         \u001b[0manswer\u001b[0m \u001b[0;34m=\u001b[0m \u001b[0mself\u001b[0m\u001b[0;34m.\u001b[0m\u001b[0mgateway_client\u001b[0m\u001b[0;34m.\u001b[0m\u001b[0msend_command\u001b[0m\u001b[0;34m(\u001b[0m\u001b[0mcommand\u001b[0m\u001b[0;34m)\u001b[0m\u001b[0;34m\u001b[0m\u001b[0m\n\u001b[1;32m   1256\u001b[0m         return_value = get_return_value(\n\u001b[0;32m-> 1257\u001b[0;31m             answer, self.gateway_client, self.target_id, self.name)\n\u001b[0m\u001b[1;32m   1258\u001b[0m \u001b[0;34m\u001b[0m\u001b[0m\n\u001b[1;32m   1259\u001b[0m         \u001b[0;32mfor\u001b[0m \u001b[0mtemp_arg\u001b[0m \u001b[0;32min\u001b[0m \u001b[0mtemp_args\u001b[0m\u001b[0;34m:\u001b[0m\u001b[0;34m\u001b[0m\u001b[0m\n",
      "\u001b[0;32m/Users/joshplotkin/Dropbox/data_science/spark_env/spark/python/pyspark/sql/utils.pyc\u001b[0m in \u001b[0;36mdeco\u001b[0;34m(*a, **kw)\u001b[0m\n\u001b[1;32m     67\u001b[0m                                              e.java_exception.getStackTrace()))\n\u001b[1;32m     68\u001b[0m             \u001b[0;32mif\u001b[0m \u001b[0ms\u001b[0m\u001b[0;34m.\u001b[0m\u001b[0mstartswith\u001b[0m\u001b[0;34m(\u001b[0m\u001b[0;34m'org.apache.spark.sql.AnalysisException: '\u001b[0m\u001b[0;34m)\u001b[0m\u001b[0;34m:\u001b[0m\u001b[0;34m\u001b[0m\u001b[0m\n\u001b[0;32m---> 69\u001b[0;31m                 \u001b[0;32mraise\u001b[0m \u001b[0mAnalysisException\u001b[0m\u001b[0;34m(\u001b[0m\u001b[0ms\u001b[0m\u001b[0;34m.\u001b[0m\u001b[0msplit\u001b[0m\u001b[0;34m(\u001b[0m\u001b[0;34m': '\u001b[0m\u001b[0;34m,\u001b[0m \u001b[0;36m1\u001b[0m\u001b[0;34m)\u001b[0m\u001b[0;34m[\u001b[0m\u001b[0;36m1\u001b[0m\u001b[0;34m]\u001b[0m\u001b[0;34m,\u001b[0m \u001b[0mstackTrace\u001b[0m\u001b[0;34m)\u001b[0m\u001b[0;34m\u001b[0m\u001b[0m\n\u001b[0m\u001b[1;32m     70\u001b[0m             \u001b[0;32mif\u001b[0m \u001b[0ms\u001b[0m\u001b[0;34m.\u001b[0m\u001b[0mstartswith\u001b[0m\u001b[0;34m(\u001b[0m\u001b[0;34m'org.apache.spark.sql.catalyst.analysis'\u001b[0m\u001b[0;34m)\u001b[0m\u001b[0;34m:\u001b[0m\u001b[0;34m\u001b[0m\u001b[0m\n\u001b[1;32m     71\u001b[0m                 \u001b[0;32mraise\u001b[0m \u001b[0mAnalysisException\u001b[0m\u001b[0;34m(\u001b[0m\u001b[0ms\u001b[0m\u001b[0;34m.\u001b[0m\u001b[0msplit\u001b[0m\u001b[0;34m(\u001b[0m\u001b[0;34m': '\u001b[0m\u001b[0;34m,\u001b[0m \u001b[0;36m1\u001b[0m\u001b[0;34m)\u001b[0m\u001b[0;34m[\u001b[0m\u001b[0;36m1\u001b[0m\u001b[0;34m]\u001b[0m\u001b[0;34m,\u001b[0m \u001b[0mstackTrace\u001b[0m\u001b[0;34m)\u001b[0m\u001b[0;34m\u001b[0m\u001b[0m\n",
      "\u001b[0;31mAnalysisException\u001b[0m: u'java.lang.RuntimeException: java.lang.RuntimeException: Unable to instantiate org.apache.hadoop.hive.ql.metadata.SessionHiveMetaStoreClient;'"
     ]
    }
   ],
   "source": [
    "from bs4 import BeautifulSoup\n",
    "import pandas as pd\n",
    "from matplotlib import pyplot as plt\n",
    "import json\n",
    "from datetime import datetime, date, timedelta\n",
    "import requests\n",
    "\n",
    "import pyspark.sql.functions as F\n",
    "from pyspark.sql.functions import col, udf\n",
    "from pyspark.sql.types import *\n",
    "\n",
    "from IPython.core.interactiveshell import InteractiveShell\n",
    "from IPython.core.display import display, HTML\n",
    "InteractiveShell.ast_node_interactivity = \"all\"\n",
    "display(HTML('<style>.container {width:90% !important;}</style>'))\n",
    "\n",
    "plt.style.use('fivethirtyeight')\n",
    "%matplotlib inline\n",
    "\n",
    "spark.sql('CREATE DATABASE IF NOT EXISTS football_games')\n",
    "spark.sql('USE football_games')\n",
    "\n",
    "os.chdir('../football_data')"
   ]
  },
  {
   "cell_type": "markdown",
   "metadata": {},
   "source": [
    "### Global Functions"
   ]
  },
  {
   "cell_type": "code",
   "execution_count": 5,
   "metadata": {
    "ExecuteTime": {
     "end_time": "2018-12-29T15:53:17.650487Z",
     "start_time": "2018-12-29T15:53:17.641521Z"
    }
   },
   "outputs": [],
   "source": [
    "def cast_dtypes(df):\n",
    "    '''spark and numpy types don't play\n",
    "    well together. cast as native python \n",
    "    types'''\n",
    "    np_to_python_dtypes = {\n",
    "        'int64': int,\n",
    "        'float64': float,\n",
    "        'object': str,\n",
    "        'datetime64[ns]': str\n",
    "    }\n",
    "\n",
    "    for field, np_dtype in df.dtypes.to_dict().iteritems():\n",
    "        df[field] = df[field].astype(np_to_python_dtypes[str(np_dtype)])\n",
    "        \n",
    "    return df"
   ]
  },
  {
   "cell_type": "markdown",
   "metadata": {},
   "source": [
    "### Create __lines__ and __games__ DFs: load data and remove 2018 until it's complete"
   ]
  },
  {
   "cell_type": "code",
   "execution_count": 6,
   "metadata": {
    "ExecuteTime": {
     "end_time": "2018-12-29T15:53:17.709213Z",
     "start_time": "2018-12-29T15:53:17.655248Z"
    }
   },
   "outputs": [],
   "source": [
    "lines_df = pd.read_csv('all_lines.csv', index_col='Unnamed: 0')\n",
    "games_df = pd.read_csv('game_metadata.csv')"
   ]
  },
  {
   "cell_type": "code",
   "execution_count": 7,
   "metadata": {
    "ExecuteTime": {
     "end_time": "2018-12-29T15:53:17.737122Z",
     "start_time": "2018-12-29T15:53:17.715667Z"
    }
   },
   "outputs": [],
   "source": [
    "lines_df = lines_df.rename(columns={'Season':'season'})\n",
    "lines_df = lines_df[lines_df['season'] != 2018]\n",
    "games_df = games_df[games_df['team0_link'].apply(lambda x: x.split('/')[-1].split('.')[0]) != '2018']"
   ]
  },
  {
   "cell_type": "code",
   "execution_count": 8,
   "metadata": {
    "ExecuteTime": {
     "end_time": "2018-12-29T15:53:17.759847Z",
     "start_time": "2018-12-29T15:53:17.742640Z"
    }
   },
   "outputs": [
    {
     "data": {
      "text/plain": [
       "2007    267\n",
       "2008    267\n",
       "2009    267\n",
       "2010    267\n",
       "2011    267\n",
       "2012    267\n",
       "2013    267\n",
       "2014    267\n",
       "2015    267\n",
       "2016    267\n",
       "2017    267\n",
       "Name: season, dtype: int64"
      ]
     },
     "execution_count": 8,
     "metadata": {},
     "output_type": "execute_result"
    }
   ],
   "source": [
    "lines_df['season'].value_counts().sort_index()"
   ]
  },
  {
   "cell_type": "code",
   "execution_count": 9,
   "metadata": {
    "ExecuteTime": {
     "end_time": "2018-12-29T15:53:17.804394Z",
     "start_time": "2018-12-29T15:53:17.765720Z"
    }
   },
   "outputs": [
    {
     "data": {
      "text/plain": [
       "2007    267\n",
       "2008    267\n",
       "2009    267\n",
       "2010    267\n",
       "2011    267\n",
       "2012    267\n",
       "2013    267\n",
       "2014    267\n",
       "2015    267\n",
       "2016    267\n",
       "2017    267\n",
       "Name: team0_link, dtype: int64"
      ]
     },
     "execution_count": 9,
     "metadata": {},
     "output_type": "execute_result"
    }
   ],
   "source": [
    "games_df['team0_link'].apply(lambda x: x.split('/')[-1].split('.')[0]).value_counts().sort_index()"
   ]
  },
  {
   "cell_type": "code",
   "execution_count": 10,
   "metadata": {
    "ExecuteTime": {
     "end_time": "2018-12-29T15:53:17.827112Z",
     "start_time": "2018-12-29T15:53:17.810632Z"
    }
   },
   "outputs": [
    {
     "data": {
      "text/plain": [
       "(2937, 26)"
      ]
     },
     "execution_count": 10,
     "metadata": {},
     "output_type": "execute_result"
    },
    {
     "data": {
      "text/plain": [
       "(2937, 23)"
      ]
     },
     "execution_count": 10,
     "metadata": {},
     "output_type": "execute_result"
    }
   ],
   "source": [
    "lines_df.shape\n",
    "games_df.shape"
   ]
  },
  {
   "cell_type": "markdown",
   "metadata": {},
   "source": [
    "### Standardize Fields/Values Across Data Sources"
   ]
  },
  {
   "cell_type": "markdown",
   "metadata": {},
   "source": [
    "#### Error in raw data (__lines__ DF)\n",
    "* 3 games have home/visiting teams switched (note: these are 3 Superbowls so the home/away don't match the official home and visiting teams. the home/visiting team is always \"team0\" in football-ref. there is an assertion confirms this below).\n",
    "  * https://www.pro-football-reference.com/boxscores/201602070den.htm\n",
    "  * https://www.pro-football-reference.com/boxscores/201502010sea.htm\n",
    "  * https://www.pro-football-reference.com/boxscores/201302030sfo.htm"
   ]
  },
  {
   "cell_type": "code",
   "execution_count": 11,
   "metadata": {
    "ExecuteTime": {
     "end_time": "2018-12-29T15:53:17.843002Z",
     "start_time": "2018-12-29T15:53:17.833315Z"
    },
    "scrolled": true
   },
   "outputs": [],
   "source": [
    "switches = lines_df[lines_df['Date'].apply(lambda x: x in ['2016-02-07','2015-02-01','2013-02-03'])]"
   ]
  },
  {
   "cell_type": "code",
   "execution_count": 12,
   "metadata": {
    "ExecuteTime": {
     "end_time": "2018-12-29T15:53:18.183151Z",
     "start_time": "2018-12-29T15:53:17.849215Z"
    },
    "scrolled": true
   },
   "outputs": [
    {
     "name": "stderr",
     "output_type": "stream",
     "text": [
      "/Users/joshplotkin/anaconda2/lib/python2.7/site-packages/pandas/core/indexing.py:543: SettingWithCopyWarning: \n",
      "A value is trying to be set on a copy of a slice from a DataFrame.\n",
      "Try using .loc[row_indexer,col_indexer] = value instead\n",
      "\n",
      "See the caveats in the documentation: http://pandas.pydata.org/pandas-docs/stable/indexing.html#indexing-view-versus-copy\n",
      "  self.obj[item] = s\n",
      "/Users/joshplotkin/anaconda2/lib/python2.7/site-packages/pandas/core/frame.py:3781: SettingWithCopyWarning: \n",
      "A value is trying to be set on a copy of a slice from a DataFrame\n",
      "\n",
      "See the caveats in the documentation: http://pandas.pydata.org/pandas-docs/stable/indexing.html#indexing-view-versus-copy\n",
      "  return super(DataFrame, self).rename(**kwargs)\n"
     ]
    }
   ],
   "source": [
    "col_val_switch = ['ML_Fav','Open_Fav','Close_Fav','2H_Fav']\n",
    "\n",
    "for c in col_val_switch:\n",
    "    switches.loc[:, c] = switches.loc[:, c].apply(lambda x: {'V':'H', 'H':'V', 'pickem': 'pickem'}[x])\n",
    "\n",
    "## H --> X\n",
    "## V --> H\n",
    "## X --> V\n",
    "h_to_x = dict([(c, c.replace('H_','X_')) for c in switches.columns if c.startswith('H_')])\n",
    "switches.rename(\n",
    "    columns=h_to_x, inplace=True\n",
    ")\n",
    "v_to_h = dict([(c, c.replace('V_','H_')) for c in switches.columns if c.startswith('V_')])\n",
    "switches.rename(\n",
    "    columns=v_to_h, inplace=True\n",
    ")\n",
    "x_to_v = dict([(c, c.replace('X_','V_')) for c in switches.columns if c.startswith('X_')])\n",
    "switches.rename(\n",
    "    columns=x_to_v, inplace=True\n",
    ")"
   ]
  },
  {
   "cell_type": "code",
   "execution_count": 13,
   "metadata": {
    "ExecuteTime": {
     "end_time": "2018-12-29T15:53:18.205156Z",
     "start_time": "2018-12-29T15:53:18.188358Z"
    }
   },
   "outputs": [
    {
     "name": "stderr",
     "output_type": "stream",
     "text": [
      "/Users/joshplotkin/anaconda2/lib/python2.7/site-packages/pandas/core/frame.py:6211: FutureWarning: Sorting because non-concatenation axis is not aligned. A future version\n",
      "of pandas will change to not sort by default.\n",
      "\n",
      "To accept the future behavior, pass 'sort=False'.\n",
      "\n",
      "To retain the current behavior and silence the warning, pass 'sort=True'.\n",
      "\n",
      "  sort=sort)\n"
     ]
    }
   ],
   "source": [
    "idx = switches.index\n",
    "lines_df = lines_df.drop(idx)\n",
    "lines_df = lines_df.append(switches)"
   ]
  },
  {
   "cell_type": "code",
   "execution_count": 14,
   "metadata": {
    "ExecuteTime": {
     "end_time": "2018-12-29T15:53:18.244172Z",
     "start_time": "2018-12-29T15:53:18.210268Z"
    }
   },
   "outputs": [
    {
     "data": {
      "text/html": [
       "<div>\n",
       "<style scoped>\n",
       "    .dataframe tbody tr th:only-of-type {\n",
       "        vertical-align: middle;\n",
       "    }\n",
       "\n",
       "    .dataframe tbody tr th {\n",
       "        vertical-align: top;\n",
       "    }\n",
       "\n",
       "    .dataframe thead th {\n",
       "        text-align: right;\n",
       "    }\n",
       "</style>\n",
       "<table border=\"1\" class=\"dataframe\">\n",
       "  <thead>\n",
       "    <tr style=\"text-align: right;\">\n",
       "      <th></th>\n",
       "      <th>1023</th>\n",
       "      <th>1290</th>\n",
       "      <th>1824</th>\n",
       "    </tr>\n",
       "  </thead>\n",
       "  <tbody>\n",
       "    <tr>\n",
       "      <th>2H_Fav</th>\n",
       "      <td>H</td>\n",
       "      <td>H</td>\n",
       "      <td>V</td>\n",
       "    </tr>\n",
       "    <tr>\n",
       "      <th>2H_OU</th>\n",
       "      <td>22.5</td>\n",
       "      <td>pk</td>\n",
       "      <td>24.5</td>\n",
       "    </tr>\n",
       "    <tr>\n",
       "      <th>2H_Spread</th>\n",
       "      <td>4.5</td>\n",
       "      <td>24.5</td>\n",
       "      <td>7</td>\n",
       "    </tr>\n",
       "    <tr>\n",
       "      <th>Close_Fav</th>\n",
       "      <td>H</td>\n",
       "      <td>V</td>\n",
       "      <td>V</td>\n",
       "    </tr>\n",
       "    <tr>\n",
       "      <th>Close_OU</th>\n",
       "      <td>43.5</td>\n",
       "      <td>47.5</td>\n",
       "      <td>48</td>\n",
       "    </tr>\n",
       "    <tr>\n",
       "      <th>Close_Spread</th>\n",
       "      <td>5</td>\n",
       "      <td>0</td>\n",
       "      <td>4.5</td>\n",
       "    </tr>\n",
       "    <tr>\n",
       "      <th>Date</th>\n",
       "      <td>2016-02-07</td>\n",
       "      <td>2015-02-01</td>\n",
       "      <td>2013-02-03</td>\n",
       "    </tr>\n",
       "    <tr>\n",
       "      <th>H_Final</th>\n",
       "      <td>10</td>\n",
       "      <td>28</td>\n",
       "      <td>34</td>\n",
       "    </tr>\n",
       "    <tr>\n",
       "      <th>H_ML</th>\n",
       "      <td>-210</td>\n",
       "      <td>-110</td>\n",
       "      <td>170</td>\n",
       "    </tr>\n",
       "    <tr>\n",
       "      <th>H_Q1</th>\n",
       "      <td>0</td>\n",
       "      <td>0</td>\n",
       "      <td>7</td>\n",
       "    </tr>\n",
       "    <tr>\n",
       "      <th>H_Q2</th>\n",
       "      <td>7</td>\n",
       "      <td>14</td>\n",
       "      <td>14</td>\n",
       "    </tr>\n",
       "    <tr>\n",
       "      <th>H_Q3</th>\n",
       "      <td>0</td>\n",
       "      <td>0</td>\n",
       "      <td>7</td>\n",
       "    </tr>\n",
       "    <tr>\n",
       "      <th>H_Q4</th>\n",
       "      <td>3</td>\n",
       "      <td>14</td>\n",
       "      <td>6</td>\n",
       "    </tr>\n",
       "    <tr>\n",
       "      <th>H_Team</th>\n",
       "      <td>Carolina</td>\n",
       "      <td>NewEngland</td>\n",
       "      <td>Baltimore</td>\n",
       "    </tr>\n",
       "    <tr>\n",
       "      <th>ML_Fav</th>\n",
       "      <td>H</td>\n",
       "      <td>V</td>\n",
       "      <td>V</td>\n",
       "    </tr>\n",
       "    <tr>\n",
       "      <th>Open_Fav</th>\n",
       "      <td>H</td>\n",
       "      <td>V</td>\n",
       "      <td>V</td>\n",
       "    </tr>\n",
       "    <tr>\n",
       "      <th>Open_OU</th>\n",
       "      <td>45</td>\n",
       "      <td>49</td>\n",
       "      <td>47.5</td>\n",
       "    </tr>\n",
       "    <tr>\n",
       "      <th>Open_Spread</th>\n",
       "      <td>4</td>\n",
       "      <td>3</td>\n",
       "      <td>3.5</td>\n",
       "    </tr>\n",
       "    <tr>\n",
       "      <th>V_Final</th>\n",
       "      <td>24</td>\n",
       "      <td>24</td>\n",
       "      <td>31</td>\n",
       "    </tr>\n",
       "    <tr>\n",
       "      <th>V_ML</th>\n",
       "      <td>180</td>\n",
       "      <td>-110</td>\n",
       "      <td>-200</td>\n",
       "    </tr>\n",
       "    <tr>\n",
       "      <th>V_Q1</th>\n",
       "      <td>10</td>\n",
       "      <td>0</td>\n",
       "      <td>3</td>\n",
       "    </tr>\n",
       "    <tr>\n",
       "      <th>V_Q2</th>\n",
       "      <td>3</td>\n",
       "      <td>14</td>\n",
       "      <td>3</td>\n",
       "    </tr>\n",
       "    <tr>\n",
       "      <th>V_Q3</th>\n",
       "      <td>3</td>\n",
       "      <td>10</td>\n",
       "      <td>17</td>\n",
       "    </tr>\n",
       "    <tr>\n",
       "      <th>V_Q4</th>\n",
       "      <td>8</td>\n",
       "      <td>0</td>\n",
       "      <td>8</td>\n",
       "    </tr>\n",
       "    <tr>\n",
       "      <th>V_Team</th>\n",
       "      <td>Denver</td>\n",
       "      <td>Seattle</td>\n",
       "      <td>SanFrancisco</td>\n",
       "    </tr>\n",
       "    <tr>\n",
       "      <th>season</th>\n",
       "      <td>2015</td>\n",
       "      <td>2014</td>\n",
       "      <td>2012</td>\n",
       "    </tr>\n",
       "  </tbody>\n",
       "</table>\n",
       "</div>"
      ],
      "text/plain": [
       "                    1023        1290          1824\n",
       "2H_Fav                 H           H             V\n",
       "2H_OU               22.5          pk          24.5\n",
       "2H_Spread            4.5        24.5             7\n",
       "Close_Fav              H           V             V\n",
       "Close_OU            43.5        47.5            48\n",
       "Close_Spread           5           0           4.5\n",
       "Date          2016-02-07  2015-02-01    2013-02-03\n",
       "H_Final               10          28            34\n",
       "H_ML                -210        -110           170\n",
       "H_Q1                   0           0             7\n",
       "H_Q2                   7          14            14\n",
       "H_Q3                   0           0             7\n",
       "H_Q4                   3          14             6\n",
       "H_Team          Carolina  NewEngland     Baltimore\n",
       "ML_Fav                 H           V             V\n",
       "Open_Fav               H           V             V\n",
       "Open_OU               45          49          47.5\n",
       "Open_Spread            4           3           3.5\n",
       "V_Final               24          24            31\n",
       "V_ML                 180        -110          -200\n",
       "V_Q1                  10           0             3\n",
       "V_Q2                   3          14             3\n",
       "V_Q3                   3          10            17\n",
       "V_Q4                   8           0             8\n",
       "V_Team            Denver     Seattle  SanFrancisco\n",
       "season              2015        2014          2012"
      ]
     },
     "execution_count": 14,
     "metadata": {},
     "output_type": "execute_result"
    }
   ],
   "source": [
    "## Carolina, New England, and Baltimore should be home teams\n",
    "lines_df[lines_df['Date'].apply(lambda x: x in ['2016-02-07','2015-02-01','2013-02-03'])].T"
   ]
  },
  {
   "cell_type": "markdown",
   "metadata": {},
   "source": [
    "#### Dates (__lines__ and __games__ DFs)"
   ]
  },
  {
   "cell_type": "code",
   "execution_count": 15,
   "metadata": {
    "ExecuteTime": {
     "end_time": "2018-12-29T15:53:20.804935Z",
     "start_time": "2018-12-29T15:53:18.249880Z"
    }
   },
   "outputs": [],
   "source": [
    "lines_df['Date'] = lines_df['Date'].apply(pd.to_datetime)\n",
    "\n",
    "games_df['day_of_week'] = games_df['date'].apply(pd.to_datetime).dt.dayofweek\n",
    "games_df['date'] = games_df['date'].apply(pd.to_datetime)"
   ]
  },
  {
   "cell_type": "markdown",
   "metadata": {},
   "source": [
    "#### Team names (__lines__)"
   ]
  },
  {
   "cell_type": "code",
   "execution_count": 16,
   "metadata": {
    "ExecuteTime": {
     "end_time": "2018-12-29T15:53:20.822018Z",
     "start_time": "2018-12-29T15:53:20.809718Z"
    }
   },
   "outputs": [
    {
     "name": "stdout",
     "output_type": "stream",
     "text": [
      "Dallas --> Cowboys\n",
      "NewYork --> Giants\n",
      "NYGiants --> Giants\n",
      "Minnesota --> Vikings\n",
      "Denver --> Broncos\n",
      "NewEngland --> Patriots\n"
     ]
    }
   ],
   "source": [
    "team_map = json.load(open('team_map_for_lines.json','r'))\n",
    "for i, (k,v) in enumerate(team_map.iteritems()):\n",
    "    print '{} --> {}'.format(k, v)\n",
    "    if i == 5:\n",
    "        break\n",
    "        \n",
    "for field in ['V_Team','H_Team']:\n",
    "    lines_df[field] = lines_df[field].map(team_map)"
   ]
  },
  {
   "cell_type": "markdown",
   "metadata": {},
   "source": [
    "#### Create __games_lines__: prepare and then join __games__ and __lines__\n",
    "* key is (date, team first alphabetically)"
   ]
  },
  {
   "cell_type": "code",
   "execution_count": 17,
   "metadata": {
    "ExecuteTime": {
     "end_time": "2018-12-29T15:53:20.894380Z",
     "start_time": "2018-12-29T15:53:20.827260Z"
    },
    "scrolled": true
   },
   "outputs": [],
   "source": [
    "## cast dtypes to Spark compatible using global function cast_dtypes\n",
    "games_df = cast_dtypes(games_df)\n",
    "lines_df = cast_dtypes(lines_df)"
   ]
  },
  {
   "cell_type": "code",
   "execution_count": 18,
   "metadata": {
    "ExecuteTime": {
     "end_time": "2018-12-29T15:53:21.132648Z",
     "start_time": "2018-12-29T15:53:20.899406Z"
    },
    "scrolled": true
   },
   "outputs": [],
   "source": [
    "def gen_game_key(x):\n",
    "    '''generates a key for each game:\n",
    "    (first alphabetical team name, date)'''\n",
    "    team_a, team_b, dt = x\n",
    "    return (sorted([team_a, team_b])[0], dt)\n",
    "\n",
    "games_key_fields = ['team0_name','team1_name','date']\n",
    "lines_key_fields = ['H_Team','V_Team', 'Date']\n",
    "\n",
    "games_df['key'] = games_df[games_key_fields].apply(gen_game_key, axis=1)\n",
    "lines_df['key'] = lines_df[lines_key_fields].apply(gen_game_key, axis=1)"
   ]
  },
  {
   "cell_type": "markdown",
   "metadata": {},
   "source": [
    "Note: week 16 2018 lines not yet available"
   ]
  },
  {
   "cell_type": "code",
   "execution_count": 19,
   "metadata": {
    "ExecuteTime": {
     "end_time": "2018-12-29T15:53:21.159005Z",
     "start_time": "2018-12-29T15:53:21.137532Z"
    }
   },
   "outputs": [
    {
     "data": {
      "text/plain": [
       "0"
      ]
     },
     "execution_count": 19,
     "metadata": {},
     "output_type": "execute_result"
    },
    {
     "data": {
      "text/plain": [
       "set()"
      ]
     },
     "execution_count": 19,
     "metadata": {},
     "output_type": "execute_result"
    }
   ],
   "source": [
    "a = set(games_df['key'].apply(lambda x: '_'.join(x)).values.tolist())\n",
    "b = set(lines_df['key'].apply(lambda x: '_'.join(x)).values.tolist())\n",
    "\n",
    "len(a - b)\n",
    "a - b"
   ]
  },
  {
   "cell_type": "code",
   "execution_count": 20,
   "metadata": {
    "ExecuteTime": {
     "end_time": "2018-12-29T15:53:21.179616Z",
     "start_time": "2018-12-29T15:53:21.164792Z"
    }
   },
   "outputs": [
    {
     "data": {
      "text/plain": [
       "0"
      ]
     },
     "execution_count": 20,
     "metadata": {},
     "output_type": "execute_result"
    },
    {
     "data": {
      "text/plain": [
       "set()"
      ]
     },
     "execution_count": 20,
     "metadata": {},
     "output_type": "execute_result"
    }
   ],
   "source": [
    "len(b-a)\n",
    "b-a"
   ]
  },
  {
   "cell_type": "code",
   "execution_count": 21,
   "metadata": {
    "ExecuteTime": {
     "end_time": "2018-12-29T15:53:21.221857Z",
     "start_time": "2018-12-29T15:53:21.185012Z"
    }
   },
   "outputs": [
    {
     "data": {
      "text/plain": [
       "(2937, 2937, 2937)"
      ]
     },
     "execution_count": 21,
     "metadata": {},
     "output_type": "execute_result"
    }
   ],
   "source": [
    "games_lines_df = games_df.merge(\n",
    "        lines_df, left_on='key', right_on='key'\n",
    "    ).drop(\n",
    "        lines_key_fields + ['key'], axis=1\n",
    "    )\n",
    "\n",
    "## ensure there are no join misses\n",
    "lines_df.shape[0], games_df.shape[0], games_lines_df.shape[0]\n",
    "assert lines_df.shape[0] == games_df.shape[0]\n",
    "assert games_lines_df.shape[0] == games_df.shape[0]"
   ]
  },
  {
   "cell_type": "markdown",
   "metadata": {},
   "source": [
    "### Create __game_info__: load PFR game_info files\n",
    "* contains metadata like turf and weather"
   ]
  },
  {
   "cell_type": "code",
   "execution_count": 22,
   "metadata": {
    "ExecuteTime": {
     "end_time": "2018-12-29T15:53:35.139981Z",
     "start_time": "2018-12-29T15:53:21.226703Z"
    }
   },
   "outputs": [],
   "source": [
    "## get the path for each game_info csv\n",
    "game_info_csvs = map(\n",
    "    lambda x: 'game_info/{}'.format(x), \n",
    "    os.listdir('game_info')\n",
    ")\n",
    "## read each game_info csv into pandas\n",
    "game_info_dfs = map(\n",
    "    lambda x: pd.read_csv(x, index_col='Unnamed: 0'), \n",
    "    game_info_csvs\n",
    ")\n",
    "## union all the DFs\n",
    "game_info_df = reduce(\n",
    "    lambda x,y: x.append(y).reset_index(drop=True), \n",
    "    game_info_dfs\n",
    ")"
   ]
  },
  {
   "cell_type": "code",
   "execution_count": 23,
   "metadata": {
    "ExecuteTime": {
     "end_time": "2018-12-29T15:53:35.186730Z",
     "start_time": "2018-12-29T15:53:35.146047Z"
    }
   },
   "outputs": [],
   "source": [
    "for c in game_info_df.columns:\n",
    "    game_info_df[c] = game_info_df[c].str.strip()"
   ]
  },
  {
   "cell_type": "code",
   "execution_count": 24,
   "metadata": {
    "ExecuteTime": {
     "end_time": "2018-12-29T15:53:35.210359Z",
     "start_time": "2018-12-29T15:53:35.191240Z"
    }
   },
   "outputs": [
    {
     "data": {
      "text/html": [
       "<div>\n",
       "<style scoped>\n",
       "    .dataframe tbody tr th:only-of-type {\n",
       "        vertical-align: middle;\n",
       "    }\n",
       "\n",
       "    .dataframe tbody tr th {\n",
       "        vertical-align: top;\n",
       "    }\n",
       "\n",
       "    .dataframe thead th {\n",
       "        text-align: right;\n",
       "    }\n",
       "</style>\n",
       "<table border=\"1\" class=\"dataframe\">\n",
       "  <thead>\n",
       "    <tr style=\"text-align: right;\">\n",
       "      <th></th>\n",
       "      <th>game_id</th>\n",
       "      <th>info</th>\n",
       "      <th>stat</th>\n",
       "    </tr>\n",
       "  </thead>\n",
       "  <tbody>\n",
       "    <tr>\n",
       "      <th>0</th>\n",
       "      <td>201812090was</td>\n",
       "      <td>Won Toss</td>\n",
       "      <td>Giants (deferred)</td>\n",
       "    </tr>\n",
       "    <tr>\n",
       "      <th>1</th>\n",
       "      <td>201812090was</td>\n",
       "      <td>Roof</td>\n",
       "      <td>outdoors</td>\n",
       "    </tr>\n",
       "    <tr>\n",
       "      <th>2</th>\n",
       "      <td>201812090was</td>\n",
       "      <td>Surface</td>\n",
       "      <td>grass</td>\n",
       "    </tr>\n",
       "    <tr>\n",
       "      <th>3</th>\n",
       "      <td>201812090was</td>\n",
       "      <td>Weather</td>\n",
       "      <td>33 degrees, wind 6 mph</td>\n",
       "    </tr>\n",
       "    <tr>\n",
       "      <th>4</th>\n",
       "      <td>201812090was</td>\n",
       "      <td>Vegas Line</td>\n",
       "      <td>New York Giants -3.0</td>\n",
       "    </tr>\n",
       "  </tbody>\n",
       "</table>\n",
       "</div>"
      ],
      "text/plain": [
       "        game_id        info                    stat\n",
       "0  201812090was    Won Toss       Giants (deferred)\n",
       "1  201812090was        Roof                outdoors\n",
       "2  201812090was     Surface                   grass\n",
       "3  201812090was     Weather  33 degrees, wind 6 mph\n",
       "4  201812090was  Vegas Line    New York Giants -3.0"
      ]
     },
     "execution_count": 24,
     "metadata": {},
     "output_type": "execute_result"
    }
   ],
   "source": [
    "game_info_df.head()"
   ]
  },
  {
   "cell_type": "code",
   "execution_count": 25,
   "metadata": {
    "ExecuteTime": {
     "end_time": "2018-12-29T15:53:41.580839Z",
     "start_time": "2018-12-29T15:53:35.216007Z"
    }
   },
   "outputs": [],
   "source": [
    "game_info_df['key_value'] = game_info_df[['info','stat']].apply(\n",
    "    lambda (k,v): {k:v}, axis=1\n",
    ")\n",
    "\n",
    "game_info_dict = {}\n",
    "for game in game_info_df['game_id'].unique():\n",
    "    curr_game_df = game_info_df[game_info_df['game_id'] == game]\n",
    "    game_info_dict[game] = {\n",
    "            d.keys()[0]:d.values()[0] \n",
    "            for d in curr_game_df['key_value'].values\n",
    "        }"
   ]
  },
  {
   "cell_type": "code",
   "execution_count": 26,
   "metadata": {
    "ExecuteTime": {
     "end_time": "2018-12-29T15:53:41.802372Z",
     "start_time": "2018-12-29T15:53:41.585738Z"
    },
    "scrolled": true
   },
   "outputs": [],
   "source": [
    "game_info_colnames = {\n",
    "    'Vegas Line': 'pfr_line',\n",
    "    'Over/Under': 'pfr_ou',\n",
    "    'Weather': 'prf_weather',\n",
    "    'Roof': 'roof',\n",
    "    'Surface': 'surface'\n",
    "}\n",
    "\n",
    "game_info = pd.DataFrame.from_dict(game_info_dict, orient='index')\\\n",
    "                .rename(columns=game_info_colnames)\\\n",
    "                .drop(['Won Toss','Won OT Toss','Super Bowl MVP'], axis=1)"
   ]
  },
  {
   "cell_type": "code",
   "execution_count": 27,
   "metadata": {
    "ExecuteTime": {
     "end_time": "2018-12-29T15:53:41.839117Z",
     "start_time": "2018-12-29T15:53:41.807770Z"
    }
   },
   "outputs": [
    {
     "data": {
      "text/html": [
       "<div>\n",
       "<style scoped>\n",
       "    .dataframe tbody tr th:only-of-type {\n",
       "        vertical-align: middle;\n",
       "    }\n",
       "\n",
       "    .dataframe tbody tr th {\n",
       "        vertical-align: top;\n",
       "    }\n",
       "\n",
       "    .dataframe thead th {\n",
       "        text-align: right;\n",
       "    }\n",
       "</style>\n",
       "<table border=\"1\" class=\"dataframe\">\n",
       "  <thead>\n",
       "    <tr style=\"text-align: right;\">\n",
       "      <th></th>\n",
       "      <th>200709060clt</th>\n",
       "      <th>200709090buf</th>\n",
       "      <th>200709090cle</th>\n",
       "      <th>200709090dal</th>\n",
       "      <th>200709090gnb</th>\n",
       "    </tr>\n",
       "  </thead>\n",
       "  <tbody>\n",
       "    <tr>\n",
       "      <th>surface</th>\n",
       "      <td>fieldturf</td>\n",
       "      <td>astroplay</td>\n",
       "      <td>grass</td>\n",
       "      <td>fieldturf</td>\n",
       "      <td>grass</td>\n",
       "    </tr>\n",
       "    <tr>\n",
       "      <th>pfr_line</th>\n",
       "      <td>Indianapolis Colts -5.5</td>\n",
       "      <td>Denver Broncos -3.0</td>\n",
       "      <td>Pittsburgh Steelers -4.5</td>\n",
       "      <td>Dallas Cowboys -6.5</td>\n",
       "      <td>Philadelphia Eagles -3.0</td>\n",
       "    </tr>\n",
       "    <tr>\n",
       "      <th>pfr_ou</th>\n",
       "      <td>53.5 (under)</td>\n",
       "      <td>37.0 (under)</td>\n",
       "      <td>36.5 (over)</td>\n",
       "      <td>44.5 (over)</td>\n",
       "      <td>42.5 (under)</td>\n",
       "    </tr>\n",
       "    <tr>\n",
       "      <th>roof</th>\n",
       "      <td>dome</td>\n",
       "      <td>outdoors</td>\n",
       "      <td>outdoors</td>\n",
       "      <td>outdoors</td>\n",
       "      <td>outdoors</td>\n",
       "    </tr>\n",
       "    <tr>\n",
       "      <th>prf_weather</th>\n",
       "      <td>NaN</td>\n",
       "      <td>70 degrees relative humidity 93%, wind 5 mph, ...</td>\n",
       "      <td>71 degrees relative humidity 80%, wind 5 mph, ...</td>\n",
       "      <td>78 degrees relative humidity 85%, no wind, win...</td>\n",
       "      <td>62 degrees relative humidity 80%, wind 9 mph, ...</td>\n",
       "    </tr>\n",
       "  </tbody>\n",
       "</table>\n",
       "</div>"
      ],
      "text/plain": [
       "                        200709060clt  \\\n",
       "surface                    fieldturf   \n",
       "pfr_line     Indianapolis Colts -5.5   \n",
       "pfr_ou                  53.5 (under)   \n",
       "roof                            dome   \n",
       "prf_weather                      NaN   \n",
       "\n",
       "                                                  200709090buf  \\\n",
       "surface                                              astroplay   \n",
       "pfr_line                                   Denver Broncos -3.0   \n",
       "pfr_ou                                            37.0 (under)   \n",
       "roof                                                  outdoors   \n",
       "prf_weather  70 degrees relative humidity 93%, wind 5 mph, ...   \n",
       "\n",
       "                                                  200709090cle  \\\n",
       "surface                                                  grass   \n",
       "pfr_line                              Pittsburgh Steelers -4.5   \n",
       "pfr_ou                                             36.5 (over)   \n",
       "roof                                                  outdoors   \n",
       "prf_weather  71 degrees relative humidity 80%, wind 5 mph, ...   \n",
       "\n",
       "                                                  200709090dal  \\\n",
       "surface                                              fieldturf   \n",
       "pfr_line                                   Dallas Cowboys -6.5   \n",
       "pfr_ou                                             44.5 (over)   \n",
       "roof                                                  outdoors   \n",
       "prf_weather  78 degrees relative humidity 85%, no wind, win...   \n",
       "\n",
       "                                                  200709090gnb  \n",
       "surface                                                  grass  \n",
       "pfr_line                              Philadelphia Eagles -3.0  \n",
       "pfr_ou                                            42.5 (under)  \n",
       "roof                                                  outdoors  \n",
       "prf_weather  62 degrees relative humidity 80%, wind 9 mph, ...  "
      ]
     },
     "execution_count": 27,
     "metadata": {},
     "output_type": "execute_result"
    }
   ],
   "source": [
    "game_info.head().T"
   ]
  },
  {
   "cell_type": "markdown",
   "metadata": {},
   "source": [
    "### Create __games_lines_info__: join __games_lines__ with __game_info__ assert there are no join misses"
   ]
  },
  {
   "cell_type": "code",
   "execution_count": 28,
   "metadata": {
    "ExecuteTime": {
     "end_time": "2018-12-29T15:53:41.875112Z",
     "start_time": "2018-12-29T15:53:41.843832Z"
    }
   },
   "outputs": [
    {
     "data": {
      "text/plain": [
       "{'2018'}"
      ]
     },
     "execution_count": 28,
     "metadata": {},
     "output_type": "execute_result"
    },
    {
     "data": {
      "text/plain": [
       "(2937, 3177, 2937)"
      ]
     },
     "execution_count": 28,
     "metadata": {},
     "output_type": "execute_result"
    }
   ],
   "source": [
    "## 2018 games\n",
    "diffs = set(game_info.index.tolist()) - set(games_lines_df['game_id'].tolist())\n",
    "set(map(lambda x: x[:4], diffs))\n",
    "\n",
    "games_lines_info = games_lines_df.merge(game_info, left_on='game_id', right_index=True)\n",
    "\n",
    "games_lines_df.shape[0], game_info.shape[0], games_lines_info.shape[0]"
   ]
  },
  {
   "cell_type": "code",
   "execution_count": 29,
   "metadata": {
    "ExecuteTime": {
     "end_time": "2018-12-29T15:53:41.886722Z",
     "start_time": "2018-12-29T15:53:41.880870Z"
    }
   },
   "outputs": [],
   "source": [
    "## TEMPORARILY TURNING OFF\n",
    "# assert games_lines_df.shape[0] == game_info.shape[0]\n",
    "# assert games_lines_df.shape[0] == games_lines_info.shape[0]"
   ]
  },
  {
   "cell_type": "markdown",
   "metadata": {},
   "source": [
    "### Enrich __games_lines_info__"
   ]
  },
  {
   "cell_type": "markdown",
   "metadata": {},
   "source": [
    "#### Infer the week number"
   ]
  },
  {
   "cell_type": "code",
   "execution_count": 30,
   "metadata": {
    "ExecuteTime": {
     "end_time": "2018-12-29T15:53:42.108368Z",
     "start_time": "2018-12-29T15:53:41.892175Z"
    },
    "run_control": {
     "marked": true
    }
   },
   "outputs": [],
   "source": [
    "## day of week -- 0==Monday, 6==Sunday\n",
    "## game's date minus day of week --> week number\n",
    "## since Monday games\n",
    "\n",
    "def npdate_to_str(dt):\n",
    "    '''convert np.datetime64 to \n",
    "    YYYY-MM-DD string'''\n",
    "    return str(dt).split(' ')[0]\n",
    "\n",
    "def make_week_id(x):\n",
    "    '''given a date and day of week,\n",
    "    return the \"week id\" which is the\n",
    "    Sunday of that week. Monday (0) winds back\n",
    "    a day. otherwise move toward Sunday (6).\n",
    "    '''\n",
    "    dt_str, dow = x\n",
    "    dt = datetime.strptime(dt_str, '%Y-%m-%d')\n",
    "    if dow == 6:\n",
    "        week_id = dt\n",
    "    elif dow == 0:\n",
    "        week_id = dt - timedelta(days=1)\n",
    "    else:\n",
    "        delta = 6 - dow\n",
    "        week_id = dt + timedelta(days=delta)\n",
    "    \n",
    "    return npdate_to_str(week_id)\n",
    "    \n",
    "games_lines_info['week_date'] = games_lines_info[['date','day_of_week']]\\\n",
    "                                .apply(make_week_id, axis=1)"
   ]
  },
  {
   "cell_type": "code",
   "execution_count": 31,
   "metadata": {
    "ExecuteTime": {
     "end_time": "2018-12-29T15:53:42.126483Z",
     "start_time": "2018-12-29T15:53:42.113756Z"
    }
   },
   "outputs": [
    {
     "data": {
      "text/plain": [
       "0    2007-09-09\n",
       "1    2007-09-09\n",
       "2    2007-09-09\n",
       "3    2007-09-09\n",
       "4    2007-09-09\n",
       "Name: week_date, dtype: object"
      ]
     },
     "execution_count": 31,
     "metadata": {},
     "output_type": "execute_result"
    }
   ],
   "source": [
    "games_lines_info['week_date'].head()"
   ]
  },
  {
   "cell_type": "code",
   "execution_count": 32,
   "metadata": {
    "ExecuteTime": {
     "end_time": "2018-12-29T15:53:42.170826Z",
     "start_time": "2018-12-29T15:53:42.132611Z"
    }
   },
   "outputs": [],
   "source": [
    "season_to_week = {}\n",
    "for season in games_lines_info['season'].unique():\n",
    "    season_to_week[season] = {}\n",
    "    weeks = games_lines_info[games_lines_info['season'] == season]['week_date'].unique()\n",
    "    for i, wk in enumerate(sorted(weeks)):\n",
    "        season_to_week[season][wk] = i"
   ]
  },
  {
   "cell_type": "code",
   "execution_count": 33,
   "metadata": {
    "ExecuteTime": {
     "end_time": "2018-12-29T15:53:42.365486Z",
     "start_time": "2018-12-29T15:53:42.174858Z"
    }
   },
   "outputs": [],
   "source": [
    "games_lines_info['week_id'] = games_lines_info[['season','week_date']].apply(\n",
    "        lambda x: season_to_week[x[0]][x[1]], axis=1\n",
    "    )\n",
    "games_lines_info.drop('week_date', axis=1, inplace=True)"
   ]
  },
  {
   "cell_type": "code",
   "execution_count": 34,
   "metadata": {
    "ExecuteTime": {
     "end_time": "2018-12-29T15:53:42.383426Z",
     "start_time": "2018-12-29T15:53:42.370933Z"
    }
   },
   "outputs": [
    {
     "data": {
      "text/plain": [
       "0    0\n",
       "1    0\n",
       "2    0\n",
       "3    0\n",
       "4    0\n",
       "Name: week_id, dtype: int64"
      ]
     },
     "execution_count": 34,
     "metadata": {},
     "output_type": "execute_result"
    }
   ],
   "source": [
    "games_lines_info['week_id'].head()"
   ]
  },
  {
   "cell_type": "markdown",
   "metadata": {},
   "source": [
    "#### Timezones\n",
    "* Make API calls to geonames.org to get timezone (GMT offset)"
   ]
  },
  {
   "cell_type": "code",
   "execution_count": 35,
   "metadata": {
    "ExecuteTime": {
     "end_time": "2018-12-29T15:53:42.403552Z",
     "start_time": "2018-12-29T15:53:42.390350Z"
    }
   },
   "outputs": [],
   "source": [
    "stadiums = pd.read_csv('stadium_lat_long.csv')"
   ]
  },
  {
   "cell_type": "code",
   "execution_count": 36,
   "metadata": {
    "ExecuteTime": {
     "end_time": "2018-12-29T15:54:14.825111Z",
     "start_time": "2018-12-29T15:53:42.410327Z"
    }
   },
   "outputs": [],
   "source": [
    "def get_tz(user, lat, lon):\n",
    "    '''pandas UDF: given geonames username,\n",
    "    lat, and lon, make a REST API call\n",
    "    and return the timezone and GMT offset'''\n",
    "    base_url = 'http://api.geonames.org/timezone'\n",
    "    base_url += '?lat={LAT}&lng={LONG}&username={USER}'\n",
    "    xml = requests.get(\n",
    "            base_url.format(LAT=lat, LONG=lon, USER=user)\n",
    "        ).text\n",
    "    \n",
    "    return BeautifulSoup(xml)\\\n",
    "                .findAll('gmtoffset')\\\n",
    "                [0].text\n",
    "\n",
    "user = open('.username').read().strip()\n",
    "stadiums['timezone'] = stadiums[['lat','long']].apply(\n",
    "    lambda x: get_tz(user, *x), axis=1\n",
    ")"
   ]
  },
  {
   "cell_type": "code",
   "execution_count": 37,
   "metadata": {
    "ExecuteTime": {
     "end_time": "2018-12-29T15:54:14.844087Z",
     "start_time": "2018-12-29T15:54:14.831152Z"
    }
   },
   "outputs": [
    {
     "data": {
      "text/plain": [
       "-5.0    26\n",
       "-6.0    18\n",
       "-8.0    12\n",
       "-7.0     3\n",
       "0.0      2\n",
       "Name: timezone, dtype: int64"
      ]
     },
     "execution_count": 37,
     "metadata": {},
     "output_type": "execute_result"
    }
   ],
   "source": [
    "stadiums['timezone'].value_counts()"
   ]
  },
  {
   "cell_type": "code",
   "execution_count": 38,
   "metadata": {
    "ExecuteTime": {
     "end_time": "2018-12-29T15:54:14.858771Z",
     "start_time": "2018-12-29T15:54:14.850512Z"
    }
   },
   "outputs": [],
   "source": [
    "# stadiums.to_csv('stadiums_w_tz.csv', index=False)"
   ]
  },
  {
   "cell_type": "markdown",
   "metadata": {},
   "source": [
    "#### Stadium lat/long \n",
    "* for each stadium\n",
    "* to be used for computing travel"
   ]
  },
  {
   "cell_type": "code",
   "execution_count": 39,
   "metadata": {
    "ExecuteTime": {
     "end_time": "2018-12-29T15:54:14.893914Z",
     "start_time": "2018-12-29T15:54:14.871987Z"
    },
    "run_control": {
     "marked": true
    }
   },
   "outputs": [],
   "source": [
    "## assert that stadiums lat/long csv has all stadiums in the games_df\n",
    "assert not set(games_lines_info['stadium'].unique()) - set(stadiums['stadium'].unique())\n",
    "before = games_lines_info.shape[0]\n",
    "games_lines_info = games_lines_info.merge(\n",
    "        stadiums, left_on='stadium', right_on='stadium'\n",
    "    )\n",
    "\n",
    "assert games_lines_info.shape[0] == before"
   ]
  },
  {
   "cell_type": "code",
   "execution_count": 40,
   "metadata": {
    "ExecuteTime": {
     "end_time": "2018-12-29T15:54:14.930278Z",
     "start_time": "2018-12-29T15:54:14.898234Z"
    }
   },
   "outputs": [
    {
     "data": {
      "text/html": [
       "<div>\n",
       "<style scoped>\n",
       "    .dataframe tbody tr th:only-of-type {\n",
       "        vertical-align: middle;\n",
       "    }\n",
       "\n",
       "    .dataframe tbody tr th {\n",
       "        vertical-align: top;\n",
       "    }\n",
       "\n",
       "    .dataframe thead th {\n",
       "        text-align: right;\n",
       "    }\n",
       "</style>\n",
       "<table border=\"1\" class=\"dataframe\">\n",
       "  <thead>\n",
       "    <tr style=\"text-align: right;\">\n",
       "      <th></th>\n",
       "      <th>stadium</th>\n",
       "      <th>lat</th>\n",
       "      <th>long</th>\n",
       "      <th>timezone</th>\n",
       "    </tr>\n",
       "  </thead>\n",
       "  <tbody>\n",
       "    <tr>\n",
       "      <th>0</th>\n",
       "      <td>RCA Dome</td>\n",
       "      <td>39.76361</td>\n",
       "      <td>-86.16333</td>\n",
       "      <td>-5.0</td>\n",
       "    </tr>\n",
       "    <tr>\n",
       "      <th>9</th>\n",
       "      <td>Ralph Wilson Stadium</td>\n",
       "      <td>42.77400</td>\n",
       "      <td>-78.78700</td>\n",
       "      <td>-5.0</td>\n",
       "    </tr>\n",
       "    <tr>\n",
       "      <th>74</th>\n",
       "      <td>Cleveland Browns Stadium</td>\n",
       "      <td>41.50611</td>\n",
       "      <td>-81.69944</td>\n",
       "      <td>-5.0</td>\n",
       "    </tr>\n",
       "    <tr>\n",
       "      <th>122</th>\n",
       "      <td>Texas Stadium</td>\n",
       "      <td>32.84000</td>\n",
       "      <td>-96.91100</td>\n",
       "      <td>-6.0</td>\n",
       "    </tr>\n",
       "    <tr>\n",
       "      <th>139</th>\n",
       "      <td>Lambeau Field</td>\n",
       "      <td>44.50139</td>\n",
       "      <td>-88.06222</td>\n",
       "      <td>-6.0</td>\n",
       "    </tr>\n",
       "    <tr>\n",
       "      <th>234</th>\n",
       "      <td>Reliant Stadium</td>\n",
       "      <td>29.68472</td>\n",
       "      <td>-95.41083</td>\n",
       "      <td>-6.0</td>\n",
       "    </tr>\n",
       "    <tr>\n",
       "      <th>292</th>\n",
       "      <td>Jacksonville Municipal Stadium</td>\n",
       "      <td>30.32389</td>\n",
       "      <td>-81.63750</td>\n",
       "      <td>-5.0</td>\n",
       "    </tr>\n",
       "    <tr>\n",
       "      <th>316</th>\n",
       "      <td>Hubert H. Humphrey Metrodome</td>\n",
       "      <td>44.97389</td>\n",
       "      <td>-93.25806</td>\n",
       "      <td>-6.0</td>\n",
       "    </tr>\n",
       "    <tr>\n",
       "      <th>342</th>\n",
       "      <td>Giants Stadium</td>\n",
       "      <td>40.81222</td>\n",
       "      <td>-74.07694</td>\n",
       "      <td>-5.0</td>\n",
       "    </tr>\n",
       "    <tr>\n",
       "      <th>391</th>\n",
       "      <td>McAfee Coliseum</td>\n",
       "      <td>37.75167</td>\n",
       "      <td>-122.20056</td>\n",
       "      <td>-8.0</td>\n",
       "    </tr>\n",
       "  </tbody>\n",
       "</table>\n",
       "</div>"
      ],
      "text/plain": [
       "                            stadium       lat       long timezone\n",
       "0                          RCA Dome  39.76361  -86.16333     -5.0\n",
       "9              Ralph Wilson Stadium  42.77400  -78.78700     -5.0\n",
       "74         Cleveland Browns Stadium  41.50611  -81.69944     -5.0\n",
       "122                   Texas Stadium  32.84000  -96.91100     -6.0\n",
       "139                   Lambeau Field  44.50139  -88.06222     -6.0\n",
       "234                 Reliant Stadium  29.68472  -95.41083     -6.0\n",
       "292  Jacksonville Municipal Stadium  30.32389  -81.63750     -5.0\n",
       "316    Hubert H. Humphrey Metrodome  44.97389  -93.25806     -6.0\n",
       "342                  Giants Stadium  40.81222  -74.07694     -5.0\n",
       "391                 McAfee Coliseum  37.75167 -122.20056     -8.0"
      ]
     },
     "execution_count": 40,
     "metadata": {},
     "output_type": "execute_result"
    }
   ],
   "source": [
    "games_lines_info[stadiums.columns].drop_duplicates().head(10)"
   ]
  },
  {
   "cell_type": "markdown",
   "metadata": {},
   "source": [
    "#### Infer stadium --> home team (or neutral)\n",
    "* TODO: clean this up\n",
    "* how to get home team on neutral territory? (to compare to lines)\n",
    "* jets/giants both home"
   ]
  },
  {
   "cell_type": "code",
   "execution_count": 41,
   "metadata": {
    "ExecuteTime": {
     "end_time": "2018-12-29T15:54:23.690690Z",
     "start_time": "2018-12-29T15:54:14.934993Z"
    },
    "run_control": {
     "marked": true
    },
    "scrolled": true
   },
   "outputs": [],
   "source": [
    "## get a count of team games plabyed by stadium\n",
    "tmp = games_lines_info.copy()\n",
    "tmp['teams'] = tmp[['team0_link','team1_link']].apply(\n",
    "    lambda x: map(lambda y: y.split('/')[2], x), \n",
    "    axis=1\n",
    ")\n",
    "stad = spark.createDataFrame(\n",
    "        tmp[['teams','stadium','season']]\n",
    "    ).select(\n",
    "        F.explode('teams').alias('team'), 'stadium', 'season'\n",
    "    ).groupby('stadium','season','team').count()\\\n",
    "     .groupby('stadium','season').pivot('team').agg(F.sum('count')).toPandas().fillna(0)"
   ]
  },
  {
   "cell_type": "code",
   "execution_count": 42,
   "metadata": {
    "ExecuteTime": {
     "end_time": "2018-12-29T15:54:23.821173Z",
     "start_time": "2018-12-29T15:54:23.694927Z"
    },
    "run_control": {
     "marked": true
    }
   },
   "outputs": [],
   "source": [
    "## compute the proportion of a stadium's games that each team played\n",
    "## **assumption used: of a stadium has had more thna 6 games played\n",
    "## and a team has >20% of games played there, that is the home team\n",
    "## TODO: make this more elegant, maybe leveraging the Wiki package\n",
    "key = ['stadium','season']\n",
    "teams = list(set(stad.columns) - set(key))\n",
    "\n",
    "stad['sum'] = stad[teams].sum(axis=1)\n",
    "\n",
    "for t in teams:\n",
    "    stad[t] /= stad['sum']\n",
    "    \n",
    "def find_home_team(props, teams):\n",
    "    props, ngames = (props[:-1], props[-1])\n",
    "    max_idx = [\n",
    "        i for (i, t) in enumerate(props) \n",
    "        if (t > 0.2) & (ngames > 6)\n",
    "    ]\n",
    "    return map(lambda t: teams[t], max_idx)\n",
    "\n",
    "stad['home_teams'] = stad[teams + ['sum']].apply(\n",
    "    lambda x: find_home_team(x, teams), axis=1\n",
    ")"
   ]
  },
  {
   "cell_type": "code",
   "execution_count": 43,
   "metadata": {
    "ExecuteTime": {
     "end_time": "2018-12-29T15:54:23.935003Z",
     "start_time": "2018-12-29T15:54:23.827092Z"
    }
   },
   "outputs": [
    {
     "data": {
      "text/html": [
       "<div>\n",
       "<style scoped>\n",
       "    .dataframe tbody tr th:only-of-type {\n",
       "        vertical-align: middle;\n",
       "    }\n",
       "\n",
       "    .dataframe tbody tr th {\n",
       "        vertical-align: top;\n",
       "    }\n",
       "\n",
       "    .dataframe thead th {\n",
       "        text-align: right;\n",
       "    }\n",
       "</style>\n",
       "<table border=\"1\" class=\"dataframe\">\n",
       "  <thead>\n",
       "    <tr style=\"text-align: right;\">\n",
       "      <th></th>\n",
       "      <th>stadium</th>\n",
       "      <th>season</th>\n",
       "      <th>atl</th>\n",
       "      <th>buf</th>\n",
       "      <th>car</th>\n",
       "      <th>chi</th>\n",
       "      <th>cin</th>\n",
       "      <th>cle</th>\n",
       "      <th>clt</th>\n",
       "      <th>crd</th>\n",
       "      <th>...</th>\n",
       "      <th>rai</th>\n",
       "      <th>ram</th>\n",
       "      <th>rav</th>\n",
       "      <th>sdg</th>\n",
       "      <th>sea</th>\n",
       "      <th>sfo</th>\n",
       "      <th>tam</th>\n",
       "      <th>was</th>\n",
       "      <th>sum</th>\n",
       "      <th>home_teams</th>\n",
       "    </tr>\n",
       "  </thead>\n",
       "  <tbody>\n",
       "    <tr>\n",
       "      <th>21</th>\n",
       "      <td>Rogers Centre</td>\n",
       "      <td>2011</td>\n",
       "      <td>0.0</td>\n",
       "      <td>0.5</td>\n",
       "      <td>0.0</td>\n",
       "      <td>0.0</td>\n",
       "      <td>0.0</td>\n",
       "      <td>0.0</td>\n",
       "      <td>0.0</td>\n",
       "      <td>0.0</td>\n",
       "      <td>...</td>\n",
       "      <td>0.0</td>\n",
       "      <td>0.0</td>\n",
       "      <td>0.0</td>\n",
       "      <td>0.0</td>\n",
       "      <td>0.0</td>\n",
       "      <td>0.0</td>\n",
       "      <td>0.0</td>\n",
       "      <td>0.5</td>\n",
       "      <td>2.0</td>\n",
       "      <td>[buf]</td>\n",
       "    </tr>\n",
       "    <tr>\n",
       "      <th>142</th>\n",
       "      <td>Rogers Centre</td>\n",
       "      <td>2012</td>\n",
       "      <td>0.0</td>\n",
       "      <td>0.5</td>\n",
       "      <td>0.0</td>\n",
       "      <td>0.0</td>\n",
       "      <td>0.0</td>\n",
       "      <td>0.0</td>\n",
       "      <td>0.0</td>\n",
       "      <td>0.0</td>\n",
       "      <td>...</td>\n",
       "      <td>0.0</td>\n",
       "      <td>0.0</td>\n",
       "      <td>0.0</td>\n",
       "      <td>0.0</td>\n",
       "      <td>0.5</td>\n",
       "      <td>0.0</td>\n",
       "      <td>0.0</td>\n",
       "      <td>0.0</td>\n",
       "      <td>2.0</td>\n",
       "      <td>[buf]</td>\n",
       "    </tr>\n",
       "    <tr>\n",
       "      <th>210</th>\n",
       "      <td>Rogers Centre</td>\n",
       "      <td>2009</td>\n",
       "      <td>0.0</td>\n",
       "      <td>0.5</td>\n",
       "      <td>0.0</td>\n",
       "      <td>0.0</td>\n",
       "      <td>0.0</td>\n",
       "      <td>0.0</td>\n",
       "      <td>0.0</td>\n",
       "      <td>0.0</td>\n",
       "      <td>...</td>\n",
       "      <td>0.0</td>\n",
       "      <td>0.0</td>\n",
       "      <td>0.0</td>\n",
       "      <td>0.0</td>\n",
       "      <td>0.0</td>\n",
       "      <td>0.0</td>\n",
       "      <td>0.0</td>\n",
       "      <td>0.0</td>\n",
       "      <td>2.0</td>\n",
       "      <td>[buf]</td>\n",
       "    </tr>\n",
       "    <tr>\n",
       "      <th>225</th>\n",
       "      <td>Rogers Centre</td>\n",
       "      <td>2013</td>\n",
       "      <td>0.5</td>\n",
       "      <td>0.5</td>\n",
       "      <td>0.0</td>\n",
       "      <td>0.0</td>\n",
       "      <td>0.0</td>\n",
       "      <td>0.0</td>\n",
       "      <td>0.0</td>\n",
       "      <td>0.0</td>\n",
       "      <td>...</td>\n",
       "      <td>0.0</td>\n",
       "      <td>0.0</td>\n",
       "      <td>0.0</td>\n",
       "      <td>0.0</td>\n",
       "      <td>0.0</td>\n",
       "      <td>0.0</td>\n",
       "      <td>0.0</td>\n",
       "      <td>0.0</td>\n",
       "      <td>2.0</td>\n",
       "      <td>[buf]</td>\n",
       "    </tr>\n",
       "    <tr>\n",
       "      <th>273</th>\n",
       "      <td>Rogers Centre</td>\n",
       "      <td>2010</td>\n",
       "      <td>0.0</td>\n",
       "      <td>0.5</td>\n",
       "      <td>0.0</td>\n",
       "      <td>0.5</td>\n",
       "      <td>0.0</td>\n",
       "      <td>0.0</td>\n",
       "      <td>0.0</td>\n",
       "      <td>0.0</td>\n",
       "      <td>...</td>\n",
       "      <td>0.0</td>\n",
       "      <td>0.0</td>\n",
       "      <td>0.0</td>\n",
       "      <td>0.0</td>\n",
       "      <td>0.0</td>\n",
       "      <td>0.0</td>\n",
       "      <td>0.0</td>\n",
       "      <td>0.0</td>\n",
       "      <td>2.0</td>\n",
       "      <td>[buf]</td>\n",
       "    </tr>\n",
       "    <tr>\n",
       "      <th>307</th>\n",
       "      <td>Rogers Centre</td>\n",
       "      <td>2008</td>\n",
       "      <td>0.0</td>\n",
       "      <td>0.5</td>\n",
       "      <td>0.0</td>\n",
       "      <td>0.0</td>\n",
       "      <td>0.0</td>\n",
       "      <td>0.0</td>\n",
       "      <td>0.0</td>\n",
       "      <td>0.0</td>\n",
       "      <td>...</td>\n",
       "      <td>0.0</td>\n",
       "      <td>0.0</td>\n",
       "      <td>0.0</td>\n",
       "      <td>0.0</td>\n",
       "      <td>0.0</td>\n",
       "      <td>0.0</td>\n",
       "      <td>0.0</td>\n",
       "      <td>0.0</td>\n",
       "      <td>2.0</td>\n",
       "      <td>[buf]</td>\n",
       "    </tr>\n",
       "  </tbody>\n",
       "</table>\n",
       "<p>6 rows × 36 columns</p>\n",
       "</div>"
      ],
      "text/plain": [
       "           stadium  season  atl  buf  car  chi  cin  cle  clt  crd  \\\n",
       "21   Rogers Centre    2011  0.0  0.5  0.0  0.0  0.0  0.0  0.0  0.0   \n",
       "142  Rogers Centre    2012  0.0  0.5  0.0  0.0  0.0  0.0  0.0  0.0   \n",
       "210  Rogers Centre    2009  0.0  0.5  0.0  0.0  0.0  0.0  0.0  0.0   \n",
       "225  Rogers Centre    2013  0.5  0.5  0.0  0.0  0.0  0.0  0.0  0.0   \n",
       "273  Rogers Centre    2010  0.0  0.5  0.0  0.5  0.0  0.0  0.0  0.0   \n",
       "307  Rogers Centre    2008  0.0  0.5  0.0  0.0  0.0  0.0  0.0  0.0   \n",
       "\n",
       "        ...      rai  ram  rav  sdg  sea  sfo  tam  was  sum  home_teams  \n",
       "21      ...      0.0  0.0  0.0  0.0  0.0  0.0  0.0  0.5  2.0       [buf]  \n",
       "142     ...      0.0  0.0  0.0  0.0  0.5  0.0  0.0  0.0  2.0       [buf]  \n",
       "210     ...      0.0  0.0  0.0  0.0  0.0  0.0  0.0  0.0  2.0       [buf]  \n",
       "225     ...      0.0  0.0  0.0  0.0  0.0  0.0  0.0  0.0  2.0       [buf]  \n",
       "273     ...      0.0  0.0  0.0  0.0  0.0  0.0  0.0  0.0  2.0       [buf]  \n",
       "307     ...      0.0  0.0  0.0  0.0  0.0  0.0  0.0  0.0  2.0       [buf]  \n",
       "\n",
       "[6 rows x 36 columns]"
      ]
     },
     "execution_count": 43,
     "metadata": {},
     "output_type": "execute_result"
    },
    {
     "data": {
      "text/html": [
       "<div>\n",
       "<style scoped>\n",
       "    .dataframe tbody tr th:only-of-type {\n",
       "        vertical-align: middle;\n",
       "    }\n",
       "\n",
       "    .dataframe tbody tr th {\n",
       "        vertical-align: top;\n",
       "    }\n",
       "\n",
       "    .dataframe thead th {\n",
       "        text-align: right;\n",
       "    }\n",
       "</style>\n",
       "<table border=\"1\" class=\"dataframe\">\n",
       "  <thead>\n",
       "    <tr style=\"text-align: right;\">\n",
       "      <th></th>\n",
       "      <th>stadium</th>\n",
       "      <th>season</th>\n",
       "      <th>atl</th>\n",
       "      <th>buf</th>\n",
       "      <th>car</th>\n",
       "      <th>chi</th>\n",
       "      <th>cin</th>\n",
       "      <th>cle</th>\n",
       "      <th>clt</th>\n",
       "      <th>crd</th>\n",
       "      <th>...</th>\n",
       "      <th>rai</th>\n",
       "      <th>ram</th>\n",
       "      <th>rav</th>\n",
       "      <th>sdg</th>\n",
       "      <th>sea</th>\n",
       "      <th>sfo</th>\n",
       "      <th>tam</th>\n",
       "      <th>was</th>\n",
       "      <th>sum</th>\n",
       "      <th>home_teams</th>\n",
       "    </tr>\n",
       "  </thead>\n",
       "  <tbody>\n",
       "    <tr>\n",
       "      <th>33</th>\n",
       "      <td>TCF Bank Stadium</td>\n",
       "      <td>2010</td>\n",
       "      <td>0.0000</td>\n",
       "      <td>0.0</td>\n",
       "      <td>0.0000</td>\n",
       "      <td>0.500000</td>\n",
       "      <td>0.0</td>\n",
       "      <td>0.0</td>\n",
       "      <td>0.0</td>\n",
       "      <td>0.0</td>\n",
       "      <td>...</td>\n",
       "      <td>0.0</td>\n",
       "      <td>0.000000</td>\n",
       "      <td>0.0</td>\n",
       "      <td>0.000000</td>\n",
       "      <td>0.000000</td>\n",
       "      <td>0.0</td>\n",
       "      <td>0.0</td>\n",
       "      <td>0.0000</td>\n",
       "      <td>2.0</td>\n",
       "      <td>[min]</td>\n",
       "    </tr>\n",
       "    <tr>\n",
       "      <th>48</th>\n",
       "      <td>TCF Bank Stadium</td>\n",
       "      <td>2015</td>\n",
       "      <td>0.0000</td>\n",
       "      <td>0.0</td>\n",
       "      <td>0.0000</td>\n",
       "      <td>0.055556</td>\n",
       "      <td>0.0</td>\n",
       "      <td>0.0</td>\n",
       "      <td>0.0</td>\n",
       "      <td>0.0</td>\n",
       "      <td>...</td>\n",
       "      <td>0.0</td>\n",
       "      <td>0.055556</td>\n",
       "      <td>0.0</td>\n",
       "      <td>0.055556</td>\n",
       "      <td>0.111111</td>\n",
       "      <td>0.0</td>\n",
       "      <td>0.0</td>\n",
       "      <td>0.0000</td>\n",
       "      <td>18.0</td>\n",
       "      <td>[min]</td>\n",
       "    </tr>\n",
       "    <tr>\n",
       "      <th>201</th>\n",
       "      <td>TCF Bank Stadium</td>\n",
       "      <td>2014</td>\n",
       "      <td>0.0625</td>\n",
       "      <td>0.0</td>\n",
       "      <td>0.0625</td>\n",
       "      <td>0.062500</td>\n",
       "      <td>0.0</td>\n",
       "      <td>0.0</td>\n",
       "      <td>0.0</td>\n",
       "      <td>0.0</td>\n",
       "      <td>...</td>\n",
       "      <td>0.0</td>\n",
       "      <td>0.000000</td>\n",
       "      <td>0.0</td>\n",
       "      <td>0.000000</td>\n",
       "      <td>0.000000</td>\n",
       "      <td>0.0</td>\n",
       "      <td>0.0</td>\n",
       "      <td>0.0625</td>\n",
       "      <td>16.0</td>\n",
       "      <td>[min]</td>\n",
       "    </tr>\n",
       "  </tbody>\n",
       "</table>\n",
       "<p>3 rows × 36 columns</p>\n",
       "</div>"
      ],
      "text/plain": [
       "              stadium  season     atl  buf     car       chi  cin  cle  clt  \\\n",
       "33   TCF Bank Stadium    2010  0.0000  0.0  0.0000  0.500000  0.0  0.0  0.0   \n",
       "48   TCF Bank Stadium    2015  0.0000  0.0  0.0000  0.055556  0.0  0.0  0.0   \n",
       "201  TCF Bank Stadium    2014  0.0625  0.0  0.0625  0.062500  0.0  0.0  0.0   \n",
       "\n",
       "     crd     ...      rai       ram  rav       sdg       sea  sfo  tam  \\\n",
       "33   0.0     ...      0.0  0.000000  0.0  0.000000  0.000000  0.0  0.0   \n",
       "48   0.0     ...      0.0  0.055556  0.0  0.055556  0.111111  0.0  0.0   \n",
       "201  0.0     ...      0.0  0.000000  0.0  0.000000  0.000000  0.0  0.0   \n",
       "\n",
       "        was   sum  home_teams  \n",
       "33   0.0000   2.0       [min]  \n",
       "48   0.0000  18.0       [min]  \n",
       "201  0.0625  16.0       [min]  \n",
       "\n",
       "[3 rows x 36 columns]"
      ]
     },
     "execution_count": 43,
     "metadata": {},
     "output_type": "execute_result"
    }
   ],
   "source": [
    "# SPECIAL CASES (games relocated nearby)\n",
    "## set Rogers Centre to buf\n",
    "rog = stad[stad['stadium'] == 'Rogers Centre'].index\n",
    "stad.loc[rog, 'home_teams'] = stad.loc[rog, 'season'].apply(lambda x: ['buf'])\n",
    "stad.loc[rog, :]\n",
    "\n",
    "## set TCF Bank Stadium to min\n",
    "tcf = stad[stad['stadium'] == 'TCF Bank Stadium'].index\n",
    "stad.loc[tcf, 'home_teams'] = stad.loc[tcf, 'season'].apply(lambda x: ['min'])\n",
    "stad.loc[tcf, :]"
   ]
  },
  {
   "cell_type": "code",
   "execution_count": 44,
   "metadata": {
    "ExecuteTime": {
     "end_time": "2018-12-29T15:54:23.968323Z",
     "start_time": "2018-12-29T15:54:23.940151Z"
    },
    "scrolled": true
   },
   "outputs": [
    {
     "data": {
      "text/html": [
       "<div>\n",
       "<style scoped>\n",
       "    .dataframe tbody tr th:only-of-type {\n",
       "        vertical-align: middle;\n",
       "    }\n",
       "\n",
       "    .dataframe tbody tr th {\n",
       "        vertical-align: top;\n",
       "    }\n",
       "\n",
       "    .dataframe thead th {\n",
       "        text-align: right;\n",
       "    }\n",
       "</style>\n",
       "<table border=\"1\" class=\"dataframe\">\n",
       "  <thead>\n",
       "    <tr style=\"text-align: right;\">\n",
       "      <th></th>\n",
       "      <th>stadium</th>\n",
       "      <th>season</th>\n",
       "      <th>home_teams</th>\n",
       "    </tr>\n",
       "  </thead>\n",
       "  <tbody>\n",
       "    <tr>\n",
       "      <th>153</th>\n",
       "      <td>AT&amp;T Stadium</td>\n",
       "      <td>2013</td>\n",
       "      <td>[dal]</td>\n",
       "    </tr>\n",
       "    <tr>\n",
       "      <th>343</th>\n",
       "      <td>AT&amp;T Stadium</td>\n",
       "      <td>2014</td>\n",
       "      <td>[dal]</td>\n",
       "    </tr>\n",
       "    <tr>\n",
       "      <th>360</th>\n",
       "      <td>AT&amp;T Stadium</td>\n",
       "      <td>2015</td>\n",
       "      <td>[dal]</td>\n",
       "    </tr>\n",
       "    <tr>\n",
       "      <th>101</th>\n",
       "      <td>AT&amp;T Stadium</td>\n",
       "      <td>2016</td>\n",
       "      <td>[dal]</td>\n",
       "    </tr>\n",
       "    <tr>\n",
       "      <th>222</th>\n",
       "      <td>AT&amp;T Stadium</td>\n",
       "      <td>2017</td>\n",
       "      <td>[dal]</td>\n",
       "    </tr>\n",
       "  </tbody>\n",
       "</table>\n",
       "</div>"
      ],
      "text/plain": [
       "          stadium  season home_teams\n",
       "153  AT&T Stadium    2013      [dal]\n",
       "343  AT&T Stadium    2014      [dal]\n",
       "360  AT&T Stadium    2015      [dal]\n",
       "101  AT&T Stadium    2016      [dal]\n",
       "222  AT&T Stadium    2017      [dal]"
      ]
     },
     "execution_count": 44,
     "metadata": {},
     "output_type": "execute_result"
    }
   ],
   "source": [
    "stad[['stadium','season','home_teams']].sort_values(by=['stadium','season']).head()"
   ]
  },
  {
   "cell_type": "code",
   "execution_count": 45,
   "metadata": {
    "ExecuteTime": {
     "end_time": "2018-12-29T15:54:23.997506Z",
     "start_time": "2018-12-29T15:54:23.973950Z"
    }
   },
   "outputs": [],
   "source": [
    "## take the previous DF, and tack on the \n",
    "## list of home teams\n",
    "games_lines_info_homeaway = games_lines_info.merge(\n",
    "    stad[['stadium','season','home_teams']],\n",
    "    left_on=['stadium','season'],\n",
    "    right_on=['stadium','season']\n",
    ")\n",
    "assert games_lines_info_homeaway.shape[0] == games_lines_info.shape[0]"
   ]
  },
  {
   "cell_type": "code",
   "execution_count": 46,
   "metadata": {
    "ExecuteTime": {
     "end_time": "2018-12-29T15:54:24.361727Z",
     "start_time": "2018-12-29T15:54:24.002387Z"
    }
   },
   "outputs": [],
   "source": [
    "games_lines_info_homeaway['team0'] = games_lines_info_homeaway['team0_link'].apply(lambda x: x.split('/')[2])\n",
    "games_lines_info_homeaway['team1'] = games_lines_info_homeaway['team1_link'].apply(lambda x: x.split('/')[2])\n",
    "\n",
    "games_lines_info_homeaway['team0_home_unof'] = games_lines_info_homeaway[['team0','home_teams']].apply(\n",
    "    lambda x: x[0] in x[1],\n",
    "    axis=1\n",
    ")\n",
    "games_lines_info_homeaway['team1_home_unof'] = games_lines_info_homeaway[['team1','home_teams']].apply(\n",
    "    lambda x: x[0] in x[1],\n",
    "    axis=1\n",
    ")"
   ]
  },
  {
   "cell_type": "code",
   "execution_count": 47,
   "metadata": {
    "ExecuteTime": {
     "end_time": "2018-12-29T15:54:24.532922Z",
     "start_time": "2018-12-29T15:54:24.367409Z"
    },
    "run_control": {
     "marked": true
    }
   },
   "outputs": [
    {
     "data": {
      "text/plain": [
       "team0      2898\n",
       "neutral      39\n",
       "Name: home_team, dtype: int64"
      ]
     },
     "execution_count": 47,
     "metadata": {},
     "output_type": "execute_result"
    }
   ],
   "source": [
    "def extract_home_team(x):\n",
    "    team0, team1 = x\n",
    "    if team0 == team1:\n",
    "        return 'neutral'\n",
    "    elif team0 is True:\n",
    "        return 'team0'\n",
    "    elif team1 is True:\n",
    "        return 'team1'\n",
    "    \n",
    "games_lines_info_homeaway['home_team'] = games_lines_info_homeaway.loc[\n",
    "        :, ['team0_home_unof','team1_home_unof']\n",
    "    ].apply(\n",
    "        extract_home_team, axis=1\n",
    "    )\n",
    "games_lines_info_homeaway.drop(\n",
    "    ['team0_home_unof','team1_home_unof'], axis=1, inplace=True\n",
    ")\n",
    "games_lines_info_homeaway.rename(\n",
    "    columns={'home_teams':'stadium_home_team'}, inplace=True\n",
    ")\n",
    "\n",
    "games_lines_info_homeaway['home_team'].value_counts()"
   ]
  },
  {
   "cell_type": "code",
   "execution_count": 48,
   "metadata": {
    "ExecuteTime": {
     "end_time": "2018-12-29T15:54:24.552805Z",
     "start_time": "2018-12-29T15:54:24.538676Z"
    }
   },
   "outputs": [],
   "source": [
    "## replace team0 with the team0 name\n",
    "team0_idx = games_lines_info_homeaway[\n",
    "                games_lines_info_homeaway['home_team'] == 'team0'\n",
    "            ].index.tolist()\n",
    "\n",
    "games_lines_info_homeaway.loc[team0_idx, 'home_team'] = games_lines_info_homeaway\\\n",
    "                                                            .loc[team0_idx, 'team0']"
   ]
  },
  {
   "cell_type": "code",
   "execution_count": 49,
   "metadata": {
    "ExecuteTime": {
     "end_time": "2018-12-29T15:54:24.571995Z",
     "start_time": "2018-12-29T15:54:24.558131Z"
    },
    "scrolled": true
   },
   "outputs": [
    {
     "data": {
      "text/plain": [
       "mia        86\n",
       "ram        86\n",
       "rai        85\n",
       "jax        84\n",
       "neutral    39\n",
       "Name: home_team, dtype: int64"
      ]
     },
     "execution_count": 49,
     "metadata": {},
     "output_type": "execute_result"
    }
   ],
   "source": [
    "## still 39 neutral\n",
    "games_lines_info_homeaway['home_team'].value_counts().tail()"
   ]
  },
  {
   "cell_type": "code",
   "execution_count": 50,
   "metadata": {
    "ExecuteTime": {
     "end_time": "2018-12-29T15:54:24.589836Z",
     "start_time": "2018-12-29T15:54:24.576262Z"
    }
   },
   "outputs": [],
   "source": [
    "assert games_lines_info_homeaway[\n",
    "    (games_lines_info_homeaway['home_team'] == 'neutral')\n",
    "    & (games_lines_info_homeaway[['H_Q1','H_Q2','H_Q3','H_Q4']].sum(axis=1) \n",
    "          != games_lines_info_homeaway['team0_score'])\n",
    "    & (games_lines_info_homeaway[['V_Q1','V_Q2','V_Q3','V_Q4']].sum(axis=1) \n",
    "          != games_lines_info_homeaway['team1_score'])\n",
    "].shape[0] == 0"
   ]
  },
  {
   "cell_type": "code",
   "execution_count": 51,
   "metadata": {
    "ExecuteTime": {
     "end_time": "2018-12-29T15:54:24.642113Z",
     "start_time": "2018-12-29T15:54:24.595221Z"
    },
    "run_control": {
     "marked": true
    }
   },
   "outputs": [
    {
     "data": {
      "text/html": [
       "<div>\n",
       "<style scoped>\n",
       "    .dataframe tbody tr th:only-of-type {\n",
       "        vertical-align: middle;\n",
       "    }\n",
       "\n",
       "    .dataframe tbody tr th {\n",
       "        vertical-align: top;\n",
       "    }\n",
       "\n",
       "    .dataframe thead th {\n",
       "        text-align: right;\n",
       "    }\n",
       "</style>\n",
       "<table border=\"1\" class=\"dataframe\">\n",
       "  <thead>\n",
       "    <tr style=\"text-align: right;\">\n",
       "      <th></th>\n",
       "      <th>team0</th>\n",
       "      <th>team1</th>\n",
       "      <th>stadium</th>\n",
       "      <th>H_score</th>\n",
       "      <th>team0_score</th>\n",
       "      <th>V_score</th>\n",
       "      <th>team1_score</th>\n",
       "      <th>stadium_home_team</th>\n",
       "    </tr>\n",
       "  </thead>\n",
       "  <tbody>\n",
       "    <tr>\n",
       "      <th>2920</th>\n",
       "      <td>rai</td>\n",
       "      <td>nwe</td>\n",
       "      <td>Azteca Stadium</td>\n",
       "      <td>8</td>\n",
       "      <td>8</td>\n",
       "      <td>33</td>\n",
       "      <td>33</td>\n",
       "      <td>[]</td>\n",
       "    </tr>\n",
       "    <tr>\n",
       "      <th>2919</th>\n",
       "      <td>rai</td>\n",
       "      <td>htx</td>\n",
       "      <td>Azteca Stadium</td>\n",
       "      <td>27</td>\n",
       "      <td>27</td>\n",
       "      <td>20</td>\n",
       "      <td>20</td>\n",
       "      <td>[]</td>\n",
       "    </tr>\n",
       "    <tr>\n",
       "      <th>2142</th>\n",
       "      <td>gnb</td>\n",
       "      <td>pit</td>\n",
       "      <td>Cowboys Stadium</td>\n",
       "      <td>31</td>\n",
       "      <td>31</td>\n",
       "      <td>25</td>\n",
       "      <td>25</td>\n",
       "      <td>[dal]</td>\n",
       "    </tr>\n",
       "    <tr>\n",
       "      <th>1198</th>\n",
       "      <td>clt</td>\n",
       "      <td>nor</td>\n",
       "      <td>Dolphin Stadium</td>\n",
       "      <td>17</td>\n",
       "      <td>17</td>\n",
       "      <td>31</td>\n",
       "      <td>31</td>\n",
       "      <td>[mia]</td>\n",
       "    </tr>\n",
       "    <tr>\n",
       "      <th>1115</th>\n",
       "      <td>min</td>\n",
       "      <td>nyg</td>\n",
       "      <td>Ford Field</td>\n",
       "      <td>3</td>\n",
       "      <td>3</td>\n",
       "      <td>21</td>\n",
       "      <td>21</td>\n",
       "      <td>[det]</td>\n",
       "    </tr>\n",
       "    <tr>\n",
       "      <th>1146</th>\n",
       "      <td>buf</td>\n",
       "      <td>nyj</td>\n",
       "      <td>Ford Field</td>\n",
       "      <td>38</td>\n",
       "      <td>38</td>\n",
       "      <td>3</td>\n",
       "      <td>3</td>\n",
       "      <td>[det]</td>\n",
       "    </tr>\n",
       "    <tr>\n",
       "      <th>346</th>\n",
       "      <td>nyg</td>\n",
       "      <td>nyj</td>\n",
       "      <td>Giants Stadium</td>\n",
       "      <td>35</td>\n",
       "      <td>35</td>\n",
       "      <td>24</td>\n",
       "      <td>24</td>\n",
       "      <td>[nyj, nyg]</td>\n",
       "    </tr>\n",
       "    <tr>\n",
       "      <th>2797</th>\n",
       "      <td>car</td>\n",
       "      <td>den</td>\n",
       "      <td>Levi's Stadium</td>\n",
       "      <td>10</td>\n",
       "      <td>10</td>\n",
       "      <td>24</td>\n",
       "      <td>24</td>\n",
       "      <td>[sfo]</td>\n",
       "    </tr>\n",
       "    <tr>\n",
       "      <th>1994</th>\n",
       "      <td>nwe</td>\n",
       "      <td>nyg</td>\n",
       "      <td>Lucas Oil Stadium</td>\n",
       "      <td>17</td>\n",
       "      <td>17</td>\n",
       "      <td>21</td>\n",
       "      <td>21</td>\n",
       "      <td>[clt]</td>\n",
       "    </tr>\n",
       "    <tr>\n",
       "      <th>2523</th>\n",
       "      <td>rav</td>\n",
       "      <td>sfo</td>\n",
       "      <td>Mercedes-Benz Superdome</td>\n",
       "      <td>34</td>\n",
       "      <td>34</td>\n",
       "      <td>31</td>\n",
       "      <td>31</td>\n",
       "      <td>[nor]</td>\n",
       "    </tr>\n",
       "  </tbody>\n",
       "</table>\n",
       "</div>"
      ],
      "text/plain": [
       "     team0 team1                  stadium  H_score  team0_score  V_score  \\\n",
       "2920   rai   nwe           Azteca Stadium        8            8       33   \n",
       "2919   rai   htx           Azteca Stadium       27           27       20   \n",
       "2142   gnb   pit          Cowboys Stadium       31           31       25   \n",
       "1198   clt   nor          Dolphin Stadium       17           17       31   \n",
       "1115   min   nyg               Ford Field        3            3       21   \n",
       "1146   buf   nyj               Ford Field       38           38        3   \n",
       "346    nyg   nyj           Giants Stadium       35           35       24   \n",
       "2797   car   den           Levi's Stadium       10           10       24   \n",
       "1994   nwe   nyg        Lucas Oil Stadium       17           17       21   \n",
       "2523   rav   sfo  Mercedes-Benz Superdome       34           34       31   \n",
       "\n",
       "      team1_score stadium_home_team  \n",
       "2920           33                []  \n",
       "2919           20                []  \n",
       "2142           25             [dal]  \n",
       "1198           31             [mia]  \n",
       "1115           21             [det]  \n",
       "1146            3             [det]  \n",
       "346            24        [nyj, nyg]  \n",
       "2797           24             [sfo]  \n",
       "1994           21             [clt]  \n",
       "2523           31             [nor]  "
      ]
     },
     "execution_count": 51,
     "metadata": {},
     "output_type": "execute_result"
    }
   ],
   "source": [
    "games_lines_info_homeaway['H_score'] = games_lines_info_homeaway\\\n",
    "                                        [['H_Q1','H_Q2','H_Q3','H_Q4']].sum(axis=1)\n",
    "games_lines_info_homeaway['V_score'] = games_lines_info_homeaway\\\n",
    "                                        [['V_Q1','V_Q2','V_Q3','V_Q4']].sum(axis=1)\n",
    "\n",
    "games_lines_info_homeaway[\n",
    "        games_lines_info_homeaway['home_team'] == 'neutral'\n",
    "    ].loc[\n",
    "        :, ['team0','team1','stadium','H_score',\n",
    "            'team0_score','V_score','team1_score','stadium_home_team']\n",
    "    ].sort_values(by='stadium').head(10)\n",
    "                                 \n",
    "games_lines_info_homeaway.drop(['H_score','V_score'], axis=1, inplace=True)"
   ]
  },
  {
   "cell_type": "markdown",
   "metadata": {},
   "source": [
    "#### Divisions"
   ]
  },
  {
   "cell_type": "code",
   "execution_count": 52,
   "metadata": {
    "ExecuteTime": {
     "end_time": "2018-12-29T15:54:24.657731Z",
     "start_time": "2018-12-29T15:54:24.647098Z"
    }
   },
   "outputs": [],
   "source": [
    "divisions_df = pd.read_csv('team_divisions.csv', index_col='idx')"
   ]
  },
  {
   "cell_type": "code",
   "execution_count": 53,
   "metadata": {
    "ExecuteTime": {
     "end_time": "2018-12-29T15:54:24.719982Z",
     "start_time": "2018-12-29T15:54:24.662883Z"
    }
   },
   "outputs": [],
   "source": [
    "before = games_lines_info_homeaway.shape[0]\n",
    "for nteam in [0,1]:\n",
    "    games_lines_info_homeaway = games_lines_info_homeaway.merge(\n",
    "        divisions_df.rename(\n",
    "            columns={'division': 'team{}_division'.format(nteam)}\n",
    "        ),\n",
    "        left_on=['season','team{}_fullname'.format(nteam)],\n",
    "        right_on=['season','team']\n",
    "    ).drop('team', axis=1)\n",
    "    assert games_lines_info_homeaway.shape[0] == before"
   ]
  },
  {
   "cell_type": "code",
   "execution_count": 54,
   "metadata": {
    "ExecuteTime": {
     "end_time": "2018-12-29T15:54:24.751426Z",
     "start_time": "2018-12-29T15:54:24.725270Z"
    }
   },
   "outputs": [
    {
     "data": {
      "text/html": [
       "<div>\n",
       "<style scoped>\n",
       "    .dataframe tbody tr th:only-of-type {\n",
       "        vertical-align: middle;\n",
       "    }\n",
       "\n",
       "    .dataframe tbody tr th {\n",
       "        vertical-align: top;\n",
       "    }\n",
       "\n",
       "    .dataframe thead th {\n",
       "        text-align: right;\n",
       "    }\n",
       "</style>\n",
       "<table border=\"1\" class=\"dataframe\">\n",
       "  <thead>\n",
       "    <tr style=\"text-align: right;\">\n",
       "      <th></th>\n",
       "      <th>team0_fullname</th>\n",
       "      <th>team0_division</th>\n",
       "      <th>team1_fullname</th>\n",
       "      <th>team1_division</th>\n",
       "    </tr>\n",
       "  </thead>\n",
       "  <tbody>\n",
       "    <tr>\n",
       "      <th>0</th>\n",
       "      <td>Indianapolis Colts</td>\n",
       "      <td>AFC South</td>\n",
       "      <td>New Orleans Saints</td>\n",
       "      <td>NFC South</td>\n",
       "    </tr>\n",
       "    <tr>\n",
       "      <th>1</th>\n",
       "      <td>Houston Texans</td>\n",
       "      <td>AFC South</td>\n",
       "      <td>New Orleans Saints</td>\n",
       "      <td>NFC South</td>\n",
       "    </tr>\n",
       "    <tr>\n",
       "      <th>2</th>\n",
       "      <td>Seattle Seahawks</td>\n",
       "      <td>NFC West</td>\n",
       "      <td>New Orleans Saints</td>\n",
       "      <td>NFC South</td>\n",
       "    </tr>\n",
       "    <tr>\n",
       "      <th>3</th>\n",
       "      <td>San Francisco 49ers</td>\n",
       "      <td>NFC West</td>\n",
       "      <td>New Orleans Saints</td>\n",
       "      <td>NFC South</td>\n",
       "    </tr>\n",
       "    <tr>\n",
       "      <th>4</th>\n",
       "      <td>Carolina Panthers</td>\n",
       "      <td>NFC South</td>\n",
       "      <td>New Orleans Saints</td>\n",
       "      <td>NFC South</td>\n",
       "    </tr>\n",
       "  </tbody>\n",
       "</table>\n",
       "</div>"
      ],
      "text/plain": [
       "        team0_fullname team0_division      team1_fullname team1_division\n",
       "0   Indianapolis Colts      AFC South  New Orleans Saints      NFC South\n",
       "1       Houston Texans      AFC South  New Orleans Saints      NFC South\n",
       "2     Seattle Seahawks       NFC West  New Orleans Saints      NFC South\n",
       "3  San Francisco 49ers       NFC West  New Orleans Saints      NFC South\n",
       "4    Carolina Panthers      NFC South  New Orleans Saints      NFC South"
      ]
     },
     "execution_count": 54,
     "metadata": {},
     "output_type": "execute_result"
    }
   ],
   "source": [
    "games_lines_info_homeaway[['team0_fullname','team0_division','team1_fullname','team1_division']].head()"
   ]
  },
  {
   "cell_type": "markdown",
   "metadata": {},
   "source": [
    "#### Re-order columns"
   ]
  },
  {
   "cell_type": "code",
   "execution_count": 55,
   "metadata": {
    "ExecuteTime": {
     "end_time": "2018-12-29T15:54:24.760498Z",
     "start_time": "2018-12-29T15:54:24.755085Z"
    }
   },
   "outputs": [],
   "source": [
    "## skip re-naming\n",
    "# homeaway_renames = dict(map(\n",
    "#     lambda x: (x, x.replace('team0_','H_').replace('team1_','V_')),\n",
    "#     games_lines_info_homeaway.columns\n",
    "# ))\n",
    "\n",
    "# games_lines_info_homeaway.rename(columns=homeaway_renames, inplace=True)"
   ]
  },
  {
   "cell_type": "code",
   "execution_count": 56,
   "metadata": {
    "ExecuteTime": {
     "end_time": "2018-12-29T15:54:24.776274Z",
     "start_time": "2018-12-29T15:54:24.765578Z"
    }
   },
   "outputs": [],
   "source": [
    "def reorder_cols(df, front_cols):\n",
    "    '''takes a DF and list of columns \n",
    "    to move to the front (in order).\n",
    "    returns DF'''\n",
    "    return df[\n",
    "        front_cols \n",
    "        + filter(\n",
    "            lambda x: x not in front_cols, \n",
    "            df.columns\n",
    "        )]\n",
    "    \n",
    "front_cols = ['game_id','season','week_id']\n",
    "base_df = reorder_cols(games_lines_info_homeaway, front_cols)"
   ]
  },
  {
   "cell_type": "code",
   "execution_count": 57,
   "metadata": {
    "ExecuteTime": {
     "end_time": "2018-12-29T15:54:24.877545Z",
     "start_time": "2018-12-29T15:54:24.780925Z"
    },
    "scrolled": false
   },
   "outputs": [
    {
     "data": {
      "text/html": [
       "<div>\n",
       "<style scoped>\n",
       "    .dataframe tbody tr th:only-of-type {\n",
       "        vertical-align: middle;\n",
       "    }\n",
       "\n",
       "    .dataframe tbody tr th {\n",
       "        vertical-align: top;\n",
       "    }\n",
       "\n",
       "    .dataframe thead th {\n",
       "        text-align: right;\n",
       "    }\n",
       "</style>\n",
       "<table border=\"1\" class=\"dataframe\">\n",
       "  <thead>\n",
       "    <tr style=\"text-align: right;\">\n",
       "      <th></th>\n",
       "      <th>0</th>\n",
       "      <th>1</th>\n",
       "      <th>2</th>\n",
       "      <th>3</th>\n",
       "      <th>4</th>\n",
       "    </tr>\n",
       "  </thead>\n",
       "  <tbody>\n",
       "    <tr>\n",
       "      <th>game_id</th>\n",
       "      <td>200709060clt</td>\n",
       "      <td>200711180htx</td>\n",
       "      <td>200710140sea</td>\n",
       "      <td>200710280sfo</td>\n",
       "      <td>200711250car</td>\n",
       "    </tr>\n",
       "    <tr>\n",
       "      <th>season</th>\n",
       "      <td>2007</td>\n",
       "      <td>2007</td>\n",
       "      <td>2007</td>\n",
       "      <td>2007</td>\n",
       "      <td>2007</td>\n",
       "    </tr>\n",
       "    <tr>\n",
       "      <th>week_id</th>\n",
       "      <td>0</td>\n",
       "      <td>10</td>\n",
       "      <td>5</td>\n",
       "      <td>7</td>\n",
       "      <td>11</td>\n",
       "    </tr>\n",
       "    <tr>\n",
       "      <th>team0_link</th>\n",
       "      <td>/teams/clt/2007.htm</td>\n",
       "      <td>/teams/htx/2007.htm</td>\n",
       "      <td>/teams/sea/2007.htm</td>\n",
       "      <td>/teams/sfo/2007.htm</td>\n",
       "      <td>/teams/car/2007.htm</td>\n",
       "    </tr>\n",
       "    <tr>\n",
       "      <th>team0_fullname</th>\n",
       "      <td>Indianapolis Colts</td>\n",
       "      <td>Houston Texans</td>\n",
       "      <td>Seattle Seahawks</td>\n",
       "      <td>San Francisco 49ers</td>\n",
       "      <td>Carolina Panthers</td>\n",
       "    </tr>\n",
       "    <tr>\n",
       "      <th>team0_name</th>\n",
       "      <td>Colts</td>\n",
       "      <td>Texans</td>\n",
       "      <td>Seahawks</td>\n",
       "      <td>49ers</td>\n",
       "      <td>Panthers</td>\n",
       "    </tr>\n",
       "    <tr>\n",
       "      <th>team0_city</th>\n",
       "      <td>Indianapolis</td>\n",
       "      <td>Houston</td>\n",
       "      <td>Seattle</td>\n",
       "      <td>San Francisco</td>\n",
       "      <td>Carolina</td>\n",
       "    </tr>\n",
       "    <tr>\n",
       "      <th>team0_score</th>\n",
       "      <td>41</td>\n",
       "      <td>23</td>\n",
       "      <td>17</td>\n",
       "      <td>10</td>\n",
       "      <td>6</td>\n",
       "    </tr>\n",
       "    <tr>\n",
       "      <th>team0_coach_raw</th>\n",
       "      <td>&lt;a href=\"/coaches/DungTo0.htm\"&gt;Tony Dungy&lt;/a&gt;</td>\n",
       "      <td>&lt;a href=\"/coaches/KubiGa0.htm\"&gt;Gary Kubiak&lt;/a&gt;</td>\n",
       "      <td>&lt;a href=\"/coaches/HolmMi0.htm\"&gt;Mike Holmgren&lt;/a&gt;</td>\n",
       "      <td>&lt;a href=\"/coaches/NolaMi0.htm\"&gt;Mike Nolan&lt;/a&gt;</td>\n",
       "      <td>&lt;a href=\"/coaches/FoxxJo0.htm\"&gt;John Fox&lt;/a&gt;</td>\n",
       "    </tr>\n",
       "    <tr>\n",
       "      <th>team0_coach_name</th>\n",
       "      <td>Tony Dungy</td>\n",
       "      <td>Gary Kubiak</td>\n",
       "      <td>Mike Holmgren</td>\n",
       "      <td>Mike Nolan</td>\n",
       "      <td>John Fox</td>\n",
       "    </tr>\n",
       "    <tr>\n",
       "      <th>team0_coach_id</th>\n",
       "      <td>/coaches/DungTo0.htm</td>\n",
       "      <td>/coaches/KubiGa0.htm</td>\n",
       "      <td>/coaches/HolmMi0.htm</td>\n",
       "      <td>/coaches/NolaMi0.htm</td>\n",
       "      <td>/coaches/FoxxJo0.htm</td>\n",
       "    </tr>\n",
       "    <tr>\n",
       "      <th>team1_link</th>\n",
       "      <td>/teams/nor/2007.htm</td>\n",
       "      <td>/teams/nor/2007.htm</td>\n",
       "      <td>/teams/nor/2007.htm</td>\n",
       "      <td>/teams/nor/2007.htm</td>\n",
       "      <td>/teams/nor/2007.htm</td>\n",
       "    </tr>\n",
       "    <tr>\n",
       "      <th>team1_fullname</th>\n",
       "      <td>New Orleans Saints</td>\n",
       "      <td>New Orleans Saints</td>\n",
       "      <td>New Orleans Saints</td>\n",
       "      <td>New Orleans Saints</td>\n",
       "      <td>New Orleans Saints</td>\n",
       "    </tr>\n",
       "    <tr>\n",
       "      <th>team1_name</th>\n",
       "      <td>Saints</td>\n",
       "      <td>Saints</td>\n",
       "      <td>Saints</td>\n",
       "      <td>Saints</td>\n",
       "      <td>Saints</td>\n",
       "    </tr>\n",
       "    <tr>\n",
       "      <th>team1_city</th>\n",
       "      <td>New Orleans</td>\n",
       "      <td>New Orleans</td>\n",
       "      <td>New Orleans</td>\n",
       "      <td>New Orleans</td>\n",
       "      <td>New Orleans</td>\n",
       "    </tr>\n",
       "    <tr>\n",
       "      <th>team1_score</th>\n",
       "      <td>10</td>\n",
       "      <td>10</td>\n",
       "      <td>28</td>\n",
       "      <td>31</td>\n",
       "      <td>31</td>\n",
       "    </tr>\n",
       "    <tr>\n",
       "      <th>team1_coach_raw</th>\n",
       "      <td>&lt;a href=\"/coaches/PaytSe0.htm\"&gt;Sean Payton&lt;/a&gt;</td>\n",
       "      <td>&lt;a href=\"/coaches/PaytSe0.htm\"&gt;Sean Payton&lt;/a&gt;</td>\n",
       "      <td>&lt;a href=\"/coaches/PaytSe0.htm\"&gt;Sean Payton&lt;/a&gt;</td>\n",
       "      <td>&lt;a href=\"/coaches/PaytSe0.htm\"&gt;Sean Payton&lt;/a&gt;</td>\n",
       "      <td>&lt;a href=\"/coaches/PaytSe0.htm\"&gt;Sean Payton&lt;/a&gt;</td>\n",
       "    </tr>\n",
       "    <tr>\n",
       "      <th>team1_coach_name</th>\n",
       "      <td>Sean Payton</td>\n",
       "      <td>Sean Payton</td>\n",
       "      <td>Sean Payton</td>\n",
       "      <td>Sean Payton</td>\n",
       "      <td>Sean Payton</td>\n",
       "    </tr>\n",
       "    <tr>\n",
       "      <th>team1_coach_id</th>\n",
       "      <td>/coaches/PaytSe0.htm</td>\n",
       "      <td>/coaches/PaytSe0.htm</td>\n",
       "      <td>/coaches/PaytSe0.htm</td>\n",
       "      <td>/coaches/PaytSe0.htm</td>\n",
       "      <td>/coaches/PaytSe0.htm</td>\n",
       "    </tr>\n",
       "    <tr>\n",
       "      <th>date</th>\n",
       "      <td>2007-09-06</td>\n",
       "      <td>2007-11-18</td>\n",
       "      <td>2007-10-14</td>\n",
       "      <td>2007-10-28</td>\n",
       "      <td>2007-11-25</td>\n",
       "    </tr>\n",
       "    <tr>\n",
       "      <th>time</th>\n",
       "      <td>8:39pm</td>\n",
       "      <td>1:02pm</td>\n",
       "      <td>8:23pm</td>\n",
       "      <td>4:17pm</td>\n",
       "      <td>1:03pm</td>\n",
       "    </tr>\n",
       "    <tr>\n",
       "      <th>stadium</th>\n",
       "      <td>RCA Dome</td>\n",
       "      <td>Reliant Stadium</td>\n",
       "      <td>Qwest Field</td>\n",
       "      <td>Monster Park</td>\n",
       "      <td>Bank of America Stadium</td>\n",
       "    </tr>\n",
       "    <tr>\n",
       "      <th>stadium_link</th>\n",
       "      <td>/stadiums/IND99.htm</td>\n",
       "      <td>/stadiums/HOU00.htm</td>\n",
       "      <td>/stadiums/SEA00.htm</td>\n",
       "      <td>/stadiums/SFO00.htm</td>\n",
       "      <td>/stadiums/CAR00.htm</td>\n",
       "    </tr>\n",
       "    <tr>\n",
       "      <th>attendance</th>\n",
       "      <td>57361</td>\n",
       "      <td>70780</td>\n",
       "      <td>68296</td>\n",
       "      <td>68244</td>\n",
       "      <td>72032</td>\n",
       "    </tr>\n",
       "    <tr>\n",
       "      <th>duration</th>\n",
       "      <td>2:56</td>\n",
       "      <td>3:05</td>\n",
       "      <td>3:04</td>\n",
       "      <td>3:14</td>\n",
       "      <td>3:08</td>\n",
       "    </tr>\n",
       "    <tr>\n",
       "      <th>day_of_week</th>\n",
       "      <td>3</td>\n",
       "      <td>6</td>\n",
       "      <td>6</td>\n",
       "      <td>6</td>\n",
       "      <td>6</td>\n",
       "    </tr>\n",
       "    <tr>\n",
       "      <th>2H_Fav</th>\n",
       "      <td>H</td>\n",
       "      <td>H</td>\n",
       "      <td>H</td>\n",
       "      <td>H</td>\n",
       "      <td>V</td>\n",
       "    </tr>\n",
       "    <tr>\n",
       "      <th>2H_OU</th>\n",
       "      <td>24.5</td>\n",
       "      <td>pk</td>\n",
       "      <td>23</td>\n",
       "      <td>17.5</td>\n",
       "      <td>20</td>\n",
       "    </tr>\n",
       "    <tr>\n",
       "      <th>2H_Spread</th>\n",
       "      <td>3.5</td>\n",
       "      <td>24.5</td>\n",
       "      <td>6.5</td>\n",
       "      <td>1</td>\n",
       "      <td>3</td>\n",
       "    </tr>\n",
       "    <tr>\n",
       "      <th>Close_Fav</th>\n",
       "      <td>H</td>\n",
       "      <td>H</td>\n",
       "      <td>H</td>\n",
       "      <td>V</td>\n",
       "      <td>V</td>\n",
       "    </tr>\n",
       "    <tr>\n",
       "      <th>...</th>\n",
       "      <td>...</td>\n",
       "      <td>...</td>\n",
       "      <td>...</td>\n",
       "      <td>...</td>\n",
       "      <td>...</td>\n",
       "    </tr>\n",
       "    <tr>\n",
       "      <th>H_Final</th>\n",
       "      <td>41</td>\n",
       "      <td>23</td>\n",
       "      <td>17</td>\n",
       "      <td>10</td>\n",
       "      <td>6</td>\n",
       "    </tr>\n",
       "    <tr>\n",
       "      <th>H_ML</th>\n",
       "      <td>-240</td>\n",
       "      <td>-130</td>\n",
       "      <td>-250</td>\n",
       "      <td>115</td>\n",
       "      <td>155</td>\n",
       "    </tr>\n",
       "    <tr>\n",
       "      <th>H_Q1</th>\n",
       "      <td>7</td>\n",
       "      <td>7</td>\n",
       "      <td>0</td>\n",
       "      <td>0</td>\n",
       "      <td>3</td>\n",
       "    </tr>\n",
       "    <tr>\n",
       "      <th>H_Q2</th>\n",
       "      <td>3</td>\n",
       "      <td>10</td>\n",
       "      <td>10</td>\n",
       "      <td>0</td>\n",
       "      <td>3</td>\n",
       "    </tr>\n",
       "    <tr>\n",
       "      <th>H_Q3</th>\n",
       "      <td>14</td>\n",
       "      <td>0</td>\n",
       "      <td>0</td>\n",
       "      <td>3</td>\n",
       "      <td>0</td>\n",
       "    </tr>\n",
       "    <tr>\n",
       "      <th>H_Q4</th>\n",
       "      <td>17</td>\n",
       "      <td>6</td>\n",
       "      <td>7</td>\n",
       "      <td>7</td>\n",
       "      <td>0</td>\n",
       "    </tr>\n",
       "    <tr>\n",
       "      <th>ML_Fav</th>\n",
       "      <td>H</td>\n",
       "      <td>H</td>\n",
       "      <td>H</td>\n",
       "      <td>V</td>\n",
       "      <td>V</td>\n",
       "    </tr>\n",
       "    <tr>\n",
       "      <th>Open_Fav</th>\n",
       "      <td>H</td>\n",
       "      <td>V</td>\n",
       "      <td>H</td>\n",
       "      <td>V</td>\n",
       "      <td>H</td>\n",
       "    </tr>\n",
       "    <tr>\n",
       "      <th>Open_OU</th>\n",
       "      <td>50.5</td>\n",
       "      <td>47</td>\n",
       "      <td>41.5</td>\n",
       "      <td>41</td>\n",
       "      <td>41.5</td>\n",
       "    </tr>\n",
       "    <tr>\n",
       "      <th>Open_Spread</th>\n",
       "      <td>5.5</td>\n",
       "      <td>3</td>\n",
       "      <td>7</td>\n",
       "      <td>2.5</td>\n",
       "      <td>0</td>\n",
       "    </tr>\n",
       "    <tr>\n",
       "      <th>V_Final</th>\n",
       "      <td>10</td>\n",
       "      <td>10</td>\n",
       "      <td>28</td>\n",
       "      <td>31</td>\n",
       "      <td>31</td>\n",
       "    </tr>\n",
       "    <tr>\n",
       "      <th>V_ML</th>\n",
       "      <td>200</td>\n",
       "      <td>110</td>\n",
       "      <td>210</td>\n",
       "      <td>-135</td>\n",
       "      <td>-175</td>\n",
       "    </tr>\n",
       "    <tr>\n",
       "      <th>V_Q1</th>\n",
       "      <td>0</td>\n",
       "      <td>3</td>\n",
       "      <td>7</td>\n",
       "      <td>10</td>\n",
       "      <td>0</td>\n",
       "    </tr>\n",
       "    <tr>\n",
       "      <th>V_Q2</th>\n",
       "      <td>10</td>\n",
       "      <td>7</td>\n",
       "      <td>21</td>\n",
       "      <td>14</td>\n",
       "      <td>10</td>\n",
       "    </tr>\n",
       "    <tr>\n",
       "      <th>V_Q3</th>\n",
       "      <td>0</td>\n",
       "      <td>0</td>\n",
       "      <td>0</td>\n",
       "      <td>0</td>\n",
       "      <td>21</td>\n",
       "    </tr>\n",
       "    <tr>\n",
       "      <th>V_Q4</th>\n",
       "      <td>0</td>\n",
       "      <td>0</td>\n",
       "      <td>0</td>\n",
       "      <td>7</td>\n",
       "      <td>0</td>\n",
       "    </tr>\n",
       "    <tr>\n",
       "      <th>surface</th>\n",
       "      <td>fieldturf</td>\n",
       "      <td>grass</td>\n",
       "      <td>fieldturf</td>\n",
       "      <td>grass</td>\n",
       "      <td>grass</td>\n",
       "    </tr>\n",
       "    <tr>\n",
       "      <th>pfr_line</th>\n",
       "      <td>Indianapolis Colts -5.5</td>\n",
       "      <td>Houston Texans -1.0</td>\n",
       "      <td>Seattle Seahawks -6.5</td>\n",
       "      <td>New Orleans Saints -1.5</td>\n",
       "      <td>New Orleans Saints -3.0</td>\n",
       "    </tr>\n",
       "    <tr>\n",
       "      <th>pfr_ou</th>\n",
       "      <td>53.5 (under)</td>\n",
       "      <td>50.5 (under)</td>\n",
       "      <td>43.0 (over)</td>\n",
       "      <td>40.0 (over)</td>\n",
       "      <td>42.0 (under)</td>\n",
       "    </tr>\n",
       "    <tr>\n",
       "      <th>roof</th>\n",
       "      <td>dome</td>\n",
       "      <td>retractable roof (closed)</td>\n",
       "      <td>outdoors</td>\n",
       "      <td>outdoors</td>\n",
       "      <td>outdoors</td>\n",
       "    </tr>\n",
       "    <tr>\n",
       "      <th>prf_weather</th>\n",
       "      <td>NaN</td>\n",
       "      <td>NaN</td>\n",
       "      <td>68 degrees relative humidity 47%, wind 4 mph, ...</td>\n",
       "      <td>63 degrees relative humidity 70%, wind 6 mph, ...</td>\n",
       "      <td>46 degrees relative humidity 41%, wind 5 mph, ...</td>\n",
       "    </tr>\n",
       "    <tr>\n",
       "      <th>lat</th>\n",
       "      <td>39.7636</td>\n",
       "      <td>29.6847</td>\n",
       "      <td>47.5952</td>\n",
       "      <td>37.7136</td>\n",
       "      <td>35.2258</td>\n",
       "    </tr>\n",
       "    <tr>\n",
       "      <th>long</th>\n",
       "      <td>-86.1633</td>\n",
       "      <td>-95.4108</td>\n",
       "      <td>-122.332</td>\n",
       "      <td>-122.386</td>\n",
       "      <td>-80.8528</td>\n",
       "    </tr>\n",
       "    <tr>\n",
       "      <th>timezone</th>\n",
       "      <td>-5.0</td>\n",
       "      <td>-6.0</td>\n",
       "      <td>-8.0</td>\n",
       "      <td>-8.0</td>\n",
       "      <td>-5.0</td>\n",
       "    </tr>\n",
       "    <tr>\n",
       "      <th>stadium_home_team</th>\n",
       "      <td>[clt]</td>\n",
       "      <td>[htx]</td>\n",
       "      <td>[sea]</td>\n",
       "      <td>[sfo]</td>\n",
       "      <td>[car]</td>\n",
       "    </tr>\n",
       "    <tr>\n",
       "      <th>team0</th>\n",
       "      <td>clt</td>\n",
       "      <td>htx</td>\n",
       "      <td>sea</td>\n",
       "      <td>sfo</td>\n",
       "      <td>car</td>\n",
       "    </tr>\n",
       "    <tr>\n",
       "      <th>team1</th>\n",
       "      <td>nor</td>\n",
       "      <td>nor</td>\n",
       "      <td>nor</td>\n",
       "      <td>nor</td>\n",
       "      <td>nor</td>\n",
       "    </tr>\n",
       "    <tr>\n",
       "      <th>home_team</th>\n",
       "      <td>clt</td>\n",
       "      <td>htx</td>\n",
       "      <td>sea</td>\n",
       "      <td>sfo</td>\n",
       "      <td>car</td>\n",
       "    </tr>\n",
       "    <tr>\n",
       "      <th>team0_division</th>\n",
       "      <td>AFC South</td>\n",
       "      <td>AFC South</td>\n",
       "      <td>NFC West</td>\n",
       "      <td>NFC West</td>\n",
       "      <td>NFC South</td>\n",
       "    </tr>\n",
       "    <tr>\n",
       "      <th>team1_division</th>\n",
       "      <td>NFC South</td>\n",
       "      <td>NFC South</td>\n",
       "      <td>NFC South</td>\n",
       "      <td>NFC South</td>\n",
       "      <td>NFC South</td>\n",
       "    </tr>\n",
       "  </tbody>\n",
       "</table>\n",
       "<p>62 rows × 5 columns</p>\n",
       "</div>"
      ],
      "text/plain": [
       "                                                                0  \\\n",
       "game_id                                              200709060clt   \n",
       "season                                                       2007   \n",
       "week_id                                                         0   \n",
       "team0_link                                    /teams/clt/2007.htm   \n",
       "team0_fullname                                 Indianapolis Colts   \n",
       "team0_name                                                  Colts   \n",
       "team0_city                                           Indianapolis   \n",
       "team0_score                                                    41   \n",
       "team0_coach_raw     <a href=\"/coaches/DungTo0.htm\">Tony Dungy</a>   \n",
       "team0_coach_name                                       Tony Dungy   \n",
       "team0_coach_id                               /coaches/DungTo0.htm   \n",
       "team1_link                                    /teams/nor/2007.htm   \n",
       "team1_fullname                                 New Orleans Saints   \n",
       "team1_name                                                 Saints   \n",
       "team1_city                                            New Orleans   \n",
       "team1_score                                                    10   \n",
       "team1_coach_raw    <a href=\"/coaches/PaytSe0.htm\">Sean Payton</a>   \n",
       "team1_coach_name                                      Sean Payton   \n",
       "team1_coach_id                               /coaches/PaytSe0.htm   \n",
       "date                                                   2007-09-06   \n",
       "time                                                       8:39pm   \n",
       "stadium                                                  RCA Dome   \n",
       "stadium_link                                  /stadiums/IND99.htm   \n",
       "attendance                                                  57361   \n",
       "duration                                                     2:56   \n",
       "day_of_week                                                     3   \n",
       "2H_Fav                                                          H   \n",
       "2H_OU                                                        24.5   \n",
       "2H_Spread                                                     3.5   \n",
       "Close_Fav                                                       H   \n",
       "...                                                           ...   \n",
       "H_Final                                                        41   \n",
       "H_ML                                                         -240   \n",
       "H_Q1                                                            7   \n",
       "H_Q2                                                            3   \n",
       "H_Q3                                                           14   \n",
       "H_Q4                                                           17   \n",
       "ML_Fav                                                          H   \n",
       "Open_Fav                                                        H   \n",
       "Open_OU                                                      50.5   \n",
       "Open_Spread                                                   5.5   \n",
       "V_Final                                                        10   \n",
       "V_ML                                                          200   \n",
       "V_Q1                                                            0   \n",
       "V_Q2                                                           10   \n",
       "V_Q3                                                            0   \n",
       "V_Q4                                                            0   \n",
       "surface                                                 fieldturf   \n",
       "pfr_line                                  Indianapolis Colts -5.5   \n",
       "pfr_ou                                               53.5 (under)   \n",
       "roof                                                         dome   \n",
       "prf_weather                                                   NaN   \n",
       "lat                                                       39.7636   \n",
       "long                                                     -86.1633   \n",
       "timezone                                                     -5.0   \n",
       "stadium_home_team                                           [clt]   \n",
       "team0                                                         clt   \n",
       "team1                                                         nor   \n",
       "home_team                                                     clt   \n",
       "team0_division                                          AFC South   \n",
       "team1_division                                          NFC South   \n",
       "\n",
       "                                                                1  \\\n",
       "game_id                                              200711180htx   \n",
       "season                                                       2007   \n",
       "week_id                                                        10   \n",
       "team0_link                                    /teams/htx/2007.htm   \n",
       "team0_fullname                                     Houston Texans   \n",
       "team0_name                                                 Texans   \n",
       "team0_city                                                Houston   \n",
       "team0_score                                                    23   \n",
       "team0_coach_raw    <a href=\"/coaches/KubiGa0.htm\">Gary Kubiak</a>   \n",
       "team0_coach_name                                      Gary Kubiak   \n",
       "team0_coach_id                               /coaches/KubiGa0.htm   \n",
       "team1_link                                    /teams/nor/2007.htm   \n",
       "team1_fullname                                 New Orleans Saints   \n",
       "team1_name                                                 Saints   \n",
       "team1_city                                            New Orleans   \n",
       "team1_score                                                    10   \n",
       "team1_coach_raw    <a href=\"/coaches/PaytSe0.htm\">Sean Payton</a>   \n",
       "team1_coach_name                                      Sean Payton   \n",
       "team1_coach_id                               /coaches/PaytSe0.htm   \n",
       "date                                                   2007-11-18   \n",
       "time                                                       1:02pm   \n",
       "stadium                                           Reliant Stadium   \n",
       "stadium_link                                  /stadiums/HOU00.htm   \n",
       "attendance                                                  70780   \n",
       "duration                                                     3:05   \n",
       "day_of_week                                                     6   \n",
       "2H_Fav                                                          H   \n",
       "2H_OU                                                          pk   \n",
       "2H_Spread                                                    24.5   \n",
       "Close_Fav                                                       H   \n",
       "...                                                           ...   \n",
       "H_Final                                                        23   \n",
       "H_ML                                                         -130   \n",
       "H_Q1                                                            7   \n",
       "H_Q2                                                           10   \n",
       "H_Q3                                                            0   \n",
       "H_Q4                                                            6   \n",
       "ML_Fav                                                          H   \n",
       "Open_Fav                                                        V   \n",
       "Open_OU                                                        47   \n",
       "Open_Spread                                                     3   \n",
       "V_Final                                                        10   \n",
       "V_ML                                                          110   \n",
       "V_Q1                                                            3   \n",
       "V_Q2                                                            7   \n",
       "V_Q3                                                            0   \n",
       "V_Q4                                                            0   \n",
       "surface                                                     grass   \n",
       "pfr_line                                      Houston Texans -1.0   \n",
       "pfr_ou                                               50.5 (under)   \n",
       "roof                                    retractable roof (closed)   \n",
       "prf_weather                                                   NaN   \n",
       "lat                                                       29.6847   \n",
       "long                                                     -95.4108   \n",
       "timezone                                                     -6.0   \n",
       "stadium_home_team                                           [htx]   \n",
       "team0                                                         htx   \n",
       "team1                                                         nor   \n",
       "home_team                                                     htx   \n",
       "team0_division                                          AFC South   \n",
       "team1_division                                          NFC South   \n",
       "\n",
       "                                                                   2  \\\n",
       "game_id                                                 200710140sea   \n",
       "season                                                          2007   \n",
       "week_id                                                            5   \n",
       "team0_link                                       /teams/sea/2007.htm   \n",
       "team0_fullname                                      Seattle Seahawks   \n",
       "team0_name                                                  Seahawks   \n",
       "team0_city                                                   Seattle   \n",
       "team0_score                                                       17   \n",
       "team0_coach_raw     <a href=\"/coaches/HolmMi0.htm\">Mike Holmgren</a>   \n",
       "team0_coach_name                                       Mike Holmgren   \n",
       "team0_coach_id                                  /coaches/HolmMi0.htm   \n",
       "team1_link                                       /teams/nor/2007.htm   \n",
       "team1_fullname                                    New Orleans Saints   \n",
       "team1_name                                                    Saints   \n",
       "team1_city                                               New Orleans   \n",
       "team1_score                                                       28   \n",
       "team1_coach_raw       <a href=\"/coaches/PaytSe0.htm\">Sean Payton</a>   \n",
       "team1_coach_name                                         Sean Payton   \n",
       "team1_coach_id                                  /coaches/PaytSe0.htm   \n",
       "date                                                      2007-10-14   \n",
       "time                                                          8:23pm   \n",
       "stadium                                                  Qwest Field   \n",
       "stadium_link                                     /stadiums/SEA00.htm   \n",
       "attendance                                                     68296   \n",
       "duration                                                        3:04   \n",
       "day_of_week                                                        6   \n",
       "2H_Fav                                                             H   \n",
       "2H_OU                                                             23   \n",
       "2H_Spread                                                        6.5   \n",
       "Close_Fav                                                          H   \n",
       "...                                                              ...   \n",
       "H_Final                                                           17   \n",
       "H_ML                                                            -250   \n",
       "H_Q1                                                               0   \n",
       "H_Q2                                                              10   \n",
       "H_Q3                                                               0   \n",
       "H_Q4                                                               7   \n",
       "ML_Fav                                                             H   \n",
       "Open_Fav                                                           H   \n",
       "Open_OU                                                         41.5   \n",
       "Open_Spread                                                        7   \n",
       "V_Final                                                           28   \n",
       "V_ML                                                             210   \n",
       "V_Q1                                                               7   \n",
       "V_Q2                                                              21   \n",
       "V_Q3                                                               0   \n",
       "V_Q4                                                               0   \n",
       "surface                                                    fieldturf   \n",
       "pfr_line                                       Seattle Seahawks -6.5   \n",
       "pfr_ou                                                   43.0 (over)   \n",
       "roof                                                        outdoors   \n",
       "prf_weather        68 degrees relative humidity 47%, wind 4 mph, ...   \n",
       "lat                                                          47.5952   \n",
       "long                                                        -122.332   \n",
       "timezone                                                        -8.0   \n",
       "stadium_home_team                                              [sea]   \n",
       "team0                                                            sea   \n",
       "team1                                                            nor   \n",
       "home_team                                                        sea   \n",
       "team0_division                                              NFC West   \n",
       "team1_division                                             NFC South   \n",
       "\n",
       "                                                                   3  \\\n",
       "game_id                                                 200710280sfo   \n",
       "season                                                          2007   \n",
       "week_id                                                            7   \n",
       "team0_link                                       /teams/sfo/2007.htm   \n",
       "team0_fullname                                   San Francisco 49ers   \n",
       "team0_name                                                     49ers   \n",
       "team0_city                                             San Francisco   \n",
       "team0_score                                                       10   \n",
       "team0_coach_raw        <a href=\"/coaches/NolaMi0.htm\">Mike Nolan</a>   \n",
       "team0_coach_name                                          Mike Nolan   \n",
       "team0_coach_id                                  /coaches/NolaMi0.htm   \n",
       "team1_link                                       /teams/nor/2007.htm   \n",
       "team1_fullname                                    New Orleans Saints   \n",
       "team1_name                                                    Saints   \n",
       "team1_city                                               New Orleans   \n",
       "team1_score                                                       31   \n",
       "team1_coach_raw       <a href=\"/coaches/PaytSe0.htm\">Sean Payton</a>   \n",
       "team1_coach_name                                         Sean Payton   \n",
       "team1_coach_id                                  /coaches/PaytSe0.htm   \n",
       "date                                                      2007-10-28   \n",
       "time                                                          4:17pm   \n",
       "stadium                                                 Monster Park   \n",
       "stadium_link                                     /stadiums/SFO00.htm   \n",
       "attendance                                                     68244   \n",
       "duration                                                        3:14   \n",
       "day_of_week                                                        6   \n",
       "2H_Fav                                                             H   \n",
       "2H_OU                                                           17.5   \n",
       "2H_Spread                                                          1   \n",
       "Close_Fav                                                          V   \n",
       "...                                                              ...   \n",
       "H_Final                                                           10   \n",
       "H_ML                                                             115   \n",
       "H_Q1                                                               0   \n",
       "H_Q2                                                               0   \n",
       "H_Q3                                                               3   \n",
       "H_Q4                                                               7   \n",
       "ML_Fav                                                             V   \n",
       "Open_Fav                                                           V   \n",
       "Open_OU                                                           41   \n",
       "Open_Spread                                                      2.5   \n",
       "V_Final                                                           31   \n",
       "V_ML                                                            -135   \n",
       "V_Q1                                                              10   \n",
       "V_Q2                                                              14   \n",
       "V_Q3                                                               0   \n",
       "V_Q4                                                               7   \n",
       "surface                                                        grass   \n",
       "pfr_line                                     New Orleans Saints -1.5   \n",
       "pfr_ou                                                   40.0 (over)   \n",
       "roof                                                        outdoors   \n",
       "prf_weather        63 degrees relative humidity 70%, wind 6 mph, ...   \n",
       "lat                                                          37.7136   \n",
       "long                                                        -122.386   \n",
       "timezone                                                        -8.0   \n",
       "stadium_home_team                                              [sfo]   \n",
       "team0                                                            sfo   \n",
       "team1                                                            nor   \n",
       "home_team                                                        sfo   \n",
       "team0_division                                              NFC West   \n",
       "team1_division                                             NFC South   \n",
       "\n",
       "                                                                   4  \n",
       "game_id                                                 200711250car  \n",
       "season                                                          2007  \n",
       "week_id                                                           11  \n",
       "team0_link                                       /teams/car/2007.htm  \n",
       "team0_fullname                                     Carolina Panthers  \n",
       "team0_name                                                  Panthers  \n",
       "team0_city                                                  Carolina  \n",
       "team0_score                                                        6  \n",
       "team0_coach_raw          <a href=\"/coaches/FoxxJo0.htm\">John Fox</a>  \n",
       "team0_coach_name                                            John Fox  \n",
       "team0_coach_id                                  /coaches/FoxxJo0.htm  \n",
       "team1_link                                       /teams/nor/2007.htm  \n",
       "team1_fullname                                    New Orleans Saints  \n",
       "team1_name                                                    Saints  \n",
       "team1_city                                               New Orleans  \n",
       "team1_score                                                       31  \n",
       "team1_coach_raw       <a href=\"/coaches/PaytSe0.htm\">Sean Payton</a>  \n",
       "team1_coach_name                                         Sean Payton  \n",
       "team1_coach_id                                  /coaches/PaytSe0.htm  \n",
       "date                                                      2007-11-25  \n",
       "time                                                          1:03pm  \n",
       "stadium                                      Bank of America Stadium  \n",
       "stadium_link                                     /stadiums/CAR00.htm  \n",
       "attendance                                                     72032  \n",
       "duration                                                        3:08  \n",
       "day_of_week                                                        6  \n",
       "2H_Fav                                                             V  \n",
       "2H_OU                                                             20  \n",
       "2H_Spread                                                          3  \n",
       "Close_Fav                                                          V  \n",
       "...                                                              ...  \n",
       "H_Final                                                            6  \n",
       "H_ML                                                             155  \n",
       "H_Q1                                                               3  \n",
       "H_Q2                                                               3  \n",
       "H_Q3                                                               0  \n",
       "H_Q4                                                               0  \n",
       "ML_Fav                                                             V  \n",
       "Open_Fav                                                           H  \n",
       "Open_OU                                                         41.5  \n",
       "Open_Spread                                                        0  \n",
       "V_Final                                                           31  \n",
       "V_ML                                                            -175  \n",
       "V_Q1                                                               0  \n",
       "V_Q2                                                              10  \n",
       "V_Q3                                                              21  \n",
       "V_Q4                                                               0  \n",
       "surface                                                        grass  \n",
       "pfr_line                                     New Orleans Saints -3.0  \n",
       "pfr_ou                                                  42.0 (under)  \n",
       "roof                                                        outdoors  \n",
       "prf_weather        46 degrees relative humidity 41%, wind 5 mph, ...  \n",
       "lat                                                          35.2258  \n",
       "long                                                        -80.8528  \n",
       "timezone                                                        -5.0  \n",
       "stadium_home_team                                              [car]  \n",
       "team0                                                            car  \n",
       "team1                                                            nor  \n",
       "home_team                                                        car  \n",
       "team0_division                                             NFC South  \n",
       "team1_division                                             NFC South  \n",
       "\n",
       "[62 rows x 5 columns]"
      ]
     },
     "execution_count": 57,
     "metadata": {},
     "output_type": "execute_result"
    }
   ],
   "source": [
    "base_df.head().T"
   ]
  },
  {
   "cell_type": "markdown",
   "metadata": {},
   "source": [
    "### Write Hive Table: __games_denorm__"
   ]
  },
  {
   "cell_type": "code",
   "execution_count": 58,
   "metadata": {
    "ExecuteTime": {
     "end_time": "2018-12-29T15:54:24.886074Z",
     "start_time": "2018-12-29T15:54:24.880979Z"
    }
   },
   "outputs": [],
   "source": [
    "pd.options.display.max_rows = 100"
   ]
  },
  {
   "cell_type": "code",
   "execution_count": 59,
   "metadata": {
    "ExecuteTime": {
     "end_time": "2018-12-29T15:54:29.363479Z",
     "start_time": "2018-12-29T15:54:24.890858Z"
    }
   },
   "outputs": [],
   "source": [
    "spark.createDataFrame(\n",
    "        cast_dtypes(\n",
    "            base_df\n",
    "        )\n",
    "    ).write.mode('overwrite').saveAsTable('games_denorm')"
   ]
  },
  {
   "cell_type": "markdown",
   "metadata": {},
   "source": [
    "### Normalize and write to Hive tables (in __bold__)"
   ]
  },
  {
   "cell_type": "code",
   "execution_count": 60,
   "metadata": {
    "ExecuteTime": {
     "end_time": "2018-12-29T15:54:29.384345Z",
     "start_time": "2018-12-29T15:54:29.368507Z"
    }
   },
   "outputs": [],
   "source": [
    "## union team0 and team1 fields and get distinct values\n",
    "def combine_team0_team1(full_df, all_fields, non_team_fields):\n",
    "    '''given a DataFrame with 2 teams:\n",
    "    * split into 2 DFs by team0 and team1\n",
    "    * rename and align schemas\n",
    "    * union\n",
    "    * drop duplicates\n",
    "    * return a DataFrame to be converted into Hive table'''\n",
    "\n",
    "    for team_i in [0,1]:\n",
    "        fields = [\n",
    "            a for a in all_fields\n",
    "            if 'team{}'.format(team_i) in a\n",
    "        ]\n",
    "        curr_table = full_df[non_team_fields + fields]\n",
    "        ## team out team0 and team1 to align schemas\n",
    "        field_map = dict(map(\n",
    "                lambda x: (x, x.replace('team{}_'.format(team_i), '')\n",
    "                               .replace('team{}'.format(team_i), 'team')\n",
    "                          ), fields\n",
    "            ))\n",
    "        curr_table = curr_table.rename(columns=field_map)\n",
    "\n",
    "        if team_i == 0:\n",
    "            curr_df = curr_table\n",
    "        else:\n",
    "            curr_df = curr_df.append(\n",
    "                curr_table[curr_df.columns]\n",
    "            ).reset_index(drop=True)\n",
    "\n",
    "    return curr_df.drop_duplicates()"
   ]
  },
  {
   "cell_type": "markdown",
   "metadata": {},
   "source": [
    "#### __team_season__\n",
    "* primary key is (season, link)\n",
    "* joins with game"
   ]
  },
  {
   "cell_type": "code",
   "execution_count": 61,
   "metadata": {
    "ExecuteTime": {
     "end_time": "2018-12-29T15:54:29.468163Z",
     "start_time": "2018-12-29T15:54:29.391879Z"
    }
   },
   "outputs": [
    {
     "data": {
      "text/html": [
       "<div>\n",
       "<style scoped>\n",
       "    .dataframe tbody tr th:only-of-type {\n",
       "        vertical-align: middle;\n",
       "    }\n",
       "\n",
       "    .dataframe tbody tr th {\n",
       "        vertical-align: top;\n",
       "    }\n",
       "\n",
       "    .dataframe thead th {\n",
       "        text-align: right;\n",
       "    }\n",
       "</style>\n",
       "<table border=\"1\" class=\"dataframe\">\n",
       "  <thead>\n",
       "    <tr style=\"text-align: right;\">\n",
       "      <th></th>\n",
       "      <th>season</th>\n",
       "      <th>link</th>\n",
       "      <th>name</th>\n",
       "      <th>fullname</th>\n",
       "      <th>city</th>\n",
       "      <th>division</th>\n",
       "    </tr>\n",
       "  </thead>\n",
       "  <tbody>\n",
       "    <tr>\n",
       "      <th>0</th>\n",
       "      <td>2007</td>\n",
       "      <td>/teams/clt/2007.htm</td>\n",
       "      <td>Colts</td>\n",
       "      <td>Indianapolis Colts</td>\n",
       "      <td>Indianapolis</td>\n",
       "      <td>AFC South</td>\n",
       "    </tr>\n",
       "    <tr>\n",
       "      <th>1</th>\n",
       "      <td>2007</td>\n",
       "      <td>/teams/htx/2007.htm</td>\n",
       "      <td>Texans</td>\n",
       "      <td>Houston Texans</td>\n",
       "      <td>Houston</td>\n",
       "      <td>AFC South</td>\n",
       "    </tr>\n",
       "    <tr>\n",
       "      <th>2</th>\n",
       "      <td>2007</td>\n",
       "      <td>/teams/sea/2007.htm</td>\n",
       "      <td>Seahawks</td>\n",
       "      <td>Seattle Seahawks</td>\n",
       "      <td>Seattle</td>\n",
       "      <td>NFC West</td>\n",
       "    </tr>\n",
       "    <tr>\n",
       "      <th>3</th>\n",
       "      <td>2007</td>\n",
       "      <td>/teams/sfo/2007.htm</td>\n",
       "      <td>49ers</td>\n",
       "      <td>San Francisco 49ers</td>\n",
       "      <td>San Francisco</td>\n",
       "      <td>NFC West</td>\n",
       "    </tr>\n",
       "    <tr>\n",
       "      <th>4</th>\n",
       "      <td>2007</td>\n",
       "      <td>/teams/car/2007.htm</td>\n",
       "      <td>Panthers</td>\n",
       "      <td>Carolina Panthers</td>\n",
       "      <td>Carolina</td>\n",
       "      <td>NFC South</td>\n",
       "    </tr>\n",
       "  </tbody>\n",
       "</table>\n",
       "</div>"
      ],
      "text/plain": [
       "   season                 link      name             fullname           city  \\\n",
       "0    2007  /teams/clt/2007.htm     Colts   Indianapolis Colts   Indianapolis   \n",
       "1    2007  /teams/htx/2007.htm    Texans       Houston Texans        Houston   \n",
       "2    2007  /teams/sea/2007.htm  Seahawks     Seattle Seahawks        Seattle   \n",
       "3    2007  /teams/sfo/2007.htm     49ers  San Francisco 49ers  San Francisco   \n",
       "4    2007  /teams/car/2007.htm  Panthers    Carolina Panthers       Carolina   \n",
       "\n",
       "    division  \n",
       "0  AFC South  \n",
       "1  AFC South  \n",
       "2   NFC West  \n",
       "3   NFC West  \n",
       "4  NFC South  "
      ]
     },
     "execution_count": 61,
     "metadata": {},
     "output_type": "execute_result"
    }
   ],
   "source": [
    "team_season_fields = [\n",
    "    'season',\n",
    "    'team0_link','team0_name','team0_fullname','team0_city','team0_division',\n",
    "    'team1_link','team1_name','team1_fullname','team1_city','team1_division'\n",
    "]\n",
    "\n",
    "team_season_df = combine_team0_team1(\n",
    "    base_df.copy(), team_season_fields, ['season']\n",
    ")\n",
    "## assert that every season has the same amount of teams\n",
    "assert team_season_df['season'].value_counts().min() \\\n",
    "        == team_season_df['season'].value_counts().max()\n",
    "\n",
    "## assert key (season, link) is unique\n",
    "key = ['season','link']\n",
    "assert team_season_df.groupby(key).size().max() == 1\n",
    "team_season_df.head()"
   ]
  },
  {
   "cell_type": "code",
   "execution_count": 118,
   "metadata": {
    "ExecuteTime": {
     "end_time": "2018-12-29T15:56:39.829058Z",
     "start_time": "2018-12-29T15:56:39.812430Z"
    },
    "scrolled": true
   },
   "outputs": [
    {
     "data": {
      "text/plain": [
       "32"
      ]
     },
     "execution_count": 118,
     "metadata": {},
     "output_type": "execute_result"
    },
    {
     "data": {
      "text/plain": [
       "2017    32\n",
       "2016    32\n",
       "2015    32\n",
       "2014    32\n",
       "2013    32\n",
       "2012    32\n",
       "2011    32\n",
       "2010    32\n",
       "2009    32\n",
       "2008    32\n",
       "2007    32\n",
       "Name: season, dtype: int64"
      ]
     },
     "execution_count": 118,
     "metadata": {},
     "output_type": "execute_result"
    }
   ],
   "source": [
    "team_season_df['name'].value_counts().shape[0]\n",
    "team_season_df['season'].value_counts()"
   ]
  },
  {
   "cell_type": "code",
   "execution_count": 62,
   "metadata": {
    "ExecuteTime": {
     "end_time": "2018-12-29T15:54:29.550379Z",
     "start_time": "2018-12-29T15:54:29.472869Z"
    }
   },
   "outputs": [
    {
     "data": {
      "text/plain": [
       "352"
      ]
     },
     "execution_count": 62,
     "metadata": {},
     "output_type": "execute_result"
    },
    {
     "data": {
      "text/plain": [
       "352"
      ]
     },
     "execution_count": 62,
     "metadata": {},
     "output_type": "execute_result"
    }
   ],
   "source": [
    "team_season_df.shape[0]\n",
    "team_season_df.drop_duplicates(inplace=True)\n",
    "team_season_df.shape[0]"
   ]
  },
  {
   "cell_type": "code",
   "execution_count": 63,
   "metadata": {
    "ExecuteTime": {
     "end_time": "2018-12-29T15:54:30.153414Z",
     "start_time": "2018-12-29T15:54:29.554216Z"
    }
   },
   "outputs": [],
   "source": [
    "spark.createDataFrame(\n",
    "    cast_dtypes(team_season_df)\n",
    ").write.mode('overwrite').saveAsTable('team_season')"
   ]
  },
  {
   "cell_type": "code",
   "execution_count": 64,
   "metadata": {
    "ExecuteTime": {
     "end_time": "2018-12-29T15:54:30.166767Z",
     "start_time": "2018-12-29T15:54:30.159269Z"
    }
   },
   "outputs": [],
   "source": [
    "base_df_remaining = set(base_df.columns) \\\n",
    "                    - set(team_season_df.columns.tolist()) \\\n",
    "                    | set(['season','team0_link','team1_link'])"
   ]
  },
  {
   "cell_type": "markdown",
   "metadata": {},
   "source": [
    "#### __coach__\n",
    "* primary key is coach_id\n",
    "* joins with game"
   ]
  },
  {
   "cell_type": "code",
   "execution_count": 65,
   "metadata": {
    "ExecuteTime": {
     "end_time": "2018-12-29T15:54:30.217855Z",
     "start_time": "2018-12-29T15:54:30.172320Z"
    }
   },
   "outputs": [
    {
     "data": {
      "text/html": [
       "<div>\n",
       "<style scoped>\n",
       "    .dataframe tbody tr th:only-of-type {\n",
       "        vertical-align: middle;\n",
       "    }\n",
       "\n",
       "    .dataframe tbody tr th {\n",
       "        vertical-align: top;\n",
       "    }\n",
       "\n",
       "    .dataframe thead th {\n",
       "        text-align: right;\n",
       "    }\n",
       "</style>\n",
       "<table border=\"1\" class=\"dataframe\">\n",
       "  <thead>\n",
       "    <tr style=\"text-align: right;\">\n",
       "      <th></th>\n",
       "      <th>coach_raw</th>\n",
       "      <th>coach_name</th>\n",
       "      <th>coach_id</th>\n",
       "    </tr>\n",
       "  </thead>\n",
       "  <tbody>\n",
       "    <tr>\n",
       "      <th>0</th>\n",
       "      <td>&lt;a href=\"/coaches/DungTo0.htm\"&gt;Tony Dungy&lt;/a&gt;</td>\n",
       "      <td>Tony Dungy</td>\n",
       "      <td>/coaches/DungTo0.htm</td>\n",
       "    </tr>\n",
       "    <tr>\n",
       "      <th>1</th>\n",
       "      <td>&lt;a href=\"/coaches/KubiGa0.htm\"&gt;Gary Kubiak&lt;/a&gt;</td>\n",
       "      <td>Gary Kubiak</td>\n",
       "      <td>/coaches/KubiGa0.htm</td>\n",
       "    </tr>\n",
       "    <tr>\n",
       "      <th>2</th>\n",
       "      <td>&lt;a href=\"/coaches/HolmMi0.htm\"&gt;Mike Holmgren&lt;/a&gt;</td>\n",
       "      <td>Mike Holmgren</td>\n",
       "      <td>/coaches/HolmMi0.htm</td>\n",
       "    </tr>\n",
       "    <tr>\n",
       "      <th>3</th>\n",
       "      <td>&lt;a href=\"/coaches/NolaMi0.htm\"&gt;Mike Nolan&lt;/a&gt;</td>\n",
       "      <td>Mike Nolan</td>\n",
       "      <td>/coaches/NolaMi0.htm</td>\n",
       "    </tr>\n",
       "    <tr>\n",
       "      <th>4</th>\n",
       "      <td>&lt;a href=\"/coaches/FoxxJo0.htm\"&gt;John Fox&lt;/a&gt;</td>\n",
       "      <td>John Fox</td>\n",
       "      <td>/coaches/FoxxJo0.htm</td>\n",
       "    </tr>\n",
       "  </tbody>\n",
       "</table>\n",
       "</div>"
      ],
      "text/plain": [
       "                                          coach_raw     coach_name  \\\n",
       "0     <a href=\"/coaches/DungTo0.htm\">Tony Dungy</a>     Tony Dungy   \n",
       "1    <a href=\"/coaches/KubiGa0.htm\">Gary Kubiak</a>    Gary Kubiak   \n",
       "2  <a href=\"/coaches/HolmMi0.htm\">Mike Holmgren</a>  Mike Holmgren   \n",
       "3     <a href=\"/coaches/NolaMi0.htm\">Mike Nolan</a>     Mike Nolan   \n",
       "4       <a href=\"/coaches/FoxxJo0.htm\">John Fox</a>       John Fox   \n",
       "\n",
       "               coach_id  \n",
       "0  /coaches/DungTo0.htm  \n",
       "1  /coaches/KubiGa0.htm  \n",
       "2  /coaches/HolmMi0.htm  \n",
       "3  /coaches/NolaMi0.htm  \n",
       "4  /coaches/FoxxJo0.htm  "
      ]
     },
     "execution_count": 65,
     "metadata": {},
     "output_type": "execute_result"
    }
   ],
   "source": [
    "coach_fields = [\n",
    "    'team0_coach_raw','team0_coach_name','team0_coach_id',\n",
    "    'team1_coach_raw','team1_coach_name','team1_coach_id'\n",
    "]\n",
    "\n",
    "coach_df = combine_team0_team1(base_df.copy(), coach_fields, [])\n",
    "## assert coach ID is unique\n",
    "assert coach_df['coach_id'].value_counts().max() == 1\n",
    "coach_df.head()"
   ]
  },
  {
   "cell_type": "code",
   "execution_count": 66,
   "metadata": {
    "ExecuteTime": {
     "end_time": "2018-12-29T15:54:30.318242Z",
     "start_time": "2018-12-29T15:54:30.222573Z"
    }
   },
   "outputs": [
    {
     "data": {
      "text/plain": [
       "92"
      ]
     },
     "execution_count": 66,
     "metadata": {},
     "output_type": "execute_result"
    },
    {
     "data": {
      "text/plain": [
       "92"
      ]
     },
     "execution_count": 66,
     "metadata": {},
     "output_type": "execute_result"
    }
   ],
   "source": [
    "coach_df.shape[0]\n",
    "coach_df.drop_duplicates(inplace=True)\n",
    "coach_df.shape[0]"
   ]
  },
  {
   "cell_type": "code",
   "execution_count": 67,
   "metadata": {
    "ExecuteTime": {
     "end_time": "2018-12-29T15:54:30.720796Z",
     "start_time": "2018-12-29T15:54:30.324259Z"
    }
   },
   "outputs": [],
   "source": [
    "spark.createDataFrame(\n",
    "    cast_dtypes(coach_df)\n",
    ").write.mode('overwrite').saveAsTable('coach')"
   ]
  },
  {
   "cell_type": "code",
   "execution_count": 68,
   "metadata": {
    "ExecuteTime": {
     "end_time": "2018-12-29T15:54:30.731462Z",
     "start_time": "2018-12-29T15:54:30.726893Z"
    }
   },
   "outputs": [],
   "source": [
    "base_df_remaining = set(base_df_remaining) \\\n",
    "                    - set(coach_fields) \\\n",
    "                    | set(['team0_coach_id','team1_coach_id'])"
   ]
  },
  {
   "cell_type": "markdown",
   "metadata": {},
   "source": [
    "#### __team__\n",
    "* primary key is (team_id, season)"
   ]
  },
  {
   "cell_type": "code",
   "execution_count": 69,
   "metadata": {
    "ExecuteTime": {
     "end_time": "2018-12-29T15:54:30.786635Z",
     "start_time": "2018-12-29T15:54:30.736248Z"
    },
    "scrolled": true
   },
   "outputs": [
    {
     "data": {
      "text/html": [
       "<div>\n",
       "<style scoped>\n",
       "    .dataframe tbody tr th:only-of-type {\n",
       "        vertical-align: middle;\n",
       "    }\n",
       "\n",
       "    .dataframe tbody tr th {\n",
       "        vertical-align: top;\n",
       "    }\n",
       "\n",
       "    .dataframe thead th {\n",
       "        text-align: right;\n",
       "    }\n",
       "</style>\n",
       "<table border=\"1\" class=\"dataframe\">\n",
       "  <thead>\n",
       "    <tr style=\"text-align: right;\">\n",
       "      <th></th>\n",
       "      <th>season</th>\n",
       "      <th>city</th>\n",
       "      <th>division</th>\n",
       "      <th>fullname</th>\n",
       "      <th>link</th>\n",
       "      <th>name</th>\n",
       "      <th>team</th>\n",
       "    </tr>\n",
       "  </thead>\n",
       "  <tbody>\n",
       "    <tr>\n",
       "      <th>0</th>\n",
       "      <td>2007</td>\n",
       "      <td>Indianapolis</td>\n",
       "      <td>AFC South</td>\n",
       "      <td>Indianapolis Colts</td>\n",
       "      <td>/teams/clt/2007.htm</td>\n",
       "      <td>Colts</td>\n",
       "      <td>clt</td>\n",
       "    </tr>\n",
       "    <tr>\n",
       "      <th>1</th>\n",
       "      <td>2007</td>\n",
       "      <td>Houston</td>\n",
       "      <td>AFC South</td>\n",
       "      <td>Houston Texans</td>\n",
       "      <td>/teams/htx/2007.htm</td>\n",
       "      <td>Texans</td>\n",
       "      <td>htx</td>\n",
       "    </tr>\n",
       "    <tr>\n",
       "      <th>2</th>\n",
       "      <td>2007</td>\n",
       "      <td>Seattle</td>\n",
       "      <td>NFC West</td>\n",
       "      <td>Seattle Seahawks</td>\n",
       "      <td>/teams/sea/2007.htm</td>\n",
       "      <td>Seahawks</td>\n",
       "      <td>sea</td>\n",
       "    </tr>\n",
       "    <tr>\n",
       "      <th>3</th>\n",
       "      <td>2007</td>\n",
       "      <td>San Francisco</td>\n",
       "      <td>NFC West</td>\n",
       "      <td>San Francisco 49ers</td>\n",
       "      <td>/teams/sfo/2007.htm</td>\n",
       "      <td>49ers</td>\n",
       "      <td>sfo</td>\n",
       "    </tr>\n",
       "    <tr>\n",
       "      <th>4</th>\n",
       "      <td>2007</td>\n",
       "      <td>Carolina</td>\n",
       "      <td>NFC South</td>\n",
       "      <td>Carolina Panthers</td>\n",
       "      <td>/teams/car/2007.htm</td>\n",
       "      <td>Panthers</td>\n",
       "      <td>car</td>\n",
       "    </tr>\n",
       "  </tbody>\n",
       "</table>\n",
       "</div>"
      ],
      "text/plain": [
       "   season           city   division             fullname                 link  \\\n",
       "0    2007   Indianapolis  AFC South   Indianapolis Colts  /teams/clt/2007.htm   \n",
       "1    2007        Houston  AFC South       Houston Texans  /teams/htx/2007.htm   \n",
       "2    2007        Seattle   NFC West     Seattle Seahawks  /teams/sea/2007.htm   \n",
       "3    2007  San Francisco   NFC West  San Francisco 49ers  /teams/sfo/2007.htm   \n",
       "4    2007       Carolina  NFC South    Carolina Panthers  /teams/car/2007.htm   \n",
       "\n",
       "       name team  \n",
       "0     Colts  clt  \n",
       "1    Texans  htx  \n",
       "2  Seahawks  sea  \n",
       "3     49ers  sfo  \n",
       "4  Panthers  car  "
      ]
     },
     "execution_count": 69,
     "metadata": {},
     "output_type": "execute_result"
    }
   ],
   "source": [
    "key = ['team','season']\n",
    "team_fields = ['team0_city','team0_division','team0_fullname',\n",
    "               'team0_link','team0_name','team0',\n",
    "               'team1_city','team1_division','team1_fullname',\n",
    "               'team1_link','team1_name','team1']\n",
    "\n",
    "team_df = combine_team0_team1(base_df.copy(), team_fields, ['season'])\n",
    "# ## assert coach ID is unique\n",
    "assert team_df.groupby(key).size().max() == 1\n",
    "team_df.head()"
   ]
  },
  {
   "cell_type": "code",
   "execution_count": 70,
   "metadata": {
    "ExecuteTime": {
     "end_time": "2018-12-29T15:54:30.866499Z",
     "start_time": "2018-12-29T15:54:30.792090Z"
    }
   },
   "outputs": [
    {
     "data": {
      "text/plain": [
       "352"
      ]
     },
     "execution_count": 70,
     "metadata": {},
     "output_type": "execute_result"
    },
    {
     "data": {
      "text/plain": [
       "352"
      ]
     },
     "execution_count": 70,
     "metadata": {},
     "output_type": "execute_result"
    }
   ],
   "source": [
    "team_df.shape[0]\n",
    "team_df.drop_duplicates(inplace=True)\n",
    "team_df.shape[0]"
   ]
  },
  {
   "cell_type": "code",
   "execution_count": 71,
   "metadata": {
    "ExecuteTime": {
     "end_time": "2018-12-29T15:54:31.334932Z",
     "start_time": "2018-12-29T15:54:30.872522Z"
    }
   },
   "outputs": [],
   "source": [
    "spark.createDataFrame(\n",
    "    cast_dtypes(team_df)\n",
    ").write.mode('overwrite').saveAsTable('team')"
   ]
  },
  {
   "cell_type": "code",
   "execution_count": 72,
   "metadata": {
    "ExecuteTime": {
     "end_time": "2018-12-29T15:54:31.348141Z",
     "start_time": "2018-12-29T15:54:31.341210Z"
    }
   },
   "outputs": [],
   "source": [
    "base_df_remaining = set(base_df_remaining) \\\n",
    "                    - set(team_fields) \\\n",
    "                    | set(['team0','team1','season'])"
   ]
  },
  {
   "cell_type": "markdown",
   "metadata": {
    "ExecuteTime": {
     "end_time": "2018-11-19T03:58:10.166924Z",
     "start_time": "2018-11-19T03:58:10.157897Z"
    }
   },
   "source": [
    "#### __stadium__\n",
    "* primary key is stadium name\n",
    "* joins with game"
   ]
  },
  {
   "cell_type": "code",
   "execution_count": 73,
   "metadata": {
    "ExecuteTime": {
     "end_time": "2018-12-29T15:54:31.403385Z",
     "start_time": "2018-12-29T15:54:31.354315Z"
    }
   },
   "outputs": [
    {
     "data": {
      "text/html": [
       "<div>\n",
       "<style scoped>\n",
       "    .dataframe tbody tr th:only-of-type {\n",
       "        vertical-align: middle;\n",
       "    }\n",
       "\n",
       "    .dataframe tbody tr th {\n",
       "        vertical-align: top;\n",
       "    }\n",
       "\n",
       "    .dataframe thead th {\n",
       "        text-align: right;\n",
       "    }\n",
       "</style>\n",
       "<table border=\"1\" class=\"dataframe\">\n",
       "  <thead>\n",
       "    <tr style=\"text-align: right;\">\n",
       "      <th></th>\n",
       "      <th>stadium</th>\n",
       "      <th>stadium_link</th>\n",
       "      <th>lat</th>\n",
       "      <th>long</th>\n",
       "      <th>timezone</th>\n",
       "      <th>stadium_home_team</th>\n",
       "    </tr>\n",
       "  </thead>\n",
       "  <tbody>\n",
       "    <tr>\n",
       "      <th>0</th>\n",
       "      <td>RCA Dome</td>\n",
       "      <td>/stadiums/IND99.htm</td>\n",
       "      <td>39.76361</td>\n",
       "      <td>-86.16333</td>\n",
       "      <td>-5.0</td>\n",
       "      <td>['clt']</td>\n",
       "    </tr>\n",
       "    <tr>\n",
       "      <th>1</th>\n",
       "      <td>Reliant Stadium</td>\n",
       "      <td>/stadiums/HOU00.htm</td>\n",
       "      <td>29.68472</td>\n",
       "      <td>-95.41083</td>\n",
       "      <td>-6.0</td>\n",
       "      <td>['htx']</td>\n",
       "    </tr>\n",
       "    <tr>\n",
       "      <th>2</th>\n",
       "      <td>Qwest Field</td>\n",
       "      <td>/stadiums/SEA00.htm</td>\n",
       "      <td>47.59520</td>\n",
       "      <td>-122.33160</td>\n",
       "      <td>-8.0</td>\n",
       "      <td>['sea']</td>\n",
       "    </tr>\n",
       "    <tr>\n",
       "      <th>3</th>\n",
       "      <td>Monster Park</td>\n",
       "      <td>/stadiums/SFO00.htm</td>\n",
       "      <td>37.71361</td>\n",
       "      <td>-122.38611</td>\n",
       "      <td>-8.0</td>\n",
       "      <td>['sfo']</td>\n",
       "    </tr>\n",
       "    <tr>\n",
       "      <th>4</th>\n",
       "      <td>Bank of America Stadium</td>\n",
       "      <td>/stadiums/CAR00.htm</td>\n",
       "      <td>35.22583</td>\n",
       "      <td>-80.85278</td>\n",
       "      <td>-5.0</td>\n",
       "      <td>['car']</td>\n",
       "    </tr>\n",
       "  </tbody>\n",
       "</table>\n",
       "</div>"
      ],
      "text/plain": [
       "                   stadium         stadium_link       lat       long timezone  \\\n",
       "0                 RCA Dome  /stadiums/IND99.htm  39.76361  -86.16333     -5.0   \n",
       "1          Reliant Stadium  /stadiums/HOU00.htm  29.68472  -95.41083     -6.0   \n",
       "2              Qwest Field  /stadiums/SEA00.htm  47.59520 -122.33160     -8.0   \n",
       "3             Monster Park  /stadiums/SFO00.htm  37.71361 -122.38611     -8.0   \n",
       "4  Bank of America Stadium  /stadiums/CAR00.htm  35.22583  -80.85278     -5.0   \n",
       "\n",
       "  stadium_home_team  \n",
       "0           ['clt']  \n",
       "1           ['htx']  \n",
       "2           ['sea']  \n",
       "3           ['sfo']  \n",
       "4           ['car']  "
      ]
     },
     "execution_count": 73,
     "metadata": {},
     "output_type": "execute_result"
    }
   ],
   "source": [
    "## roof and surface are game metadata since it can change\n",
    "## within a season\n",
    "key = ['stadium']\n",
    "stadium_fields = [\n",
    "    'stadium_link','lat','long',\n",
    "    'timezone','stadium_home_team'\n",
    "]\n",
    "\n",
    "stadium_df = base_df[key + stadium_fields].drop_duplicates()\n",
    "## assert stadium name is unique\n",
    "assert stadium_df.groupby(key).size().max() == 1\n",
    "stadium_df.head()"
   ]
  },
  {
   "cell_type": "code",
   "execution_count": 74,
   "metadata": {
    "ExecuteTime": {
     "end_time": "2018-12-29T15:54:31.495094Z",
     "start_time": "2018-12-29T15:54:31.408969Z"
    }
   },
   "outputs": [
    {
     "data": {
      "text/plain": [
       "61"
      ]
     },
     "execution_count": 74,
     "metadata": {},
     "output_type": "execute_result"
    },
    {
     "data": {
      "text/plain": [
       "61"
      ]
     },
     "execution_count": 74,
     "metadata": {},
     "output_type": "execute_result"
    }
   ],
   "source": [
    "stadium_df.shape[0]\n",
    "stadium_df.drop_duplicates(inplace=True)\n",
    "stadium_df.shape[0]"
   ]
  },
  {
   "cell_type": "code",
   "execution_count": 75,
   "metadata": {
    "ExecuteTime": {
     "end_time": "2018-12-29T15:54:31.898230Z",
     "start_time": "2018-12-29T15:54:31.501102Z"
    }
   },
   "outputs": [],
   "source": [
    "spark.createDataFrame(\n",
    "    cast_dtypes(stadium_df)\n",
    ").write.mode('overwrite').saveAsTable('stadium')"
   ]
  },
  {
   "cell_type": "code",
   "execution_count": 76,
   "metadata": {
    "ExecuteTime": {
     "end_time": "2018-12-29T15:54:31.911511Z",
     "start_time": "2018-12-29T15:54:31.903777Z"
    }
   },
   "outputs": [],
   "source": [
    "base_df_remaining = set(base_df_remaining) \\\n",
    "                    - set(stadium_fields) \\\n",
    "                    | set(key)"
   ]
  },
  {
   "cell_type": "markdown",
   "metadata": {},
   "source": [
    "#### change all team0 --> H, team1 --> V\n",
    "* this is accurate\n",
    "* can't move this code above as is, because previous parts depend on team0/team1 convention"
   ]
  },
  {
   "cell_type": "code",
   "execution_count": 77,
   "metadata": {
    "ExecuteTime": {
     "end_time": "2018-12-29T15:54:31.937156Z",
     "start_time": "2018-12-29T15:54:31.917873Z"
    }
   },
   "outputs": [],
   "source": [
    "## rename team0 and team1 to H and V\n",
    "team_fields = filter(\n",
    "    lambda x: x.startswith('team0_') or x.startswith('team1_'), \n",
    "    base_df.columns\n",
    ")\n",
    "\n",
    "team_field_rename = dict(\n",
    "    map(\n",
    "        lambda x: (x, x.replace('team0_','H_').replace('team1_','V_')), \n",
    "        team_fields\n",
    "    )\n",
    ")\n",
    "\n",
    "team_field_rename['team0'] = 'H_team'\n",
    "team_field_rename['team1'] = 'V_team'\n",
    "\n",
    "base_df.rename(columns=team_field_rename, inplace=True)"
   ]
  },
  {
   "cell_type": "code",
   "execution_count": 78,
   "metadata": {
    "ExecuteTime": {
     "end_time": "2018-12-29T15:54:31.948940Z",
     "start_time": "2018-12-29T15:54:31.943616Z"
    }
   },
   "outputs": [],
   "source": [
    "## make same changes in list of remaining cols\n",
    "base_df_remaining = map(\n",
    "    lambda x: team_field_rename.get(x, x), base_df_remaining\n",
    ")"
   ]
  },
  {
   "cell_type": "code",
   "execution_count": 79,
   "metadata": {
    "ExecuteTime": {
     "end_time": "2018-12-29T15:54:32.032973Z",
     "start_time": "2018-12-29T15:54:31.955031Z"
    },
    "scrolled": true
   },
   "outputs": [
    {
     "data": {
      "text/html": [
       "<div>\n",
       "<style scoped>\n",
       "    .dataframe tbody tr th:only-of-type {\n",
       "        vertical-align: middle;\n",
       "    }\n",
       "\n",
       "    .dataframe tbody tr th {\n",
       "        vertical-align: top;\n",
       "    }\n",
       "\n",
       "    .dataframe thead th {\n",
       "        text-align: right;\n",
       "    }\n",
       "</style>\n",
       "<table border=\"1\" class=\"dataframe\">\n",
       "  <thead>\n",
       "    <tr style=\"text-align: right;\">\n",
       "      <th></th>\n",
       "      <th>0</th>\n",
       "      <th>1</th>\n",
       "      <th>2</th>\n",
       "      <th>3</th>\n",
       "      <th>4</th>\n",
       "    </tr>\n",
       "  </thead>\n",
       "  <tbody>\n",
       "    <tr>\n",
       "      <th>2H_Fav</th>\n",
       "      <td>H</td>\n",
       "      <td>H</td>\n",
       "      <td>H</td>\n",
       "      <td>H</td>\n",
       "      <td>V</td>\n",
       "    </tr>\n",
       "    <tr>\n",
       "      <th>2H_OU</th>\n",
       "      <td>24.5</td>\n",
       "      <td>pk</td>\n",
       "      <td>23</td>\n",
       "      <td>17.5</td>\n",
       "      <td>20</td>\n",
       "    </tr>\n",
       "    <tr>\n",
       "      <th>2H_Spread</th>\n",
       "      <td>3.5</td>\n",
       "      <td>24.5</td>\n",
       "      <td>6.5</td>\n",
       "      <td>1</td>\n",
       "      <td>3</td>\n",
       "    </tr>\n",
       "    <tr>\n",
       "      <th>Close_Fav</th>\n",
       "      <td>H</td>\n",
       "      <td>H</td>\n",
       "      <td>H</td>\n",
       "      <td>V</td>\n",
       "      <td>V</td>\n",
       "    </tr>\n",
       "    <tr>\n",
       "      <th>Close_OU</th>\n",
       "      <td>52.5</td>\n",
       "      <td>49.5</td>\n",
       "      <td>43</td>\n",
       "      <td>39.5</td>\n",
       "      <td>42</td>\n",
       "    </tr>\n",
       "    <tr>\n",
       "      <th>Close_Spread</th>\n",
       "      <td>5.5</td>\n",
       "      <td>2</td>\n",
       "      <td>5.5</td>\n",
       "      <td>2</td>\n",
       "      <td>3</td>\n",
       "    </tr>\n",
       "    <tr>\n",
       "      <th>H_Final</th>\n",
       "      <td>41</td>\n",
       "      <td>23</td>\n",
       "      <td>17</td>\n",
       "      <td>10</td>\n",
       "      <td>6</td>\n",
       "    </tr>\n",
       "    <tr>\n",
       "      <th>H_ML</th>\n",
       "      <td>-240</td>\n",
       "      <td>-130</td>\n",
       "      <td>-250</td>\n",
       "      <td>115</td>\n",
       "      <td>155</td>\n",
       "    </tr>\n",
       "    <tr>\n",
       "      <th>H_Q1</th>\n",
       "      <td>7</td>\n",
       "      <td>7</td>\n",
       "      <td>0</td>\n",
       "      <td>0</td>\n",
       "      <td>3</td>\n",
       "    </tr>\n",
       "    <tr>\n",
       "      <th>H_Q2</th>\n",
       "      <td>3</td>\n",
       "      <td>10</td>\n",
       "      <td>10</td>\n",
       "      <td>0</td>\n",
       "      <td>3</td>\n",
       "    </tr>\n",
       "    <tr>\n",
       "      <th>H_Q3</th>\n",
       "      <td>14</td>\n",
       "      <td>0</td>\n",
       "      <td>0</td>\n",
       "      <td>3</td>\n",
       "      <td>0</td>\n",
       "    </tr>\n",
       "    <tr>\n",
       "      <th>H_Q4</th>\n",
       "      <td>17</td>\n",
       "      <td>6</td>\n",
       "      <td>7</td>\n",
       "      <td>7</td>\n",
       "      <td>0</td>\n",
       "    </tr>\n",
       "    <tr>\n",
       "      <th>H_coach_id</th>\n",
       "      <td>/coaches/DungTo0.htm</td>\n",
       "      <td>/coaches/KubiGa0.htm</td>\n",
       "      <td>/coaches/HolmMi0.htm</td>\n",
       "      <td>/coaches/NolaMi0.htm</td>\n",
       "      <td>/coaches/FoxxJo0.htm</td>\n",
       "    </tr>\n",
       "    <tr>\n",
       "      <th>H_score</th>\n",
       "      <td>41</td>\n",
       "      <td>23</td>\n",
       "      <td>17</td>\n",
       "      <td>10</td>\n",
       "      <td>6</td>\n",
       "    </tr>\n",
       "    <tr>\n",
       "      <th>H_team</th>\n",
       "      <td>clt</td>\n",
       "      <td>htx</td>\n",
       "      <td>sea</td>\n",
       "      <td>sfo</td>\n",
       "      <td>car</td>\n",
       "    </tr>\n",
       "    <tr>\n",
       "      <th>ML_Fav</th>\n",
       "      <td>H</td>\n",
       "      <td>H</td>\n",
       "      <td>H</td>\n",
       "      <td>V</td>\n",
       "      <td>V</td>\n",
       "    </tr>\n",
       "    <tr>\n",
       "      <th>Open_Fav</th>\n",
       "      <td>H</td>\n",
       "      <td>V</td>\n",
       "      <td>H</td>\n",
       "      <td>V</td>\n",
       "      <td>H</td>\n",
       "    </tr>\n",
       "    <tr>\n",
       "      <th>Open_OU</th>\n",
       "      <td>50.5</td>\n",
       "      <td>47</td>\n",
       "      <td>41.5</td>\n",
       "      <td>41</td>\n",
       "      <td>41.5</td>\n",
       "    </tr>\n",
       "    <tr>\n",
       "      <th>Open_Spread</th>\n",
       "      <td>5.5</td>\n",
       "      <td>3</td>\n",
       "      <td>7</td>\n",
       "      <td>2.5</td>\n",
       "      <td>0</td>\n",
       "    </tr>\n",
       "    <tr>\n",
       "      <th>V_Final</th>\n",
       "      <td>10</td>\n",
       "      <td>10</td>\n",
       "      <td>28</td>\n",
       "      <td>31</td>\n",
       "      <td>31</td>\n",
       "    </tr>\n",
       "    <tr>\n",
       "      <th>V_ML</th>\n",
       "      <td>200</td>\n",
       "      <td>110</td>\n",
       "      <td>210</td>\n",
       "      <td>-135</td>\n",
       "      <td>-175</td>\n",
       "    </tr>\n",
       "    <tr>\n",
       "      <th>V_Q1</th>\n",
       "      <td>0</td>\n",
       "      <td>3</td>\n",
       "      <td>7</td>\n",
       "      <td>10</td>\n",
       "      <td>0</td>\n",
       "    </tr>\n",
       "    <tr>\n",
       "      <th>V_Q2</th>\n",
       "      <td>10</td>\n",
       "      <td>7</td>\n",
       "      <td>21</td>\n",
       "      <td>14</td>\n",
       "      <td>10</td>\n",
       "    </tr>\n",
       "    <tr>\n",
       "      <th>V_Q3</th>\n",
       "      <td>0</td>\n",
       "      <td>0</td>\n",
       "      <td>0</td>\n",
       "      <td>0</td>\n",
       "      <td>21</td>\n",
       "    </tr>\n",
       "    <tr>\n",
       "      <th>V_Q4</th>\n",
       "      <td>0</td>\n",
       "      <td>0</td>\n",
       "      <td>0</td>\n",
       "      <td>7</td>\n",
       "      <td>0</td>\n",
       "    </tr>\n",
       "    <tr>\n",
       "      <th>V_coach_id</th>\n",
       "      <td>/coaches/PaytSe0.htm</td>\n",
       "      <td>/coaches/PaytSe0.htm</td>\n",
       "      <td>/coaches/PaytSe0.htm</td>\n",
       "      <td>/coaches/PaytSe0.htm</td>\n",
       "      <td>/coaches/PaytSe0.htm</td>\n",
       "    </tr>\n",
       "    <tr>\n",
       "      <th>V_score</th>\n",
       "      <td>10</td>\n",
       "      <td>10</td>\n",
       "      <td>28</td>\n",
       "      <td>31</td>\n",
       "      <td>31</td>\n",
       "    </tr>\n",
       "    <tr>\n",
       "      <th>V_team</th>\n",
       "      <td>nor</td>\n",
       "      <td>nor</td>\n",
       "      <td>nor</td>\n",
       "      <td>nor</td>\n",
       "      <td>nor</td>\n",
       "    </tr>\n",
       "    <tr>\n",
       "      <th>attendance</th>\n",
       "      <td>57361</td>\n",
       "      <td>70780</td>\n",
       "      <td>68296</td>\n",
       "      <td>68244</td>\n",
       "      <td>72032</td>\n",
       "    </tr>\n",
       "    <tr>\n",
       "      <th>date</th>\n",
       "      <td>2007-09-06</td>\n",
       "      <td>2007-11-18</td>\n",
       "      <td>2007-10-14</td>\n",
       "      <td>2007-10-28</td>\n",
       "      <td>2007-11-25</td>\n",
       "    </tr>\n",
       "    <tr>\n",
       "      <th>day_of_week</th>\n",
       "      <td>3</td>\n",
       "      <td>6</td>\n",
       "      <td>6</td>\n",
       "      <td>6</td>\n",
       "      <td>6</td>\n",
       "    </tr>\n",
       "    <tr>\n",
       "      <th>duration</th>\n",
       "      <td>2:56</td>\n",
       "      <td>3:05</td>\n",
       "      <td>3:04</td>\n",
       "      <td>3:14</td>\n",
       "      <td>3:08</td>\n",
       "    </tr>\n",
       "    <tr>\n",
       "      <th>game_id</th>\n",
       "      <td>200709060clt</td>\n",
       "      <td>200711180htx</td>\n",
       "      <td>200710140sea</td>\n",
       "      <td>200710280sfo</td>\n",
       "      <td>200711250car</td>\n",
       "    </tr>\n",
       "    <tr>\n",
       "      <th>home_team</th>\n",
       "      <td>clt</td>\n",
       "      <td>htx</td>\n",
       "      <td>sea</td>\n",
       "      <td>sfo</td>\n",
       "      <td>car</td>\n",
       "    </tr>\n",
       "    <tr>\n",
       "      <th>pfr_line</th>\n",
       "      <td>Indianapolis Colts -5.5</td>\n",
       "      <td>Houston Texans -1.0</td>\n",
       "      <td>Seattle Seahawks -6.5</td>\n",
       "      <td>New Orleans Saints -1.5</td>\n",
       "      <td>New Orleans Saints -3.0</td>\n",
       "    </tr>\n",
       "    <tr>\n",
       "      <th>pfr_ou</th>\n",
       "      <td>53.5 (under)</td>\n",
       "      <td>50.5 (under)</td>\n",
       "      <td>43.0 (over)</td>\n",
       "      <td>40.0 (over)</td>\n",
       "      <td>42.0 (under)</td>\n",
       "    </tr>\n",
       "    <tr>\n",
       "      <th>prf_weather</th>\n",
       "      <td>nan</td>\n",
       "      <td>nan</td>\n",
       "      <td>68 degrees relative humidity 47%, wind 4 mph, ...</td>\n",
       "      <td>63 degrees relative humidity 70%, wind 6 mph, ...</td>\n",
       "      <td>46 degrees relative humidity 41%, wind 5 mph, ...</td>\n",
       "    </tr>\n",
       "    <tr>\n",
       "      <th>roof</th>\n",
       "      <td>dome</td>\n",
       "      <td>retractable roof (closed)</td>\n",
       "      <td>outdoors</td>\n",
       "      <td>outdoors</td>\n",
       "      <td>outdoors</td>\n",
       "    </tr>\n",
       "    <tr>\n",
       "      <th>season</th>\n",
       "      <td>2007</td>\n",
       "      <td>2007</td>\n",
       "      <td>2007</td>\n",
       "      <td>2007</td>\n",
       "      <td>2007</td>\n",
       "    </tr>\n",
       "    <tr>\n",
       "      <th>stadium</th>\n",
       "      <td>RCA Dome</td>\n",
       "      <td>Reliant Stadium</td>\n",
       "      <td>Qwest Field</td>\n",
       "      <td>Monster Park</td>\n",
       "      <td>Bank of America Stadium</td>\n",
       "    </tr>\n",
       "    <tr>\n",
       "      <th>surface</th>\n",
       "      <td>fieldturf</td>\n",
       "      <td>grass</td>\n",
       "      <td>fieldturf</td>\n",
       "      <td>grass</td>\n",
       "      <td>grass</td>\n",
       "    </tr>\n",
       "    <tr>\n",
       "      <th>time</th>\n",
       "      <td>8:39pm</td>\n",
       "      <td>1:02pm</td>\n",
       "      <td>8:23pm</td>\n",
       "      <td>4:17pm</td>\n",
       "      <td>1:03pm</td>\n",
       "    </tr>\n",
       "    <tr>\n",
       "      <th>week_id</th>\n",
       "      <td>0</td>\n",
       "      <td>10</td>\n",
       "      <td>5</td>\n",
       "      <td>7</td>\n",
       "      <td>11</td>\n",
       "    </tr>\n",
       "  </tbody>\n",
       "</table>\n",
       "</div>"
      ],
      "text/plain": [
       "                                    0                          1  \\\n",
       "2H_Fav                              H                          H   \n",
       "2H_OU                            24.5                         pk   \n",
       "2H_Spread                         3.5                       24.5   \n",
       "Close_Fav                           H                          H   \n",
       "Close_OU                         52.5                       49.5   \n",
       "Close_Spread                      5.5                          2   \n",
       "H_Final                            41                         23   \n",
       "H_ML                             -240                       -130   \n",
       "H_Q1                                7                          7   \n",
       "H_Q2                                3                         10   \n",
       "H_Q3                               14                          0   \n",
       "H_Q4                               17                          6   \n",
       "H_coach_id       /coaches/DungTo0.htm       /coaches/KubiGa0.htm   \n",
       "H_score                            41                         23   \n",
       "H_team                            clt                        htx   \n",
       "ML_Fav                              H                          H   \n",
       "Open_Fav                            H                          V   \n",
       "Open_OU                          50.5                         47   \n",
       "Open_Spread                       5.5                          3   \n",
       "V_Final                            10                         10   \n",
       "V_ML                              200                        110   \n",
       "V_Q1                                0                          3   \n",
       "V_Q2                               10                          7   \n",
       "V_Q3                                0                          0   \n",
       "V_Q4                                0                          0   \n",
       "V_coach_id       /coaches/PaytSe0.htm       /coaches/PaytSe0.htm   \n",
       "V_score                            10                         10   \n",
       "V_team                            nor                        nor   \n",
       "attendance                      57361                      70780   \n",
       "date                       2007-09-06                 2007-11-18   \n",
       "day_of_week                         3                          6   \n",
       "duration                         2:56                       3:05   \n",
       "game_id                  200709060clt               200711180htx   \n",
       "home_team                         clt                        htx   \n",
       "pfr_line      Indianapolis Colts -5.5        Houston Texans -1.0   \n",
       "pfr_ou                   53.5 (under)               50.5 (under)   \n",
       "prf_weather                       nan                        nan   \n",
       "roof                             dome  retractable roof (closed)   \n",
       "season                           2007                       2007   \n",
       "stadium                      RCA Dome            Reliant Stadium   \n",
       "surface                     fieldturf                      grass   \n",
       "time                           8:39pm                     1:02pm   \n",
       "week_id                             0                         10   \n",
       "\n",
       "                                                              2  \\\n",
       "2H_Fav                                                        H   \n",
       "2H_OU                                                        23   \n",
       "2H_Spread                                                   6.5   \n",
       "Close_Fav                                                     H   \n",
       "Close_OU                                                     43   \n",
       "Close_Spread                                                5.5   \n",
       "H_Final                                                      17   \n",
       "H_ML                                                       -250   \n",
       "H_Q1                                                          0   \n",
       "H_Q2                                                         10   \n",
       "H_Q3                                                          0   \n",
       "H_Q4                                                          7   \n",
       "H_coach_id                                 /coaches/HolmMi0.htm   \n",
       "H_score                                                      17   \n",
       "H_team                                                      sea   \n",
       "ML_Fav                                                        H   \n",
       "Open_Fav                                                      H   \n",
       "Open_OU                                                    41.5   \n",
       "Open_Spread                                                   7   \n",
       "V_Final                                                      28   \n",
       "V_ML                                                        210   \n",
       "V_Q1                                                          7   \n",
       "V_Q2                                                         21   \n",
       "V_Q3                                                          0   \n",
       "V_Q4                                                          0   \n",
       "V_coach_id                                 /coaches/PaytSe0.htm   \n",
       "V_score                                                      28   \n",
       "V_team                                                      nor   \n",
       "attendance                                                68296   \n",
       "date                                                 2007-10-14   \n",
       "day_of_week                                                   6   \n",
       "duration                                                   3:04   \n",
       "game_id                                            200710140sea   \n",
       "home_team                                                   sea   \n",
       "pfr_line                                  Seattle Seahawks -6.5   \n",
       "pfr_ou                                              43.0 (over)   \n",
       "prf_weather   68 degrees relative humidity 47%, wind 4 mph, ...   \n",
       "roof                                                   outdoors   \n",
       "season                                                     2007   \n",
       "stadium                                             Qwest Field   \n",
       "surface                                               fieldturf   \n",
       "time                                                     8:23pm   \n",
       "week_id                                                       5   \n",
       "\n",
       "                                                              3  \\\n",
       "2H_Fav                                                        H   \n",
       "2H_OU                                                      17.5   \n",
       "2H_Spread                                                     1   \n",
       "Close_Fav                                                     V   \n",
       "Close_OU                                                   39.5   \n",
       "Close_Spread                                                  2   \n",
       "H_Final                                                      10   \n",
       "H_ML                                                        115   \n",
       "H_Q1                                                          0   \n",
       "H_Q2                                                          0   \n",
       "H_Q3                                                          3   \n",
       "H_Q4                                                          7   \n",
       "H_coach_id                                 /coaches/NolaMi0.htm   \n",
       "H_score                                                      10   \n",
       "H_team                                                      sfo   \n",
       "ML_Fav                                                        V   \n",
       "Open_Fav                                                      V   \n",
       "Open_OU                                                      41   \n",
       "Open_Spread                                                 2.5   \n",
       "V_Final                                                      31   \n",
       "V_ML                                                       -135   \n",
       "V_Q1                                                         10   \n",
       "V_Q2                                                         14   \n",
       "V_Q3                                                          0   \n",
       "V_Q4                                                          7   \n",
       "V_coach_id                                 /coaches/PaytSe0.htm   \n",
       "V_score                                                      31   \n",
       "V_team                                                      nor   \n",
       "attendance                                                68244   \n",
       "date                                                 2007-10-28   \n",
       "day_of_week                                                   6   \n",
       "duration                                                   3:14   \n",
       "game_id                                            200710280sfo   \n",
       "home_team                                                   sfo   \n",
       "pfr_line                                New Orleans Saints -1.5   \n",
       "pfr_ou                                              40.0 (over)   \n",
       "prf_weather   63 degrees relative humidity 70%, wind 6 mph, ...   \n",
       "roof                                                   outdoors   \n",
       "season                                                     2007   \n",
       "stadium                                            Monster Park   \n",
       "surface                                                   grass   \n",
       "time                                                     4:17pm   \n",
       "week_id                                                       7   \n",
       "\n",
       "                                                              4  \n",
       "2H_Fav                                                        V  \n",
       "2H_OU                                                        20  \n",
       "2H_Spread                                                     3  \n",
       "Close_Fav                                                     V  \n",
       "Close_OU                                                     42  \n",
       "Close_Spread                                                  3  \n",
       "H_Final                                                       6  \n",
       "H_ML                                                        155  \n",
       "H_Q1                                                          3  \n",
       "H_Q2                                                          3  \n",
       "H_Q3                                                          0  \n",
       "H_Q4                                                          0  \n",
       "H_coach_id                                 /coaches/FoxxJo0.htm  \n",
       "H_score                                                       6  \n",
       "H_team                                                      car  \n",
       "ML_Fav                                                        V  \n",
       "Open_Fav                                                      H  \n",
       "Open_OU                                                    41.5  \n",
       "Open_Spread                                                   0  \n",
       "V_Final                                                      31  \n",
       "V_ML                                                       -175  \n",
       "V_Q1                                                          0  \n",
       "V_Q2                                                         10  \n",
       "V_Q3                                                         21  \n",
       "V_Q4                                                          0  \n",
       "V_coach_id                                 /coaches/PaytSe0.htm  \n",
       "V_score                                                      31  \n",
       "V_team                                                      nor  \n",
       "attendance                                                72032  \n",
       "date                                                 2007-11-25  \n",
       "day_of_week                                                   6  \n",
       "duration                                                   3:08  \n",
       "game_id                                            200711250car  \n",
       "home_team                                                   car  \n",
       "pfr_line                                New Orleans Saints -3.0  \n",
       "pfr_ou                                             42.0 (under)  \n",
       "prf_weather   46 degrees relative humidity 41%, wind 5 mph, ...  \n",
       "roof                                                   outdoors  \n",
       "season                                                     2007  \n",
       "stadium                                 Bank of America Stadium  \n",
       "surface                                                   grass  \n",
       "time                                                     1:03pm  \n",
       "week_id                                                      11  "
      ]
     },
     "execution_count": 79,
     "metadata": {},
     "output_type": "execute_result"
    }
   ],
   "source": [
    "base_df[sorted(list(base_df_remaining))].head().T"
   ]
  },
  {
   "cell_type": "markdown",
   "metadata": {
    "ExecuteTime": {
     "end_time": "2018-12-29T07:24:01.447853Z",
     "start_time": "2018-12-29T07:24:01.443026Z"
    }
   },
   "source": [
    "#### __game_line__: TODO reorder cols"
   ]
  },
  {
   "cell_type": "code",
   "execution_count": 80,
   "metadata": {
    "ExecuteTime": {
     "end_time": "2018-12-29T15:54:32.055371Z",
     "start_time": "2018-12-29T15:54:32.038237Z"
    }
   },
   "outputs": [],
   "source": [
    "key = ['game_id']\n",
    "line_fields = key + [\n",
    "    '2H_Fav','2H_OU','2H_Spread','Close_Fav','Close_OU',\n",
    "    'Close_Spread','H_ML','ML_Fav','Open_Fav','Open_OU',\n",
    "    'Open_Spread','V_ML','pfr_line','pfr_ou']\n",
    "\n",
    "lines = base_df[line_fields]\n",
    "assert lines.groupby(key).size().max() == 1"
   ]
  },
  {
   "cell_type": "code",
   "execution_count": 81,
   "metadata": {
    "ExecuteTime": {
     "end_time": "2018-12-29T15:54:32.159935Z",
     "start_time": "2018-12-29T15:54:32.061418Z"
    }
   },
   "outputs": [
    {
     "data": {
      "text/plain": [
       "2937"
      ]
     },
     "execution_count": 81,
     "metadata": {},
     "output_type": "execute_result"
    },
    {
     "name": "stderr",
     "output_type": "stream",
     "text": [
      "/Users/joshplotkin/anaconda2/lib/python2.7/site-packages/ipykernel_launcher.py:2: SettingWithCopyWarning: \n",
      "A value is trying to be set on a copy of a slice from a DataFrame\n",
      "\n",
      "See the caveats in the documentation: http://pandas.pydata.org/pandas-docs/stable/indexing.html#indexing-view-versus-copy\n",
      "  \n"
     ]
    },
    {
     "data": {
      "text/plain": [
       "2937"
      ]
     },
     "execution_count": 81,
     "metadata": {},
     "output_type": "execute_result"
    }
   ],
   "source": [
    "lines.shape[0]\n",
    "lines.drop_duplicates(inplace=True)\n",
    "lines.shape[0]"
   ]
  },
  {
   "cell_type": "code",
   "execution_count": 82,
   "metadata": {
    "ExecuteTime": {
     "end_time": "2018-12-29T15:54:34.047507Z",
     "start_time": "2018-12-29T15:54:32.166151Z"
    }
   },
   "outputs": [
    {
     "name": "stderr",
     "output_type": "stream",
     "text": [
      "/Users/joshplotkin/anaconda2/lib/python2.7/site-packages/ipykernel_launcher.py:13: SettingWithCopyWarning: \n",
      "A value is trying to be set on a copy of a slice from a DataFrame.\n",
      "Try using .loc[row_indexer,col_indexer] = value instead\n",
      "\n",
      "See the caveats in the documentation: http://pandas.pydata.org/pandas-docs/stable/indexing.html#indexing-view-versus-copy\n",
      "  del sys.path[0]\n"
     ]
    }
   ],
   "source": [
    "spark.createDataFrame(\n",
    "    cast_dtypes(lines)\n",
    ").write.mode('overwrite').saveAsTable('game_line')"
   ]
  },
  {
   "cell_type": "code",
   "execution_count": 83,
   "metadata": {
    "ExecuteTime": {
     "end_time": "2018-12-29T15:54:34.128234Z",
     "start_time": "2018-12-29T15:54:34.052301Z"
    },
    "scrolled": true
   },
   "outputs": [
    {
     "data": {
      "text/html": [
       "<div>\n",
       "<style scoped>\n",
       "    .dataframe tbody tr th:only-of-type {\n",
       "        vertical-align: middle;\n",
       "    }\n",
       "\n",
       "    .dataframe tbody tr th {\n",
       "        vertical-align: top;\n",
       "    }\n",
       "\n",
       "    .dataframe thead th {\n",
       "        text-align: right;\n",
       "    }\n",
       "</style>\n",
       "<table border=\"1\" class=\"dataframe\">\n",
       "  <thead>\n",
       "    <tr style=\"text-align: right;\">\n",
       "      <th></th>\n",
       "      <th>0</th>\n",
       "      <th>1</th>\n",
       "      <th>2</th>\n",
       "      <th>3</th>\n",
       "      <th>4</th>\n",
       "    </tr>\n",
       "  </thead>\n",
       "  <tbody>\n",
       "    <tr>\n",
       "      <th>H_Final</th>\n",
       "      <td>41</td>\n",
       "      <td>23</td>\n",
       "      <td>17</td>\n",
       "      <td>10</td>\n",
       "      <td>6</td>\n",
       "    </tr>\n",
       "    <tr>\n",
       "      <th>H_Q1</th>\n",
       "      <td>7</td>\n",
       "      <td>7</td>\n",
       "      <td>0</td>\n",
       "      <td>0</td>\n",
       "      <td>3</td>\n",
       "    </tr>\n",
       "    <tr>\n",
       "      <th>H_Q2</th>\n",
       "      <td>3</td>\n",
       "      <td>10</td>\n",
       "      <td>10</td>\n",
       "      <td>0</td>\n",
       "      <td>3</td>\n",
       "    </tr>\n",
       "    <tr>\n",
       "      <th>H_Q3</th>\n",
       "      <td>14</td>\n",
       "      <td>0</td>\n",
       "      <td>0</td>\n",
       "      <td>3</td>\n",
       "      <td>0</td>\n",
       "    </tr>\n",
       "    <tr>\n",
       "      <th>H_Q4</th>\n",
       "      <td>17</td>\n",
       "      <td>6</td>\n",
       "      <td>7</td>\n",
       "      <td>7</td>\n",
       "      <td>0</td>\n",
       "    </tr>\n",
       "    <tr>\n",
       "      <th>H_coach_id</th>\n",
       "      <td>/coaches/DungTo0.htm</td>\n",
       "      <td>/coaches/KubiGa0.htm</td>\n",
       "      <td>/coaches/HolmMi0.htm</td>\n",
       "      <td>/coaches/NolaMi0.htm</td>\n",
       "      <td>/coaches/FoxxJo0.htm</td>\n",
       "    </tr>\n",
       "    <tr>\n",
       "      <th>H_score</th>\n",
       "      <td>41</td>\n",
       "      <td>23</td>\n",
       "      <td>17</td>\n",
       "      <td>10</td>\n",
       "      <td>6</td>\n",
       "    </tr>\n",
       "    <tr>\n",
       "      <th>H_team</th>\n",
       "      <td>clt</td>\n",
       "      <td>htx</td>\n",
       "      <td>sea</td>\n",
       "      <td>sfo</td>\n",
       "      <td>car</td>\n",
       "    </tr>\n",
       "    <tr>\n",
       "      <th>V_Final</th>\n",
       "      <td>10</td>\n",
       "      <td>10</td>\n",
       "      <td>28</td>\n",
       "      <td>31</td>\n",
       "      <td>31</td>\n",
       "    </tr>\n",
       "    <tr>\n",
       "      <th>V_Q1</th>\n",
       "      <td>0</td>\n",
       "      <td>3</td>\n",
       "      <td>7</td>\n",
       "      <td>10</td>\n",
       "      <td>0</td>\n",
       "    </tr>\n",
       "    <tr>\n",
       "      <th>V_Q2</th>\n",
       "      <td>10</td>\n",
       "      <td>7</td>\n",
       "      <td>21</td>\n",
       "      <td>14</td>\n",
       "      <td>10</td>\n",
       "    </tr>\n",
       "    <tr>\n",
       "      <th>V_Q3</th>\n",
       "      <td>0</td>\n",
       "      <td>0</td>\n",
       "      <td>0</td>\n",
       "      <td>0</td>\n",
       "      <td>21</td>\n",
       "    </tr>\n",
       "    <tr>\n",
       "      <th>V_Q4</th>\n",
       "      <td>0</td>\n",
       "      <td>0</td>\n",
       "      <td>0</td>\n",
       "      <td>7</td>\n",
       "      <td>0</td>\n",
       "    </tr>\n",
       "    <tr>\n",
       "      <th>V_coach_id</th>\n",
       "      <td>/coaches/PaytSe0.htm</td>\n",
       "      <td>/coaches/PaytSe0.htm</td>\n",
       "      <td>/coaches/PaytSe0.htm</td>\n",
       "      <td>/coaches/PaytSe0.htm</td>\n",
       "      <td>/coaches/PaytSe0.htm</td>\n",
       "    </tr>\n",
       "    <tr>\n",
       "      <th>V_score</th>\n",
       "      <td>10</td>\n",
       "      <td>10</td>\n",
       "      <td>28</td>\n",
       "      <td>31</td>\n",
       "      <td>31</td>\n",
       "    </tr>\n",
       "    <tr>\n",
       "      <th>V_team</th>\n",
       "      <td>nor</td>\n",
       "      <td>nor</td>\n",
       "      <td>nor</td>\n",
       "      <td>nor</td>\n",
       "      <td>nor</td>\n",
       "    </tr>\n",
       "    <tr>\n",
       "      <th>attendance</th>\n",
       "      <td>57361</td>\n",
       "      <td>70780</td>\n",
       "      <td>68296</td>\n",
       "      <td>68244</td>\n",
       "      <td>72032</td>\n",
       "    </tr>\n",
       "    <tr>\n",
       "      <th>date</th>\n",
       "      <td>2007-09-06</td>\n",
       "      <td>2007-11-18</td>\n",
       "      <td>2007-10-14</td>\n",
       "      <td>2007-10-28</td>\n",
       "      <td>2007-11-25</td>\n",
       "    </tr>\n",
       "    <tr>\n",
       "      <th>day_of_week</th>\n",
       "      <td>3</td>\n",
       "      <td>6</td>\n",
       "      <td>6</td>\n",
       "      <td>6</td>\n",
       "      <td>6</td>\n",
       "    </tr>\n",
       "    <tr>\n",
       "      <th>duration</th>\n",
       "      <td>2:56</td>\n",
       "      <td>3:05</td>\n",
       "      <td>3:04</td>\n",
       "      <td>3:14</td>\n",
       "      <td>3:08</td>\n",
       "    </tr>\n",
       "    <tr>\n",
       "      <th>game_id</th>\n",
       "      <td>200709060clt</td>\n",
       "      <td>200711180htx</td>\n",
       "      <td>200710140sea</td>\n",
       "      <td>200710280sfo</td>\n",
       "      <td>200711250car</td>\n",
       "    </tr>\n",
       "    <tr>\n",
       "      <th>home_team</th>\n",
       "      <td>clt</td>\n",
       "      <td>htx</td>\n",
       "      <td>sea</td>\n",
       "      <td>sfo</td>\n",
       "      <td>car</td>\n",
       "    </tr>\n",
       "    <tr>\n",
       "      <th>prf_weather</th>\n",
       "      <td>nan</td>\n",
       "      <td>nan</td>\n",
       "      <td>68 degrees relative humidity 47%, wind 4 mph, ...</td>\n",
       "      <td>63 degrees relative humidity 70%, wind 6 mph, ...</td>\n",
       "      <td>46 degrees relative humidity 41%, wind 5 mph, ...</td>\n",
       "    </tr>\n",
       "    <tr>\n",
       "      <th>roof</th>\n",
       "      <td>dome</td>\n",
       "      <td>retractable roof (closed)</td>\n",
       "      <td>outdoors</td>\n",
       "      <td>outdoors</td>\n",
       "      <td>outdoors</td>\n",
       "    </tr>\n",
       "    <tr>\n",
       "      <th>season</th>\n",
       "      <td>2007</td>\n",
       "      <td>2007</td>\n",
       "      <td>2007</td>\n",
       "      <td>2007</td>\n",
       "      <td>2007</td>\n",
       "    </tr>\n",
       "    <tr>\n",
       "      <th>stadium</th>\n",
       "      <td>RCA Dome</td>\n",
       "      <td>Reliant Stadium</td>\n",
       "      <td>Qwest Field</td>\n",
       "      <td>Monster Park</td>\n",
       "      <td>Bank of America Stadium</td>\n",
       "    </tr>\n",
       "    <tr>\n",
       "      <th>surface</th>\n",
       "      <td>fieldturf</td>\n",
       "      <td>grass</td>\n",
       "      <td>fieldturf</td>\n",
       "      <td>grass</td>\n",
       "      <td>grass</td>\n",
       "    </tr>\n",
       "    <tr>\n",
       "      <th>time</th>\n",
       "      <td>8:39pm</td>\n",
       "      <td>1:02pm</td>\n",
       "      <td>8:23pm</td>\n",
       "      <td>4:17pm</td>\n",
       "      <td>1:03pm</td>\n",
       "    </tr>\n",
       "    <tr>\n",
       "      <th>week_id</th>\n",
       "      <td>0</td>\n",
       "      <td>10</td>\n",
       "      <td>5</td>\n",
       "      <td>7</td>\n",
       "      <td>11</td>\n",
       "    </tr>\n",
       "  </tbody>\n",
       "</table>\n",
       "</div>"
      ],
      "text/plain": [
       "                                0                          1  \\\n",
       "H_Final                        41                         23   \n",
       "H_Q1                            7                          7   \n",
       "H_Q2                            3                         10   \n",
       "H_Q3                           14                          0   \n",
       "H_Q4                           17                          6   \n",
       "H_coach_id   /coaches/DungTo0.htm       /coaches/KubiGa0.htm   \n",
       "H_score                        41                         23   \n",
       "H_team                        clt                        htx   \n",
       "V_Final                        10                         10   \n",
       "V_Q1                            0                          3   \n",
       "V_Q2                           10                          7   \n",
       "V_Q3                            0                          0   \n",
       "V_Q4                            0                          0   \n",
       "V_coach_id   /coaches/PaytSe0.htm       /coaches/PaytSe0.htm   \n",
       "V_score                        10                         10   \n",
       "V_team                        nor                        nor   \n",
       "attendance                  57361                      70780   \n",
       "date                   2007-09-06                 2007-11-18   \n",
       "day_of_week                     3                          6   \n",
       "duration                     2:56                       3:05   \n",
       "game_id              200709060clt               200711180htx   \n",
       "home_team                     clt                        htx   \n",
       "prf_weather                   nan                        nan   \n",
       "roof                         dome  retractable roof (closed)   \n",
       "season                       2007                       2007   \n",
       "stadium                  RCA Dome            Reliant Stadium   \n",
       "surface                 fieldturf                      grass   \n",
       "time                       8:39pm                     1:02pm   \n",
       "week_id                         0                         10   \n",
       "\n",
       "                                                             2  \\\n",
       "H_Final                                                     17   \n",
       "H_Q1                                                         0   \n",
       "H_Q2                                                        10   \n",
       "H_Q3                                                         0   \n",
       "H_Q4                                                         7   \n",
       "H_coach_id                                /coaches/HolmMi0.htm   \n",
       "H_score                                                     17   \n",
       "H_team                                                     sea   \n",
       "V_Final                                                     28   \n",
       "V_Q1                                                         7   \n",
       "V_Q2                                                        21   \n",
       "V_Q3                                                         0   \n",
       "V_Q4                                                         0   \n",
       "V_coach_id                                /coaches/PaytSe0.htm   \n",
       "V_score                                                     28   \n",
       "V_team                                                     nor   \n",
       "attendance                                               68296   \n",
       "date                                                2007-10-14   \n",
       "day_of_week                                                  6   \n",
       "duration                                                  3:04   \n",
       "game_id                                           200710140sea   \n",
       "home_team                                                  sea   \n",
       "prf_weather  68 degrees relative humidity 47%, wind 4 mph, ...   \n",
       "roof                                                  outdoors   \n",
       "season                                                    2007   \n",
       "stadium                                            Qwest Field   \n",
       "surface                                              fieldturf   \n",
       "time                                                    8:23pm   \n",
       "week_id                                                      5   \n",
       "\n",
       "                                                             3  \\\n",
       "H_Final                                                     10   \n",
       "H_Q1                                                         0   \n",
       "H_Q2                                                         0   \n",
       "H_Q3                                                         3   \n",
       "H_Q4                                                         7   \n",
       "H_coach_id                                /coaches/NolaMi0.htm   \n",
       "H_score                                                     10   \n",
       "H_team                                                     sfo   \n",
       "V_Final                                                     31   \n",
       "V_Q1                                                        10   \n",
       "V_Q2                                                        14   \n",
       "V_Q3                                                         0   \n",
       "V_Q4                                                         7   \n",
       "V_coach_id                                /coaches/PaytSe0.htm   \n",
       "V_score                                                     31   \n",
       "V_team                                                     nor   \n",
       "attendance                                               68244   \n",
       "date                                                2007-10-28   \n",
       "day_of_week                                                  6   \n",
       "duration                                                  3:14   \n",
       "game_id                                           200710280sfo   \n",
       "home_team                                                  sfo   \n",
       "prf_weather  63 degrees relative humidity 70%, wind 6 mph, ...   \n",
       "roof                                                  outdoors   \n",
       "season                                                    2007   \n",
       "stadium                                           Monster Park   \n",
       "surface                                                  grass   \n",
       "time                                                    4:17pm   \n",
       "week_id                                                      7   \n",
       "\n",
       "                                                             4  \n",
       "H_Final                                                      6  \n",
       "H_Q1                                                         3  \n",
       "H_Q2                                                         3  \n",
       "H_Q3                                                         0  \n",
       "H_Q4                                                         0  \n",
       "H_coach_id                                /coaches/FoxxJo0.htm  \n",
       "H_score                                                      6  \n",
       "H_team                                                     car  \n",
       "V_Final                                                     31  \n",
       "V_Q1                                                         0  \n",
       "V_Q2                                                        10  \n",
       "V_Q3                                                        21  \n",
       "V_Q4                                                         0  \n",
       "V_coach_id                                /coaches/PaytSe0.htm  \n",
       "V_score                                                     31  \n",
       "V_team                                                     nor  \n",
       "attendance                                               72032  \n",
       "date                                                2007-11-25  \n",
       "day_of_week                                                  6  \n",
       "duration                                                  3:08  \n",
       "game_id                                           200711250car  \n",
       "home_team                                                  car  \n",
       "prf_weather  46 degrees relative humidity 41%, wind 5 mph, ...  \n",
       "roof                                                  outdoors  \n",
       "season                                                    2007  \n",
       "stadium                                Bank of America Stadium  \n",
       "surface                                                  grass  \n",
       "time                                                    1:03pm  \n",
       "week_id                                                     11  "
      ]
     },
     "execution_count": 83,
     "metadata": {},
     "output_type": "execute_result"
    }
   ],
   "source": [
    "base_df_remaining = set(base_df_remaining) \\\n",
    "                    - set(line_fields) \\\n",
    "                    | set(key)\n",
    "base_df[sorted(list(base_df_remaining))].head().T"
   ]
  },
  {
   "cell_type": "markdown",
   "metadata": {
    "ExecuteTime": {
     "end_time": "2018-12-29T07:28:43.269181Z",
     "start_time": "2018-12-29T07:28:43.263882Z"
    }
   },
   "source": [
    "#### __game_outcome__ (TODO: use V_score NOT V_Final... V_Final is wrong in 201610020pit game... messes up OT too... V_Q4 of that game is 14 not 7)"
   ]
  },
  {
   "cell_type": "code",
   "execution_count": 84,
   "metadata": {
    "ExecuteTime": {
     "end_time": "2018-12-29T15:54:34.148930Z",
     "start_time": "2018-12-29T15:54:34.133292Z"
    }
   },
   "outputs": [],
   "source": [
    "key = ['game_id']\n",
    "outcome_fields = key + [\n",
    "    'H_Final','H_Q1','H_Q2','H_Q3','H_Q4','H_score',\n",
    "    'V_Final','V_Q1','V_Q2','V_Q3','V_Q4','V_score']\n",
    "\n",
    "outcomes = base_df[outcome_fields]\n",
    "assert outcomes.groupby(key).size().max() == 1"
   ]
  },
  {
   "cell_type": "markdown",
   "metadata": {},
   "source": [
    "diffs are OT games"
   ]
  },
  {
   "cell_type": "code",
   "execution_count": 85,
   "metadata": {
    "ExecuteTime": {
     "end_time": "2018-12-29T15:54:34.312156Z",
     "start_time": "2018-12-29T15:54:34.154111Z"
    },
    "scrolled": true
   },
   "outputs": [
    {
     "name": "stderr",
     "output_type": "stream",
     "text": [
      "/Users/joshplotkin/anaconda2/lib/python2.7/site-packages/ipykernel_launcher.py:2: SettingWithCopyWarning: \n",
      "A value is trying to be set on a copy of a slice from a DataFrame.\n",
      "Try using .loc[row_indexer,col_indexer] = value instead\n",
      "\n",
      "See the caveats in the documentation: http://pandas.pydata.org/pandas-docs/stable/indexing.html#indexing-view-versus-copy\n",
      "  \n",
      "/Users/joshplotkin/anaconda2/lib/python2.7/site-packages/ipykernel_launcher.py:5: SettingWithCopyWarning: \n",
      "A value is trying to be set on a copy of a slice from a DataFrame.\n",
      "Try using .loc[row_indexer,col_indexer] = value instead\n",
      "\n",
      "See the caveats in the documentation: http://pandas.pydata.org/pandas-docs/stable/indexing.html#indexing-view-versus-copy\n",
      "  \"\"\"\n"
     ]
    }
   ],
   "source": [
    "tmp1 = outcomes[outcomes[['H_Q1','H_Q2','H_Q3','H_Q4']].sum(axis=1) != outcomes['H_score']]\n",
    "tmp1['diff'] = tmp1[['H_Q1','H_Q2','H_Q3','H_Q4']].sum(axis=1) - tmp1['H_score']\n",
    "tmp1 = tmp1[['game_id','H_Q1','H_Q2','H_Q3','H_Q4','H_score','diff']]\n",
    "tmp2 = outcomes[outcomes[['V_Q1','V_Q2','V_Q3','V_Q4']].sum(axis=1) != outcomes['V_score']]\n",
    "tmp2['diff'] = tmp2[['V_Q1','V_Q2','V_Q3','V_Q4']].sum(axis=1) - tmp2['V_score']\n",
    "tmp2 = tmp2[['game_id','V_Q1','V_Q2','V_Q3','V_Q4','H_score','diff']]"
   ]
  },
  {
   "cell_type": "code",
   "execution_count": 86,
   "metadata": {
    "ExecuteTime": {
     "end_time": "2018-12-29T15:54:34.353034Z",
     "start_time": "2018-12-29T15:54:34.317713Z"
    }
   },
   "outputs": [
    {
     "data": {
      "text/html": [
       "<div>\n",
       "<style scoped>\n",
       "    .dataframe tbody tr th:only-of-type {\n",
       "        vertical-align: middle;\n",
       "    }\n",
       "\n",
       "    .dataframe tbody tr th {\n",
       "        vertical-align: top;\n",
       "    }\n",
       "\n",
       "    .dataframe thead th {\n",
       "        text-align: right;\n",
       "    }\n",
       "</style>\n",
       "<table border=\"1\" class=\"dataframe\">\n",
       "  <thead>\n",
       "    <tr style=\"text-align: right;\">\n",
       "      <th></th>\n",
       "      <th>game_id</th>\n",
       "      <th>H_Final</th>\n",
       "      <th>H_Q1</th>\n",
       "      <th>H_Q2</th>\n",
       "      <th>H_Q3</th>\n",
       "      <th>H_Q4</th>\n",
       "      <th>H_score</th>\n",
       "      <th>V_Final</th>\n",
       "      <th>V_Q1</th>\n",
       "      <th>V_Q2</th>\n",
       "      <th>V_Q3</th>\n",
       "      <th>V_Q4</th>\n",
       "      <th>V_score</th>\n",
       "    </tr>\n",
       "  </thead>\n",
       "  <tbody>\n",
       "    <tr>\n",
       "      <th>429</th>\n",
       "      <td>201211180htx</td>\n",
       "      <td>43</td>\n",
       "      <td>7</td>\n",
       "      <td>10</td>\n",
       "      <td>3</td>\n",
       "      <td>14</td>\n",
       "      <td>43</td>\n",
       "      <td>37</td>\n",
       "      <td>7</td>\n",
       "      <td>10</td>\n",
       "      <td>10</td>\n",
       "      <td>7</td>\n",
       "      <td>37</td>\n",
       "    </tr>\n",
       "  </tbody>\n",
       "</table>\n",
       "</div>"
      ],
      "text/plain": [
       "          game_id  H_Final  H_Q1  H_Q2  H_Q3  H_Q4  H_score  V_Final  V_Q1  \\\n",
       "429  201211180htx       43     7    10     3    14       43       37     7   \n",
       "\n",
       "     V_Q2  V_Q3  V_Q4  V_score  \n",
       "429    10    10     7       37  "
      ]
     },
     "execution_count": 86,
     "metadata": {},
     "output_type": "execute_result"
    }
   ],
   "source": [
    "outcomes[outcomes['game_id'] == '201211180htx']"
   ]
  },
  {
   "cell_type": "code",
   "execution_count": 87,
   "metadata": {
    "ExecuteTime": {
     "end_time": "2018-12-29T15:54:34.391207Z",
     "start_time": "2018-12-29T15:54:34.358081Z"
    },
    "scrolled": true
   },
   "outputs": [
    {
     "data": {
      "text/html": [
       "<div>\n",
       "<style scoped>\n",
       "    .dataframe tbody tr th:only-of-type {\n",
       "        vertical-align: middle;\n",
       "    }\n",
       "\n",
       "    .dataframe tbody tr th {\n",
       "        vertical-align: top;\n",
       "    }\n",
       "\n",
       "    .dataframe thead th {\n",
       "        text-align: right;\n",
       "    }\n",
       "</style>\n",
       "<table border=\"1\" class=\"dataframe\">\n",
       "  <thead>\n",
       "    <tr style=\"text-align: right;\">\n",
       "      <th></th>\n",
       "      <th>game_id</th>\n",
       "      <th>H_Q1</th>\n",
       "      <th>H_Q2</th>\n",
       "      <th>H_Q3</th>\n",
       "      <th>H_Q4</th>\n",
       "      <th>H_score</th>\n",
       "      <th>diff</th>\n",
       "    </tr>\n",
       "  </thead>\n",
       "  <tbody>\n",
       "    <tr>\n",
       "      <th>429</th>\n",
       "      <td>201211180htx</td>\n",
       "      <td>7</td>\n",
       "      <td>10</td>\n",
       "      <td>3</td>\n",
       "      <td>14</td>\n",
       "      <td>43</td>\n",
       "      <td>-9</td>\n",
       "    </tr>\n",
       "    <tr>\n",
       "      <th>2345</th>\n",
       "      <td>201112040crd</td>\n",
       "      <td>3</td>\n",
       "      <td>0</td>\n",
       "      <td>3</td>\n",
       "      <td>7</td>\n",
       "      <td>19</td>\n",
       "      <td>-6</td>\n",
       "    </tr>\n",
       "    <tr>\n",
       "      <th>888</th>\n",
       "      <td>201111060crd</td>\n",
       "      <td>3</td>\n",
       "      <td>0</td>\n",
       "      <td>3</td>\n",
       "      <td>7</td>\n",
       "      <td>19</td>\n",
       "      <td>-6</td>\n",
       "    </tr>\n",
       "    <tr>\n",
       "      <th>605</th>\n",
       "      <td>201511290den</td>\n",
       "      <td>0</td>\n",
       "      <td>7</td>\n",
       "      <td>0</td>\n",
       "      <td>17</td>\n",
       "      <td>30</td>\n",
       "      <td>-6</td>\n",
       "    </tr>\n",
       "    <tr>\n",
       "      <th>2440</th>\n",
       "      <td>201701010pit</td>\n",
       "      <td>0</td>\n",
       "      <td>7</td>\n",
       "      <td>0</td>\n",
       "      <td>14</td>\n",
       "      <td>27</td>\n",
       "      <td>-6</td>\n",
       "    </tr>\n",
       "  </tbody>\n",
       "</table>\n",
       "</div>"
      ],
      "text/plain": [
       "           game_id  H_Q1  H_Q2  H_Q3  H_Q4  H_score  diff\n",
       "429   201211180htx     7    10     3    14       43    -9\n",
       "2345  201112040crd     3     0     3     7       19    -6\n",
       "888   201111060crd     3     0     3     7       19    -6\n",
       "605   201511290den     0     7     0    17       30    -6\n",
       "2440  201701010pit     0     7     0    14       27    -6"
      ]
     },
     "execution_count": 87,
     "metadata": {},
     "output_type": "execute_result"
    }
   ],
   "source": [
    "tmp1.sort_values(by=['diff']).head()"
   ]
  },
  {
   "cell_type": "code",
   "execution_count": 88,
   "metadata": {
    "ExecuteTime": {
     "end_time": "2018-12-29T15:54:34.428255Z",
     "start_time": "2018-12-29T15:54:34.397315Z"
    },
    "scrolled": true
   },
   "outputs": [
    {
     "data": {
      "text/html": [
       "<div>\n",
       "<style scoped>\n",
       "    .dataframe tbody tr th:only-of-type {\n",
       "        vertical-align: middle;\n",
       "    }\n",
       "\n",
       "    .dataframe tbody tr th {\n",
       "        vertical-align: top;\n",
       "    }\n",
       "\n",
       "    .dataframe thead th {\n",
       "        text-align: right;\n",
       "    }\n",
       "</style>\n",
       "<table border=\"1\" class=\"dataframe\">\n",
       "  <thead>\n",
       "    <tr style=\"text-align: right;\">\n",
       "      <th></th>\n",
       "      <th>game_id</th>\n",
       "      <th>V_Q1</th>\n",
       "      <th>V_Q2</th>\n",
       "      <th>V_Q3</th>\n",
       "      <th>V_Q4</th>\n",
       "      <th>H_score</th>\n",
       "      <th>diff</th>\n",
       "    </tr>\n",
       "  </thead>\n",
       "  <tbody>\n",
       "    <tr>\n",
       "      <th>2278</th>\n",
       "      <td>201610020pit</td>\n",
       "      <td>0</td>\n",
       "      <td>0</td>\n",
       "      <td>0</td>\n",
       "      <td>7</td>\n",
       "      <td>43</td>\n",
       "      <td>-7</td>\n",
       "    </tr>\n",
       "    <tr>\n",
       "      <th>75</th>\n",
       "      <td>200712090oti</td>\n",
       "      <td>0</td>\n",
       "      <td>0</td>\n",
       "      <td>3</td>\n",
       "      <td>14</td>\n",
       "      <td>17</td>\n",
       "      <td>-6</td>\n",
       "    </tr>\n",
       "    <tr>\n",
       "      <th>860</th>\n",
       "      <td>201012130htx</td>\n",
       "      <td>7</td>\n",
       "      <td>14</td>\n",
       "      <td>7</td>\n",
       "      <td>0</td>\n",
       "      <td>28</td>\n",
       "      <td>-6</td>\n",
       "    </tr>\n",
       "    <tr>\n",
       "      <th>1009</th>\n",
       "      <td>200710290den</td>\n",
       "      <td>7</td>\n",
       "      <td>6</td>\n",
       "      <td>0</td>\n",
       "      <td>0</td>\n",
       "      <td>13</td>\n",
       "      <td>-6</td>\n",
       "    </tr>\n",
       "    <tr>\n",
       "      <th>1143</th>\n",
       "      <td>200910110kan</td>\n",
       "      <td>0</td>\n",
       "      <td>3</td>\n",
       "      <td>7</td>\n",
       "      <td>10</td>\n",
       "      <td>20</td>\n",
       "      <td>-6</td>\n",
       "    </tr>\n",
       "  </tbody>\n",
       "</table>\n",
       "</div>"
      ],
      "text/plain": [
       "           game_id  V_Q1  V_Q2  V_Q3  V_Q4  H_score  diff\n",
       "2278  201610020pit     0     0     0     7       43    -7\n",
       "75    200712090oti     0     0     3    14       17    -6\n",
       "860   201012130htx     7    14     7     0       28    -6\n",
       "1009  200710290den     7     6     0     0       13    -6\n",
       "1143  200910110kan     0     3     7    10       20    -6"
      ]
     },
     "execution_count": 88,
     "metadata": {},
     "output_type": "execute_result"
    }
   ],
   "source": [
    "tmp2.sort_values(by='diff').head()"
   ]
  },
  {
   "cell_type": "code",
   "execution_count": 89,
   "metadata": {
    "ExecuteTime": {
     "end_time": "2018-12-29T15:54:34.558813Z",
     "start_time": "2018-12-29T15:54:34.434263Z"
    }
   },
   "outputs": [
    {
     "name": "stderr",
     "output_type": "stream",
     "text": [
      "/Users/joshplotkin/anaconda2/lib/python2.7/site-packages/ipykernel_launcher.py:1: SettingWithCopyWarning: \n",
      "A value is trying to be set on a copy of a slice from a DataFrame.\n",
      "Try using .loc[row_indexer,col_indexer] = value instead\n",
      "\n",
      "See the caveats in the documentation: http://pandas.pydata.org/pandas-docs/stable/indexing.html#indexing-view-versus-copy\n",
      "  \"\"\"Entry point for launching an IPython kernel.\n",
      "/Users/joshplotkin/anaconda2/lib/python2.7/site-packages/ipykernel_launcher.py:2: SettingWithCopyWarning: \n",
      "A value is trying to be set on a copy of a slice from a DataFrame.\n",
      "Try using .loc[row_indexer,col_indexer] = value instead\n",
      "\n",
      "See the caveats in the documentation: http://pandas.pydata.org/pandas-docs/stable/indexing.html#indexing-view-versus-copy\n",
      "  \n"
     ]
    }
   ],
   "source": [
    "outcomes['H_OT'] = outcomes['H_score'] - outcomes[['H_Q1','H_Q2','H_Q3','H_Q4']].sum(axis=1)\n",
    "outcomes['V_OT'] = outcomes['V_score'] - outcomes[['V_Q1','V_Q2','V_Q3','V_Q4']].sum(axis=1)"
   ]
  },
  {
   "cell_type": "code",
   "execution_count": 90,
   "metadata": {
    "ExecuteTime": {
     "end_time": "2018-12-29T15:54:34.655845Z",
     "start_time": "2018-12-29T15:54:34.565558Z"
    }
   },
   "outputs": [
    {
     "data": {
      "text/plain": [
       "2937"
      ]
     },
     "execution_count": 90,
     "metadata": {},
     "output_type": "execute_result"
    },
    {
     "name": "stderr",
     "output_type": "stream",
     "text": [
      "/Users/joshplotkin/anaconda2/lib/python2.7/site-packages/ipykernel_launcher.py:2: SettingWithCopyWarning: \n",
      "A value is trying to be set on a copy of a slice from a DataFrame\n",
      "\n",
      "See the caveats in the documentation: http://pandas.pydata.org/pandas-docs/stable/indexing.html#indexing-view-versus-copy\n",
      "  \n"
     ]
    },
    {
     "data": {
      "text/plain": [
       "2937"
      ]
     },
     "execution_count": 90,
     "metadata": {},
     "output_type": "execute_result"
    }
   ],
   "source": [
    "outcomes.shape[0]\n",
    "outcomes.drop_duplicates(inplace=True)\n",
    "outcomes.shape[0]"
   ]
  },
  {
   "cell_type": "code",
   "execution_count": 91,
   "metadata": {
    "ExecuteTime": {
     "end_time": "2018-12-29T15:54:36.375781Z",
     "start_time": "2018-12-29T15:54:34.661910Z"
    }
   },
   "outputs": [
    {
     "name": "stderr",
     "output_type": "stream",
     "text": [
      "/Users/joshplotkin/anaconda2/lib/python2.7/site-packages/ipykernel_launcher.py:13: SettingWithCopyWarning: \n",
      "A value is trying to be set on a copy of a slice from a DataFrame.\n",
      "Try using .loc[row_indexer,col_indexer] = value instead\n",
      "\n",
      "See the caveats in the documentation: http://pandas.pydata.org/pandas-docs/stable/indexing.html#indexing-view-versus-copy\n",
      "  del sys.path[0]\n"
     ]
    }
   ],
   "source": [
    "spark.createDataFrame(\n",
    "    cast_dtypes(outcomes)\n",
    ").write.mode('overwrite').saveAsTable('game_outcome')"
   ]
  },
  {
   "cell_type": "code",
   "execution_count": 92,
   "metadata": {
    "ExecuteTime": {
     "end_time": "2018-12-29T15:54:36.448609Z",
     "start_time": "2018-12-29T15:54:36.381403Z"
    }
   },
   "outputs": [
    {
     "data": {
      "text/html": [
       "<div>\n",
       "<style scoped>\n",
       "    .dataframe tbody tr th:only-of-type {\n",
       "        vertical-align: middle;\n",
       "    }\n",
       "\n",
       "    .dataframe tbody tr th {\n",
       "        vertical-align: top;\n",
       "    }\n",
       "\n",
       "    .dataframe thead th {\n",
       "        text-align: right;\n",
       "    }\n",
       "</style>\n",
       "<table border=\"1\" class=\"dataframe\">\n",
       "  <thead>\n",
       "    <tr style=\"text-align: right;\">\n",
       "      <th></th>\n",
       "      <th>0</th>\n",
       "      <th>1</th>\n",
       "      <th>2</th>\n",
       "      <th>3</th>\n",
       "      <th>4</th>\n",
       "    </tr>\n",
       "  </thead>\n",
       "  <tbody>\n",
       "    <tr>\n",
       "      <th>H_coach_id</th>\n",
       "      <td>/coaches/DungTo0.htm</td>\n",
       "      <td>/coaches/KubiGa0.htm</td>\n",
       "      <td>/coaches/HolmMi0.htm</td>\n",
       "      <td>/coaches/NolaMi0.htm</td>\n",
       "      <td>/coaches/FoxxJo0.htm</td>\n",
       "    </tr>\n",
       "    <tr>\n",
       "      <th>H_team</th>\n",
       "      <td>clt</td>\n",
       "      <td>htx</td>\n",
       "      <td>sea</td>\n",
       "      <td>sfo</td>\n",
       "      <td>car</td>\n",
       "    </tr>\n",
       "    <tr>\n",
       "      <th>V_coach_id</th>\n",
       "      <td>/coaches/PaytSe0.htm</td>\n",
       "      <td>/coaches/PaytSe0.htm</td>\n",
       "      <td>/coaches/PaytSe0.htm</td>\n",
       "      <td>/coaches/PaytSe0.htm</td>\n",
       "      <td>/coaches/PaytSe0.htm</td>\n",
       "    </tr>\n",
       "    <tr>\n",
       "      <th>V_team</th>\n",
       "      <td>nor</td>\n",
       "      <td>nor</td>\n",
       "      <td>nor</td>\n",
       "      <td>nor</td>\n",
       "      <td>nor</td>\n",
       "    </tr>\n",
       "    <tr>\n",
       "      <th>attendance</th>\n",
       "      <td>57361</td>\n",
       "      <td>70780</td>\n",
       "      <td>68296</td>\n",
       "      <td>68244</td>\n",
       "      <td>72032</td>\n",
       "    </tr>\n",
       "    <tr>\n",
       "      <th>date</th>\n",
       "      <td>2007-09-06</td>\n",
       "      <td>2007-11-18</td>\n",
       "      <td>2007-10-14</td>\n",
       "      <td>2007-10-28</td>\n",
       "      <td>2007-11-25</td>\n",
       "    </tr>\n",
       "    <tr>\n",
       "      <th>day_of_week</th>\n",
       "      <td>3</td>\n",
       "      <td>6</td>\n",
       "      <td>6</td>\n",
       "      <td>6</td>\n",
       "      <td>6</td>\n",
       "    </tr>\n",
       "    <tr>\n",
       "      <th>duration</th>\n",
       "      <td>2:56</td>\n",
       "      <td>3:05</td>\n",
       "      <td>3:04</td>\n",
       "      <td>3:14</td>\n",
       "      <td>3:08</td>\n",
       "    </tr>\n",
       "    <tr>\n",
       "      <th>game_id</th>\n",
       "      <td>200709060clt</td>\n",
       "      <td>200711180htx</td>\n",
       "      <td>200710140sea</td>\n",
       "      <td>200710280sfo</td>\n",
       "      <td>200711250car</td>\n",
       "    </tr>\n",
       "    <tr>\n",
       "      <th>home_team</th>\n",
       "      <td>clt</td>\n",
       "      <td>htx</td>\n",
       "      <td>sea</td>\n",
       "      <td>sfo</td>\n",
       "      <td>car</td>\n",
       "    </tr>\n",
       "    <tr>\n",
       "      <th>prf_weather</th>\n",
       "      <td>nan</td>\n",
       "      <td>nan</td>\n",
       "      <td>68 degrees relative humidity 47%, wind 4 mph, ...</td>\n",
       "      <td>63 degrees relative humidity 70%, wind 6 mph, ...</td>\n",
       "      <td>46 degrees relative humidity 41%, wind 5 mph, ...</td>\n",
       "    </tr>\n",
       "    <tr>\n",
       "      <th>roof</th>\n",
       "      <td>dome</td>\n",
       "      <td>retractable roof (closed)</td>\n",
       "      <td>outdoors</td>\n",
       "      <td>outdoors</td>\n",
       "      <td>outdoors</td>\n",
       "    </tr>\n",
       "    <tr>\n",
       "      <th>season</th>\n",
       "      <td>2007</td>\n",
       "      <td>2007</td>\n",
       "      <td>2007</td>\n",
       "      <td>2007</td>\n",
       "      <td>2007</td>\n",
       "    </tr>\n",
       "    <tr>\n",
       "      <th>stadium</th>\n",
       "      <td>RCA Dome</td>\n",
       "      <td>Reliant Stadium</td>\n",
       "      <td>Qwest Field</td>\n",
       "      <td>Monster Park</td>\n",
       "      <td>Bank of America Stadium</td>\n",
       "    </tr>\n",
       "    <tr>\n",
       "      <th>surface</th>\n",
       "      <td>fieldturf</td>\n",
       "      <td>grass</td>\n",
       "      <td>fieldturf</td>\n",
       "      <td>grass</td>\n",
       "      <td>grass</td>\n",
       "    </tr>\n",
       "    <tr>\n",
       "      <th>time</th>\n",
       "      <td>8:39pm</td>\n",
       "      <td>1:02pm</td>\n",
       "      <td>8:23pm</td>\n",
       "      <td>4:17pm</td>\n",
       "      <td>1:03pm</td>\n",
       "    </tr>\n",
       "    <tr>\n",
       "      <th>week_id</th>\n",
       "      <td>0</td>\n",
       "      <td>10</td>\n",
       "      <td>5</td>\n",
       "      <td>7</td>\n",
       "      <td>11</td>\n",
       "    </tr>\n",
       "  </tbody>\n",
       "</table>\n",
       "</div>"
      ],
      "text/plain": [
       "                                0                          1  \\\n",
       "H_coach_id   /coaches/DungTo0.htm       /coaches/KubiGa0.htm   \n",
       "H_team                        clt                        htx   \n",
       "V_coach_id   /coaches/PaytSe0.htm       /coaches/PaytSe0.htm   \n",
       "V_team                        nor                        nor   \n",
       "attendance                  57361                      70780   \n",
       "date                   2007-09-06                 2007-11-18   \n",
       "day_of_week                     3                          6   \n",
       "duration                     2:56                       3:05   \n",
       "game_id              200709060clt               200711180htx   \n",
       "home_team                     clt                        htx   \n",
       "prf_weather                   nan                        nan   \n",
       "roof                         dome  retractable roof (closed)   \n",
       "season                       2007                       2007   \n",
       "stadium                  RCA Dome            Reliant Stadium   \n",
       "surface                 fieldturf                      grass   \n",
       "time                       8:39pm                     1:02pm   \n",
       "week_id                         0                         10   \n",
       "\n",
       "                                                             2  \\\n",
       "H_coach_id                                /coaches/HolmMi0.htm   \n",
       "H_team                                                     sea   \n",
       "V_coach_id                                /coaches/PaytSe0.htm   \n",
       "V_team                                                     nor   \n",
       "attendance                                               68296   \n",
       "date                                                2007-10-14   \n",
       "day_of_week                                                  6   \n",
       "duration                                                  3:04   \n",
       "game_id                                           200710140sea   \n",
       "home_team                                                  sea   \n",
       "prf_weather  68 degrees relative humidity 47%, wind 4 mph, ...   \n",
       "roof                                                  outdoors   \n",
       "season                                                    2007   \n",
       "stadium                                            Qwest Field   \n",
       "surface                                              fieldturf   \n",
       "time                                                    8:23pm   \n",
       "week_id                                                      5   \n",
       "\n",
       "                                                             3  \\\n",
       "H_coach_id                                /coaches/NolaMi0.htm   \n",
       "H_team                                                     sfo   \n",
       "V_coach_id                                /coaches/PaytSe0.htm   \n",
       "V_team                                                     nor   \n",
       "attendance                                               68244   \n",
       "date                                                2007-10-28   \n",
       "day_of_week                                                  6   \n",
       "duration                                                  3:14   \n",
       "game_id                                           200710280sfo   \n",
       "home_team                                                  sfo   \n",
       "prf_weather  63 degrees relative humidity 70%, wind 6 mph, ...   \n",
       "roof                                                  outdoors   \n",
       "season                                                    2007   \n",
       "stadium                                           Monster Park   \n",
       "surface                                                  grass   \n",
       "time                                                    4:17pm   \n",
       "week_id                                                      7   \n",
       "\n",
       "                                                             4  \n",
       "H_coach_id                                /coaches/FoxxJo0.htm  \n",
       "H_team                                                     car  \n",
       "V_coach_id                                /coaches/PaytSe0.htm  \n",
       "V_team                                                     nor  \n",
       "attendance                                               72032  \n",
       "date                                                2007-11-25  \n",
       "day_of_week                                                  6  \n",
       "duration                                                  3:08  \n",
       "game_id                                           200711250car  \n",
       "home_team                                                  car  \n",
       "prf_weather  46 degrees relative humidity 41%, wind 5 mph, ...  \n",
       "roof                                                  outdoors  \n",
       "season                                                    2007  \n",
       "stadium                                Bank of America Stadium  \n",
       "surface                                                  grass  \n",
       "time                                                    1:03pm  \n",
       "week_id                                                     11  "
      ]
     },
     "execution_count": 92,
     "metadata": {},
     "output_type": "execute_result"
    }
   ],
   "source": [
    "base_df_remaining = set(base_df_remaining) \\\n",
    "                    - set(outcomes) \\\n",
    "                    | set(key)\n",
    "base_df[sorted(list(base_df_remaining))].head().T"
   ]
  },
  {
   "cell_type": "markdown",
   "metadata": {},
   "source": [
    "#### __game_metadata__\n",
    "* key is game_id"
   ]
  },
  {
   "cell_type": "code",
   "execution_count": 93,
   "metadata": {
    "ExecuteTime": {
     "end_time": "2018-12-29T15:54:36.480825Z",
     "start_time": "2018-12-29T15:54:36.453392Z"
    }
   },
   "outputs": [],
   "source": [
    "base_df['is_neutral'] = (base_df['home_team'] == 'neutral').astype(int)\n",
    "base_df.drop('home_team', axis=1, inplace=True)\n",
    "\n",
    "key = ['game_id']\n",
    "metadata_fields = key + [\n",
    "    'season','week_id','date','day_of_week','duration','prf_weather','roof',\n",
    "    'surface','time','attendance','is_neutral']\n",
    "\n",
    "metadata_df = base_df[metadata_fields]\n",
    "assert metadata_df.groupby(key).size().max() == 1"
   ]
  },
  {
   "cell_type": "code",
   "execution_count": 94,
   "metadata": {
    "ExecuteTime": {
     "end_time": "2018-12-29T15:54:36.583586Z",
     "start_time": "2018-12-29T15:54:36.487306Z"
    }
   },
   "outputs": [
    {
     "data": {
      "text/plain": [
       "2937"
      ]
     },
     "execution_count": 94,
     "metadata": {},
     "output_type": "execute_result"
    },
    {
     "name": "stderr",
     "output_type": "stream",
     "text": [
      "/Users/joshplotkin/anaconda2/lib/python2.7/site-packages/ipykernel_launcher.py:2: SettingWithCopyWarning: \n",
      "A value is trying to be set on a copy of a slice from a DataFrame\n",
      "\n",
      "See the caveats in the documentation: http://pandas.pydata.org/pandas-docs/stable/indexing.html#indexing-view-versus-copy\n",
      "  \n"
     ]
    },
    {
     "data": {
      "text/plain": [
       "2937"
      ]
     },
     "execution_count": 94,
     "metadata": {},
     "output_type": "execute_result"
    }
   ],
   "source": [
    "metadata_df.shape[0]\n",
    "metadata_df.drop_duplicates(inplace=True)\n",
    "metadata_df.shape[0]"
   ]
  },
  {
   "cell_type": "code",
   "execution_count": 95,
   "metadata": {
    "ExecuteTime": {
     "end_time": "2018-12-29T15:54:38.030391Z",
     "start_time": "2018-12-29T15:54:36.589000Z"
    }
   },
   "outputs": [
    {
     "name": "stderr",
     "output_type": "stream",
     "text": [
      "/Users/joshplotkin/anaconda2/lib/python2.7/site-packages/ipykernel_launcher.py:13: SettingWithCopyWarning: \n",
      "A value is trying to be set on a copy of a slice from a DataFrame.\n",
      "Try using .loc[row_indexer,col_indexer] = value instead\n",
      "\n",
      "See the caveats in the documentation: http://pandas.pydata.org/pandas-docs/stable/indexing.html#indexing-view-versus-copy\n",
      "  del sys.path[0]\n"
     ]
    }
   ],
   "source": [
    "spark.createDataFrame(\n",
    "    cast_dtypes(metadata_df)\n",
    ").write.mode('overwrite').mode('overwrite').saveAsTable('game_metadata')"
   ]
  },
  {
   "cell_type": "code",
   "execution_count": 96,
   "metadata": {
    "ExecuteTime": {
     "end_time": "2018-12-29T15:54:38.085529Z",
     "start_time": "2018-12-29T15:54:38.036684Z"
    }
   },
   "outputs": [
    {
     "data": {
      "text/html": [
       "<div>\n",
       "<style scoped>\n",
       "    .dataframe tbody tr th:only-of-type {\n",
       "        vertical-align: middle;\n",
       "    }\n",
       "\n",
       "    .dataframe tbody tr th {\n",
       "        vertical-align: top;\n",
       "    }\n",
       "\n",
       "    .dataframe thead th {\n",
       "        text-align: right;\n",
       "    }\n",
       "</style>\n",
       "<table border=\"1\" class=\"dataframe\">\n",
       "  <thead>\n",
       "    <tr style=\"text-align: right;\">\n",
       "      <th></th>\n",
       "      <th>0</th>\n",
       "      <th>1</th>\n",
       "      <th>2</th>\n",
       "      <th>3</th>\n",
       "      <th>4</th>\n",
       "    </tr>\n",
       "  </thead>\n",
       "  <tbody>\n",
       "    <tr>\n",
       "      <th>H_coach_id</th>\n",
       "      <td>/coaches/DungTo0.htm</td>\n",
       "      <td>/coaches/KubiGa0.htm</td>\n",
       "      <td>/coaches/HolmMi0.htm</td>\n",
       "      <td>/coaches/NolaMi0.htm</td>\n",
       "      <td>/coaches/FoxxJo0.htm</td>\n",
       "    </tr>\n",
       "    <tr>\n",
       "      <th>H_team</th>\n",
       "      <td>clt</td>\n",
       "      <td>htx</td>\n",
       "      <td>sea</td>\n",
       "      <td>sfo</td>\n",
       "      <td>car</td>\n",
       "    </tr>\n",
       "    <tr>\n",
       "      <th>V_coach_id</th>\n",
       "      <td>/coaches/PaytSe0.htm</td>\n",
       "      <td>/coaches/PaytSe0.htm</td>\n",
       "      <td>/coaches/PaytSe0.htm</td>\n",
       "      <td>/coaches/PaytSe0.htm</td>\n",
       "      <td>/coaches/PaytSe0.htm</td>\n",
       "    </tr>\n",
       "    <tr>\n",
       "      <th>V_team</th>\n",
       "      <td>nor</td>\n",
       "      <td>nor</td>\n",
       "      <td>nor</td>\n",
       "      <td>nor</td>\n",
       "      <td>nor</td>\n",
       "    </tr>\n",
       "    <tr>\n",
       "      <th>game_id</th>\n",
       "      <td>200709060clt</td>\n",
       "      <td>200711180htx</td>\n",
       "      <td>200710140sea</td>\n",
       "      <td>200710280sfo</td>\n",
       "      <td>200711250car</td>\n",
       "    </tr>\n",
       "    <tr>\n",
       "      <th>stadium</th>\n",
       "      <td>RCA Dome</td>\n",
       "      <td>Reliant Stadium</td>\n",
       "      <td>Qwest Field</td>\n",
       "      <td>Monster Park</td>\n",
       "      <td>Bank of America Stadium</td>\n",
       "    </tr>\n",
       "  </tbody>\n",
       "</table>\n",
       "</div>"
      ],
      "text/plain": [
       "                               0                     1                     2  \\\n",
       "H_coach_id  /coaches/DungTo0.htm  /coaches/KubiGa0.htm  /coaches/HolmMi0.htm   \n",
       "H_team                       clt                   htx                   sea   \n",
       "V_coach_id  /coaches/PaytSe0.htm  /coaches/PaytSe0.htm  /coaches/PaytSe0.htm   \n",
       "V_team                       nor                   nor                   nor   \n",
       "game_id             200709060clt          200711180htx          200710140sea   \n",
       "stadium                 RCA Dome       Reliant Stadium           Qwest Field   \n",
       "\n",
       "                               3                        4  \n",
       "H_coach_id  /coaches/NolaMi0.htm     /coaches/FoxxJo0.htm  \n",
       "H_team                       sfo                      car  \n",
       "V_coach_id  /coaches/PaytSe0.htm     /coaches/PaytSe0.htm  \n",
       "V_team                       nor                      nor  \n",
       "game_id             200710280sfo             200711250car  \n",
       "stadium             Monster Park  Bank of America Stadium  "
      ]
     },
     "execution_count": 96,
     "metadata": {},
     "output_type": "execute_result"
    }
   ],
   "source": [
    "base_df_remaining = set(base_df_remaining) \\\n",
    "                    - set(metadata_fields) \\\n",
    "                    - set(['home_team']) \\\n",
    "                    | set(key)\n",
    "base_df[sorted(list(base_df_remaining))].head().T"
   ]
  },
  {
   "cell_type": "markdown",
   "metadata": {},
   "source": [
    "#### __game__\n",
    "* primary key is game_id\n",
    "* fact table"
   ]
  },
  {
   "cell_type": "code",
   "execution_count": 97,
   "metadata": {
    "ExecuteTime": {
     "end_time": "2018-12-29T15:54:38.099773Z",
     "start_time": "2018-12-29T15:54:38.090072Z"
    }
   },
   "outputs": [],
   "source": [
    "base_cols = sorted(list(base_df_remaining))\n",
    "key = ['game_id']\n",
    "\n",
    "game = base_df[key + list(set(base_cols) - set(key))]"
   ]
  },
  {
   "cell_type": "code",
   "execution_count": 98,
   "metadata": {
    "ExecuteTime": {
     "end_time": "2018-12-29T15:54:38.195113Z",
     "start_time": "2018-12-29T15:54:38.104569Z"
    }
   },
   "outputs": [
    {
     "data": {
      "text/plain": [
       "2937"
      ]
     },
     "execution_count": 98,
     "metadata": {},
     "output_type": "execute_result"
    },
    {
     "name": "stderr",
     "output_type": "stream",
     "text": [
      "/Users/joshplotkin/anaconda2/lib/python2.7/site-packages/ipykernel_launcher.py:2: SettingWithCopyWarning: \n",
      "A value is trying to be set on a copy of a slice from a DataFrame\n",
      "\n",
      "See the caveats in the documentation: http://pandas.pydata.org/pandas-docs/stable/indexing.html#indexing-view-versus-copy\n",
      "  \n"
     ]
    },
    {
     "data": {
      "text/plain": [
       "2937"
      ]
     },
     "execution_count": 98,
     "metadata": {},
     "output_type": "execute_result"
    }
   ],
   "source": [
    "game.shape[0]\n",
    "game.drop_duplicates(inplace=True)\n",
    "game.shape[0]"
   ]
  },
  {
   "cell_type": "code",
   "execution_count": 99,
   "metadata": {
    "ExecuteTime": {
     "end_time": "2018-12-29T15:54:39.176638Z",
     "start_time": "2018-12-29T15:54:38.201248Z"
    }
   },
   "outputs": [
    {
     "name": "stderr",
     "output_type": "stream",
     "text": [
      "/Users/joshplotkin/anaconda2/lib/python2.7/site-packages/ipykernel_launcher.py:13: SettingWithCopyWarning: \n",
      "A value is trying to be set on a copy of a slice from a DataFrame.\n",
      "Try using .loc[row_indexer,col_indexer] = value instead\n",
      "\n",
      "See the caveats in the documentation: http://pandas.pydata.org/pandas-docs/stable/indexing.html#indexing-view-versus-copy\n",
      "  del sys.path[0]\n"
     ]
    }
   ],
   "source": [
    "spark.createDataFrame(\n",
    "    cast_dtypes(game)\n",
    ").write.mode('overwrite').mode('overwrite').saveAsTable('game')"
   ]
  },
  {
   "cell_type": "code",
   "execution_count": 100,
   "metadata": {
    "ExecuteTime": {
     "end_time": "2018-12-29T15:54:39.207487Z",
     "start_time": "2018-12-29T15:54:39.181450Z"
    }
   },
   "outputs": [
    {
     "data": {
      "text/html": [
       "<div>\n",
       "<style scoped>\n",
       "    .dataframe tbody tr th:only-of-type {\n",
       "        vertical-align: middle;\n",
       "    }\n",
       "\n",
       "    .dataframe tbody tr th {\n",
       "        vertical-align: top;\n",
       "    }\n",
       "\n",
       "    .dataframe thead th {\n",
       "        text-align: right;\n",
       "    }\n",
       "</style>\n",
       "<table border=\"1\" class=\"dataframe\">\n",
       "  <thead>\n",
       "    <tr style=\"text-align: right;\">\n",
       "      <th></th>\n",
       "      <th>0</th>\n",
       "      <th>1</th>\n",
       "      <th>2</th>\n",
       "      <th>3</th>\n",
       "      <th>4</th>\n",
       "    </tr>\n",
       "  </thead>\n",
       "  <tbody>\n",
       "    <tr>\n",
       "      <th>game_id</th>\n",
       "      <td>200709060clt</td>\n",
       "      <td>200711180htx</td>\n",
       "      <td>200710140sea</td>\n",
       "      <td>200710280sfo</td>\n",
       "      <td>200711250car</td>\n",
       "    </tr>\n",
       "  </tbody>\n",
       "</table>\n",
       "</div>"
      ],
      "text/plain": [
       "                    0             1             2             3             4\n",
       "game_id  200709060clt  200711180htx  200710140sea  200710280sfo  200711250car"
      ]
     },
     "execution_count": 100,
     "metadata": {},
     "output_type": "execute_result"
    }
   ],
   "source": [
    "base_df_remaining = set(base_df_remaining) \\\n",
    "                    - set(game) \\\n",
    "                    - set(['home_team']) \\\n",
    "                    | set(key)\n",
    "base_df[sorted(list(base_df_remaining))].head().T"
   ]
  },
  {
   "cell_type": "markdown",
   "metadata": {},
   "source": [
    "### __dvoa__\n",
    "* primary key is (team, season)\n",
    "* joins with team_season and game"
   ]
  },
  {
   "cell_type": "code",
   "execution_count": 133,
   "metadata": {
    "ExecuteTime": {
     "end_time": "2018-12-29T16:03:03.005889Z",
     "start_time": "2018-12-29T16:03:02.971156Z"
    },
    "scrolled": true
   },
   "outputs": [
    {
     "data": {
      "text/plain": [
       "(6112, 19)"
      ]
     },
     "execution_count": 133,
     "metadata": {},
     "output_type": "execute_result"
    }
   ],
   "source": [
    "dvoa_df = pd.read_csv('dvoa/dvoa_alltime.csv', index_col='Unnamed: 0')\n",
    "## no cases in hive table\n",
    "dvoa_df.columns = map(lambda x: x.replace(' ','_'), dvoa_df)\n",
    "## headers are in data from appending dataframes. filter them out\n",
    "dvoa_df.shape"
   ]
  },
  {
   "cell_type": "markdown",
   "metadata": {},
   "source": [
    "#### temporarily remove 2018\n",
    "* join key is (name, season)"
   ]
  },
  {
   "cell_type": "code",
   "execution_count": 134,
   "metadata": {
    "ExecuteTime": {
     "end_time": "2018-12-29T16:03:03.286863Z",
     "start_time": "2018-12-29T16:03:03.278001Z"
    }
   },
   "outputs": [],
   "source": [
    "dvoa_df = dvoa_df[dvoa_df['season'] != 2018]"
   ]
  },
  {
   "cell_type": "code",
   "execution_count": 135,
   "metadata": {
    "ExecuteTime": {
     "end_time": "2018-12-29T16:03:03.473606Z",
     "start_time": "2018-12-29T16:03:03.459197Z"
    }
   },
   "outputs": [
    {
     "data": {
      "text/plain": [
       "2015    512\n",
       "2011    512\n",
       "2007    512\n",
       "2014    512\n",
       "2010    512\n",
       "2017    512\n",
       "2013    512\n",
       "2009    512\n",
       "2016    512\n",
       "2012    512\n",
       "2008    512\n",
       "Name: season, dtype: int64"
      ]
     },
     "execution_count": 135,
     "metadata": {},
     "output_type": "execute_result"
    }
   ],
   "source": [
    "dvoa_df['season'].value_counts()"
   ]
  },
  {
   "cell_type": "code",
   "execution_count": 136,
   "metadata": {
    "ExecuteTime": {
     "end_time": "2018-12-29T16:03:03.647662Z",
     "start_time": "2018-12-29T16:03:03.632139Z"
    }
   },
   "outputs": [],
   "source": [
    "team_season = spark.table('team_season').cache()"
   ]
  },
  {
   "cell_type": "code",
   "execution_count": 137,
   "metadata": {
    "ExecuteTime": {
     "end_time": "2018-12-29T16:03:04.064048Z",
     "start_time": "2018-12-29T16:03:03.827661Z"
    }
   },
   "outputs": [],
   "source": [
    "team_season_years = set(\n",
    "    team_season\n",
    "        .groupby('season')\n",
    "        .count()\n",
    "        .toPandas()['season'].tolist()\n",
    ")\n",
    "dvoa_years = set(dvoa_df['season'].value_counts().index)\n",
    "\n",
    "## assert years perfectly overlap\n",
    "## 2018 missing from team_season_df\n",
    "assert team_season_years == dvoa_years"
   ]
  },
  {
   "cell_type": "code",
   "execution_count": 138,
   "metadata": {
    "ExecuteTime": {
     "end_time": "2018-12-29T16:03:04.389342Z",
     "start_time": "2018-12-29T16:03:04.107247Z"
    }
   },
   "outputs": [],
   "source": [
    "team_season_teams = set(\n",
    "    team_season\n",
    "        .groupby('name')\n",
    "        .count()\n",
    "        .toPandas()['name'].tolist()\n",
    ")\n",
    "dvoa_teams = set(dvoa_df['name'].value_counts().index)\n",
    "\n",
    "## assert team names perfectly overlap\n",
    "assert team_season_teams == dvoa_teams"
   ]
  },
  {
   "cell_type": "code",
   "execution_count": 139,
   "metadata": {
    "ExecuteTime": {
     "end_time": "2018-12-29T16:03:04.497702Z",
     "start_time": "2018-12-29T16:03:04.398050Z"
    },
    "run_control": {
     "marked": true
    }
   },
   "outputs": [],
   "source": [
    "#### assert that it joins cleanly with game table\n",
    "dvoa_size = dvoa_df.shape[0]\n",
    "team_season_size = team_season.count()\n",
    "\n",
    "key = ['name','season']\n",
    "join_size = dvoa_df.merge(\n",
    "    team_season.toPandas(), left_on=key, right_on=key\n",
    ").shape[0]\n",
    "\n",
    "## assert that dvoa_df hits all joins with team_season_df\n",
    "## missing 2018 in team_season_df\n",
    "assert dvoa_size == join_size"
   ]
  },
  {
   "cell_type": "code",
   "execution_count": 140,
   "metadata": {
    "ExecuteTime": {
     "end_time": "2018-12-29T16:03:04.618256Z",
     "start_time": "2018-12-29T16:03:04.503381Z"
    }
   },
   "outputs": [],
   "source": [
    "### convert % columns to floats\n",
    "import numpy as np\n",
    "\n",
    "pct_cols = [\n",
    "    'TOTAL_DAVE','WEIGHTEDDVOA','TOTALDVOA','OFFENSEDVOA','DEFENSEDVOA',\n",
    "    'S.T.DVOA','PAST_SCHED','FUTURE_SCHED','DAVE_OR_WTDDVOA','VAR'\n",
    "]\n",
    "for p in pct_cols:\n",
    "    dvoa_df[p] = dvoa_df[p].str.replace('%','').astype(float).fillna(np.nan)"
   ]
  },
  {
   "cell_type": "code",
   "execution_count": 141,
   "metadata": {
    "ExecuteTime": {
     "end_time": "2018-12-29T16:03:06.339173Z",
     "start_time": "2018-12-29T16:03:06.329596Z"
    }
   },
   "outputs": [],
   "source": [
    "## assert 32 teams\n",
    "tmp = dvoa_df['name'].value_counts()\n",
    "assert tmp.shape[0] == 32\n",
    "## assert every team plays the same amount of games\n",
    "assert tmp.max() == tmp.min()"
   ]
  },
  {
   "cell_type": "code",
   "execution_count": 142,
   "metadata": {
    "ExecuteTime": {
     "end_time": "2018-12-29T16:03:06.703293Z",
     "start_time": "2018-12-29T16:03:06.599924Z"
    }
   },
   "outputs": [],
   "source": [
    "key = ['name','season']\n",
    "\n",
    "team_names = spark.table('team').select(*(['team'] + key)).toPandas()\n",
    "before = dvoa_df.shape[0]\n",
    "dvoa_df = dvoa_df.merge(\n",
    "        team_names, left_on=key, right_on=key\n",
    "    ).drop(\n",
    "        'name', axis=1\n",
    "    )\n",
    "assert dvoa_df.shape[0] == before"
   ]
  },
  {
   "cell_type": "code",
   "execution_count": 143,
   "metadata": {
    "ExecuteTime": {
     "end_time": "2018-12-29T16:03:07.736375Z",
     "start_time": "2018-12-29T16:03:07.710991Z"
    }
   },
   "outputs": [
    {
     "data": {
      "text/plain": [
       "5632"
      ]
     },
     "execution_count": 143,
     "metadata": {},
     "output_type": "execute_result"
    },
    {
     "data": {
      "text/plain": [
       "5632"
      ]
     },
     "execution_count": 143,
     "metadata": {},
     "output_type": "execute_result"
    }
   ],
   "source": [
    "dvoa_df.shape[0]\n",
    "dvoa_df.drop_duplicates(inplace=True)\n",
    "dvoa_df.shape[0]"
   ]
  },
  {
   "cell_type": "code",
   "execution_count": 146,
   "metadata": {
    "ExecuteTime": {
     "end_time": "2018-12-29T16:04:19.786529Z",
     "start_time": "2018-12-29T16:04:19.743087Z"
    }
   },
   "outputs": [
    {
     "data": {
      "text/html": [
       "<div>\n",
       "<style scoped>\n",
       "    .dataframe tbody tr th:only-of-type {\n",
       "        vertical-align: middle;\n",
       "    }\n",
       "\n",
       "    .dataframe tbody tr th {\n",
       "        vertical-align: top;\n",
       "    }\n",
       "\n",
       "    .dataframe thead th {\n",
       "        text-align: right;\n",
       "    }\n",
       "</style>\n",
       "<table border=\"1\" class=\"dataframe\">\n",
       "  <thead>\n",
       "    <tr style=\"text-align: right;\">\n",
       "      <th></th>\n",
       "      <th>0</th>\n",
       "      <th>1</th>\n",
       "      <th>2</th>\n",
       "      <th>3</th>\n",
       "      <th>4</th>\n",
       "    </tr>\n",
       "  </thead>\n",
       "  <tbody>\n",
       "    <tr>\n",
       "      <th>team</th>\n",
       "      <td>pit</td>\n",
       "      <td>pit</td>\n",
       "      <td>pit</td>\n",
       "      <td>pit</td>\n",
       "      <td>pit</td>\n",
       "    </tr>\n",
       "    <tr>\n",
       "      <th>season</th>\n",
       "      <td>2007</td>\n",
       "      <td>2007</td>\n",
       "      <td>2007</td>\n",
       "      <td>2007</td>\n",
       "      <td>2007</td>\n",
       "    </tr>\n",
       "    <tr>\n",
       "      <th>week</th>\n",
       "      <td>1</td>\n",
       "      <td>2</td>\n",
       "      <td>3</td>\n",
       "      <td>4</td>\n",
       "      <td>5</td>\n",
       "    </tr>\n",
       "    <tr>\n",
       "      <th>WEIGHTEDDVOA</th>\n",
       "      <td>NaN</td>\n",
       "      <td>NaN</td>\n",
       "      <td>NaN</td>\n",
       "      <td>NaN</td>\n",
       "      <td>NaN</td>\n",
       "    </tr>\n",
       "    <tr>\n",
       "      <th>ESTIM.WINS</th>\n",
       "      <td>NaN</td>\n",
       "      <td>NaN</td>\n",
       "      <td>NaN</td>\n",
       "      <td>2.3</td>\n",
       "      <td>3.2</td>\n",
       "    </tr>\n",
       "    <tr>\n",
       "      <th>OFF.RANK</th>\n",
       "      <td>8</td>\n",
       "      <td>4</td>\n",
       "      <td>4</td>\n",
       "      <td>9</td>\n",
       "      <td>7</td>\n",
       "    </tr>\n",
       "    <tr>\n",
       "      <th>TOTALDVOA</th>\n",
       "      <td>92.4</td>\n",
       "      <td>82.3</td>\n",
       "      <td>79.9</td>\n",
       "      <td>34</td>\n",
       "      <td>39.4</td>\n",
       "    </tr>\n",
       "    <tr>\n",
       "      <th>OFFENSEDVOA</th>\n",
       "      <td>14.9</td>\n",
       "      <td>28.6</td>\n",
       "      <td>31.5</td>\n",
       "      <td>8.9</td>\n",
       "      <td>12.4</td>\n",
       "    </tr>\n",
       "    <tr>\n",
       "      <th>LASTWEEK</th>\n",
       "      <td>NaN</td>\n",
       "      <td>1</td>\n",
       "      <td>2</td>\n",
       "      <td>2</td>\n",
       "      <td>5</td>\n",
       "    </tr>\n",
       "    <tr>\n",
       "      <th>FUTURE_SCHED</th>\n",
       "      <td>NaN</td>\n",
       "      <td>NaN</td>\n",
       "      <td>NaN</td>\n",
       "      <td>-0.1</td>\n",
       "      <td>-0.5</td>\n",
       "    </tr>\n",
       "    <tr>\n",
       "      <th>TOTAL_DAVE</th>\n",
       "      <td>18.4</td>\n",
       "      <td>28.2</td>\n",
       "      <td>41.5</td>\n",
       "      <td>24.4</td>\n",
       "      <td>29.5</td>\n",
       "    </tr>\n",
       "    <tr>\n",
       "      <th>S.T.RANK</th>\n",
       "      <td>8</td>\n",
       "      <td>10</td>\n",
       "      <td>3</td>\n",
       "      <td>14</td>\n",
       "      <td>16</td>\n",
       "    </tr>\n",
       "    <tr>\n",
       "      <th>DEF.RANK</th>\n",
       "      <td>1</td>\n",
       "      <td>1</td>\n",
       "      <td>1</td>\n",
       "      <td>1</td>\n",
       "      <td>2</td>\n",
       "    </tr>\n",
       "    <tr>\n",
       "      <th>DEFENSEDVOA</th>\n",
       "      <td>-69.6</td>\n",
       "      <td>-50</td>\n",
       "      <td>-38.1</td>\n",
       "      <td>-22.8</td>\n",
       "      <td>-26.7</td>\n",
       "    </tr>\n",
       "    <tr>\n",
       "      <th>PAST_SCHED</th>\n",
       "      <td>NaN</td>\n",
       "      <td>NaN</td>\n",
       "      <td>NaN</td>\n",
       "      <td>-15.5</td>\n",
       "      <td>-10.9</td>\n",
       "    </tr>\n",
       "    <tr>\n",
       "      <th>DAVE_OR_WTDDVOA</th>\n",
       "      <td>18.4</td>\n",
       "      <td>28.2</td>\n",
       "      <td>41.5</td>\n",
       "      <td>24.4</td>\n",
       "      <td>29.5</td>\n",
       "    </tr>\n",
       "    <tr>\n",
       "      <th>VAR</th>\n",
       "      <td>NaN</td>\n",
       "      <td>NaN</td>\n",
       "      <td>NaN</td>\n",
       "      <td>46.5</td>\n",
       "      <td>39.2</td>\n",
       "    </tr>\n",
       "    <tr>\n",
       "      <th>S.T.DVOA</th>\n",
       "      <td>7.8</td>\n",
       "      <td>3.6</td>\n",
       "      <td>10.3</td>\n",
       "      <td>2.3</td>\n",
       "      <td>0.2</td>\n",
       "    </tr>\n",
       "    <tr>\n",
       "      <th>W-L</th>\n",
       "      <td>1-0</td>\n",
       "      <td>2-0</td>\n",
       "      <td>3-0</td>\n",
       "      <td>3-1</td>\n",
       "      <td>4-1</td>\n",
       "    </tr>\n",
       "  </tbody>\n",
       "</table>\n",
       "</div>"
      ],
      "text/plain": [
       "                    0     1     2     3     4\n",
       "team              pit   pit   pit   pit   pit\n",
       "season           2007  2007  2007  2007  2007\n",
       "week                1     2     3     4     5\n",
       "WEIGHTEDDVOA      NaN   NaN   NaN   NaN   NaN\n",
       "ESTIM.WINS        NaN   NaN   NaN   2.3   3.2\n",
       "OFF.RANK            8     4     4     9     7\n",
       "TOTALDVOA        92.4  82.3  79.9    34  39.4\n",
       "OFFENSEDVOA      14.9  28.6  31.5   8.9  12.4\n",
       "LASTWEEK          NaN     1     2     2     5\n",
       "FUTURE_SCHED      NaN   NaN   NaN  -0.1  -0.5\n",
       "TOTAL_DAVE       18.4  28.2  41.5  24.4  29.5\n",
       "S.T.RANK            8    10     3    14    16\n",
       "DEF.RANK            1     1     1     1     2\n",
       "DEFENSEDVOA     -69.6   -50 -38.1 -22.8 -26.7\n",
       "PAST_SCHED        NaN   NaN   NaN -15.5 -10.9\n",
       "DAVE_OR_WTDDVOA  18.4  28.2  41.5  24.4  29.5\n",
       "VAR               NaN   NaN   NaN  46.5  39.2\n",
       "S.T.DVOA          7.8   3.6  10.3   2.3   0.2\n",
       "W-L               1-0   2-0   3-0   3-1   4-1"
      ]
     },
     "execution_count": 146,
     "metadata": {},
     "output_type": "execute_result"
    }
   ],
   "source": [
    "cols = ['team','season','week']\n",
    "cols_rest = list(set(dvoa_df.columns) - set(cols))\n",
    "\n",
    "dvoa_df = dvoa_df[cols + cols_rest]\n",
    "\n",
    "dvoa_df.head().T"
   ]
  },
  {
   "cell_type": "code",
   "execution_count": 147,
   "metadata": {
    "ExecuteTime": {
     "end_time": "2018-12-29T16:04:34.760482Z",
     "start_time": "2018-12-29T16:04:32.988152Z"
    }
   },
   "outputs": [],
   "source": [
    "spark.createDataFrame(\n",
    "    cast_dtypes(dvoa_df)\n",
    ").write.mode('overwrite').mode('overwrite').saveAsTable('dvoa')"
   ]
  },
  {
   "cell_type": "markdown",
   "metadata": {},
   "source": [
    "### Examples of quick plotting via spark tables"
   ]
  },
  {
   "cell_type": "code",
   "execution_count": null,
   "metadata": {
    "ExecuteTime": {
     "end_time": "2018-12-29T15:54:43.223518Z",
     "start_time": "2018-12-29T15:53:12.365Z"
    }
   },
   "outputs": [],
   "source": [
    "spark.table('line')\\\n",
    "    .groupby('Close_Spread')\\\n",
    "    .count()\\\n",
    "    .toPandas()\\\n",
    "    .set_index('Close_Spread')\\\n",
    "    .sort_index()\\\n",
    "    .plot(\n",
    "        kind='bar', figsize=(16,8), color='#99d8c9', rot=0,\n",
    "        title='Counts of Spread Magnitude'\n",
    "    )"
   ]
  },
  {
   "cell_type": "code",
   "execution_count": null,
   "metadata": {
    "ExecuteTime": {
     "end_time": "2018-12-29T15:54:43.226450Z",
     "start_time": "2018-12-29T15:53:12.372Z"
    }
   },
   "outputs": [],
   "source": [
    "spark.table('line')\\\n",
    "    .groupby('Close_Spread')\\\n",
    "    .pivot('Close_Fav')\\\n",
    "    .count()\\\n",
    "    .toPandas()\\\n",
    "    .set_index('Close_Spread')\\\n",
    "    .sort_index()\\\n",
    "    .plot(\n",
    "        kind='bar', figsize=(16,8), color=['#af8dc3','#7fbf7b'], rot=0,\n",
    "        title='Distributions of Home and Away Spreads'\n",
    "    )"
   ]
  },
  {
   "cell_type": "code",
   "execution_count": null,
   "metadata": {},
   "outputs": [],
   "source": []
  },
  {
   "cell_type": "code",
   "execution_count": null,
   "metadata": {},
   "outputs": [],
   "source": []
  },
  {
   "cell_type": "code",
   "execution_count": null,
   "metadata": {},
   "outputs": [],
   "source": []
  }
 ],
 "metadata": {
  "kernelspec": {
   "display_name": "Python 2",
   "language": "python",
   "name": "python2"
  },
  "language_info": {
   "codemirror_mode": {
    "name": "ipython",
    "version": 2
   },
   "file_extension": ".py",
   "mimetype": "text/x-python",
   "name": "python",
   "nbconvert_exporter": "python",
   "pygments_lexer": "ipython2",
   "version": "2.7.15"
  },
  "toc": {
   "base_numbering": 1,
   "nav_menu": {},
   "number_sections": true,
   "sideBar": true,
   "skip_h1_title": false,
   "title_cell": "Table of Contents",
   "title_sidebar": "Contents",
   "toc_cell": false,
   "toc_position": {
    "height": "calc(100% - 180px)",
    "left": "10px",
    "top": "150px",
    "width": "406px"
   },
   "toc_section_display": true,
   "toc_window_display": true
  }
 },
 "nbformat": 4,
 "nbformat_minor": 2
}
