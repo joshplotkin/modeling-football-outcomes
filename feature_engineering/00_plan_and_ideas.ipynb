{
 "cells": [
  {
   "cell_type": "code",
   "execution_count": 1,
   "metadata": {
    "ExecuteTime": {
     "end_time": "2019-01-18T03:04:51.161940Z",
     "start_time": "2019-01-18T03:04:45.551263Z"
    }
   },
   "outputs": [
    {
     "data": {
      "text/html": [
       "<style>.container {width:90% !important;}</style>"
      ],
      "text/plain": [
       "<IPython.core.display.HTML object>"
      ]
     },
     "metadata": {},
     "output_type": "display_data"
    }
   ],
   "source": [
    "%run ../initialize.ipynb"
   ]
  },
  {
   "cell_type": "markdown",
   "metadata": {},
   "source": [
    "## Feature Engineering Strategy\n",
    "* start simple -- get quick wins\n",
    "* use model pipeline to get feedback\n",
    "* run POCs on feature types; don't get stuck in rabbit holes\n",
    "* size of net to cast depends on data\n",
    " * if you have 10 positive examples, and develop 1 million features and perform feature selection, you will inevitably find some features that fit the data.\n",
    " * if you have 1M positive examples, you can cast a very wide net.\n",
    " * 2007-2017 has 2937 games, roughly 1450 positive labels. care must be taken not to overfit.\n",
    " * keeping a holdout set to use in only rare circumstances is one way to do this, at the cost of training on fewer positive labels.\n",
    "* the same or similar features can work on regression or classification, but predicting games vs. predicting scores will need different features"
   ]
  },
  {
   "cell_type": "markdown",
   "metadata": {},
   "source": [
    "## Things to predict\n",
    "* won\n",
    "* covered spread\n",
    "* over\n",
    "* score differential\n",
    "* team points\n",
    "* score"
   ]
  },
  {
   "cell_type": "markdown",
   "metadata": {},
   "source": [
    "## Tables\n",
    "* Source\n",
    " * labels.over_under_labels\n",
    " * labels.team_game_line_labels\n",
    "\n",
    "* Derived"
   ]
  },
  {
   "cell_type": "markdown",
   "metadata": {},
   "source": [
    "## Features"
   ]
  },
  {
   "cell_type": "markdown",
   "metadata": {},
   "source": [
    "### Rankings"
   ]
  },
  {
   "cell_type": "markdown",
   "metadata": {},
   "source": [
    "### General\n",
    "\n",
    "### Priorities Legend\n",
    "* &#x1F6A8;\t - high priority\n",
    "* &#x23F8; - medium priority\n",
    "* &#x270B; - low priority\n",
    "* &#x23F3; - waiting on data\n",
    "* &#x1F6A7;\t - started\n",
    "* &#x2714; - completed\n",
    "\n",
    "### Rankings\n",
    "* Dimensions\n",
    " * Overall\n",
    " * Offense\n",
    "   * passing\n",
    "   * rushing\n",
    " * Defense\n",
    " * Special Teams\n",
    "* &#x23F8; DVOA rankings comparisons between 2 teams\n",
    "\n",
    "### Stats\n",
    " * &#x23F8; TDs\n",
    " * &#x23F8; points\n",
    " * &#x23F8; yards, ypa, ypc, etc.\n",
    " * &#x23F8; turnovers\n",
    " * &#x23F8; time of possession\n",
    " * &#x270B; yards\n",
    " * &#x270B; kicker FG%/PAT% recently vs. that season's average\n",
    " * &#x23F3; advanced\n",
    "\n",
    "### Time\n",
    "* &#x2714; time of day -- raw (tree can split on primetime)\n",
    "* &#x2714; day of week -- raw\n",
    " * very sparse other than Sunday. Sunday/not Sunday?\n",
    "* &#x2714; is playoffs\n",
    "* &#x2714; week # -- raw\n",
    "* &#x23F8; days since last game\n",
    "* &#x23F8; timezone change for each team\n",
    "* &#x270B; team's body clock start time (start time relative to last week's timezone)\n",
    "* &#x270B; patterns, e.g. team 2nd straight week of 10am body time\n",
    "* &#x1F44E;\tshould season not be a feature? since it can include games afterwards. if one year has 60% and another year has 50%... given I know it's in the 60% year, I know you'll win 60%... since there don't appear to be a lot of time trends in the initial exploration, I won't use season\n",
    "\n",
    "### Teams (both teams)\n",
    "* &#x2714; winrate last 5, YTD, last 16, last 3 years, etc.\n",
    "* &#x2714; cover rate last 5, YTD, ...\n",
    "* &#x23F8; winrate as favorite/underdog last 5, YTD, etc.\n",
    "* &#x23F8; recent scores (lot of shootouts recently?)\n",
    "* &#x23F8; smoothed winrates/cover rates\n",
    " * this will help regress 1-0, 2-0, 0-1, etc. type records to closer to 0.5\n",
    "* &#x270B; fanbase size, average attendance, etc.\n",
    "* &#x270B; ages (median, mean)\n",
    "* &#x270B; how does age interact with week # (do older teams tire?)\n",
    "\n",
    "### Standings\n",
    "* &#x270B; playoff situation\n",
    "* &#x270B; is one team tanking?\n",
    "\n",
    "### Matchup\n",
    "* &#x2714; is intra-division\n",
    "* &#x2714; is intra-conference\n",
    "* &#x2714; head-to-head record recent history\n",
    "* &#x270B; recent record vs. similar team\n",
    "* &#x270B; TE vs. TE coverage, net rating\n",
    "* &#x23F3; *eventually get scheme data*\n",
    "\n",
    "### Coach\n",
    "* &#x270B; coach head-to-head\n",
    "* &#x270B; coach record\n",
    "* &#x270B; team vs. coach\n",
    "\n",
    "### Travel\n",
    "* &#x2714; travel from last game\n",
    "* &#x2714; distance from home stadium\n",
    "* &#x2714; travel distance from last game, decayed by time (cross-country in 10 days is not as bad as 5)\n",
    "* &#x23F8; Sum of travel last 3, 5 games; sum of distance from home; sum of timezone changes\n",
    "* &#x23F8; Sum of consecutive distances (multiplied by repeats?), to raise for multiple games in a row\n",
    "* Convolution of travel\n",
    "\n",
    "### Home/Visitor\n",
    "* &#x1F6A8; binary H/V\n",
    "* &#x1F6A8; consecutive home/away games\n",
    "* &#x1F6A8; road games last 4 weeks\n",
    "* &#x1F6A8; home/away record\n",
    "* &#x1F6A8; home/away record ATS\n",
    "* &#x270B; this team's home field. net H/V record recently?\n",
    "\n",
    "### Injuries\n",
    "* &#x23F3; key injuries by position/snaps played\n",
    "* &#x23F3; number of snaps missing?\n",
    "* &#x23F3; new injuries (serious injuries could counter features indicating recent success)\n",
    "\n",
    "### Players\n",
    "* &#x23F3; need additional datasets for most of these\n",
    "* &#x23F3; *QB's QBR/DVOA last 5, 16, 32 games, etc*\n",
    "* &#x23F3; position players' rankings\n",
    "\n",
    "### Spread\n",
    "* &#x1F6A8; raw spread\n",
    "* &#x23F8; team's records in games with roughly this spread\n",
    "* &#x23F8; historic cover rate at this spread\n",
    "\n",
    "### Weather\n",
    "* &#x1F6A8; temperature\n",
    "* &#x1F6A8; is_precipitation\n",
    "* &#x1F6A8; is_snow\n",
    "* &#x23F8; others?\n"
   ]
  },
  {
   "cell_type": "markdown",
   "metadata": {},
   "source": [
    "### Questions\n",
    "* how to handle the \"this team\" vs. \"opponent\" aspect, e.g. rankings\n",
    " * net difference? \n",
    " * keep them separate?\n",
    " * proxy for the net difference, e.g. how they fared recently\n",
    "* how to get differences for things\n",
    " * maybe the difference from 1-16 is bigger than 17-32\n",
    " * could do some sort of binning of similar matchups\n"
   ]
  },
  {
   "cell_type": "code",
   "execution_count": null,
   "metadata": {},
   "outputs": [],
   "source": []
  }
 ],
 "metadata": {
  "kernelspec": {
   "display_name": "Python 2",
   "language": "python",
   "name": "python2"
  },
  "language_info": {
   "codemirror_mode": {
    "name": "ipython",
    "version": 2
   },
   "file_extension": ".py",
   "mimetype": "text/x-python",
   "name": "python",
   "nbconvert_exporter": "python",
   "pygments_lexer": "ipython2",
   "version": "2.7.15"
  },
  "toc": {
   "base_numbering": 1,
   "nav_menu": {},
   "number_sections": true,
   "sideBar": true,
   "skip_h1_title": false,
   "title_cell": "Table of Contents",
   "title_sidebar": "Contents",
   "toc_cell": false,
   "toc_position": {},
   "toc_section_display": true,
   "toc_window_display": false
  }
 },
 "nbformat": 4,
 "nbformat_minor": 2
}
