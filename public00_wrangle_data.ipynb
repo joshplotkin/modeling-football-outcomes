{
 "cells": [
  {
   "cell_type": "markdown",
   "metadata": {},
   "source": [
    "### Sourcing/scraping data\n",
    "* identify data sources\n",
    "* scrape data\n",
    "    * [x] Injuries: https://www.pro-football-reference.com/teams/nyg/2011_injuries.htm\n",
    "    * [x] Weekly DVOA: https://www.footballoutsiders.com/dvoa-ratings/2011/week-1-dvoa-ratings\n",
    "    * [x] Historical lines/scores: http://www.sportsbookreviewsonline.com/scoresoddsarchives/nfl/nfloddsarchives.htm\n",
    "    * [x] Play-by-play?: used F-REF (needs to be parsed) but backup link: http://nflsavant.com/about.php\n",
    "    * [x] Historical weather: used F-REF but backup link: http://www.nflweather.com/en/week/2014/Week-5/\n",
    "    * [x] Snap counts (could be helpful with injuries): https://www.footballoutsiders.com/stats/snapcounts\n",
    "    * [x] Head coach info (# wins, winning %, age)\n",
    "    * [x] Weekly stats -- player/team: https://www.pro-football-reference.com/play-index/pgl_finder.cgi?request=1&match=game&year_min=2017&year_max=2017&season_start=1&season_end=-1&age_min=0&age_max=99&game_type=A&league_id=&team_id=&opp_id=&game_num_min=0&game_num_max=99&week_num_min=2&week_num_max=2&game_day_of_week=&game_location=&game_result=&handedness=&is_active=&is_hof=&c1stat=pass_att&c1comp=gt&c1val=1&c2stat=&c2comp=gt&c2val=&c3stat=&c3comp=gt&c3val=&c4stat=&c4comp=gt&c4val=&order_by=pass_rating&from_link=1\n",
    "    * [x] division/conference\n",
    "    * [x] travel data between teams, or timezone of location (timezone change and direction of change)\n",
    "    * [] timezones\n",
    "    * NFL API: http://www.nfl.com/liveupdate/game-center/2016010310/2016010310_gtd.json\n",
    "\n"
   ]
  },
  {
   "cell_type": "code",
   "execution_count": 1,
   "metadata": {
    "ExecuteTime": {
     "end_time": "2018-11-06T20:21:53.612461Z",
     "start_time": "2018-11-06T20:21:53.600309Z"
    }
   },
   "outputs": [],
   "source": [
    "from IPython.core.interactiveshell import InteractiveShell \n",
    "InteractiveShell.ast_node_interactivity = \"all\""
   ]
  },
  {
   "cell_type": "code",
   "execution_count": 157,
   "metadata": {
    "ExecuteTime": {
     "end_time": "2018-11-08T17:17:32.350810Z",
     "start_time": "2018-11-08T17:17:32.328199Z"
    }
   },
   "outputs": [],
   "source": [
    "from __future__ import division\n",
    "from bs4 import BeautifulSoup\n",
    "from collections import OrderedDict\n",
    "from datetime import date\n",
    "from datetime import datetime\n",
    "import json\n",
    "import math\n",
    "import os\n",
    "from pandas import *\n",
    "import requests\n",
    "from selenium import webdriver\n",
    "from time import sleep\n",
    "import wikipedia\n",
    "\n",
    "import sys\n",
    "stdout = sys.stdout\n",
    "reload(sys)\n",
    "sys.setdefaultencoding('utf-8')\n",
    "sys.stdout = stdout\n",
    "\n",
    "options.display.max_rows = 500"
   ]
  },
  {
   "cell_type": "code",
   "execution_count": 158,
   "metadata": {
    "ExecuteTime": {
     "end_time": "2018-11-08T17:17:32.563698Z",
     "start_time": "2018-11-08T17:17:32.538158Z"
    }
   },
   "outputs": [],
   "source": [
    "class ScrapeTools:\n",
    "    '''class to handle opening a webpage using selenium\n",
    "    and return a BeautifulSoup object for data extraction'''\n",
    "    def __init__(self):\n",
    "        pass\n",
    "    \n",
    "    def get_driver(self):\n",
    "        chrome_options = webdriver.ChromeOptions()\n",
    "        chrome_options.add_argument(\"--incognito\")\n",
    "\n",
    "        return webdriver.Chrome('/tmp/chromedriver'\n",
    "                                  , chrome_options=chrome_options)        \n",
    "    \n",
    "    def get_soup(self, url, driver=None):\n",
    "        if not driver:\n",
    "            driver = self.get_driver()\n",
    "        driver.get(url)\n",
    "        r = driver.page_source\n",
    "        return BeautifulSoup(r, 'lxml')"
   ]
  },
  {
   "cell_type": "code",
   "execution_count": 1,
   "metadata": {
    "ExecuteTime": {
     "end_time": "2018-11-19T03:02:02.089551Z",
     "start_time": "2018-11-19T03:02:02.076882Z"
    }
   },
   "outputs": [],
   "source": [
    "DATA_DIR = '../football_data/'"
   ]
  },
  {
   "cell_type": "markdown",
   "metadata": {},
   "source": [
    "### Team ID Mapping for pro football-reference:\n",
    "* https://www.pro-football-reference.com/teams/"
   ]
  },
  {
   "cell_type": "code",
   "execution_count": 194,
   "metadata": {
    "ExecuteTime": {
     "end_time": "2018-11-08T21:46:45.006770Z",
     "start_time": "2018-11-08T21:46:40.054833Z"
    }
   },
   "outputs": [],
   "source": [
    "driver = ScrapeTools().get_driver()\n",
    "url = 'https://www.pro-football-reference.com/teams/'\n",
    "soup = ScrapeTools().get_soup(url, driver)\n",
    "\n",
    "pfr_teams = {}\n",
    "for tbl in soup.findAll('table', {'id': 'teams_active'}):\n",
    "    tbl = tbl.findAll('tbody')[0]\n",
    "    for row in tbl.findAll('tr'):\n",
    "        for team in row.findAll('th'):\n",
    "            for a in team.findAll('a'):\n",
    "                pfr_teams[a.attrs['href'].split('/')[2]] = a.text"
   ]
  },
  {
   "cell_type": "code",
   "execution_count": 195,
   "metadata": {
    "ExecuteTime": {
     "end_time": "2018-11-08T21:46:45.025629Z",
     "start_time": "2018-11-08T21:46:45.010446Z"
    },
    "scrolled": true
   },
   "outputs": [
    {
     "data": {
      "text/plain": [
       "{'atl': u'Atlanta Falcons',\n",
       " 'buf': u'Buffalo Bills',\n",
       " 'car': u'Carolina Panthers',\n",
       " 'chi': u'Chicago Bears',\n",
       " 'cin': u'Cincinnati Bengals',\n",
       " 'cle': u'Cleveland Browns',\n",
       " 'clt': u'Indianapolis Colts',\n",
       " 'crd': u'Arizona Cardinals',\n",
       " 'dal': u'Dallas Cowboys',\n",
       " 'den': u'Denver Broncos',\n",
       " 'det': u'Detroit Lions',\n",
       " 'gnb': u'Green Bay Packers',\n",
       " 'htx': u'Houston Texans',\n",
       " 'jax': u'Jacksonville Jaguars',\n",
       " 'kan': u'Kansas City Chiefs',\n",
       " 'mia': u'Miami Dolphins',\n",
       " 'min': u'Minnesota Vikings',\n",
       " 'nor': u'New Orleans Saints',\n",
       " 'nwe': u'New England Patriots',\n",
       " 'nyg': u'New York Giants',\n",
       " 'nyj': u'New York Jets',\n",
       " 'oti': u'Tennessee Titans',\n",
       " 'phi': u'Philadelphia Eagles',\n",
       " 'pit': u'Pittsburgh Steelers',\n",
       " 'rai': u'Oakland Raiders',\n",
       " 'ram': u'Los Angeles Rams',\n",
       " 'rav': u'Baltimore Ravens',\n",
       " 'sdg': u'Los Angeles Chargers',\n",
       " 'sea': u'Seattle Seahawks',\n",
       " 'sfo': u'San Francisco 49ers',\n",
       " 'tam': u'Tampa Bay Buccaneers',\n",
       " 'was': u'Washington Redskins'}"
      ]
     },
     "execution_count": 195,
     "metadata": {},
     "output_type": "execute_result"
    }
   ],
   "source": [
    "pfr_teams"
   ]
  },
  {
   "cell_type": "markdown",
   "metadata": {},
   "source": [
    "### Injuries on PF-R"
   ]
  },
  {
   "cell_type": "code",
   "execution_count": 196,
   "metadata": {
    "ExecuteTime": {
     "end_time": "2018-11-08T21:46:46.509173Z",
     "start_time": "2018-11-08T21:46:46.447528Z"
    }
   },
   "outputs": [],
   "source": [
    "def get_injury_team_year(team, year, driver):\n",
    "    '''scrape football-reference for injury info:\n",
    "    '''\n",
    "    i = 0\n",
    "    url = 'https://www.pro-football-reference.com/teams/{}/{}_injuries.htm'\\\n",
    "                .format(team, year)\n",
    "    soup = ScrapeTools().get_soup(url, driver)\n",
    "\n",
    "    tbl = soup.findAll('div', {'id':'div_team_injuries'})[0]\n",
    "    tbl = tbl.findAll('tbody')[0]\n",
    "\n",
    "    def get_status(col):\n",
    "        status = col.attrs['class'][2:]\n",
    "        if len(status) == 0:\n",
    "            return ['A', False]\n",
    "        elif len(status) == 1:\n",
    "            return [status[0], False]\n",
    "        else:\n",
    "            return [status[0], True]\n",
    "\n",
    "    def get_injury(col):\n",
    "        if 'data-tip' in col.attrs.keys():\n",
    "            return col.attrs['data-tip'].split(': ')[-1]\n",
    "        else:\n",
    "            return ''\n",
    "\n",
    "    players = {}\n",
    "    for row in tbl.findAll('tr'):\n",
    "        for th in row.findAll('th'):\n",
    "            if 'data-append-csv' not in th.attrs.keys():\n",
    "                return None\n",
    "            pid = th.attrs['data-append-csv']\n",
    "            name = th.text\n",
    "        for col in row.findAll('td'):\n",
    "            status, dnp = get_status(col)\n",
    "\n",
    "            week = int(col.attrs['data-stat'].split('_')[-1])\n",
    "            inj = get_injury(col)\n",
    "            players[i] = {\n",
    "                'pid': pid,\n",
    "                'status': status, \n",
    "                'dnp': dnp, \n",
    "                'inj': inj,\n",
    "                'name': name,\n",
    "                'team': team,\n",
    "                'week': week, \n",
    "                'year': year\n",
    "            }\n",
    "            i += 1\n",
    "\n",
    "    return DataFrame.from_dict(players, orient='index')"
   ]
  },
  {
   "cell_type": "code",
   "execution_count": 201,
   "metadata": {
    "ExecuteTime": {
     "end_time": "2018-11-08T22:00:40.866021Z",
     "start_time": "2018-11-08T21:59:48.723635Z"
    }
   },
   "outputs": [],
   "source": [
    "first = False\n",
    "for team in pfr_teams.keys():\n",
    "    for year in np.arange(2018,2019):\n",
    "        df = get_injury_team_year(team, year, driver)\n",
    "        if df is not None:\n",
    "            if first is True:\n",
    "                injuries = df\n",
    "                first = False\n",
    "            else:\n",
    "                injuries = injuries.append(df).reset_index(drop=True)"
   ]
  },
  {
   "cell_type": "code",
   "execution_count": 202,
   "metadata": {
    "ExecuteTime": {
     "end_time": "2018-11-08T22:01:34.633987Z",
     "start_time": "2018-11-08T22:01:34.605097Z"
    }
   },
   "outputs": [
    {
     "name": "stdout",
     "output_type": "stream",
     "text": [
      "(167208, 8)\n"
     ]
    },
    {
     "data": {
      "text/html": [
       "<div>\n",
       "<style scoped>\n",
       "    .dataframe tbody tr th:only-of-type {\n",
       "        vertical-align: middle;\n",
       "    }\n",
       "\n",
       "    .dataframe tbody tr th {\n",
       "        vertical-align: top;\n",
       "    }\n",
       "\n",
       "    .dataframe thead th {\n",
       "        text-align: right;\n",
       "    }\n",
       "</style>\n",
       "<table border=\"1\" class=\"dataframe\">\n",
       "  <thead>\n",
       "    <tr style=\"text-align: right;\">\n",
       "      <th></th>\n",
       "      <th>status</th>\n",
       "      <th>week</th>\n",
       "      <th>dnp</th>\n",
       "      <th>inj</th>\n",
       "      <th>team</th>\n",
       "      <th>year</th>\n",
       "      <th>pid</th>\n",
       "      <th>name</th>\n",
       "    </tr>\n",
       "  </thead>\n",
       "  <tbody>\n",
       "    <tr>\n",
       "      <th>0</th>\n",
       "      <td>A</td>\n",
       "      <td>1</td>\n",
       "      <td>False</td>\n",
       "      <td></td>\n",
       "      <td>Los Angeles Rams</td>\n",
       "      <td>2011</td>\n",
       "      <td>AhYoC.00</td>\n",
       "      <td>C.J. Ah You</td>\n",
       "    </tr>\n",
       "    <tr>\n",
       "      <th>1</th>\n",
       "      <td>out</td>\n",
       "      <td>2</td>\n",
       "      <td>True</td>\n",
       "      <td>wrist</td>\n",
       "      <td>Los Angeles Rams</td>\n",
       "      <td>2011</td>\n",
       "      <td>AhYoC.00</td>\n",
       "      <td>C.J. Ah You</td>\n",
       "    </tr>\n",
       "    <tr>\n",
       "      <th>2</th>\n",
       "      <td>questionable</td>\n",
       "      <td>3</td>\n",
       "      <td>True</td>\n",
       "      <td>wrist</td>\n",
       "      <td>Los Angeles Rams</td>\n",
       "      <td>2011</td>\n",
       "      <td>AhYoC.00</td>\n",
       "      <td>C.J. Ah You</td>\n",
       "    </tr>\n",
       "    <tr>\n",
       "      <th>3</th>\n",
       "      <td>A</td>\n",
       "      <td>4</td>\n",
       "      <td>False</td>\n",
       "      <td></td>\n",
       "      <td>Los Angeles Rams</td>\n",
       "      <td>2011</td>\n",
       "      <td>AhYoC.00</td>\n",
       "      <td>C.J. Ah You</td>\n",
       "    </tr>\n",
       "    <tr>\n",
       "      <th>4</th>\n",
       "      <td>A</td>\n",
       "      <td>6</td>\n",
       "      <td>False</td>\n",
       "      <td></td>\n",
       "      <td>Los Angeles Rams</td>\n",
       "      <td>2011</td>\n",
       "      <td>AhYoC.00</td>\n",
       "      <td>C.J. Ah You</td>\n",
       "    </tr>\n",
       "  </tbody>\n",
       "</table>\n",
       "</div>"
      ],
      "text/plain": [
       "         status  week    dnp    inj              team  year       pid  \\\n",
       "0             A     1  False         Los Angeles Rams  2011  AhYoC.00   \n",
       "1           out     2   True  wrist  Los Angeles Rams  2011  AhYoC.00   \n",
       "2  questionable     3   True  wrist  Los Angeles Rams  2011  AhYoC.00   \n",
       "3             A     4  False         Los Angeles Rams  2011  AhYoC.00   \n",
       "4             A     6  False         Los Angeles Rams  2011  AhYoC.00   \n",
       "\n",
       "          name  \n",
       "0  C.J. Ah You  \n",
       "1  C.J. Ah You  \n",
       "2  C.J. Ah You  \n",
       "3  C.J. Ah You  \n",
       "4  C.J. Ah You  "
      ]
     },
     "execution_count": 202,
     "metadata": {},
     "output_type": "execute_result"
    }
   ],
   "source": [
    "print injuries.shape\n",
    "injuries.head()"
   ]
  },
  {
   "cell_type": "code",
   "execution_count": 203,
   "metadata": {
    "ExecuteTime": {
     "end_time": "2018-11-08T22:02:08.388689Z",
     "start_time": "2018-11-08T22:02:08.311650Z"
    }
   },
   "outputs": [],
   "source": [
    "injuries['team'] = injuries['team'].map(pfr_teams)"
   ]
  },
  {
   "cell_type": "code",
   "execution_count": 204,
   "metadata": {
    "ExecuteTime": {
     "end_time": "2018-11-08T22:02:16.899593Z",
     "start_time": "2018-11-08T22:02:16.252676Z"
    }
   },
   "outputs": [],
   "source": [
    "injuries.to_csv('all_injuries.csv'.format(DATA_DIR))"
   ]
  },
  {
   "cell_type": "markdown",
   "metadata": {},
   "source": [
    "### Historical Lines:\n",
    "* SBR has a horrible data format. lines and O/U are inconsistent\n",
    " * ML will indicate who is the favorite (open or close?)\n",
    " * lower of 2H is the spread; higher is the O/U\n",
    " * open/close have 4 combos. take max open and max close"
   ]
  },
  {
   "cell_type": "code",
   "execution_count": 5,
   "metadata": {
    "ExecuteTime": {
     "end_time": "2018-09-10T04:02:09.629628Z",
     "start_time": "2018-09-10T04:02:08.735709Z"
    }
   },
   "outputs": [
    {
     "data": {
      "text/html": [
       "<div>\n",
       "<style scoped>\n",
       "    .dataframe tbody tr th:only-of-type {\n",
       "        vertical-align: middle;\n",
       "    }\n",
       "\n",
       "    .dataframe tbody tr th {\n",
       "        vertical-align: top;\n",
       "    }\n",
       "\n",
       "    .dataframe thead th {\n",
       "        text-align: right;\n",
       "    }\n",
       "</style>\n",
       "<table border=\"1\" class=\"dataframe\">\n",
       "  <thead>\n",
       "    <tr style=\"text-align: right;\">\n",
       "      <th></th>\n",
       "      <th>Date</th>\n",
       "      <th>Rot</th>\n",
       "      <th>VH</th>\n",
       "      <th>Team</th>\n",
       "      <th>1st</th>\n",
       "      <th>2nd</th>\n",
       "      <th>3rd</th>\n",
       "      <th>4th</th>\n",
       "      <th>Final</th>\n",
       "      <th>Open</th>\n",
       "      <th>Close</th>\n",
       "      <th>ML</th>\n",
       "      <th>2H</th>\n",
       "    </tr>\n",
       "  </thead>\n",
       "  <tbody>\n",
       "    <tr>\n",
       "      <th>0</th>\n",
       "      <td>907</td>\n",
       "      <td>451</td>\n",
       "      <td>V</td>\n",
       "      <td>KansasCity</td>\n",
       "      <td>7</td>\n",
       "      <td>7</td>\n",
       "      <td>7</td>\n",
       "      <td>21</td>\n",
       "      <td>42</td>\n",
       "      <td>48</td>\n",
       "      <td>47.5</td>\n",
       "      <td>371</td>\n",
       "      <td>25.5</td>\n",
       "    </tr>\n",
       "    <tr>\n",
       "      <th>1</th>\n",
       "      <td>907</td>\n",
       "      <td>452</td>\n",
       "      <td>H</td>\n",
       "      <td>NewEngland</td>\n",
       "      <td>7</td>\n",
       "      <td>10</td>\n",
       "      <td>10</td>\n",
       "      <td>0</td>\n",
       "      <td>27</td>\n",
       "      <td>7</td>\n",
       "      <td>8</td>\n",
       "      <td>-480</td>\n",
       "      <td>4.5</td>\n",
       "    </tr>\n",
       "    <tr>\n",
       "      <th>2</th>\n",
       "      <td>910</td>\n",
       "      <td>453</td>\n",
       "      <td>V</td>\n",
       "      <td>NYJets</td>\n",
       "      <td>0</td>\n",
       "      <td>6</td>\n",
       "      <td>6</td>\n",
       "      <td>0</td>\n",
       "      <td>12</td>\n",
       "      <td>43</td>\n",
       "      <td>42</td>\n",
       "      <td>317</td>\n",
       "      <td>21</td>\n",
       "    </tr>\n",
       "    <tr>\n",
       "      <th>3</th>\n",
       "      <td>910</td>\n",
       "      <td>454</td>\n",
       "      <td>H</td>\n",
       "      <td>Buffalo</td>\n",
       "      <td>0</td>\n",
       "      <td>7</td>\n",
       "      <td>7</td>\n",
       "      <td>7</td>\n",
       "      <td>21</td>\n",
       "      <td>6</td>\n",
       "      <td>7</td>\n",
       "      <td>-400</td>\n",
       "      <td>5</td>\n",
       "    </tr>\n",
       "    <tr>\n",
       "      <th>4</th>\n",
       "      <td>910</td>\n",
       "      <td>455</td>\n",
       "      <td>V</td>\n",
       "      <td>Atlanta</td>\n",
       "      <td>3</td>\n",
       "      <td>7</td>\n",
       "      <td>3</td>\n",
       "      <td>10</td>\n",
       "      <td>23</td>\n",
       "      <td>7</td>\n",
       "      <td>6.5</td>\n",
       "      <td>-319</td>\n",
       "      <td>4.5</td>\n",
       "    </tr>\n",
       "  </tbody>\n",
       "</table>\n",
       "</div>"
      ],
      "text/plain": [
       "   Date  Rot VH        Team  1st  2nd  3rd  4th  Final Open Close   ML    2H\n",
       "0   907  451  V  KansasCity    7    7    7   21     42   48  47.5  371  25.5\n",
       "1   907  452  H  NewEngland    7   10   10    0     27    7     8 -480   4.5\n",
       "2   910  453  V      NYJets    0    6    6    0     12   43    42  317    21\n",
       "3   910  454  H     Buffalo    0    7    7    7     21    6     7 -400     5\n",
       "4   910  455  V     Atlanta    3    7    3   10     23    7   6.5 -319   4.5"
      ]
     },
     "execution_count": 5,
     "metadata": {},
     "output_type": "execute_result"
    }
   ],
   "source": [
    "df = read_excel('http://www.sportsbookreviewsonline.com/scoresoddsarchives/nfl/nfl%20odds%202017-18.xlsx')\\\n",
    "        .reset_index(drop=True)\n",
    "df.head()"
   ]
  },
  {
   "cell_type": "markdown",
   "metadata": {},
   "source": [
    "#### Check that it alternates Visitor-Home"
   ]
  },
  {
   "cell_type": "code",
   "execution_count": 99,
   "metadata": {
    "ExecuteTime": {
     "end_time": "2018-08-24T03:51:00.447274Z",
     "start_time": "2018-08-24T03:51:00.410073Z"
    }
   },
   "outputs": [
    {
     "data": {
      "text/html": [
       "<div>\n",
       "<style scoped>\n",
       "    .dataframe tbody tr th:only-of-type {\n",
       "        vertical-align: middle;\n",
       "    }\n",
       "\n",
       "    .dataframe tbody tr th {\n",
       "        vertical-align: top;\n",
       "    }\n",
       "\n",
       "    .dataframe thead th {\n",
       "        text-align: right;\n",
       "    }\n",
       "</style>\n",
       "<table border=\"1\" class=\"dataframe\">\n",
       "  <thead>\n",
       "    <tr style=\"text-align: right;\">\n",
       "      <th></th>\n",
       "      <th>index</th>\n",
       "      <th>Date</th>\n",
       "      <th>Rot</th>\n",
       "      <th>VH</th>\n",
       "      <th>Team</th>\n",
       "      <th>1st</th>\n",
       "      <th>2nd</th>\n",
       "      <th>3rd</th>\n",
       "      <th>4th</th>\n",
       "      <th>Final</th>\n",
       "      <th>Open</th>\n",
       "      <th>Close</th>\n",
       "      <th>ML</th>\n",
       "      <th>2H</th>\n",
       "      <th>exp</th>\n",
       "    </tr>\n",
       "  </thead>\n",
       "  <tbody>\n",
       "    <tr>\n",
       "      <th>532</th>\n",
       "      <td>532</td>\n",
       "      <td>204</td>\n",
       "      <td>101</td>\n",
       "      <td>N</td>\n",
       "      <td>Philadelphia</td>\n",
       "      <td>9</td>\n",
       "      <td>13</td>\n",
       "      <td>7</td>\n",
       "      <td>12</td>\n",
       "      <td>41</td>\n",
       "      <td>47.5</td>\n",
       "      <td>49.5</td>\n",
       "      <td>170</td>\n",
       "      <td>27.5</td>\n",
       "      <td>V</td>\n",
       "    </tr>\n",
       "    <tr>\n",
       "      <th>533</th>\n",
       "      <td>533</td>\n",
       "      <td>204</td>\n",
       "      <td>102</td>\n",
       "      <td>N</td>\n",
       "      <td>NewEngland</td>\n",
       "      <td>3</td>\n",
       "      <td>9</td>\n",
       "      <td>14</td>\n",
       "      <td>7</td>\n",
       "      <td>33</td>\n",
       "      <td>6</td>\n",
       "      <td>4</td>\n",
       "      <td>-200</td>\n",
       "      <td>7</td>\n",
       "      <td>H</td>\n",
       "    </tr>\n",
       "  </tbody>\n",
       "</table>\n",
       "</div>"
      ],
      "text/plain": [
       "     index  Date  Rot VH          Team  1st  2nd  3rd  4th  Final  Open Close  \\\n",
       "532    532   204  101  N  Philadelphia    9   13    7   12     41  47.5  49.5   \n",
       "533    533   204  102  N    NewEngland    3    9   14    7     33     6     4   \n",
       "\n",
       "      ML    2H exp  \n",
       "532  170  27.5   V  \n",
       "533 -200     7   H  "
      ]
     },
     "execution_count": 99,
     "metadata": {},
     "output_type": "execute_result"
    }
   ],
   "source": [
    "df = df.reset_index(drop=False)\n",
    "df['exp'] = df['index'].apply(lambda x: 'V' if x % 2 == 0 else 'H')\n",
    "df[df['exp'] != df['VH']] # neutral location"
   ]
  },
  {
   "cell_type": "code",
   "execution_count": 160,
   "metadata": {
    "ExecuteTime": {
     "end_time": "2018-11-08T17:17:45.186525Z",
     "start_time": "2018-11-08T17:17:45.014461Z"
    }
   },
   "outputs": [],
   "source": [
    "def process_lines(df, season):\n",
    "    '''takes in a season of lines. pre-processes the funky schema/pattern\n",
    "    and returns a df ready for analysis'''\n",
    "    df['game_id'] = map(lambda x: np.floor(x/2.), np.arange(df.shape[0]))\n",
    "\n",
    "    def clean_pk(x):\n",
    "        '''takes in a value that is either a numeric or string.\n",
    "        if string, it is a pickem (value==pk). return 0. otherwise,\n",
    "        return original value'''\n",
    "        try:\n",
    "            return float(x)\n",
    "        except:\n",
    "            return 0.\n",
    "\n",
    "    games_dict = {}\n",
    "    for idx in df.index:\n",
    "        ## visitor\n",
    "        if idx % 2 == 0:\n",
    "            game_id = df.loc[idx, 'game_id']\n",
    "            games_dict[game_id] = {\n",
    "                'Date': df.loc[idx, 'Date'],\n",
    "                'V_Team': df.loc[idx, 'Team'],\n",
    "                'V_Q1': df.loc[idx, '1st'],\n",
    "                'V_Q2': df.loc[idx, '2nd'],\n",
    "                'V_Q3': df.loc[idx, '3rd'],\n",
    "                'V_Q4': df.loc[idx, '4th'],\n",
    "                'V_Final': df.loc[idx, 'Final'],\n",
    "                'v_open': clean_pk(df.loc[idx, 'Open']),\n",
    "                'v_close': clean_pk(df.loc[idx, 'Close']),\n",
    "                'V_ML': df.loc[idx, 'ML'],\n",
    "                'v_2h': df.loc[idx, '2H'],\n",
    "                'Neutral': df.loc[idx, 'VH'] == 'N'\n",
    "            }\n",
    "\n",
    "        ## home\n",
    "        else:\n",
    "            games_dict[game_id]['H_Team'] = df.loc[idx, 'Team']\n",
    "            games_dict[game_id]['H_Q1'] = df.loc[idx, '1st']\n",
    "            games_dict[game_id]['H_Q2'] = df.loc[idx, '2nd']\n",
    "            games_dict[game_id]['H_Q3'] = df.loc[idx, '3rd']\n",
    "            games_dict[game_id]['H_Q4'] = df.loc[idx, '4th']\n",
    "            games_dict[game_id]['H_Final'] = df.loc[idx, 'Final']\n",
    "            games_dict[game_id]['h_open'] = clean_pk(df.loc[idx, 'Open'])\n",
    "            games_dict[game_id]['h_close'] = clean_pk(df.loc[idx, 'Close'])\n",
    "            games_dict[game_id]['H_ML'] = df.loc[idx, 'ML']\n",
    "            games_dict[game_id]['h_2h'] = df.loc[idx, '2H']\n",
    "\n",
    "    def ml_fav(h_ml):\n",
    "        '''if the money line is negative, \n",
    "        the home team is favorited. if it is\n",
    "        100, it\\'s a coinflip'''\n",
    "        if h_ml == 100:\n",
    "            return 'pickem'\n",
    "        elif h_ml < 0:\n",
    "            return 'H'\n",
    "        else:\n",
    "            return 'V'\n",
    "\n",
    "    def spread_fav(home, vis):\n",
    "        '''the smaller number between home/visitor for both\n",
    "        open and close is the favorite. \n",
    "        this returns the spread, favorite, or O/U'''\n",
    "        fav = 'H' if home < vis else 'V'\n",
    "        if home < vis:\n",
    "            fav = 'H'\n",
    "            ou = vis\n",
    "            spread = home\n",
    "        else:\n",
    "            fav = 'V'\n",
    "            ou = home\n",
    "            spread = vis\n",
    "\n",
    "        return [fav, ou, spread]\n",
    "\n",
    "    games = DataFrame.from_dict(games_dict, orient='index')\n",
    "    # ML will indicate who is the favorite (open or close?)\n",
    "    games['ML_Fav'] = games['H_ML'].map(ml_fav)\n",
    "    # favorite is the one with the lower (spread)\n",
    "    for bet_type, bet_name in [('open','Open'),('close','Close'),('2h','2H')]:\n",
    "        info_col = '{}_info'.format(bet_type)\n",
    "        games[info_col] = games[\n",
    "                    ['h_{}'.format(bet_type),\n",
    "                     'v_{}'.format(bet_type)]\n",
    "                ].apply(\n",
    "                    lambda (home,vis): spread_fav(home, vis), axis=1\n",
    "                )\n",
    "\n",
    "        for i, (field, field_name) in enumerate([\n",
    "                                        ('fav','Fav'),\n",
    "                                        ('ou','OU'),\n",
    "                                        ('spread','Spread')]):\n",
    "            data_field = '{}_{}'.format(bet_name, field_name)\n",
    "            games[data_field] = games[info_col].apply(lambda x: x[i])\n",
    "\n",
    "    games['Season'] = season\n",
    "    games = games[[\n",
    "        'Season','Date','H_Team','V_Team','H_Final','V_Final','H_ML','V_ML','ML_Fav',\n",
    "        'Open_Fav','Open_OU','Open_Spread','Close_Fav','Close_OU','Close_Spread',\n",
    "        '2H_Fav','2H_OU','2H_Spread','H_Q1','H_Q2','H_Q3','H_Q4',\n",
    "        'V_Q1','V_Q2','V_Q3','V_Q4'\n",
    "    ]]\n",
    "\n",
    "    assert games[games['Open_Spread'] >= games['Open_OU']].shape[0] == 0\n",
    "    assert games[games['Close_Spread'] >= games['Close_OU']].shape[0] == 0\n",
    "    assert games[games['2H_Spread'] >= games['2H_OU']].shape[0] == 0\n",
    "\n",
    "    return games"
   ]
  },
  {
   "cell_type": "code",
   "execution_count": 71,
   "metadata": {
    "ExecuteTime": {
     "end_time": "2018-09-16T05:39:36.358629Z",
     "start_time": "2018-09-16T05:39:27.297278Z"
    },
    "scrolled": true
   },
   "outputs": [
    {
     "name": "stdout",
     "output_type": "stream",
     "text": [
      "2018\n",
      "2017\n",
      "2016\n",
      "2015\n",
      "2014\n",
      "2013\n",
      "2012\n",
      "2011\n",
      "2010\n",
      "2009\n",
      "2008\n"
     ]
    }
   ],
   "source": [
    "dfs = []\n",
    "for season in np.arange(2018, 2007, -1):\n",
    "    print season\n",
    "    df = read_excel(\n",
    "        'http://www.sportsbookreviewsonline.com/scoresoddsarchives/nfl/nfl%20odds%20' + \n",
    "        '{}-{}.xlsx'.format(season-1, str(season)[-2:]))\\\n",
    "            .reset_index(drop=True)\n",
    "    dfs.append(process_lines(df, season-1))"
   ]
  },
  {
   "cell_type": "code",
   "execution_count": 103,
   "metadata": {
    "ExecuteTime": {
     "end_time": "2018-09-16T05:44:38.208197Z",
     "start_time": "2018-09-16T05:44:38.135990Z"
    }
   },
   "outputs": [
    {
     "data": {
      "text/plain": [
       "(2937, 26)"
      ]
     },
     "execution_count": 103,
     "metadata": {},
     "output_type": "execute_result"
    }
   ],
   "source": [
    "all_lines = reduce(lambda x,y: x.append(y).reset_index(drop=True), dfs)\n",
    "all_lines.shape"
   ]
  },
  {
   "cell_type": "markdown",
   "metadata": {},
   "source": [
    "#### Fix erroneous game dates for historical lines"
   ]
  },
  {
   "cell_type": "code",
   "execution_count": 100,
   "metadata": {
    "ExecuteTime": {
     "end_time": "2018-09-16T05:43:32.065192Z",
     "start_time": "2018-09-16T05:43:32.035130Z"
    }
   },
   "outputs": [],
   "source": [
    "## These games say 10-17 but were actually on 10-18\n",
    "## caught this when exploring data\n",
    "idx = all_lines[\n",
    "    (all_lines['Season'] == 2015)\n",
    "    & (all_lines['Date'] == 1017)\n",
    "].index\n",
    "\n",
    "all_lines.loc[idx, 'Date'] = 1018\n",
    "\n",
    "idx = all_lines[\n",
    "    (all_lines['Season'] == 2010)\n",
    "    & (all_lines['Date'] == 1224)\n",
    "    & (all_lines['H_Team'] == 'Arizona')\n",
    "].index\n",
    "\n",
    "all_lines.loc[idx, 'Date'] = 1225\n",
    "\n",
    "idx = all_lines[\n",
    "    (all_lines['Season'] == 2014)\n",
    "    & (all_lines['Date'] == 930)\n",
    "    & (all_lines['H_Team'] == 'KansasCity')\n",
    "].index\n",
    "\n",
    "all_lines.loc[idx, 'Date'] = 929\n",
    "\n",
    "idx = all_lines[\n",
    "    (all_lines['Season'] == 2015)\n",
    "    & (all_lines['Date'] == 123)\n",
    "    & (all_lines['H_Team'] == 'Denver')\n",
    "].index\n",
    "\n",
    "all_lines.loc[idx, 'Date'] = 124\n",
    "\n",
    "idx = all_lines[\n",
    "    (all_lines['Season'] == 2015)\n",
    "    & (all_lines['Date'] == 123)\n",
    "    & (all_lines['H_Team'] == 'Carolina')\n",
    "].index\n",
    "\n",
    "all_lines.loc[idx, 'Date'] = 124"
   ]
  },
  {
   "cell_type": "code",
   "execution_count": 101,
   "metadata": {
    "ExecuteTime": {
     "end_time": "2018-09-16T05:43:34.802476Z",
     "start_time": "2018-09-16T05:43:34.666582Z"
    }
   },
   "outputs": [],
   "source": [
    "from datetime import date\n",
    "def map_dates(x):\n",
    "    dt, yy = x\n",
    "    dt = str(dt)\n",
    "    dd = int(dt[-2:])\n",
    "    mm = int(dt[:-2])\n",
    "    yy = int(yy)\n",
    "    \n",
    "    if mm < 6:\n",
    "        return date(yy+1, mm, dd)\n",
    "    else:\n",
    "        return date(yy, mm, dd)\n",
    "    \n",
    "all_lines['Date'] = all_lines[['Date','Season']].apply(map_dates, axis=1)"
   ]
  },
  {
   "cell_type": "code",
   "execution_count": 102,
   "metadata": {
    "ExecuteTime": {
     "end_time": "2018-09-16T05:43:35.036697Z",
     "start_time": "2018-09-16T05:43:34.974467Z"
    }
   },
   "outputs": [],
   "source": [
    "all_lines.to_csv('{}/all_lines.csv'.format(DATA_DIR))"
   ]
  },
  {
   "cell_type": "markdown",
   "metadata": {},
   "source": [
    "### Alternative For Lines: http://www.drwagpicks.com/p/nfl-statistics-downloads.html"
   ]
  },
  {
   "cell_type": "code",
   "execution_count": 24,
   "metadata": {
    "ExecuteTime": {
     "end_time": "2018-08-24T02:18:13.649134Z",
     "start_time": "2018-08-24T02:17:51.230050Z"
    }
   },
   "outputs": [],
   "source": [
    "started = False\n",
    "dfs = []\n",
    "for years in [(2018, 2014), (2014, 2010), (2010, 2006), (2006, 2000)]:\n",
    "    curr = read_csv(\n",
    "            'http://sports.snoozle.net/api?' + \n",
    "            'league=nfl&fileType=csvFile&' + \n",
    "            'statType=latestodds&' + \n",
    "            'startDate={}-02-06&'.format(years[1]) + \n",
    "            'endDate={}-02-12&'.format(years[0]) +\n",
    "            'source=drwagpics'\n",
    "        )\n",
    "    \n",
    "    dfs.append(curr)"
   ]
  },
  {
   "cell_type": "code",
   "execution_count": 30,
   "metadata": {
    "ExecuteTime": {
     "end_time": "2018-08-24T02:19:31.105619Z",
     "start_time": "2018-08-24T02:19:31.092398Z"
    }
   },
   "outputs": [],
   "source": [
    "lines = reduce(\n",
    "    lambda x,y: x.append(y[x.columns]).reset_index(drop=True),\n",
    "    dfs\n",
    ")"
   ]
  },
  {
   "cell_type": "code",
   "execution_count": 31,
   "metadata": {
    "ExecuteTime": {
     "end_time": "2018-08-24T02:19:37.555004Z",
     "start_time": "2018-08-24T02:19:37.548729Z"
    }
   },
   "outputs": [
    {
     "data": {
      "text/plain": [
       "(4158, 6)"
      ]
     },
     "execution_count": 31,
     "metadata": {},
     "output_type": "execute_result"
    }
   ],
   "source": [
    "lines.head()"
   ]
  },
  {
   "cell_type": "code",
   "execution_count": 36,
   "metadata": {
    "ExecuteTime": {
     "end_time": "2018-08-24T02:20:36.320732Z",
     "start_time": "2018-08-24T02:20:36.294666Z"
    }
   },
   "outputs": [],
   "source": [
    "lines.to_csv('drwag_lines_lines.csv'.format(DATA_DIR))"
   ]
  },
  {
   "cell_type": "markdown",
   "metadata": {},
   "source": [
    "### Historical DVOA"
   ]
  },
  {
   "cell_type": "code",
   "execution_count": 161,
   "metadata": {
    "ExecuteTime": {
     "end_time": "2018-11-08T17:17:56.116873Z",
     "start_time": "2018-11-08T17:17:56.091529Z"
    }
   },
   "outputs": [],
   "source": [
    "def scrape_dvoa_week(week, year):\n",
    "    '''for a given week/year, scrapes the footballoutsiders\n",
    "    DVOA by week'''\n",
    "    \n",
    "    base_url = 'https://www.footballoutsiders.com/dvoa-ratings'\n",
    "    url = base_url + '/{}/week-{}-dvoa-ratings'.format(year, week)\n",
    "    soup = ScrapeTools().get_soup(url, driver)\n",
    "    data_tables = soup.findAll('table', {'class': 'stats'})\n",
    "\n",
    "    for data_table in data_tables:\n",
    "        cols = []\n",
    "        team_dvoa = {}\n",
    "        if ( ('TOTALDVOA' in data_table.text) | ('TOTALVOA' in data_table.text) ) \\\n",
    "               & (('OFFENSEDVOA' in data_table.text) | ('OFFENSEVOA' in data_table.text)) \\\n",
    "               & ('W-L' in data_table.text):\n",
    "            try:\n",
    "                tbl = data_table\n",
    "                for i, tr in enumerate(tbl.findAll('tr')):\n",
    "                    team_dvoa[i] = {}\n",
    "                    for j, td in enumerate(tr.findAll('td')):\n",
    "                        if i == 0:\n",
    "                            cols.append(td.text)\n",
    "                        else:\n",
    "                            team_dvoa[i][cols[j]] = td.text\n",
    "                return DataFrame.from_dict(team_dvoa, orient='index')\n",
    "            except:\n",
    "                pass\n",
    "\n",
    "    return None"
   ]
  },
  {
   "cell_type": "code",
   "execution_count": 162,
   "metadata": {
    "ExecuteTime": {
     "end_time": "2018-11-08T17:17:56.953890Z",
     "start_time": "2018-11-08T17:17:56.931529Z"
    }
   },
   "outputs": [],
   "source": [
    "def clean_cols(df):\n",
    "    '''clean up/standardize column\n",
    "    names for merging weekly dataframes'''\n",
    "    col_map = dict(map(\n",
    "        lambda x: (x, x.replace('.','').strip()), \n",
    "        df.columns\n",
    "    ))\n",
    "    return df.rename(columns=col_map)\n",
    "\n",
    "def merge_dfs(a, b):\n",
    "    '''function passed into reduce call.\n",
    "    merges the weekly dataframes. standardize columns.\n",
    "    filling with None where necessary to line up columns.'''\n",
    "    a = clean_cols(a)\n",
    "    b = clean_cols(b)\n",
    "    \n",
    "    if sorted(a.columns) != sorted(b.columns):\n",
    "        for a_not_b in set(a) - set(b):\n",
    "            b[a_not_b] = None\n",
    "        for b_not_a in set(b) - set(a):\n",
    "            a[b_not_a] = None    \n",
    "    return a.append(b[a.columns]).reset_index(drop=True)"
   ]
  },
  {
   "cell_type": "markdown",
   "metadata": {},
   "source": [
    "#### TODO: 2018 needs a change to work"
   ]
  },
  {
   "cell_type": "code",
   "execution_count": 167,
   "metadata": {
    "ExecuteTime": {
     "end_time": "2018-11-08T17:20:27.185366Z",
     "start_time": "2018-11-08T17:20:24.814975Z"
    }
   },
   "outputs": [],
   "source": [
    "driver = ScrapeTools().get_driver()"
   ]
  },
  {
   "cell_type": "code",
   "execution_count": 168,
   "metadata": {
    "ExecuteTime": {
     "end_time": "2018-11-08T17:35:58.692542Z",
     "start_time": "2018-11-08T17:20:27.189085Z"
    },
    "collapsed": true
   },
   "outputs": [
    {
     "data": {
      "text/plain": [
       "'dvoa_2017_01.csv'"
      ]
     },
     "execution_count": 168,
     "metadata": {},
     "output_type": "execute_result"
    },
    {
     "data": {
      "text/plain": [
       "'dvoa_2017_02.csv'"
      ]
     },
     "execution_count": 168,
     "metadata": {},
     "output_type": "execute_result"
    },
    {
     "data": {
      "text/plain": [
       "'dvoa_2017_03.csv'"
      ]
     },
     "execution_count": 168,
     "metadata": {},
     "output_type": "execute_result"
    },
    {
     "data": {
      "text/plain": [
       "'dvoa_2017_04.csv'"
      ]
     },
     "execution_count": 168,
     "metadata": {},
     "output_type": "execute_result"
    },
    {
     "data": {
      "text/plain": [
       "'dvoa_2017_05.csv'"
      ]
     },
     "execution_count": 168,
     "metadata": {},
     "output_type": "execute_result"
    },
    {
     "data": {
      "text/plain": [
       "'dvoa_2017_06.csv'"
      ]
     },
     "execution_count": 168,
     "metadata": {},
     "output_type": "execute_result"
    },
    {
     "data": {
      "text/plain": [
       "'dvoa_2017_07.csv'"
      ]
     },
     "execution_count": 168,
     "metadata": {},
     "output_type": "execute_result"
    },
    {
     "data": {
      "text/plain": [
       "'dvoa_2017_08.csv'"
      ]
     },
     "execution_count": 168,
     "metadata": {},
     "output_type": "execute_result"
    },
    {
     "data": {
      "text/plain": [
       "'dvoa_2017_09.csv'"
      ]
     },
     "execution_count": 168,
     "metadata": {},
     "output_type": "execute_result"
    },
    {
     "data": {
      "text/plain": [
       "'dvoa_2017_10.csv'"
      ]
     },
     "execution_count": 168,
     "metadata": {},
     "output_type": "execute_result"
    },
    {
     "data": {
      "text/plain": [
       "'dvoa_2017_11.csv'"
      ]
     },
     "execution_count": 168,
     "metadata": {},
     "output_type": "execute_result"
    },
    {
     "data": {
      "text/plain": [
       "'dvoa_2017_12.csv'"
      ]
     },
     "execution_count": 168,
     "metadata": {},
     "output_type": "execute_result"
    },
    {
     "data": {
      "text/plain": [
       "'dvoa_2017_13.csv'"
      ]
     },
     "execution_count": 168,
     "metadata": {},
     "output_type": "execute_result"
    },
    {
     "data": {
      "text/plain": [
       "'dvoa_2017_14.csv'"
      ]
     },
     "execution_count": 168,
     "metadata": {},
     "output_type": "execute_result"
    },
    {
     "data": {
      "text/plain": [
       "'dvoa_2017_15.csv'"
      ]
     },
     "execution_count": 168,
     "metadata": {},
     "output_type": "execute_result"
    },
    {
     "data": {
      "text/plain": [
       "'dvoa_2017_16.csv'"
      ]
     },
     "execution_count": 168,
     "metadata": {},
     "output_type": "execute_result"
    },
    {
     "data": {
      "text/plain": [
       "'dvoa_2016_01.csv'"
      ]
     },
     "execution_count": 168,
     "metadata": {},
     "output_type": "execute_result"
    },
    {
     "data": {
      "text/plain": [
       "'dvoa_2016_02.csv'"
      ]
     },
     "execution_count": 168,
     "metadata": {},
     "output_type": "execute_result"
    },
    {
     "data": {
      "text/plain": [
       "'dvoa_2016_03.csv'"
      ]
     },
     "execution_count": 168,
     "metadata": {},
     "output_type": "execute_result"
    },
    {
     "data": {
      "text/plain": [
       "'dvoa_2016_04.csv'"
      ]
     },
     "execution_count": 168,
     "metadata": {},
     "output_type": "execute_result"
    },
    {
     "data": {
      "text/plain": [
       "'dvoa_2016_05.csv'"
      ]
     },
     "execution_count": 168,
     "metadata": {},
     "output_type": "execute_result"
    },
    {
     "data": {
      "text/plain": [
       "'dvoa_2016_06.csv'"
      ]
     },
     "execution_count": 168,
     "metadata": {},
     "output_type": "execute_result"
    },
    {
     "data": {
      "text/plain": [
       "'dvoa_2016_07.csv'"
      ]
     },
     "execution_count": 168,
     "metadata": {},
     "output_type": "execute_result"
    },
    {
     "data": {
      "text/plain": [
       "'dvoa_2016_08.csv'"
      ]
     },
     "execution_count": 168,
     "metadata": {},
     "output_type": "execute_result"
    },
    {
     "data": {
      "text/plain": [
       "'dvoa_2016_09.csv'"
      ]
     },
     "execution_count": 168,
     "metadata": {},
     "output_type": "execute_result"
    },
    {
     "data": {
      "text/plain": [
       "'dvoa_2016_10.csv'"
      ]
     },
     "execution_count": 168,
     "metadata": {},
     "output_type": "execute_result"
    },
    {
     "data": {
      "text/plain": [
       "'dvoa_2016_11.csv'"
      ]
     },
     "execution_count": 168,
     "metadata": {},
     "output_type": "execute_result"
    },
    {
     "data": {
      "text/plain": [
       "'dvoa_2016_12.csv'"
      ]
     },
     "execution_count": 168,
     "metadata": {},
     "output_type": "execute_result"
    },
    {
     "data": {
      "text/plain": [
       "'dvoa_2016_13.csv'"
      ]
     },
     "execution_count": 168,
     "metadata": {},
     "output_type": "execute_result"
    },
    {
     "data": {
      "text/plain": [
       "'dvoa_2016_14.csv'"
      ]
     },
     "execution_count": 168,
     "metadata": {},
     "output_type": "execute_result"
    },
    {
     "data": {
      "text/plain": [
       "'dvoa_2016_15.csv'"
      ]
     },
     "execution_count": 168,
     "metadata": {},
     "output_type": "execute_result"
    },
    {
     "data": {
      "text/plain": [
       "'dvoa_2016_16.csv'"
      ]
     },
     "execution_count": 168,
     "metadata": {},
     "output_type": "execute_result"
    },
    {
     "data": {
      "text/plain": [
       "'dvoa_2015_01.csv'"
      ]
     },
     "execution_count": 168,
     "metadata": {},
     "output_type": "execute_result"
    },
    {
     "data": {
      "text/plain": [
       "'dvoa_2015_02.csv'"
      ]
     },
     "execution_count": 168,
     "metadata": {},
     "output_type": "execute_result"
    },
    {
     "data": {
      "text/plain": [
       "'dvoa_2015_03.csv'"
      ]
     },
     "execution_count": 168,
     "metadata": {},
     "output_type": "execute_result"
    },
    {
     "data": {
      "text/plain": [
       "'dvoa_2015_04.csv'"
      ]
     },
     "execution_count": 168,
     "metadata": {},
     "output_type": "execute_result"
    },
    {
     "data": {
      "text/plain": [
       "'dvoa_2015_05.csv'"
      ]
     },
     "execution_count": 168,
     "metadata": {},
     "output_type": "execute_result"
    },
    {
     "data": {
      "text/plain": [
       "'dvoa_2015_06.csv'"
      ]
     },
     "execution_count": 168,
     "metadata": {},
     "output_type": "execute_result"
    },
    {
     "data": {
      "text/plain": [
       "'dvoa_2015_07.csv'"
      ]
     },
     "execution_count": 168,
     "metadata": {},
     "output_type": "execute_result"
    },
    {
     "data": {
      "text/plain": [
       "'dvoa_2015_08.csv'"
      ]
     },
     "execution_count": 168,
     "metadata": {},
     "output_type": "execute_result"
    },
    {
     "data": {
      "text/plain": [
       "'dvoa_2015_09.csv'"
      ]
     },
     "execution_count": 168,
     "metadata": {},
     "output_type": "execute_result"
    },
    {
     "data": {
      "text/plain": [
       "'dvoa_2015_10.csv'"
      ]
     },
     "execution_count": 168,
     "metadata": {},
     "output_type": "execute_result"
    },
    {
     "data": {
      "text/plain": [
       "'dvoa_2015_11.csv'"
      ]
     },
     "execution_count": 168,
     "metadata": {},
     "output_type": "execute_result"
    },
    {
     "data": {
      "text/plain": [
       "'dvoa_2015_12.csv'"
      ]
     },
     "execution_count": 168,
     "metadata": {},
     "output_type": "execute_result"
    },
    {
     "data": {
      "text/plain": [
       "'dvoa_2015_13.csv'"
      ]
     },
     "execution_count": 168,
     "metadata": {},
     "output_type": "execute_result"
    },
    {
     "data": {
      "text/plain": [
       "'dvoa_2015_14.csv'"
      ]
     },
     "execution_count": 168,
     "metadata": {},
     "output_type": "execute_result"
    },
    {
     "data": {
      "text/plain": [
       "'dvoa_2015_15.csv'"
      ]
     },
     "execution_count": 168,
     "metadata": {},
     "output_type": "execute_result"
    },
    {
     "data": {
      "text/plain": [
       "'dvoa_2015_16.csv'"
      ]
     },
     "execution_count": 168,
     "metadata": {},
     "output_type": "execute_result"
    },
    {
     "data": {
      "text/plain": [
       "'dvoa_2014_01.csv'"
      ]
     },
     "execution_count": 168,
     "metadata": {},
     "output_type": "execute_result"
    },
    {
     "data": {
      "text/plain": [
       "'dvoa_2014_02.csv'"
      ]
     },
     "execution_count": 168,
     "metadata": {},
     "output_type": "execute_result"
    },
    {
     "data": {
      "text/plain": [
       "'dvoa_2014_03.csv'"
      ]
     },
     "execution_count": 168,
     "metadata": {},
     "output_type": "execute_result"
    },
    {
     "data": {
      "text/plain": [
       "'dvoa_2014_04.csv'"
      ]
     },
     "execution_count": 168,
     "metadata": {},
     "output_type": "execute_result"
    },
    {
     "data": {
      "text/plain": [
       "'dvoa_2014_05.csv'"
      ]
     },
     "execution_count": 168,
     "metadata": {},
     "output_type": "execute_result"
    },
    {
     "data": {
      "text/plain": [
       "'dvoa_2014_06.csv'"
      ]
     },
     "execution_count": 168,
     "metadata": {},
     "output_type": "execute_result"
    },
    {
     "data": {
      "text/plain": [
       "'dvoa_2014_07.csv'"
      ]
     },
     "execution_count": 168,
     "metadata": {},
     "output_type": "execute_result"
    },
    {
     "data": {
      "text/plain": [
       "'dvoa_2014_08.csv'"
      ]
     },
     "execution_count": 168,
     "metadata": {},
     "output_type": "execute_result"
    },
    {
     "data": {
      "text/plain": [
       "'dvoa_2014_09.csv'"
      ]
     },
     "execution_count": 168,
     "metadata": {},
     "output_type": "execute_result"
    },
    {
     "data": {
      "text/plain": [
       "'dvoa_2014_10.csv'"
      ]
     },
     "execution_count": 168,
     "metadata": {},
     "output_type": "execute_result"
    },
    {
     "data": {
      "text/plain": [
       "'dvoa_2014_11.csv'"
      ]
     },
     "execution_count": 168,
     "metadata": {},
     "output_type": "execute_result"
    },
    {
     "data": {
      "text/plain": [
       "'dvoa_2014_12.csv'"
      ]
     },
     "execution_count": 168,
     "metadata": {},
     "output_type": "execute_result"
    },
    {
     "data": {
      "text/plain": [
       "'dvoa_2014_13.csv'"
      ]
     },
     "execution_count": 168,
     "metadata": {},
     "output_type": "execute_result"
    },
    {
     "data": {
      "text/plain": [
       "'dvoa_2014_14.csv'"
      ]
     },
     "execution_count": 168,
     "metadata": {},
     "output_type": "execute_result"
    },
    {
     "data": {
      "text/plain": [
       "'dvoa_2014_15.csv'"
      ]
     },
     "execution_count": 168,
     "metadata": {},
     "output_type": "execute_result"
    },
    {
     "data": {
      "text/plain": [
       "'dvoa_2014_16.csv'"
      ]
     },
     "execution_count": 168,
     "metadata": {},
     "output_type": "execute_result"
    },
    {
     "data": {
      "text/plain": [
       "'dvoa_2013_01.csv'"
      ]
     },
     "execution_count": 168,
     "metadata": {},
     "output_type": "execute_result"
    },
    {
     "data": {
      "text/plain": [
       "'dvoa_2013_02.csv'"
      ]
     },
     "execution_count": 168,
     "metadata": {},
     "output_type": "execute_result"
    },
    {
     "data": {
      "text/plain": [
       "'dvoa_2013_03.csv'"
      ]
     },
     "execution_count": 168,
     "metadata": {},
     "output_type": "execute_result"
    },
    {
     "data": {
      "text/plain": [
       "'dvoa_2013_04.csv'"
      ]
     },
     "execution_count": 168,
     "metadata": {},
     "output_type": "execute_result"
    },
    {
     "data": {
      "text/plain": [
       "'dvoa_2013_05.csv'"
      ]
     },
     "execution_count": 168,
     "metadata": {},
     "output_type": "execute_result"
    },
    {
     "data": {
      "text/plain": [
       "'dvoa_2013_06.csv'"
      ]
     },
     "execution_count": 168,
     "metadata": {},
     "output_type": "execute_result"
    },
    {
     "data": {
      "text/plain": [
       "'dvoa_2013_07.csv'"
      ]
     },
     "execution_count": 168,
     "metadata": {},
     "output_type": "execute_result"
    },
    {
     "data": {
      "text/plain": [
       "'dvoa_2013_08.csv'"
      ]
     },
     "execution_count": 168,
     "metadata": {},
     "output_type": "execute_result"
    },
    {
     "data": {
      "text/plain": [
       "'dvoa_2013_09.csv'"
      ]
     },
     "execution_count": 168,
     "metadata": {},
     "output_type": "execute_result"
    },
    {
     "data": {
      "text/plain": [
       "'dvoa_2013_10.csv'"
      ]
     },
     "execution_count": 168,
     "metadata": {},
     "output_type": "execute_result"
    },
    {
     "data": {
      "text/plain": [
       "'dvoa_2013_11.csv'"
      ]
     },
     "execution_count": 168,
     "metadata": {},
     "output_type": "execute_result"
    },
    {
     "data": {
      "text/plain": [
       "'dvoa_2013_12.csv'"
      ]
     },
     "execution_count": 168,
     "metadata": {},
     "output_type": "execute_result"
    },
    {
     "data": {
      "text/plain": [
       "'dvoa_2013_13.csv'"
      ]
     },
     "execution_count": 168,
     "metadata": {},
     "output_type": "execute_result"
    },
    {
     "data": {
      "text/plain": [
       "'dvoa_2013_14.csv'"
      ]
     },
     "execution_count": 168,
     "metadata": {},
     "output_type": "execute_result"
    },
    {
     "data": {
      "text/plain": [
       "'dvoa_2013_15.csv'"
      ]
     },
     "execution_count": 168,
     "metadata": {},
     "output_type": "execute_result"
    },
    {
     "data": {
      "text/plain": [
       "'dvoa_2013_16.csv'"
      ]
     },
     "execution_count": 168,
     "metadata": {},
     "output_type": "execute_result"
    },
    {
     "data": {
      "text/plain": [
       "'dvoa_2012_01.csv'"
      ]
     },
     "execution_count": 168,
     "metadata": {},
     "output_type": "execute_result"
    },
    {
     "data": {
      "text/plain": [
       "'dvoa_2012_02.csv'"
      ]
     },
     "execution_count": 168,
     "metadata": {},
     "output_type": "execute_result"
    },
    {
     "data": {
      "text/plain": [
       "'dvoa_2012_03.csv'"
      ]
     },
     "execution_count": 168,
     "metadata": {},
     "output_type": "execute_result"
    },
    {
     "data": {
      "text/plain": [
       "'dvoa_2012_04.csv'"
      ]
     },
     "execution_count": 168,
     "metadata": {},
     "output_type": "execute_result"
    },
    {
     "data": {
      "text/plain": [
       "'dvoa_2012_05.csv'"
      ]
     },
     "execution_count": 168,
     "metadata": {},
     "output_type": "execute_result"
    },
    {
     "data": {
      "text/plain": [
       "'dvoa_2012_06.csv'"
      ]
     },
     "execution_count": 168,
     "metadata": {},
     "output_type": "execute_result"
    },
    {
     "data": {
      "text/plain": [
       "'dvoa_2012_07.csv'"
      ]
     },
     "execution_count": 168,
     "metadata": {},
     "output_type": "execute_result"
    },
    {
     "data": {
      "text/plain": [
       "'dvoa_2012_08.csv'"
      ]
     },
     "execution_count": 168,
     "metadata": {},
     "output_type": "execute_result"
    },
    {
     "data": {
      "text/plain": [
       "'dvoa_2012_09.csv'"
      ]
     },
     "execution_count": 168,
     "metadata": {},
     "output_type": "execute_result"
    },
    {
     "data": {
      "text/plain": [
       "'dvoa_2012_10.csv'"
      ]
     },
     "execution_count": 168,
     "metadata": {},
     "output_type": "execute_result"
    },
    {
     "data": {
      "text/plain": [
       "'dvoa_2012_11.csv'"
      ]
     },
     "execution_count": 168,
     "metadata": {},
     "output_type": "execute_result"
    },
    {
     "data": {
      "text/plain": [
       "'dvoa_2012_12.csv'"
      ]
     },
     "execution_count": 168,
     "metadata": {},
     "output_type": "execute_result"
    },
    {
     "data": {
      "text/plain": [
       "'dvoa_2012_13.csv'"
      ]
     },
     "execution_count": 168,
     "metadata": {},
     "output_type": "execute_result"
    },
    {
     "data": {
      "text/plain": [
       "'dvoa_2012_14.csv'"
      ]
     },
     "execution_count": 168,
     "metadata": {},
     "output_type": "execute_result"
    },
    {
     "data": {
      "text/plain": [
       "'dvoa_2012_15.csv'"
      ]
     },
     "execution_count": 168,
     "metadata": {},
     "output_type": "execute_result"
    },
    {
     "data": {
      "text/plain": [
       "'dvoa_2012_16.csv'"
      ]
     },
     "execution_count": 168,
     "metadata": {},
     "output_type": "execute_result"
    },
    {
     "data": {
      "text/plain": [
       "'dvoa_2011_01.csv'"
      ]
     },
     "execution_count": 168,
     "metadata": {},
     "output_type": "execute_result"
    },
    {
     "data": {
      "text/plain": [
       "'dvoa_2011_02.csv'"
      ]
     },
     "execution_count": 168,
     "metadata": {},
     "output_type": "execute_result"
    },
    {
     "data": {
      "text/plain": [
       "'dvoa_2011_03.csv'"
      ]
     },
     "execution_count": 168,
     "metadata": {},
     "output_type": "execute_result"
    },
    {
     "data": {
      "text/plain": [
       "'dvoa_2011_04.csv'"
      ]
     },
     "execution_count": 168,
     "metadata": {},
     "output_type": "execute_result"
    },
    {
     "data": {
      "text/plain": [
       "'dvoa_2011_05.csv'"
      ]
     },
     "execution_count": 168,
     "metadata": {},
     "output_type": "execute_result"
    },
    {
     "data": {
      "text/plain": [
       "'dvoa_2011_06.csv'"
      ]
     },
     "execution_count": 168,
     "metadata": {},
     "output_type": "execute_result"
    },
    {
     "data": {
      "text/plain": [
       "'dvoa_2011_07.csv'"
      ]
     },
     "execution_count": 168,
     "metadata": {},
     "output_type": "execute_result"
    },
    {
     "data": {
      "text/plain": [
       "'dvoa_2011_08.csv'"
      ]
     },
     "execution_count": 168,
     "metadata": {},
     "output_type": "execute_result"
    },
    {
     "data": {
      "text/plain": [
       "'dvoa_2011_09.csv'"
      ]
     },
     "execution_count": 168,
     "metadata": {},
     "output_type": "execute_result"
    },
    {
     "data": {
      "text/plain": [
       "'dvoa_2011_10.csv'"
      ]
     },
     "execution_count": 168,
     "metadata": {},
     "output_type": "execute_result"
    },
    {
     "data": {
      "text/plain": [
       "'dvoa_2011_11.csv'"
      ]
     },
     "execution_count": 168,
     "metadata": {},
     "output_type": "execute_result"
    },
    {
     "data": {
      "text/plain": [
       "'dvoa_2011_12.csv'"
      ]
     },
     "execution_count": 168,
     "metadata": {},
     "output_type": "execute_result"
    },
    {
     "data": {
      "text/plain": [
       "'dvoa_2011_13.csv'"
      ]
     },
     "execution_count": 168,
     "metadata": {},
     "output_type": "execute_result"
    },
    {
     "data": {
      "text/plain": [
       "'dvoa_2011_14.csv'"
      ]
     },
     "execution_count": 168,
     "metadata": {},
     "output_type": "execute_result"
    },
    {
     "data": {
      "text/plain": [
       "'dvoa_2011_15.csv'"
      ]
     },
     "execution_count": 168,
     "metadata": {},
     "output_type": "execute_result"
    },
    {
     "data": {
      "text/plain": [
       "'dvoa_2011_16.csv'"
      ]
     },
     "execution_count": 168,
     "metadata": {},
     "output_type": "execute_result"
    },
    {
     "data": {
      "text/plain": [
       "'dvoa_2010_01.csv'"
      ]
     },
     "execution_count": 168,
     "metadata": {},
     "output_type": "execute_result"
    },
    {
     "data": {
      "text/plain": [
       "'dvoa_2010_02.csv'"
      ]
     },
     "execution_count": 168,
     "metadata": {},
     "output_type": "execute_result"
    },
    {
     "data": {
      "text/plain": [
       "'dvoa_2010_03.csv'"
      ]
     },
     "execution_count": 168,
     "metadata": {},
     "output_type": "execute_result"
    },
    {
     "data": {
      "text/plain": [
       "'dvoa_2010_04.csv'"
      ]
     },
     "execution_count": 168,
     "metadata": {},
     "output_type": "execute_result"
    },
    {
     "data": {
      "text/plain": [
       "'dvoa_2010_05.csv'"
      ]
     },
     "execution_count": 168,
     "metadata": {},
     "output_type": "execute_result"
    },
    {
     "data": {
      "text/plain": [
       "'dvoa_2010_06.csv'"
      ]
     },
     "execution_count": 168,
     "metadata": {},
     "output_type": "execute_result"
    },
    {
     "data": {
      "text/plain": [
       "'dvoa_2010_07.csv'"
      ]
     },
     "execution_count": 168,
     "metadata": {},
     "output_type": "execute_result"
    },
    {
     "data": {
      "text/plain": [
       "'dvoa_2010_08.csv'"
      ]
     },
     "execution_count": 168,
     "metadata": {},
     "output_type": "execute_result"
    },
    {
     "data": {
      "text/plain": [
       "'dvoa_2010_09.csv'"
      ]
     },
     "execution_count": 168,
     "metadata": {},
     "output_type": "execute_result"
    },
    {
     "data": {
      "text/plain": [
       "'dvoa_2010_10.csv'"
      ]
     },
     "execution_count": 168,
     "metadata": {},
     "output_type": "execute_result"
    },
    {
     "data": {
      "text/plain": [
       "'dvoa_2010_11.csv'"
      ]
     },
     "execution_count": 168,
     "metadata": {},
     "output_type": "execute_result"
    },
    {
     "data": {
      "text/plain": [
       "'dvoa_2010_12.csv'"
      ]
     },
     "execution_count": 168,
     "metadata": {},
     "output_type": "execute_result"
    },
    {
     "data": {
      "text/plain": [
       "'dvoa_2010_13.csv'"
      ]
     },
     "execution_count": 168,
     "metadata": {},
     "output_type": "execute_result"
    },
    {
     "data": {
      "text/plain": [
       "'dvoa_2010_14.csv'"
      ]
     },
     "execution_count": 168,
     "metadata": {},
     "output_type": "execute_result"
    },
    {
     "data": {
      "text/plain": [
       "'dvoa_2010_15.csv'"
      ]
     },
     "execution_count": 168,
     "metadata": {},
     "output_type": "execute_result"
    },
    {
     "data": {
      "text/plain": [
       "'dvoa_2010_16.csv'"
      ]
     },
     "execution_count": 168,
     "metadata": {},
     "output_type": "execute_result"
    },
    {
     "data": {
      "text/plain": [
       "'dvoa_2009_01.csv'"
      ]
     },
     "execution_count": 168,
     "metadata": {},
     "output_type": "execute_result"
    },
    {
     "data": {
      "text/plain": [
       "'dvoa_2009_02.csv'"
      ]
     },
     "execution_count": 168,
     "metadata": {},
     "output_type": "execute_result"
    },
    {
     "data": {
      "text/plain": [
       "'dvoa_2009_03.csv'"
      ]
     },
     "execution_count": 168,
     "metadata": {},
     "output_type": "execute_result"
    },
    {
     "data": {
      "text/plain": [
       "'dvoa_2009_04.csv'"
      ]
     },
     "execution_count": 168,
     "metadata": {},
     "output_type": "execute_result"
    },
    {
     "data": {
      "text/plain": [
       "'dvoa_2009_05.csv'"
      ]
     },
     "execution_count": 168,
     "metadata": {},
     "output_type": "execute_result"
    },
    {
     "data": {
      "text/plain": [
       "'dvoa_2009_06.csv'"
      ]
     },
     "execution_count": 168,
     "metadata": {},
     "output_type": "execute_result"
    },
    {
     "data": {
      "text/plain": [
       "'dvoa_2009_07.csv'"
      ]
     },
     "execution_count": 168,
     "metadata": {},
     "output_type": "execute_result"
    },
    {
     "data": {
      "text/plain": [
       "'dvoa_2009_08.csv'"
      ]
     },
     "execution_count": 168,
     "metadata": {},
     "output_type": "execute_result"
    },
    {
     "data": {
      "text/plain": [
       "'dvoa_2009_09.csv'"
      ]
     },
     "execution_count": 168,
     "metadata": {},
     "output_type": "execute_result"
    },
    {
     "data": {
      "text/plain": [
       "'dvoa_2009_10.csv'"
      ]
     },
     "execution_count": 168,
     "metadata": {},
     "output_type": "execute_result"
    },
    {
     "data": {
      "text/plain": [
       "'dvoa_2009_11.csv'"
      ]
     },
     "execution_count": 168,
     "metadata": {},
     "output_type": "execute_result"
    },
    {
     "data": {
      "text/plain": [
       "'dvoa_2009_12.csv'"
      ]
     },
     "execution_count": 168,
     "metadata": {},
     "output_type": "execute_result"
    },
    {
     "data": {
      "text/plain": [
       "'dvoa_2009_13.csv'"
      ]
     },
     "execution_count": 168,
     "metadata": {},
     "output_type": "execute_result"
    },
    {
     "data": {
      "text/plain": [
       "'dvoa_2009_14.csv'"
      ]
     },
     "execution_count": 168,
     "metadata": {},
     "output_type": "execute_result"
    },
    {
     "data": {
      "text/plain": [
       "'dvoa_2009_15.csv'"
      ]
     },
     "execution_count": 168,
     "metadata": {},
     "output_type": "execute_result"
    },
    {
     "data": {
      "text/plain": [
       "'dvoa_2009_16.csv'"
      ]
     },
     "execution_count": 168,
     "metadata": {},
     "output_type": "execute_result"
    },
    {
     "data": {
      "text/plain": [
       "'dvoa_2008_01.csv'"
      ]
     },
     "execution_count": 168,
     "metadata": {},
     "output_type": "execute_result"
    },
    {
     "data": {
      "text/plain": [
       "'dvoa_2008_02.csv'"
      ]
     },
     "execution_count": 168,
     "metadata": {},
     "output_type": "execute_result"
    },
    {
     "data": {
      "text/plain": [
       "'dvoa_2008_03.csv'"
      ]
     },
     "execution_count": 168,
     "metadata": {},
     "output_type": "execute_result"
    },
    {
     "data": {
      "text/plain": [
       "'dvoa_2008_04.csv'"
      ]
     },
     "execution_count": 168,
     "metadata": {},
     "output_type": "execute_result"
    },
    {
     "data": {
      "text/plain": [
       "'dvoa_2008_05.csv'"
      ]
     },
     "execution_count": 168,
     "metadata": {},
     "output_type": "execute_result"
    },
    {
     "data": {
      "text/plain": [
       "'dvoa_2008_06.csv'"
      ]
     },
     "execution_count": 168,
     "metadata": {},
     "output_type": "execute_result"
    },
    {
     "data": {
      "text/plain": [
       "'dvoa_2008_07.csv'"
      ]
     },
     "execution_count": 168,
     "metadata": {},
     "output_type": "execute_result"
    },
    {
     "data": {
      "text/plain": [
       "'dvoa_2008_08.csv'"
      ]
     },
     "execution_count": 168,
     "metadata": {},
     "output_type": "execute_result"
    },
    {
     "data": {
      "text/plain": [
       "'dvoa_2008_09.csv'"
      ]
     },
     "execution_count": 168,
     "metadata": {},
     "output_type": "execute_result"
    },
    {
     "data": {
      "text/plain": [
       "'dvoa_2008_10.csv'"
      ]
     },
     "execution_count": 168,
     "metadata": {},
     "output_type": "execute_result"
    },
    {
     "data": {
      "text/plain": [
       "'dvoa_2008_11.csv'"
      ]
     },
     "execution_count": 168,
     "metadata": {},
     "output_type": "execute_result"
    },
    {
     "data": {
      "text/plain": [
       "'dvoa_2008_12.csv'"
      ]
     },
     "execution_count": 168,
     "metadata": {},
     "output_type": "execute_result"
    },
    {
     "data": {
      "text/plain": [
       "'dvoa_2008_13.csv'"
      ]
     },
     "execution_count": 168,
     "metadata": {},
     "output_type": "execute_result"
    },
    {
     "data": {
      "text/plain": [
       "'dvoa_2008_14.csv'"
      ]
     },
     "execution_count": 168,
     "metadata": {},
     "output_type": "execute_result"
    },
    {
     "data": {
      "text/plain": [
       "'dvoa_2008_15.csv'"
      ]
     },
     "execution_count": 168,
     "metadata": {},
     "output_type": "execute_result"
    },
    {
     "data": {
      "text/plain": [
       "'dvoa_2008_16.csv'"
      ]
     },
     "execution_count": 168,
     "metadata": {},
     "output_type": "execute_result"
    },
    {
     "data": {
      "text/plain": [
       "'dvoa_2007_01.csv'"
      ]
     },
     "execution_count": 168,
     "metadata": {},
     "output_type": "execute_result"
    },
    {
     "data": {
      "text/plain": [
       "'dvoa_2007_02.csv'"
      ]
     },
     "execution_count": 168,
     "metadata": {},
     "output_type": "execute_result"
    },
    {
     "data": {
      "text/plain": [
       "'dvoa_2007_03.csv'"
      ]
     },
     "execution_count": 168,
     "metadata": {},
     "output_type": "execute_result"
    },
    {
     "data": {
      "text/plain": [
       "'dvoa_2007_04.csv'"
      ]
     },
     "execution_count": 168,
     "metadata": {},
     "output_type": "execute_result"
    },
    {
     "data": {
      "text/plain": [
       "'dvoa_2007_05.csv'"
      ]
     },
     "execution_count": 168,
     "metadata": {},
     "output_type": "execute_result"
    },
    {
     "data": {
      "text/plain": [
       "'dvoa_2007_06.csv'"
      ]
     },
     "execution_count": 168,
     "metadata": {},
     "output_type": "execute_result"
    },
    {
     "data": {
      "text/plain": [
       "'dvoa_2007_07.csv'"
      ]
     },
     "execution_count": 168,
     "metadata": {},
     "output_type": "execute_result"
    },
    {
     "data": {
      "text/plain": [
       "'dvoa_2007_08.csv'"
      ]
     },
     "execution_count": 168,
     "metadata": {},
     "output_type": "execute_result"
    },
    {
     "data": {
      "text/plain": [
       "'dvoa_2007_09.csv'"
      ]
     },
     "execution_count": 168,
     "metadata": {},
     "output_type": "execute_result"
    },
    {
     "data": {
      "text/plain": [
       "'dvoa_2007_10.csv'"
      ]
     },
     "execution_count": 168,
     "metadata": {},
     "output_type": "execute_result"
    },
    {
     "data": {
      "text/plain": [
       "'dvoa_2007_11.csv'"
      ]
     },
     "execution_count": 168,
     "metadata": {},
     "output_type": "execute_result"
    },
    {
     "data": {
      "text/plain": [
       "'dvoa_2007_12.csv'"
      ]
     },
     "execution_count": 168,
     "metadata": {},
     "output_type": "execute_result"
    },
    {
     "data": {
      "text/plain": [
       "'dvoa_2007_13.csv'"
      ]
     },
     "execution_count": 168,
     "metadata": {},
     "output_type": "execute_result"
    },
    {
     "data": {
      "text/plain": [
       "'dvoa_2007_14.csv'"
      ]
     },
     "execution_count": 168,
     "metadata": {},
     "output_type": "execute_result"
    },
    {
     "data": {
      "text/plain": [
       "'dvoa_2007_15.csv'"
      ]
     },
     "execution_count": 168,
     "metadata": {},
     "output_type": "execute_result"
    },
    {
     "data": {
      "text/plain": [
       "'dvoa_2007_16.csv'"
      ]
     },
     "execution_count": 168,
     "metadata": {},
     "output_type": "execute_result"
    }
   ],
   "source": [
    "!mkdir -p dvoa\n",
    "\n",
    "dfs = []\n",
    "started = True\n",
    "for year in np.arange(2017, 2006, -1):\n",
    "    for week in np.arange(1,17): # no week 17 ratings\n",
    "        if started is True:\n",
    "            week_dvoa = scrape_dvoa_week(week, year)\n",
    "            if week_dvoa is None:\n",
    "                print 'FAIL', week, year\n",
    "            else:\n",
    "                week_dvoa['Year'] = year\n",
    "                week_dvoa['Week'] = week\n",
    "                week_dvoa.to_csv('{}/dvoa/dvoa_{:04d}_{:02d}.csv'.format(DATA_DIR, year, week))"
   ]
  },
  {
   "cell_type": "markdown",
   "metadata": {},
   "source": [
    "#### Clean DVOA\n",
    "* In Week 8, they switch from TOTAL DAVE to WEIGHTED DVOA (except weeks 8-10 2007)\n",
    " * TOTAL DAVE: NULL weeks 8-16\n",
    " * WEIGHTED DVOA: NULL weeks 1-7 (for 2007, it's weeks 1-10)\n",
    "* LASTWEEK: NULL week 1"
   ]
  },
  {
   "cell_type": "code",
   "execution_count": 178,
   "metadata": {
    "ExecuteTime": {
     "end_time": "2018-11-08T19:53:38.570861Z",
     "start_time": "2018-11-08T19:53:38.554703Z"
    }
   },
   "outputs": [
    {
     "name": "stdout",
     "output_type": "stream",
     "text": [
      "MIN --> Vikings\n",
      "MIA --> Dolphins\n",
      "CAR --> Panthers\n",
      "ATL --> Falcons\n",
      "DET --> Lions\n",
      "CIN --> Bengals\n"
     ]
    }
   ],
   "source": [
    "import json as JSON\n",
    "dvoa_team_map = JSON.load(open('team_map_for_dvoa.json','r'))\n",
    "\n",
    "for i, (k,v) in enumerate(dvoa_team_map.iteritems()):\n",
    "    print '{} --> {}'.format(k, v)\n",
    "    if i >= 5:\n",
    "        break\n",
    "        \n"
   ]
  },
  {
   "cell_type": "code",
   "execution_count": 183,
   "metadata": {
    "ExecuteTime": {
     "end_time": "2018-11-08T19:58:25.216479Z",
     "start_time": "2018-11-08T19:58:23.846164Z"
    }
   },
   "outputs": [],
   "source": [
    "dvoa_dfs = map(\n",
    "    lambda dvoa: read_csv('dvoa/{}'.format(dvoa)),\n",
    "    sorted(filter(lambda x: x.startswith('dvoa_2'), os.listdir('dvoa')))\n",
    ")\n",
    "\n",
    "col_namechanges = {\n",
    "    'S.T.VOA': 'S.T.DVOA',\n",
    "    'TOTALVOA': 'TOTALDVOA',\n",
    "    'OFFENSEVOA': 'OFFENSEDVOA',\n",
    "    'DEFENSEVOA': 'DEFENSEDVOA',\n",
    "    'WEI.DVOA':'WEIGHTEDDVOA',\n",
    "    'WEIGHTEDVOA':'WEIGHTEDDVOA',\n",
    "    'TOTALDAVE':'TOTAL DAVE',\n",
    "    'DAVE':'TOTAL DAVE',\n",
    "}\n",
    "\n",
    "for i in range(len(dvoa_dfs)):\n",
    "    d = dvoa_dfs[i]\n",
    "    d.columns = map(lambda x: str(x).strip(), d.columns)\n",
    "    drop_cols = filter(lambda c: 'Unnamed' in c, d.columns)\n",
    "    d.drop(drop_cols, axis=1, inplace=True)\n",
    "    \n",
    "    for c in ['RANK','NON-ADJTOT VOA','','\\xc2\\xa0']:\n",
    "        if c in d.columns:\n",
    "            d.drop(c, axis=1, inplace=True)\n",
    "\n",
    "    d.rename(columns=col_namechanges, inplace=True)  \n",
    "    \n",
    "    d['TEAM'] = d['TEAM'].map(dvoa_team_map)"
   ]
  },
  {
   "cell_type": "code",
   "execution_count": 191,
   "metadata": {
    "ExecuteTime": {
     "end_time": "2018-11-08T20:00:36.337138Z",
     "start_time": "2018-11-08T20:00:35.745567Z"
    }
   },
   "outputs": [],
   "source": [
    "dvoa_all = reduce(lambda x,y: x.append(y).reset_index(drop=True), dvoa_dfs)\n",
    "dvoa_all.to_csv('{}/dvoa/dvoa_alltime.csv'.format(DATA_DIR))"
   ]
  },
  {
   "cell_type": "code",
   "execution_count": 189,
   "metadata": {
    "ExecuteTime": {
     "end_time": "2018-11-08T20:00:11.416675Z",
     "start_time": "2018-11-08T20:00:11.399632Z"
    }
   },
   "outputs": [
    {
     "data": {
      "text/plain": [
       "2007    528\n",
       "2008    528\n",
       "2009    528\n",
       "2010    528\n",
       "2011    528\n",
       "2012    528\n",
       "2013    528\n",
       "2014    528\n",
       "2015    528\n",
       "2016    528\n",
       "2017    528\n",
       "Name: Year, dtype: int64"
      ]
     },
     "execution_count": 189,
     "metadata": {},
     "output_type": "execute_result"
    }
   ],
   "source": [
    "dvoa_all['Year'].value_counts().sort_index()"
   ]
  },
  {
   "cell_type": "code",
   "execution_count": 190,
   "metadata": {
    "ExecuteTime": {
     "end_time": "2018-11-08T20:00:15.840938Z",
     "start_time": "2018-11-08T20:00:15.830183Z"
    }
   },
   "outputs": [
    {
     "data": {
      "text/plain": [
       "1     363\n",
       "2     363\n",
       "3     363\n",
       "4     363\n",
       "5     363\n",
       "6     363\n",
       "7     363\n",
       "8     363\n",
       "9     363\n",
       "10    363\n",
       "11    363\n",
       "12    363\n",
       "13    363\n",
       "14    363\n",
       "15    363\n",
       "16    363\n",
       "Name: Week, dtype: int64"
      ]
     },
     "execution_count": 190,
     "metadata": {},
     "output_type": "execute_result"
    }
   ],
   "source": [
    "dvoa_all['Week'].value_counts().sort_index()"
   ]
  },
  {
   "cell_type": "markdown",
   "metadata": {},
   "source": [
    "#### Below is the work to find the columns that need altering (they have been incorporated above)"
   ]
  },
  {
   "cell_type": "code",
   "execution_count": 172,
   "metadata": {
    "ExecuteTime": {
     "end_time": "2018-11-08T19:51:35.629585Z",
     "start_time": "2018-11-08T19:51:35.267955Z"
    }
   },
   "outputs": [
    {
     "data": {
      "text/html": [
       "<div>\n",
       "<style scoped>\n",
       "    .dataframe tbody tr th:only-of-type {\n",
       "        vertical-align: middle;\n",
       "    }\n",
       "\n",
       "    .dataframe tbody tr th {\n",
       "        vertical-align: top;\n",
       "    }\n",
       "\n",
       "    .dataframe thead th {\n",
       "        text-align: right;\n",
       "    }\n",
       "</style>\n",
       "<table border=\"1\" class=\"dataframe\">\n",
       "  <thead>\n",
       "    <tr style=\"text-align: right;\">\n",
       "      <th></th>\n",
       "      <th>0</th>\n",
       "    </tr>\n",
       "  </thead>\n",
       "  <tbody>\n",
       "    <tr>\n",
       "      <th>Week</th>\n",
       "      <td>1.000000</td>\n",
       "    </tr>\n",
       "    <tr>\n",
       "      <th>OFF.RANK</th>\n",
       "      <td>1.000000</td>\n",
       "    </tr>\n",
       "    <tr>\n",
       "      <th>TEAM</th>\n",
       "      <td>1.000000</td>\n",
       "    </tr>\n",
       "    <tr>\n",
       "      <th>Year</th>\n",
       "      <td>1.000000</td>\n",
       "    </tr>\n",
       "    <tr>\n",
       "      <th>TOTALDVOA</th>\n",
       "      <td>1.000000</td>\n",
       "    </tr>\n",
       "    <tr>\n",
       "      <th>OFFENSEDVOA</th>\n",
       "      <td>1.000000</td>\n",
       "    </tr>\n",
       "    <tr>\n",
       "      <th>S.T.RANK</th>\n",
       "      <td>1.000000</td>\n",
       "    </tr>\n",
       "    <tr>\n",
       "      <th>DEF.RANK</th>\n",
       "      <td>1.000000</td>\n",
       "    </tr>\n",
       "    <tr>\n",
       "      <th>DEFENSEDVOA</th>\n",
       "      <td>1.000000</td>\n",
       "    </tr>\n",
       "    <tr>\n",
       "      <th>W-L</th>\n",
       "      <td>1.000000</td>\n",
       "    </tr>\n",
       "    <tr>\n",
       "      <th>S.T.DVOA</th>\n",
       "      <td>1.000000</td>\n",
       "    </tr>\n",
       "    <tr>\n",
       "      <th>LASTWEEK</th>\n",
       "      <td>0.937500</td>\n",
       "    </tr>\n",
       "    <tr>\n",
       "      <th>WEIGHTEDDVOA</th>\n",
       "      <td>0.545455</td>\n",
       "    </tr>\n",
       "    <tr>\n",
       "      <th>TOTAL DAVE</th>\n",
       "      <td>0.437500</td>\n",
       "    </tr>\n",
       "  </tbody>\n",
       "</table>\n",
       "</div>"
      ],
      "text/plain": [
       "                     0\n",
       "Week          1.000000\n",
       "OFF.RANK      1.000000\n",
       "TEAM          1.000000\n",
       "Year          1.000000\n",
       "TOTALDVOA     1.000000\n",
       "OFFENSEDVOA   1.000000\n",
       "S.T.RANK      1.000000\n",
       "DEF.RANK      1.000000\n",
       "DEFENSEDVOA   1.000000\n",
       "W-L           1.000000\n",
       "S.T.DVOA      1.000000\n",
       "LASTWEEK      0.937500\n",
       "WEIGHTEDDVOA  0.545455\n",
       "TOTAL DAVE    0.437500"
      ]
     },
     "execution_count": 172,
     "metadata": {},
     "output_type": "execute_result"
    }
   ],
   "source": [
    "from collections import Counter\n",
    "counts = DataFrame.from_dict(\n",
    "        Counter(reduce(lambda x,y: x+y, map(lambda z: z.columns.tolist(), dvoa_dfs))),\n",
    "        orient='index'\n",
    "    ).sort_values(by=0, ascending=False)\n",
    "counts[0] = counts[0] / float(len(dvoa_dfs))\n",
    "counts"
   ]
  },
  {
   "cell_type": "code",
   "execution_count": 174,
   "metadata": {
    "ExecuteTime": {
     "end_time": "2018-11-08T19:52:15.087969Z",
     "start_time": "2018-11-08T19:52:13.976396Z"
    }
   },
   "outputs": [],
   "source": [
    "years = {}\n",
    "weeks = {}\n",
    "week_years = {}\n",
    "for d in dvoa_dfs:\n",
    "    yr, wk = d[['Year','Week']].values[0]\n",
    "    if yr not in years.keys():\n",
    "        years[yr] = d.columns.tolist()\n",
    "    else:\n",
    "        years[yr] += d.columns.tolist()\n",
    "    \n",
    "    if wk not in weeks.keys():\n",
    "        weeks[wk] = d.columns.tolist()\n",
    "    else:\n",
    "        weeks[wk] += d.columns.tolist()\n",
    "        \n",
    "    week_years[(wk,yr)] = d.columns.tolist()    \n",
    "    \n",
    "counters = {}\n",
    "n = 11.\n",
    "for i, (k,v) in enumerate(weeks.iteritems()):\n",
    "    curr = DataFrame.from_dict(Counter(v), orient='index').rename(columns={0:k})\n",
    "    curr[k] = curr[k].apply(lambda x: (n-x)/n)\n",
    "    if i == 0:\n",
    "        combined_wk = curr\n",
    "    else:\n",
    "        combined_wk = combined_wk.merge(curr, left_index=True, right_index=True, how='outer').fillna(1.)\n",
    "        \n",
    "    counters = {}\n",
    "n = 16.\n",
    "for i, (k,v) in enumerate(years.iteritems()):\n",
    "    curr = DataFrame.from_dict(Counter(v), orient='index').rename(columns={0:k})\n",
    "    curr[k] = curr[k].apply(lambda x: (n-x)/n)\n",
    "    if i == 0:\n",
    "        combined_yr = curr\n",
    "    else:\n",
    "        combined_yr = combined_yr.merge(curr, left_index=True, right_index=True, how='outer').fillna(1.)\n",
    "    \n",
    "for i, (k,v) in enumerate(week_years.iteritems()):\n",
    "    curr = DataFrame.from_dict(Counter(v), orient='index').rename(columns={0:k})\n",
    "    if i == 0:\n",
    "        combined_wkyr = curr\n",
    "    else:\n",
    "        combined_wkyr = combined_wkyr.merge(curr, left_index=True, right_index=True, how='outer').fillna(0)\n",
    "\n",
    "combined_wkyr = combined_wkyr.T"
   ]
  },
  {
   "cell_type": "code",
   "execution_count": 179,
   "metadata": {
    "ExecuteTime": {
     "end_time": "2018-11-08T19:54:27.348233Z",
     "start_time": "2018-11-08T19:54:27.318569Z"
    }
   },
   "outputs": [
    {
     "data": {
      "text/html": [
       "<div>\n",
       "<style scoped>\n",
       "    .dataframe tbody tr th:only-of-type {\n",
       "        vertical-align: middle;\n",
       "    }\n",
       "\n",
       "    .dataframe tbody tr th {\n",
       "        vertical-align: top;\n",
       "    }\n",
       "\n",
       "    .dataframe thead th {\n",
       "        text-align: right;\n",
       "    }\n",
       "</style>\n",
       "<table border=\"1\" class=\"dataframe\">\n",
       "  <thead>\n",
       "    <tr style=\"text-align: right;\">\n",
       "      <th></th>\n",
       "      <th>TOTAL DAVE</th>\n",
       "    </tr>\n",
       "  </thead>\n",
       "  <tbody>\n",
       "    <tr>\n",
       "      <th>8</th>\n",
       "      <td>1.0</td>\n",
       "    </tr>\n",
       "    <tr>\n",
       "      <th>9</th>\n",
       "      <td>1.0</td>\n",
       "    </tr>\n",
       "    <tr>\n",
       "      <th>10</th>\n",
       "      <td>1.0</td>\n",
       "    </tr>\n",
       "    <tr>\n",
       "      <th>11</th>\n",
       "      <td>1.0</td>\n",
       "    </tr>\n",
       "    <tr>\n",
       "      <th>12</th>\n",
       "      <td>1.0</td>\n",
       "    </tr>\n",
       "    <tr>\n",
       "      <th>13</th>\n",
       "      <td>1.0</td>\n",
       "    </tr>\n",
       "    <tr>\n",
       "      <th>14</th>\n",
       "      <td>1.0</td>\n",
       "    </tr>\n",
       "    <tr>\n",
       "      <th>15</th>\n",
       "      <td>1.0</td>\n",
       "    </tr>\n",
       "    <tr>\n",
       "      <th>16</th>\n",
       "      <td>1.0</td>\n",
       "    </tr>\n",
       "  </tbody>\n",
       "</table>\n",
       "</div>"
      ],
      "text/plain": [
       "    TOTAL DAVE\n",
       "8          1.0\n",
       "9          1.0\n",
       "10         1.0\n",
       "11         1.0\n",
       "12         1.0\n",
       "13         1.0\n",
       "14         1.0\n",
       "15         1.0\n",
       "16         1.0"
      ]
     },
     "execution_count": 179,
     "metadata": {},
     "output_type": "execute_result"
    },
    {
     "data": {
      "text/html": [
       "<div>\n",
       "<style scoped>\n",
       "    .dataframe tbody tr th:only-of-type {\n",
       "        vertical-align: middle;\n",
       "    }\n",
       "\n",
       "    .dataframe tbody tr th {\n",
       "        vertical-align: top;\n",
       "    }\n",
       "\n",
       "    .dataframe thead th {\n",
       "        text-align: right;\n",
       "    }\n",
       "</style>\n",
       "<table border=\"1\" class=\"dataframe\">\n",
       "  <thead>\n",
       "    <tr style=\"text-align: right;\">\n",
       "      <th></th>\n",
       "      <th>TOTAL DAVE</th>\n",
       "    </tr>\n",
       "  </thead>\n",
       "  <tbody>\n",
       "    <tr>\n",
       "      <th>2007</th>\n",
       "      <td>0.5625</td>\n",
       "    </tr>\n",
       "    <tr>\n",
       "      <th>2008</th>\n",
       "      <td>0.5625</td>\n",
       "    </tr>\n",
       "    <tr>\n",
       "      <th>2009</th>\n",
       "      <td>0.5625</td>\n",
       "    </tr>\n",
       "    <tr>\n",
       "      <th>2010</th>\n",
       "      <td>0.5625</td>\n",
       "    </tr>\n",
       "    <tr>\n",
       "      <th>2011</th>\n",
       "      <td>0.5625</td>\n",
       "    </tr>\n",
       "    <tr>\n",
       "      <th>2012</th>\n",
       "      <td>0.5625</td>\n",
       "    </tr>\n",
       "    <tr>\n",
       "      <th>2013</th>\n",
       "      <td>0.5625</td>\n",
       "    </tr>\n",
       "    <tr>\n",
       "      <th>2014</th>\n",
       "      <td>0.5625</td>\n",
       "    </tr>\n",
       "    <tr>\n",
       "      <th>2015</th>\n",
       "      <td>0.5625</td>\n",
       "    </tr>\n",
       "    <tr>\n",
       "      <th>2016</th>\n",
       "      <td>0.5625</td>\n",
       "    </tr>\n",
       "    <tr>\n",
       "      <th>2017</th>\n",
       "      <td>0.5625</td>\n",
       "    </tr>\n",
       "  </tbody>\n",
       "</table>\n",
       "</div>"
      ],
      "text/plain": [
       "      TOTAL DAVE\n",
       "2007      0.5625\n",
       "2008      0.5625\n",
       "2009      0.5625\n",
       "2010      0.5625\n",
       "2011      0.5625\n",
       "2012      0.5625\n",
       "2013      0.5625\n",
       "2014      0.5625\n",
       "2015      0.5625\n",
       "2016      0.5625\n",
       "2017      0.5625"
      ]
     },
     "execution_count": 179,
     "metadata": {},
     "output_type": "execute_result"
    }
   ],
   "source": [
    "## NULL weeks 8-16\n",
    "combined_wk.T[combined_wk.T['TOTAL DAVE'] > 0].sort_index()[['TOTAL DAVE']]\n",
    "combined_yr.T[combined_yr.T['TOTAL DAVE'] > 0].sort_index()[['TOTAL DAVE']]"
   ]
  },
  {
   "cell_type": "code",
   "execution_count": 180,
   "metadata": {
    "ExecuteTime": {
     "end_time": "2018-11-08T19:54:40.360394Z",
     "start_time": "2018-11-08T19:54:40.334141Z"
    }
   },
   "outputs": [
    {
     "data": {
      "text/html": [
       "<div>\n",
       "<style scoped>\n",
       "    .dataframe tbody tr th:only-of-type {\n",
       "        vertical-align: middle;\n",
       "    }\n",
       "\n",
       "    .dataframe tbody tr th {\n",
       "        vertical-align: top;\n",
       "    }\n",
       "\n",
       "    .dataframe thead th {\n",
       "        text-align: right;\n",
       "    }\n",
       "</style>\n",
       "<table border=\"1\" class=\"dataframe\">\n",
       "  <thead>\n",
       "    <tr style=\"text-align: right;\">\n",
       "      <th></th>\n",
       "      <th>WEIGHTEDDVOA</th>\n",
       "    </tr>\n",
       "  </thead>\n",
       "  <tbody>\n",
       "    <tr>\n",
       "      <th>1</th>\n",
       "      <td>1.000000</td>\n",
       "    </tr>\n",
       "    <tr>\n",
       "      <th>2</th>\n",
       "      <td>1.000000</td>\n",
       "    </tr>\n",
       "    <tr>\n",
       "      <th>3</th>\n",
       "      <td>1.000000</td>\n",
       "    </tr>\n",
       "    <tr>\n",
       "      <th>4</th>\n",
       "      <td>1.000000</td>\n",
       "    </tr>\n",
       "    <tr>\n",
       "      <th>5</th>\n",
       "      <td>1.000000</td>\n",
       "    </tr>\n",
       "    <tr>\n",
       "      <th>6</th>\n",
       "      <td>1.000000</td>\n",
       "    </tr>\n",
       "    <tr>\n",
       "      <th>7</th>\n",
       "      <td>1.000000</td>\n",
       "    </tr>\n",
       "    <tr>\n",
       "      <th>8</th>\n",
       "      <td>0.090909</td>\n",
       "    </tr>\n",
       "    <tr>\n",
       "      <th>9</th>\n",
       "      <td>0.090909</td>\n",
       "    </tr>\n",
       "    <tr>\n",
       "      <th>10</th>\n",
       "      <td>0.090909</td>\n",
       "    </tr>\n",
       "  </tbody>\n",
       "</table>\n",
       "</div>"
      ],
      "text/plain": [
       "    WEIGHTEDDVOA\n",
       "1       1.000000\n",
       "2       1.000000\n",
       "3       1.000000\n",
       "4       1.000000\n",
       "5       1.000000\n",
       "6       1.000000\n",
       "7       1.000000\n",
       "8       0.090909\n",
       "9       0.090909\n",
       "10      0.090909"
      ]
     },
     "execution_count": 180,
     "metadata": {},
     "output_type": "execute_result"
    },
    {
     "data": {
      "text/html": [
       "<div>\n",
       "<style scoped>\n",
       "    .dataframe tbody tr th:only-of-type {\n",
       "        vertical-align: middle;\n",
       "    }\n",
       "\n",
       "    .dataframe tbody tr th {\n",
       "        vertical-align: top;\n",
       "    }\n",
       "\n",
       "    .dataframe thead th {\n",
       "        text-align: right;\n",
       "    }\n",
       "</style>\n",
       "<table border=\"1\" class=\"dataframe\">\n",
       "  <thead>\n",
       "    <tr style=\"text-align: right;\">\n",
       "      <th></th>\n",
       "      <th>WEIGHTEDDVOA</th>\n",
       "    </tr>\n",
       "  </thead>\n",
       "  <tbody>\n",
       "    <tr>\n",
       "      <th>2007</th>\n",
       "      <td>0.6250</td>\n",
       "    </tr>\n",
       "    <tr>\n",
       "      <th>2008</th>\n",
       "      <td>0.4375</td>\n",
       "    </tr>\n",
       "    <tr>\n",
       "      <th>2009</th>\n",
       "      <td>0.4375</td>\n",
       "    </tr>\n",
       "    <tr>\n",
       "      <th>2010</th>\n",
       "      <td>0.4375</td>\n",
       "    </tr>\n",
       "    <tr>\n",
       "      <th>2011</th>\n",
       "      <td>0.4375</td>\n",
       "    </tr>\n",
       "    <tr>\n",
       "      <th>2012</th>\n",
       "      <td>0.4375</td>\n",
       "    </tr>\n",
       "    <tr>\n",
       "      <th>2013</th>\n",
       "      <td>0.4375</td>\n",
       "    </tr>\n",
       "    <tr>\n",
       "      <th>2014</th>\n",
       "      <td>0.4375</td>\n",
       "    </tr>\n",
       "    <tr>\n",
       "      <th>2015</th>\n",
       "      <td>0.4375</td>\n",
       "    </tr>\n",
       "    <tr>\n",
       "      <th>2016</th>\n",
       "      <td>0.4375</td>\n",
       "    </tr>\n",
       "    <tr>\n",
       "      <th>2017</th>\n",
       "      <td>0.4375</td>\n",
       "    </tr>\n",
       "  </tbody>\n",
       "</table>\n",
       "</div>"
      ],
      "text/plain": [
       "      WEIGHTEDDVOA\n",
       "2007        0.6250\n",
       "2008        0.4375\n",
       "2009        0.4375\n",
       "2010        0.4375\n",
       "2011        0.4375\n",
       "2012        0.4375\n",
       "2013        0.4375\n",
       "2014        0.4375\n",
       "2015        0.4375\n",
       "2016        0.4375\n",
       "2017        0.4375"
      ]
     },
     "execution_count": 180,
     "metadata": {},
     "output_type": "execute_result"
    }
   ],
   "source": [
    "## null weeks 1-7 all seasons; additionally 8-10 in 2007 \n",
    "## ** FO switches from TOTAL DAVE to WEIGHTEDDVOA in week 8\n",
    "combined_wk.T[combined_wk.T['WEIGHTEDDVOA'] > 0].sort_index()[['WEIGHTEDDVOA']]\n",
    "combined_yr.T[combined_yr.T['WEIGHTEDDVOA'] > 0].sort_index()[['WEIGHTEDDVOA']]"
   ]
  },
  {
   "cell_type": "code",
   "execution_count": 181,
   "metadata": {
    "ExecuteTime": {
     "end_time": "2018-11-08T19:54:49.243478Z",
     "start_time": "2018-11-08T19:54:49.214216Z"
    }
   },
   "outputs": [
    {
     "data": {
      "text/html": [
       "<div>\n",
       "<style scoped>\n",
       "    .dataframe tbody tr th:only-of-type {\n",
       "        vertical-align: middle;\n",
       "    }\n",
       "\n",
       "    .dataframe tbody tr th {\n",
       "        vertical-align: top;\n",
       "    }\n",
       "\n",
       "    .dataframe thead th {\n",
       "        text-align: right;\n",
       "    }\n",
       "</style>\n",
       "<table border=\"1\" class=\"dataframe\">\n",
       "  <thead>\n",
       "    <tr style=\"text-align: right;\">\n",
       "      <th></th>\n",
       "      <th>LASTWEEK</th>\n",
       "    </tr>\n",
       "  </thead>\n",
       "  <tbody>\n",
       "    <tr>\n",
       "      <th>1</th>\n",
       "      <td>1.0</td>\n",
       "    </tr>\n",
       "  </tbody>\n",
       "</table>\n",
       "</div>"
      ],
      "text/plain": [
       "   LASTWEEK\n",
       "1       1.0"
      ]
     },
     "execution_count": 181,
     "metadata": {},
     "output_type": "execute_result"
    },
    {
     "data": {
      "text/html": [
       "<div>\n",
       "<style scoped>\n",
       "    .dataframe tbody tr th:only-of-type {\n",
       "        vertical-align: middle;\n",
       "    }\n",
       "\n",
       "    .dataframe tbody tr th {\n",
       "        vertical-align: top;\n",
       "    }\n",
       "\n",
       "    .dataframe thead th {\n",
       "        text-align: right;\n",
       "    }\n",
       "</style>\n",
       "<table border=\"1\" class=\"dataframe\">\n",
       "  <thead>\n",
       "    <tr style=\"text-align: right;\">\n",
       "      <th></th>\n",
       "      <th>LASTWEEK</th>\n",
       "    </tr>\n",
       "  </thead>\n",
       "  <tbody>\n",
       "    <tr>\n",
       "      <th>2007</th>\n",
       "      <td>0.0625</td>\n",
       "    </tr>\n",
       "    <tr>\n",
       "      <th>2008</th>\n",
       "      <td>0.0625</td>\n",
       "    </tr>\n",
       "    <tr>\n",
       "      <th>2009</th>\n",
       "      <td>0.0625</td>\n",
       "    </tr>\n",
       "    <tr>\n",
       "      <th>2010</th>\n",
       "      <td>0.0625</td>\n",
       "    </tr>\n",
       "    <tr>\n",
       "      <th>2011</th>\n",
       "      <td>0.0625</td>\n",
       "    </tr>\n",
       "    <tr>\n",
       "      <th>2012</th>\n",
       "      <td>0.0625</td>\n",
       "    </tr>\n",
       "    <tr>\n",
       "      <th>2013</th>\n",
       "      <td>0.0625</td>\n",
       "    </tr>\n",
       "    <tr>\n",
       "      <th>2014</th>\n",
       "      <td>0.0625</td>\n",
       "    </tr>\n",
       "    <tr>\n",
       "      <th>2015</th>\n",
       "      <td>0.0625</td>\n",
       "    </tr>\n",
       "    <tr>\n",
       "      <th>2016</th>\n",
       "      <td>0.0625</td>\n",
       "    </tr>\n",
       "    <tr>\n",
       "      <th>2017</th>\n",
       "      <td>0.0625</td>\n",
       "    </tr>\n",
       "  </tbody>\n",
       "</table>\n",
       "</div>"
      ],
      "text/plain": [
       "      LASTWEEK\n",
       "2007    0.0625\n",
       "2008    0.0625\n",
       "2009    0.0625\n",
       "2010    0.0625\n",
       "2011    0.0625\n",
       "2012    0.0625\n",
       "2013    0.0625\n",
       "2014    0.0625\n",
       "2015    0.0625\n",
       "2016    0.0625\n",
       "2017    0.0625"
      ]
     },
     "execution_count": 181,
     "metadata": {},
     "output_type": "execute_result"
    }
   ],
   "source": [
    "# only NULL week 1\n",
    "combined_wk.T[combined_wk.T['LASTWEEK'] > 0].sort_index()[['LASTWEEK']]\n",
    "combined_yr.T[combined_yr.T['LASTWEEK'] > 0].sort_index()[['LASTWEEK']]"
   ]
  },
  {
   "cell_type": "markdown",
   "metadata": {},
   "source": [
    "### PFR Game Stats -- Primary Data Source\n",
    "* Step 1: write all HTML to disk\n",
    "* Step 2: extract individual tables and write them to separate directories"
   ]
  },
  {
   "cell_type": "code",
   "execution_count": 26,
   "metadata": {
    "ExecuteTime": {
     "end_time": "2018-11-06T19:11:06.423175Z",
     "start_time": "2018-11-06T19:11:03.528479Z"
    }
   },
   "outputs": [],
   "source": [
    "driver = ScrapeTools().get_driver()"
   ]
  },
  {
   "cell_type": "code",
   "execution_count": 27,
   "metadata": {
    "ExecuteTime": {
     "end_time": "2018-11-06T19:19:25.421241Z",
     "start_time": "2018-11-06T19:11:18.403881Z"
    }
   },
   "outputs": [],
   "source": [
    "all_games = {}\n",
    "\n",
    "for year in range(2007,2019):\n",
    "    for week in np.arange(1,22):\n",
    "        url = 'https://www.pro-football-reference.com/years/{}/week_{}.htm'\\\n",
    "                .format(year, week)\n",
    "\n",
    "        soup = ScrapeTools().get_soup(url, driver)\n",
    "        all_games[(week, year)] = map(\n",
    "            lambda x: x.findAll('a')[0].attrs['href'], \n",
    "            soup.findAll('td', {'class': 'gamelink'})\n",
    "        )"
   ]
  },
  {
   "cell_type": "code",
   "execution_count": 28,
   "metadata": {
    "ExecuteTime": {
     "end_time": "2018-11-06T19:38:28.776458Z",
     "start_time": "2018-11-06T19:38:28.605975Z"
    }
   },
   "outputs": [],
   "source": [
    "DataFrame.from_dict(all_games, orient='index').to_csv('{}/fref_all_games_urls.csv'.format(DATA_DIR))"
   ]
  },
  {
   "cell_type": "code",
   "execution_count": 29,
   "metadata": {
    "ExecuteTime": {
     "end_time": "2018-11-06T19:38:29.499187Z",
     "start_time": "2018-11-06T19:38:29.491217Z"
    }
   },
   "outputs": [],
   "source": [
    "all_urls = reduce(lambda x,y: x+y, all_games.values())"
   ]
  },
  {
   "cell_type": "code",
   "execution_count": 31,
   "metadata": {
    "ExecuteTime": {
     "end_time": "2018-11-06T19:38:33.396229Z",
     "start_time": "2018-11-06T19:38:33.371364Z"
    }
   },
   "outputs": [],
   "source": [
    "import os \n",
    "files = os.listdir('games_stats')"
   ]
  },
  {
   "cell_type": "code",
   "execution_count": 32,
   "metadata": {
    "ExecuteTime": {
     "end_time": "2018-11-06T19:38:34.316703Z",
     "start_time": "2018-11-06T19:38:34.306903Z"
    }
   },
   "outputs": [
    {
     "data": {
      "text/plain": [
       "2937"
      ]
     },
     "execution_count": 32,
     "metadata": {},
     "output_type": "execute_result"
    },
    {
     "data": {
      "text/plain": [
       "'201211180was.txt'"
      ]
     },
     "execution_count": 32,
     "metadata": {},
     "output_type": "execute_result"
    }
   ],
   "source": [
    "len(files)\n",
    "files[0]"
   ]
  },
  {
   "cell_type": "markdown",
   "metadata": {},
   "source": [
    "#### games_stats directory is raw html unicode"
   ]
  },
  {
   "cell_type": "code",
   "execution_count": 368,
   "metadata": {
    "ExecuteTime": {
     "end_time": "2018-08-25T05:01:45.238276Z",
     "start_time": "2018-08-25T03:10:40.003802Z"
    },
    "scrolled": true
   },
   "outputs": [
    {
     "name": "stdout",
     "output_type": "stream",
     "text": [
      "0\n",
      "100\n",
      "200\n",
      "300\n",
      "400\n",
      "500\n",
      "600\n",
      "700\n",
      "800\n",
      "900\n",
      "1000\n",
      "1100\n",
      "1200\n",
      "1300\n",
      "1400\n",
      "1500\n",
      "1600\n",
      "1700\n",
      "1800\n",
      "1900\n",
      "2000\n",
      "2100\n",
      "2200\n",
      "2300\n",
      "2400\n",
      "2500\n",
      "2600\n",
      "2700\n",
      "2800\n",
      "2900\n",
      "3000\n",
      "3100\n"
     ]
    }
   ],
   "source": [
    "# 1102\n",
    "for i, url in enumerate(all_urls):\n",
    "    if i % 100 == 0:\n",
    "        print i\n",
    "    game_id = url.split('/')[-1].split('.')[0]\n",
    "    if '{}.txt'.format(game_id) in files:\n",
    "        pass\n",
    "    else:\n",
    "        url = 'https://www.pro-football-reference.com/{}'.format(url)\n",
    "        soup = ScrapeTools().get_soup(url, driver)\n",
    "        with open('games_stats/{}.txt'.format(game_id), 'w') as w:\n",
    "            w.write(unicode(soup))"
   ]
  },
  {
   "cell_type": "markdown",
   "metadata": {},
   "source": [
    "#### Extract Data From Stored HTML"
   ]
  },
  {
   "cell_type": "code",
   "execution_count": 5,
   "metadata": {
    "ExecuteTime": {
     "end_time": "2018-11-06T20:22:01.591251Z",
     "start_time": "2018-11-06T20:22:01.571340Z"
    }
   },
   "outputs": [],
   "source": [
    "def extract_scorebox_team_info(div, curr_game_metadata, i):\n",
    "    '''for the team divs in scorebox, extract the team name/link, \n",
    "    city, score, and coach name/link'''\n",
    "    team = div.findAll('a', {'itemprop':'name'})[0]\n",
    "\n",
    "    team_link = team.attrs['href']\n",
    "    team_full_name = team.text\n",
    "    team_name = team_full_name.split(' ')[-1]\n",
    "    team_city = ' '.join(team_full_name.split(' ')[:-1])\n",
    "    team_score = div.findAll('div', {'class': 'score'})[0].text\n",
    "    team_coach_raw = div.findAll('div', {'class': 'datapoint'})[0]\\\n",
    "                        .findAll('a')[0]\n",
    "    team_coach_name = team_coach_raw.text\n",
    "    team_coach_id = team_coach_raw.attrs['href']\n",
    "\n",
    "    curr_game_metadata['team{}_link'.format(i)] = team_link\n",
    "    curr_game_metadata['team{}_fullname'.format(i)] = team_full_name\n",
    "    curr_game_metadata['team{}_name'.format(i)] = team_name\n",
    "    curr_game_metadata['team{}_city'.format(i)] = team_city\n",
    "    curr_game_metadata['team{}_score'.format(i)] = team_score\n",
    "    curr_game_metadata['team{}_coach_raw'.format(i)] = team_coach_raw\n",
    "    curr_game_metadata['team{}_coach_name'.format(i)] = team_coach_name\n",
    "    curr_game_metadata['team{}_coach_id'.format(i)] = team_coach_id    \n",
    "    \n",
    "    return curr_game_metadata"
   ]
  },
  {
   "cell_type": "code",
   "execution_count": 6,
   "metadata": {
    "ExecuteTime": {
     "end_time": "2018-11-06T20:22:01.768352Z",
     "start_time": "2018-11-06T20:22:01.760745Z"
    }
   },
   "outputs": [],
   "source": [
    "def clean_game_meta(div, field):\n",
    "    '''converts attendance to integer, and\n",
    "    strips unnecessary headers from strings\n",
    "    '''\n",
    "    div = div.replace('Stadium: ','')\\\n",
    "             .replace('Start Time: ','')\\\n",
    "             .replace('Attendance: ','')\\\n",
    "             .replace('Time of Game: ','')\n",
    "    \n",
    "    if field == 'attendance':\n",
    "        return int(div.replace(',',''))\n",
    "    else:\n",
    "        return div.strip()"
   ]
  },
  {
   "cell_type": "code",
   "execution_count": 7,
   "metadata": {
    "ExecuteTime": {
     "end_time": "2018-11-06T20:22:01.985812Z",
     "start_time": "2018-11-06T20:22:01.964445Z"
    }
   },
   "outputs": [],
   "source": [
    "def extract_game_metadata(scorebox):\n",
    "    '''takes in the scorebox div. parses the 3\n",
    "    divs: team0, team1, game data, and returns a dict\n",
    "    entry for this game'''\n",
    "\n",
    "    div_children = filter(\n",
    "        lambda ch: str(type(ch)) != \"<class 'bs4.element.NavigableString'>\",\n",
    "        scorebox.children\n",
    "    )\n",
    "\n",
    "    div_teams = filter(\n",
    "            lambda x: x.attrs.get('class', []) == [], \n",
    "            div_children\n",
    "        )\n",
    "    div_game = filter(\n",
    "            lambda x: x.attrs.get('class', []) == ['scorebox_meta'], \n",
    "            div_children\n",
    "        )[0]\n",
    "\n",
    "    ## TEAM INFO\n",
    "    curr_game_metadata = OrderedDict()\n",
    "    for i, div in enumerate(div_teams):\n",
    "        curr_game_metadata = extract_scorebox_team_info(div, curr_game_metadata, i) \n",
    "\n",
    "    ## GAME INFO\n",
    "    ## it looks like there is no indicator of the field\n",
    "    ## e.g. date, start time. feels gross but hardcoding\n",
    "    ## is the only solution I can think of\n",
    "    meta_order = ['date','time','stadium','attendance','duration']\n",
    "\n",
    "    for field, div in zip(meta_order, div_game.findAll('div')):\n",
    "        curr_game_metadata[field] = clean_game_meta(div.text, field)\n",
    "        if field == 'stadium':\n",
    "            curr_game_metadata['stadium_link'] = div.findAll('a')[0].attrs['href']\n",
    "\n",
    "    return curr_game_metadata"
   ]
  },
  {
   "cell_type": "code",
   "execution_count": 8,
   "metadata": {
    "ExecuteTime": {
     "end_time": "2018-11-06T20:22:02.252734Z",
     "start_time": "2018-11-06T20:22:02.218170Z"
    },
    "scrolled": true
   },
   "outputs": [],
   "source": [
    "def text_or_link(td):\n",
    "    '''if the element contains a hyperlink, return the\n",
    "    raw string. otherwise, return only the text'''\n",
    "    \n",
    "    ## some a tags do not have href. hrefs is a list\n",
    "    ## of href values. if empty, there is no href and\n",
    "    ## return the text\n",
    "    hrefs = map(lambda x: x.attrs.get('href', None), td.findAll('a'))\n",
    "    hrefs = filter(lambda x: (x is not None) & ('#' not in str(x)), hrefs)\n",
    "        \n",
    "    if hrefs:\n",
    "        return td\n",
    "    else:\n",
    "        return td.text\n",
    "\n",
    "def get_game_tables(soup, game_id):\n",
    "    '''for the given file (BeautifulSoup object),\n",
    "    extract all data tables, and return a dictionary\n",
    "    of data tables for the game.'''\n",
    "    file_tables = {}\n",
    "    for tbl_container in soup.findAll('div', {'class':'table_outer_container'}):\n",
    "        tbl = tbl_container.findAll('tbody')[-1]\n",
    "\n",
    "        table_dict = {}\n",
    "        for i, tr in enumerate(tbl.findAll('tr')):\n",
    "            if 'thead' in tr.attrs.get('class', []):\n",
    "                pass\n",
    "            else:\n",
    "                table_dict[i] = OrderedDict()\n",
    "                table_dict[i]['game_id'] = game_id\n",
    "\n",
    "                ## first column is a th, but can be treated same as td\n",
    "                for td in tr.findAll('th') + tr.findAll('td'):\n",
    "                    if td.attrs['data-stat'] in ['player','name']:\n",
    "                        name_type = td.attrs['data-stat']\n",
    "                        table_dict[i][name_type+'_raw'] = text_or_link(td)\n",
    "                        table_dict[i][name_type+'_name'] = td.text\n",
    "                        name = map(\n",
    "                            lambda x: x.attrs['href'], td.findAll('a')\n",
    "                        )\n",
    "                        if name:\n",
    "                            table_dict[i][name_type+'_id'] = name[0]\n",
    "                    else:\n",
    "                        table_dict[i][td.attrs['data-stat']] = text_or_link(td)\n",
    "                        \n",
    "        table_name = tbl_container.findAll('caption')[0].text\n",
    "        file_tables[table_name] = DataFrame.from_dict(table_dict, orient='index')\n",
    "    return file_tables"
   ]
  },
  {
   "cell_type": "code",
   "execution_count": 9,
   "metadata": {
    "ExecuteTime": {
     "end_time": "2018-11-06T20:22:02.666497Z",
     "start_time": "2018-11-06T20:22:02.647823Z"
    }
   },
   "outputs": [],
   "source": [
    "def merge_split_tables(game_metadata, game_tables):\n",
    "    '''certain data is broken out by team (drives, starters, snap counts). \n",
    "    this is indicated by the team name\\' presence in the table key.\n",
    "    make a Team column with the team name, and merge the DataFrames.\n",
    "    '''\n",
    "\n",
    "    team_names = map(lambda i: game_metadata['team{}_name'.format(i)], [0,1])\n",
    "    tables_w_team_name = filter(\n",
    "        lambda x: x.split(' ')[0] in team_names, \n",
    "        game_tables.keys()\n",
    "    )\n",
    "\n",
    "    for tbl in tables_w_team_name:\n",
    "        assert 'Team' not in game_tables[tbl].columns\n",
    "        game_tables[tbl]['Team'] = tbl.split(' ')[0]\n",
    "\n",
    "        base_name = ' '.join(tbl.split(' ')[1:])\n",
    "\n",
    "        if base_name not in game_tables.keys():\n",
    "            game_tables[base_name] = game_tables[tbl]\n",
    "        else:\n",
    "            game_tables[base_name] = game_tables[base_name].append(\n",
    "                game_tables[tbl]\n",
    "            ).reset_index(drop=True)\n",
    "\n",
    "    for tbl in tables_w_team_name:\n",
    "        del game_tables[tbl]\n",
    "        \n",
    "    return game_tables"
   ]
  },
  {
   "cell_type": "code",
   "execution_count": 20,
   "metadata": {
    "ExecuteTime": {
     "end_time": "2018-11-07T01:03:22.037697Z",
     "start_time": "2018-11-06T21:37:34.492523Z"
    }
   },
   "outputs": [
    {
     "data": {
      "text/plain": [
       "2937"
      ]
     },
     "execution_count": 20,
     "metadata": {},
     "output_type": "execute_result"
    },
    {
     "name": "stdout",
     "output_type": "stream",
     "text": [
      "0\n",
      "100\n",
      "200\n",
      "300\n",
      "400\n",
      "500\n",
      "600\n",
      "700\n",
      "800\n",
      "900\n",
      "1000\n",
      "1100\n",
      "1200\n",
      "1300\n",
      "1400\n",
      "1500\n",
      "1600\n",
      "1700\n",
      "1800\n",
      "1900\n",
      "2000\n",
      "2100\n",
      "2200\n",
      "2300\n",
      "2400\n",
      "2500\n",
      "2600\n",
      "2700\n",
      "2800\n",
      "2900\n"
     ]
    }
   ],
   "source": [
    "files = sorted(os.listdir('{}/games_stats'.format(DATA_DIR)))[::-1]\n",
    "len(files)\n",
    "\n",
    "start_pt = 0\n",
    "\n",
    "for i, f in enumerate(files):\n",
    "    if i % 100 == 0:\n",
    "        print i\n",
    "\n",
    "    if i >= start_pt:\n",
    "        try:\n",
    "            soup = BeautifulSoup(open('{}/games_stats/{}'.format(DATA_DIR, f)).read(), 'lxml')\n",
    "\n",
    "            scorebox = soup.findAll('div', {'class': 'scorebox'})[0]\n",
    "            game_metadata = extract_game_metadata(scorebox)\n",
    "                            \n",
    "            game_tables = get_game_tables(soup, f.split('.')[0])\n",
    "            game_tables = merge_split_tables(game_metadata, game_tables)\n",
    "\n",
    "            for k,v in game_tables.iteritems():\n",
    "                directory = k.replace(' ', '_')\\\n",
    "                             .replace('-','_')\\\n",
    "                             .replace('/','_')\\\n",
    "                             .replace('&','and')\\\n",
    "                             .replace(',','_')\\\n",
    "                             .lower()\\\n",
    "                             .replace('_table','')\n",
    "                filename = f.replace('txt','csv')\n",
    "\n",
    "                filepath = '{}/{}/{}'.format(DATA_DIR, directory, filename)\n",
    "                if not os.path.exists(filepath):\n",
    "                    v.to_csv(filepath)\n",
    "    \n",
    "            game_metadata_df = DataFrame.from_dict(\n",
    "                    game_metadata, orient='index'\n",
    "                ).T\n",
    "            game_metadata_df['game_id'] = game_tables['Game Info Table'].loc[0, 'game_id']\n",
    "            game_metadata_df.to_csv(\n",
    "                '{}/game_metadata.csv'.format(DATA_DIR), \n",
    "                 mode='a', \n",
    "                 header=(i==0),\n",
    "                 index=False\n",
    "                )\n",
    "        except Exception as e:\n",
    "            print 'FAILED: {}'.format(f)\n",
    "            print e"
   ]
  },
  {
   "cell_type": "markdown",
   "metadata": {},
   "source": [
    "#### TODO: Combine the PRF Play-by-Play"
   ]
  },
  {
   "cell_type": "code",
   "execution_count": 4,
   "metadata": {
    "ExecuteTime": {
     "end_time": "2018-08-29T04:57:11.333974Z",
     "start_time": "2018-08-29T04:57:11.303486Z"
    }
   },
   "outputs": [],
   "source": [
    "import os\n",
    "\n",
    "directory = '{}/full_play_by_play'.format(DATA_DIR)\n",
    "files = map(lambda x: '{}/{}'.format(directory, x), os.listdir(directory))"
   ]
  },
  {
   "cell_type": "code",
   "execution_count": 19,
   "metadata": {
    "ExecuteTime": {
     "end_time": "2018-08-29T05:02:23.216019Z",
     "start_time": "2018-08-29T05:02:23.086271Z"
    }
   },
   "outputs": [],
   "source": [
    "!head -n 1 full_play_by_play/201012260kan.csv > full_play_by_play/ALL_full_play_by_play.csv"
   ]
  },
  {
   "cell_type": "code",
   "execution_count": null,
   "metadata": {
    "ExecuteTime": {
     "start_time": "2018-08-29T05:02:23.619Z"
    }
   },
   "outputs": [],
   "source": [
    "!for l in `ls full_play_by_play/*.*` ; do sed 1,1d $l >> full_play_by_play/ALL_full_play_by_play.csv  ; done"
   ]
  },
  {
   "cell_type": "code",
   "execution_count": null,
   "metadata": {
    "ExecuteTime": {
     "start_time": "2018-08-29T05:02:28.478Z"
    }
   },
   "outputs": [],
   "source": [
    "!wc -l full_play_by_play/ALL*"
   ]
  },
  {
   "cell_type": "code",
   "execution_count": null,
   "metadata": {
    "ExecuteTime": {
     "end_time": "2018-08-29T03:06:44.851660Z",
     "start_time": "2018-08-29T03:05:25.644Z"
    }
   },
   "outputs": [],
   "source": [
    "full_set_name = '{d}/ALL_{d}.csv'.format(d=directory)\n",
    "combined.to_csv(full_set_name, index=False)"
   ]
  },
  {
   "cell_type": "code",
   "execution_count": 1,
   "metadata": {
    "ExecuteTime": {
     "end_time": "2018-11-19T02:31:41.182378Z",
     "start_time": "2018-11-19T02:31:41.165995Z"
    }
   },
   "outputs": [],
   "source": [
    "#### sportradar API"
   ]
  },
  {
   "cell_type": "code",
   "execution_count": null,
   "metadata": {},
   "outputs": [],
   "source": [
    "import http.client\n",
    "\n",
    "conn = http.client.HTTPSConnection(\"api.sportradar.us\")\n",
    "\n",
    "key = ''\n",
    "\n",
    "conn.request(\"GET\", \"/nfl-ngs-t1/games/25fde8b4-6e4e-468c-ba0a-a511530a303c/tracked_pbp.xml?api_key={}\".format(key))\n",
    "\n",
    "res = conn.getresponse()\n",
    "data = res.read()\n",
    "\n",
    "print(data.decode(\"utf-8\"))\n"
   ]
  },
  {
   "cell_type": "markdown",
   "metadata": {},
   "source": [
    "### Use wikipedia python package, scrape Wikipedia pages and extract lat/long for each stadium -- goal is to eventually compute travel distances between games"
   ]
  },
  {
   "cell_type": "code",
   "execution_count": 76,
   "metadata": {
    "ExecuteTime": {
     "end_time": "2018-11-07T19:06:24.265042Z",
     "start_time": "2018-11-07T19:06:24.237758Z"
    }
   },
   "outputs": [],
   "source": [
    "def extract_lat_long(stadium_name):\n",
    "    '''given a WikipediaPage object, use \n",
    "    BeautifulSoup to extract/return the\n",
    "    lat/long for the stadium'''\n",
    "    soup = BeautifulSoup(\n",
    "        wikipedia.WikipediaPage(title = s).html()\n",
    "    )\n",
    "    geo = soup.findAll('span', {'class':'geo'})\n",
    "    if geo:\n",
    "        lat_long = map(float, geo[0].text.split('; '))\n",
    "        return {'lat': lat_long[0], 'long': lat_long[1]}"
   ]
  },
  {
   "cell_type": "code",
   "execution_count": 78,
   "metadata": {
    "ExecuteTime": {
     "end_time": "2018-11-07T19:09:33.990210Z",
     "start_time": "2018-11-07T19:06:37.075495Z"
    }
   },
   "outputs": [
    {
     "name": "stdout",
     "output_type": "stream",
     "text": [
      "U.S. Bank Stadium {'lat': 44.974, 'long': -93.258}\n",
      "Lincoln Financial Field {'lat': 39.90083, 'long': -75.1675}\n",
      "Gillette Stadium {'lat': 42.0909444, 'long': -71.2643444}\n",
      "Heinz Field {'lat': 40.44667, 'long': -80.01583}\n",
      "Mercedes-Benz Superdome {'lat': 29.95083, 'long': -90.08111}\n",
      "EverBank Field {'lat': 30.32389, 'long': -81.6375}\n",
      "Los Angeles Memorial Coliseum {'lat': 34.01417, 'long': -118.28778}\n",
      "Arrowhead Stadium {'lat': 39.04889, 'long': -94.48389}\n",
      "Raymond James Stadium {'lat': 27.97583, 'long': -82.50333}\n",
      "CenturyLink Field {'lat': 47.5952, 'long': -122.3316}\n",
      "StubHub Center {'lat': 33.864, 'long': -118.261}\n",
      "M&T Bank Stadium {'lat': 39.27806, 'long': -76.62278}\n",
      "Nissan Stadium {'lat': 36.16639, 'long': -86.77139}\n",
      "MetLife Stadium {'lat': 40.813528, 'long': -74.074361}\n",
      "Hard Rock Stadium {'lat': 25.95806, 'long': -80.23889}\n",
      "Ford Field {'lat': 42.34, 'long': -83.04556}\n",
      "Sports Authority Field at Mile High {'lat': 39.74389, 'long': -105.02}\n",
      "Lucas Oil Stadium {'lat': 39.760056, 'long': -86.163806}\n",
      "Mercedes-Benz Stadium {'lat': 33.755, 'long': -84.401}\n",
      "NRG Stadium {'lat': 29.68472, 'long': -95.41083}\n",
      "FedExField {'lat': 38.90778, 'long': -76.86444}\n",
      "Levi's Stadium {'lat': 37.403, 'long': -121.97}\n",
      "AT&T Stadium {'lat': 32.74778, 'long': -97.09278}\n",
      "University of Phoenix Stadium {'lat': 33.5275, 'long': -112.2625}\n",
      "Paul Brown Stadium {'lat': 39.095, 'long': -84.516}\n",
      "Soldier Field {'lat': 41.8623, 'long': -87.6167}\n",
      "Bank of America Stadium {'lat': 35.22583, 'long': -80.85278}\n",
      "Lambeau Field {'lat': 44.50139, 'long': -88.06222}\n",
      "Oakland Coliseum {'lat': 37.75167, 'long': -122.20056}\n",
      "FirstEnergy Stadium {'lat': 41.50611, 'long': -81.69944}\n",
      "New Era Field {'lat': 42.774, 'long': -78.787}\n",
      "Azteca Stadium {'lat': 19.3029111, 'long': -99.1504417}\n",
      "Twickenham Stadium {'lat': 51.45611, 'long': -0.34167}\n",
      "Wembley Stadium {'lat': 51.55583, 'long': -0.27972}\n",
      "Georgia Dome {'lat': 33.758, 'long': -84.401}\n",
      "Qualcomm Stadium {'lat': 32.78306, 'long': -117.11944}\n",
      "TCF Bank Stadium {'lat': 44.976, 'long': -93.225}\n",
      "Sun Life Stadium {'lat': 25.95806, 'long': -80.23889}\n",
      "Ralph Wilson Stadium {'lat': 42.774, 'long': -78.787}\n",
      "O.co Coliseum {'lat': 37.75167, 'long': -122.20056}\n",
      "Edward Jones Dome {'lat': 38.63278, 'long': -90.18861}\n",
      "LP Field {'lat': 36.16639, 'long': -86.77139}\n",
      "Mall of America Field {'lat': 44.97389, 'long': -93.25806}\n",
      "Candlestick Park {'lat': 37.71361, 'long': -122.38611}\n",
      "Reliant Stadium {'lat': 29.68472, 'long': -95.41083}\n",
      "Rogers Centre {'lat': 43.64139, 'long': -79.38917}\n",
      "Cowboys Stadium {'lat': 32.74778, 'long': -97.09278}\n",
      "Cleveland Browns Stadium {'lat': 41.50611, 'long': -81.69944}\n",
      "Qwest Field {'lat': 47.5952, 'long': -122.3316}\n",
      "New Meadowlands Stadium {'lat': 40.813528, 'long': -74.074361}\n",
      "Louisiana Superdome {'lat': 29.95083, 'long': -90.08111}\n",
      "Invesco Field at Mile High {'lat': 39.74389, 'long': -105.02}\n",
      "Oakland-Alameda County Coliseum {'lat': 37.75167, 'long': -122.20056}\n",
      "Dolphin Stadium {'lat': 25.95806, 'long': -80.23889}\n",
      "Hubert H. Humphrey Metrodome {'lat': 44.97389, 'long': -93.25806}\n",
      "Giants Stadium {'lat': 40.81222, 'long': -74.07694}\n",
      "Jacksonville Municipal Stadium {'lat': 30.32389, 'long': -81.6375}\n",
      "Texas Stadium {'lat': 32.84, 'long': -96.911}\n",
      "RCA Dome {'lat': 39.76361, 'long': -86.16333}\n",
      "McAfee Coliseum {'lat': 37.75167, 'long': -122.20056}\n",
      "Monster Park {'lat': 37.71361, 'long': -122.38611}\n"
     ]
    }
   ],
   "source": [
    "stadiums = read_csv('game_metadata.csv')['stadium'].unique()\n",
    "stadium_geo = {}\n",
    "for s in stadiums:\n",
    "    stadium_geo[s] = extract_lat_long(s)"
   ]
  },
  {
   "cell_type": "code",
   "execution_count": 2,
   "metadata": {
    "ExecuteTime": {
     "end_time": "2018-11-19T03:04:23.984521Z",
     "start_time": "2018-11-19T03:04:23.871501Z"
    },
    "collapsed": true
   },
   "outputs": [
    {
     "ename": "NameError",
     "evalue": "name 'DataFrame' is not defined",
     "output_type": "error",
     "traceback": [
      "\u001b[0;31m---------------------------------------------------------------------------\u001b[0m",
      "\u001b[0;31mNameError\u001b[0m                                 Traceback (most recent call last)",
      "\u001b[0;32m<ipython-input-2-e0151456806b>\u001b[0m in \u001b[0;36m<module>\u001b[0;34m()\u001b[0m\n\u001b[0;32m----> 1\u001b[0;31m \u001b[0mstadium_df\u001b[0m \u001b[0;34m=\u001b[0m \u001b[0mDataFrame\u001b[0m\u001b[0;34m.\u001b[0m\u001b[0mfrom_dict\u001b[0m\u001b[0;34m(\u001b[0m\u001b[0mstadium_geo\u001b[0m\u001b[0;34m,\u001b[0m \u001b[0morient\u001b[0m\u001b[0;34m=\u001b[0m\u001b[0;34m'index'\u001b[0m\u001b[0;34m)\u001b[0m\u001b[0;34m\u001b[0m\u001b[0m\n\u001b[0m\u001b[1;32m      2\u001b[0m \u001b[0mstadium_df\u001b[0m\u001b[0;34m.\u001b[0m\u001b[0mindex\u001b[0m\u001b[0;34m.\u001b[0m\u001b[0mname\u001b[0m \u001b[0;34m=\u001b[0m \u001b[0;34m'stadium'\u001b[0m\u001b[0;34m\u001b[0m\u001b[0m\n\u001b[1;32m      3\u001b[0m \u001b[0mstadium_df\u001b[0m\u001b[0;34m.\u001b[0m\u001b[0mhead\u001b[0m\u001b[0;34m(\u001b[0m\u001b[0;34m)\u001b[0m\u001b[0;34m\u001b[0m\u001b[0m\n\u001b[1;32m      4\u001b[0m \u001b[0mstadium_df\u001b[0m\u001b[0;34m.\u001b[0m\u001b[0mto_csv\u001b[0m\u001b[0;34m(\u001b[0m\u001b[0;34m'stadium_lat_long.csv'\u001b[0m\u001b[0;34m.\u001b[0m\u001b[0mformat\u001b[0m\u001b[0;34m(\u001b[0m\u001b[0mDATA_DIR\u001b[0m\u001b[0;34m)\u001b[0m\u001b[0;34m)\u001b[0m\u001b[0;34m\u001b[0m\u001b[0m\n",
      "\u001b[0;31mNameError\u001b[0m: name 'DataFrame' is not defined"
     ]
    }
   ],
   "source": [
    "stadium_df = DataFrame.from_dict(stadium_geo, orient='index')\n",
    "stadium_df.index.name = 'stadium'\n",
    "stadium_df.head()\n",
    "stadium_df.to_csv('stadium_lat_long.csv'.format(DATA_DIR))"
   ]
  },
  {
   "cell_type": "markdown",
   "metadata": {},
   "source": [
    "### Get Yearly Divisions on PFR"
   ]
  },
  {
   "cell_type": "code",
   "execution_count": 144,
   "metadata": {
    "ExecuteTime": {
     "end_time": "2018-11-08T16:12:49.213149Z",
     "start_time": "2018-11-08T16:12:49.189774Z"
    }
   },
   "outputs": [],
   "source": [
    "def extract_season_divisions(soup, divisions, season):\n",
    "    '''given a BeautifulSoup object for a PFR\n",
    "    season standings page, get the team:division\n",
    "    mapping for that season'''\n",
    "    for conf in ['AFC','NFC']:\n",
    "        table = soup.findAll('table', {'id':conf})[0].findAll('tbody')[0]\n",
    "        for tr in table.findAll('tr'):\n",
    "            ## division name change\n",
    "            if len(tr.findAll('th')) == 0:\n",
    "                division = str(tr.text.strip())\n",
    "            else:\n",
    "                teamname = str(\n",
    "                    tr.findAll('th')[0].text.strip()\n",
    "                      .replace('*','')\n",
    "                      .replace('+','')\n",
    "                    )\n",
    "                divisions[(teamname, season)] = {\n",
    "                    'division': division,\n",
    "                }\n",
    "    return divisions"
   ]
  },
  {
   "cell_type": "code",
   "execution_count": 145,
   "metadata": {
    "ExecuteTime": {
     "end_time": "2018-11-08T16:12:53.176466Z",
     "start_time": "2018-11-08T16:12:49.813461Z"
    }
   },
   "outputs": [],
   "source": [
    "driver = ScrapeTools().get_driver()"
   ]
  },
  {
   "cell_type": "code",
   "execution_count": 146,
   "metadata": {
    "ExecuteTime": {
     "end_time": "2018-11-08T16:14:21.820175Z",
     "start_time": "2018-11-08T16:12:58.169870Z"
    }
   },
   "outputs": [],
   "source": [
    "divisions = {}\n",
    "for season in range(2007,2019):\n",
    "    url = 'https://www.pro-football-reference.com/years/{}/index.htm'\\\n",
    "            .format(season)\n",
    "\n",
    "    soup = ScrapeTools().get_soup(url, driver)\n",
    "    divisions = extract_season_divisions(soup, divisions, season)"
   ]
  },
  {
   "cell_type": "code",
   "execution_count": 153,
   "metadata": {
    "ExecuteTime": {
     "end_time": "2018-11-08T16:16:11.194811Z",
     "start_time": "2018-11-08T16:16:11.170869Z"
    }
   },
   "outputs": [],
   "source": [
    "divisions_df = DataFrame.from_dict(divisions, orient='index')\\\n",
    "                    .reset_index(drop=False)\n",
    "divisions_df.columns = ['team','season','division']\n",
    "divisions_df.index.name = 'idx'\n",
    "divisions_df.to_csv('{}/team_divisions.csv'.format(DATA_DIR))"
   ]
  },
  {
   "cell_type": "code",
   "execution_count": 154,
   "metadata": {
    "ExecuteTime": {
     "end_time": "2018-11-08T16:16:11.789216Z",
     "start_time": "2018-11-08T16:16:11.767279Z"
    }
   },
   "outputs": [
    {
     "data": {
      "text/plain": [
       "2018    32\n",
       "2017    32\n",
       "2016    32\n",
       "2015    32\n",
       "2014    32\n",
       "2013    32\n",
       "2012    32\n",
       "2011    32\n",
       "2010    32\n",
       "2009    32\n",
       "2008    32\n",
       "2007    32\n",
       "Name: season, dtype: int64"
      ]
     },
     "execution_count": 154,
     "metadata": {},
     "output_type": "execute_result"
    },
    {
     "data": {
      "text/html": [
       "<div>\n",
       "<style scoped>\n",
       "    .dataframe tbody tr th:only-of-type {\n",
       "        vertical-align: middle;\n",
       "    }\n",
       "\n",
       "    .dataframe tbody tr th {\n",
       "        vertical-align: top;\n",
       "    }\n",
       "\n",
       "    .dataframe thead th {\n",
       "        text-align: right;\n",
       "    }\n",
       "</style>\n",
       "<table border=\"1\" class=\"dataframe\">\n",
       "  <thead>\n",
       "    <tr style=\"text-align: right;\">\n",
       "      <th></th>\n",
       "      <th>team</th>\n",
       "      <th>season</th>\n",
       "      <th>division</th>\n",
       "    </tr>\n",
       "    <tr>\n",
       "      <th>idx</th>\n",
       "      <th></th>\n",
       "      <th></th>\n",
       "      <th></th>\n",
       "    </tr>\n",
       "  </thead>\n",
       "  <tbody>\n",
       "    <tr>\n",
       "      <th>0</th>\n",
       "      <td>Arizona Cardinals</td>\n",
       "      <td>2007</td>\n",
       "      <td>NFC West</td>\n",
       "    </tr>\n",
       "    <tr>\n",
       "      <th>1</th>\n",
       "      <td>Arizona Cardinals</td>\n",
       "      <td>2008</td>\n",
       "      <td>NFC West</td>\n",
       "    </tr>\n",
       "    <tr>\n",
       "      <th>2</th>\n",
       "      <td>Arizona Cardinals</td>\n",
       "      <td>2009</td>\n",
       "      <td>NFC West</td>\n",
       "    </tr>\n",
       "    <tr>\n",
       "      <th>3</th>\n",
       "      <td>Arizona Cardinals</td>\n",
       "      <td>2010</td>\n",
       "      <td>NFC West</td>\n",
       "    </tr>\n",
       "    <tr>\n",
       "      <th>4</th>\n",
       "      <td>Arizona Cardinals</td>\n",
       "      <td>2011</td>\n",
       "      <td>NFC West</td>\n",
       "    </tr>\n",
       "  </tbody>\n",
       "</table>\n",
       "</div>"
      ],
      "text/plain": [
       "                  team  season  division\n",
       "idx                                     \n",
       "0    Arizona Cardinals    2007  NFC West\n",
       "1    Arizona Cardinals    2008  NFC West\n",
       "2    Arizona Cardinals    2009  NFC West\n",
       "3    Arizona Cardinals    2010  NFC West\n",
       "4    Arizona Cardinals    2011  NFC West"
      ]
     },
     "execution_count": 154,
     "metadata": {},
     "output_type": "execute_result"
    }
   ],
   "source": [
    "divisions_df['season'].value_counts()\n",
    "divisions_df.head()"
   ]
  }
 ],
 "metadata": {
  "kernelspec": {
   "display_name": "Python 2",
   "language": "python",
   "name": "python2"
  },
  "language_info": {
   "codemirror_mode": {
    "name": "ipython",
    "version": 2
   },
   "file_extension": ".py",
   "mimetype": "text/x-python",
   "name": "python",
   "nbconvert_exporter": "python",
   "pygments_lexer": "ipython2",
   "version": "2.7.14"
  },
  "toc": {
   "base_numbering": 1,
   "nav_menu": {},
   "number_sections": true,
   "sideBar": true,
   "skip_h1_title": false,
   "title_cell": "Table of Contents",
   "title_sidebar": "Contents",
   "toc_cell": false,
   "toc_position": {
    "height": "calc(100% - 180px)",
    "left": "10px",
    "top": "150px",
    "width": "336px"
   },
   "toc_section_display": true,
   "toc_window_display": true
  }
 },
 "nbformat": 4,
 "nbformat_minor": 2
}
