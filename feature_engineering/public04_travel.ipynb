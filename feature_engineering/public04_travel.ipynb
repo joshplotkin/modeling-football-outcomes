{
 "cells": [
  {
   "cell_type": "code",
   "execution_count": 5,
   "metadata": {
    "ExecuteTime": {
     "end_time": "2019-01-22T02:22:42.408257Z",
     "start_time": "2019-01-22T02:22:39.791423Z"
    }
   },
   "outputs": [
    {
     "data": {
      "text/html": [
       "<style>.container {width:90% !important;}</style>"
      ],
      "text/plain": [
       "<IPython.core.display.HTML object>"
      ]
     },
     "metadata": {},
     "output_type": "display_data"
    }
   ],
   "source": [
    "%run ../initialize.ipynb"
   ]
  },
  {
   "cell_type": "code",
   "execution_count": 6,
   "metadata": {
    "ExecuteTime": {
     "end_time": "2019-01-22T02:22:42.632139Z",
     "start_time": "2019-01-22T02:22:42.415031Z"
    }
   },
   "outputs": [
    {
     "data": {
      "image/png": "[encoded data removed]",
      "text/plain": [
       "<Figure size 768x96 with 1 Axes>"
      ]
     },
     "metadata": {},
     "output_type": "display_data"
    }
   ],
   "source": [
    "import sys\n",
    "sys.path.append('../modeling-football-outcomes/config')\n",
    "import mpl_style\n",
    "colors = rcParams['axes.prop_cycle'].by_key()['color']"
   ]
  },
  {
   "cell_type": "markdown",
   "metadata": {},
   "source": [
    "## Global functions"
   ]
  },
  {
   "cell_type": "code",
   "execution_count": 7,
   "metadata": {
    "ExecuteTime": {
     "end_time": "2019-01-22T02:22:42.653299Z",
     "start_time": "2019-01-22T02:22:42.636949Z"
    }
   },
   "outputs": [],
   "source": [
    "def get_window(window_type, n, partition_cols, date_orderby_col):\n",
    "    '''accepts window type (days, games, seasons),\n",
    "     size of window n,\n",
    "     and window fields (partition and sort), \n",
    "     and returns a spark Window'''\n",
    "    assert type(partition_cols) is list\n",
    "    assert type(date_orderby_col) is str\n",
    "    assert type(n) is int\n",
    "    assert window_type in ['games','days','seasons']\n",
    "    \n",
    "    from pyspark.sql.window import Window\n",
    "    if window_type == 'games':\n",
    "        ## fixed number of games\n",
    "        return Window.partitionBy(*partition_cols)\\\n",
    "                  .orderBy(col(date_orderby_col).desc())\\\n",
    "                  .rowsBetween(1, n)\n",
    "\n",
    "    elif window_type == 'days':\n",
    "        ## fixed number of days\n",
    "        seconds = 24*60*60*n\n",
    "        return Window.partitionBy(*partition_cols)\\\n",
    "                  .orderBy(col(date_orderby_col).cast('timestamp').cast('long'))\\\n",
    "                  .rangeBetween(-seconds, -1)\n",
    "\n",
    "    elif window_type == 'seasons':\n",
    "        ## fixed number of seasons, including current\n",
    "        ## n = 1 is YTD\n",
    "        seconds = 24*60*60*(180 + 365*(n-1))\n",
    "        return Window.partitionBy(*partition_cols)\\\n",
    "                  .orderBy(col(date_orderby_col).cast('timestamp').cast('long'))\\\n",
    "                  .rangeBetween(-seconds, -1)"
   ]
  },
  {
   "cell_type": "markdown",
   "metadata": {},
   "source": [
    "## Travel Features\n",
    "* key: (game_id)\n",
    "* table name: features.matchup"
   ]
  },
  {
   "cell_type": "code",
   "execution_count": 8,
   "metadata": {
    "ExecuteTime": {
     "end_time": "2019-01-22T02:22:43.839126Z",
     "start_time": "2019-01-22T02:22:43.833732Z"
    }
   },
   "outputs": [],
   "source": [
    "key = 'game_id'\n",
    "out_tbl = 'features.travel'\n",
    "features_list = []"
   ]
  },
  {
   "cell_type": "code",
   "execution_count": 27,
   "metadata": {
    "ExecuteTime": {
     "end_time": "2019-01-22T02:33:32.742033Z",
     "start_time": "2019-01-22T02:33:32.474836Z"
    }
   },
   "outputs": [
    {
     "data": {
      "text/html": [
       "<div>\n",
       "<style scoped>\n",
       "    .dataframe tbody tr th:only-of-type {\n",
       "        vertical-align: middle;\n",
       "    }\n",
       "\n",
       "    .dataframe tbody tr th {\n",
       "        vertical-align: top;\n",
       "    }\n",
       "\n",
       "    .dataframe thead th {\n",
       "        text-align: right;\n",
       "    }\n",
       "</style>\n",
       "<table border=\"1\" class=\"dataframe\">\n",
       "  <thead>\n",
       "    <tr style=\"text-align: right;\">\n",
       "      <th></th>\n",
       "      <th>stadium</th>\n",
       "      <th>game_id</th>\n",
       "      <th>date</th>\n",
       "      <th>h_team_id</th>\n",
       "      <th>v_team_id</th>\n",
       "      <th>is_neutral</th>\n",
       "      <th>lat</th>\n",
       "      <th>long</th>\n",
       "      <th>timezone</th>\n",
       "      <th>stadium_home_team</th>\n",
       "    </tr>\n",
       "  </thead>\n",
       "  <tbody>\n",
       "    <tr>\n",
       "      <th>0</th>\n",
       "      <td>Edward Jones Dome</td>\n",
       "      <td>201511150ram</td>\n",
       "      <td>2015-11-15</td>\n",
       "      <td>ram</td>\n",
       "      <td>chi</td>\n",
       "      <td>0</td>\n",
       "      <td>38.63278</td>\n",
       "      <td>-90.18861</td>\n",
       "      <td>-6.0</td>\n",
       "      <td>['ram']</td>\n",
       "    </tr>\n",
       "    <tr>\n",
       "      <th>1</th>\n",
       "      <td>Qualcomm Stadium</td>\n",
       "      <td>201511090sdg</td>\n",
       "      <td>2015-11-09</td>\n",
       "      <td>sdg</td>\n",
       "      <td>chi</td>\n",
       "      <td>0</td>\n",
       "      <td>32.78306</td>\n",
       "      <td>-117.11944</td>\n",
       "      <td>-8.0</td>\n",
       "      <td>['sdg']</td>\n",
       "    </tr>\n",
       "    <tr>\n",
       "      <th>2</th>\n",
       "      <td>Ford Field</td>\n",
       "      <td>201510180det</td>\n",
       "      <td>2015-10-18</td>\n",
       "      <td>det</td>\n",
       "      <td>chi</td>\n",
       "      <td>0</td>\n",
       "      <td>42.34000</td>\n",
       "      <td>-83.04556</td>\n",
       "      <td>-5.0</td>\n",
       "      <td>['det']</td>\n",
       "    </tr>\n",
       "    <tr>\n",
       "      <th>3</th>\n",
       "      <td>Raymond James Stadium</td>\n",
       "      <td>201512270tam</td>\n",
       "      <td>2015-12-27</td>\n",
       "      <td>tam</td>\n",
       "      <td>chi</td>\n",
       "      <td>0</td>\n",
       "      <td>27.97583</td>\n",
       "      <td>-82.50333</td>\n",
       "      <td>-5.0</td>\n",
       "      <td>['tam']</td>\n",
       "    </tr>\n",
       "    <tr>\n",
       "      <th>4</th>\n",
       "      <td>Arrowhead Stadium</td>\n",
       "      <td>201510110kan</td>\n",
       "      <td>2015-10-11</td>\n",
       "      <td>kan</td>\n",
       "      <td>chi</td>\n",
       "      <td>0</td>\n",
       "      <td>39.04889</td>\n",
       "      <td>-94.48389</td>\n",
       "      <td>-6.0</td>\n",
       "      <td>['kan']</td>\n",
       "    </tr>\n",
       "  </tbody>\n",
       "</table>\n",
       "</div>"
      ],
      "text/plain": [
       "                 stadium       game_id        date h_team_id v_team_id  \\\n",
       "0      Edward Jones Dome  201511150ram  2015-11-15       ram       chi   \n",
       "1       Qualcomm Stadium  201511090sdg  2015-11-09       sdg       chi   \n",
       "2             Ford Field  201510180det  2015-10-18       det       chi   \n",
       "3  Raymond James Stadium  201512270tam  2015-12-27       tam       chi   \n",
       "4      Arrowhead Stadium  201510110kan  2015-10-11       kan       chi   \n",
       "\n",
       "   is_neutral       lat       long  timezone stadium_home_team  \n",
       "0           0  38.63278  -90.18861      -6.0           ['ram']  \n",
       "1           0  32.78306 -117.11944      -8.0           ['sdg']  \n",
       "2           0  42.34000  -83.04556      -5.0           ['det']  \n",
       "3           0  27.97583  -82.50333      -5.0           ['tam']  \n",
       "4           0  39.04889  -94.48389      -6.0           ['kan']  "
      ]
     },
     "execution_count": 27,
     "metadata": {},
     "output_type": "execute_result"
    }
   ],
   "source": [
    "game = spark.table('game').select('game_id','date','stadium','h_team_id',\n",
    "                                  'v_team_id','is_neutral')\n",
    "stadium = spark.table('stadium').select('stadium','lat','long','timezone',\n",
    "                                        'stadium_home_team')\n",
    "\n",
    "game.join(stadium, on='stadium').limit(5).toPandas()"
   ]
  },
  {
   "cell_type": "markdown",
   "metadata": {},
   "source": [
    "### Travel from last game"
   ]
  },
  {
   "cell_type": "markdown",
   "metadata": {},
   "source": [
    "### Distance from home stadium"
   ]
  },
  {
   "cell_type": "code",
   "execution_count": null,
   "metadata": {},
   "outputs": [],
   "source": []
  }
 ],
 "metadata": {
  "kernelspec": {
   "display_name": "Python 2",
   "language": "python",
   "name": "python2"
  },
  "language_info": {
   "codemirror_mode": {
    "name": "ipython",
    "version": 2
   },
   "file_extension": ".py",
   "mimetype": "text/x-python",
   "name": "python",
   "nbconvert_exporter": "python",
   "pygments_lexer": "ipython2",
   "version": "2.7.15"
  },
  "toc": {
   "base_numbering": 1,
   "nav_menu": {},
   "number_sections": true,
   "sideBar": true,
   "skip_h1_title": false,
   "title_cell": "Table of Contents",
   "title_sidebar": "Contents",
   "toc_cell": false,
   "toc_position": {},
   "toc_section_display": true,
   "toc_window_display": false
  }
 },
 "nbformat": 4,
 "nbformat_minor": 2
}
