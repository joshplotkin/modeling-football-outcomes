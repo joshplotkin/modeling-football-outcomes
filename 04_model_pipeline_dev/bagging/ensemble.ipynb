{
 "cells": [
  {
   "cell_type": "code",
   "execution_count": 1,
   "metadata": {
    "ExecuteTime": {
     "end_time": "2019-07-17T04:53:37.080703Z",
     "start_time": "2019-07-17T04:53:37.042987Z"
    }
   },
   "outputs": [],
   "source": [
    "%load_ext autoreload\n",
    "%autoreload 2"
   ]
  },
  {
   "cell_type": "code",
   "execution_count": 2,
   "metadata": {
    "ExecuteTime": {
     "end_time": "2019-07-17T04:53:39.287821Z",
     "start_time": "2019-07-17T04:53:37.084519Z"
    }
   },
   "outputs": [
    {
     "data": {
      "text/html": [
       "<style>.container {width:90% !important;}</style>"
      ],
      "text/plain": [
       "<IPython.core.display.HTML object>"
      ]
     },
     "metadata": {},
     "output_type": "display_data"
    }
   ],
   "source": [
    "%run ../../config/initialize_nospark.ipynb\n",
    "\n",
    "import json\n",
    "import shutil"
   ]
  },
  {
   "cell_type": "code",
   "execution_count": 3,
   "metadata": {
    "ExecuteTime": {
     "end_time": "2019-07-17T04:53:39.348894Z",
     "start_time": "2019-07-17T04:53:39.290732Z"
    }
   },
   "outputs": [],
   "source": [
    "sys.path.append('../../config')\n",
    "from mpl_style import *\n",
    "colors = rcParams['axes.prop_cycle'].by_key()['color']\n",
    "\n",
    "rcParams['figure.dpi'] = 96\n",
    "rcParams['figure.figsize'] = (12,8)"
   ]
  },
  {
   "cell_type": "code",
   "execution_count": 4,
   "metadata": {
    "ExecuteTime": {
     "end_time": "2019-07-17T04:53:39.426938Z",
     "start_time": "2019-07-17T04:53:39.354891Z"
    }
   },
   "outputs": [],
   "source": [
    "import matplotlib as mpl\n",
    "params_backup = rcParams.copy()"
   ]
  },
  {
   "cell_type": "code",
   "execution_count": 5,
   "metadata": {
    "ExecuteTime": {
     "end_time": "2019-07-17T04:53:39.492684Z",
     "start_time": "2019-07-17T04:53:39.442110Z"
    }
   },
   "outputs": [],
   "source": [
    "os.chdir('/Users/joshplotkin/Dropbox/data_science/modeling-football-outcomes/')"
   ]
  },
  {
   "cell_type": "code",
   "execution_count": 6,
   "metadata": {
    "ExecuteTime": {
     "end_time": "2019-07-17T04:53:42.050838Z",
     "start_time": "2019-07-17T04:53:39.494903Z"
    }
   },
   "outputs": [],
   "source": [
    "sys.path.append('model_pipeline')\n",
    "from Ensemble import Ensemble\n",
    "from EvaluateModel import EvaluationData, EvaluateAndPlot\n",
    "from ExecuteModelPipeline import ExecuteModelPipeline"
   ]
  },
  {
   "cell_type": "markdown",
   "metadata": {},
   "source": [
    "### TODO:\n",
    "* need a way to take already scores directory and perform a different aggregation\n",
    "  * take a list of aggregations\n",
    "* check JSON\n",
    "  * assert all labels tables are the same\n",
    "* some way of loading existing CV... maybe a dict of cv directories with files to skip CV part (make false) and copy files in... instead of changing seed, this would leave it constant\n",
    "* clean up the ensemble execution part"
   ]
  },
  {
   "cell_type": "markdown",
   "metadata": {},
   "source": [
    "#### Thoughts\n",
    "* when creating the directory, put the dict by model in a json directory"
   ]
  },
  {
   "cell_type": "markdown",
   "metadata": {},
   "source": [
    "### Ideas"
   ]
  },
  {
   "cell_type": "markdown",
   "metadata": {
    "ExecuteTime": {
     "end_time": "2019-07-17T02:53:39.024488Z",
     "start_time": "2019-07-17T02:53:38.973296Z"
    }
   },
   "source": [
    "##### multi-thread batch?\n",
    "##### try DL on it? optimization, bagging"
   ]
  },
  {
   "cell_type": "markdown",
   "metadata": {},
   "source": [
    "## Configs"
   ]
  },
  {
   "cell_type": "markdown",
   "metadata": {},
   "source": [
    "### Base Model"
   ]
  },
  {
   "cell_type": "code",
   "execution_count": 7,
   "metadata": {
    "ExecuteTime": {
     "end_time": "2019-07-17T04:53:42.143753Z",
     "start_time": "2019-07-17T04:53:42.053484Z"
    },
    "run_control": {
     "marked": true
    }
   },
   "outputs": [],
   "source": [
    "base_model = json.load(open('models/0625/model.json'))\n",
    "base_model['global_dataset_proportions']['training'] = 0.5\n",
    "base_model['global_dataset_proportions']['throw_away'] = 0.5\n",
    "\n",
    "base_model['save'] = {\n",
    "    'cv_data': False,\n",
    "    'serialized_models': False,\n",
    "    'cv_scores': True,\n",
    "    'holdout_scores': False\n",
    "}\n",
    "base_model['actions'] = {\n",
    "    'do_train_and_score_cv': True,\n",
    "    'do_score_holdout': False,\n",
    "    'do_evaluate': True\n",
    "}\n",
    "\n",
    "json.dump(base_model, open('model_configs/base_model.json','w'))"
   ]
  },
  {
   "cell_type": "code",
   "execution_count": 8,
   "metadata": {
    "ExecuteTime": {
     "end_time": "2019-07-17T04:53:42.226126Z",
     "start_time": "2019-07-17T04:53:42.148384Z"
    }
   },
   "outputs": [],
   "source": [
    "base_model['label_col'] = 'did_win'\n",
    "base_model['model'] = 'xgboost.XGBClassifier'\n",
    "base_model['model_params'] = {'n_jobs': 1,\n",
    "  'learning_rate': 0.1,\n",
    "  'n_estimators': 100,\n",
    "  'max_features': 'auto',\n",
    "  'booster': 'gbtree',\n",
    "  'silent': True,\n",
    "  'nthread': None,\n",
    "  'subsample': 0.5,\n",
    "  'random_state': 9,\n",
    "  'objective': 'binary:logistic',\n",
    "  'max_depth': 6,\n",
    "  'gamma': 0}\n",
    "base_model['actions']['do_evaluate'] = True\n",
    "\n",
    "json.dump(base_model, open('model_configs/base_model_classification.json','w'))"
   ]
  },
  {
   "cell_type": "markdown",
   "metadata": {},
   "source": [
    "### Base Eval"
   ]
  },
  {
   "cell_type": "code",
   "execution_count": 9,
   "metadata": {
    "ExecuteTime": {
     "end_time": "2019-07-17T04:53:42.296104Z",
     "start_time": "2019-07-17T04:53:42.227989Z"
    },
    "run_control": {
     "marked": true
    }
   },
   "outputs": [],
   "source": [
    "base_eval = json.load(open('models/0625/evaluate.json'))\n",
    "base_eval['to_plot'] = {\n",
    "    'ridge': True,\n",
    "    'thresholds': True,\n",
    "    'bins': True,\n",
    "    'roc': True,\n",
    "    'accuracy_by_top_n': True,\n",
    "    'regression__distributions': True,\n",
    "    'regression__scatter': True,\n",
    "    'regression__residuals_by_season_week': True,\n",
    "    'regression__confusion_matrix': True,\n",
    "    'shap__feature_importance': True,\n",
    "    'shap__dependence_plots': False,\n",
    "    'feature_importance': True\n",
    "}\n",
    "json.dump(base_eval, open('model_configs/base_eval.json','w'))"
   ]
  },
  {
   "cell_type": "markdown",
   "metadata": {},
   "source": [
    "### Ensemble"
   ]
  },
  {
   "cell_type": "code",
   "execution_count": 10,
   "metadata": {
    "ExecuteTime": {
     "end_time": "2019-07-17T04:53:42.370934Z",
     "start_time": "2019-07-17T04:53:42.301009Z"
    },
    "run_control": {
     "marked": true
    }
   },
   "outputs": [],
   "source": [
    "ensemble_dict = {}\n",
    "ensemble_dict['models_dir'] = '/Users/joshplotkin/Dropbox/data_science/modeling-football-outcomes/models'\n",
    "ensemble_dict['ensemble_model_id'] = 'ensemble_0630'\n",
    "ensemble_dict['number_of_models'] = 5\n",
    "ensemble_dict['aggregation_method'] = ['mean', 'median'] # mean, median, max, min, mean excluding top/bottom n (robust mean?)\n",
    "ensemble_dict['source'] = 'model_configs/base_model_classification.json'\n",
    "ensemble_dict['save'] = {'scores': True, 'plots': True}\n",
    "\n",
    "ensemble_dict['evaluation_config'] = 'model_configs/base_eval.json'\n",
    "ensemble_dict['submodel_plots'] = True\n",
    "\n",
    "assert os.path.exists(ensemble_dict['models_dir'])\n",
    "assert (type(ensemble_dict['source']) is str) | (len(ensemble_dict['source']) == ensemble_dict['number_of_models'])\n",
    "assert not set(ensemble_dict['aggregation_method']) - set(['mean','median','min','max'])"
   ]
  },
  {
   "cell_type": "markdown",
   "metadata": {},
   "source": [
    "#### Ensemble choose models"
   ]
  },
  {
   "cell_type": "code",
   "execution_count": 11,
   "metadata": {
    "ExecuteTime": {
     "end_time": "2019-07-17T04:53:42.552600Z",
     "start_time": "2019-07-17T04:53:42.375791Z"
    }
   },
   "outputs": [],
   "source": [
    "features_list = pd.read_csv('data/{}/{}.csv'.format(\n",
    "    *base_model['features_tbl'].split('.'))\n",
    ").columns.tolist()[3:]\n",
    "\n",
    "features_lists = [\n",
    "    list(set(np.random.choice(features_list, size=5).tolist()))\n",
    "    for _ in range(ensemble_dict['number_of_models'])\n",
    "]\n",
    "\n",
    "ensemble_dict['input_changes_by_iteration'] = {\n",
    "    'features_list': features_lists\n",
    "}\n",
    "\n",
    "if 'input_changes_by_iteration' in ensemble_dict:\n",
    "    assert type(ensemble_dict['input_changes_by_iteration']) is dict\n",
    "    for param, values in ensemble_dict['input_changes_by_iteration'].items():\n",
    "        assert len(values) == ensemble_dict['number_of_models']\n",
    "        for value in values:\n",
    "            assert type(value) == type(base_model[param])"
   ]
  },
  {
   "cell_type": "markdown",
   "metadata": {},
   "source": [
    "### Execute Ensemble"
   ]
  },
  {
   "cell_type": "code",
   "execution_count": 12,
   "metadata": {
    "ExecuteTime": {
     "end_time": "2019-07-17T04:54:27.233896Z",
     "start_time": "2019-07-17T04:53:42.555657Z"
    },
    "scrolled": true
   },
   "outputs": [
    {
     "name": "stdout",
     "output_type": "stream",
     "text": [
      "removed /Users/joshplotkin/Dropbox/data_science/modeling-football-outcomes/models/ensemble_0630...\n",
      "Model Path:\n",
      "/Users/joshplotkin/Dropbox/data_science/modeling-football-outcomes/models/ensemble_0630/00000\n",
      "/Users/joshplotkin/Dropbox/data_science/modeling-football-outcomes//models\n",
      "ensemble_0630/00000\n",
      "Model Path:\n",
      "/Users/joshplotkin/Dropbox/data_science/modeling-football-outcomes/models/ensemble_0630/00001\n",
      "/Users/joshplotkin/Dropbox/data_science/modeling-football-outcomes//models\n",
      "ensemble_0630/00001\n",
      "Model Path:\n",
      "/Users/joshplotkin/Dropbox/data_science/modeling-football-outcomes/models/ensemble_0630/00002\n",
      "/Users/joshplotkin/Dropbox/data_science/modeling-football-outcomes//models\n",
      "ensemble_0630/00002\n",
      "Model Path:\n",
      "/Users/joshplotkin/Dropbox/data_science/modeling-football-outcomes/models/ensemble_0630/00003\n",
      "/Users/joshplotkin/Dropbox/data_science/modeling-football-outcomes//models\n",
      "ensemble_0630/00003\n",
      "Model Path:\n",
      "/Users/joshplotkin/Dropbox/data_science/modeling-football-outcomes/models/ensemble_0630/00004\n",
      "/Users/joshplotkin/Dropbox/data_science/modeling-football-outcomes//models\n",
      "ensemble_0630/00004\n"
     ]
    },
    {
     "data": {
      "text/plain": [
       "<Figure size 720x480 with 0 Axes>"
      ]
     },
     "metadata": {},
     "output_type": "display_data"
    },
    {
     "data": {
      "text/plain": [
       "<Figure size 1152x768 with 0 Axes>"
      ]
     },
     "metadata": {},
     "output_type": "display_data"
    },
    {
     "data": {
      "text/plain": [
       "<Figure size 1152x768 with 0 Axes>"
      ]
     },
     "metadata": {},
     "output_type": "display_data"
    },
    {
     "data": {
      "text/plain": [
       "<Figure size 1152x768 with 0 Axes>"
      ]
     },
     "metadata": {},
     "output_type": "display_data"
    },
    {
     "data": {
      "text/plain": [
       "<Figure size 1152x768 with 0 Axes>"
      ]
     },
     "metadata": {},
     "output_type": "display_data"
    },
    {
     "data": {
      "text/plain": [
       "<Figure size 1152x768 with 0 Axes>"
      ]
     },
     "metadata": {},
     "output_type": "display_data"
    },
    {
     "data": {
      "text/plain": [
       "<Figure size 768x336 with 0 Axes>"
      ]
     },
     "metadata": {},
     "output_type": "display_data"
    },
    {
     "data": {
      "text/plain": [
       "<Figure size 2304x2304 with 0 Axes>"
      ]
     },
     "metadata": {},
     "output_type": "display_data"
    },
    {
     "data": {
      "text/plain": [
       "<Figure size 1152x768 with 0 Axes>"
      ]
     },
     "metadata": {},
     "output_type": "display_data"
    },
    {
     "data": {
      "text/plain": [
       "<Figure size 720x480 with 0 Axes>"
      ]
     },
     "metadata": {},
     "output_type": "display_data"
    },
    {
     "data": {
      "text/plain": [
       "<Figure size 1152x768 with 0 Axes>"
      ]
     },
     "metadata": {},
     "output_type": "display_data"
    },
    {
     "data": {
      "text/plain": [
       "<Figure size 1152x768 with 0 Axes>"
      ]
     },
     "metadata": {},
     "output_type": "display_data"
    },
    {
     "data": {
      "text/plain": [
       "<Figure size 1152x768 with 0 Axes>"
      ]
     },
     "metadata": {},
     "output_type": "display_data"
    },
    {
     "data": {
      "text/plain": [
       "<Figure size 1152x768 with 0 Axes>"
      ]
     },
     "metadata": {},
     "output_type": "display_data"
    },
    {
     "data": {
      "text/plain": [
       "<Figure size 1152x768 with 0 Axes>"
      ]
     },
     "metadata": {},
     "output_type": "display_data"
    },
    {
     "data": {
      "text/plain": [
       "<Figure size 768x336 with 0 Axes>"
      ]
     },
     "metadata": {},
     "output_type": "display_data"
    },
    {
     "data": {
      "text/plain": [
       "<Figure size 2304x2304 with 0 Axes>"
      ]
     },
     "metadata": {},
     "output_type": "display_data"
    },
    {
     "data": {
      "text/plain": [
       "<Figure size 1152x768 with 0 Axes>"
      ]
     },
     "metadata": {},
     "output_type": "display_data"
    },
    {
     "data": {
      "text/plain": [
       "<Figure size 720x480 with 0 Axes>"
      ]
     },
     "metadata": {},
     "output_type": "display_data"
    },
    {
     "data": {
      "text/plain": [
       "<Figure size 1152x768 with 0 Axes>"
      ]
     },
     "metadata": {},
     "output_type": "display_data"
    },
    {
     "data": {
      "text/plain": [
       "<Figure size 1152x768 with 0 Axes>"
      ]
     },
     "metadata": {},
     "output_type": "display_data"
    },
    {
     "data": {
      "text/plain": [
       "<Figure size 1152x768 with 0 Axes>"
      ]
     },
     "metadata": {},
     "output_type": "display_data"
    },
    {
     "data": {
      "text/plain": [
       "<Figure size 1152x768 with 0 Axes>"
      ]
     },
     "metadata": {},
     "output_type": "display_data"
    },
    {
     "data": {
      "text/plain": [
       "<Figure size 1152x768 with 0 Axes>"
      ]
     },
     "metadata": {},
     "output_type": "display_data"
    },
    {
     "data": {
      "text/plain": [
       "<Figure size 768x336 with 0 Axes>"
      ]
     },
     "metadata": {},
     "output_type": "display_data"
    },
    {
     "data": {
      "text/plain": [
       "<Figure size 2304x2304 with 0 Axes>"
      ]
     },
     "metadata": {},
     "output_type": "display_data"
    },
    {
     "data": {
      "text/plain": [
       "<Figure size 1152x768 with 0 Axes>"
      ]
     },
     "metadata": {},
     "output_type": "display_data"
    },
    {
     "data": {
      "text/plain": [
       "<Figure size 720x480 with 0 Axes>"
      ]
     },
     "metadata": {},
     "output_type": "display_data"
    },
    {
     "data": {
      "text/plain": [
       "<Figure size 1152x768 with 0 Axes>"
      ]
     },
     "metadata": {},
     "output_type": "display_data"
    },
    {
     "data": {
      "text/plain": [
       "<Figure size 1152x768 with 0 Axes>"
      ]
     },
     "metadata": {},
     "output_type": "display_data"
    },
    {
     "data": {
      "text/plain": [
       "<Figure size 1152x768 with 0 Axes>"
      ]
     },
     "metadata": {},
     "output_type": "display_data"
    },
    {
     "data": {
      "text/plain": [
       "<Figure size 1152x768 with 0 Axes>"
      ]
     },
     "metadata": {},
     "output_type": "display_data"
    },
    {
     "data": {
      "text/plain": [
       "<Figure size 1152x768 with 0 Axes>"
      ]
     },
     "metadata": {},
     "output_type": "display_data"
    },
    {
     "data": {
      "text/plain": [
       "<Figure size 768x336 with 0 Axes>"
      ]
     },
     "metadata": {},
     "output_type": "display_data"
    },
    {
     "data": {
      "text/plain": [
       "<Figure size 2304x2304 with 0 Axes>"
      ]
     },
     "metadata": {},
     "output_type": "display_data"
    },
    {
     "data": {
      "text/plain": [
       "<Figure size 1152x768 with 0 Axes>"
      ]
     },
     "metadata": {},
     "output_type": "display_data"
    },
    {
     "data": {
      "text/plain": [
       "<Figure size 720x480 with 0 Axes>"
      ]
     },
     "metadata": {},
     "output_type": "display_data"
    },
    {
     "data": {
      "text/plain": [
       "<Figure size 1152x768 with 0 Axes>"
      ]
     },
     "metadata": {},
     "output_type": "display_data"
    },
    {
     "data": {
      "text/plain": [
       "<Figure size 1152x768 with 0 Axes>"
      ]
     },
     "metadata": {},
     "output_type": "display_data"
    },
    {
     "data": {
      "text/plain": [
       "<Figure size 1152x768 with 0 Axes>"
      ]
     },
     "metadata": {},
     "output_type": "display_data"
    },
    {
     "data": {
      "text/plain": [
       "<Figure size 1152x768 with 0 Axes>"
      ]
     },
     "metadata": {},
     "output_type": "display_data"
    },
    {
     "data": {
      "text/plain": [
       "<Figure size 1152x768 with 0 Axes>"
      ]
     },
     "metadata": {},
     "output_type": "display_data"
    },
    {
     "data": {
      "text/plain": [
       "<Figure size 768x297.6 with 0 Axes>"
      ]
     },
     "metadata": {},
     "output_type": "display_data"
    },
    {
     "data": {
      "text/plain": [
       "<Figure size 2304x2304 with 0 Axes>"
      ]
     },
     "metadata": {},
     "output_type": "display_data"
    },
    {
     "data": {
      "text/plain": [
       "<Figure size 1152x768 with 0 Axes>"
      ]
     },
     "metadata": {},
     "output_type": "display_data"
    }
   ],
   "source": [
    "ensemble = Ensemble(ensemble_dict)\n",
    "ensemble.setup_trial_dir(ensemble.get_trial_path())\n",
    "ensemble.create_ensemble_dir_structure()\n",
    "ensemble.train_and_score()"
   ]
  },
  {
   "cell_type": "markdown",
   "metadata": {},
   "source": [
    "### Evaluate Ensemble"
   ]
  },
  {
   "cell_type": "code",
   "execution_count": 13,
   "metadata": {
    "ExecuteTime": {
     "end_time": "2019-07-17T04:54:27.383238Z",
     "start_time": "2019-07-17T04:54:27.338773Z"
    }
   },
   "outputs": [],
   "source": [
    "ensemble_eval = base_eval.copy()\n",
    "\n",
    "ensemble_eval['model_id'] = ensemble_dict['ensemble_model_id']\n",
    "ensemble_eval['to_plot'] = {\n",
    "    'ridge': True,\n",
    "    'thresholds': True,\n",
    "    'bins': True,\n",
    "    'roc': True,\n",
    "    'accuracy_by_top_n': True,\n",
    "    'regression__distributions': False,\n",
    "    'regression__scatter': False,\n",
    "    'regression__residuals_by_season_week': False,\n",
    "    'regression__confusion_matrix': False,\n",
    "    'shap__feature_importance': True,\n",
    "    'shap__dependence_plots': False,\n",
    "    'feature_importance': False\n",
    "}"
   ]
  },
  {
   "cell_type": "code",
   "execution_count": 14,
   "metadata": {
    "ExecuteTime": {
     "end_time": "2019-07-17T04:54:27.993684Z",
     "start_time": "2019-07-17T04:54:27.384888Z"
    },
    "run_control": {
     "marked": false
    },
    "scrolled": true
   },
   "outputs": [
    {
     "ename": "TypeError",
     "evalue": "string indices must be integers",
     "output_type": "error",
     "traceback": [
      "\u001b[0;31m---------------------------------------------------------------------------\u001b[0m",
      "\u001b[0;31mTypeError\u001b[0m                                 Traceback (most recent call last)",
      "\u001b[0;32m<ipython-input-14-dfea3be04e3c>\u001b[0m in \u001b[0;36m<module>\u001b[0;34m\u001b[0m\n\u001b[1;32m     11\u001b[0m     \u001b[0;31m# somehow change directories\u001b[0m\u001b[0;34m\u001b[0m\u001b[0;34m\u001b[0m\u001b[0;34m\u001b[0m\u001b[0m\n\u001b[1;32m     12\u001b[0m     plot = EvaluateAndPlot(\n\u001b[0;32m---> 13\u001b[0;31m         \u001b[0mensemble_eval\u001b[0m\u001b[0;34m,\u001b[0m \u001b[0mscores\u001b[0m\u001b[0;34m,\u001b[0m \u001b[0mis_classification\u001b[0m\u001b[0;34m\u001b[0m\u001b[0;34m\u001b[0m\u001b[0m\n\u001b[0m\u001b[1;32m     14\u001b[0m     )\n\u001b[1;32m     15\u001b[0m \u001b[0;34m\u001b[0m\u001b[0m\n",
      "\u001b[0;32m~/Dropbox/data_science/modeling-football-outcomes/model_pipeline/EvaluateModel.py\u001b[0m in \u001b[0;36m__init__\u001b[0;34m(self, plots_dict, scores_df, is_classification)\u001b[0m\n\u001b[1;32m    408\u001b[0m             \u001b[0mself\u001b[0m\u001b[0;34m.\u001b[0m\u001b[0madd_regression_to_classification_data\u001b[0m\u001b[0;34m(\u001b[0m\u001b[0;34m)\u001b[0m\u001b[0;34m\u001b[0m\u001b[0;34m\u001b[0m\u001b[0m\n\u001b[1;32m    409\u001b[0m \u001b[0;34m\u001b[0m\u001b[0m\n\u001b[0;32m--> 410\u001b[0;31m         \u001b[0mprint\u001b[0m\u001b[0;34m(\u001b[0m\u001b[0mplots_dict\u001b[0m\u001b[0;34m[\u001b[0m\u001b[0;34m'models_dir'\u001b[0m\u001b[0;34m]\u001b[0m\u001b[0;34m)\u001b[0m\u001b[0;34m\u001b[0m\u001b[0;34m\u001b[0m\u001b[0m\n\u001b[0m\u001b[1;32m    411\u001b[0m         \u001b[0mprint\u001b[0m\u001b[0;34m(\u001b[0m\u001b[0mplots_dict\u001b[0m\u001b[0;34m[\u001b[0m\u001b[0;34m'model_id'\u001b[0m\u001b[0;34m]\u001b[0m\u001b[0;34m)\u001b[0m\u001b[0;34m\u001b[0m\u001b[0;34m\u001b[0m\u001b[0m\n\u001b[1;32m    412\u001b[0m         \u001b[0msave_loc\u001b[0m \u001b[0;34m=\u001b[0m \u001b[0;34m'{}/{}'\u001b[0m\u001b[0;34m.\u001b[0m\u001b[0mformat\u001b[0m\u001b[0;34m(\u001b[0m\u001b[0mplots_dict\u001b[0m\u001b[0;34m[\u001b[0m\u001b[0;34m'models_dir'\u001b[0m\u001b[0;34m]\u001b[0m\u001b[0;34m,\u001b[0m \u001b[0mplots_dict\u001b[0m\u001b[0;34m[\u001b[0m\u001b[0;34m'model_id'\u001b[0m\u001b[0;34m]\u001b[0m\u001b[0;34m)\u001b[0m\u001b[0;34m\u001b[0m\u001b[0;34m\u001b[0m\u001b[0m\n",
      "\u001b[0;31mTypeError\u001b[0m: string indices must be integers"
     ]
    }
   ],
   "source": [
    "is_classification = True\n",
    "\n",
    "for agg_method in ensemble_dict['aggregation_method']:\n",
    "    scores = ensemble.combine_scores(agg_method)\n",
    "    scores.to_csv(f'ensemble_scores_{agg_method}.csv')\n",
    "    \n",
    "    ensemble_eval = '{}/plots_{}'.format(\n",
    "        ensemble_dict['ensemble_model_id'],\n",
    "        agg_method\n",
    "    )\n",
    "    # somehow change directories\n",
    "    plot = EvaluateAndPlot(\n",
    "        ensemble_eval, scores, is_classification\n",
    "    )\n",
    "\n",
    "    plot.plot_all(self.evaluation_dict.get('to_plot', {}))"
   ]
  },
  {
   "cell_type": "code",
   "execution_count": null,
   "metadata": {
    "ExecuteTime": {
     "start_time": "2019-07-17T04:53:21.645Z"
    }
   },
   "outputs": [],
   "source": [
    "!ls /Users/joshplotkin/Dropbox/data_science/modeling-football-outcomes/models/ensemble_0630"
   ]
  },
  {
   "cell_type": "code",
   "execution_count": null,
   "metadata": {
    "ExecuteTime": {
     "start_time": "2019-07-17T04:53:21.647Z"
    }
   },
   "outputs": [],
   "source": [
    "foo"
   ]
  },
  {
   "cell_type": "markdown",
   "metadata": {},
   "source": [
    "### Manual run"
   ]
  },
  {
   "cell_type": "code",
   "execution_count": null,
   "metadata": {
    "ExecuteTime": {
     "start_time": "2019-07-17T04:53:21.650Z"
    }
   },
   "outputs": [],
   "source": [
    "base_eval = json.load(open('models/0625/evaluate.json'))"
   ]
  },
  {
   "cell_type": "markdown",
   "metadata": {},
   "source": [
    "#### Ensemble Dictionary"
   ]
  },
  {
   "cell_type": "code",
   "execution_count": null,
   "metadata": {
    "ExecuteTime": {
     "end_time": "2019-07-16T02:10:34.702845Z",
     "start_time": "2019-07-16T02:10:34.657289Z"
    }
   },
   "outputs": [],
   "source": []
  },
  {
   "cell_type": "code",
   "execution_count": null,
   "metadata": {
    "ExecuteTime": {
     "end_time": "2019-07-16T02:10:34.747426Z",
     "start_time": "2019-07-16T02:10:34.705843Z"
    }
   },
   "outputs": [],
   "source": []
  },
  {
   "cell_type": "markdown",
   "metadata": {},
   "source": [
    "* load model.json\n",
    "* create parent directory\n",
    "* move json to parent directory\n",
    "* create child directories with individual model.json (optional evaluate.json)\n",
    "* run pipeline in each child directory\n",
    "* aggregate\n",
    "* evaluate"
   ]
  },
  {
   "cell_type": "markdown",
   "metadata": {},
   "source": [
    "##### TODO: support a list of model.json"
   ]
  },
  {
   "cell_type": "code",
   "execution_count": null,
   "metadata": {
    "ExecuteTime": {
     "start_time": "2019-07-17T04:53:21.655Z"
    }
   },
   "outputs": [],
   "source": [
    "def setup_trial_dir(overwrite, trial_path):\n",
    "    overwrite = True if overwrite.upper()[0] == 'Y' else False\n",
    "\n",
    "    print('Model Path:\\n{}'.format(trial_path))\n",
    "    if (overwrite is False) & (os.path.exists(trial_path)):\n",
    "        print('model path already exists and user input disallows overwriting. exiting...')\n",
    "        sys.exit(1)\n",
    "\n",
    "    if (overwrite) & (os.path.exists(trial_path)):\n",
    "        import shutil\n",
    "        shutil.rmtree(trial_path)\n",
    "    os.mkdir(trial_path)"
   ]
  },
  {
   "cell_type": "code",
   "execution_count": null,
   "metadata": {
    "ExecuteTime": {
     "start_time": "2019-07-17T04:53:21.657Z"
    }
   },
   "outputs": [],
   "source": [
    "bag_dict = ensemble_dict"
   ]
  },
  {
   "cell_type": "code",
   "execution_count": null,
   "metadata": {
    "ExecuteTime": {
     "start_time": "2019-07-17T04:53:21.658Z"
    }
   },
   "outputs": [],
   "source": [
    "overwrite = 'Y'\n",
    "trial_path = os.path.join(bag_dict['models_dir'], bag_dict['ensemble_model_id'])\n",
    "\n",
    "setup_trial_dir(overwrite, trial_path)"
   ]
  },
  {
   "cell_type": "code",
   "execution_count": null,
   "metadata": {
    "ExecuteTime": {
     "start_time": "2019-07-17T04:53:21.660Z"
    }
   },
   "outputs": [],
   "source": [
    "json.dump(bag_dict, open(os.path.join(trial_path, 'bag.json'), 'w'), indent=3)"
   ]
  },
  {
   "cell_type": "code",
   "execution_count": null,
   "metadata": {
    "ExecuteTime": {
     "start_time": "2019-07-17T04:53:21.662Z"
    },
    "run_control": {
     "marked": false
    }
   },
   "outputs": [],
   "source": [
    "def create_ensemble_dir_structure(bag_dict, trial_path):\n",
    "    model_dict = json.load(open(bag_dict['source']))\n",
    "    seed = np.random.randint(1, 1000000)\n",
    "    for model_nbr in np.arange(bag_dict['number_of_models']):\n",
    "        model_dict['dataset_seed'] = int(seed + model_nbr)\n",
    "        model_dict['fold_seed'] = int(seed + model_nbr)\n",
    "\n",
    "        model_id = '{:05d}'.format(model_nbr)\n",
    "        model_path = os.path.join(trial_path, model_id)\n",
    "        setup_trial_dir('Y', model_path)\n",
    "\n",
    "        model_dict['model_id'] = '{}/{}'.format(bag_dict['ensemble_model_id'], model_id)\n",
    "        model_dict['models_dir'] = bag_dict['models_dir']\n",
    "        json.dump(\n",
    "            model_dict, \n",
    "            open(os.path.join(model_path, 'model.json'), 'w'),\n",
    "            indent=3\n",
    "        )"
   ]
  },
  {
   "cell_type": "code",
   "execution_count": null,
   "metadata": {
    "ExecuteTime": {
     "start_time": "2019-07-17T04:53:21.664Z"
    }
   },
   "outputs": [],
   "source": [
    "if type(bag_dict['source']) is str:\n",
    "    create_ensemble_dir_structure(bag_dict, trial_path)"
   ]
  },
  {
   "cell_type": "code",
   "execution_count": null,
   "metadata": {
    "ExecuteTime": {
     "start_time": "2019-07-17T04:53:21.666Z"
    },
    "scrolled": true
   },
   "outputs": [],
   "source": [
    "for model_nbr in np.arange(bag_dict['number_of_models']):\n",
    "    model_id = '{:05d}'.format(model_nbr)\n",
    "    model_path = os.path.join(trial_path, model_id)\n",
    "    model_json_path = os.path.join(model_path, 'model.json')\n",
    "    ExecuteModelPipeline(model_json_path, None, 'Y')"
   ]
  },
  {
   "cell_type": "code",
   "execution_count": null,
   "metadata": {
    "ExecuteTime": {
     "start_time": "2019-07-17T04:53:21.668Z"
    },
    "scrolled": true
   },
   "outputs": [],
   "source": [
    "all_scores = pd.read_csv(\n",
    "    'data/{}/{}.csv'.format(\n",
    "        *base_model['labels_tbl'].split('.')\n",
    "    )\n",
    ")\n",
    "\n",
    "for model_nbr in np.arange(bag_dict['number_of_models']):\n",
    "    model_id = '{:05d}'.format(model_nbr)\n",
    "    model_path = os.path.join(trial_path, model_id)\n",
    "    model_dict = json.load(open(os.path.join(model_path, 'model.json')))\n",
    "    scores_path = os.path.join(model_path, 'scores/cv_scores.csv')\n",
    "    \n",
    "    scores = pd.read_csv(scores_path)\n",
    "    cols = [c for c in scores.columns if c in model_dict['index'] or c.endswith('_label') or c.endswith('_score')]\n",
    "    scores = scores[cols]\n",
    "    \n",
    "    score_rename = {c: '{}_{}'.format(model_nbr, c) for c in cols if c.endswith('_score')}\n",
    "    scores = scores.rename(columns=score_rename)\n",
    "    \n",
    "    labels_rename = {c: '{}_{}'.format(model_nbr, c) for c in cols if c.endswith('_label')}\n",
    "    scores = scores.rename(columns=labels_rename)\n",
    "    \n",
    "    all_scores = all_scores.merge(scores, on=model_dict['index'], how='left')"
   ]
  },
  {
   "cell_type": "code",
   "execution_count": null,
   "metadata": {
    "ExecuteTime": {
     "start_time": "2019-07-17T04:53:21.670Z"
    }
   },
   "outputs": [],
   "source": [
    "labels_cols = [c for c in all_scores.columns if c.endswith('_label')]\n",
    "scores_cols = [c for c in all_scores.columns if c.endswith('_score')]\n",
    "\n",
    "label_col_base = '_'.join(labels_cols[0].split('_')[1:])\n",
    "score_col_base = '_'.join(scores_cols[0].split('_')[1:])"
   ]
  },
  {
   "cell_type": "code",
   "execution_count": null,
   "metadata": {
    "ExecuteTime": {
     "start_time": "2019-07-17T04:53:21.672Z"
    },
    "run_control": {
     "marked": true
    }
   },
   "outputs": [],
   "source": [
    "all_scores[label_col_base] = all_scores[labels_cols]\\\n",
    "                                    .apply(np.nanmean, axis=1)\\\n",
    "                                    .astype(float)\n",
    "all_scores['label'] = (all_scores[label_col_base] > 0).astype(int)\n",
    "all_scores_nonnull = all_scores[~all_scores[label_col_base].isnull()]\n",
    "\n",
    "agg_method = eval('np.nan{}'.format(bag_dict['aggregation_method']))\n",
    "all_scores_nonnull[score_col_base] = all_scores_nonnull[scores_cols].apply(agg_method, axis=1)\n",
    "\n",
    "all_scores_prepped = all_scores_nonnull.drop(labels_cols, axis=1)"
   ]
  },
  {
   "cell_type": "code",
   "execution_count": null,
   "metadata": {
    "ExecuteTime": {
     "start_time": "2019-07-17T04:53:21.674Z"
    },
    "scrolled": false
   },
   "outputs": [],
   "source": [
    "plot = EvaluateAndPlot(\n",
    "    base_eval, all_scores_prepped, False\n",
    ")\n",
    "\n",
    "plot.plot_ridge()\n",
    "mpl.rcParams.update(params_backup)\n",
    "\n",
    "plot.plot_thresholds()\n",
    "plot.plot_bins()\n",
    "plot.plot_roc()\n",
    "plot.plot_accuracy_by_topn()"
   ]
  },
  {
   "cell_type": "code",
   "execution_count": null,
   "metadata": {},
   "outputs": [],
   "source": []
  },
  {
   "cell_type": "code",
   "execution_count": null,
   "metadata": {},
   "outputs": [],
   "source": []
  }
 ],
 "metadata": {
  "kernelspec": {
   "display_name": "Python 3",
   "language": "python",
   "name": "python3"
  },
  "language_info": {
   "codemirror_mode": {
    "name": "ipython",
    "version": 3
   },
   "file_extension": ".py",
   "mimetype": "text/x-python",
   "name": "python",
   "nbconvert_exporter": "python",
   "pygments_lexer": "ipython3",
   "version": "3.7.3"
  },
  "toc": {
   "base_numbering": 1,
   "nav_menu": {},
   "number_sections": true,
   "sideBar": true,
   "skip_h1_title": false,
   "title_cell": "Table of Contents",
   "title_sidebar": "Contents",
   "toc_cell": false,
   "toc_position": {},
   "toc_section_display": true,
   "toc_window_display": false
  }
 },
 "nbformat": 4,
 "nbformat_minor": 2
}
