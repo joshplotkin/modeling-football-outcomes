{
 "cells": [
  {
   "cell_type": "code",
   "execution_count": 1,
   "metadata": {
    "ExecuteTime": {
     "end_time": "2019-08-04T20:20:10.565540Z",
     "start_time": "2019-08-04T20:20:10.547024Z"
    }
   },
   "outputs": [],
   "source": [
    "%load_ext autoreload\n",
    "%autoreload 2"
   ]
  },
  {
   "cell_type": "code",
   "execution_count": 2,
   "metadata": {
    "ExecuteTime": {
     "end_time": "2019-08-04T20:20:12.720816Z",
     "start_time": "2019-08-04T20:20:10.567918Z"
    }
   },
   "outputs": [
    {
     "data": {
      "text/html": [
       "<style>.container {width:90% !important;}</style>"
      ],
      "text/plain": [
       "<IPython.core.display.HTML object>"
      ]
     },
     "metadata": {},
     "output_type": "display_data"
    }
   ],
   "source": [
    "%run ../../config/initialize_nospark.ipynb\n",
    "\n",
    "import json\n",
    "import shutil"
   ]
  },
  {
   "cell_type": "code",
   "execution_count": 3,
   "metadata": {
    "ExecuteTime": {
     "end_time": "2019-08-04T20:20:12.780371Z",
     "start_time": "2019-08-04T20:20:12.724385Z"
    }
   },
   "outputs": [],
   "source": [
    "sys.path.append('../../config')\n",
    "from mpl_style import *\n",
    "colors = rcParams['axes.prop_cycle'].by_key()['color']\n",
    "\n",
    "rcParams['figure.dpi'] = 96\n",
    "rcParams['figure.figsize'] = (12,8)"
   ]
  },
  {
   "cell_type": "code",
   "execution_count": 4,
   "metadata": {
    "ExecuteTime": {
     "end_time": "2019-08-04T20:20:12.844219Z",
     "start_time": "2019-08-04T20:20:12.784748Z"
    }
   },
   "outputs": [],
   "source": [
    "import matplotlib as mpl\n",
    "params_backup = rcParams.copy()"
   ]
  },
  {
   "cell_type": "code",
   "execution_count": 5,
   "metadata": {
    "ExecuteTime": {
     "end_time": "2019-08-04T20:20:12.901538Z",
     "start_time": "2019-08-04T20:20:12.849236Z"
    }
   },
   "outputs": [],
   "source": [
    "os.chdir('/Users/joshplotkin/Dropbox/data_science/modeling-football-outcomes/')"
   ]
  },
  {
   "cell_type": "code",
   "execution_count": 6,
   "metadata": {
    "ExecuteTime": {
     "end_time": "2019-08-04T20:20:15.627105Z",
     "start_time": "2019-08-04T20:20:12.903657Z"
    }
   },
   "outputs": [],
   "source": [
    "sys.path.append('model_pipeline')\n",
    "from Ensemble import Ensemble\n",
    "from EvaluateModel import EvaluationData, EvaluateAndPlot\n",
    "from ExecuteModelPipeline import ExecuteModelPipeline"
   ]
  },
  {
   "cell_type": "markdown",
   "metadata": {},
   "source": [
    "### TODO:\n",
    "* check JSON\n",
    "  * assert all labels tables are the same\n",
    "* some way of loading existing CV... maybe a dict of cv directories with files to skip CV part (make false) and copy files in... instead of changing seed, this would leave it constant\n",
    "  * assert do cv is True OR there are N CVs to load\n",
    "* clean up the ensemble execution part"
   ]
  },
  {
   "cell_type": "markdown",
   "metadata": {},
   "source": [
    "### Ideas"
   ]
  },
  {
   "cell_type": "markdown",
   "metadata": {
    "ExecuteTime": {
     "end_time": "2019-07-17T02:53:39.024488Z",
     "start_time": "2019-07-17T02:53:38.973296Z"
    }
   },
   "source": [
    "#### multi-thread batch?\n",
    "#### try DL on it? optimization, bagging"
   ]
  },
  {
   "cell_type": "markdown",
   "metadata": {},
   "source": [
    "## Configs"
   ]
  },
  {
   "cell_type": "markdown",
   "metadata": {},
   "source": [
    "### Base Model"
   ]
  },
  {
   "cell_type": "code",
   "execution_count": 7,
   "metadata": {
    "ExecuteTime": {
     "end_time": "2019-08-04T20:20:15.782381Z",
     "start_time": "2019-08-04T20:20:15.629799Z"
    },
    "run_control": {
     "marked": true
    }
   },
   "outputs": [],
   "source": [
    "base_model = json.load(open('models/0625/model.json'))\n",
    "base_model['global_dataset_proportions']['training'] = 0.5\n",
    "base_model['global_dataset_proportions']['throw_away'] = 0.5\n",
    "\n",
    "base_model['save'] = {\n",
    "    'cv_data': False,\n",
    "    'serialized_models': False,\n",
    "    'cv_scores': True,\n",
    "    'holdout_scores': False\n",
    "}\n",
    "base_model['actions'] = {\n",
    "    'do_train_and_score_cv': True,\n",
    "    'do_score_holdout': False,\n",
    "    'do_evaluate': True\n",
    "}\n",
    "\n",
    "json.dump(base_model, open('model_configs/base_model.json','w'))"
   ]
  },
  {
   "cell_type": "code",
   "execution_count": 8,
   "metadata": {
    "ExecuteTime": {
     "end_time": "2019-08-04T20:20:15.876971Z",
     "start_time": "2019-08-04T20:20:15.788603Z"
    }
   },
   "outputs": [],
   "source": [
    "base_model['label_col'] = 'did_win'\n",
    "base_model['model'] = 'xgboost.XGBClassifier'\n",
    "base_model['model_params'] = {'n_jobs': 1,\n",
    "  'learning_rate': 0.1,\n",
    "  'n_estimators': 100,\n",
    "  'max_features': 'auto',\n",
    "  'booster': 'gbtree',\n",
    "  'silent': True,\n",
    "  'nthread': None,\n",
    "  'subsample': 0.5,\n",
    "  'random_state': 9,\n",
    "  'objective': 'binary:logistic',\n",
    "  'max_depth': 6,\n",
    "  'gamma': 0}\n",
    "base_model['actions']['do_evaluate'] = False\n",
    "base_model['save']['cv_data'] = True\n",
    "\n",
    "json.dump(base_model, open('model_configs/base_model_classification.json','w'))"
   ]
  },
  {
   "cell_type": "markdown",
   "metadata": {},
   "source": [
    "### Base Eval"
   ]
  },
  {
   "cell_type": "code",
   "execution_count": 9,
   "metadata": {
    "ExecuteTime": {
     "end_time": "2019-08-04T20:20:15.954917Z",
     "start_time": "2019-08-04T20:20:15.881630Z"
    },
    "run_control": {
     "marked": true
    }
   },
   "outputs": [],
   "source": [
    "base_eval = json.load(open('models/0625/evaluate.json'))\n",
    "base_eval['to_plot'] = {\n",
    "    'ridge': True,\n",
    "    'thresholds': True,\n",
    "    'bins': True,\n",
    "    'roc': True,\n",
    "    'accuracy_by_top_n': True,\n",
    "    'regression__distributions': True,\n",
    "    'regression__scatter': True,\n",
    "    'regression__residuals_by_season_week': True,\n",
    "    'regression__confusion_matrix': True,\n",
    "    'shap__feature_importance': True,\n",
    "    'shap__dependence_plots': False,\n",
    "    'feature_importance': True\n",
    "}\n",
    "base_eval['save']['plots'] = False\n",
    "base_eval['save']['data'] = False\n",
    "base_eval['models_dir'] = '/Users/joshplotkin/Dropbox/data_science/modeling-football-outcomes/models'\n",
    "json.dump(base_eval, open('model_configs/base_eval.json','w'))"
   ]
  },
  {
   "cell_type": "code",
   "execution_count": 10,
   "metadata": {
    "ExecuteTime": {
     "end_time": "2019-08-04T20:20:16.046106Z",
     "start_time": "2019-08-04T20:20:15.959916Z"
    },
    "run_control": {
     "marked": true
    }
   },
   "outputs": [],
   "source": [
    "ensemble_eval = base_eval.copy()\n",
    "\n",
    "ensemble_eval['save']['plots'] = True\n",
    "ensemble_eval['save']['data'] = True\n",
    "ensemble_eval['to_plot'] = {\n",
    "    'ridge': True,\n",
    "    'thresholds': True,\n",
    "    'bins': True,\n",
    "    'roc': True,\n",
    "    'accuracy_by_top_n': True,\n",
    "    'regression__distributions': False,\n",
    "    'regression__scatter': False,\n",
    "    'regression__residuals_by_season_week': False,\n",
    "    'regression__confusion_matrix': False,\n",
    "    'shap__feature_importance': True,\n",
    "    'shap__dependence_plots': False,\n",
    "    'feature_importance': False\n",
    "}"
   ]
  },
  {
   "cell_type": "markdown",
   "metadata": {},
   "source": [
    "## TODO: infer is_classifiation for ensemble"
   ]
  },
  {
   "cell_type": "markdown",
   "metadata": {},
   "source": [
    "### Ensemble - generate new CV data\n",
    "* TODO: how to make it configurable how to handle plotting submodel"
   ]
  },
  {
   "cell_type": "code",
   "execution_count": 11,
   "metadata": {
    "ExecuteTime": {
     "end_time": "2019-08-04T20:20:16.221291Z",
     "start_time": "2019-08-04T20:20:16.052086Z"
    },
    "run_control": {
     "marked": true
    }
   },
   "outputs": [],
   "source": [
    "ensemble_dict = {}\n",
    "ensemble_dict['models_dir'] = '/Users/joshplotkin/Dropbox/data_science/modeling-football-outcomes/models'\n",
    "ensemble_dict['ensemble_model_id'] = 'ensemble_0630'\n",
    "ensemble_dict['number_of_models'] = 5\n",
    "ensemble_dict['aggregation_method'] = ['mean', 'median'] # mean, median, max, min, mean excluding top/bottom n (robust mean?)\n",
    "ensemble_dict['source'] = 'model_configs/base_model_classification.json'\n",
    "ensemble_dict['save'] = {'scores': True, 'plots': True, 'data': True}\n",
    "\n",
    "ensemble_dict['evaluation_config'] = 'model_configs/base_eval.json'\n",
    "ensemble_dict['submodel_evaluation_config'] = 'model_configs/base_eval.json'\n",
    "ensemble_dict['submodel_plots'] = True\n",
    "\n",
    "assert os.path.exists(ensemble_dict['models_dir'])\n",
    "assert not set(ensemble_dict['aggregation_method']) - set(['mean','median','min','max'])\n",
    "if 'load_cv_data' not in ensemble_dict.keys():\n",
    "    assert (type(ensemble_dict['source']) is str) | (len(ensemble_dict['source']) == ensemble_dict['number_of_models'])\n"
   ]
  },
  {
   "cell_type": "markdown",
   "metadata": {},
   "source": [
    "#### Example: each model in the ensemble gets a random 5 features\n",
    "* in the JSON, provide a list of n sets of features for the features_list key. "
   ]
  },
  {
   "cell_type": "code",
   "execution_count": 12,
   "metadata": {
    "ExecuteTime": {
     "end_time": "2019-08-04T20:20:16.416918Z",
     "start_time": "2019-08-04T20:20:16.223587Z"
    }
   },
   "outputs": [],
   "source": [
    "features_list = pd.read_csv('data/{}/{}.csv'.format(\n",
    "    *base_model['features_tbl'].split('.'))\n",
    ").columns.tolist()[3:]\n",
    "\n",
    "features_lists = [\n",
    "    list(set(np.random.choice(features_list, size=5).tolist()))\n",
    "    for _ in range(ensemble_dict['number_of_models'])\n",
    "]\n",
    "\n",
    "ensemble_dict['input_changes_by_iteration'] = {\n",
    "    'features_list': features_lists\n",
    "}\n",
    "\n",
    "# test\n",
    "if 'input_changes_by_iteration' in ensemble_dict:\n",
    "    assert type(ensemble_dict['input_changes_by_iteration']) is dict\n",
    "    for param, values in ensemble_dict['input_changes_by_iteration'].items():\n",
    "        assert len(values) == ensemble_dict['number_of_models']\n",
    "        for value in values:\n",
    "            assert type(value) == type(base_model[param])"
   ]
  },
  {
   "cell_type": "markdown",
   "metadata": {},
   "source": [
    "#### Execute Ensemble for method generating new CV"
   ]
  },
  {
   "cell_type": "code",
   "execution_count": 13,
   "metadata": {
    "ExecuteTime": {
     "end_time": "2019-08-04T20:20:39.247520Z",
     "start_time": "2019-08-04T20:20:16.419171Z"
    },
    "scrolled": true
   },
   "outputs": [
    {
     "name": "stdout",
     "output_type": "stream",
     "text": [
      "removed /Users/joshplotkin/Dropbox/data_science/modeling-football-outcomes/models/ensemble_0630...\n"
     ]
    },
    {
     "data": {
      "text/plain": [
       "<Figure size 720x480 with 0 Axes>"
      ]
     },
     "metadata": {},
     "output_type": "display_data"
    },
    {
     "data": {
      "text/plain": [
       "<Figure size 1152x768 with 0 Axes>"
      ]
     },
     "metadata": {},
     "output_type": "display_data"
    },
    {
     "data": {
      "text/plain": [
       "<Figure size 1152x768 with 0 Axes>"
      ]
     },
     "metadata": {},
     "output_type": "display_data"
    },
    {
     "data": {
      "text/plain": [
       "<Figure size 1152x768 with 0 Axes>"
      ]
     },
     "metadata": {},
     "output_type": "display_data"
    },
    {
     "data": {
      "text/plain": [
       "<Figure size 1152x768 with 0 Axes>"
      ]
     },
     "metadata": {},
     "output_type": "display_data"
    },
    {
     "data": {
      "text/plain": [
       "<Figure size 1152x768 with 0 Axes>"
      ]
     },
     "metadata": {},
     "output_type": "display_data"
    },
    {
     "data": {
      "text/plain": [
       "<Figure size 1152x768 with 0 Axes>"
      ]
     },
     "metadata": {},
     "output_type": "display_data"
    },
    {
     "data": {
      "text/plain": [
       "<Figure size 720x480 with 0 Axes>"
      ]
     },
     "metadata": {},
     "output_type": "display_data"
    },
    {
     "data": {
      "text/plain": [
       "<Figure size 1152x768 with 0 Axes>"
      ]
     },
     "metadata": {},
     "output_type": "display_data"
    },
    {
     "data": {
      "text/plain": [
       "<Figure size 1152x768 with 0 Axes>"
      ]
     },
     "metadata": {},
     "output_type": "display_data"
    },
    {
     "data": {
      "text/plain": [
       "<Figure size 1152x768 with 0 Axes>"
      ]
     },
     "metadata": {},
     "output_type": "display_data"
    },
    {
     "data": {
      "text/plain": [
       "<Figure size 1152x768 with 0 Axes>"
      ]
     },
     "metadata": {},
     "output_type": "display_data"
    },
    {
     "data": {
      "text/plain": [
       "<Figure size 1152x768 with 0 Axes>"
      ]
     },
     "metadata": {},
     "output_type": "display_data"
    },
    {
     "data": {
      "text/plain": [
       "<Figure size 1152x768 with 0 Axes>"
      ]
     },
     "metadata": {},
     "output_type": "display_data"
    }
   ],
   "source": [
    "ensemble_eval['model_id'] = ensemble_dict['ensemble_model_id']\n",
    "ensemble = Ensemble(ensemble_dict, ensemble_eval)\n",
    "ensemble.execute_ensemble()\n",
    "ensemble.evaluate_ensemble()"
   ]
  },
  {
   "cell_type": "markdown",
   "metadata": {},
   "source": [
    "### Ensemble - load CV data from disk"
   ]
  },
  {
   "cell_type": "code",
   "execution_count": 14,
   "metadata": {
    "ExecuteTime": {
     "end_time": "2019-08-04T20:20:39.334413Z",
     "start_time": "2019-08-04T20:20:39.249727Z"
    }
   },
   "outputs": [],
   "source": [
    "ensemble_dict = {}\n",
    "ensemble_dict['models_dir'] = '/Users/joshplotkin/Dropbox/data_science/modeling-football-outcomes/models'\n",
    "ensemble_dict['ensemble_model_id'] = 'ensemble_0803'\n",
    "ensemble_dict['load_cv_data_from'] = 'ensemble_0630'\n",
    "ensemble_dict['number_of_models'] = 5\n",
    "ensemble_dict['save'] = {'scores': True, 'plots': True, 'data': True}\n",
    "ensemble_dict['evaluation_config'] = 'model_configs/base_eval.json'\n",
    "ensemble_dict['submodel_plots'] = True\n",
    "ensemble_dict['aggregation_method'] = ['mean', 'median'] # mean, median, max, min, mean excluding top/bottom n (robust mean?)\n",
    "\n",
    "assert os.path.exists(ensemble_dict['models_dir'])\n",
    "assert not set(ensemble_dict['aggregation_method']) - set(['mean','median','min','max'])\n",
    "if 'load_cv_data_from' in ensemble_dict.keys():\n",
    "    assert os.path.exists(\n",
    "        os.path.join(ensemble_dict['models_dir'], \n",
    "                     ensemble_dict['load_cv_data_from'])\n",
    "        )\n",
    "    \n",
    "    source_path = os.path.join(ensemble_dict['models_dir'], \n",
    "                               ensemble_dict['load_cv_data_from'])\n",
    "    n_models_expected = 0\n",
    "    for d in os.listdir(source_path):\n",
    "        try:\n",
    "            _ = int(d)\n",
    "            n_models_expected += 1\n",
    "        except:\n",
    "            pass\n",
    "    assert ensemble_dict['number_of_models'] == n_models_expected"
   ]
  },
  {
   "cell_type": "code",
   "execution_count": 15,
   "metadata": {
    "ExecuteTime": {
     "end_time": "2019-08-04T20:20:59.976302Z",
     "start_time": "2019-08-04T20:20:39.337411Z"
    }
   },
   "outputs": [
    {
     "name": "stdout",
     "output_type": "stream",
     "text": [
      "removed /Users/joshplotkin/Dropbox/data_science/modeling-football-outcomes/models/ensemble_0803...\n"
     ]
    },
    {
     "data": {
      "text/plain": [
       "<Figure size 720x480 with 0 Axes>"
      ]
     },
     "metadata": {},
     "output_type": "display_data"
    },
    {
     "data": {
      "text/plain": [
       "<Figure size 1152x768 with 0 Axes>"
      ]
     },
     "metadata": {},
     "output_type": "display_data"
    },
    {
     "data": {
      "text/plain": [
       "<Figure size 1152x768 with 0 Axes>"
      ]
     },
     "metadata": {},
     "output_type": "display_data"
    },
    {
     "data": {
      "text/plain": [
       "<Figure size 1152x768 with 0 Axes>"
      ]
     },
     "metadata": {},
     "output_type": "display_data"
    },
    {
     "data": {
      "text/plain": [
       "<Figure size 1152x768 with 0 Axes>"
      ]
     },
     "metadata": {},
     "output_type": "display_data"
    },
    {
     "data": {
      "text/plain": [
       "<Figure size 1152x768 with 0 Axes>"
      ]
     },
     "metadata": {},
     "output_type": "display_data"
    },
    {
     "data": {
      "text/plain": [
       "<Figure size 1152x768 with 0 Axes>"
      ]
     },
     "metadata": {},
     "output_type": "display_data"
    },
    {
     "data": {
      "text/plain": [
       "<Figure size 720x480 with 0 Axes>"
      ]
     },
     "metadata": {},
     "output_type": "display_data"
    },
    {
     "data": {
      "text/plain": [
       "<Figure size 1152x768 with 0 Axes>"
      ]
     },
     "metadata": {},
     "output_type": "display_data"
    },
    {
     "data": {
      "text/plain": [
       "<Figure size 1152x768 with 0 Axes>"
      ]
     },
     "metadata": {},
     "output_type": "display_data"
    },
    {
     "data": {
      "text/plain": [
       "<Figure size 1152x768 with 0 Axes>"
      ]
     },
     "metadata": {},
     "output_type": "display_data"
    },
    {
     "data": {
      "text/plain": [
       "<Figure size 1152x768 with 0 Axes>"
      ]
     },
     "metadata": {},
     "output_type": "display_data"
    },
    {
     "data": {
      "text/plain": [
       "<Figure size 1152x768 with 0 Axes>"
      ]
     },
     "metadata": {},
     "output_type": "display_data"
    },
    {
     "data": {
      "text/plain": [
       "<Figure size 1152x768 with 0 Axes>"
      ]
     },
     "metadata": {},
     "output_type": "display_data"
    }
   ],
   "source": [
    "ensemble_eval['model_id'] = ensemble_dict['ensemble_model_id']\n",
    "ensemble = Ensemble(ensemble_dict, ensemble_eval)\n",
    "ensemble.execute_ensemble()\n",
    "ensemble.evaluate_ensemble()"
   ]
  },
  {
   "cell_type": "code",
   "execution_count": 16,
   "metadata": {
    "ExecuteTime": {
     "end_time": "2019-08-04T20:21:00.208450Z",
     "start_time": "2019-08-04T20:20:59.978219Z"
    }
   },
   "outputs": [
    {
     "name": "stdout",
     "output_type": "stream",
     "text": [
      "total 0\r\n",
      "0 drwxr-xr-x@  7 joshplotkin  staff   224B Aug  4 16:20 \u001b[1m\u001b[34m00000\u001b[m\u001b[m\r\n",
      "0 drwxr-xr-x@  7 joshplotkin  staff   224B Aug  4 16:20 \u001b[1m\u001b[34m00001\u001b[m\u001b[m\r\n",
      "0 drwxr-xr-x@  7 joshplotkin  staff   224B Aug  4 16:20 \u001b[1m\u001b[34m00002\u001b[m\u001b[m\r\n",
      "0 drwxr-xr-x@  7 joshplotkin  staff   224B Aug  4 16:20 \u001b[1m\u001b[34m00003\u001b[m\u001b[m\r\n",
      "0 drwxr-xr-x@  7 joshplotkin  staff   224B Aug  4 16:20 \u001b[1m\u001b[34m00004\u001b[m\u001b[m\r\n",
      "0 drwxr-xr-x@  6 joshplotkin  staff   192B Aug  4 16:20 \u001b[1m\u001b[34mevaluation_mean\u001b[m\u001b[m\r\n",
      "0 drwxr-xr-x@  9 joshplotkin  staff   288B Aug  4 16:20 \u001b[1m\u001b[34m.\u001b[m\u001b[m\r\n",
      "0 drwxr-xr-x@  6 joshplotkin  staff   192B Aug  4 16:20 \u001b[1m\u001b[34mevaluation_median\u001b[m\u001b[m\r\n",
      "0 drwxrwxrwx@ 53 joshplotkin  staff   1.7K Aug  4 16:20 \u001b[30m\u001b[43m..\u001b[m\u001b[m\r\n"
     ]
    }
   ],
   "source": [
    "!ls -lastrh /Users/joshplotkin/Dropbox/data_science/modeling-football-outcomes/models/ensemble_0630"
   ]
  },
  {
   "cell_type": "code",
   "execution_count": 17,
   "metadata": {
    "ExecuteTime": {
     "end_time": "2019-08-04T20:21:00.469820Z",
     "start_time": "2019-08-04T20:21:00.214153Z"
    }
   },
   "outputs": [
    {
     "name": "stdout",
     "output_type": "stream",
     "text": [
      "total 0\r\n",
      "0 drwxrwxrwx@ 53 joshplotkin  staff   1.7K Aug  4 16:20 \u001b[30m\u001b[43m..\u001b[m\u001b[m\r\n",
      "0 drwxr-xr-x@  6 joshplotkin  staff   192B Aug  4 16:20 \u001b[1m\u001b[34m00000\u001b[m\u001b[m\r\n",
      "0 drwxr-xr-x@  6 joshplotkin  staff   192B Aug  4 16:20 \u001b[1m\u001b[34m00001\u001b[m\u001b[m\r\n",
      "0 drwxr-xr-x@  6 joshplotkin  staff   192B Aug  4 16:20 \u001b[1m\u001b[34m00002\u001b[m\u001b[m\r\n",
      "0 drwxr-xr-x@  6 joshplotkin  staff   192B Aug  4 16:20 \u001b[1m\u001b[34m00003\u001b[m\u001b[m\r\n",
      "0 drwxr-xr-x@  6 joshplotkin  staff   192B Aug  4 16:20 \u001b[1m\u001b[34m00004\u001b[m\u001b[m\r\n",
      "0 drwxr-xr-x@  6 joshplotkin  staff   192B Aug  4 16:20 \u001b[1m\u001b[34mevaluation_mean\u001b[m\u001b[m\r\n",
      "0 drwxr-xr-x@  9 joshplotkin  staff   288B Aug  4 16:20 \u001b[1m\u001b[34m.\u001b[m\u001b[m\r\n",
      "0 drwxr-xr-x@  6 joshplotkin  staff   192B Aug  4 16:20 \u001b[1m\u001b[34mevaluation_median\u001b[m\u001b[m\r\n"
     ]
    }
   ],
   "source": [
    "!ls -lastrh /Users/joshplotkin/Dropbox/data_science/modeling-football-outcomes/models/ensemble_0803"
   ]
  },
  {
   "cell_type": "code",
   "execution_count": 18,
   "metadata": {
    "ExecuteTime": {
     "end_time": "2019-08-04T20:21:00.685959Z",
     "start_time": "2019-08-04T20:21:00.476546Z"
    }
   },
   "outputs": [
    {
     "ename": "NameError",
     "evalue": "name 'foo' is not defined",
     "output_type": "error",
     "traceback": [
      "\u001b[0;31m------------\u001b[0m",
      "\u001b[0;31mNameError\u001b[0mTraceback (most recent call last)",
      "\u001b[0;32m<ipython-input-18-f1d2d2f924e9>\u001b[0m in \u001b[0;36m<module>\u001b[0;34m\u001b[0m\n\u001b[0;32m----> 1\u001b[0;31m \u001b[0mfoo\u001b[0m\u001b[0;34m\u001b[0m\u001b[0;34m\u001b[0m\u001b[0m\n\u001b[0m",
      "\u001b[0;31mNameError\u001b[0m: name 'foo' is not defined"
     ]
    }
   ],
   "source": [
    "foo"
   ]
  },
  {
   "cell_type": "markdown",
   "metadata": {},
   "source": [
    "### OLD - Manual run"
   ]
  },
  {
   "cell_type": "code",
   "execution_count": null,
   "metadata": {
    "ExecuteTime": {
     "end_time": "2019-08-04T20:21:00.690527Z",
     "start_time": "2019-08-04T20:20:10.568Z"
    }
   },
   "outputs": [],
   "source": [
    "base_eval = json.load(open('models/0625/evaluate.json'))"
   ]
  },
  {
   "cell_type": "markdown",
   "metadata": {},
   "source": [
    "#### Ensemble Dictionary"
   ]
  },
  {
   "cell_type": "code",
   "execution_count": null,
   "metadata": {
    "ExecuteTime": {
     "end_time": "2019-07-16T02:10:34.702845Z",
     "start_time": "2019-07-16T02:10:34.657289Z"
    }
   },
   "outputs": [],
   "source": []
  },
  {
   "cell_type": "code",
   "execution_count": null,
   "metadata": {
    "ExecuteTime": {
     "end_time": "2019-07-16T02:10:34.747426Z",
     "start_time": "2019-07-16T02:10:34.705843Z"
    }
   },
   "outputs": [],
   "source": []
  },
  {
   "cell_type": "markdown",
   "metadata": {},
   "source": [
    "* load model.json\n",
    "* create parent directory\n",
    "* move json to parent directory\n",
    "* create child directories with individual model.json (optional evaluate.json)\n",
    "* run pipeline in each child directory\n",
    "* aggregate\n",
    "* evaluate"
   ]
  },
  {
   "cell_type": "markdown",
   "metadata": {},
   "source": [
    "##### TODO: support a list of model.json"
   ]
  },
  {
   "cell_type": "code",
   "execution_count": null,
   "metadata": {
    "ExecuteTime": {
     "end_time": "2019-08-04T20:21:00.693376Z",
     "start_time": "2019-08-04T20:20:10.572Z"
    }
   },
   "outputs": [],
   "source": [
    "def setup_trial_dir(overwrite, trial_path):\n",
    "    overwrite = True if overwrite.upper()[0] == 'Y' else False\n",
    "\n",
    "    print('Model Path:\\n{}'.format(trial_path))\n",
    "    if (overwrite is False) & (os.path.exists(trial_path)):\n",
    "        print('model path already exists and user input disallows overwriting. exiting...')\n",
    "        sys.exit(1)\n",
    "\n",
    "    if (overwrite) & (os.path.exists(trial_path)):\n",
    "        import shutil\n",
    "        shutil.rmtree(trial_path)\n",
    "    os.mkdir(trial_path)"
   ]
  },
  {
   "cell_type": "code",
   "execution_count": null,
   "metadata": {
    "ExecuteTime": {
     "end_time": "2019-08-04T20:21:00.697600Z",
     "start_time": "2019-08-04T20:20:10.574Z"
    }
   },
   "outputs": [],
   "source": [
    "bag_dict = ensemble_dict"
   ]
  },
  {
   "cell_type": "code",
   "execution_count": null,
   "metadata": {
    "ExecuteTime": {
     "end_time": "2019-08-04T20:21:00.700224Z",
     "start_time": "2019-08-04T20:20:10.575Z"
    }
   },
   "outputs": [],
   "source": [
    "overwrite = 'Y'\n",
    "trial_path = os.path.join(bag_dict['models_dir'], bag_dict['ensemble_model_id'])\n",
    "\n",
    "setup_trial_dir(overwrite, trial_path)"
   ]
  },
  {
   "cell_type": "code",
   "execution_count": null,
   "metadata": {
    "ExecuteTime": {
     "end_time": "2019-08-04T20:21:00.702425Z",
     "start_time": "2019-08-04T20:20:10.576Z"
    }
   },
   "outputs": [],
   "source": [
    "json.dump(bag_dict, open(os.path.join(trial_path, 'bag.json'), 'w'), indent=3)"
   ]
  },
  {
   "cell_type": "code",
   "execution_count": null,
   "metadata": {
    "ExecuteTime": {
     "end_time": "2019-08-04T20:21:00.704801Z",
     "start_time": "2019-08-04T20:20:10.579Z"
    },
    "run_control": {
     "marked": false
    }
   },
   "outputs": [],
   "source": [
    "def create_ensemble_dir_structure(bag_dict, trial_path):\n",
    "    model_dict = json.load(open(bag_dict['source']))\n",
    "    seed = np.random.randint(1, 1000000)\n",
    "    for model_nbr in np.arange(bag_dict['number_of_models']):\n",
    "        model_dict['dataset_seed'] = int(seed + model_nbr)\n",
    "        model_dict['fold_seed'] = int(seed + model_nbr)\n",
    "\n",
    "        model_id = '{:05d}'.format(model_nbr)\n",
    "        model_path = os.path.join(trial_path, model_id)\n",
    "        setup_trial_dir('Y', model_path)\n",
    "\n",
    "        model_dict['model_id'] = '{}/{}'.format(bag_dict['ensemble_model_id'], model_id)\n",
    "        model_dict['models_dir'] = bag_dict['models_dir']\n",
    "        json.dump(\n",
    "            model_dict, \n",
    "            open(os.path.join(model_path, 'model.json'), 'w'),\n",
    "            indent=3\n",
    "        )"
   ]
  },
  {
   "cell_type": "code",
   "execution_count": null,
   "metadata": {
    "ExecuteTime": {
     "end_time": "2019-08-04T20:21:00.707373Z",
     "start_time": "2019-08-04T20:20:10.580Z"
    }
   },
   "outputs": [],
   "source": [
    "if type(bag_dict['source']) is str:\n",
    "    create_ensemble_dir_structure(bag_dict, trial_path)"
   ]
  },
  {
   "cell_type": "code",
   "execution_count": null,
   "metadata": {
    "ExecuteTime": {
     "end_time": "2019-08-04T20:21:00.709397Z",
     "start_time": "2019-08-04T20:20:10.582Z"
    },
    "scrolled": true
   },
   "outputs": [],
   "source": [
    "for model_nbr in np.arange(bag_dict['number_of_models']):\n",
    "    model_id = '{:05d}'.format(model_nbr)\n",
    "    model_path = os.path.join(trial_path, model_id)\n",
    "    model_json_path = os.path.join(model_path, 'model.json')\n",
    "    ExecuteModelPipeline(model_json_path, None, 'Y')"
   ]
  },
  {
   "cell_type": "code",
   "execution_count": null,
   "metadata": {
    "ExecuteTime": {
     "end_time": "2019-08-04T20:21:00.711461Z",
     "start_time": "2019-08-04T20:20:10.584Z"
    },
    "scrolled": true
   },
   "outputs": [],
   "source": [
    "all_scores = pd.read_csv(\n",
    "    'data/{}/{}.csv'.format(\n",
    "        *base_model['labels_tbl'].split('.')\n",
    "    )\n",
    ")\n",
    "\n",
    "for model_nbr in np.arange(bag_dict['number_of_models']):\n",
    "    model_id = '{:05d}'.format(model_nbr)\n",
    "    model_path = os.path.join(trial_path, model_id)\n",
    "    model_dict = json.load(open(os.path.join(model_path, 'model.json')))\n",
    "    scores_path = os.path.join(model_path, 'scores/cv_scores.csv')\n",
    "    \n",
    "    scores = pd.read_csv(scores_path)\n",
    "    cols = [c for c in scores.columns if c in model_dict['index'] or c.endswith('_label') or c.endswith('_score')]\n",
    "    scores = scores[cols]\n",
    "    \n",
    "    score_rename = {c: '{}_{}'.format(model_nbr, c) for c in cols if c.endswith('_score')}\n",
    "    scores = scores.rename(columns=score_rename)\n",
    "    \n",
    "    labels_rename = {c: '{}_{}'.format(model_nbr, c) for c in cols if c.endswith('_label')}\n",
    "    scores = scores.rename(columns=labels_rename)\n",
    "    \n",
    "    all_scores = all_scores.merge(scores, on=model_dict['index'], how='left')"
   ]
  },
  {
   "cell_type": "code",
   "execution_count": null,
   "metadata": {
    "ExecuteTime": {
     "end_time": "2019-08-04T20:21:00.713163Z",
     "start_time": "2019-08-04T20:20:10.586Z"
    }
   },
   "outputs": [],
   "source": [
    "labels_cols = [c for c in all_scores.columns if c.endswith('_label')]\n",
    "scores_cols = [c for c in all_scores.columns if c.endswith('_score')]\n",
    "\n",
    "label_col_base = '_'.join(labels_cols[0].split('_')[1:])\n",
    "score_col_base = '_'.join(scores_cols[0].split('_')[1:])"
   ]
  },
  {
   "cell_type": "code",
   "execution_count": null,
   "metadata": {
    "ExecuteTime": {
     "end_time": "2019-08-04T20:21:00.714901Z",
     "start_time": "2019-08-04T20:20:10.587Z"
    },
    "run_control": {
     "marked": true
    }
   },
   "outputs": [],
   "source": [
    "all_scores[label_col_base] = all_scores[labels_cols]\\\n",
    "                                    .apply(np.nanmean, axis=1)\\\n",
    "                                    .astype(float)\n",
    "all_scores['label'] = (all_scores[label_col_base] > 0).astype(int)\n",
    "all_scores_nonnull = all_scores[~all_scores[label_col_base].isnull()]\n",
    "\n",
    "agg_method = eval('np.nan{}'.format(bag_dict['aggregation_method']))\n",
    "all_scores_nonnull[score_col_base] = all_scores_nonnull[scores_cols].apply(agg_method, axis=1)\n",
    "\n",
    "all_scores_prepped = all_scores_nonnull.drop(labels_cols, axis=1)"
   ]
  },
  {
   "cell_type": "code",
   "execution_count": null,
   "metadata": {
    "ExecuteTime": {
     "end_time": "2019-08-04T20:21:00.716790Z",
     "start_time": "2019-08-04T20:20:10.589Z"
    },
    "scrolled": false
   },
   "outputs": [],
   "source": [
    "plot = EvaluateAndPlot(\n",
    "    base_eval, all_scores_prepped, False\n",
    ")\n",
    "\n",
    "plot.plot_ridge()\n",
    "mpl.rcParams.update(params_backup)\n",
    "\n",
    "plot.plot_thresholds()\n",
    "plot.plot_bins()\n",
    "plot.plot_roc()\n",
    "plot.plot_accuracy_by_topn()"
   ]
  },
  {
   "cell_type": "code",
   "execution_count": null,
   "metadata": {},
   "outputs": [],
   "source": []
  },
  {
   "cell_type": "code",
   "execution_count": null,
   "metadata": {},
   "outputs": [],
   "source": []
  }
 ],
 "metadata": {
  "kernelspec": {
   "display_name": "Python 3",
   "language": "python",
   "name": "python3"
  },
  "language_info": {
   "codemirror_mode": {
    "name": "ipython",
    "version": 3
   },
   "file_extension": ".py",
   "mimetype": "text/x-python",
   "name": "python",
   "nbconvert_exporter": "python",
   "pygments_lexer": "ipython3",
   "version": "3.7.3"
  },
  "toc": {
   "base_numbering": 1,
   "nav_menu": {},
   "number_sections": true,
   "sideBar": true,
   "skip_h1_title": false,
   "title_cell": "Table of Contents",
   "title_sidebar": "Contents",
   "toc_cell": false,
   "toc_position": {},
   "toc_section_display": true,
   "toc_window_display": false
  }
 },
 "nbformat": 4,
 "nbformat_minor": 2
}
