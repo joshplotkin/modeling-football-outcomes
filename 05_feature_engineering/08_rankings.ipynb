{
 "cells": [
  {
   "cell_type": "code",
   "execution_count": 1,
   "metadata": {
    "ExecuteTime": {
     "end_time": "2019-02-28T23:42:30.157509Z",
     "start_time": "2019-02-28T23:42:24.611694Z"
    }
   },
   "outputs": [
    {
     "data": {
      "text/html": [
       "<style>.container {width:90% !important;}</style>"
      ],
      "text/plain": [
       "<IPython.core.display.HTML object>"
      ]
     },
     "metadata": {},
     "output_type": "display_data"
    }
   ],
   "source": [
    "%run ../config/initialize.ipynb"
   ]
  },
  {
   "cell_type": "markdown",
   "metadata": {},
   "source": [
    "## Team Rank Features\n",
    "* key: (game_id, team_id)\n",
    "* table name: features.rankings\n",
    "* __h__dave_or_wtddvoa__\n",
    "* __h__def_rank__\n",
    "* __h__defensedvoa__\n",
    "* __h__estim_winrate__\n",
    "* __h__off_rank__\n",
    "* __h__offensedvoa__\n",
    "* __h__s_t_dvoa__\n",
    "* __h__s_t_rank__\n",
    "* __h__totaldvoa__\n",
    "* __v__dave_or_wtddvoa__\n",
    "* __v__def_rank__\n",
    "* __v__defensedvoa__\n",
    "* __v__estim_winrate__\n",
    "* __v__off_rank__\n",
    "* __v__offensedvoa__\n",
    "* __v__s_t_dvoa__\n",
    "* __v__s_t_rank__\n",
    "* __v__totaldvoa__"
   ]
  },
  {
   "cell_type": "code",
   "execution_count": 2,
   "metadata": {
    "ExecuteTime": {
     "end_time": "2019-02-28T23:42:30.167289Z",
     "start_time": "2019-02-28T23:42:30.161938Z"
    }
   },
   "outputs": [],
   "source": [
    "key = 'game_id'\n",
    "out_tbl = 'features.rankings'\n",
    "features_list = []"
   ]
  },
  {
   "cell_type": "code",
   "execution_count": 3,
   "metadata": {
    "ExecuteTime": {
     "end_time": "2019-02-28T23:42:30.643480Z",
     "start_time": "2019-02-28T23:42:30.173939Z"
    }
   },
   "outputs": [],
   "source": [
    "dvoa = spark.table('dvoa').select('team_id','season','week_id',\n",
    "                                  ## wins/losses\n",
    "                                  'w_l','estim_wins',\n",
    "                                  ## total\n",
    "                                  'dave_or_wtddvoa','totaldvoa',\n",
    "                                  ## offense\n",
    "                                 'offensedvoa','off_rank',\n",
    "                                  ## defense\n",
    "                                  'defensedvoa','def_rank',\n",
    "                                  ## special teams\n",
    "                                  's_t_dvoa','s_t_rank')\n",
    "game = spark.table('game').select('game_id','season','week_id','date',\n",
    "                                  'h_team_id','v_team_id')"
   ]
  },
  {
   "cell_type": "markdown",
   "metadata": {},
   "source": [
    "### Estimated winrate\n",
    "* estimated wins divided by number of games"
   ]
  },
  {
   "cell_type": "code",
   "execution_count": 4,
   "metadata": {
    "ExecuteTime": {
     "end_time": "2019-02-28T23:42:32.820422Z",
     "start_time": "2019-02-28T23:42:30.648979Z"
    }
   },
   "outputs": [
    {
     "data": {
      "text/html": [
       "<div>\n",
       "<style scoped>\n",
       "    .dataframe tbody tr th:only-of-type {\n",
       "        vertical-align: middle;\n",
       "    }\n",
       "\n",
       "    .dataframe tbody tr th {\n",
       "        vertical-align: top;\n",
       "    }\n",
       "\n",
       "    .dataframe thead th {\n",
       "        text-align: right;\n",
       "    }\n",
       "</style>\n",
       "<table border=\"1\" class=\"dataframe\">\n",
       "  <thead>\n",
       "    <tr style=\"text-align: right;\">\n",
       "      <th></th>\n",
       "      <th>team_id</th>\n",
       "      <th>season</th>\n",
       "      <th>week_id</th>\n",
       "      <th>dave_or_wtddvoa</th>\n",
       "      <th>totaldvoa</th>\n",
       "      <th>offensedvoa</th>\n",
       "      <th>off_rank</th>\n",
       "      <th>defensedvoa</th>\n",
       "      <th>def_rank</th>\n",
       "      <th>s_t_dvoa</th>\n",
       "      <th>s_t_rank</th>\n",
       "      <th>estim_winrate</th>\n",
       "    </tr>\n",
       "  </thead>\n",
       "  <tbody>\n",
       "    <tr>\n",
       "      <th>0</th>\n",
       "      <td>mia</td>\n",
       "      <td>2008</td>\n",
       "      <td>8</td>\n",
       "      <td>6.9</td>\n",
       "      <td>9.8</td>\n",
       "      <td>22.2</td>\n",
       "      <td>3.0</td>\n",
       "      <td>2.3</td>\n",
       "      <td>16.0</td>\n",
       "      <td>-10.0</td>\n",
       "      <td>31.0</td>\n",
       "      <td>0.616667</td>\n",
       "    </tr>\n",
       "    <tr>\n",
       "      <th>1</th>\n",
       "      <td>mia</td>\n",
       "      <td>2008</td>\n",
       "      <td>9</td>\n",
       "      <td>13.6</td>\n",
       "      <td>13.3</td>\n",
       "      <td>20.8</td>\n",
       "      <td>2.0</td>\n",
       "      <td>-1.4</td>\n",
       "      <td>12.0</td>\n",
       "      <td>-8.9</td>\n",
       "      <td>31.0</td>\n",
       "      <td>0.671429</td>\n",
       "    </tr>\n",
       "    <tr>\n",
       "      <th>2</th>\n",
       "      <td>mia</td>\n",
       "      <td>2008</td>\n",
       "      <td>10</td>\n",
       "      <td>10.6</td>\n",
       "      <td>9.4</td>\n",
       "      <td>14.9</td>\n",
       "      <td>8.0</td>\n",
       "      <td>-3.0</td>\n",
       "      <td>11.0</td>\n",
       "      <td>-8.5</td>\n",
       "      <td>31.0</td>\n",
       "      <td>0.625000</td>\n",
       "    </tr>\n",
       "    <tr>\n",
       "      <th>3</th>\n",
       "      <td>mia</td>\n",
       "      <td>2008</td>\n",
       "      <td>11</td>\n",
       "      <td>10.1</td>\n",
       "      <td>7.7</td>\n",
       "      <td>15.3</td>\n",
       "      <td>9.0</td>\n",
       "      <td>-0.5</td>\n",
       "      <td>13.0</td>\n",
       "      <td>-8.2</td>\n",
       "      <td>31.0</td>\n",
       "      <td>0.544444</td>\n",
       "    </tr>\n",
       "    <tr>\n",
       "      <th>4</th>\n",
       "      <td>mia</td>\n",
       "      <td>2008</td>\n",
       "      <td>12</td>\n",
       "      <td>6.6</td>\n",
       "      <td>6.8</td>\n",
       "      <td>16.7</td>\n",
       "      <td>6.0</td>\n",
       "      <td>0.5</td>\n",
       "      <td>13.0</td>\n",
       "      <td>-9.4</td>\n",
       "      <td>31.0</td>\n",
       "      <td>0.540000</td>\n",
       "    </tr>\n",
       "  </tbody>\n",
       "</table>\n",
       "</div>"
      ],
      "text/plain": [
       "  team_id  season  week_id  dave_or_wtddvoa  totaldvoa  offensedvoa  off_rank  \\\n",
       "0     mia    2008        8              6.9        9.8         22.2       3.0   \n",
       "1     mia    2008        9             13.6       13.3         20.8       2.0   \n",
       "2     mia    2008       10             10.6        9.4         14.9       8.0   \n",
       "3     mia    2008       11             10.1        7.7         15.3       9.0   \n",
       "4     mia    2008       12              6.6        6.8         16.7       6.0   \n",
       "\n",
       "   defensedvoa  def_rank  s_t_dvoa  s_t_rank  estim_winrate  \n",
       "0          2.3      16.0     -10.0      31.0       0.616667  \n",
       "1         -1.4      12.0      -8.9      31.0       0.671429  \n",
       "2         -3.0      11.0      -8.5      31.0       0.625000  \n",
       "3         -0.5      13.0      -8.2      31.0       0.544444  \n",
       "4          0.5      13.0      -9.4      31.0       0.540000  "
      ]
     },
     "execution_count": 4,
     "metadata": {},
     "output_type": "execute_result"
    }
   ],
   "source": [
    "ngames_udf = udf(lambda x: sum(map(float, x.split('-'))), FloatType())\n",
    "\n",
    "dvoa_features = dvoa.withColumn(\n",
    "    'ngames', ngames_udf('w_l')\n",
    ").withColumn(\n",
    "    'estim_winrate', col('estim_wins') / col('ngames')\n",
    ").drop(\n",
    "    'w_l', 'estim_wins', 'ngames'\n",
    ")\n",
    "\n",
    "dvoa_features.limit(5).toPandas()"
   ]
  },
  {
   "cell_type": "markdown",
   "metadata": {},
   "source": [
    "### Use raw rankings and DVOA for now\n",
    "* change to H/V"
   ]
  },
  {
   "cell_type": "code",
   "execution_count": 5,
   "metadata": {
    "ExecuteTime": {
     "end_time": "2019-02-28T23:42:32.957482Z",
     "start_time": "2019-02-28T23:42:32.825767Z"
    }
   },
   "outputs": [],
   "source": [
    "base = set(['team_id','season','week_id'])\n",
    "dvoa_home = reduce(\n",
    "    lambda df, c: df.withColumnRenamed(c, 'h__{}'.format(c)),\n",
    "    set(dvoa_features.columns) - base,\n",
    "    dvoa_features\n",
    ")\n",
    "dvoa_visitor = reduce(\n",
    "    lambda df, c: df.withColumnRenamed(c, 'v__{}'.format(c)),\n",
    "    set(dvoa_features.columns) - base,\n",
    "    dvoa_features\n",
    ")\n",
    "\n",
    "features_list += list((set(dvoa_home.columns)\n",
    "                      | set(dvoa_visitor.columns))\n",
    "                      - base)\n",
    "\n",
    "dvoa_home = dvoa_home.withColumnRenamed('team_id','h_team_id')\n",
    "dvoa_visitor = dvoa_visitor.withColumnRenamed('team_id','v_team_id')"
   ]
  },
  {
   "cell_type": "code",
   "execution_count": 6,
   "metadata": {
    "ExecuteTime": {
     "end_time": "2019-02-28T23:42:34.224379Z",
     "start_time": "2019-02-28T23:42:32.963206Z"
    }
   },
   "outputs": [],
   "source": [
    "rankings_features = game.join(\n",
    "    dvoa_home, on=['season','week_id','h_team_id']\n",
    ").join(\n",
    "    dvoa_visitor, on=['season','week_id','v_team_id']\n",
    ")\n",
    "\n",
    "assert rankings_features.count() == game.count()"
   ]
  },
  {
   "cell_type": "markdown",
   "metadata": {},
   "source": [
    "### Fill NULLs\n",
    "* fill in with the mean value\n",
    "* __TODO__: come up with something better/more appropriate"
   ]
  },
  {
   "cell_type": "code",
   "execution_count": 7,
   "metadata": {
    "ExecuteTime": {
     "end_time": "2019-02-28T23:42:40.966205Z",
     "start_time": "2019-02-28T23:42:34.229995Z"
    },
    "scrolled": false
   },
   "outputs": [],
   "source": [
    "for f in features_list:\n",
    "    mean_value = rankings_features.fillna(-99999, f)\\\n",
    "                    .filter(col(f) != -99999)\\\n",
    "                    .select(F.mean(f)).toPandas()\\\n",
    "                    .iloc[0, 0]   \n",
    "    rankings_features = rankings_features.fillna(mean_value, f)"
   ]
  },
  {
   "cell_type": "markdown",
   "metadata": {},
   "source": [
    "### Write Table"
   ]
  },
  {
   "cell_type": "code",
   "execution_count": 8,
   "metadata": {
    "ExecuteTime": {
     "end_time": "2019-02-28T23:42:40.975847Z",
     "start_time": "2019-02-28T23:42:40.970794Z"
    }
   },
   "outputs": [
    {
     "name": "stdout",
     "output_type": "stream",
     "text": [
      "* __h__dave_or_wtddvoa__\n",
      "* __h__def_rank__\n",
      "* __h__defensedvoa__\n",
      "* __h__estim_winrate__\n",
      "* __h__off_rank__\n",
      "* __h__offensedvoa__\n",
      "* __h__s_t_dvoa__\n",
      "* __h__s_t_rank__\n",
      "* __h__totaldvoa__\n",
      "* __v__dave_or_wtddvoa__\n",
      "* __v__def_rank__\n",
      "* __v__defensedvoa__\n",
      "* __v__estim_winrate__\n",
      "* __v__off_rank__\n",
      "* __v__offensedvoa__\n",
      "* __v__s_t_dvoa__\n",
      "* __v__s_t_rank__\n",
      "* __v__totaldvoa__\n"
     ]
    }
   ],
   "source": [
    "print '* __' + '__\\n* __'.join(sorted(features_list)) + '__'"
   ]
  },
  {
   "cell_type": "code",
   "execution_count": 9,
   "metadata": {
    "ExecuteTime": {
     "end_time": "2019-02-28T23:42:42.624806Z",
     "start_time": "2019-02-28T23:42:40.981625Z"
    }
   },
   "outputs": [],
   "source": [
    "rankings_features.select(*([key] + features_list))\\\n",
    "              .write.mode('overwrite').saveAsTable(out_tbl)"
   ]
  }
 ],
 "metadata": {
  "kernelspec": {
   "display_name": "Python 2",
   "language": "python",
   "name": "python2"
  },
  "language_info": {
   "codemirror_mode": {
    "name": "ipython",
    "version": 2
   },
   "file_extension": ".py",
   "mimetype": "text/x-python",
   "name": "python",
   "nbconvert_exporter": "python",
   "pygments_lexer": "ipython2",
   "version": "2.7.15"
  },
  "toc": {
   "base_numbering": 1,
   "nav_menu": {},
   "number_sections": true,
   "sideBar": true,
   "skip_h1_title": false,
   "title_cell": "Table of Contents",
   "title_sidebar": "Contents",
   "toc_cell": false,
   "toc_position": {},
   "toc_section_display": true,
   "toc_window_display": false
  }
 },
 "nbformat": 4,
 "nbformat_minor": 2
}
