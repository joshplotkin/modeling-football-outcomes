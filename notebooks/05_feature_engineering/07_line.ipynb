{
 "cells": [
  {
   "cell_type": "code",
   "execution_count": 1,
   "metadata": {
    "ExecuteTime": {
     "end_time": "2019-01-27T07:01:39.284173Z",
     "start_time": "2019-01-27T07:01:29.345359Z"
    }
   },
   "outputs": [
    {
     "data": {
      "text/html": [
       "<style>.container {width:90% !important;}</style>"
      ],
      "text/plain": [
       "<IPython.core.display.HTML object>"
      ]
     },
     "metadata": {},
     "output_type": "display_data"
    }
   ],
   "source": [
    "%run ../config/initialize.ipynb"
   ]
  },
  {
   "cell_type": "markdown",
   "metadata": {},
   "source": [
    "## Line (Spread) Features\n",
    "* key: (game_id)\n",
    "* table name: features.line\n",
    "* __h_ml__\n",
    "* __v_ml__\n",
    "* __open_ou__\n",
    "* __pfr_ou__\n",
    "* __close_ou__\n",
    "* __h_open_line__\n",
    "* __h_pfr_line__\n",
    "* __h_close_line__"
   ]
  },
  {
   "cell_type": "code",
   "execution_count": 2,
   "metadata": {
    "ExecuteTime": {
     "end_time": "2019-01-27T07:01:39.298518Z",
     "start_time": "2019-01-27T07:01:39.290536Z"
    }
   },
   "outputs": [],
   "source": [
    "key = 'game_id'\n",
    "out_tbl = 'features.line'\n",
    "features_list = ['h_ml','v_ml','open_ou',\n",
    "                 'pfr_ou','close_ou']"
   ]
  },
  {
   "cell_type": "code",
   "execution_count": 3,
   "metadata": {
    "ExecuteTime": {
     "end_time": "2019-01-27T07:01:39.904193Z",
     "start_time": "2019-01-27T07:01:39.306179Z"
    }
   },
   "outputs": [],
   "source": [
    "line = spark.table('game_line')"
   ]
  },
  {
   "cell_type": "markdown",
   "metadata": {},
   "source": [
    "### convert spreads to +/-"
   ]
  },
  {
   "cell_type": "code",
   "execution_count": 4,
   "metadata": {
    "ExecuteTime": {
     "end_time": "2019-01-27T07:01:40.579930Z",
     "start_time": "2019-01-27T07:01:39.909657Z"
    }
   },
   "outputs": [],
   "source": [
    "for c in ['open','pfr','close']:\n",
    "    src_col = col('{}_fav'.format(c))\n",
    "    line_col = col('{}_spread'.format(c))\n",
    "    out_col = 'h_{}_line'.format(c)\n",
    "    line = line.withColumn(\n",
    "        out_col,\n",
    "        F.when(\n",
    "            src_col == 'H', F.lit(-1)*line_col\n",
    "        ).otherwise(line_col)\n",
    "    )\n",
    "    features_list.append(out_col)"
   ]
  },
  {
   "cell_type": "markdown",
   "metadata": {},
   "source": [
    "## Write table"
   ]
  },
  {
   "cell_type": "code",
   "execution_count": 5,
   "metadata": {
    "ExecuteTime": {
     "end_time": "2019-01-27T07:01:40.595124Z",
     "start_time": "2019-01-27T07:01:40.586016Z"
    }
   },
   "outputs": [
    {
     "name": "stdout",
     "output_type": "stream",
     "text": [
      "* __h_ml__\n",
      "* __v_ml__\n",
      "* __open_ou__\n",
      "* __pfr_ou__\n",
      "* __close_ou__\n",
      "* __h_open_line__\n",
      "* __h_pfr_line__\n",
      "* __h_close_line__\n"
     ]
    }
   ],
   "source": [
    "print '* __' + '__\\n* __'.join(features_list) + '__'"
   ]
  },
  {
   "cell_type": "code",
   "execution_count": 6,
   "metadata": {
    "ExecuteTime": {
     "end_time": "2019-01-27T07:01:44.779508Z",
     "start_time": "2019-01-27T07:01:40.602274Z"
    }
   },
   "outputs": [],
   "source": [
    "line.select(*([key] + features_list))\\\n",
    "              .write.mode('overwrite').saveAsTable(out_tbl)"
   ]
  }
 ],
 "metadata": {
  "kernelspec": {
   "display_name": "Python 2",
   "language": "python",
   "name": "python2"
  },
  "language_info": {
   "codemirror_mode": {
    "name": "ipython",
    "version": 2
   },
   "file_extension": ".py",
   "mimetype": "text/x-python",
   "name": "python",
   "nbconvert_exporter": "python",
   "pygments_lexer": "ipython2",
   "version": "2.7.15"
  },
  "toc": {
   "base_numbering": 1,
   "nav_menu": {},
   "number_sections": true,
   "sideBar": true,
   "skip_h1_title": false,
   "title_cell": "Table of Contents",
   "title_sidebar": "Contents",
   "toc_cell": false,
   "toc_position": {},
   "toc_section_display": true,
   "toc_window_display": false
  }
 },
 "nbformat": 4,
 "nbformat_minor": 2
}
