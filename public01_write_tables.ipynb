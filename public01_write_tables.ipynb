{
 "cells": [
  {
   "cell_type": "code",
   "execution_count": 62,
   "metadata": {
    "ExecuteTime": {
     "end_time": "2018-11-19T04:38:54.511708Z",
     "start_time": "2018-11-19T04:38:54.494397Z"
    }
   },
   "outputs": [
    {
     "data": {
      "text/html": [
       "<style>.container {width:90% !important;}</style>"
      ],
      "text/plain": [
       "<IPython.core.display.HTML object>"
      ]
     },
     "metadata": {},
     "output_type": "display_data"
    }
   ],
   "source": [
    "from IPython.core.interactiveshell import InteractiveShell\n",
    "from IPython.core.display import display, HTML\n",
    "InteractiveShell.ast_node_interactivity = \"all\"\n",
    "\n",
    "display(HTML('<style>.container {width:90% !important;}</style>'))\n",
    "\n",
    "from datetime import datetime, date, timedelta\n",
    "import json\n",
    "from matplotlib import pyplot as plt\n",
    "import pandas as pd\n",
    "\n",
    "plt.style.use('fivethirtyeight')\n",
    "%matplotlib inline"
   ]
  },
  {
   "cell_type": "code",
   "execution_count": 63,
   "metadata": {
    "ExecuteTime": {
     "end_time": "2018-11-19T04:38:54.697913Z",
     "start_time": "2018-11-19T04:38:54.691386Z"
    }
   },
   "outputs": [],
   "source": [
    "import pyspark.sql.functions as F\n",
    "from pyspark.sql.functions import col, udf\n",
    "from pyspark.sql.types import *"
   ]
  },
  {
   "cell_type": "code",
   "execution_count": 64,
   "metadata": {
    "ExecuteTime": {
     "end_time": "2018-11-19T04:38:54.832115Z",
     "start_time": "2018-11-19T04:38:54.826062Z"
    }
   },
   "outputs": [],
   "source": [
    "os.chdir('../football_data')"
   ]
  },
  {
   "cell_type": "code",
   "execution_count": 65,
   "metadata": {
    "ExecuteTime": {
     "end_time": "2018-11-19T04:38:55.047711Z",
     "start_time": "2018-11-19T04:38:54.996103Z"
    }
   },
   "outputs": [],
   "source": [
    "lines_df = pd.read_csv('all_lines.csv', index_col='Unnamed: 0')\n",
    "games_df = pd.read_csv('game_metadata.csv')"
   ]
  },
  {
   "cell_type": "code",
   "execution_count": 66,
   "metadata": {
    "ExecuteTime": {
     "end_time": "2018-11-19T04:38:55.150557Z",
     "start_time": "2018-11-19T04:38:55.134950Z"
    }
   },
   "outputs": [
    {
     "data": {
      "text/plain": [
       "(2937, 26)"
      ]
     },
     "execution_count": 66,
     "metadata": {},
     "output_type": "execute_result"
    },
    {
     "data": {
      "text/plain": [
       "(2937, 23)"
      ]
     },
     "execution_count": 66,
     "metadata": {},
     "output_type": "execute_result"
    }
   ],
   "source": [
    "lines_df.shape\n",
    "games_df.shape"
   ]
  },
  {
   "cell_type": "markdown",
   "metadata": {},
   "source": [
    "### Standardize Fields/Values Across Data Sources"
   ]
  },
  {
   "cell_type": "markdown",
   "metadata": {},
   "source": [
    "#### standardize dates"
   ]
  },
  {
   "cell_type": "code",
   "execution_count": 67,
   "metadata": {
    "ExecuteTime": {
     "end_time": "2018-11-19T04:38:58.049887Z",
     "start_time": "2018-11-19T04:38:55.610800Z"
    }
   },
   "outputs": [],
   "source": [
    "lines_df['Date'] = lines_df['Date'].apply(pd.to_datetime)\n",
    "\n",
    "games_df['day_of_week'] = games_df['date'].apply(pd.to_datetime).dt.dayofweek\n",
    "games_df['date'] = games_df['date'].apply(pd.to_datetime)"
   ]
  },
  {
   "cell_type": "markdown",
   "metadata": {},
   "source": [
    "#### Standardize team names for lines table"
   ]
  },
  {
   "cell_type": "code",
   "execution_count": 68,
   "metadata": {
    "ExecuteTime": {
     "end_time": "2018-11-19T04:38:58.071017Z",
     "start_time": "2018-11-19T04:38:58.054045Z"
    }
   },
   "outputs": [
    {
     "name": "stdout",
     "output_type": "stream",
     "text": [
      "Dallas --> Cowboys\n",
      "NewYork --> Giants\n",
      "NYGiants --> Giants\n",
      "Minnesota --> Vikings\n",
      "Denver --> Broncos\n",
      "NewEngland --> Patriots\n"
     ]
    }
   ],
   "source": [
    "team_map = json.load(open('team_map_for_lines.json','r'))\n",
    "for i, (k,v) in enumerate(team_map.iteritems()):\n",
    "    print '{} --> {}'.format(k, v)\n",
    "    if i == 5:\n",
    "        break\n",
    "        \n",
    "for field in ['V_Team','H_Team']:\n",
    "    lines_df[field] = lines_df[field].map(team_map)"
   ]
  },
  {
   "cell_type": "markdown",
   "metadata": {},
   "source": [
    "#### Prepare to join the tables\n",
    "* key is (date, team first alphabetically)\n",
    "* game on neutral territory can cause problems, e.g. superbowl"
   ]
  },
  {
   "cell_type": "code",
   "execution_count": 69,
   "metadata": {
    "ExecuteTime": {
     "end_time": "2018-11-19T04:38:58.152162Z",
     "start_time": "2018-11-19T04:38:58.075585Z"
    },
    "scrolled": true
   },
   "outputs": [],
   "source": [
    "def cast_dtypes(df):\n",
    "    '''spark and numpy types don't play\n",
    "    well together. cast as native python \n",
    "    types'''\n",
    "    np_to_python_dtypes = {\n",
    "        'int64': int,\n",
    "        'float64': float,\n",
    "        'object': str,\n",
    "        'datetime64[ns]': str\n",
    "    }\n",
    "\n",
    "    for field, np_dtype in df.dtypes.to_dict().iteritems():\n",
    "        df[field] = df[field].astype(np_to_python_dtypes[str(np_dtype)])\n",
    "        \n",
    "    return df\n",
    "\n",
    "\n",
    "games_df = cast_dtypes(games_df)\n",
    "lines_df = cast_dtypes(lines_df)"
   ]
  },
  {
   "cell_type": "code",
   "execution_count": 70,
   "metadata": {
    "ExecuteTime": {
     "end_time": "2018-11-19T04:38:58.394301Z",
     "start_time": "2018-11-19T04:38:58.156739Z"
    },
    "scrolled": true
   },
   "outputs": [],
   "source": [
    "def gen_game_key(x):\n",
    "    '''generates a key for each game:\n",
    "    (first alphabetical team name, date)'''\n",
    "    team_a, team_b, dt = x\n",
    "    return (sorted([team_a, team_b])[0], dt)\n",
    "\n",
    "games_key_fields = ['team0_name','team1_name','date']\n",
    "lines_key_fields = ['H_Team','V_Team', 'Date']\n",
    "\n",
    "games_df['key'] = games_df[games_key_fields].apply(gen_game_key, axis=1)\n",
    "lines_df['key'] = lines_df[lines_key_fields].apply(gen_game_key, axis=1)\n",
    "    \n",
    "games_lines_df = games_df.merge(\n",
    "        lines_df, left_on='key', right_on='key'\n",
    "    ).drop(\n",
    "        lines_key_fields, axis=1\n",
    "    )\n",
    "\n",
    "## ensure there are no join misses\n",
    "assert lines_df.shape[0] == games_df.shape[0]\n",
    "assert games_lines_df.shape[0] == games_df.shape[0]"
   ]
  },
  {
   "cell_type": "markdown",
   "metadata": {},
   "source": [
    "### Build denormalized DataFrame before breaking down into tables"
   ]
  },
  {
   "cell_type": "code",
   "execution_count": 71,
   "metadata": {
    "ExecuteTime": {
     "end_time": "2018-11-19T04:39:06.510226Z",
     "start_time": "2018-11-19T04:38:58.400068Z"
    }
   },
   "outputs": [],
   "source": [
    "## get the path for each game_info csv\n",
    "game_info_csvs = map(\n",
    "    lambda x: 'game_info/{}'.format(x), \n",
    "    os.listdir('game_info')\n",
    ")\n",
    "## read each game_info csv into pandas\n",
    "game_info_dfs = map(\n",
    "    lambda x: pd.read_csv(x, index_col='Unnamed: 0'), \n",
    "    game_info_csvs\n",
    ")\n",
    "## union all the DFs\n",
    "game_info_df = reduce(\n",
    "    lambda x,y: x.append(y).reset_index(drop=True), \n",
    "    game_info_dfs\n",
    ")"
   ]
  },
  {
   "cell_type": "code",
   "execution_count": 72,
   "metadata": {
    "ExecuteTime": {
     "end_time": "2018-11-19T04:39:11.510396Z",
     "start_time": "2018-11-19T04:39:06.516205Z"
    }
   },
   "outputs": [],
   "source": [
    "game_info_df['key_value'] = game_info_df[['info','stat']].apply(\n",
    "    lambda (k,v): {k:v}, axis=1\n",
    ")\n",
    "\n",
    "game_info_dict = {}\n",
    "for game in game_info_df['game_id'].unique():\n",
    "    curr_game_df = game_info_df[game_info_df['game_id'] == game]\n",
    "    game_info_dict[game] = {\n",
    "            d.keys()[0]:d.values()[0] \n",
    "            for d in curr_game_df['key_value'].values\n",
    "        }"
   ]
  },
  {
   "cell_type": "code",
   "execution_count": 73,
   "metadata": {
    "ExecuteTime": {
     "end_time": "2018-11-19T04:39:11.723683Z",
     "start_time": "2018-11-19T04:39:11.515381Z"
    },
    "scrolled": true
   },
   "outputs": [],
   "source": [
    "game_info_colnames = {\n",
    "    'Vegas Line': 'pfr_line',\n",
    "    'Over/Under': 'pfr_ou',\n",
    "    'Weather': 'prf_weather',\n",
    "    'Roof': 'roof',\n",
    "    'Surface': 'surface'\n",
    "}\n",
    "\n",
    "game_info = pd.DataFrame.from_dict(game_info_dict, orient='index')\\\n",
    "                .rename(columns=game_info_colnames)\\\n",
    "                .drop(['Won Toss','Won OT Toss','Super Bowl MVP'], axis=1)"
   ]
  },
  {
   "cell_type": "code",
   "execution_count": 74,
   "metadata": {
    "ExecuteTime": {
     "end_time": "2018-11-19T04:39:11.745448Z",
     "start_time": "2018-11-19T04:39:11.728772Z"
    },
    "scrolled": true
   },
   "outputs": [],
   "source": [
    "games_lines_info = games_lines_df.merge(game_info, left_on='game_id', right_index=True)"
   ]
  },
  {
   "cell_type": "markdown",
   "metadata": {},
   "source": [
    "#### assert there are no join misses"
   ]
  },
  {
   "cell_type": "code",
   "execution_count": 75,
   "metadata": {
    "ExecuteTime": {
     "end_time": "2018-11-19T04:39:11.756276Z",
     "start_time": "2018-11-19T04:39:11.750429Z"
    }
   },
   "outputs": [],
   "source": [
    "assert games_lines_df.shape[0] == game_info.shape[0]\n",
    "assert games_lines_df.shape[0] == games_lines_info.shape[0]"
   ]
  },
  {
   "cell_type": "markdown",
   "metadata": {},
   "source": [
    "### Get the week number"
   ]
  },
  {
   "cell_type": "code",
   "execution_count": 76,
   "metadata": {
    "ExecuteTime": {
     "end_time": "2018-11-19T04:39:11.927292Z",
     "start_time": "2018-11-19T04:39:11.761267Z"
    }
   },
   "outputs": [],
   "source": [
    "## day of week -- 0==Monday, 6==Sunday\n",
    "## game's date minus day of week --> week number\n",
    "## since Monday games\n",
    "\n",
    "def npdate_to_str(dt):\n",
    "    '''convert np.datetime64 to \n",
    "    YYYY-MM-DD string'''\n",
    "    return str(dt).split(' ')[0]\n",
    "\n",
    "def make_week_id(x):\n",
    "    '''given a date and day of week,\n",
    "    return the \"week id\" which is the\n",
    "    Sunday of that week. Monday (0) winds back\n",
    "    a day. otherwise move toward Sunday (6).\n",
    "    '''\n",
    "    dt_str, dow = x\n",
    "    dt = datetime.strptime(dt_str, '%Y-%m-%d')\n",
    "    if dow == 6:\n",
    "        week_id = dt\n",
    "    elif dow == 0:\n",
    "        week_id = dt - timedelta(days=1)\n",
    "    else:\n",
    "        delta = 6 - dow\n",
    "        week_id = dt + timedelta(days=delta)\n",
    "    \n",
    "    return npdate_to_str(week_id)\n",
    "    \n",
    "games_lines_df['week_id'] = games_lines_df[['date','day_of_week']]\\\n",
    "                                .apply(make_week_id, axis=1)"
   ]
  },
  {
   "cell_type": "code",
   "execution_count": 77,
   "metadata": {
    "ExecuteTime": {
     "end_time": "2018-11-19T04:39:11.954471Z",
     "start_time": "2018-11-19T04:39:11.932245Z"
    }
   },
   "outputs": [],
   "source": [
    "season_to_week = {}\n",
    "for season in games_lines_df['Season'].unique():\n",
    "    season_to_week[season] = {}\n",
    "    weeks = games_lines_df[games_lines_df['Season'] == season]['week_id'].unique()\n",
    "    for i, wk in enumerate(sorted(weeks)):\n",
    "        season_to_week[season][wk] = i"
   ]
  },
  {
   "cell_type": "code",
   "execution_count": 78,
   "metadata": {
    "ExecuteTime": {
     "end_time": "2018-11-19T04:39:12.105836Z",
     "start_time": "2018-11-19T04:39:11.959208Z"
    }
   },
   "outputs": [],
   "source": [
    "games_lines_df['week_id'] = games_lines_df[['Season','week_id']].apply(\n",
    "        lambda x: season_to_week[x[0]][x[1]], axis=1\n",
    "    )"
   ]
  },
  {
   "cell_type": "code",
   "execution_count": 79,
   "metadata": {
    "ExecuteTime": {
     "end_time": "2018-11-19T04:39:12.118250Z",
     "start_time": "2018-11-19T04:39:12.110479Z"
    }
   },
   "outputs": [],
   "source": [
    "stadiums = pd.read_csv('stadium_lat_long.csv')"
   ]
  },
  {
   "cell_type": "code",
   "execution_count": 80,
   "metadata": {
    "ExecuteTime": {
     "end_time": "2018-11-19T04:39:12.141784Z",
     "start_time": "2018-11-19T04:39:12.123462Z"
    }
   },
   "outputs": [],
   "source": [
    "before = games_lines_df.shape[0]\n",
    "games_lines_df = games_lines_df.merge(\n",
    "        stadiums, left_on='stadium', right_on='stadium'\n",
    "    )\n",
    "assert games_lines_df.shape[0] == before"
   ]
  },
  {
   "cell_type": "markdown",
   "metadata": {},
   "source": [
    "### Add in teams' divisions"
   ]
  },
  {
   "cell_type": "code",
   "execution_count": 81,
   "metadata": {
    "ExecuteTime": {
     "end_time": "2018-11-19T04:39:12.156301Z",
     "start_time": "2018-11-19T04:39:12.146905Z"
    }
   },
   "outputs": [],
   "source": [
    "divisions_df = pd.read_csv('team_divisions.csv', index_col='idx')"
   ]
  },
  {
   "cell_type": "code",
   "execution_count": 82,
   "metadata": {
    "ExecuteTime": {
     "end_time": "2018-11-19T04:39:12.200301Z",
     "start_time": "2018-11-19T04:39:12.161778Z"
    }
   },
   "outputs": [],
   "source": [
    "before = games_lines_df.shape[0]\n",
    "for nteam in [0,1]:\n",
    "    games_lines_df = games_lines_df.merge(\n",
    "        divisions_df.rename(\n",
    "            columns={'division': 'team{}_division'.format(nteam)}\n",
    "        ),\n",
    "        left_on=['Season','team{}_fullname'.format(nteam)],\n",
    "        right_on=['season','team']\n",
    "    ).drop(['season','team'], axis=1)\n",
    "    assert games_lines_df.shape[0] == before"
   ]
  },
  {
   "cell_type": "code",
   "execution_count": 83,
   "metadata": {
    "ExecuteTime": {
     "end_time": "2018-11-19T04:39:12.228786Z",
     "start_time": "2018-11-19T04:39:12.205333Z"
    }
   },
   "outputs": [
    {
     "data": {
      "text/html": [
       "<div>\n",
       "<style scoped>\n",
       "    .dataframe tbody tr th:only-of-type {\n",
       "        vertical-align: middle;\n",
       "    }\n",
       "\n",
       "    .dataframe tbody tr th {\n",
       "        vertical-align: top;\n",
       "    }\n",
       "\n",
       "    .dataframe thead th {\n",
       "        text-align: right;\n",
       "    }\n",
       "</style>\n",
       "<table border=\"1\" class=\"dataframe\">\n",
       "  <thead>\n",
       "    <tr style=\"text-align: right;\">\n",
       "      <th></th>\n",
       "      <th>team0_fullname</th>\n",
       "      <th>team0_division</th>\n",
       "      <th>team1_fullname</th>\n",
       "      <th>team1_division</th>\n",
       "    </tr>\n",
       "  </thead>\n",
       "  <tbody>\n",
       "    <tr>\n",
       "      <th>0</th>\n",
       "      <td>New England Patriots</td>\n",
       "      <td>AFC East</td>\n",
       "      <td>Philadelphia Eagles</td>\n",
       "      <td>NFC East</td>\n",
       "    </tr>\n",
       "    <tr>\n",
       "      <th>1</th>\n",
       "      <td>Los Angeles Rams</td>\n",
       "      <td>NFC West</td>\n",
       "      <td>Philadelphia Eagles</td>\n",
       "      <td>NFC East</td>\n",
       "    </tr>\n",
       "    <tr>\n",
       "      <th>2</th>\n",
       "      <td>Kansas City Chiefs</td>\n",
       "      <td>AFC West</td>\n",
       "      <td>Philadelphia Eagles</td>\n",
       "      <td>NFC East</td>\n",
       "    </tr>\n",
       "    <tr>\n",
       "      <th>3</th>\n",
       "      <td>Seattle Seahawks</td>\n",
       "      <td>NFC West</td>\n",
       "      <td>Philadelphia Eagles</td>\n",
       "      <td>NFC East</td>\n",
       "    </tr>\n",
       "    <tr>\n",
       "      <th>4</th>\n",
       "      <td>Los Angeles Chargers</td>\n",
       "      <td>AFC West</td>\n",
       "      <td>Philadelphia Eagles</td>\n",
       "      <td>NFC East</td>\n",
       "    </tr>\n",
       "  </tbody>\n",
       "</table>\n",
       "</div>"
      ],
      "text/plain": [
       "         team0_fullname team0_division       team1_fullname team1_division\n",
       "0  New England Patriots       AFC East  Philadelphia Eagles       NFC East\n",
       "1      Los Angeles Rams       NFC West  Philadelphia Eagles       NFC East\n",
       "2    Kansas City Chiefs       AFC West  Philadelphia Eagles       NFC East\n",
       "3      Seattle Seahawks       NFC West  Philadelphia Eagles       NFC East\n",
       "4  Los Angeles Chargers       AFC West  Philadelphia Eagles       NFC East"
      ]
     },
     "execution_count": 83,
     "metadata": {},
     "output_type": "execute_result"
    }
   ],
   "source": [
    "games_lines_df[['team0_fullname','team0_division','team1_fullname','team1_division']].head()"
   ]
  },
  {
   "cell_type": "markdown",
   "metadata": {},
   "source": [
    "### Normalize DataFrame into 5 tables + add DVOA table:\n",
    "* team-season\n",
    "* game\n",
    "* coach\n",
    "* stadium\n",
    "* line\n",
    "* DVOA\n",
    "* eventually a 7th for player"
   ]
  },
  {
   "cell_type": "code",
   "execution_count": 84,
   "metadata": {
    "ExecuteTime": {
     "end_time": "2018-11-19T04:39:47.965633Z",
     "start_time": "2018-11-19T04:39:47.957773Z"
    }
   },
   "outputs": [],
   "source": [
    "games_lines_df = games_lines_df.rename(columns={'Season':'season'})"
   ]
  },
  {
   "cell_type": "code",
   "execution_count": 85,
   "metadata": {
    "ExecuteTime": {
     "end_time": "2018-11-19T04:39:51.485639Z",
     "start_time": "2018-11-19T04:39:51.472259Z"
    }
   },
   "outputs": [],
   "source": [
    "## Table: team_season\n",
    "team_season_fields = [\n",
    "    'season',\n",
    "    'team0_link','team0_name','team0_fullname','team0_city','team0_division',\n",
    "    'team1_link','team1_name','team1_fullname','team1_city','team1_division'\n",
    "]\n",
    "## Table: coach\n",
    "coach_fields = [\n",
    "    'team0_coach_raw','team0_coach_name','team0_coach_id',\n",
    "    'team1_coach_raw','team1_coach_name','team1_coach_id'\n",
    "]\n",
    "## Table: game\n",
    "game_fields = [\n",
    "    'team0_link','team0_score','team0_coach_id',\n",
    "    'team1_link','team1_score','team1_coach_id',\n",
    "    'date','time','day_of_week','season','week_id',\n",
    "    'stadium','attendance','duration','game_id',\n",
    "    'H_Q1','H_Q2','H_Q3','H_Q4','V_Q1','V_Q2','V_Q3','V_Q4'\n",
    "]\n",
    "## Table: stadium\n",
    "stadium_fields = [\n",
    "    'stadium','stadium_link','lat','long'\n",
    "]\n",
    "## Table: line\n",
    "line_fields = [\n",
    "   'game_id','H_Final','V_Final','H_ML','V_ML','ML_Fav','Open_Fav','Open_OU',\n",
    "   'Open_Spread','Close_Fav','Close_OU','Close_Spread','2H_Fav','2H_OU',\n",
    "   '2H_Spread'\n",
    "]"
   ]
  },
  {
   "cell_type": "code",
   "execution_count": 86,
   "metadata": {
    "ExecuteTime": {
     "end_time": "2018-11-19T04:39:53.248848Z",
     "start_time": "2018-11-19T04:39:53.233969Z"
    }
   },
   "outputs": [],
   "source": [
    "## union team0 and team1 fields and get distinct values\n",
    "def combine_team0_team1(full_df, all_fields, non_team_fields):\n",
    "    '''given a DataFrame with 2 teams:\n",
    "    * split into 2 DFs by team0 and team1\n",
    "    * rename and align schemas\n",
    "    * union\n",
    "    * drop duplicates\n",
    "    * return a DataFrame to be converted into Hive table'''\n",
    "\n",
    "    for team_i in [0,1]:\n",
    "        fields = [\n",
    "            a for a in all_fields\n",
    "            if 'team{}'.format(team_i) in a\n",
    "        ]\n",
    "        curr_table = full_df[non_team_fields + fields]\n",
    "        ## team out team0 and team1 to align schemas\n",
    "        field_map = dict(map(\n",
    "                lambda x: (x, x.replace('team{}_'.format(team_i), '')),\n",
    "                fields\n",
    "            ))\n",
    "        curr_table = curr_table.rename(columns=field_map)\n",
    "\n",
    "        if team_i == 0:\n",
    "            curr_df = curr_table\n",
    "        else:\n",
    "            curr_df = curr_df.append(\n",
    "                curr_table[curr_df.columns]\n",
    "            ).reset_index(drop=True)\n",
    "\n",
    "    return curr_df.drop_duplicates()"
   ]
  },
  {
   "cell_type": "markdown",
   "metadata": {},
   "source": [
    "#### game\n",
    "* __fact table__\n",
    "* primary key is game_id\n",
    "* TODO ASAP: need to sort out home/away\n",
    " * goes the game_id contain the home team?\n",
    " * does this hold true for games in neutral territory?"
   ]
  },
  {
   "cell_type": "code",
   "execution_count": 92,
   "metadata": {
    "ExecuteTime": {
     "end_time": "2018-11-19T04:41:31.488755Z",
     "start_time": "2018-11-19T04:41:31.430377Z"
    },
    "scrolled": true
   },
   "outputs": [
    {
     "data": {
      "text/html": [
       "<div>\n",
       "<style scoped>\n",
       "    .dataframe tbody tr th:only-of-type {\n",
       "        vertical-align: middle;\n",
       "    }\n",
       "\n",
       "    .dataframe tbody tr th {\n",
       "        vertical-align: top;\n",
       "    }\n",
       "\n",
       "    .dataframe thead th {\n",
       "        text-align: right;\n",
       "    }\n",
       "</style>\n",
       "<table border=\"1\" class=\"dataframe\">\n",
       "  <thead>\n",
       "    <tr style=\"text-align: right;\">\n",
       "      <th></th>\n",
       "      <th>0</th>\n",
       "      <th>1</th>\n",
       "      <th>2</th>\n",
       "      <th>3</th>\n",
       "      <th>4</th>\n",
       "    </tr>\n",
       "  </thead>\n",
       "  <tbody>\n",
       "    <tr>\n",
       "      <th>team0_link</th>\n",
       "      <td>/teams/nwe/2017.htm</td>\n",
       "      <td>/teams/ram/2017.htm</td>\n",
       "      <td>/teams/kan/2017.htm</td>\n",
       "      <td>/teams/sea/2017.htm</td>\n",
       "      <td>/teams/sdg/2017.htm</td>\n",
       "    </tr>\n",
       "    <tr>\n",
       "      <th>team0_score</th>\n",
       "      <td>33</td>\n",
       "      <td>35</td>\n",
       "      <td>27</td>\n",
       "      <td>24</td>\n",
       "      <td>24</td>\n",
       "    </tr>\n",
       "    <tr>\n",
       "      <th>team0_coach_id</th>\n",
       "      <td>/coaches/BeliBi0.htm</td>\n",
       "      <td>/coaches/McVaSe0.htm</td>\n",
       "      <td>/coaches/ReidAn0.htm</td>\n",
       "      <td>/coaches/CarrPe0.htm</td>\n",
       "      <td>/coaches/LynnAn0.htm</td>\n",
       "    </tr>\n",
       "    <tr>\n",
       "      <th>team1_link</th>\n",
       "      <td>/teams/phi/2017.htm</td>\n",
       "      <td>/teams/phi/2017.htm</td>\n",
       "      <td>/teams/phi/2017.htm</td>\n",
       "      <td>/teams/phi/2017.htm</td>\n",
       "      <td>/teams/phi/2017.htm</td>\n",
       "    </tr>\n",
       "    <tr>\n",
       "      <th>team1_score</th>\n",
       "      <td>41</td>\n",
       "      <td>43</td>\n",
       "      <td>20</td>\n",
       "      <td>10</td>\n",
       "      <td>26</td>\n",
       "    </tr>\n",
       "    <tr>\n",
       "      <th>team1_coach_id</th>\n",
       "      <td>/coaches/PedeDo0.htm</td>\n",
       "      <td>/coaches/PedeDo0.htm</td>\n",
       "      <td>/coaches/PedeDo0.htm</td>\n",
       "      <td>/coaches/PedeDo0.htm</td>\n",
       "      <td>/coaches/PedeDo0.htm</td>\n",
       "    </tr>\n",
       "    <tr>\n",
       "      <th>date</th>\n",
       "      <td>2018-02-04</td>\n",
       "      <td>2017-12-10</td>\n",
       "      <td>2017-09-17</td>\n",
       "      <td>2017-12-03</td>\n",
       "      <td>2017-10-01</td>\n",
       "    </tr>\n",
       "    <tr>\n",
       "      <th>time</th>\n",
       "      <td>6:30pm</td>\n",
       "      <td>4:25pm</td>\n",
       "      <td>1:00pm</td>\n",
       "      <td>8:30pm</td>\n",
       "      <td>4:05pm</td>\n",
       "    </tr>\n",
       "    <tr>\n",
       "      <th>day_of_week</th>\n",
       "      <td>6</td>\n",
       "      <td>6</td>\n",
       "      <td>6</td>\n",
       "      <td>6</td>\n",
       "      <td>6</td>\n",
       "    </tr>\n",
       "    <tr>\n",
       "      <th>season</th>\n",
       "      <td>2017</td>\n",
       "      <td>2017</td>\n",
       "      <td>2017</td>\n",
       "      <td>2017</td>\n",
       "      <td>2017</td>\n",
       "    </tr>\n",
       "    <tr>\n",
       "      <th>week_id</th>\n",
       "      <td>20</td>\n",
       "      <td>13</td>\n",
       "      <td>1</td>\n",
       "      <td>12</td>\n",
       "      <td>3</td>\n",
       "    </tr>\n",
       "    <tr>\n",
       "      <th>stadium</th>\n",
       "      <td>U.S. Bank Stadium</td>\n",
       "      <td>Los Angeles Memorial Coliseum</td>\n",
       "      <td>Arrowhead Stadium</td>\n",
       "      <td>CenturyLink Field</td>\n",
       "      <td>StubHub Center</td>\n",
       "    </tr>\n",
       "    <tr>\n",
       "      <th>attendance</th>\n",
       "      <td>67612</td>\n",
       "      <td>67752</td>\n",
       "      <td>74971</td>\n",
       "      <td>69075</td>\n",
       "      <td>25374</td>\n",
       "    </tr>\n",
       "    <tr>\n",
       "      <th>duration</th>\n",
       "      <td>3:46</td>\n",
       "      <td>3:33</td>\n",
       "      <td>3:07</td>\n",
       "      <td>3:03</td>\n",
       "      <td>2:46</td>\n",
       "    </tr>\n",
       "    <tr>\n",
       "      <th>game_id</th>\n",
       "      <td>201802040nwe</td>\n",
       "      <td>201712100ram</td>\n",
       "      <td>201709170kan</td>\n",
       "      <td>201712030sea</td>\n",
       "      <td>201710010sdg</td>\n",
       "    </tr>\n",
       "    <tr>\n",
       "      <th>H_Q1</th>\n",
       "      <td>3</td>\n",
       "      <td>7</td>\n",
       "      <td>3</td>\n",
       "      <td>10</td>\n",
       "      <td>0</td>\n",
       "    </tr>\n",
       "    <tr>\n",
       "      <th>H_Q2</th>\n",
       "      <td>9</td>\n",
       "      <td>7</td>\n",
       "      <td>3</td>\n",
       "      <td>0</td>\n",
       "      <td>10</td>\n",
       "    </tr>\n",
       "    <tr>\n",
       "      <th>H_Q3</th>\n",
       "      <td>14</td>\n",
       "      <td>14</td>\n",
       "      <td>7</td>\n",
       "      <td>7</td>\n",
       "      <td>0</td>\n",
       "    </tr>\n",
       "    <tr>\n",
       "      <th>H_Q4</th>\n",
       "      <td>7</td>\n",
       "      <td>7</td>\n",
       "      <td>14</td>\n",
       "      <td>7</td>\n",
       "      <td>14</td>\n",
       "    </tr>\n",
       "    <tr>\n",
       "      <th>V_Q1</th>\n",
       "      <td>9</td>\n",
       "      <td>14</td>\n",
       "      <td>3</td>\n",
       "      <td>0</td>\n",
       "      <td>10</td>\n",
       "    </tr>\n",
       "    <tr>\n",
       "      <th>V_Q2</th>\n",
       "      <td>13</td>\n",
       "      <td>10</td>\n",
       "      <td>0</td>\n",
       "      <td>3</td>\n",
       "      <td>6</td>\n",
       "    </tr>\n",
       "    <tr>\n",
       "      <th>V_Q3</th>\n",
       "      <td>7</td>\n",
       "      <td>7</td>\n",
       "      <td>7</td>\n",
       "      <td>0</td>\n",
       "      <td>3</td>\n",
       "    </tr>\n",
       "    <tr>\n",
       "      <th>V_Q4</th>\n",
       "      <td>12</td>\n",
       "      <td>12</td>\n",
       "      <td>10</td>\n",
       "      <td>7</td>\n",
       "      <td>7</td>\n",
       "    </tr>\n",
       "  </tbody>\n",
       "</table>\n",
       "</div>"
      ],
      "text/plain": [
       "                                   0                              1  \\\n",
       "team0_link       /teams/nwe/2017.htm            /teams/ram/2017.htm   \n",
       "team0_score                       33                             35   \n",
       "team0_coach_id  /coaches/BeliBi0.htm           /coaches/McVaSe0.htm   \n",
       "team1_link       /teams/phi/2017.htm            /teams/phi/2017.htm   \n",
       "team1_score                       41                             43   \n",
       "team1_coach_id  /coaches/PedeDo0.htm           /coaches/PedeDo0.htm   \n",
       "date                      2018-02-04                     2017-12-10   \n",
       "time                          6:30pm                         4:25pm   \n",
       "day_of_week                        6                              6   \n",
       "season                          2017                           2017   \n",
       "week_id                           20                             13   \n",
       "stadium            U.S. Bank Stadium  Los Angeles Memorial Coliseum   \n",
       "attendance                     67612                          67752   \n",
       "duration                        3:46                           3:33   \n",
       "game_id                 201802040nwe                   201712100ram   \n",
       "H_Q1                               3                              7   \n",
       "H_Q2                               9                              7   \n",
       "H_Q3                              14                             14   \n",
       "H_Q4                               7                              7   \n",
       "V_Q1                               9                             14   \n",
       "V_Q2                              13                             10   \n",
       "V_Q3                               7                              7   \n",
       "V_Q4                              12                             12   \n",
       "\n",
       "                                   2                     3  \\\n",
       "team0_link       /teams/kan/2017.htm   /teams/sea/2017.htm   \n",
       "team0_score                       27                    24   \n",
       "team0_coach_id  /coaches/ReidAn0.htm  /coaches/CarrPe0.htm   \n",
       "team1_link       /teams/phi/2017.htm   /teams/phi/2017.htm   \n",
       "team1_score                       20                    10   \n",
       "team1_coach_id  /coaches/PedeDo0.htm  /coaches/PedeDo0.htm   \n",
       "date                      2017-09-17            2017-12-03   \n",
       "time                          1:00pm                8:30pm   \n",
       "day_of_week                        6                     6   \n",
       "season                          2017                  2017   \n",
       "week_id                            1                    12   \n",
       "stadium            Arrowhead Stadium     CenturyLink Field   \n",
       "attendance                     74971                 69075   \n",
       "duration                        3:07                  3:03   \n",
       "game_id                 201709170kan          201712030sea   \n",
       "H_Q1                               3                    10   \n",
       "H_Q2                               3                     0   \n",
       "H_Q3                               7                     7   \n",
       "H_Q4                              14                     7   \n",
       "V_Q1                               3                     0   \n",
       "V_Q2                               0                     3   \n",
       "V_Q3                               7                     0   \n",
       "V_Q4                              10                     7   \n",
       "\n",
       "                                   4  \n",
       "team0_link       /teams/sdg/2017.htm  \n",
       "team0_score                       24  \n",
       "team0_coach_id  /coaches/LynnAn0.htm  \n",
       "team1_link       /teams/phi/2017.htm  \n",
       "team1_score                       26  \n",
       "team1_coach_id  /coaches/PedeDo0.htm  \n",
       "date                      2017-10-01  \n",
       "time                          4:05pm  \n",
       "day_of_week                        6  \n",
       "season                          2017  \n",
       "week_id                            3  \n",
       "stadium               StubHub Center  \n",
       "attendance                     25374  \n",
       "duration                        2:46  \n",
       "game_id                 201710010sdg  \n",
       "H_Q1                               0  \n",
       "H_Q2                              10  \n",
       "H_Q3                               0  \n",
       "H_Q4                              14  \n",
       "V_Q1                              10  \n",
       "V_Q2                               6  \n",
       "V_Q3                               3  \n",
       "V_Q4                               7  "
      ]
     },
     "execution_count": 92,
     "metadata": {},
     "output_type": "execute_result"
    }
   ],
   "source": [
    "game_df = games_lines_df[game_fields].drop_duplicates()\n",
    "game_sdf = cast_dtypes(game_df)\n",
    "## assert coach ID is unique\n",
    "assert game_df['game_id'].value_counts().max() == 1\n",
    "game_df.head().T"
   ]
  },
  {
   "cell_type": "markdown",
   "metadata": {},
   "source": [
    "#### team_season\n",
    "* primary key is (season, link)\n",
    "* joins with game"
   ]
  },
  {
   "cell_type": "code",
   "execution_count": 93,
   "metadata": {
    "ExecuteTime": {
     "end_time": "2018-11-19T04:41:33.431978Z",
     "start_time": "2018-11-19T04:41:33.343925Z"
    }
   },
   "outputs": [
    {
     "data": {
      "text/html": [
       "<div>\n",
       "<style scoped>\n",
       "    .dataframe tbody tr th:only-of-type {\n",
       "        vertical-align: middle;\n",
       "    }\n",
       "\n",
       "    .dataframe tbody tr th {\n",
       "        vertical-align: top;\n",
       "    }\n",
       "\n",
       "    .dataframe thead th {\n",
       "        text-align: right;\n",
       "    }\n",
       "</style>\n",
       "<table border=\"1\" class=\"dataframe\">\n",
       "  <thead>\n",
       "    <tr style=\"text-align: right;\">\n",
       "      <th></th>\n",
       "      <th>season</th>\n",
       "      <th>link</th>\n",
       "      <th>name</th>\n",
       "      <th>fullname</th>\n",
       "      <th>city</th>\n",
       "      <th>division</th>\n",
       "    </tr>\n",
       "  </thead>\n",
       "  <tbody>\n",
       "    <tr>\n",
       "      <th>0</th>\n",
       "      <td>2017</td>\n",
       "      <td>/teams/nwe/2017.htm</td>\n",
       "      <td>Patriots</td>\n",
       "      <td>New England Patriots</td>\n",
       "      <td>New England</td>\n",
       "      <td>AFC East</td>\n",
       "    </tr>\n",
       "    <tr>\n",
       "      <th>1</th>\n",
       "      <td>2017</td>\n",
       "      <td>/teams/ram/2017.htm</td>\n",
       "      <td>Rams</td>\n",
       "      <td>Los Angeles Rams</td>\n",
       "      <td>Los Angeles</td>\n",
       "      <td>NFC West</td>\n",
       "    </tr>\n",
       "    <tr>\n",
       "      <th>2</th>\n",
       "      <td>2017</td>\n",
       "      <td>/teams/kan/2017.htm</td>\n",
       "      <td>Chiefs</td>\n",
       "      <td>Kansas City Chiefs</td>\n",
       "      <td>Kansas City</td>\n",
       "      <td>AFC West</td>\n",
       "    </tr>\n",
       "    <tr>\n",
       "      <th>3</th>\n",
       "      <td>2017</td>\n",
       "      <td>/teams/sea/2017.htm</td>\n",
       "      <td>Seahawks</td>\n",
       "      <td>Seattle Seahawks</td>\n",
       "      <td>Seattle</td>\n",
       "      <td>NFC West</td>\n",
       "    </tr>\n",
       "    <tr>\n",
       "      <th>4</th>\n",
       "      <td>2017</td>\n",
       "      <td>/teams/sdg/2017.htm</td>\n",
       "      <td>Chargers</td>\n",
       "      <td>Los Angeles Chargers</td>\n",
       "      <td>Los Angeles</td>\n",
       "      <td>AFC West</td>\n",
       "    </tr>\n",
       "  </tbody>\n",
       "</table>\n",
       "</div>"
      ],
      "text/plain": [
       "   season                 link      name              fullname         city  \\\n",
       "0    2017  /teams/nwe/2017.htm  Patriots  New England Patriots  New England   \n",
       "1    2017  /teams/ram/2017.htm      Rams      Los Angeles Rams  Los Angeles   \n",
       "2    2017  /teams/kan/2017.htm    Chiefs    Kansas City Chiefs  Kansas City   \n",
       "3    2017  /teams/sea/2017.htm  Seahawks      Seattle Seahawks      Seattle   \n",
       "4    2017  /teams/sdg/2017.htm  Chargers  Los Angeles Chargers  Los Angeles   \n",
       "\n",
       "   division  \n",
       "0  AFC East  \n",
       "1  NFC West  \n",
       "2  AFC West  \n",
       "3  NFC West  \n",
       "4  AFC West  "
      ]
     },
     "execution_count": 93,
     "metadata": {},
     "output_type": "execute_result"
    }
   ],
   "source": [
    "team_season_df = combine_team0_team1(\n",
    "    games_lines_df.copy(), team_season_fields, ['season']\n",
    ")\n",
    "team_season_sdf = cast_dtypes(team_season_df)\n",
    "## assert that every season has the same amount of teams\n",
    "assert team_season_df['season'].value_counts().min() \\\n",
    "        == team_season_df['season'].value_counts().max()\n",
    "\n",
    "## assert key (season, link) is unique\n",
    "assert team_season_df.groupby(['season','link']).size().max() == 1\n",
    "team_season_df.head()"
   ]
  },
  {
   "cell_type": "markdown",
   "metadata": {},
   "source": [
    "#### coach\n",
    "* primary key is coach_id\n",
    "* joins with game"
   ]
  },
  {
   "cell_type": "code",
   "execution_count": 94,
   "metadata": {
    "ExecuteTime": {
     "end_time": "2018-11-19T04:41:46.399028Z",
     "start_time": "2018-11-19T04:41:46.330187Z"
    }
   },
   "outputs": [
    {
     "data": {
      "text/html": [
       "<div>\n",
       "<style scoped>\n",
       "    .dataframe tbody tr th:only-of-type {\n",
       "        vertical-align: middle;\n",
       "    }\n",
       "\n",
       "    .dataframe tbody tr th {\n",
       "        vertical-align: top;\n",
       "    }\n",
       "\n",
       "    .dataframe thead th {\n",
       "        text-align: right;\n",
       "    }\n",
       "</style>\n",
       "<table border=\"1\" class=\"dataframe\">\n",
       "  <thead>\n",
       "    <tr style=\"text-align: right;\">\n",
       "      <th></th>\n",
       "      <th>coach_raw</th>\n",
       "      <th>coach_name</th>\n",
       "      <th>coach_id</th>\n",
       "    </tr>\n",
       "  </thead>\n",
       "  <tbody>\n",
       "    <tr>\n",
       "      <th>0</th>\n",
       "      <td>&lt;a href=\"/coaches/BeliBi0.htm\"&gt;Bill Belichick&lt;/a&gt;</td>\n",
       "      <td>Bill Belichick</td>\n",
       "      <td>/coaches/BeliBi0.htm</td>\n",
       "    </tr>\n",
       "    <tr>\n",
       "      <th>1</th>\n",
       "      <td>&lt;a href=\"/coaches/McVaSe0.htm\"&gt;Sean McVay&lt;/a&gt;</td>\n",
       "      <td>Sean McVay</td>\n",
       "      <td>/coaches/McVaSe0.htm</td>\n",
       "    </tr>\n",
       "    <tr>\n",
       "      <th>2</th>\n",
       "      <td>&lt;a href=\"/coaches/ReidAn0.htm\"&gt;Andy Reid&lt;/a&gt;</td>\n",
       "      <td>Andy Reid</td>\n",
       "      <td>/coaches/ReidAn0.htm</td>\n",
       "    </tr>\n",
       "    <tr>\n",
       "      <th>3</th>\n",
       "      <td>&lt;a href=\"/coaches/CarrPe0.htm\"&gt;Pete Carroll&lt;/a&gt;</td>\n",
       "      <td>Pete Carroll</td>\n",
       "      <td>/coaches/CarrPe0.htm</td>\n",
       "    </tr>\n",
       "    <tr>\n",
       "      <th>4</th>\n",
       "      <td>&lt;a href=\"/coaches/LynnAn0.htm\"&gt;Anthony Lynn&lt;/a&gt;</td>\n",
       "      <td>Anthony Lynn</td>\n",
       "      <td>/coaches/LynnAn0.htm</td>\n",
       "    </tr>\n",
       "  </tbody>\n",
       "</table>\n",
       "</div>"
      ],
      "text/plain": [
       "                                           coach_raw      coach_name  \\\n",
       "0  <a href=\"/coaches/BeliBi0.htm\">Bill Belichick</a>  Bill Belichick   \n",
       "1      <a href=\"/coaches/McVaSe0.htm\">Sean McVay</a>      Sean McVay   \n",
       "2       <a href=\"/coaches/ReidAn0.htm\">Andy Reid</a>       Andy Reid   \n",
       "3    <a href=\"/coaches/CarrPe0.htm\">Pete Carroll</a>    Pete Carroll   \n",
       "4    <a href=\"/coaches/LynnAn0.htm\">Anthony Lynn</a>    Anthony Lynn   \n",
       "\n",
       "               coach_id  \n",
       "0  /coaches/BeliBi0.htm  \n",
       "1  /coaches/McVaSe0.htm  \n",
       "2  /coaches/ReidAn0.htm  \n",
       "3  /coaches/CarrPe0.htm  \n",
       "4  /coaches/LynnAn0.htm  "
      ]
     },
     "execution_count": 94,
     "metadata": {},
     "output_type": "execute_result"
    }
   ],
   "source": [
    "coach_df = combine_team0_team1(games_lines_df.copy(), coach_fields, [])\n",
    "coach_sdf = cast_dtypes(coach_df)\n",
    "## assert coach ID is unique\n",
    "assert coach_df['coach_id'].value_counts().max() == 1\n",
    "coach_df.head()"
   ]
  },
  {
   "cell_type": "markdown",
   "metadata": {
    "ExecuteTime": {
     "end_time": "2018-11-19T03:58:10.166924Z",
     "start_time": "2018-11-19T03:58:10.157897Z"
    }
   },
   "source": [
    "#### stadiums\n",
    "* primary key is stadium name\n",
    "* joins with game"
   ]
  },
  {
   "cell_type": "code",
   "execution_count": 95,
   "metadata": {
    "ExecuteTime": {
     "end_time": "2018-11-19T04:41:53.398323Z",
     "start_time": "2018-11-19T04:41:53.321975Z"
    }
   },
   "outputs": [
    {
     "data": {
      "text/html": [
       "<div>\n",
       "<style scoped>\n",
       "    .dataframe tbody tr th:only-of-type {\n",
       "        vertical-align: middle;\n",
       "    }\n",
       "\n",
       "    .dataframe tbody tr th {\n",
       "        vertical-align: top;\n",
       "    }\n",
       "\n",
       "    .dataframe thead th {\n",
       "        text-align: right;\n",
       "    }\n",
       "</style>\n",
       "<table border=\"1\" class=\"dataframe\">\n",
       "  <thead>\n",
       "    <tr style=\"text-align: right;\">\n",
       "      <th></th>\n",
       "      <th>stadium</th>\n",
       "      <th>stadium_link</th>\n",
       "      <th>lat</th>\n",
       "      <th>long</th>\n",
       "    </tr>\n",
       "  </thead>\n",
       "  <tbody>\n",
       "    <tr>\n",
       "      <th>0</th>\n",
       "      <td>U.S. Bank Stadium</td>\n",
       "      <td>/stadiums/MIN01.htm</td>\n",
       "      <td>44.97400</td>\n",
       "      <td>-93.25800</td>\n",
       "    </tr>\n",
       "    <tr>\n",
       "      <th>1</th>\n",
       "      <td>Los Angeles Memorial Coliseum</td>\n",
       "      <td>/stadiums/LAX99.htm</td>\n",
       "      <td>34.01417</td>\n",
       "      <td>-118.28778</td>\n",
       "    </tr>\n",
       "    <tr>\n",
       "      <th>2</th>\n",
       "      <td>Arrowhead Stadium</td>\n",
       "      <td>/stadiums/KAN00.htm</td>\n",
       "      <td>39.04889</td>\n",
       "      <td>-94.48389</td>\n",
       "    </tr>\n",
       "    <tr>\n",
       "      <th>3</th>\n",
       "      <td>CenturyLink Field</td>\n",
       "      <td>/stadiums/SEA00.htm</td>\n",
       "      <td>47.59520</td>\n",
       "      <td>-122.33160</td>\n",
       "    </tr>\n",
       "    <tr>\n",
       "      <th>4</th>\n",
       "      <td>StubHub Center</td>\n",
       "      <td>/stadiums/LAX97.htm</td>\n",
       "      <td>33.86400</td>\n",
       "      <td>-118.26100</td>\n",
       "    </tr>\n",
       "  </tbody>\n",
       "</table>\n",
       "</div>"
      ],
      "text/plain": [
       "                         stadium         stadium_link       lat       long\n",
       "0              U.S. Bank Stadium  /stadiums/MIN01.htm  44.97400  -93.25800\n",
       "1  Los Angeles Memorial Coliseum  /stadiums/LAX99.htm  34.01417 -118.28778\n",
       "2              Arrowhead Stadium  /stadiums/KAN00.htm  39.04889  -94.48389\n",
       "3              CenturyLink Field  /stadiums/SEA00.htm  47.59520 -122.33160\n",
       "4                 StubHub Center  /stadiums/LAX97.htm  33.86400 -118.26100"
      ]
     },
     "execution_count": 95,
     "metadata": {},
     "output_type": "execute_result"
    }
   ],
   "source": [
    "stadium_df = games_lines_df[stadium_fields].drop_duplicates()\n",
    "stadium_sdf = cast_dtypes(stadium_df)\n",
    "## assert stadium name is unique\n",
    "assert stadium_df['stadium'].value_counts().max() == 1\n",
    "stadium_df.head()"
   ]
  },
  {
   "cell_type": "markdown",
   "metadata": {},
   "source": [
    "#### line\n",
    "* primary key is game_id\n",
    "* joins with game\n",
    "* TODO ASAP: need to go back and figure out how to get home team\n",
    "   * for most games it's easy but what about neutral territory games?"
   ]
  },
  {
   "cell_type": "code",
   "execution_count": 98,
   "metadata": {
    "ExecuteTime": {
     "end_time": "2018-11-19T04:43:31.773051Z",
     "start_time": "2018-11-19T04:43:31.730395Z"
    }
   },
   "outputs": [
    {
     "data": {
      "text/html": [
       "<div>\n",
       "<style scoped>\n",
       "    .dataframe tbody tr th:only-of-type {\n",
       "        vertical-align: middle;\n",
       "    }\n",
       "\n",
       "    .dataframe tbody tr th {\n",
       "        vertical-align: top;\n",
       "    }\n",
       "\n",
       "    .dataframe thead th {\n",
       "        text-align: right;\n",
       "    }\n",
       "</style>\n",
       "<table border=\"1\" class=\"dataframe\">\n",
       "  <thead>\n",
       "    <tr style=\"text-align: right;\">\n",
       "      <th></th>\n",
       "      <th>0</th>\n",
       "      <th>1</th>\n",
       "      <th>2</th>\n",
       "      <th>3</th>\n",
       "      <th>4</th>\n",
       "    </tr>\n",
       "  </thead>\n",
       "  <tbody>\n",
       "    <tr>\n",
       "      <th>game_id</th>\n",
       "      <td>201802040nwe</td>\n",
       "      <td>201712100ram</td>\n",
       "      <td>201709170kan</td>\n",
       "      <td>201712030sea</td>\n",
       "      <td>201710010sdg</td>\n",
       "    </tr>\n",
       "    <tr>\n",
       "      <th>H_Final</th>\n",
       "      <td>33</td>\n",
       "      <td>35</td>\n",
       "      <td>27</td>\n",
       "      <td>24</td>\n",
       "      <td>24</td>\n",
       "    </tr>\n",
       "    <tr>\n",
       "      <th>V_Final</th>\n",
       "      <td>41</td>\n",
       "      <td>43</td>\n",
       "      <td>20</td>\n",
       "      <td>10</td>\n",
       "      <td>26</td>\n",
       "    </tr>\n",
       "    <tr>\n",
       "      <th>H_ML</th>\n",
       "      <td>-200</td>\n",
       "      <td>105</td>\n",
       "      <td>-200</td>\n",
       "      <td>180</td>\n",
       "      <td>-130</td>\n",
       "    </tr>\n",
       "    <tr>\n",
       "      <th>V_ML</th>\n",
       "      <td>170</td>\n",
       "      <td>-125</td>\n",
       "      <td>170</td>\n",
       "      <td>-220</td>\n",
       "      <td>110</td>\n",
       "    </tr>\n",
       "    <tr>\n",
       "      <th>ML_Fav</th>\n",
       "      <td>H</td>\n",
       "      <td>V</td>\n",
       "      <td>H</td>\n",
       "      <td>V</td>\n",
       "      <td>H</td>\n",
       "    </tr>\n",
       "    <tr>\n",
       "      <th>Open_Fav</th>\n",
       "      <td>H</td>\n",
       "      <td>H</td>\n",
       "      <td>H</td>\n",
       "      <td>V</td>\n",
       "      <td>H</td>\n",
       "    </tr>\n",
       "    <tr>\n",
       "      <th>Open_OU</th>\n",
       "      <td>47.5</td>\n",
       "      <td>51</td>\n",
       "      <td>47.5</td>\n",
       "      <td>46.5</td>\n",
       "      <td>46.5</td>\n",
       "    </tr>\n",
       "    <tr>\n",
       "      <th>Open_Spread</th>\n",
       "      <td>6</td>\n",
       "      <td>1</td>\n",
       "      <td>4.5</td>\n",
       "      <td>3.5</td>\n",
       "      <td>1</td>\n",
       "    </tr>\n",
       "    <tr>\n",
       "      <th>Close_Fav</th>\n",
       "      <td>H</td>\n",
       "      <td>V</td>\n",
       "      <td>H</td>\n",
       "      <td>V</td>\n",
       "      <td>H</td>\n",
       "    </tr>\n",
       "    <tr>\n",
       "      <th>Close_OU</th>\n",
       "      <td>49.5</td>\n",
       "      <td>47.5</td>\n",
       "      <td>46.5</td>\n",
       "      <td>46.5</td>\n",
       "      <td>48</td>\n",
       "    </tr>\n",
       "    <tr>\n",
       "      <th>Close_Spread</th>\n",
       "      <td>4</td>\n",
       "      <td>2</td>\n",
       "      <td>4</td>\n",
       "      <td>4</td>\n",
       "      <td>2</td>\n",
       "    </tr>\n",
       "    <tr>\n",
       "      <th>2H_Fav</th>\n",
       "      <td>H</td>\n",
       "      <td>H</td>\n",
       "      <td>H</td>\n",
       "      <td>V</td>\n",
       "      <td>H</td>\n",
       "    </tr>\n",
       "    <tr>\n",
       "      <th>2H_OU</th>\n",
       "      <td>27.5</td>\n",
       "      <td>24.5</td>\n",
       "      <td>22</td>\n",
       "      <td>24</td>\n",
       "      <td>24</td>\n",
       "    </tr>\n",
       "    <tr>\n",
       "      <th>2H_Spread</th>\n",
       "      <td>7</td>\n",
       "      <td>2.5</td>\n",
       "      <td>0.5</td>\n",
       "      <td>4.5</td>\n",
       "      <td>2.5</td>\n",
       "    </tr>\n",
       "  </tbody>\n",
       "</table>\n",
       "</div>"
      ],
      "text/plain": [
       "                         0             1             2             3  \\\n",
       "game_id       201802040nwe  201712100ram  201709170kan  201712030sea   \n",
       "H_Final                 33            35            27            24   \n",
       "V_Final                 41            43            20            10   \n",
       "H_ML                  -200           105          -200           180   \n",
       "V_ML                   170          -125           170          -220   \n",
       "ML_Fav                   H             V             H             V   \n",
       "Open_Fav                 H             H             H             V   \n",
       "Open_OU               47.5            51          47.5          46.5   \n",
       "Open_Spread              6             1           4.5           3.5   \n",
       "Close_Fav                H             V             H             V   \n",
       "Close_OU              49.5          47.5          46.5          46.5   \n",
       "Close_Spread             4             2             4             4   \n",
       "2H_Fav                   H             H             H             V   \n",
       "2H_OU                 27.5          24.5            22            24   \n",
       "2H_Spread                7           2.5           0.5           4.5   \n",
       "\n",
       "                         4  \n",
       "game_id       201710010sdg  \n",
       "H_Final                 24  \n",
       "V_Final                 26  \n",
       "H_ML                  -130  \n",
       "V_ML                   110  \n",
       "ML_Fav                   H  \n",
       "Open_Fav                 H  \n",
       "Open_OU               46.5  \n",
       "Open_Spread              1  \n",
       "Close_Fav                H  \n",
       "Close_OU                48  \n",
       "Close_Spread             2  \n",
       "2H_Fav                   H  \n",
       "2H_OU                   24  \n",
       "2H_Spread              2.5  "
      ]
     },
     "execution_count": 98,
     "metadata": {},
     "output_type": "execute_result"
    }
   ],
   "source": [
    "line_df = games_lines_df[line_fields].drop_duplicates()\n",
    "line_sdf = cast_dtypes(line_df)\n",
    "## assert game ID is unique\n",
    "assert line_df['game_id'].value_counts().max() == 1\n",
    "line_df.head().T"
   ]
  },
  {
   "cell_type": "markdown",
   "metadata": {},
   "source": [
    "#### DVOA\n",
    "* primary key is (team, season)\n",
    "* joins with team_season and game"
   ]
  },
  {
   "cell_type": "code",
   "execution_count": 177,
   "metadata": {
    "ExecuteTime": {
     "end_time": "2018-11-19T04:23:19.015416Z",
     "start_time": "2018-11-19T04:23:18.980866Z"
    },
    "scrolled": true
   },
   "outputs": [
    {
     "data": {
      "text/plain": [
       "(5632, 9)"
      ]
     },
     "execution_count": 177,
     "metadata": {},
     "output_type": "execute_result"
    }
   ],
   "source": [
    "dvoa_df = pd.read_csv('dvoa/dvoa_alltime.csv', index_col='Unnamed: 0').loc[\n",
    "        :, ['DEFENSEDVOA','OFFENSEDVOA','S.T.DVOA','TEAM',\n",
    "            'TOTALDVOA','TOTAL DAVE','WEIGHTEDDVOA','Year','Week']\n",
    "    ].rename(\n",
    "        columns={'Year':'season', 'Week':'week','TEAM':'name'}\n",
    "    )\n",
    "## headers are in data from appending dataframes. filter them out\n",
    "dvoa_df = dvoa_df[~dvoa_df['OFFENSEDVOA'].str.contains('OFFENSE')]\n",
    "dvoa_df.shape"
   ]
  },
  {
   "cell_type": "code",
   "execution_count": 178,
   "metadata": {
    "ExecuteTime": {
     "end_time": "2018-11-19T04:23:20.037339Z",
     "start_time": "2018-11-19T04:23:20.028354Z"
    }
   },
   "outputs": [],
   "source": [
    "team_season_years = set(team_season_df['season'].value_counts().index)\n",
    "dvoa_years = set(dvoa_df['season'].value_counts().index)\n",
    "\n",
    "## assert years perfectly overlap\n",
    "assert team_season_years == dvoa_years"
   ]
  },
  {
   "cell_type": "code",
   "execution_count": 179,
   "metadata": {
    "ExecuteTime": {
     "end_time": "2018-11-19T04:23:20.291609Z",
     "start_time": "2018-11-19T04:23:20.281381Z"
    }
   },
   "outputs": [],
   "source": [
    "team_season_teams = set(team_season_df['name'].value_counts().index)\n",
    "dvoa_teams = set(dvoa_df['name'].value_counts().index)\n",
    "\n",
    "## assert years perfectly overlap\n",
    "assert team_season_teams == dvoa_teams"
   ]
  },
  {
   "cell_type": "code",
   "execution_count": 182,
   "metadata": {
    "ExecuteTime": {
     "end_time": "2018-11-19T04:24:35.323104Z",
     "start_time": "2018-11-19T04:24:35.298464Z"
    }
   },
   "outputs": [
    {
     "ename": "AssertionError",
     "evalue": "",
     "output_type": "error",
     "traceback": [
      "\u001b[0;31m---------------------------------------------------------------------------\u001b[0m",
      "\u001b[0;31mAssertionError\u001b[0m                            Traceback (most recent call last)",
      "\u001b[0;32m<ipython-input-182-2b7b29fcf509>\u001b[0m in \u001b[0;36m<module>\u001b[0;34m()\u001b[0m\n\u001b[1;32m      7\u001b[0m \u001b[0;34m\u001b[0m\u001b[0m\n\u001b[1;32m      8\u001b[0m \u001b[0;31m## assert that dvoa_df hits all joins with team_season_df\u001b[0m\u001b[0;34m\u001b[0m\u001b[0;34m\u001b[0m\u001b[0m\n\u001b[0;32m----> 9\u001b[0;31m \u001b[0;32massert\u001b[0m \u001b[0mdvoa_size\u001b[0m \u001b[0;34m==\u001b[0m \u001b[0mjoin_size\u001b[0m\u001b[0;34m\u001b[0m\u001b[0m\n\u001b[0m",
      "\u001b[0;31mAssertionError\u001b[0m: "
     ]
    }
   ],
   "source": [
    "#### assert that it joins cleanly with game table\n",
    "dvoa_size = dvoa_df.shape[0]\n",
    "team_season_size = team_season_df.shape[0]\n",
    "\n",
    "key = ['name','season']\n",
    "join_size = dvoa_df.merge(team_season_df, left_on=key, right_on=key).shape[0]\n",
    "\n",
    "## assert that dvoa_df hits all joins with team_season_df\n",
    "assert dvoa_size == join_size"
   ]
  },
  {
   "cell_type": "markdown",
   "metadata": {},
   "source": [
    "TODO: week 4 of 2008 has names missing. probably HTML issue\n",
    "* resolve the above assertion when done"
   ]
  },
  {
   "cell_type": "code",
   "execution_count": 181,
   "metadata": {
    "ExecuteTime": {
     "end_time": "2018-11-19T04:23:22.218652Z",
     "start_time": "2018-11-19T04:23:22.153717Z"
    },
    "scrolled": true
   },
   "outputs": [
    {
     "data": {
      "text/html": [
       "<div>\n",
       "<style scoped>\n",
       "    .dataframe tbody tr th:only-of-type {\n",
       "        vertical-align: middle;\n",
       "    }\n",
       "\n",
       "    .dataframe tbody tr th {\n",
       "        vertical-align: top;\n",
       "    }\n",
       "\n",
       "    .dataframe thead th {\n",
       "        text-align: right;\n",
       "    }\n",
       "</style>\n",
       "<table border=\"1\" class=\"dataframe\">\n",
       "  <thead>\n",
       "    <tr style=\"text-align: right;\">\n",
       "      <th></th>\n",
       "      <th>DEFENSEDVOA</th>\n",
       "      <th>OFFENSEDVOA</th>\n",
       "      <th>S.T.DVOA</th>\n",
       "      <th>name</th>\n",
       "      <th>TOTALDVOA</th>\n",
       "      <th>TOTAL DAVE</th>\n",
       "      <th>WEIGHTEDDVOA</th>\n",
       "      <th>season</th>\n",
       "      <th>week</th>\n",
       "      <th>link</th>\n",
       "      <th>fullname</th>\n",
       "      <th>city</th>\n",
       "      <th>division</th>\n",
       "    </tr>\n",
       "  </thead>\n",
       "  <tbody>\n",
       "    <tr>\n",
       "      <th>608</th>\n",
       "      <td>-52.9%</td>\n",
       "      <td>8.9%</td>\n",
       "      <td>-1.2%</td>\n",
       "      <td>NaN</td>\n",
       "      <td>60.6%</td>\n",
       "      <td>20.4%</td>\n",
       "      <td>NaN</td>\n",
       "      <td>2008</td>\n",
       "      <td>4</td>\n",
       "      <td>NaN</td>\n",
       "      <td>NaN</td>\n",
       "      <td>NaN</td>\n",
       "      <td>NaN</td>\n",
       "    </tr>\n",
       "    <tr>\n",
       "      <th>609</th>\n",
       "      <td>-8.1%</td>\n",
       "      <td>29.4%</td>\n",
       "      <td>4.6%</td>\n",
       "      <td>NaN</td>\n",
       "      <td>42.1%</td>\n",
       "      <td>22.3%</td>\n",
       "      <td>NaN</td>\n",
       "      <td>2008</td>\n",
       "      <td>4</td>\n",
       "      <td>NaN</td>\n",
       "      <td>NaN</td>\n",
       "      <td>NaN</td>\n",
       "      <td>NaN</td>\n",
       "    </tr>\n",
       "    <tr>\n",
       "      <th>610</th>\n",
       "      <td>-26.9%</td>\n",
       "      <td>11.4%</td>\n",
       "      <td>0.2%</td>\n",
       "      <td>NaN</td>\n",
       "      <td>38.5%</td>\n",
       "      <td>36.4%</td>\n",
       "      <td>NaN</td>\n",
       "      <td>2008</td>\n",
       "      <td>4</td>\n",
       "      <td>NaN</td>\n",
       "      <td>NaN</td>\n",
       "      <td>NaN</td>\n",
       "      <td>NaN</td>\n",
       "    </tr>\n",
       "    <tr>\n",
       "      <th>611</th>\n",
       "      <td>-39.3%</td>\n",
       "      <td>-0.3%</td>\n",
       "      <td>-4.2%</td>\n",
       "      <td>NaN</td>\n",
       "      <td>34.7%</td>\n",
       "      <td>19.8%</td>\n",
       "      <td>NaN</td>\n",
       "      <td>2008</td>\n",
       "      <td>4</td>\n",
       "      <td>NaN</td>\n",
       "      <td>NaN</td>\n",
       "      <td>NaN</td>\n",
       "      <td>NaN</td>\n",
       "    </tr>\n",
       "    <tr>\n",
       "      <th>612</th>\n",
       "      <td>-26.4%</td>\n",
       "      <td>-3.9%</td>\n",
       "      <td>1.3%</td>\n",
       "      <td>NaN</td>\n",
       "      <td>23.8%</td>\n",
       "      <td>22.2%</td>\n",
       "      <td>NaN</td>\n",
       "      <td>2008</td>\n",
       "      <td>4</td>\n",
       "      <td>NaN</td>\n",
       "      <td>NaN</td>\n",
       "      <td>NaN</td>\n",
       "      <td>NaN</td>\n",
       "    </tr>\n",
       "    <tr>\n",
       "      <th>613</th>\n",
       "      <td>-10.6%</td>\n",
       "      <td>7.7%</td>\n",
       "      <td>5.1%</td>\n",
       "      <td>NaN</td>\n",
       "      <td>23.4%</td>\n",
       "      <td>8.2%</td>\n",
       "      <td>NaN</td>\n",
       "      <td>2008</td>\n",
       "      <td>4</td>\n",
       "      <td>NaN</td>\n",
       "      <td>NaN</td>\n",
       "      <td>NaN</td>\n",
       "      <td>NaN</td>\n",
       "    </tr>\n",
       "    <tr>\n",
       "      <th>614</th>\n",
       "      <td>-1.1%</td>\n",
       "      <td>25.7%</td>\n",
       "      <td>-3.8%</td>\n",
       "      <td>NaN</td>\n",
       "      <td>23.0%</td>\n",
       "      <td>10.1%</td>\n",
       "      <td>NaN</td>\n",
       "      <td>2008</td>\n",
       "      <td>4</td>\n",
       "      <td>NaN</td>\n",
       "      <td>NaN</td>\n",
       "      <td>NaN</td>\n",
       "      <td>NaN</td>\n",
       "    </tr>\n",
       "    <tr>\n",
       "      <th>615</th>\n",
       "      <td>11.8%</td>\n",
       "      <td>31.8%</td>\n",
       "      <td>-0.3%</td>\n",
       "      <td>NaN</td>\n",
       "      <td>19.8%</td>\n",
       "      <td>16.5%</td>\n",
       "      <td>NaN</td>\n",
       "      <td>2008</td>\n",
       "      <td>4</td>\n",
       "      <td>NaN</td>\n",
       "      <td>NaN</td>\n",
       "      <td>NaN</td>\n",
       "      <td>NaN</td>\n",
       "    </tr>\n",
       "    <tr>\n",
       "      <th>616</th>\n",
       "      <td>-21.0%</td>\n",
       "      <td>-6.9%</td>\n",
       "      <td>2.1%</td>\n",
       "      <td>NaN</td>\n",
       "      <td>16.2%</td>\n",
       "      <td>10.9%</td>\n",
       "      <td>NaN</td>\n",
       "      <td>2008</td>\n",
       "      <td>4</td>\n",
       "      <td>NaN</td>\n",
       "      <td>NaN</td>\n",
       "      <td>NaN</td>\n",
       "      <td>NaN</td>\n",
       "    </tr>\n",
       "    <tr>\n",
       "      <th>617</th>\n",
       "      <td>3.5%</td>\n",
       "      <td>18.3%</td>\n",
       "      <td>0.3%</td>\n",
       "      <td>NaN</td>\n",
       "      <td>15.1%</td>\n",
       "      <td>19.7%</td>\n",
       "      <td>NaN</td>\n",
       "      <td>2008</td>\n",
       "      <td>4</td>\n",
       "      <td>NaN</td>\n",
       "      <td>NaN</td>\n",
       "      <td>NaN</td>\n",
       "      <td>NaN</td>\n",
       "    </tr>\n",
       "    <tr>\n",
       "      <th>618</th>\n",
       "      <td>-7.2%</td>\n",
       "      <td>-4.6%</td>\n",
       "      <td>5.6%</td>\n",
       "      <td>NaN</td>\n",
       "      <td>8.3%</td>\n",
       "      <td>4.1%</td>\n",
       "      <td>NaN</td>\n",
       "      <td>2008</td>\n",
       "      <td>4</td>\n",
       "      <td>NaN</td>\n",
       "      <td>NaN</td>\n",
       "      <td>NaN</td>\n",
       "      <td>NaN</td>\n",
       "    </tr>\n",
       "    <tr>\n",
       "      <th>619</th>\n",
       "      <td>1.1%</td>\n",
       "      <td>8.2%</td>\n",
       "      <td>1.1%</td>\n",
       "      <td>NaN</td>\n",
       "      <td>8.3%</td>\n",
       "      <td>6.7%</td>\n",
       "      <td>NaN</td>\n",
       "      <td>2008</td>\n",
       "      <td>4</td>\n",
       "      <td>NaN</td>\n",
       "      <td>NaN</td>\n",
       "      <td>NaN</td>\n",
       "      <td>NaN</td>\n",
       "    </tr>\n",
       "    <tr>\n",
       "      <th>620</th>\n",
       "      <td>10.4%</td>\n",
       "      <td>11.0%</td>\n",
       "      <td>4.6%</td>\n",
       "      <td>NaN</td>\n",
       "      <td>5.3%</td>\n",
       "      <td>-13.1%</td>\n",
       "      <td>NaN</td>\n",
       "      <td>2008</td>\n",
       "      <td>4</td>\n",
       "      <td>NaN</td>\n",
       "      <td>NaN</td>\n",
       "      <td>NaN</td>\n",
       "      <td>NaN</td>\n",
       "    </tr>\n",
       "    <tr>\n",
       "      <th>621</th>\n",
       "      <td>12.5%</td>\n",
       "      <td>19.4%</td>\n",
       "      <td>-2.6%</td>\n",
       "      <td>NaN</td>\n",
       "      <td>4.3%</td>\n",
       "      <td>2.9%</td>\n",
       "      <td>NaN</td>\n",
       "      <td>2008</td>\n",
       "      <td>4</td>\n",
       "      <td>NaN</td>\n",
       "      <td>NaN</td>\n",
       "      <td>NaN</td>\n",
       "      <td>NaN</td>\n",
       "    </tr>\n",
       "    <tr>\n",
       "      <th>622</th>\n",
       "      <td>21.9%</td>\n",
       "      <td>31.1%</td>\n",
       "      <td>-5.0%</td>\n",
       "      <td>NaN</td>\n",
       "      <td>4.2%</td>\n",
       "      <td>3.7%</td>\n",
       "      <td>NaN</td>\n",
       "      <td>2008</td>\n",
       "      <td>4</td>\n",
       "      <td>NaN</td>\n",
       "      <td>NaN</td>\n",
       "      <td>NaN</td>\n",
       "      <td>NaN</td>\n",
       "    </tr>\n",
       "    <tr>\n",
       "      <th>623</th>\n",
       "      <td>5.1%</td>\n",
       "      <td>11.9%</td>\n",
       "      <td>-3.4%</td>\n",
       "      <td>NaN</td>\n",
       "      <td>3.5%</td>\n",
       "      <td>1.6%</td>\n",
       "      <td>NaN</td>\n",
       "      <td>2008</td>\n",
       "      <td>4</td>\n",
       "      <td>NaN</td>\n",
       "      <td>NaN</td>\n",
       "      <td>NaN</td>\n",
       "      <td>NaN</td>\n",
       "    </tr>\n",
       "    <tr>\n",
       "      <th>624</th>\n",
       "      <td>-8.8%</td>\n",
       "      <td>-8.7%</td>\n",
       "      <td>2.5%</td>\n",
       "      <td>NaN</td>\n",
       "      <td>2.7%</td>\n",
       "      <td>16.2%</td>\n",
       "      <td>NaN</td>\n",
       "      <td>2008</td>\n",
       "      <td>4</td>\n",
       "      <td>NaN</td>\n",
       "      <td>NaN</td>\n",
       "      <td>NaN</td>\n",
       "      <td>NaN</td>\n",
       "    </tr>\n",
       "    <tr>\n",
       "      <th>625</th>\n",
       "      <td>-4.1%</td>\n",
       "      <td>-5.2%</td>\n",
       "      <td>2.8%</td>\n",
       "      <td>NaN</td>\n",
       "      <td>1.7%</td>\n",
       "      <td>-10.1%</td>\n",
       "      <td>NaN</td>\n",
       "      <td>2008</td>\n",
       "      <td>4</td>\n",
       "      <td>NaN</td>\n",
       "      <td>NaN</td>\n",
       "      <td>NaN</td>\n",
       "      <td>NaN</td>\n",
       "    </tr>\n",
       "    <tr>\n",
       "      <th>626</th>\n",
       "      <td>0.5%</td>\n",
       "      <td>9.5%</td>\n",
       "      <td>-7.8%</td>\n",
       "      <td>NaN</td>\n",
       "      <td>1.1%</td>\n",
       "      <td>-11.2%</td>\n",
       "      <td>NaN</td>\n",
       "      <td>2008</td>\n",
       "      <td>4</td>\n",
       "      <td>NaN</td>\n",
       "      <td>NaN</td>\n",
       "      <td>NaN</td>\n",
       "      <td>NaN</td>\n",
       "    </tr>\n",
       "    <tr>\n",
       "      <th>627</th>\n",
       "      <td>-6.7%</td>\n",
       "      <td>-0.2%</td>\n",
       "      <td>-7.3%</td>\n",
       "      <td>NaN</td>\n",
       "      <td>-0.7%</td>\n",
       "      <td>9.0%</td>\n",
       "      <td>NaN</td>\n",
       "      <td>2008</td>\n",
       "      <td>4</td>\n",
       "      <td>NaN</td>\n",
       "      <td>NaN</td>\n",
       "      <td>NaN</td>\n",
       "      <td>NaN</td>\n",
       "    </tr>\n",
       "    <tr>\n",
       "      <th>628</th>\n",
       "      <td>-3.7%</td>\n",
       "      <td>0.7%</td>\n",
       "      <td>-5.3%</td>\n",
       "      <td>NaN</td>\n",
       "      <td>-0.9%</td>\n",
       "      <td>8.1%</td>\n",
       "      <td>NaN</td>\n",
       "      <td>2008</td>\n",
       "      <td>4</td>\n",
       "      <td>NaN</td>\n",
       "      <td>NaN</td>\n",
       "      <td>NaN</td>\n",
       "      <td>NaN</td>\n",
       "    </tr>\n",
       "    <tr>\n",
       "      <th>629</th>\n",
       "      <td>-0.9%</td>\n",
       "      <td>-9.8%</td>\n",
       "      <td>7.6%</td>\n",
       "      <td>NaN</td>\n",
       "      <td>-1.4%</td>\n",
       "      <td>-10.3%</td>\n",
       "      <td>NaN</td>\n",
       "      <td>2008</td>\n",
       "      <td>4</td>\n",
       "      <td>NaN</td>\n",
       "      <td>NaN</td>\n",
       "      <td>NaN</td>\n",
       "      <td>NaN</td>\n",
       "    </tr>\n",
       "    <tr>\n",
       "      <th>630</th>\n",
       "      <td>6.5%</td>\n",
       "      <td>1.3%</td>\n",
       "      <td>-0.5%</td>\n",
       "      <td>NaN</td>\n",
       "      <td>-5.6%</td>\n",
       "      <td>-5.4%</td>\n",
       "      <td>NaN</td>\n",
       "      <td>2008</td>\n",
       "      <td>4</td>\n",
       "      <td>NaN</td>\n",
       "      <td>NaN</td>\n",
       "      <td>NaN</td>\n",
       "      <td>NaN</td>\n",
       "    </tr>\n",
       "    <tr>\n",
       "      <th>631</th>\n",
       "      <td>17.5%</td>\n",
       "      <td>5.0%</td>\n",
       "      <td>6.3%</td>\n",
       "      <td>NaN</td>\n",
       "      <td>-6.2%</td>\n",
       "      <td>0.5%</td>\n",
       "      <td>NaN</td>\n",
       "      <td>2008</td>\n",
       "      <td>4</td>\n",
       "      <td>NaN</td>\n",
       "      <td>NaN</td>\n",
       "      <td>NaN</td>\n",
       "      <td>NaN</td>\n",
       "    </tr>\n",
       "    <tr>\n",
       "      <th>632</th>\n",
       "      <td>10.6%</td>\n",
       "      <td>1.9%</td>\n",
       "      <td>-4.1%</td>\n",
       "      <td>NaN</td>\n",
       "      <td>-12.8%</td>\n",
       "      <td>0.1%</td>\n",
       "      <td>NaN</td>\n",
       "      <td>2008</td>\n",
       "      <td>4</td>\n",
       "      <td>NaN</td>\n",
       "      <td>NaN</td>\n",
       "      <td>NaN</td>\n",
       "      <td>NaN</td>\n",
       "    </tr>\n",
       "    <tr>\n",
       "      <th>633</th>\n",
       "      <td>20.4%</td>\n",
       "      <td>-5.7%</td>\n",
       "      <td>11.4%</td>\n",
       "      <td>NaN</td>\n",
       "      <td>-14.7%</td>\n",
       "      <td>6.7%</td>\n",
       "      <td>NaN</td>\n",
       "      <td>2008</td>\n",
       "      <td>4</td>\n",
       "      <td>NaN</td>\n",
       "      <td>NaN</td>\n",
       "      <td>NaN</td>\n",
       "      <td>NaN</td>\n",
       "    </tr>\n",
       "    <tr>\n",
       "      <th>634</th>\n",
       "      <td>5.7%</td>\n",
       "      <td>-25.0%</td>\n",
       "      <td>6.2%</td>\n",
       "      <td>NaN</td>\n",
       "      <td>-24.5%</td>\n",
       "      <td>-20.0%</td>\n",
       "      <td>NaN</td>\n",
       "      <td>2008</td>\n",
       "      <td>4</td>\n",
       "      <td>NaN</td>\n",
       "      <td>NaN</td>\n",
       "      <td>NaN</td>\n",
       "      <td>NaN</td>\n",
       "    </tr>\n",
       "    <tr>\n",
       "      <th>635</th>\n",
       "      <td>9.7%</td>\n",
       "      <td>-27.8%</td>\n",
       "      <td>-2.9%</td>\n",
       "      <td>NaN</td>\n",
       "      <td>-40.5%</td>\n",
       "      <td>-25.1%</td>\n",
       "      <td>NaN</td>\n",
       "      <td>2008</td>\n",
       "      <td>4</td>\n",
       "      <td>NaN</td>\n",
       "      <td>NaN</td>\n",
       "      <td>NaN</td>\n",
       "      <td>NaN</td>\n",
       "    </tr>\n",
       "    <tr>\n",
       "      <th>636</th>\n",
       "      <td>34.6%</td>\n",
       "      <td>-9.2%</td>\n",
       "      <td>-2.2%</td>\n",
       "      <td>NaN</td>\n",
       "      <td>-46.0%</td>\n",
       "      <td>-22.3%</td>\n",
       "      <td>NaN</td>\n",
       "      <td>2008</td>\n",
       "      <td>4</td>\n",
       "      <td>NaN</td>\n",
       "      <td>NaN</td>\n",
       "      <td>NaN</td>\n",
       "      <td>NaN</td>\n",
       "    </tr>\n",
       "    <tr>\n",
       "      <th>637</th>\n",
       "      <td>14.3%</td>\n",
       "      <td>-29.5%</td>\n",
       "      <td>-3.3%</td>\n",
       "      <td>NaN</td>\n",
       "      <td>-47.0%</td>\n",
       "      <td>-34.9%</td>\n",
       "      <td>NaN</td>\n",
       "      <td>2008</td>\n",
       "      <td>4</td>\n",
       "      <td>NaN</td>\n",
       "      <td>NaN</td>\n",
       "      <td>NaN</td>\n",
       "      <td>NaN</td>\n",
       "    </tr>\n",
       "    <tr>\n",
       "      <th>638</th>\n",
       "      <td>41.4%</td>\n",
       "      <td>-18.1%</td>\n",
       "      <td>-1.0%</td>\n",
       "      <td>NaN</td>\n",
       "      <td>-60.4%</td>\n",
       "      <td>-47.2%</td>\n",
       "      <td>NaN</td>\n",
       "      <td>2008</td>\n",
       "      <td>4</td>\n",
       "      <td>NaN</td>\n",
       "      <td>NaN</td>\n",
       "      <td>NaN</td>\n",
       "      <td>NaN</td>\n",
       "    </tr>\n",
       "    <tr>\n",
       "      <th>639</th>\n",
       "      <td>55.9%</td>\n",
       "      <td>-12.9%</td>\n",
       "      <td>1.6%</td>\n",
       "      <td>NaN</td>\n",
       "      <td>-67.2%</td>\n",
       "      <td>-42.2%</td>\n",
       "      <td>NaN</td>\n",
       "      <td>2008</td>\n",
       "      <td>4</td>\n",
       "      <td>NaN</td>\n",
       "      <td>NaN</td>\n",
       "      <td>NaN</td>\n",
       "      <td>NaN</td>\n",
       "    </tr>\n",
       "  </tbody>\n",
       "</table>\n",
       "</div>"
      ],
      "text/plain": [
       "    DEFENSEDVOA OFFENSEDVOA S.T.DVOA name TOTALDVOA TOTAL DAVE WEIGHTEDDVOA  \\\n",
       "608     -52.9%        8.9%    -1.2%   NaN    60.6%      20.4%           NaN   \n",
       "609      -8.1%       29.4%     4.6%   NaN    42.1%      22.3%           NaN   \n",
       "610     -26.9%       11.4%     0.2%   NaN    38.5%      36.4%           NaN   \n",
       "611     -39.3%       -0.3%    -4.2%   NaN    34.7%      19.8%           NaN   \n",
       "612     -26.4%       -3.9%     1.3%   NaN    23.8%      22.2%           NaN   \n",
       "613     -10.6%        7.7%     5.1%   NaN    23.4%       8.2%           NaN   \n",
       "614      -1.1%       25.7%    -3.8%   NaN    23.0%      10.1%           NaN   \n",
       "615      11.8%       31.8%    -0.3%   NaN    19.8%      16.5%           NaN   \n",
       "616     -21.0%       -6.9%     2.1%   NaN    16.2%      10.9%           NaN   \n",
       "617       3.5%       18.3%     0.3%   NaN    15.1%      19.7%           NaN   \n",
       "618      -7.2%       -4.6%     5.6%   NaN     8.3%       4.1%           NaN   \n",
       "619       1.1%        8.2%     1.1%   NaN     8.3%       6.7%           NaN   \n",
       "620      10.4%       11.0%     4.6%   NaN     5.3%     -13.1%           NaN   \n",
       "621      12.5%       19.4%    -2.6%   NaN     4.3%       2.9%           NaN   \n",
       "622      21.9%       31.1%    -5.0%   NaN     4.2%       3.7%           NaN   \n",
       "623       5.1%       11.9%    -3.4%   NaN     3.5%       1.6%           NaN   \n",
       "624      -8.8%       -8.7%     2.5%   NaN     2.7%      16.2%           NaN   \n",
       "625      -4.1%       -5.2%     2.8%   NaN     1.7%     -10.1%           NaN   \n",
       "626       0.5%        9.5%    -7.8%   NaN     1.1%     -11.2%           NaN   \n",
       "627      -6.7%       -0.2%    -7.3%   NaN    -0.7%       9.0%           NaN   \n",
       "628      -3.7%        0.7%    -5.3%   NaN    -0.9%       8.1%           NaN   \n",
       "629      -0.9%       -9.8%     7.6%   NaN    -1.4%     -10.3%           NaN   \n",
       "630       6.5%        1.3%    -0.5%   NaN    -5.6%      -5.4%           NaN   \n",
       "631      17.5%        5.0%     6.3%   NaN    -6.2%       0.5%           NaN   \n",
       "632      10.6%        1.9%    -4.1%   NaN   -12.8%       0.1%           NaN   \n",
       "633      20.4%       -5.7%    11.4%   NaN   -14.7%       6.7%           NaN   \n",
       "634       5.7%      -25.0%     6.2%   NaN   -24.5%     -20.0%           NaN   \n",
       "635       9.7%      -27.8%    -2.9%   NaN   -40.5%     -25.1%           NaN   \n",
       "636      34.6%       -9.2%    -2.2%   NaN   -46.0%     -22.3%           NaN   \n",
       "637      14.3%      -29.5%    -3.3%   NaN   -47.0%     -34.9%           NaN   \n",
       "638      41.4%      -18.1%    -1.0%   NaN   -60.4%     -47.2%           NaN   \n",
       "639      55.9%      -12.9%     1.6%   NaN   -67.2%     -42.2%           NaN   \n",
       "\n",
       "     season  week link fullname city division  \n",
       "608    2008     4  NaN      NaN  NaN      NaN  \n",
       "609    2008     4  NaN      NaN  NaN      NaN  \n",
       "610    2008     4  NaN      NaN  NaN      NaN  \n",
       "611    2008     4  NaN      NaN  NaN      NaN  \n",
       "612    2008     4  NaN      NaN  NaN      NaN  \n",
       "613    2008     4  NaN      NaN  NaN      NaN  \n",
       "614    2008     4  NaN      NaN  NaN      NaN  \n",
       "615    2008     4  NaN      NaN  NaN      NaN  \n",
       "616    2008     4  NaN      NaN  NaN      NaN  \n",
       "617    2008     4  NaN      NaN  NaN      NaN  \n",
       "618    2008     4  NaN      NaN  NaN      NaN  \n",
       "619    2008     4  NaN      NaN  NaN      NaN  \n",
       "620    2008     4  NaN      NaN  NaN      NaN  \n",
       "621    2008     4  NaN      NaN  NaN      NaN  \n",
       "622    2008     4  NaN      NaN  NaN      NaN  \n",
       "623    2008     4  NaN      NaN  NaN      NaN  \n",
       "624    2008     4  NaN      NaN  NaN      NaN  \n",
       "625    2008     4  NaN      NaN  NaN      NaN  \n",
       "626    2008     4  NaN      NaN  NaN      NaN  \n",
       "627    2008     4  NaN      NaN  NaN      NaN  \n",
       "628    2008     4  NaN      NaN  NaN      NaN  \n",
       "629    2008     4  NaN      NaN  NaN      NaN  \n",
       "630    2008     4  NaN      NaN  NaN      NaN  \n",
       "631    2008     4  NaN      NaN  NaN      NaN  \n",
       "632    2008     4  NaN      NaN  NaN      NaN  \n",
       "633    2008     4  NaN      NaN  NaN      NaN  \n",
       "634    2008     4  NaN      NaN  NaN      NaN  \n",
       "635    2008     4  NaN      NaN  NaN      NaN  \n",
       "636    2008     4  NaN      NaN  NaN      NaN  \n",
       "637    2008     4  NaN      NaN  NaN      NaN  \n",
       "638    2008     4  NaN      NaN  NaN      NaN  \n",
       "639    2008     4  NaN      NaN  NaN      NaN  "
      ]
     },
     "execution_count": 181,
     "metadata": {},
     "output_type": "execute_result"
    }
   ],
   "source": [
    "tmp = dvoa_df.merge(team_season_df, left_on=key, right_on=key, how='left')\n",
    "tmp[tmp['link'].isnull()]"
   ]
  },
  {
   "cell_type": "markdown",
   "metadata": {
    "ExecuteTime": {
     "end_time": "2018-11-19T04:25:36.319306Z",
     "start_time": "2018-11-19T04:25:36.314193Z"
    }
   },
   "source": [
    "### Write as Spark Tabes\n",
    "* DVOA still left to do"
   ]
  },
  {
   "cell_type": "code",
   "execution_count": 99,
   "metadata": {
    "ExecuteTime": {
     "end_time": "2018-11-19T04:43:42.381308Z",
     "start_time": "2018-11-19T04:43:41.320565Z"
    }
   },
   "outputs": [],
   "source": [
    "spark.createDataFrame(game_sdf).write.mode('overwrite').saveAsTable('game')\n",
    "spark.createDataFrame(team_season_sdf).write.mode('overwrite').saveAsTable('team_season')\n",
    "spark.createDataFrame(coach_sdf).write.mode('overwrite').saveAsTable('coach')\n",
    "spark.createDataFrame(stadium_sdf).write.mode('overwrite').saveAsTable('stadium')\n",
    "spark.createDataFrame(line_sdf).write.mode('overwrite').saveAsTable('line')\n",
    "## dvoa"
   ]
  },
  {
   "cell_type": "markdown",
   "metadata": {},
   "source": [
    "#### Examples of quick plotting via spark tables"
   ]
  },
  {
   "cell_type": "code",
   "execution_count": 106,
   "metadata": {
    "ExecuteTime": {
     "end_time": "2018-11-19T04:47:57.734391Z",
     "start_time": "2018-11-19T04:47:56.937342Z"
    }
   },
   "outputs": [
    {
     "data": {
      "text/plain": [
       "<matplotlib.axes._subplots.AxesSubplot at 0x1089f0550>"
      ]
     },
     "execution_count": 106,
     "metadata": {},
     "output_type": "execute_result"
    },
    {
     "data": {
      "image/png": "[encoded data removed]",
      "text/plain": [
       "<Figure size 1152x576 with 1 Axes>"
      ]
     },
     "metadata": {},
     "output_type": "display_data"
    }
   ],
   "source": [
    "spark.table('line')\\\n",
    "    .groupby('Close_Spread')\\\n",
    "    .count()\\\n",
    "    .toPandas()\\\n",
    "    .set_index('Close_Spread')\\\n",
    "    .sort_index()\\\n",
    "    .plot(\n",
    "        kind='bar', figsize=(16,8), color='#99d8c9', rot=0,\n",
    "        title='Counts of Spread Magnitude'\n",
    "    )"
   ]
  },
  {
   "cell_type": "code",
   "execution_count": 109,
   "metadata": {
    "ExecuteTime": {
     "end_time": "2018-11-19T04:49:43.750889Z",
     "start_time": "2018-11-19T04:49:41.833297Z"
    }
   },
   "outputs": [
    {
     "name": "stderr",
     "output_type": "stream",
     "text": [
      "/Users/jplotkin/anaconda2/lib/python2.7/site-packages/pandas/plotting/_core.py:186: UserWarning: 'colors' is being deprecated. Please use 'color'instead of 'colors'\n",
      "  warnings.warn((\"'colors' is being deprecated. Please use 'color'\"\n"
     ]
    },
    {
     "data": {
      "text/plain": [
       "<matplotlib.axes._subplots.AxesSubplot at 0x107a156d0>"
      ]
     },
     "execution_count": 109,
     "metadata": {},
     "output_type": "execute_result"
    },
    {
     "data": {
      "image/png": "[encoded data removed]",
      "text/plain": [
       "<Figure size 1152x576 with 1 Axes>"
      ]
     },
     "metadata": {},
     "output_type": "display_data"
    }
   ],
   "source": [
    "spark.table('line')\\\n",
    "    .groupby('Close_Spread')\\\n",
    "    .pivot('Close_Fav')\\\n",
    "    .count()\\\n",
    "    .toPandas()\\\n",
    "    .set_index('Close_Spread')\\\n",
    "    .sort_index()\\\n",
    "    .plot(\n",
    "        kind='bar', figsize=(16,8), colors=['#af8dc3','#7fbf7b'], rot=0,\n",
    "        title='Distributions of Home and Away Spreads'\n",
    "    )"
   ]
  },
  {
   "cell_type": "code",
   "execution_count": null,
   "metadata": {},
   "outputs": [],
   "source": []
  }
 ],
 "metadata": {
  "kernelspec": {
   "display_name": "Python 2",
   "language": "python",
   "name": "python2"
  },
  "language_info": {
   "codemirror_mode": {
    "name": "ipython",
    "version": 2
   },
   "file_extension": ".py",
   "mimetype": "text/x-python",
   "name": "python",
   "nbconvert_exporter": "python",
   "pygments_lexer": "ipython2",
   "version": "2.7.14"
  },
  "toc": {
   "base_numbering": 1,
   "nav_menu": {},
   "number_sections": true,
   "sideBar": true,
   "skip_h1_title": false,
   "title_cell": "Table of Contents",
   "title_sidebar": "Contents",
   "toc_cell": false,
   "toc_position": {
    "height": "calc(100% - 180px)",
    "left": "10px",
    "top": "150px",
    "width": "336px"
   },
   "toc_section_display": true,
   "toc_window_display": true
  }
 },
 "nbformat": 4,
 "nbformat_minor": 2
}
